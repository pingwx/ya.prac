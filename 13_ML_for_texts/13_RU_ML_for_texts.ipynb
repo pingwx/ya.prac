{
  "cells": [
    {
      "cell_type": "markdown",
      "metadata": {
        "id": "view-in-github",
        "colab_type": "text"
      },
      "source": [
        "<a href=\"https://colab.research.google.com/github/pingwx/ya.prac/blob/main/13_ML_for_texts/13_RU_ML_for_texts.ipynb\" target=\"_parent\"><img src=\"https://colab.research.google.com/assets/colab-badge.svg\" alt=\"Open In Colab\"/></a>"
      ]
    },
    {
      "cell_type": "markdown",
      "metadata": {
        "id": "R48iz-dtF5HO"
      },
      "source": [
        "# Проект для «Викишоп»"
      ]
    },
    {
      "cell_type": "markdown",
      "metadata": {
        "id": "CHpVWSS8F5HP"
      },
      "source": [
        "Интернет-магазин «Викишоп» запускает новый сервис. Теперь пользователи могут редактировать и дополнять описания товаров, как в вики-сообществах. То есть клиенты предлагают свои правки и комментируют изменения других. Магазину нужен инструмент, который будет искать токсичные комментарии и отправлять их на модерацию. В нашем распоряжении набор данных с разметкой о токсичности правок. Заказчик просит построить модель, классифицирующую комментарии на позитивные и негативные. Значение метрики качества *F1* должно быть не меньше 0.75\n",
        "\n",
        "**Описание данных**\n",
        "\n",
        "Данные находятся в файле `toxic_comments.csv`. Столбец *text* в нём содержит текст комментария, а *toxic* — целевой признак."
      ]
    },
    {
      "cell_type": "markdown",
      "metadata": {
        "id": "pMK60KylF5HQ"
      },
      "source": [
        "## Подготовка"
      ]
    },
    {
      "cell_type": "code",
      "execution_count": 1,
      "metadata": {
        "id": "Fz3vY3r_F5HQ"
      },
      "outputs": [],
      "source": [
        "import numpy as np\n",
        "import pandas as pd\n",
        "import re\n",
        "import nltk\n",
        "from nltk.corpus import stopwords as nltk_stopwords\n",
        "from sklearn.feature_extraction.text import TfidfVectorizer\n",
        "from sklearn.model_selection import train_test_split\n",
        "from sklearn.linear_model import LogisticRegression\n",
        "from sklearn.metrics import f1_score\n",
        "from sklearn.metrics import roc_curve\n",
        "import matplotlib.pyplot as plt"
      ]
    },
    {
      "cell_type": "markdown",
      "metadata": {
        "id": "JGBXwBJEF5HS"
      },
      "source": [
        "Откроем данные:"
      ]
    },
    {
      "cell_type": "code",
      "execution_count": 2,
      "metadata": {
        "id": "BATdAgjrF5HT",
        "outputId": "21165ac7-0bb1-4d86-995f-9bea1101fd1e",
        "colab": {
          "base_uri": "https://localhost:8080/"
        }
      },
      "outputs": [
        {
          "output_type": "stream",
          "name": "stdout",
          "text": [
            "<class 'pandas.core.frame.DataFrame'>\n",
            "RangeIndex: 159571 entries, 0 to 159570\n",
            "Data columns (total 2 columns):\n",
            " #   Column  Non-Null Count   Dtype \n",
            "---  ------  --------------   ----- \n",
            " 0   text    159571 non-null  object\n",
            " 1   toxic   159571 non-null  int64 \n",
            "dtypes: int64(1), object(1)\n",
            "memory usage: 2.4+ MB\n"
          ]
        }
      ],
      "source": [
        "URL = #your dataset here\n",
        "df_tweets = pd.read_csv(URL)\n",
        "df_tweets.info()"
      ]
    },
    {
      "cell_type": "markdown",
      "metadata": {
        "id": "cLPB4Y66F5HV"
      },
      "source": [
        "Посмотрим на примеры:"
      ]
    },
    {
      "cell_type": "code",
      "execution_count": 3,
      "metadata": {
        "id": "8F8NiTfoF5HW",
        "outputId": "e4878efb-72fe-4d6c-b565-08b40c8d8274",
        "colab": {
          "base_uri": "https://localhost:8080/",
          "height": 363
        }
      },
      "outputs": [
        {
          "output_type": "execute_result",
          "data": {
            "text/plain": [
              "                                                     text  toxic\n",
              "146790  Ahh shut the fuck up you douchebag sand nigger...      1\n",
              "2941    \"\\n\\nREPLY: There is no such thing as Texas Co...      0\n",
              "115087  Reply\\nHey, you could at least mention Jasenov...      0\n",
              "48830           Thats fine, there is no deadline )   chi?      0\n",
              "136034  \"\\n\\nDYK nomination of Mustarabim\\n Hello! You...      0\n",
              "121992  \"\\n\\nSockpuppetry case\\n \\nYou have been accus...      0\n",
              "37282   Judging by what I've just read in an article, ...      0\n",
              "64488   Todd and Copper\\nIn the first film they were l...      0\n",
              "16992   \"\\n\\n \\nYou have been blocked from editing for...      0\n",
              "138230  | decline=Can't find evidence of block either ...      0"
            ],
            "text/html": [
              "\n",
              "  <div id=\"df-dd7aea00-91a3-4ad6-8dd5-ecb7945f1b94\">\n",
              "    <div class=\"colab-df-container\">\n",
              "      <div>\n",
              "<style scoped>\n",
              "    .dataframe tbody tr th:only-of-type {\n",
              "        vertical-align: middle;\n",
              "    }\n",
              "\n",
              "    .dataframe tbody tr th {\n",
              "        vertical-align: top;\n",
              "    }\n",
              "\n",
              "    .dataframe thead th {\n",
              "        text-align: right;\n",
              "    }\n",
              "</style>\n",
              "<table border=\"1\" class=\"dataframe\">\n",
              "  <thead>\n",
              "    <tr style=\"text-align: right;\">\n",
              "      <th></th>\n",
              "      <th>text</th>\n",
              "      <th>toxic</th>\n",
              "    </tr>\n",
              "  </thead>\n",
              "  <tbody>\n",
              "    <tr>\n",
              "      <th>146790</th>\n",
              "      <td>Ahh shut the fuck up you douchebag sand nigger...</td>\n",
              "      <td>1</td>\n",
              "    </tr>\n",
              "    <tr>\n",
              "      <th>2941</th>\n",
              "      <td>\"\\n\\nREPLY: There is no such thing as Texas Co...</td>\n",
              "      <td>0</td>\n",
              "    </tr>\n",
              "    <tr>\n",
              "      <th>115087</th>\n",
              "      <td>Reply\\nHey, you could at least mention Jasenov...</td>\n",
              "      <td>0</td>\n",
              "    </tr>\n",
              "    <tr>\n",
              "      <th>48830</th>\n",
              "      <td>Thats fine, there is no deadline )   chi?</td>\n",
              "      <td>0</td>\n",
              "    </tr>\n",
              "    <tr>\n",
              "      <th>136034</th>\n",
              "      <td>\"\\n\\nDYK nomination of Mustarabim\\n Hello! You...</td>\n",
              "      <td>0</td>\n",
              "    </tr>\n",
              "    <tr>\n",
              "      <th>121992</th>\n",
              "      <td>\"\\n\\nSockpuppetry case\\n \\nYou have been accus...</td>\n",
              "      <td>0</td>\n",
              "    </tr>\n",
              "    <tr>\n",
              "      <th>37282</th>\n",
              "      <td>Judging by what I've just read in an article, ...</td>\n",
              "      <td>0</td>\n",
              "    </tr>\n",
              "    <tr>\n",
              "      <th>64488</th>\n",
              "      <td>Todd and Copper\\nIn the first film they were l...</td>\n",
              "      <td>0</td>\n",
              "    </tr>\n",
              "    <tr>\n",
              "      <th>16992</th>\n",
              "      <td>\"\\n\\n \\nYou have been blocked from editing for...</td>\n",
              "      <td>0</td>\n",
              "    </tr>\n",
              "    <tr>\n",
              "      <th>138230</th>\n",
              "      <td>| decline=Can't find evidence of block either ...</td>\n",
              "      <td>0</td>\n",
              "    </tr>\n",
              "  </tbody>\n",
              "</table>\n",
              "</div>\n",
              "      <button class=\"colab-df-convert\" onclick=\"convertToInteractive('df-dd7aea00-91a3-4ad6-8dd5-ecb7945f1b94')\"\n",
              "              title=\"Convert this dataframe to an interactive table.\"\n",
              "              style=\"display:none;\">\n",
              "        \n",
              "  <svg xmlns=\"http://www.w3.org/2000/svg\" height=\"24px\"viewBox=\"0 0 24 24\"\n",
              "       width=\"24px\">\n",
              "    <path d=\"M0 0h24v24H0V0z\" fill=\"none\"/>\n",
              "    <path d=\"M18.56 5.44l.94 2.06.94-2.06 2.06-.94-2.06-.94-.94-2.06-.94 2.06-2.06.94zm-11 1L8.5 8.5l.94-2.06 2.06-.94-2.06-.94L8.5 2.5l-.94 2.06-2.06.94zm10 10l.94 2.06.94-2.06 2.06-.94-2.06-.94-.94-2.06-.94 2.06-2.06.94z\"/><path d=\"M17.41 7.96l-1.37-1.37c-.4-.4-.92-.59-1.43-.59-.52 0-1.04.2-1.43.59L10.3 9.45l-7.72 7.72c-.78.78-.78 2.05 0 2.83L4 21.41c.39.39.9.59 1.41.59.51 0 1.02-.2 1.41-.59l7.78-7.78 2.81-2.81c.8-.78.8-2.07 0-2.86zM5.41 20L4 18.59l7.72-7.72 1.47 1.35L5.41 20z\"/>\n",
              "  </svg>\n",
              "      </button>\n",
              "      \n",
              "  <style>\n",
              "    .colab-df-container {\n",
              "      display:flex;\n",
              "      flex-wrap:wrap;\n",
              "      gap: 12px;\n",
              "    }\n",
              "\n",
              "    .colab-df-convert {\n",
              "      background-color: #E8F0FE;\n",
              "      border: none;\n",
              "      border-radius: 50%;\n",
              "      cursor: pointer;\n",
              "      display: none;\n",
              "      fill: #1967D2;\n",
              "      height: 32px;\n",
              "      padding: 0 0 0 0;\n",
              "      width: 32px;\n",
              "    }\n",
              "\n",
              "    .colab-df-convert:hover {\n",
              "      background-color: #E2EBFA;\n",
              "      box-shadow: 0px 1px 2px rgba(60, 64, 67, 0.3), 0px 1px 3px 1px rgba(60, 64, 67, 0.15);\n",
              "      fill: #174EA6;\n",
              "    }\n",
              "\n",
              "    [theme=dark] .colab-df-convert {\n",
              "      background-color: #3B4455;\n",
              "      fill: #D2E3FC;\n",
              "    }\n",
              "\n",
              "    [theme=dark] .colab-df-convert:hover {\n",
              "      background-color: #434B5C;\n",
              "      box-shadow: 0px 1px 3px 1px rgba(0, 0, 0, 0.15);\n",
              "      filter: drop-shadow(0px 1px 2px rgba(0, 0, 0, 0.3));\n",
              "      fill: #FFFFFF;\n",
              "    }\n",
              "  </style>\n",
              "\n",
              "      <script>\n",
              "        const buttonEl =\n",
              "          document.querySelector('#df-dd7aea00-91a3-4ad6-8dd5-ecb7945f1b94 button.colab-df-convert');\n",
              "        buttonEl.style.display =\n",
              "          google.colab.kernel.accessAllowed ? 'block' : 'none';\n",
              "\n",
              "        async function convertToInteractive(key) {\n",
              "          const element = document.querySelector('#df-dd7aea00-91a3-4ad6-8dd5-ecb7945f1b94');\n",
              "          const dataTable =\n",
              "            await google.colab.kernel.invokeFunction('convertToInteractive',\n",
              "                                                     [key], {});\n",
              "          if (!dataTable) return;\n",
              "\n",
              "          const docLinkHtml = 'Like what you see? Visit the ' +\n",
              "            '<a target=\"_blank\" href=https://colab.research.google.com/notebooks/data_table.ipynb>data table notebook</a>'\n",
              "            + ' to learn more about interactive tables.';\n",
              "          element.innerHTML = '';\n",
              "          dataTable['output_type'] = 'display_data';\n",
              "          await google.colab.output.renderOutput(dataTable, element);\n",
              "          const docLink = document.createElement('div');\n",
              "          docLink.innerHTML = docLinkHtml;\n",
              "          element.appendChild(docLink);\n",
              "        }\n",
              "      </script>\n",
              "    </div>\n",
              "  </div>\n",
              "  "
            ]
          },
          "metadata": {},
          "execution_count": 3
        }
      ],
      "source": [
        "df_tweets.sample(n=10, random_state=12345)"
      ]
    },
    {
      "cell_type": "markdown",
      "metadata": {
        "id": "Ep4GtvOBF5HW"
      },
      "source": [
        "Осуждаем комментарий 146790!!!!! Отмечаем, что комментарии на английском языке, и в них достаточно много лишних символов."
      ]
    },
    {
      "cell_type": "markdown",
      "metadata": {
        "id": "-pDbSIacF5HW"
      },
      "source": [
        "Посмотрим на баланс классов:"
      ]
    },
    {
      "cell_type": "code",
      "execution_count": 4,
      "metadata": {
        "id": "Yr1Cn-FbF5HX",
        "outputId": "047c04bd-895f-4044-a27d-4f17ac1e1526",
        "colab": {
          "base_uri": "https://localhost:8080/"
        }
      },
      "outputs": [
        {
          "output_type": "execute_result",
          "data": {
            "text/plain": [
              "0    143346\n",
              "1     16225\n",
              "Name: toxic, dtype: int64"
            ]
          },
          "metadata": {},
          "execution_count": 4
        }
      ],
      "source": [
        "df_tweets['toxic'].value_counts()"
      ]
    },
    {
      "cell_type": "markdown",
      "metadata": {
        "id": "c-P_WCJyF5HY"
      },
      "source": [
        "Видим, что классы крайне несбалансированы."
      ]
    },
    {
      "cell_type": "markdown",
      "metadata": {
        "id": "XFcKcSRYF5HY"
      },
      "source": [
        "Выполним предобработку текста, для этого определим функцию:"
      ]
    },
    {
      "cell_type": "code",
      "execution_count": 5,
      "metadata": {
        "id": "BMOx1I72F5HY"
      },
      "outputs": [],
      "source": [
        "def clear_text(text):\n",
        "    text = re.sub(r'[^a-zA-Z ]', ' ', text)\n",
        "    return ' '.join(text.split())"
      ]
    },
    {
      "cell_type": "markdown",
      "metadata": {
        "id": "uTPodO1kF5HZ"
      },
      "source": [
        "Очистим комментарии от лишних символов:"
      ]
    },
    {
      "cell_type": "code",
      "execution_count": 6,
      "metadata": {
        "id": "bgxjhOiUF5Ha"
      },
      "outputs": [],
      "source": [
        "df_tweets['cleared_text']  = df_tweets['text'].apply(clear_text)"
      ]
    },
    {
      "cell_type": "markdown",
      "metadata": {
        "id": "84l65HRNF5Ha"
      },
      "source": [
        "Загрузим стоп-слова (язык - английский)"
      ]
    },
    {
      "cell_type": "code",
      "execution_count": 7,
      "metadata": {
        "id": "pb9Rf4wRF5Ha",
        "outputId": "98b85347-27d1-47eb-952a-76ab284e6214",
        "colab": {
          "base_uri": "https://localhost:8080/"
        }
      },
      "outputs": [
        {
          "output_type": "stream",
          "name": "stderr",
          "text": [
            "[nltk_data] Downloading package stopwords to /root/nltk_data...\n",
            "[nltk_data]   Unzipping corpora/stopwords.zip.\n"
          ]
        }
      ],
      "source": [
        "nltk.download('stopwords')\n",
        "stopwords = set(nltk_stopwords.words('english'))"
      ]
    },
    {
      "cell_type": "markdown",
      "metadata": {
        "id": "qir0PM7iF5Hb"
      },
      "source": [
        "Расчитаем матрицу TF-IDF на очищенных комментариях."
      ]
    },
    {
      "cell_type": "code",
      "execution_count": 8,
      "metadata": {
        "id": "D2lGdfrqF5Hb",
        "outputId": "cad58a10-6caa-4c8c-a334-720c810fc13e",
        "colab": {
          "base_uri": "https://localhost:8080/"
        }
      },
      "outputs": [
        {
          "output_type": "execute_result",
          "data": {
            "text/plain": [
              "(159571, 5000)"
            ]
          },
          "metadata": {},
          "execution_count": 8
        }
      ],
      "source": [
        "count_tf_idf = TfidfVectorizer(stop_words=stopwords, max_features=5000)\n",
        "tf_idf = count_tf_idf.fit_transform(df_tweets['cleared_text'])\n",
        "tf_idf.shape"
      ]
    },
    {
      "cell_type": "markdown",
      "metadata": {
        "id": "ChFDSH2aF5Hc"
      },
      "source": [
        "## Обучение"
      ]
    },
    {
      "cell_type": "markdown",
      "metadata": {
        "id": "V1anUBM3F5Hc"
      },
      "source": [
        "Разобьем выборку на трейн, валид, тест."
      ]
    },
    {
      "cell_type": "code",
      "execution_count": 9,
      "metadata": {
        "scrolled": true,
        "id": "WP9pU4bjF5Hc",
        "outputId": "ef9822f9-065a-44ea-b946-15f5cbfe7290",
        "colab": {
          "base_uri": "https://localhost:8080/"
        }
      },
      "outputs": [
        {
          "output_type": "execute_result",
          "data": {
            "text/plain": [
              "((95742, 5000), (31914, 5000), (31915, 5000), (95742,), (31914,), (31915,))"
            ]
          },
          "metadata": {},
          "execution_count": 9
        }
      ],
      "source": [
        "y = df_tweets['toxic'].values\n",
        "X_train, X_test, y_train, y_test = train_test_split(tf_idf, y, test_size=0.2, random_state=12345)\n",
        "X_train, X_val, y_train, y_val = train_test_split(X_train, y_train, test_size=0.25, random_state=12345)\n",
        "X_train.shape, X_val.shape, X_test.shape, y_train.shape, y_val.shape, y_test.shape"
      ]
    },
    {
      "cell_type": "markdown",
      "metadata": {
        "id": "3oMwujWlF5Hd"
      },
      "source": [
        "Определиим функцию для подбора threshold"
      ]
    },
    {
      "cell_type": "code",
      "execution_count": 10,
      "metadata": {
        "id": "CRg8TDp_F5Hd"
      },
      "outputs": [],
      "source": [
        "def get_best_threshold(y_val, proba):\n",
        "    fpr, tpr, thresholds = roc_curve(y_val, proba)\n",
        "    best_f1 = 0\n",
        "    best_thresh = 0\n",
        "    for threshold in thresholds:\n",
        "        predict = proba > threshold \n",
        "        f1 = f1_score(y_val, predict)\n",
        "        if f1 > best_f1:\n",
        "            best_f1 = f1\n",
        "            best_thresh = threshold\n",
        "    plt.figure(figsize=(9, 9))\n",
        "    plt.plot(fpr, tpr)\n",
        "    plt.plot([0, 1], [0, 1], linestyle='--')\n",
        "    plt.xlim([0.0, 1.0])\n",
        "    plt.ylim([0.0, 1.0])\n",
        "    plt.xlabel('False Positive Rate')\n",
        "    plt.ylabel('True Positive Rate')\n",
        "    plt.title('ROC-кривая')\n",
        "    plt.show()\n",
        "    print('best threshold:', best_thresh)\n",
        "    return best_thresh"
      ]
    },
    {
      "cell_type": "markdown",
      "metadata": {
        "id": "uh13_CWLF5Hd"
      },
      "source": [
        "Обучим LogisticRegression и подберем для нее threshold"
      ]
    },
    {
      "cell_type": "code",
      "execution_count": 11,
      "metadata": {
        "id": "4sJdzBr4F5Hd",
        "outputId": "a4e7853b-8db9-4bef-9236-cf4af8582193",
        "colab": {
          "base_uri": "https://localhost:8080/",
          "height": 603
        }
      },
      "outputs": [
        {
          "output_type": "display_data",
          "data": {
            "text/plain": [
              "<Figure size 648x648 with 1 Axes>"
            ],
            "image/png": "[encoded data removed]"
          },
          "metadata": {
            "needs_background": "light"
          }
        },
        {
          "output_type": "stream",
          "name": "stdout",
          "text": [
            "best threshold: 0.2700700243194629\n",
            "f1 score: 0.7724569640062598\n"
          ]
        }
      ],
      "source": [
        "clf = LogisticRegression(max_iter=2000)\n",
        "clf.fit(X_train, y_train)\n",
        "proba = clf.predict_proba(X_val)[:, 1]\n",
        "thresh = get_best_threshold(y_val, proba)\n",
        "predict = proba > thresh\n",
        "f1 = f1_score(y_val, predict)\n",
        "print('f1 score:', f1)"
      ]
    },
    {
      "cell_type": "markdown",
      "metadata": {
        "id": "NRKiHnNFF5He"
      },
      "source": [
        "### Тестирование"
      ]
    },
    {
      "cell_type": "markdown",
      "metadata": {
        "id": "N6_oTXTjF5He"
      },
      "source": [
        "Запустим модель на тестовой выборке с подобранным threshold"
      ]
    },
    {
      "cell_type": "code",
      "execution_count": 12,
      "metadata": {
        "id": "NLmbk5v8F5He",
        "outputId": "9ee52930-1627-4f6c-e4f0-e00114335cff",
        "colab": {
          "base_uri": "https://localhost:8080/"
        }
      },
      "outputs": [
        {
          "output_type": "stream",
          "name": "stdout",
          "text": [
            "f1 score: 0.7644688054167339\n"
          ]
        }
      ],
      "source": [
        "test_proba = clf.predict_proba(X_test)[:, 1]\n",
        "test_predict = test_proba > thresh\n",
        "f1 = f1_score(y_test, test_predict)\n",
        "print('f1 score:', f1)"
      ]
    },
    {
      "cell_type": "markdown",
      "metadata": {
        "id": "6dY7IE48F5Hf"
      },
      "source": [
        "Метрика на тестовой выборке удовлетворяет требованиям!"
      ]
    },
    {
      "cell_type": "markdown",
      "metadata": {
        "id": "pFeXwaSoF5Hf"
      },
      "source": [
        "## Попытки запуска BERT"
      ]
    },
    {
      "cell_type": "markdown",
      "metadata": {
        "id": "B0hJQCTjF5Hf"
      },
      "source": [
        "У нас было несколько попыток запустить предварительно обученную модель BERT, и, наконец, мы нашли ту, которая отлично работает. См дополнительный ноутбук.\n",
        "\n",
        "Кратко отметим особенности. Пробовали несколько моделей отсюда: https://huggingface.co/models от мала до велика.\n",
        "\n",
        "А именно:\n",
        "- DeepPavlov/rubert-base-cased-conversational\n",
        "- DeepPavlov/distilrubert-tiny-cased-conversational\n",
        "- DeepPavlov/bert-base-cased-conversational\n",
        "- vinai/bertweet-base\n",
        "- prajjwal1/bert-tiny\n",
        "- unitary/toxic-bert\n",
        "\n",
        "В дополнительном ноутбуке загружена модель toxic-bert, что позволило нам получить F1-оценку 0,9++. Окончательная матрица признаков после создания эмбеддингов намного меньше, чем сделана с использованием TF-IDF. По этой причине намного проще обучать классификаторы на эмбеддингах, можно пробовать разные и подбирать их параметры. Другие предварительно обученные модели показали нам итоговую f1-оценку в диапазоне от 0,5 до 0,7, что не соответствует требованиям задачи. "
      ]
    },
    {
      "cell_type": "markdown",
      "metadata": {
        "id": "NOfPBYwqF5Hg"
      },
      "source": [
        "## Выводы"
      ]
    },
    {
      "cell_type": "markdown",
      "metadata": {
        "id": "TtaYsPtOF5Hg"
      },
      "source": [
        "Мы добились приемлевого качества работы модели, используя стандартные методы библиотеки sklearn. Для решения задачи был применен простейший подход. Он сработал благодаря тому, что исходный датасет имеет не очень большой размер. Даже опустив лемматизацию, размер TF-IDF оказался приемлемым."
      ]
    }
  ],
  "metadata": {
    "ExecuteTimeLog": [
      {
        "duration": 1235,
        "start_time": "2022-06-28T06:51:54.764Z"
      },
      {
        "duration": 2519,
        "start_time": "2022-06-28T06:53:10.053Z"
      },
      {
        "duration": 17,
        "start_time": "2022-06-28T06:54:05.110Z"
      },
      {
        "duration": 7,
        "start_time": "2022-06-28T06:57:38.309Z"
      },
      {
        "duration": 2,
        "start_time": "2022-06-28T06:58:52.742Z"
      },
      {
        "duration": 109,
        "start_time": "2022-06-28T06:59:27.698Z"
      },
      {
        "duration": 6032,
        "start_time": "2022-06-28T06:59:54.873Z"
      },
      {
        "duration": 149,
        "start_time": "2022-06-28T07:00:28.912Z"
      },
      {
        "duration": 6755,
        "start_time": "2022-06-28T07:02:22.976Z"
      },
      {
        "duration": 78,
        "start_time": "2022-06-28T07:04:01.570Z"
      },
      {
        "duration": 5,
        "start_time": "2022-06-28T07:05:12.631Z"
      },
      {
        "duration": 41843,
        "start_time": "2022-06-28T07:06:53.201Z"
      },
      {
        "duration": 490,
        "start_time": "2022-06-28T07:07:54.966Z"
      },
      {
        "duration": 60257,
        "start_time": "2022-06-28T07:08:00.134Z"
      },
      {
        "duration": 23,
        "start_time": "2022-06-28T07:11:16.023Z"
      },
      {
        "duration": 1483,
        "start_time": "2022-06-28T07:12:18.991Z"
      },
      {
        "duration": 2627,
        "start_time": "2022-06-28T07:12:20.476Z"
      },
      {
        "duration": 14,
        "start_time": "2022-06-28T07:12:23.105Z"
      },
      {
        "duration": 6,
        "start_time": "2022-06-28T07:12:23.127Z"
      },
      {
        "duration": 3,
        "start_time": "2022-06-28T07:12:23.134Z"
      },
      {
        "duration": 6294,
        "start_time": "2022-06-28T07:12:23.138Z"
      },
      {
        "duration": 195,
        "start_time": "2022-06-28T07:12:29.433Z"
      },
      {
        "duration": 6661,
        "start_time": "2022-06-28T07:12:29.630Z"
      },
      {
        "duration": 96,
        "start_time": "2022-06-28T07:12:36.293Z"
      },
      {
        "duration": 7,
        "start_time": "2022-06-28T07:12:36.391Z"
      },
      {
        "duration": 69299,
        "start_time": "2022-06-28T07:12:36.400Z"
      },
      {
        "duration": 16,
        "start_time": "2022-06-28T07:13:45.700Z"
      },
      {
        "duration": 1427,
        "start_time": "2022-06-28T08:07:00.743Z"
      },
      {
        "duration": 2577,
        "start_time": "2022-06-28T08:07:02.174Z"
      },
      {
        "duration": 15,
        "start_time": "2022-06-28T08:07:04.753Z"
      },
      {
        "duration": 6,
        "start_time": "2022-06-28T08:07:04.770Z"
      },
      {
        "duration": 3,
        "start_time": "2022-06-28T08:07:04.779Z"
      },
      {
        "duration": 6315,
        "start_time": "2022-06-28T08:07:04.784Z"
      },
      {
        "duration": 194,
        "start_time": "2022-06-28T08:07:11.100Z"
      },
      {
        "duration": 6616,
        "start_time": "2022-06-28T08:07:11.296Z"
      },
      {
        "duration": 82,
        "start_time": "2022-06-28T08:07:17.914Z"
      },
      {
        "duration": 5,
        "start_time": "2022-06-28T08:07:17.998Z"
      },
      {
        "duration": 67938,
        "start_time": "2022-06-28T08:07:18.004Z"
      },
      {
        "duration": 19,
        "start_time": "2022-06-28T08:08:25.943Z"
      },
      {
        "duration": 1816,
        "start_time": "2022-06-29T08:41:43.984Z"
      },
      {
        "duration": 1963,
        "start_time": "2022-06-29T08:41:48.077Z"
      },
      {
        "duration": 20,
        "start_time": "2022-06-29T08:41:52.926Z"
      },
      {
        "duration": 7,
        "start_time": "2022-06-29T08:41:56.756Z"
      },
      {
        "duration": 3,
        "start_time": "2022-06-29T08:42:05.588Z"
      },
      {
        "duration": 2199,
        "start_time": "2022-06-29T08:42:08.612Z"
      },
      {
        "duration": 152,
        "start_time": "2022-06-29T08:42:22.532Z"
      },
      {
        "duration": 6799,
        "start_time": "2022-06-29T08:42:54.165Z"
      },
      {
        "duration": 86,
        "start_time": "2022-06-29T08:44:23.083Z"
      },
      {
        "duration": 7049,
        "start_time": "2022-06-29T08:45:17.021Z"
      },
      {
        "duration": 56,
        "start_time": "2022-06-29T08:45:28.637Z"
      },
      {
        "duration": 5,
        "start_time": "2022-06-29T08:45:30.698Z"
      },
      {
        "duration": 30419,
        "start_time": "2022-06-29T08:45:31.649Z"
      },
      {
        "duration": 16,
        "start_time": "2022-06-29T08:46:13.003Z"
      },
      {
        "duration": 7437,
        "start_time": "2022-06-29T08:46:28.554Z"
      },
      {
        "duration": 74,
        "start_time": "2022-06-29T08:46:44.162Z"
      },
      {
        "duration": 5,
        "start_time": "2022-06-29T08:46:45.236Z"
      },
      {
        "duration": 24430,
        "start_time": "2022-06-29T08:46:46.409Z"
      },
      {
        "duration": 16,
        "start_time": "2022-06-29T08:47:16.986Z"
      },
      {
        "duration": 2056,
        "start_time": "2022-06-29T09:02:20.533Z"
      },
      {
        "duration": 2750,
        "start_time": "2022-06-29T09:02:22.592Z"
      },
      {
        "duration": 16,
        "start_time": "2022-06-29T09:02:25.344Z"
      },
      {
        "duration": 7,
        "start_time": "2022-06-29T09:02:25.362Z"
      },
      {
        "duration": 3,
        "start_time": "2022-06-29T09:02:25.371Z"
      },
      {
        "duration": 7,
        "start_time": "2022-06-29T09:02:25.375Z"
      },
      {
        "duration": 2030,
        "start_time": "2022-06-29T09:02:25.384Z"
      },
      {
        "duration": 152,
        "start_time": "2022-06-29T09:02:27.415Z"
      },
      {
        "duration": 6741,
        "start_time": "2022-06-29T09:02:27.569Z"
      },
      {
        "duration": 88,
        "start_time": "2022-06-29T09:02:34.312Z"
      },
      {
        "duration": 5,
        "start_time": "2022-06-29T09:02:34.402Z"
      },
      {
        "duration": 23317,
        "start_time": "2022-06-29T09:02:34.408Z"
      },
      {
        "duration": 16,
        "start_time": "2022-06-29T09:02:57.727Z"
      }
    ],
    "kernelspec": {
      "display_name": "Python 3 (ipykernel)",
      "language": "python",
      "name": "python3"
    },
    "language_info": {
      "codemirror_mode": {
        "name": "ipython",
        "version": 3
      },
      "file_extension": ".py",
      "mimetype": "text/x-python",
      "name": "python",
      "nbconvert_exporter": "python",
      "pygments_lexer": "ipython3",
      "version": "3.9.5"
    },
    "toc": {
      "base_numbering": 1,
      "nav_menu": {},
      "number_sections": true,
      "sideBar": true,
      "skip_h1_title": true,
      "title_cell": "Содержание",
      "title_sidebar": "Contents",
      "toc_cell": true,
      "toc_position": {
        "height": "calc(100% - 180px)",
        "left": "10px",
        "top": "150px",
        "width": "302.391px"
      },
      "toc_section_display": true,
      "toc_window_display": false
    },
    "colab": {
      "name": "13_RU_ML_for_texts.ipynb",
      "provenance": [],
      "include_colab_link": true
    }
  },
  "nbformat": 4,
  "nbformat_minor": 0
}