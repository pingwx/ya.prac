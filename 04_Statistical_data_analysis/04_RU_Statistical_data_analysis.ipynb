{
  "cells": [
    {
      "cell_type": "markdown",
      "metadata": {
        "id": "view-in-github",
        "colab_type": "text"
      },
      "source": [
        "<a href=\"https://colab.research.google.com/github/pingwx/ya.prac/blob/main/04_Statistical_data_analysis/04_RU_Statistical_data_analysis.ipynb\" target=\"_parent\"><img src=\"https://colab.research.google.com/assets/colab-badge.svg\" alt=\"Open In Colab\"/></a>"
      ]
    },
    {
      "cell_type": "markdown",
      "metadata": {
        "id": "mTxv2ufKR6zA"
      },
      "source": [
        "# Определение перспективного тарифа для телеком-компании"
      ]
    },
    {
      "cell_type": "markdown",
      "metadata": {
        "id": "HTh6muAzR6zA"
      },
      "source": [
        "В нашем распоряжении данные о звонках, интернет-трафике и сообщениях пользователей мобильного оператора \"Мегалайн\". Пользователям доступны два тарифа: \"Смарт\" и \"Ультра\". Предлагается выяснить, какой из них приносит больше денег компании, чтобы в последствие скорректировать рекламный бюджет. Данные представлены для 500 пользователей \"Мегалайна\" за 2018 год.\n",
        "\n",
        "**Тариф \"Смарт\"**\n",
        "1. Ежемесячная плата: 550 рублей\n",
        "2. Включено 500 минут разговора, 50 сообщений и 15 Гб интернет-трафика\n",
        "3. Стоимость услуг сверх тарифного плана:\n",
        "   - минута разговора: 3 рубля\n",
        "   - сообщение: 3 рубля\n",
        "   - 1 Гб интернет-трафика: 200 рублей\n",
        "   \n",
        "**Тариф \"Ультра\"**\n",
        "1. Ежемесячная плата: 1950 рублей\n",
        "2. Включено 3000 минут разговора, 1000 сообщений и 30 Гб интернет-трафика\n",
        "3. Стоимость услуг сверх тарифного плана:\n",
        "   - минута разговора: 1 рубль\n",
        "   - сообщение: 1 рубль\n",
        "   - 1 Гб интернет-трафика: 150 рублей\n",
        "   \n",
        "**Примечание:**\n",
        "«Мегалайн» всегда округляет секунды до минут, а мегабайты — до гигабайт. Каждый звонок округляется отдельно: даже если он длился всего 1 секунду, будет засчитан как 1 минута.\n",
        "Для веб-трафика отдельные сессии не считаются. Вместо этого общая сумма за месяц округляется в бо́льшую сторону. Если абонент использует 1025 мегабайт в этом месяце, с него возьмут плату за 2 гигабайта.\n",
        "\n",
        "**Описание данных**\n",
        "\n",
        "Таблица `users` (информация о пользователях):\n",
        "- `user_id` — уникальный идентификатор пользователя\n",
        "- `first_name` — имя пользователя\n",
        "- `last_name` — фамилия пользователя\n",
        "- `age` — возраст пользователя (годы)\n",
        "- `reg_date` — дата подключения тарифа (день, месяц, год)\n",
        "- `churn_date` — дата прекращения пользования тарифом (если значение пропущено, то тариф ещё действовал на момент выгрузки данных)\n",
        "- `city` — город проживания пользователя\n",
        "- `tariff` — название тарифного плана\n",
        "\n",
        "Таблица `calls` (информация о звонках):\n",
        "- `id` — уникальный номер звонка\n",
        "- `call_date` — дата звонка\n",
        "- `duration` — длительность звонка в минутах\n",
        "- `user_id` — идентификатор пользователя, сделавшего звонок\n",
        "\n",
        "Таблица `messages` (информация о сообщениях):\n",
        "- `id` — уникальный номер сообщения\n",
        "- `message_date` — дата сообщения\n",
        "- `user_id` — идентификатор пользователя, отправившего сообщение\n",
        "\n",
        "Таблица `internet` (информация об интернет-сессиях):\n",
        "- `id` — уникальный номер сессии\n",
        "- `mb_used` — объём потраченного за сессию интернет-трафика (в мегабайтах)\n",
        "- `session_date` — дата интернет-сессии\n",
        "- `user_id` — идентификатор пользователя\n",
        "\n",
        "Таблица `tariffs` (информация о тарифах):\n",
        "- `tariff_name` — название тарифа\n",
        "- `rub_monthly_fee` — ежемесячная абонентская плата в рублях\n",
        "- `minutes_included` — количество минут разговора в месяц, включённых в абонентскую плату\n",
        "- `messages_included` — количество сообщений в месяц, включённых в абонентскую плату\n",
        "- `mb_per_month_included` — объём интернет-трафика, включённого в абонентскую плату (в мегабайтах)\n",
        "- `rub_per_minute` — стоимость минуты разговора сверх тарифного пакета (например, если в тарифе 100 минут разговора в месяц, то со 101 минуты будет взиматься плата)\n",
        "- `rub_per_message` — стоимость отправки сообщения сверх тарифного пакета\n",
        "- `rub_per_gb` — стоимость дополнительного гигабайта интернет-трафика сверх тарифного пакета (1 гигабайт = 1024 мегабайта)\n",
        "\n",
        "По итогам исследования проверим следующие **гипотезы**:\n",
        "\n",
        "1. Средняя выручка пользователей тарифов \"Ультра\" и \"Смарт\" различаются\n",
        "2. Средняя выручка пользователей из Москвы отличается от выручки пользователей из других регионов"
      ]
    },
    {
      "cell_type": "markdown",
      "metadata": {
        "id": "PvLf97L6R6zC"
      },
      "source": [
        "## Изучение данных из файла"
      ]
    },
    {
      "cell_type": "code",
      "execution_count": 2,
      "metadata": {
        "id": "p3oPu6GLR6zC"
      },
      "outputs": [],
      "source": [
        "import pandas as pd\n",
        "import numpy as np\n",
        "from scipy import stats as st"
      ]
    },
    {
      "cell_type": "markdown",
      "metadata": {
        "id": "2xYlrW4bR6zD"
      },
      "source": [
        "Последовательно откроем датасеты и изучим общую информацию о них."
      ]
    },
    {
      "cell_type": "code",
      "execution_count": 3,
      "metadata": {
        "colab": {
          "base_uri": "https://localhost:8080/"
        },
        "id": "8qAdfKmaR6zE",
        "outputId": "a8983699-5e6f-4f5d-ef3a-0f177d10072c"
      },
      "outputs": [
        {
          "output_type": "stream",
          "name": "stdout",
          "text": [
            "<class 'pandas.core.frame.DataFrame'>\n",
            "RangeIndex: 202607 entries, 0 to 202606\n",
            "Data columns (total 4 columns):\n",
            " #   Column     Non-Null Count   Dtype  \n",
            "---  ------     --------------   -----  \n",
            " 0   id         202607 non-null  object \n",
            " 1   call_date  202607 non-null  object \n",
            " 2   duration   202607 non-null  float64\n",
            " 3   user_id    202607 non-null  int64  \n",
            "dtypes: float64(1), int64(1), object(2)\n",
            "memory usage: 6.2+ MB\n"
          ]
        }
      ],
      "source": [
        "calls = pd.read_csv('/content/calls.csv')\n",
        "calls.info()"
      ]
    },
    {
      "cell_type": "code",
      "execution_count": 4,
      "metadata": {
        "scrolled": true,
        "colab": {
          "base_uri": "https://localhost:8080/",
          "height": 206
        },
        "id": "Gp2u_n2_R6zF",
        "outputId": "6e5eacc8-32d5-4f8a-c82f-e5c0334f94e0"
      },
      "outputs": [
        {
          "output_type": "execute_result",
          "data": {
            "text/plain": [
              "       id   call_date  duration  user_id\n",
              "0  1000_0  2018-07-25      0.00     1000\n",
              "1  1000_1  2018-08-17      0.00     1000\n",
              "2  1000_2  2018-06-11      2.85     1000\n",
              "3  1000_3  2018-09-21     13.80     1000\n",
              "4  1000_4  2018-12-15      5.18     1000"
            ],
            "text/html": [
              "\n",
              "  <div id=\"df-c9fab0bc-34d3-4040-8651-36eb0a6336fa\">\n",
              "    <div class=\"colab-df-container\">\n",
              "      <div>\n",
              "<style scoped>\n",
              "    .dataframe tbody tr th:only-of-type {\n",
              "        vertical-align: middle;\n",
              "    }\n",
              "\n",
              "    .dataframe tbody tr th {\n",
              "        vertical-align: top;\n",
              "    }\n",
              "\n",
              "    .dataframe thead th {\n",
              "        text-align: right;\n",
              "    }\n",
              "</style>\n",
              "<table border=\"1\" class=\"dataframe\">\n",
              "  <thead>\n",
              "    <tr style=\"text-align: right;\">\n",
              "      <th></th>\n",
              "      <th>id</th>\n",
              "      <th>call_date</th>\n",
              "      <th>duration</th>\n",
              "      <th>user_id</th>\n",
              "    </tr>\n",
              "  </thead>\n",
              "  <tbody>\n",
              "    <tr>\n",
              "      <th>0</th>\n",
              "      <td>1000_0</td>\n",
              "      <td>2018-07-25</td>\n",
              "      <td>0.00</td>\n",
              "      <td>1000</td>\n",
              "    </tr>\n",
              "    <tr>\n",
              "      <th>1</th>\n",
              "      <td>1000_1</td>\n",
              "      <td>2018-08-17</td>\n",
              "      <td>0.00</td>\n",
              "      <td>1000</td>\n",
              "    </tr>\n",
              "    <tr>\n",
              "      <th>2</th>\n",
              "      <td>1000_2</td>\n",
              "      <td>2018-06-11</td>\n",
              "      <td>2.85</td>\n",
              "      <td>1000</td>\n",
              "    </tr>\n",
              "    <tr>\n",
              "      <th>3</th>\n",
              "      <td>1000_3</td>\n",
              "      <td>2018-09-21</td>\n",
              "      <td>13.80</td>\n",
              "      <td>1000</td>\n",
              "    </tr>\n",
              "    <tr>\n",
              "      <th>4</th>\n",
              "      <td>1000_4</td>\n",
              "      <td>2018-12-15</td>\n",
              "      <td>5.18</td>\n",
              "      <td>1000</td>\n",
              "    </tr>\n",
              "  </tbody>\n",
              "</table>\n",
              "</div>\n",
              "      <button class=\"colab-df-convert\" onclick=\"convertToInteractive('df-c9fab0bc-34d3-4040-8651-36eb0a6336fa')\"\n",
              "              title=\"Convert this dataframe to an interactive table.\"\n",
              "              style=\"display:none;\">\n",
              "        \n",
              "  <svg xmlns=\"http://www.w3.org/2000/svg\" height=\"24px\"viewBox=\"0 0 24 24\"\n",
              "       width=\"24px\">\n",
              "    <path d=\"M0 0h24v24H0V0z\" fill=\"none\"/>\n",
              "    <path d=\"M18.56 5.44l.94 2.06.94-2.06 2.06-.94-2.06-.94-.94-2.06-.94 2.06-2.06.94zm-11 1L8.5 8.5l.94-2.06 2.06-.94-2.06-.94L8.5 2.5l-.94 2.06-2.06.94zm10 10l.94 2.06.94-2.06 2.06-.94-2.06-.94-.94-2.06-.94 2.06-2.06.94z\"/><path d=\"M17.41 7.96l-1.37-1.37c-.4-.4-.92-.59-1.43-.59-.52 0-1.04.2-1.43.59L10.3 9.45l-7.72 7.72c-.78.78-.78 2.05 0 2.83L4 21.41c.39.39.9.59 1.41.59.51 0 1.02-.2 1.41-.59l7.78-7.78 2.81-2.81c.8-.78.8-2.07 0-2.86zM5.41 20L4 18.59l7.72-7.72 1.47 1.35L5.41 20z\"/>\n",
              "  </svg>\n",
              "      </button>\n",
              "      \n",
              "  <style>\n",
              "    .colab-df-container {\n",
              "      display:flex;\n",
              "      flex-wrap:wrap;\n",
              "      gap: 12px;\n",
              "    }\n",
              "\n",
              "    .colab-df-convert {\n",
              "      background-color: #E8F0FE;\n",
              "      border: none;\n",
              "      border-radius: 50%;\n",
              "      cursor: pointer;\n",
              "      display: none;\n",
              "      fill: #1967D2;\n",
              "      height: 32px;\n",
              "      padding: 0 0 0 0;\n",
              "      width: 32px;\n",
              "    }\n",
              "\n",
              "    .colab-df-convert:hover {\n",
              "      background-color: #E2EBFA;\n",
              "      box-shadow: 0px 1px 2px rgba(60, 64, 67, 0.3), 0px 1px 3px 1px rgba(60, 64, 67, 0.15);\n",
              "      fill: #174EA6;\n",
              "    }\n",
              "\n",
              "    [theme=dark] .colab-df-convert {\n",
              "      background-color: #3B4455;\n",
              "      fill: #D2E3FC;\n",
              "    }\n",
              "\n",
              "    [theme=dark] .colab-df-convert:hover {\n",
              "      background-color: #434B5C;\n",
              "      box-shadow: 0px 1px 3px 1px rgba(0, 0, 0, 0.15);\n",
              "      filter: drop-shadow(0px 1px 2px rgba(0, 0, 0, 0.3));\n",
              "      fill: #FFFFFF;\n",
              "    }\n",
              "  </style>\n",
              "\n",
              "      <script>\n",
              "        const buttonEl =\n",
              "          document.querySelector('#df-c9fab0bc-34d3-4040-8651-36eb0a6336fa button.colab-df-convert');\n",
              "        buttonEl.style.display =\n",
              "          google.colab.kernel.accessAllowed ? 'block' : 'none';\n",
              "\n",
              "        async function convertToInteractive(key) {\n",
              "          const element = document.querySelector('#df-c9fab0bc-34d3-4040-8651-36eb0a6336fa');\n",
              "          const dataTable =\n",
              "            await google.colab.kernel.invokeFunction('convertToInteractive',\n",
              "                                                     [key], {});\n",
              "          if (!dataTable) return;\n",
              "\n",
              "          const docLinkHtml = 'Like what you see? Visit the ' +\n",
              "            '<a target=\"_blank\" href=https://colab.research.google.com/notebooks/data_table.ipynb>data table notebook</a>'\n",
              "            + ' to learn more about interactive tables.';\n",
              "          element.innerHTML = '';\n",
              "          dataTable['output_type'] = 'display_data';\n",
              "          await google.colab.output.renderOutput(dataTable, element);\n",
              "          const docLink = document.createElement('div');\n",
              "          docLink.innerHTML = docLinkHtml;\n",
              "          element.appendChild(docLink);\n",
              "        }\n",
              "      </script>\n",
              "    </div>\n",
              "  </div>\n",
              "  "
            ]
          },
          "metadata": {},
          "execution_count": 4
        }
      ],
      "source": [
        "calls.head()"
      ]
    },
    {
      "cell_type": "code",
      "execution_count": 5,
      "metadata": {
        "colab": {
          "base_uri": "https://localhost:8080/"
        },
        "id": "dgNl_Fj9R6zF",
        "outputId": "dc7dec32-150a-4c0d-b7f8-3cc5e78a44e7"
      },
      "outputs": [
        {
          "output_type": "execute_result",
          "data": {
            "text/plain": [
              "492"
            ]
          },
          "metadata": {},
          "execution_count": 5
        }
      ],
      "source": [
        "len(calls['user_id'].unique()) #Количество уникальных user_id в таблице calls"
      ]
    },
    {
      "cell_type": "markdown",
      "metadata": {
        "id": "5yfS-QwwR6zF"
      },
      "source": [
        "Обратим внимание на следующие вещи:\n",
        "1. Столбец `call_date` имеет тип `object`, а нам удобнее было бы работать с `datetime`, поэтому будем его преобразовывать\n",
        "2. Данные в столбце `duration` содержат дробную часть, а по условию задачи, звонки клиентов округляются до минут в большую сторону, поэтому это мы и сделаем в датасете\n",
        "3. Восемь пользователей из пятисот не совершили ни одного звонка\n",
        "4. Пропусков в датасете нет\n",
        "\n",
        "Посмотрим, как распределены данные в самом важном для нас столбце - `duration`"
      ]
    },
    {
      "cell_type": "code",
      "execution_count": 6,
      "metadata": {
        "colab": {
          "base_uri": "https://localhost:8080/"
        },
        "id": "54zj7_jSR6zG",
        "outputId": "852fa675-b0fc-48f2-a309-1f7be0c866d0"
      },
      "outputs": [
        {
          "output_type": "execute_result",
          "data": {
            "text/plain": [
              "count    202607.000000\n",
              "mean          6.755887\n",
              "std           5.843365\n",
              "min           0.000000\n",
              "25%           1.300000\n",
              "50%           6.000000\n",
              "75%          10.700000\n",
              "max          38.000000\n",
              "Name: duration, dtype: float64"
            ]
          },
          "metadata": {},
          "execution_count": 6
        }
      ],
      "source": [
        "calls['duration'].describe()"
      ]
    },
    {
      "cell_type": "code",
      "execution_count": 7,
      "metadata": {
        "scrolled": false,
        "colab": {
          "base_uri": "https://localhost:8080/",
          "height": 538
        },
        "id": "gSlGAUxHR6zH",
        "outputId": "ea5f4ce6-6eb6-49db-bef9-77e150fb4bb7"
      },
      "outputs": [
        {
          "output_type": "display_data",
          "data": {
            "text/plain": [
              "<Figure size 1152x648 with 1 Axes>"
            ],
            "image/png": "[encoded data removed]"
          },
          "metadata": {
            "needs_background": "light"
          }
        }
      ],
      "source": [
        "calls['duration'].hist(bins=38, figsize=(16, 9));"
      ]
    },
    {
      "cell_type": "markdown",
      "metadata": {
        "id": "E41xsNndR6zI"
      },
      "source": [
        "По условию задачи `duration = 0` означает пропущенный звонок и, ожидаемо, на нуле мы видим большой пик, распределение остальных звонков похоже на нормальное. Таким образом, проблем в данных этого столбца не наблюдается"
      ]
    },
    {
      "cell_type": "markdown",
      "metadata": {
        "id": "xtQRvm25R6zI"
      },
      "source": [
        "Откроем следующий датасет `internet`"
      ]
    },
    {
      "cell_type": "code",
      "execution_count": 8,
      "metadata": {
        "colab": {
          "base_uri": "https://localhost:8080/"
        },
        "id": "ptQqawZ9R6zJ",
        "outputId": "8e465f46-d44b-4dd6-db02-3280001aa281"
      },
      "outputs": [
        {
          "output_type": "stream",
          "name": "stdout",
          "text": [
            "<class 'pandas.core.frame.DataFrame'>\n",
            "RangeIndex: 149396 entries, 0 to 149395\n",
            "Data columns (total 5 columns):\n",
            " #   Column        Non-Null Count   Dtype  \n",
            "---  ------        --------------   -----  \n",
            " 0   Unnamed: 0    149396 non-null  int64  \n",
            " 1   id            149396 non-null  object \n",
            " 2   mb_used       149396 non-null  float64\n",
            " 3   session_date  149396 non-null  object \n",
            " 4   user_id       149396 non-null  int64  \n",
            "dtypes: float64(1), int64(2), object(2)\n",
            "memory usage: 5.7+ MB\n"
          ]
        }
      ],
      "source": [
        "internet = pd.read_csv('/content/internet.csv')\n",
        "internet.info()"
      ]
    },
    {
      "cell_type": "code",
      "execution_count": 9,
      "metadata": {
        "colab": {
          "base_uri": "https://localhost:8080/",
          "height": 206
        },
        "id": "6tmtNX6SR6zJ",
        "outputId": "4bb310cc-49e4-43f4-c7e9-b4da63d3dde6"
      },
      "outputs": [
        {
          "output_type": "execute_result",
          "data": {
            "text/plain": [
              "   Unnamed: 0      id  mb_used session_date  user_id\n",
              "0           0  1000_0   112.95   2018-11-25     1000\n",
              "1           1  1000_1  1052.81   2018-09-07     1000\n",
              "2           2  1000_2  1197.26   2018-06-25     1000\n",
              "3           3  1000_3   550.27   2018-08-22     1000\n",
              "4           4  1000_4   302.56   2018-09-24     1000"
            ],
            "text/html": [
              "\n",
              "  <div id=\"df-2cde3ddd-b0f1-463c-b8e5-135a9073bebf\">\n",
              "    <div class=\"colab-df-container\">\n",
              "      <div>\n",
              "<style scoped>\n",
              "    .dataframe tbody tr th:only-of-type {\n",
              "        vertical-align: middle;\n",
              "    }\n",
              "\n",
              "    .dataframe tbody tr th {\n",
              "        vertical-align: top;\n",
              "    }\n",
              "\n",
              "    .dataframe thead th {\n",
              "        text-align: right;\n",
              "    }\n",
              "</style>\n",
              "<table border=\"1\" class=\"dataframe\">\n",
              "  <thead>\n",
              "    <tr style=\"text-align: right;\">\n",
              "      <th></th>\n",
              "      <th>Unnamed: 0</th>\n",
              "      <th>id</th>\n",
              "      <th>mb_used</th>\n",
              "      <th>session_date</th>\n",
              "      <th>user_id</th>\n",
              "    </tr>\n",
              "  </thead>\n",
              "  <tbody>\n",
              "    <tr>\n",
              "      <th>0</th>\n",
              "      <td>0</td>\n",
              "      <td>1000_0</td>\n",
              "      <td>112.95</td>\n",
              "      <td>2018-11-25</td>\n",
              "      <td>1000</td>\n",
              "    </tr>\n",
              "    <tr>\n",
              "      <th>1</th>\n",
              "      <td>1</td>\n",
              "      <td>1000_1</td>\n",
              "      <td>1052.81</td>\n",
              "      <td>2018-09-07</td>\n",
              "      <td>1000</td>\n",
              "    </tr>\n",
              "    <tr>\n",
              "      <th>2</th>\n",
              "      <td>2</td>\n",
              "      <td>1000_2</td>\n",
              "      <td>1197.26</td>\n",
              "      <td>2018-06-25</td>\n",
              "      <td>1000</td>\n",
              "    </tr>\n",
              "    <tr>\n",
              "      <th>3</th>\n",
              "      <td>3</td>\n",
              "      <td>1000_3</td>\n",
              "      <td>550.27</td>\n",
              "      <td>2018-08-22</td>\n",
              "      <td>1000</td>\n",
              "    </tr>\n",
              "    <tr>\n",
              "      <th>4</th>\n",
              "      <td>4</td>\n",
              "      <td>1000_4</td>\n",
              "      <td>302.56</td>\n",
              "      <td>2018-09-24</td>\n",
              "      <td>1000</td>\n",
              "    </tr>\n",
              "  </tbody>\n",
              "</table>\n",
              "</div>\n",
              "      <button class=\"colab-df-convert\" onclick=\"convertToInteractive('df-2cde3ddd-b0f1-463c-b8e5-135a9073bebf')\"\n",
              "              title=\"Convert this dataframe to an interactive table.\"\n",
              "              style=\"display:none;\">\n",
              "        \n",
              "  <svg xmlns=\"http://www.w3.org/2000/svg\" height=\"24px\"viewBox=\"0 0 24 24\"\n",
              "       width=\"24px\">\n",
              "    <path d=\"M0 0h24v24H0V0z\" fill=\"none\"/>\n",
              "    <path d=\"M18.56 5.44l.94 2.06.94-2.06 2.06-.94-2.06-.94-.94-2.06-.94 2.06-2.06.94zm-11 1L8.5 8.5l.94-2.06 2.06-.94-2.06-.94L8.5 2.5l-.94 2.06-2.06.94zm10 10l.94 2.06.94-2.06 2.06-.94-2.06-.94-.94-2.06-.94 2.06-2.06.94z\"/><path d=\"M17.41 7.96l-1.37-1.37c-.4-.4-.92-.59-1.43-.59-.52 0-1.04.2-1.43.59L10.3 9.45l-7.72 7.72c-.78.78-.78 2.05 0 2.83L4 21.41c.39.39.9.59 1.41.59.51 0 1.02-.2 1.41-.59l7.78-7.78 2.81-2.81c.8-.78.8-2.07 0-2.86zM5.41 20L4 18.59l7.72-7.72 1.47 1.35L5.41 20z\"/>\n",
              "  </svg>\n",
              "      </button>\n",
              "      \n",
              "  <style>\n",
              "    .colab-df-container {\n",
              "      display:flex;\n",
              "      flex-wrap:wrap;\n",
              "      gap: 12px;\n",
              "    }\n",
              "\n",
              "    .colab-df-convert {\n",
              "      background-color: #E8F0FE;\n",
              "      border: none;\n",
              "      border-radius: 50%;\n",
              "      cursor: pointer;\n",
              "      display: none;\n",
              "      fill: #1967D2;\n",
              "      height: 32px;\n",
              "      padding: 0 0 0 0;\n",
              "      width: 32px;\n",
              "    }\n",
              "\n",
              "    .colab-df-convert:hover {\n",
              "      background-color: #E2EBFA;\n",
              "      box-shadow: 0px 1px 2px rgba(60, 64, 67, 0.3), 0px 1px 3px 1px rgba(60, 64, 67, 0.15);\n",
              "      fill: #174EA6;\n",
              "    }\n",
              "\n",
              "    [theme=dark] .colab-df-convert {\n",
              "      background-color: #3B4455;\n",
              "      fill: #D2E3FC;\n",
              "    }\n",
              "\n",
              "    [theme=dark] .colab-df-convert:hover {\n",
              "      background-color: #434B5C;\n",
              "      box-shadow: 0px 1px 3px 1px rgba(0, 0, 0, 0.15);\n",
              "      filter: drop-shadow(0px 1px 2px rgba(0, 0, 0, 0.3));\n",
              "      fill: #FFFFFF;\n",
              "    }\n",
              "  </style>\n",
              "\n",
              "      <script>\n",
              "        const buttonEl =\n",
              "          document.querySelector('#df-2cde3ddd-b0f1-463c-b8e5-135a9073bebf button.colab-df-convert');\n",
              "        buttonEl.style.display =\n",
              "          google.colab.kernel.accessAllowed ? 'block' : 'none';\n",
              "\n",
              "        async function convertToInteractive(key) {\n",
              "          const element = document.querySelector('#df-2cde3ddd-b0f1-463c-b8e5-135a9073bebf');\n",
              "          const dataTable =\n",
              "            await google.colab.kernel.invokeFunction('convertToInteractive',\n",
              "                                                     [key], {});\n",
              "          if (!dataTable) return;\n",
              "\n",
              "          const docLinkHtml = 'Like what you see? Visit the ' +\n",
              "            '<a target=\"_blank\" href=https://colab.research.google.com/notebooks/data_table.ipynb>data table notebook</a>'\n",
              "            + ' to learn more about interactive tables.';\n",
              "          element.innerHTML = '';\n",
              "          dataTable['output_type'] = 'display_data';\n",
              "          await google.colab.output.renderOutput(dataTable, element);\n",
              "          const docLink = document.createElement('div');\n",
              "          docLink.innerHTML = docLinkHtml;\n",
              "          element.appendChild(docLink);\n",
              "        }\n",
              "      </script>\n",
              "    </div>\n",
              "  </div>\n",
              "  "
            ]
          },
          "metadata": {},
          "execution_count": 9
        }
      ],
      "source": [
        "internet.head()"
      ]
    },
    {
      "cell_type": "code",
      "execution_count": 10,
      "metadata": {
        "scrolled": true,
        "colab": {
          "base_uri": "https://localhost:8080/"
        },
        "id": "CSGlg7BHR6zK",
        "outputId": "9be15b7a-ce12-4819-ffce-b980bbec5fc8"
      },
      "outputs": [
        {
          "output_type": "execute_result",
          "data": {
            "text/plain": [
              "497"
            ]
          },
          "metadata": {},
          "execution_count": 10
        }
      ],
      "source": [
        "len(internet['user_id'].unique()) #Количество уникальных user_id в таблице internet"
      ]
    },
    {
      "cell_type": "markdown",
      "metadata": {
        "id": "-PbO9AC1R6zK"
      },
      "source": [
        "Видим столбец `Unnamed: 0`, который повторяет индексы датасета,его удалим просто. В остальном картина аналогична датасету звонков. Снова нет записей нескольких пользователей. Снова тип данных `object` у столбца с датой. Единственная разница заключается в том, что значения мегабайтов округлять мы будем не сразу, как в случае со звонками, а  сначала просуммируем их, поделим на 1024 и округлим до большего. Снова не наблюдаем пропуски.\n",
        "\n",
        "Глянем на распределение столбца `mb_used`"
      ]
    },
    {
      "cell_type": "code",
      "execution_count": 11,
      "metadata": {
        "colab": {
          "base_uri": "https://localhost:8080/"
        },
        "id": "FmFJQryCR6zK",
        "outputId": "216b0c92-d203-4057-e0e9-6f9233a91612"
      },
      "outputs": [
        {
          "output_type": "execute_result",
          "data": {
            "text/plain": [
              "count    149396.000000\n",
              "mean        370.192426\n",
              "std         278.300951\n",
              "min           0.000000\n",
              "25%         138.187500\n",
              "50%         348.015000\n",
              "75%         559.552500\n",
              "max        1724.830000\n",
              "Name: mb_used, dtype: float64"
            ]
          },
          "metadata": {},
          "execution_count": 11
        }
      ],
      "source": [
        "internet['mb_used'].describe()"
      ]
    },
    {
      "cell_type": "code",
      "execution_count": 12,
      "metadata": {
        "colab": {
          "base_uri": "https://localhost:8080/"
        },
        "id": "wSZCUAh5R6zL",
        "outputId": "ec42260c-a040-4ba9-b98f-8f1a7351d7e1"
      },
      "outputs": [
        {
          "output_type": "execute_result",
          "data": {
            "text/plain": [
              "0.00      19598\n",
              "335.91        9\n",
              "447.30        9\n",
              "197.56        9\n",
              "199.11        8\n",
              "          ...  \n",
              "643.43        1\n",
              "973.04        1\n",
              "834.51        1\n",
              "777.30        1\n",
              "23.72         1\n",
              "Name: mb_used, Length: 70003, dtype: int64"
            ]
          },
          "metadata": {},
          "execution_count": 12
        }
      ],
      "source": [
        "internet['mb_used'].value_counts()"
      ]
    },
    {
      "cell_type": "code",
      "execution_count": 13,
      "metadata": {
        "scrolled": false,
        "colab": {
          "base_uri": "https://localhost:8080/",
          "height": 537
        },
        "id": "SYjUJ6b_R6zL",
        "outputId": "2957be82-b57e-4daa-da30-79e701d3777c"
      },
      "outputs": [
        {
          "output_type": "display_data",
          "data": {
            "text/plain": [
              "<Figure size 1152x648 with 1 Axes>"
            ],
            "image/png": "[encoded data removed]"
          },
          "metadata": {
            "needs_background": "light"
          }
        }
      ],
      "source": [
        "internet['mb_used'].hist(bins=40, figsize=(16, 9));"
      ]
    },
    {
      "cell_type": "markdown",
      "metadata": {
        "id": "jwkeZgyjR6zM"
      },
      "source": [
        "Снова видим колоколообразное распределение.\n",
        "\n",
        "Откроем следующий датасет `messages`."
      ]
    },
    {
      "cell_type": "code",
      "execution_count": 14,
      "metadata": {
        "colab": {
          "base_uri": "https://localhost:8080/"
        },
        "id": "NSZmgGAsR6zM",
        "outputId": "34aff10e-3536-4503-c815-cbe31873986c"
      },
      "outputs": [
        {
          "output_type": "stream",
          "name": "stdout",
          "text": [
            "<class 'pandas.core.frame.DataFrame'>\n",
            "RangeIndex: 123036 entries, 0 to 123035\n",
            "Data columns (total 3 columns):\n",
            " #   Column        Non-Null Count   Dtype \n",
            "---  ------        --------------   ----- \n",
            " 0   id            123036 non-null  object\n",
            " 1   message_date  123036 non-null  object\n",
            " 2   user_id       123036 non-null  int64 \n",
            "dtypes: int64(1), object(2)\n",
            "memory usage: 2.8+ MB\n"
          ]
        }
      ],
      "source": [
        "messages = pd.read_csv('/content/messages.csv')\n",
        "messages.info()"
      ]
    },
    {
      "cell_type": "code",
      "execution_count": 15,
      "metadata": {
        "colab": {
          "base_uri": "https://localhost:8080/",
          "height": 206
        },
        "id": "HSmF5F1wR6zM",
        "outputId": "57db0954-a997-4d68-d584-df7ff145ddbd"
      },
      "outputs": [
        {
          "output_type": "execute_result",
          "data": {
            "text/plain": [
              "       id message_date  user_id\n",
              "0  1000_0   2018-06-27     1000\n",
              "1  1000_1   2018-10-08     1000\n",
              "2  1000_2   2018-08-04     1000\n",
              "3  1000_3   2018-06-16     1000\n",
              "4  1000_4   2018-12-05     1000"
            ],
            "text/html": [
              "\n",
              "  <div id=\"df-6080aaec-903b-49c8-bef1-51e72f55c608\">\n",
              "    <div class=\"colab-df-container\">\n",
              "      <div>\n",
              "<style scoped>\n",
              "    .dataframe tbody tr th:only-of-type {\n",
              "        vertical-align: middle;\n",
              "    }\n",
              "\n",
              "    .dataframe tbody tr th {\n",
              "        vertical-align: top;\n",
              "    }\n",
              "\n",
              "    .dataframe thead th {\n",
              "        text-align: right;\n",
              "    }\n",
              "</style>\n",
              "<table border=\"1\" class=\"dataframe\">\n",
              "  <thead>\n",
              "    <tr style=\"text-align: right;\">\n",
              "      <th></th>\n",
              "      <th>id</th>\n",
              "      <th>message_date</th>\n",
              "      <th>user_id</th>\n",
              "    </tr>\n",
              "  </thead>\n",
              "  <tbody>\n",
              "    <tr>\n",
              "      <th>0</th>\n",
              "      <td>1000_0</td>\n",
              "      <td>2018-06-27</td>\n",
              "      <td>1000</td>\n",
              "    </tr>\n",
              "    <tr>\n",
              "      <th>1</th>\n",
              "      <td>1000_1</td>\n",
              "      <td>2018-10-08</td>\n",
              "      <td>1000</td>\n",
              "    </tr>\n",
              "    <tr>\n",
              "      <th>2</th>\n",
              "      <td>1000_2</td>\n",
              "      <td>2018-08-04</td>\n",
              "      <td>1000</td>\n",
              "    </tr>\n",
              "    <tr>\n",
              "      <th>3</th>\n",
              "      <td>1000_3</td>\n",
              "      <td>2018-06-16</td>\n",
              "      <td>1000</td>\n",
              "    </tr>\n",
              "    <tr>\n",
              "      <th>4</th>\n",
              "      <td>1000_4</td>\n",
              "      <td>2018-12-05</td>\n",
              "      <td>1000</td>\n",
              "    </tr>\n",
              "  </tbody>\n",
              "</table>\n",
              "</div>\n",
              "      <button class=\"colab-df-convert\" onclick=\"convertToInteractive('df-6080aaec-903b-49c8-bef1-51e72f55c608')\"\n",
              "              title=\"Convert this dataframe to an interactive table.\"\n",
              "              style=\"display:none;\">\n",
              "        \n",
              "  <svg xmlns=\"http://www.w3.org/2000/svg\" height=\"24px\"viewBox=\"0 0 24 24\"\n",
              "       width=\"24px\">\n",
              "    <path d=\"M0 0h24v24H0V0z\" fill=\"none\"/>\n",
              "    <path d=\"M18.56 5.44l.94 2.06.94-2.06 2.06-.94-2.06-.94-.94-2.06-.94 2.06-2.06.94zm-11 1L8.5 8.5l.94-2.06 2.06-.94-2.06-.94L8.5 2.5l-.94 2.06-2.06.94zm10 10l.94 2.06.94-2.06 2.06-.94-2.06-.94-.94-2.06-.94 2.06-2.06.94z\"/><path d=\"M17.41 7.96l-1.37-1.37c-.4-.4-.92-.59-1.43-.59-.52 0-1.04.2-1.43.59L10.3 9.45l-7.72 7.72c-.78.78-.78 2.05 0 2.83L4 21.41c.39.39.9.59 1.41.59.51 0 1.02-.2 1.41-.59l7.78-7.78 2.81-2.81c.8-.78.8-2.07 0-2.86zM5.41 20L4 18.59l7.72-7.72 1.47 1.35L5.41 20z\"/>\n",
              "  </svg>\n",
              "      </button>\n",
              "      \n",
              "  <style>\n",
              "    .colab-df-container {\n",
              "      display:flex;\n",
              "      flex-wrap:wrap;\n",
              "      gap: 12px;\n",
              "    }\n",
              "\n",
              "    .colab-df-convert {\n",
              "      background-color: #E8F0FE;\n",
              "      border: none;\n",
              "      border-radius: 50%;\n",
              "      cursor: pointer;\n",
              "      display: none;\n",
              "      fill: #1967D2;\n",
              "      height: 32px;\n",
              "      padding: 0 0 0 0;\n",
              "      width: 32px;\n",
              "    }\n",
              "\n",
              "    .colab-df-convert:hover {\n",
              "      background-color: #E2EBFA;\n",
              "      box-shadow: 0px 1px 2px rgba(60, 64, 67, 0.3), 0px 1px 3px 1px rgba(60, 64, 67, 0.15);\n",
              "      fill: #174EA6;\n",
              "    }\n",
              "\n",
              "    [theme=dark] .colab-df-convert {\n",
              "      background-color: #3B4455;\n",
              "      fill: #D2E3FC;\n",
              "    }\n",
              "\n",
              "    [theme=dark] .colab-df-convert:hover {\n",
              "      background-color: #434B5C;\n",
              "      box-shadow: 0px 1px 3px 1px rgba(0, 0, 0, 0.15);\n",
              "      filter: drop-shadow(0px 1px 2px rgba(0, 0, 0, 0.3));\n",
              "      fill: #FFFFFF;\n",
              "    }\n",
              "  </style>\n",
              "\n",
              "      <script>\n",
              "        const buttonEl =\n",
              "          document.querySelector('#df-6080aaec-903b-49c8-bef1-51e72f55c608 button.colab-df-convert');\n",
              "        buttonEl.style.display =\n",
              "          google.colab.kernel.accessAllowed ? 'block' : 'none';\n",
              "\n",
              "        async function convertToInteractive(key) {\n",
              "          const element = document.querySelector('#df-6080aaec-903b-49c8-bef1-51e72f55c608');\n",
              "          const dataTable =\n",
              "            await google.colab.kernel.invokeFunction('convertToInteractive',\n",
              "                                                     [key], {});\n",
              "          if (!dataTable) return;\n",
              "\n",
              "          const docLinkHtml = 'Like what you see? Visit the ' +\n",
              "            '<a target=\"_blank\" href=https://colab.research.google.com/notebooks/data_table.ipynb>data table notebook</a>'\n",
              "            + ' to learn more about interactive tables.';\n",
              "          element.innerHTML = '';\n",
              "          dataTable['output_type'] = 'display_data';\n",
              "          await google.colab.output.renderOutput(dataTable, element);\n",
              "          const docLink = document.createElement('div');\n",
              "          docLink.innerHTML = docLinkHtml;\n",
              "          element.appendChild(docLink);\n",
              "        }\n",
              "      </script>\n",
              "    </div>\n",
              "  </div>\n",
              "  "
            ]
          },
          "metadata": {},
          "execution_count": 15
        }
      ],
      "source": [
        "messages.head()"
      ]
    },
    {
      "cell_type": "code",
      "execution_count": 16,
      "metadata": {
        "colab": {
          "base_uri": "https://localhost:8080/"
        },
        "id": "p9_RID27R6zM",
        "outputId": "170ef502-6a95-47b2-e3a7-988e258c7bd8"
      },
      "outputs": [
        {
          "output_type": "execute_result",
          "data": {
            "text/plain": [
              "426"
            ]
          },
          "metadata": {},
          "execution_count": 16
        }
      ],
      "source": [
        "len(messages['user_id'].unique()) #Количество уникальных user_id в таблице messages"
      ]
    },
    {
      "cell_type": "markdown",
      "metadata": {
        "id": "f7Re4TeAR6zM"
      },
      "source": [
        "Все наблюдения, касающиеся предыдущих датасетов, в силе. Шестая часть пользователей не пользуются смс-ками\n",
        "\n",
        "Посмотрим на датасет `tariffs`"
      ]
    },
    {
      "cell_type": "code",
      "execution_count": 17,
      "metadata": {
        "colab": {
          "base_uri": "https://localhost:8080/"
        },
        "id": "_XyZ92z7R6zN",
        "outputId": "8822d429-e9b7-41e1-9977-f0f97cbcbbc2"
      },
      "outputs": [
        {
          "output_type": "stream",
          "name": "stdout",
          "text": [
            "<class 'pandas.core.frame.DataFrame'>\n",
            "RangeIndex: 2 entries, 0 to 1\n",
            "Data columns (total 8 columns):\n",
            " #   Column                 Non-Null Count  Dtype \n",
            "---  ------                 --------------  ----- \n",
            " 0   messages_included      2 non-null      int64 \n",
            " 1   mb_per_month_included  2 non-null      int64 \n",
            " 2   minutes_included       2 non-null      int64 \n",
            " 3   rub_monthly_fee        2 non-null      int64 \n",
            " 4   rub_per_gb             2 non-null      int64 \n",
            " 5   rub_per_message        2 non-null      int64 \n",
            " 6   rub_per_minute         2 non-null      int64 \n",
            " 7   tariff_name            2 non-null      object\n",
            "dtypes: int64(7), object(1)\n",
            "memory usage: 256.0+ bytes\n"
          ]
        }
      ],
      "source": [
        "tariffs = pd.read_csv('/content/tariffs.csv')\n",
        "tariffs.info()"
      ]
    },
    {
      "cell_type": "code",
      "execution_count": 18,
      "metadata": {
        "colab": {
          "base_uri": "https://localhost:8080/",
          "height": 112
        },
        "id": "3rVGZY4xR6zN",
        "outputId": "ba5a9410-eaa3-49bc-9c3f-b483065490ef"
      },
      "outputs": [
        {
          "output_type": "execute_result",
          "data": {
            "text/plain": [
              "   messages_included  mb_per_month_included  minutes_included  \\\n",
              "0                 50                  15360               500   \n",
              "1               1000                  30720              3000   \n",
              "\n",
              "   rub_monthly_fee  rub_per_gb  rub_per_message  rub_per_minute tariff_name  \n",
              "0              550         200                3               3       smart  \n",
              "1             1950         150                1               1       ultra  "
            ],
            "text/html": [
              "\n",
              "  <div id=\"df-b4b8a4b4-c4e6-43e8-8a5d-3b7d96338dad\">\n",
              "    <div class=\"colab-df-container\">\n",
              "      <div>\n",
              "<style scoped>\n",
              "    .dataframe tbody tr th:only-of-type {\n",
              "        vertical-align: middle;\n",
              "    }\n",
              "\n",
              "    .dataframe tbody tr th {\n",
              "        vertical-align: top;\n",
              "    }\n",
              "\n",
              "    .dataframe thead th {\n",
              "        text-align: right;\n",
              "    }\n",
              "</style>\n",
              "<table border=\"1\" class=\"dataframe\">\n",
              "  <thead>\n",
              "    <tr style=\"text-align: right;\">\n",
              "      <th></th>\n",
              "      <th>messages_included</th>\n",
              "      <th>mb_per_month_included</th>\n",
              "      <th>minutes_included</th>\n",
              "      <th>rub_monthly_fee</th>\n",
              "      <th>rub_per_gb</th>\n",
              "      <th>rub_per_message</th>\n",
              "      <th>rub_per_minute</th>\n",
              "      <th>tariff_name</th>\n",
              "    </tr>\n",
              "  </thead>\n",
              "  <tbody>\n",
              "    <tr>\n",
              "      <th>0</th>\n",
              "      <td>50</td>\n",
              "      <td>15360</td>\n",
              "      <td>500</td>\n",
              "      <td>550</td>\n",
              "      <td>200</td>\n",
              "      <td>3</td>\n",
              "      <td>3</td>\n",
              "      <td>smart</td>\n",
              "    </tr>\n",
              "    <tr>\n",
              "      <th>1</th>\n",
              "      <td>1000</td>\n",
              "      <td>30720</td>\n",
              "      <td>3000</td>\n",
              "      <td>1950</td>\n",
              "      <td>150</td>\n",
              "      <td>1</td>\n",
              "      <td>1</td>\n",
              "      <td>ultra</td>\n",
              "    </tr>\n",
              "  </tbody>\n",
              "</table>\n",
              "</div>\n",
              "      <button class=\"colab-df-convert\" onclick=\"convertToInteractive('df-b4b8a4b4-c4e6-43e8-8a5d-3b7d96338dad')\"\n",
              "              title=\"Convert this dataframe to an interactive table.\"\n",
              "              style=\"display:none;\">\n",
              "        \n",
              "  <svg xmlns=\"http://www.w3.org/2000/svg\" height=\"24px\"viewBox=\"0 0 24 24\"\n",
              "       width=\"24px\">\n",
              "    <path d=\"M0 0h24v24H0V0z\" fill=\"none\"/>\n",
              "    <path d=\"M18.56 5.44l.94 2.06.94-2.06 2.06-.94-2.06-.94-.94-2.06-.94 2.06-2.06.94zm-11 1L8.5 8.5l.94-2.06 2.06-.94-2.06-.94L8.5 2.5l-.94 2.06-2.06.94zm10 10l.94 2.06.94-2.06 2.06-.94-2.06-.94-.94-2.06-.94 2.06-2.06.94z\"/><path d=\"M17.41 7.96l-1.37-1.37c-.4-.4-.92-.59-1.43-.59-.52 0-1.04.2-1.43.59L10.3 9.45l-7.72 7.72c-.78.78-.78 2.05 0 2.83L4 21.41c.39.39.9.59 1.41.59.51 0 1.02-.2 1.41-.59l7.78-7.78 2.81-2.81c.8-.78.8-2.07 0-2.86zM5.41 20L4 18.59l7.72-7.72 1.47 1.35L5.41 20z\"/>\n",
              "  </svg>\n",
              "      </button>\n",
              "      \n",
              "  <style>\n",
              "    .colab-df-container {\n",
              "      display:flex;\n",
              "      flex-wrap:wrap;\n",
              "      gap: 12px;\n",
              "    }\n",
              "\n",
              "    .colab-df-convert {\n",
              "      background-color: #E8F0FE;\n",
              "      border: none;\n",
              "      border-radius: 50%;\n",
              "      cursor: pointer;\n",
              "      display: none;\n",
              "      fill: #1967D2;\n",
              "      height: 32px;\n",
              "      padding: 0 0 0 0;\n",
              "      width: 32px;\n",
              "    }\n",
              "\n",
              "    .colab-df-convert:hover {\n",
              "      background-color: #E2EBFA;\n",
              "      box-shadow: 0px 1px 2px rgba(60, 64, 67, 0.3), 0px 1px 3px 1px rgba(60, 64, 67, 0.15);\n",
              "      fill: #174EA6;\n",
              "    }\n",
              "\n",
              "    [theme=dark] .colab-df-convert {\n",
              "      background-color: #3B4455;\n",
              "      fill: #D2E3FC;\n",
              "    }\n",
              "\n",
              "    [theme=dark] .colab-df-convert:hover {\n",
              "      background-color: #434B5C;\n",
              "      box-shadow: 0px 1px 3px 1px rgba(0, 0, 0, 0.15);\n",
              "      filter: drop-shadow(0px 1px 2px rgba(0, 0, 0, 0.3));\n",
              "      fill: #FFFFFF;\n",
              "    }\n",
              "  </style>\n",
              "\n",
              "      <script>\n",
              "        const buttonEl =\n",
              "          document.querySelector('#df-b4b8a4b4-c4e6-43e8-8a5d-3b7d96338dad button.colab-df-convert');\n",
              "        buttonEl.style.display =\n",
              "          google.colab.kernel.accessAllowed ? 'block' : 'none';\n",
              "\n",
              "        async function convertToInteractive(key) {\n",
              "          const element = document.querySelector('#df-b4b8a4b4-c4e6-43e8-8a5d-3b7d96338dad');\n",
              "          const dataTable =\n",
              "            await google.colab.kernel.invokeFunction('convertToInteractive',\n",
              "                                                     [key], {});\n",
              "          if (!dataTable) return;\n",
              "\n",
              "          const docLinkHtml = 'Like what you see? Visit the ' +\n",
              "            '<a target=\"_blank\" href=https://colab.research.google.com/notebooks/data_table.ipynb>data table notebook</a>'\n",
              "            + ' to learn more about interactive tables.';\n",
              "          element.innerHTML = '';\n",
              "          dataTable['output_type'] = 'display_data';\n",
              "          await google.colab.output.renderOutput(dataTable, element);\n",
              "          const docLink = document.createElement('div');\n",
              "          docLink.innerHTML = docLinkHtml;\n",
              "          element.appendChild(docLink);\n",
              "        }\n",
              "      </script>\n",
              "    </div>\n",
              "  </div>\n",
              "  "
            ]
          },
          "metadata": {},
          "execution_count": 18
        }
      ],
      "source": [
        "tariffs"
      ]
    },
    {
      "cell_type": "markdown",
      "metadata": {
        "id": "ZSmvltxFR6zN"
      },
      "source": [
        "Тут всего две строки со значениями цен на услуги и количеством минут, мегабайт и смс, включенных в тарифный план."
      ]
    },
    {
      "cell_type": "markdown",
      "metadata": {
        "id": "P9fA-o8HR6zN"
      },
      "source": [
        "Последний датасет - `users`"
      ]
    },
    {
      "cell_type": "code",
      "execution_count": 19,
      "metadata": {
        "scrolled": false,
        "colab": {
          "base_uri": "https://localhost:8080/"
        },
        "id": "u-5XtAztR6zO",
        "outputId": "39bb0b8d-7b71-4827-ec73-5948bfce31a7"
      },
      "outputs": [
        {
          "output_type": "stream",
          "name": "stdout",
          "text": [
            "<class 'pandas.core.frame.DataFrame'>\n",
            "RangeIndex: 500 entries, 0 to 499\n",
            "Data columns (total 8 columns):\n",
            " #   Column      Non-Null Count  Dtype \n",
            "---  ------      --------------  ----- \n",
            " 0   user_id     500 non-null    int64 \n",
            " 1   age         500 non-null    int64 \n",
            " 2   churn_date  38 non-null     object\n",
            " 3   city        500 non-null    object\n",
            " 4   first_name  500 non-null    object\n",
            " 5   last_name   500 non-null    object\n",
            " 6   reg_date    500 non-null    object\n",
            " 7   tariff      500 non-null    object\n",
            "dtypes: int64(2), object(6)\n",
            "memory usage: 31.4+ KB\n"
          ]
        }
      ],
      "source": [
        "users = pd.read_csv('/content/users.csv')\n",
        "users.info()"
      ]
    },
    {
      "cell_type": "code",
      "execution_count": 20,
      "metadata": {
        "scrolled": false,
        "colab": {
          "base_uri": "https://localhost:8080/"
        },
        "id": "N9m5CICWR6zO",
        "outputId": "465bcfa8-ca2f-45fe-a8fe-46952ce7794d"
      },
      "outputs": [
        {
          "output_type": "execute_result",
          "data": {
            "text/plain": [
              "array(['Краснодар', 'Москва', 'Стерлитамак', 'Новокузнецк',\n",
              "       'Набережные Челны', 'Ульяновск', 'Челябинск', 'Пермь', 'Тюмень',\n",
              "       'Самара', 'Санкт-Петербург', 'Иваново', 'Чебоксары', 'Омск', 'Уфа',\n",
              "       'Томск', 'Чита', 'Мурманск', 'Петрозаводск', 'Тверь',\n",
              "       'Екатеринбург', 'Махачкала', 'Вологда', 'Череповец', 'Ярославль',\n",
              "       'Сочи', 'Хабаровск', 'Ставрополь', 'Рязань', 'Улан-Удэ', 'Тула',\n",
              "       'Саратов', 'Ростов-на-Дону', 'Казань', 'Иркутск', 'Курск',\n",
              "       'Калуга', 'Якутск', 'Астрахань', 'Химки', 'Владикавказ',\n",
              "       'Волгоград', 'Саранск', 'Ижевск', 'Новосибирск', 'Брянск',\n",
              "       'Тольятти', 'Нижний Тагил', 'Орёл', 'Белгород', 'Воронеж',\n",
              "       'Волжский', 'Курган', 'Барнаул', 'Красноярск', 'Архангельск',\n",
              "       'Липецк', 'Кемерово', 'Киров', 'Сургут', 'Пенза', 'Магнитогорск',\n",
              "       'Нижний Новгород', 'Кострома', 'Владивосток', 'Тамбов', 'Балашиха',\n",
              "       'Севастополь', 'Калининград', 'Оренбург', 'Смоленск',\n",
              "       'Нижневартовск', 'Владимир', 'Новороссийск', 'Грозный', 'Подольск'],\n",
              "      dtype=object)"
            ]
          },
          "metadata": {},
          "execution_count": 20
        }
      ],
      "source": [
        "users['city'].unique()"
      ]
    },
    {
      "cell_type": "code",
      "execution_count": 21,
      "metadata": {
        "colab": {
          "base_uri": "https://localhost:8080/"
        },
        "id": "1NqphALJR6zO",
        "outputId": "80eefdf8-3d0f-4916-8094-5c10e3b9e983"
      },
      "outputs": [
        {
          "output_type": "execute_result",
          "data": {
            "text/plain": [
              "500"
            ]
          },
          "metadata": {},
          "execution_count": 21
        }
      ],
      "source": [
        "len(users['user_id'].unique()) "
      ]
    },
    {
      "cell_type": "markdown",
      "metadata": {
        "id": "0VUvFdlFR6zO"
      },
      "source": [
        "Ровно 500 строк, как сказано в описании. Дубликатов по id нет. Попробовали посмотреть неявные дубликаты в столбце `city`, не обнаружили."
      ]
    },
    {
      "cell_type": "markdown",
      "metadata": {
        "id": "7ZuwuQj3R6zO"
      },
      "source": [
        "### Вывод\n",
        "\n",
        "Серьезных проблем в данных не наблюдаем. Изученных датасетов достаточно для того, чтобы расчитать количество звонков, трафика и сообщений для каждого абонента по месяцам. После этого расчитаем помесячную выручку с каждого пользователя."
      ]
    },
    {
      "cell_type": "markdown",
      "metadata": {
        "id": "vag6M8fLR6zP"
      },
      "source": [
        "## Анализ данных и расчеты"
      ]
    },
    {
      "cell_type": "markdown",
      "metadata": {
        "id": "PFyNQoR_R6zP"
      },
      "source": [
        "На предыдущем шаге мы обратили внимание, что столбцы с датами в каждом датасете имеют неудобный для нас тип `object`. Поскольку по описанию проекта все данные представлены за один 2018 год, а расчеты нас интересуют по месяцам, предлагается к каждому датасету просто добавить столбец `month`, содержащий номер месяца. Этого нам будет вполне достаточно для последующей группировки данных. Так и поступим."
      ]
    },
    {
      "cell_type": "code",
      "execution_count": 22,
      "metadata": {
        "colab": {
          "base_uri": "https://localhost:8080/"
        },
        "id": "cwObQK9oR6zP",
        "outputId": "08117ce3-5e5d-4596-9e21-39405904fe87"
      },
      "outputs": [
        {
          "output_type": "stream",
          "name": "stdout",
          "text": [
            "<class 'pandas.core.frame.DataFrame'>\n",
            "RangeIndex: 202607 entries, 0 to 202606\n",
            "Data columns (total 5 columns):\n",
            " #   Column     Non-Null Count   Dtype  \n",
            "---  ------     --------------   -----  \n",
            " 0   id         202607 non-null  object \n",
            " 1   call_date  202607 non-null  object \n",
            " 2   duration   202607 non-null  float64\n",
            " 3   user_id    202607 non-null  int64  \n",
            " 4   month      202607 non-null  int64  \n",
            "dtypes: float64(1), int64(2), object(2)\n",
            "memory usage: 7.7+ MB\n"
          ]
        }
      ],
      "source": [
        "try:\n",
        "    calls['month'] = pd.to_datetime(calls['call_date']).dt.month.astype(int)\n",
        "except:\n",
        "    print('что-то пошло не так!')\n",
        "calls.info()"
      ]
    },
    {
      "cell_type": "code",
      "execution_count": 23,
      "metadata": {
        "colab": {
          "base_uri": "https://localhost:8080/"
        },
        "id": "TL77Rqy6R6zP",
        "outputId": "ef3e3d03-f907-477b-cbf4-091f8964b84e"
      },
      "outputs": [
        {
          "output_type": "execute_result",
          "data": {
            "text/plain": [
              "12    33987\n",
              "11    29501\n",
              "10    27146\n",
              "9     24061\n",
              "8     21488\n",
              "7     18298\n",
              "6     14716\n",
              "5     12647\n",
              "4      9272\n",
              "3      6687\n",
              "2      3328\n",
              "1      1476\n",
              "Name: month, dtype: int64"
            ]
          },
          "metadata": {},
          "execution_count": 23
        }
      ],
      "source": [
        "calls['month'].value_counts()"
      ]
    },
    {
      "cell_type": "markdown",
      "metadata": {
        "id": "Jbb0SI2AR6zQ"
      },
      "source": [
        "Сработало!"
      ]
    },
    {
      "cell_type": "markdown",
      "metadata": {
        "id": "85JuE4qaR6zQ"
      },
      "source": [
        "Далее методом `ceil` округлим значения столбца `duration` в большую сторону, как это сказано в условиях расчета минут у оператора."
      ]
    },
    {
      "cell_type": "code",
      "execution_count": 24,
      "metadata": {
        "colab": {
          "base_uri": "https://localhost:8080/"
        },
        "id": "26qX3jrcR6zQ",
        "outputId": "f9d64ae4-95e0-4ff9-f034-8c27d3a5a50f"
      },
      "outputs": [
        {
          "output_type": "execute_result",
          "data": {
            "text/plain": [
              "0.0     39613\n",
              "7.0     11510\n",
              "6.0     11457\n",
              "5.0     11411\n",
              "8.0     11272\n",
              "9.0     10973\n",
              "4.0     10918\n",
              "3.0     10362\n",
              "10.0    10186\n",
              "11.0     9385\n",
              "2.0      9194\n",
              "12.0     8448\n",
              "1.0      8402\n",
              "13.0     7486\n",
              "14.0     6554\n",
              "15.0     5505\n",
              "16.0     4551\n",
              "17.0     3671\n",
              "18.0     2984\n",
              "19.0     2411\n",
              "20.0     1806\n",
              "21.0     1304\n",
              "22.0      975\n",
              "23.0      720\n",
              "24.0      468\n",
              "25.0      363\n",
              "26.0      257\n",
              "27.0      151\n",
              "28.0      104\n",
              "29.0       56\n",
              "30.0       39\n",
              "31.0       30\n",
              "32.0       17\n",
              "33.0       10\n",
              "35.0        5\n",
              "34.0        3\n",
              "37.0        2\n",
              "36.0        2\n",
              "38.0        2\n",
              "Name: duration, dtype: int64"
            ]
          },
          "metadata": {},
          "execution_count": 24
        }
      ],
      "source": [
        "calls['duration'] = np.ceil(calls['duration'])\n",
        "calls['duration'].value_counts()"
      ]
    },
    {
      "cell_type": "markdown",
      "metadata": {
        "id": "zXFys9IrR6zQ"
      },
      "source": [
        "Сделаем группировку таблицы `calls` по двум столбцам: `user_id`, `month`. Таким образом мы сможем расчитать количество звонков по месяцам, сделанных каждым абонентом и их суммарную длительность."
      ]
    },
    {
      "cell_type": "code",
      "execution_count": 25,
      "metadata": {
        "id": "EoW9qpkBR6zR"
      },
      "outputs": [],
      "source": [
        "calls_grouped = calls.groupby(['user_id', 'month'])['duration'].agg(['sum', 'count']).reset_index()"
      ]
    },
    {
      "cell_type": "code",
      "execution_count": 26,
      "metadata": {
        "scrolled": false,
        "colab": {
          "base_uri": "https://localhost:8080/",
          "height": 676
        },
        "id": "llHfx8fIR6zR",
        "outputId": "d96ceb3c-e583-4d06-b757-3e728b537c75"
      },
      "outputs": [
        {
          "output_type": "execute_result",
          "data": {
            "text/plain": [
              "    user_id  month    sum  count\n",
              "0      1000      5  159.0     22\n",
              "1      1000      6  172.0     43\n",
              "2      1000      7  340.0     47\n",
              "3      1000      8  408.0     52\n",
              "4      1000      9  466.0     58\n",
              "5      1000     10  350.0     57\n",
              "6      1000     11  338.0     43\n",
              "7      1000     12  333.0     46\n",
              "8      1001     11  430.0     59\n",
              "9      1001     12  414.0     63\n",
              "10     1002      6  117.0     15\n",
              "11     1002      7  214.0     26\n",
              "12     1002      8  289.0     42\n",
              "13     1002      9  206.0     36\n",
              "14     1002     10  212.0     33\n",
              "15     1002     11  243.0     32\n",
              "16     1002     12  236.0     33\n",
              "17     1003      8  380.0     55\n",
              "18     1003      9  961.0    134\n",
              "19     1003     10  855.0    108"
            ],
            "text/html": [
              "\n",
              "  <div id=\"df-2f59823a-9469-4f00-aacb-46bc55bb75df\">\n",
              "    <div class=\"colab-df-container\">\n",
              "      <div>\n",
              "<style scoped>\n",
              "    .dataframe tbody tr th:only-of-type {\n",
              "        vertical-align: middle;\n",
              "    }\n",
              "\n",
              "    .dataframe tbody tr th {\n",
              "        vertical-align: top;\n",
              "    }\n",
              "\n",
              "    .dataframe thead th {\n",
              "        text-align: right;\n",
              "    }\n",
              "</style>\n",
              "<table border=\"1\" class=\"dataframe\">\n",
              "  <thead>\n",
              "    <tr style=\"text-align: right;\">\n",
              "      <th></th>\n",
              "      <th>user_id</th>\n",
              "      <th>month</th>\n",
              "      <th>sum</th>\n",
              "      <th>count</th>\n",
              "    </tr>\n",
              "  </thead>\n",
              "  <tbody>\n",
              "    <tr>\n",
              "      <th>0</th>\n",
              "      <td>1000</td>\n",
              "      <td>5</td>\n",
              "      <td>159.0</td>\n",
              "      <td>22</td>\n",
              "    </tr>\n",
              "    <tr>\n",
              "      <th>1</th>\n",
              "      <td>1000</td>\n",
              "      <td>6</td>\n",
              "      <td>172.0</td>\n",
              "      <td>43</td>\n",
              "    </tr>\n",
              "    <tr>\n",
              "      <th>2</th>\n",
              "      <td>1000</td>\n",
              "      <td>7</td>\n",
              "      <td>340.0</td>\n",
              "      <td>47</td>\n",
              "    </tr>\n",
              "    <tr>\n",
              "      <th>3</th>\n",
              "      <td>1000</td>\n",
              "      <td>8</td>\n",
              "      <td>408.0</td>\n",
              "      <td>52</td>\n",
              "    </tr>\n",
              "    <tr>\n",
              "      <th>4</th>\n",
              "      <td>1000</td>\n",
              "      <td>9</td>\n",
              "      <td>466.0</td>\n",
              "      <td>58</td>\n",
              "    </tr>\n",
              "    <tr>\n",
              "      <th>5</th>\n",
              "      <td>1000</td>\n",
              "      <td>10</td>\n",
              "      <td>350.0</td>\n",
              "      <td>57</td>\n",
              "    </tr>\n",
              "    <tr>\n",
              "      <th>6</th>\n",
              "      <td>1000</td>\n",
              "      <td>11</td>\n",
              "      <td>338.0</td>\n",
              "      <td>43</td>\n",
              "    </tr>\n",
              "    <tr>\n",
              "      <th>7</th>\n",
              "      <td>1000</td>\n",
              "      <td>12</td>\n",
              "      <td>333.0</td>\n",
              "      <td>46</td>\n",
              "    </tr>\n",
              "    <tr>\n",
              "      <th>8</th>\n",
              "      <td>1001</td>\n",
              "      <td>11</td>\n",
              "      <td>430.0</td>\n",
              "      <td>59</td>\n",
              "    </tr>\n",
              "    <tr>\n",
              "      <th>9</th>\n",
              "      <td>1001</td>\n",
              "      <td>12</td>\n",
              "      <td>414.0</td>\n",
              "      <td>63</td>\n",
              "    </tr>\n",
              "    <tr>\n",
              "      <th>10</th>\n",
              "      <td>1002</td>\n",
              "      <td>6</td>\n",
              "      <td>117.0</td>\n",
              "      <td>15</td>\n",
              "    </tr>\n",
              "    <tr>\n",
              "      <th>11</th>\n",
              "      <td>1002</td>\n",
              "      <td>7</td>\n",
              "      <td>214.0</td>\n",
              "      <td>26</td>\n",
              "    </tr>\n",
              "    <tr>\n",
              "      <th>12</th>\n",
              "      <td>1002</td>\n",
              "      <td>8</td>\n",
              "      <td>289.0</td>\n",
              "      <td>42</td>\n",
              "    </tr>\n",
              "    <tr>\n",
              "      <th>13</th>\n",
              "      <td>1002</td>\n",
              "      <td>9</td>\n",
              "      <td>206.0</td>\n",
              "      <td>36</td>\n",
              "    </tr>\n",
              "    <tr>\n",
              "      <th>14</th>\n",
              "      <td>1002</td>\n",
              "      <td>10</td>\n",
              "      <td>212.0</td>\n",
              "      <td>33</td>\n",
              "    </tr>\n",
              "    <tr>\n",
              "      <th>15</th>\n",
              "      <td>1002</td>\n",
              "      <td>11</td>\n",
              "      <td>243.0</td>\n",
              "      <td>32</td>\n",
              "    </tr>\n",
              "    <tr>\n",
              "      <th>16</th>\n",
              "      <td>1002</td>\n",
              "      <td>12</td>\n",
              "      <td>236.0</td>\n",
              "      <td>33</td>\n",
              "    </tr>\n",
              "    <tr>\n",
              "      <th>17</th>\n",
              "      <td>1003</td>\n",
              "      <td>8</td>\n",
              "      <td>380.0</td>\n",
              "      <td>55</td>\n",
              "    </tr>\n",
              "    <tr>\n",
              "      <th>18</th>\n",
              "      <td>1003</td>\n",
              "      <td>9</td>\n",
              "      <td>961.0</td>\n",
              "      <td>134</td>\n",
              "    </tr>\n",
              "    <tr>\n",
              "      <th>19</th>\n",
              "      <td>1003</td>\n",
              "      <td>10</td>\n",
              "      <td>855.0</td>\n",
              "      <td>108</td>\n",
              "    </tr>\n",
              "  </tbody>\n",
              "</table>\n",
              "</div>\n",
              "      <button class=\"colab-df-convert\" onclick=\"convertToInteractive('df-2f59823a-9469-4f00-aacb-46bc55bb75df')\"\n",
              "              title=\"Convert this dataframe to an interactive table.\"\n",
              "              style=\"display:none;\">\n",
              "        \n",
              "  <svg xmlns=\"http://www.w3.org/2000/svg\" height=\"24px\"viewBox=\"0 0 24 24\"\n",
              "       width=\"24px\">\n",
              "    <path d=\"M0 0h24v24H0V0z\" fill=\"none\"/>\n",
              "    <path d=\"M18.56 5.44l.94 2.06.94-2.06 2.06-.94-2.06-.94-.94-2.06-.94 2.06-2.06.94zm-11 1L8.5 8.5l.94-2.06 2.06-.94-2.06-.94L8.5 2.5l-.94 2.06-2.06.94zm10 10l.94 2.06.94-2.06 2.06-.94-2.06-.94-.94-2.06-.94 2.06-2.06.94z\"/><path d=\"M17.41 7.96l-1.37-1.37c-.4-.4-.92-.59-1.43-.59-.52 0-1.04.2-1.43.59L10.3 9.45l-7.72 7.72c-.78.78-.78 2.05 0 2.83L4 21.41c.39.39.9.59 1.41.59.51 0 1.02-.2 1.41-.59l7.78-7.78 2.81-2.81c.8-.78.8-2.07 0-2.86zM5.41 20L4 18.59l7.72-7.72 1.47 1.35L5.41 20z\"/>\n",
              "  </svg>\n",
              "      </button>\n",
              "      \n",
              "  <style>\n",
              "    .colab-df-container {\n",
              "      display:flex;\n",
              "      flex-wrap:wrap;\n",
              "      gap: 12px;\n",
              "    }\n",
              "\n",
              "    .colab-df-convert {\n",
              "      background-color: #E8F0FE;\n",
              "      border: none;\n",
              "      border-radius: 50%;\n",
              "      cursor: pointer;\n",
              "      display: none;\n",
              "      fill: #1967D2;\n",
              "      height: 32px;\n",
              "      padding: 0 0 0 0;\n",
              "      width: 32px;\n",
              "    }\n",
              "\n",
              "    .colab-df-convert:hover {\n",
              "      background-color: #E2EBFA;\n",
              "      box-shadow: 0px 1px 2px rgba(60, 64, 67, 0.3), 0px 1px 3px 1px rgba(60, 64, 67, 0.15);\n",
              "      fill: #174EA6;\n",
              "    }\n",
              "\n",
              "    [theme=dark] .colab-df-convert {\n",
              "      background-color: #3B4455;\n",
              "      fill: #D2E3FC;\n",
              "    }\n",
              "\n",
              "    [theme=dark] .colab-df-convert:hover {\n",
              "      background-color: #434B5C;\n",
              "      box-shadow: 0px 1px 3px 1px rgba(0, 0, 0, 0.15);\n",
              "      filter: drop-shadow(0px 1px 2px rgba(0, 0, 0, 0.3));\n",
              "      fill: #FFFFFF;\n",
              "    }\n",
              "  </style>\n",
              "\n",
              "      <script>\n",
              "        const buttonEl =\n",
              "          document.querySelector('#df-2f59823a-9469-4f00-aacb-46bc55bb75df button.colab-df-convert');\n",
              "        buttonEl.style.display =\n",
              "          google.colab.kernel.accessAllowed ? 'block' : 'none';\n",
              "\n",
              "        async function convertToInteractive(key) {\n",
              "          const element = document.querySelector('#df-2f59823a-9469-4f00-aacb-46bc55bb75df');\n",
              "          const dataTable =\n",
              "            await google.colab.kernel.invokeFunction('convertToInteractive',\n",
              "                                                     [key], {});\n",
              "          if (!dataTable) return;\n",
              "\n",
              "          const docLinkHtml = 'Like what you see? Visit the ' +\n",
              "            '<a target=\"_blank\" href=https://colab.research.google.com/notebooks/data_table.ipynb>data table notebook</a>'\n",
              "            + ' to learn more about interactive tables.';\n",
              "          element.innerHTML = '';\n",
              "          dataTable['output_type'] = 'display_data';\n",
              "          await google.colab.output.renderOutput(dataTable, element);\n",
              "          const docLink = document.createElement('div');\n",
              "          docLink.innerHTML = docLinkHtml;\n",
              "          element.appendChild(docLink);\n",
              "        }\n",
              "      </script>\n",
              "    </div>\n",
              "  </div>\n",
              "  "
            ]
          },
          "metadata": {},
          "execution_count": 26
        }
      ],
      "source": [
        "calls_grouped.head(20)"
      ]
    },
    {
      "cell_type": "markdown",
      "metadata": {
        "id": "d_wj460mR6zR"
      },
      "source": [
        "Все наглядно видно: Пользователь с id 1000 в месяце 5 сделал 22 звонка общей длительностью 159 минут, в месяце 6 - 43 звонка длительностью 172 минуты и так далее.\n",
        "\n",
        "Перейдем к следующей таблице `internet`. Для начала удалим из нее лишний столбец."
      ]
    },
    {
      "cell_type": "code",
      "execution_count": 27,
      "metadata": {
        "scrolled": true,
        "colab": {
          "base_uri": "https://localhost:8080/"
        },
        "id": "QxsU5d8RR6zR",
        "outputId": "b98a495d-1c5e-43d3-9631-6ba84878906f"
      },
      "outputs": [
        {
          "output_type": "stream",
          "name": "stdout",
          "text": [
            "<class 'pandas.core.frame.DataFrame'>\n",
            "RangeIndex: 149396 entries, 0 to 149395\n",
            "Data columns (total 4 columns):\n",
            " #   Column        Non-Null Count   Dtype  \n",
            "---  ------        --------------   -----  \n",
            " 0   id            149396 non-null  object \n",
            " 1   mb_used       149396 non-null  float64\n",
            " 2   session_date  149396 non-null  object \n",
            " 3   user_id       149396 non-null  int64  \n",
            "dtypes: float64(1), int64(1), object(2)\n",
            "memory usage: 4.6+ MB\n"
          ]
        }
      ],
      "source": [
        "internet.drop(['Unnamed: 0'], axis=1, inplace=True)\n",
        "internet.info()"
      ]
    },
    {
      "cell_type": "markdown",
      "metadata": {
        "id": "aAWZcWLaR6zS"
      },
      "source": [
        "По аналогии с `calls`, добавим сюда так же столбец `month`"
      ]
    },
    {
      "cell_type": "code",
      "execution_count": 28,
      "metadata": {
        "scrolled": true,
        "colab": {
          "base_uri": "https://localhost:8080/"
        },
        "id": "rcIfaaB9R6zV",
        "outputId": "b7a2c0eb-35aa-49dd-b825-94d1a200a839"
      },
      "outputs": [
        {
          "output_type": "execute_result",
          "data": {
            "text/plain": [
              "12    24799\n",
              "11    21817\n",
              "10    20009\n",
              "9     17512\n",
              "8     16092\n",
              "7     13548\n",
              "6     11057\n",
              "5      9408\n",
              "4      6511\n",
              "3      4885\n",
              "2      2641\n",
              "1      1117\n",
              "Name: month, dtype: int64"
            ]
          },
          "metadata": {},
          "execution_count": 28
        }
      ],
      "source": [
        "try:\n",
        "    internet['month'] = pd.to_datetime(internet['session_date']).dt.month.astype(int)\n",
        "except:\n",
        "    print('что-то пошло не так!')\n",
        "internet['month'].value_counts()"
      ]
    },
    {
      "cell_type": "markdown",
      "metadata": {
        "id": "pbs6xESOR6zV"
      },
      "source": [
        "Снова делаем группировку по `user_id` и `month`, как в предыдущем случае, получим сумму скачанных мегабайтов по месяцам для каждого пользователя"
      ]
    },
    {
      "cell_type": "code",
      "execution_count": 29,
      "metadata": {
        "id": "rbSVJ3lVR6zV"
      },
      "outputs": [],
      "source": [
        "internet_grouped = internet.groupby(['user_id', 'month'])['mb_used'].agg(['sum']).reset_index()"
      ]
    },
    {
      "cell_type": "markdown",
      "metadata": {
        "id": "DmmEoM65R6zW"
      },
      "source": [
        "Переведем мегабайты в гигабайты, поделив на 1024. Затем методом `ceil` округлим значения в большую сторону, как это сказано в описании проекта"
      ]
    },
    {
      "cell_type": "code",
      "execution_count": 30,
      "metadata": {
        "id": "mT_wUAfIR6zW"
      },
      "outputs": [],
      "source": [
        "internet_grouped['sum'] = np.ceil(internet_grouped['sum'] / 1024)"
      ]
    },
    {
      "cell_type": "code",
      "execution_count": 31,
      "metadata": {
        "scrolled": false,
        "colab": {
          "base_uri": "https://localhost:8080/",
          "height": 676
        },
        "id": "y1fCi8xOR6zW",
        "outputId": "89523092-1140-48e3-9757-cd3842f4c808"
      },
      "outputs": [
        {
          "output_type": "execute_result",
          "data": {
            "text/plain": [
              "    user_id  month   sum\n",
              "0      1000      5   3.0\n",
              "1      1000      6  23.0\n",
              "2      1000      7  14.0\n",
              "3      1000      8  14.0\n",
              "4      1000      9  15.0\n",
              "5      1000     10  15.0\n",
              "6      1000     11  15.0\n",
              "7      1000     12  10.0\n",
              "8      1001     11  18.0\n",
              "9      1001     12  14.0\n",
              "10     1002      6  11.0\n",
              "11     1002      7  18.0\n",
              "12     1002      8  20.0\n",
              "13     1002      9  17.0\n",
              "14     1002     10  14.0\n",
              "15     1002     11  19.0\n",
              "16     1002     12  18.0\n",
              "17     1003      8   9.0\n",
              "18     1003      9  13.0\n",
              "19     1003     10  15.0"
            ],
            "text/html": [
              "\n",
              "  <div id=\"df-453fd032-29a4-4c35-b4c6-8111eeb445ff\">\n",
              "    <div class=\"colab-df-container\">\n",
              "      <div>\n",
              "<style scoped>\n",
              "    .dataframe tbody tr th:only-of-type {\n",
              "        vertical-align: middle;\n",
              "    }\n",
              "\n",
              "    .dataframe tbody tr th {\n",
              "        vertical-align: top;\n",
              "    }\n",
              "\n",
              "    .dataframe thead th {\n",
              "        text-align: right;\n",
              "    }\n",
              "</style>\n",
              "<table border=\"1\" class=\"dataframe\">\n",
              "  <thead>\n",
              "    <tr style=\"text-align: right;\">\n",
              "      <th></th>\n",
              "      <th>user_id</th>\n",
              "      <th>month</th>\n",
              "      <th>sum</th>\n",
              "    </tr>\n",
              "  </thead>\n",
              "  <tbody>\n",
              "    <tr>\n",
              "      <th>0</th>\n",
              "      <td>1000</td>\n",
              "      <td>5</td>\n",
              "      <td>3.0</td>\n",
              "    </tr>\n",
              "    <tr>\n",
              "      <th>1</th>\n",
              "      <td>1000</td>\n",
              "      <td>6</td>\n",
              "      <td>23.0</td>\n",
              "    </tr>\n",
              "    <tr>\n",
              "      <th>2</th>\n",
              "      <td>1000</td>\n",
              "      <td>7</td>\n",
              "      <td>14.0</td>\n",
              "    </tr>\n",
              "    <tr>\n",
              "      <th>3</th>\n",
              "      <td>1000</td>\n",
              "      <td>8</td>\n",
              "      <td>14.0</td>\n",
              "    </tr>\n",
              "    <tr>\n",
              "      <th>4</th>\n",
              "      <td>1000</td>\n",
              "      <td>9</td>\n",
              "      <td>15.0</td>\n",
              "    </tr>\n",
              "    <tr>\n",
              "      <th>5</th>\n",
              "      <td>1000</td>\n",
              "      <td>10</td>\n",
              "      <td>15.0</td>\n",
              "    </tr>\n",
              "    <tr>\n",
              "      <th>6</th>\n",
              "      <td>1000</td>\n",
              "      <td>11</td>\n",
              "      <td>15.0</td>\n",
              "    </tr>\n",
              "    <tr>\n",
              "      <th>7</th>\n",
              "      <td>1000</td>\n",
              "      <td>12</td>\n",
              "      <td>10.0</td>\n",
              "    </tr>\n",
              "    <tr>\n",
              "      <th>8</th>\n",
              "      <td>1001</td>\n",
              "      <td>11</td>\n",
              "      <td>18.0</td>\n",
              "    </tr>\n",
              "    <tr>\n",
              "      <th>9</th>\n",
              "      <td>1001</td>\n",
              "      <td>12</td>\n",
              "      <td>14.0</td>\n",
              "    </tr>\n",
              "    <tr>\n",
              "      <th>10</th>\n",
              "      <td>1002</td>\n",
              "      <td>6</td>\n",
              "      <td>11.0</td>\n",
              "    </tr>\n",
              "    <tr>\n",
              "      <th>11</th>\n",
              "      <td>1002</td>\n",
              "      <td>7</td>\n",
              "      <td>18.0</td>\n",
              "    </tr>\n",
              "    <tr>\n",
              "      <th>12</th>\n",
              "      <td>1002</td>\n",
              "      <td>8</td>\n",
              "      <td>20.0</td>\n",
              "    </tr>\n",
              "    <tr>\n",
              "      <th>13</th>\n",
              "      <td>1002</td>\n",
              "      <td>9</td>\n",
              "      <td>17.0</td>\n",
              "    </tr>\n",
              "    <tr>\n",
              "      <th>14</th>\n",
              "      <td>1002</td>\n",
              "      <td>10</td>\n",
              "      <td>14.0</td>\n",
              "    </tr>\n",
              "    <tr>\n",
              "      <th>15</th>\n",
              "      <td>1002</td>\n",
              "      <td>11</td>\n",
              "      <td>19.0</td>\n",
              "    </tr>\n",
              "    <tr>\n",
              "      <th>16</th>\n",
              "      <td>1002</td>\n",
              "      <td>12</td>\n",
              "      <td>18.0</td>\n",
              "    </tr>\n",
              "    <tr>\n",
              "      <th>17</th>\n",
              "      <td>1003</td>\n",
              "      <td>8</td>\n",
              "      <td>9.0</td>\n",
              "    </tr>\n",
              "    <tr>\n",
              "      <th>18</th>\n",
              "      <td>1003</td>\n",
              "      <td>9</td>\n",
              "      <td>13.0</td>\n",
              "    </tr>\n",
              "    <tr>\n",
              "      <th>19</th>\n",
              "      <td>1003</td>\n",
              "      <td>10</td>\n",
              "      <td>15.0</td>\n",
              "    </tr>\n",
              "  </tbody>\n",
              "</table>\n",
              "</div>\n",
              "      <button class=\"colab-df-convert\" onclick=\"convertToInteractive('df-453fd032-29a4-4c35-b4c6-8111eeb445ff')\"\n",
              "              title=\"Convert this dataframe to an interactive table.\"\n",
              "              style=\"display:none;\">\n",
              "        \n",
              "  <svg xmlns=\"http://www.w3.org/2000/svg\" height=\"24px\"viewBox=\"0 0 24 24\"\n",
              "       width=\"24px\">\n",
              "    <path d=\"M0 0h24v24H0V0z\" fill=\"none\"/>\n",
              "    <path d=\"M18.56 5.44l.94 2.06.94-2.06 2.06-.94-2.06-.94-.94-2.06-.94 2.06-2.06.94zm-11 1L8.5 8.5l.94-2.06 2.06-.94-2.06-.94L8.5 2.5l-.94 2.06-2.06.94zm10 10l.94 2.06.94-2.06 2.06-.94-2.06-.94-.94-2.06-.94 2.06-2.06.94z\"/><path d=\"M17.41 7.96l-1.37-1.37c-.4-.4-.92-.59-1.43-.59-.52 0-1.04.2-1.43.59L10.3 9.45l-7.72 7.72c-.78.78-.78 2.05 0 2.83L4 21.41c.39.39.9.59 1.41.59.51 0 1.02-.2 1.41-.59l7.78-7.78 2.81-2.81c.8-.78.8-2.07 0-2.86zM5.41 20L4 18.59l7.72-7.72 1.47 1.35L5.41 20z\"/>\n",
              "  </svg>\n",
              "      </button>\n",
              "      \n",
              "  <style>\n",
              "    .colab-df-container {\n",
              "      display:flex;\n",
              "      flex-wrap:wrap;\n",
              "      gap: 12px;\n",
              "    }\n",
              "\n",
              "    .colab-df-convert {\n",
              "      background-color: #E8F0FE;\n",
              "      border: none;\n",
              "      border-radius: 50%;\n",
              "      cursor: pointer;\n",
              "      display: none;\n",
              "      fill: #1967D2;\n",
              "      height: 32px;\n",
              "      padding: 0 0 0 0;\n",
              "      width: 32px;\n",
              "    }\n",
              "\n",
              "    .colab-df-convert:hover {\n",
              "      background-color: #E2EBFA;\n",
              "      box-shadow: 0px 1px 2px rgba(60, 64, 67, 0.3), 0px 1px 3px 1px rgba(60, 64, 67, 0.15);\n",
              "      fill: #174EA6;\n",
              "    }\n",
              "\n",
              "    [theme=dark] .colab-df-convert {\n",
              "      background-color: #3B4455;\n",
              "      fill: #D2E3FC;\n",
              "    }\n",
              "\n",
              "    [theme=dark] .colab-df-convert:hover {\n",
              "      background-color: #434B5C;\n",
              "      box-shadow: 0px 1px 3px 1px rgba(0, 0, 0, 0.15);\n",
              "      filter: drop-shadow(0px 1px 2px rgba(0, 0, 0, 0.3));\n",
              "      fill: #FFFFFF;\n",
              "    }\n",
              "  </style>\n",
              "\n",
              "      <script>\n",
              "        const buttonEl =\n",
              "          document.querySelector('#df-453fd032-29a4-4c35-b4c6-8111eeb445ff button.colab-df-convert');\n",
              "        buttonEl.style.display =\n",
              "          google.colab.kernel.accessAllowed ? 'block' : 'none';\n",
              "\n",
              "        async function convertToInteractive(key) {\n",
              "          const element = document.querySelector('#df-453fd032-29a4-4c35-b4c6-8111eeb445ff');\n",
              "          const dataTable =\n",
              "            await google.colab.kernel.invokeFunction('convertToInteractive',\n",
              "                                                     [key], {});\n",
              "          if (!dataTable) return;\n",
              "\n",
              "          const docLinkHtml = 'Like what you see? Visit the ' +\n",
              "            '<a target=\"_blank\" href=https://colab.research.google.com/notebooks/data_table.ipynb>data table notebook</a>'\n",
              "            + ' to learn more about interactive tables.';\n",
              "          element.innerHTML = '';\n",
              "          dataTable['output_type'] = 'display_data';\n",
              "          await google.colab.output.renderOutput(dataTable, element);\n",
              "          const docLink = document.createElement('div');\n",
              "          docLink.innerHTML = docLinkHtml;\n",
              "          element.appendChild(docLink);\n",
              "        }\n",
              "      </script>\n",
              "    </div>\n",
              "  </div>\n",
              "  "
            ]
          },
          "metadata": {},
          "execution_count": 31
        }
      ],
      "source": [
        "internet_grouped.head(20)"
      ]
    },
    {
      "cell_type": "markdown",
      "metadata": {
        "id": "2o_QEpNtR6zW"
      },
      "source": [
        "Получили датафрейм с объемом трафика в гигабайтах для каждого пользователя с разбивкой по месяцам"
      ]
    },
    {
      "cell_type": "markdown",
      "metadata": {
        "id": "ZX6P7iwVR6zW"
      },
      "source": [
        "Начнем собирать итоговый датафрейм, в котором будем производить расчеты. Поскольку и в таблице звонков, и в таблице трафика нет нескольких `user_id`, очень важно параметру `how` передать значение `outer`, чтобы ничего не потерять. Склеиваем таблицы по столбцам `user_id`, `month`. Столбцам с количеством, звонков, их длинной и трафику присвоим соответствующие названия"
      ]
    },
    {
      "cell_type": "code",
      "execution_count": 32,
      "metadata": {
        "scrolled": false,
        "id": "SlQfQUsrR6zX"
      },
      "outputs": [],
      "source": [
        "df = pd.merge(calls_grouped, internet_grouped, on=['user_id', 'month'], how='outer') #склеиваем таблицы\n",
        "df.columns = ['user_id', 'month', 'call_duration_total', 'call_count', 'gb_used'] #переименовываем столбцы"
      ]
    },
    {
      "cell_type": "code",
      "execution_count": 33,
      "metadata": {
        "scrolled": false,
        "id": "zBc_ySGRR6zX",
        "colab": {
          "base_uri": "https://localhost:8080/",
          "height": 676
        },
        "outputId": "46abd9d6-11c3-498e-8351-7d62b41ae67c"
      },
      "outputs": [
        {
          "output_type": "execute_result",
          "data": {
            "text/plain": [
              "    user_id  month  call_duration_total  call_count  gb_used\n",
              "0      1000      5                159.0        22.0      3.0\n",
              "1      1000      6                172.0        43.0     23.0\n",
              "2      1000      7                340.0        47.0     14.0\n",
              "3      1000      8                408.0        52.0     14.0\n",
              "4      1000      9                466.0        58.0     15.0\n",
              "5      1000     10                350.0        57.0     15.0\n",
              "6      1000     11                338.0        43.0     15.0\n",
              "7      1000     12                333.0        46.0     10.0\n",
              "8      1001     11                430.0        59.0     18.0\n",
              "9      1001     12                414.0        63.0     14.0\n",
              "10     1002      6                117.0        15.0     11.0\n",
              "11     1002      7                214.0        26.0     18.0\n",
              "12     1002      8                289.0        42.0     20.0\n",
              "13     1002      9                206.0        36.0     17.0\n",
              "14     1002     10                212.0        33.0     14.0\n",
              "15     1002     11                243.0        32.0     19.0\n",
              "16     1002     12                236.0        33.0     18.0\n",
              "17     1003      8                380.0        55.0      9.0\n",
              "18     1003      9                961.0       134.0     13.0\n",
              "19     1003     10                855.0       108.0     15.0"
            ],
            "text/html": [
              "\n",
              "  <div id=\"df-ebb54da5-516f-4cb2-b64d-2b44506f9c3f\">\n",
              "    <div class=\"colab-df-container\">\n",
              "      <div>\n",
              "<style scoped>\n",
              "    .dataframe tbody tr th:only-of-type {\n",
              "        vertical-align: middle;\n",
              "    }\n",
              "\n",
              "    .dataframe tbody tr th {\n",
              "        vertical-align: top;\n",
              "    }\n",
              "\n",
              "    .dataframe thead th {\n",
              "        text-align: right;\n",
              "    }\n",
              "</style>\n",
              "<table border=\"1\" class=\"dataframe\">\n",
              "  <thead>\n",
              "    <tr style=\"text-align: right;\">\n",
              "      <th></th>\n",
              "      <th>user_id</th>\n",
              "      <th>month</th>\n",
              "      <th>call_duration_total</th>\n",
              "      <th>call_count</th>\n",
              "      <th>gb_used</th>\n",
              "    </tr>\n",
              "  </thead>\n",
              "  <tbody>\n",
              "    <tr>\n",
              "      <th>0</th>\n",
              "      <td>1000</td>\n",
              "      <td>5</td>\n",
              "      <td>159.0</td>\n",
              "      <td>22.0</td>\n",
              "      <td>3.0</td>\n",
              "    </tr>\n",
              "    <tr>\n",
              "      <th>1</th>\n",
              "      <td>1000</td>\n",
              "      <td>6</td>\n",
              "      <td>172.0</td>\n",
              "      <td>43.0</td>\n",
              "      <td>23.0</td>\n",
              "    </tr>\n",
              "    <tr>\n",
              "      <th>2</th>\n",
              "      <td>1000</td>\n",
              "      <td>7</td>\n",
              "      <td>340.0</td>\n",
              "      <td>47.0</td>\n",
              "      <td>14.0</td>\n",
              "    </tr>\n",
              "    <tr>\n",
              "      <th>3</th>\n",
              "      <td>1000</td>\n",
              "      <td>8</td>\n",
              "      <td>408.0</td>\n",
              "      <td>52.0</td>\n",
              "      <td>14.0</td>\n",
              "    </tr>\n",
              "    <tr>\n",
              "      <th>4</th>\n",
              "      <td>1000</td>\n",
              "      <td>9</td>\n",
              "      <td>466.0</td>\n",
              "      <td>58.0</td>\n",
              "      <td>15.0</td>\n",
              "    </tr>\n",
              "    <tr>\n",
              "      <th>5</th>\n",
              "      <td>1000</td>\n",
              "      <td>10</td>\n",
              "      <td>350.0</td>\n",
              "      <td>57.0</td>\n",
              "      <td>15.0</td>\n",
              "    </tr>\n",
              "    <tr>\n",
              "      <th>6</th>\n",
              "      <td>1000</td>\n",
              "      <td>11</td>\n",
              "      <td>338.0</td>\n",
              "      <td>43.0</td>\n",
              "      <td>15.0</td>\n",
              "    </tr>\n",
              "    <tr>\n",
              "      <th>7</th>\n",
              "      <td>1000</td>\n",
              "      <td>12</td>\n",
              "      <td>333.0</td>\n",
              "      <td>46.0</td>\n",
              "      <td>10.0</td>\n",
              "    </tr>\n",
              "    <tr>\n",
              "      <th>8</th>\n",
              "      <td>1001</td>\n",
              "      <td>11</td>\n",
              "      <td>430.0</td>\n",
              "      <td>59.0</td>\n",
              "      <td>18.0</td>\n",
              "    </tr>\n",
              "    <tr>\n",
              "      <th>9</th>\n",
              "      <td>1001</td>\n",
              "      <td>12</td>\n",
              "      <td>414.0</td>\n",
              "      <td>63.0</td>\n",
              "      <td>14.0</td>\n",
              "    </tr>\n",
              "    <tr>\n",
              "      <th>10</th>\n",
              "      <td>1002</td>\n",
              "      <td>6</td>\n",
              "      <td>117.0</td>\n",
              "      <td>15.0</td>\n",
              "      <td>11.0</td>\n",
              "    </tr>\n",
              "    <tr>\n",
              "      <th>11</th>\n",
              "      <td>1002</td>\n",
              "      <td>7</td>\n",
              "      <td>214.0</td>\n",
              "      <td>26.0</td>\n",
              "      <td>18.0</td>\n",
              "    </tr>\n",
              "    <tr>\n",
              "      <th>12</th>\n",
              "      <td>1002</td>\n",
              "      <td>8</td>\n",
              "      <td>289.0</td>\n",
              "      <td>42.0</td>\n",
              "      <td>20.0</td>\n",
              "    </tr>\n",
              "    <tr>\n",
              "      <th>13</th>\n",
              "      <td>1002</td>\n",
              "      <td>9</td>\n",
              "      <td>206.0</td>\n",
              "      <td>36.0</td>\n",
              "      <td>17.0</td>\n",
              "    </tr>\n",
              "    <tr>\n",
              "      <th>14</th>\n",
              "      <td>1002</td>\n",
              "      <td>10</td>\n",
              "      <td>212.0</td>\n",
              "      <td>33.0</td>\n",
              "      <td>14.0</td>\n",
              "    </tr>\n",
              "    <tr>\n",
              "      <th>15</th>\n",
              "      <td>1002</td>\n",
              "      <td>11</td>\n",
              "      <td>243.0</td>\n",
              "      <td>32.0</td>\n",
              "      <td>19.0</td>\n",
              "    </tr>\n",
              "    <tr>\n",
              "      <th>16</th>\n",
              "      <td>1002</td>\n",
              "      <td>12</td>\n",
              "      <td>236.0</td>\n",
              "      <td>33.0</td>\n",
              "      <td>18.0</td>\n",
              "    </tr>\n",
              "    <tr>\n",
              "      <th>17</th>\n",
              "      <td>1003</td>\n",
              "      <td>8</td>\n",
              "      <td>380.0</td>\n",
              "      <td>55.0</td>\n",
              "      <td>9.0</td>\n",
              "    </tr>\n",
              "    <tr>\n",
              "      <th>18</th>\n",
              "      <td>1003</td>\n",
              "      <td>9</td>\n",
              "      <td>961.0</td>\n",
              "      <td>134.0</td>\n",
              "      <td>13.0</td>\n",
              "    </tr>\n",
              "    <tr>\n",
              "      <th>19</th>\n",
              "      <td>1003</td>\n",
              "      <td>10</td>\n",
              "      <td>855.0</td>\n",
              "      <td>108.0</td>\n",
              "      <td>15.0</td>\n",
              "    </tr>\n",
              "  </tbody>\n",
              "</table>\n",
              "</div>\n",
              "      <button class=\"colab-df-convert\" onclick=\"convertToInteractive('df-ebb54da5-516f-4cb2-b64d-2b44506f9c3f')\"\n",
              "              title=\"Convert this dataframe to an interactive table.\"\n",
              "              style=\"display:none;\">\n",
              "        \n",
              "  <svg xmlns=\"http://www.w3.org/2000/svg\" height=\"24px\"viewBox=\"0 0 24 24\"\n",
              "       width=\"24px\">\n",
              "    <path d=\"M0 0h24v24H0V0z\" fill=\"none\"/>\n",
              "    <path d=\"M18.56 5.44l.94 2.06.94-2.06 2.06-.94-2.06-.94-.94-2.06-.94 2.06-2.06.94zm-11 1L8.5 8.5l.94-2.06 2.06-.94-2.06-.94L8.5 2.5l-.94 2.06-2.06.94zm10 10l.94 2.06.94-2.06 2.06-.94-2.06-.94-.94-2.06-.94 2.06-2.06.94z\"/><path d=\"M17.41 7.96l-1.37-1.37c-.4-.4-.92-.59-1.43-.59-.52 0-1.04.2-1.43.59L10.3 9.45l-7.72 7.72c-.78.78-.78 2.05 0 2.83L4 21.41c.39.39.9.59 1.41.59.51 0 1.02-.2 1.41-.59l7.78-7.78 2.81-2.81c.8-.78.8-2.07 0-2.86zM5.41 20L4 18.59l7.72-7.72 1.47 1.35L5.41 20z\"/>\n",
              "  </svg>\n",
              "      </button>\n",
              "      \n",
              "  <style>\n",
              "    .colab-df-container {\n",
              "      display:flex;\n",
              "      flex-wrap:wrap;\n",
              "      gap: 12px;\n",
              "    }\n",
              "\n",
              "    .colab-df-convert {\n",
              "      background-color: #E8F0FE;\n",
              "      border: none;\n",
              "      border-radius: 50%;\n",
              "      cursor: pointer;\n",
              "      display: none;\n",
              "      fill: #1967D2;\n",
              "      height: 32px;\n",
              "      padding: 0 0 0 0;\n",
              "      width: 32px;\n",
              "    }\n",
              "\n",
              "    .colab-df-convert:hover {\n",
              "      background-color: #E2EBFA;\n",
              "      box-shadow: 0px 1px 2px rgba(60, 64, 67, 0.3), 0px 1px 3px 1px rgba(60, 64, 67, 0.15);\n",
              "      fill: #174EA6;\n",
              "    }\n",
              "\n",
              "    [theme=dark] .colab-df-convert {\n",
              "      background-color: #3B4455;\n",
              "      fill: #D2E3FC;\n",
              "    }\n",
              "\n",
              "    [theme=dark] .colab-df-convert:hover {\n",
              "      background-color: #434B5C;\n",
              "      box-shadow: 0px 1px 3px 1px rgba(0, 0, 0, 0.15);\n",
              "      filter: drop-shadow(0px 1px 2px rgba(0, 0, 0, 0.3));\n",
              "      fill: #FFFFFF;\n",
              "    }\n",
              "  </style>\n",
              "\n",
              "      <script>\n",
              "        const buttonEl =\n",
              "          document.querySelector('#df-ebb54da5-516f-4cb2-b64d-2b44506f9c3f button.colab-df-convert');\n",
              "        buttonEl.style.display =\n",
              "          google.colab.kernel.accessAllowed ? 'block' : 'none';\n",
              "\n",
              "        async function convertToInteractive(key) {\n",
              "          const element = document.querySelector('#df-ebb54da5-516f-4cb2-b64d-2b44506f9c3f');\n",
              "          const dataTable =\n",
              "            await google.colab.kernel.invokeFunction('convertToInteractive',\n",
              "                                                     [key], {});\n",
              "          if (!dataTable) return;\n",
              "\n",
              "          const docLinkHtml = 'Like what you see? Visit the ' +\n",
              "            '<a target=\"_blank\" href=https://colab.research.google.com/notebooks/data_table.ipynb>data table notebook</a>'\n",
              "            + ' to learn more about interactive tables.';\n",
              "          element.innerHTML = '';\n",
              "          dataTable['output_type'] = 'display_data';\n",
              "          await google.colab.output.renderOutput(dataTable, element);\n",
              "          const docLink = document.createElement('div');\n",
              "          docLink.innerHTML = docLinkHtml;\n",
              "          element.appendChild(docLink);\n",
              "        }\n",
              "      </script>\n",
              "    </div>\n",
              "  </div>\n",
              "  "
            ]
          },
          "metadata": {},
          "execution_count": 33
        }
      ],
      "source": [
        "df.head(20)"
      ]
    },
    {
      "cell_type": "markdown",
      "metadata": {
        "id": "7lkRn7SNR6zX"
      },
      "source": [
        "Перейдем к таблице `messages`. Как делали выше, добавим столбец `month` и сделаем группировку."
      ]
    },
    {
      "cell_type": "code",
      "execution_count": 34,
      "metadata": {
        "scrolled": false,
        "colab": {
          "base_uri": "https://localhost:8080/"
        },
        "id": "XYFp9sdtR6zX",
        "outputId": "84210f23-793b-4252-cb00-8c286dae6f7d"
      },
      "outputs": [
        {
          "output_type": "execute_result",
          "data": {
            "text/plain": [
              "12    20555\n",
              "11    18244\n",
              "10    17114\n",
              "9     14759\n",
              "8     13088\n",
              "7     11320\n",
              "6      8983\n",
              "5      7298\n",
              "4      5179\n",
              "3      3648\n",
              "2      1924\n",
              "1       924\n",
              "Name: month, dtype: int64"
            ]
          },
          "metadata": {},
          "execution_count": 34
        }
      ],
      "source": [
        "try:\n",
        "    messages['month'] = pd.to_datetime(messages['message_date']).dt.month.astype(int)\n",
        "except:\n",
        "    print('что-то пошло не так!')\n",
        "messages['month'].value_counts()"
      ]
    },
    {
      "cell_type": "code",
      "execution_count": 35,
      "metadata": {
        "scrolled": true,
        "colab": {
          "base_uri": "https://localhost:8080/",
          "height": 363
        },
        "id": "n37XTLPTR6zX",
        "outputId": "f5fa8b42-99e5-4fa2-a3dd-915ad9ac8166"
      },
      "outputs": [
        {
          "output_type": "execute_result",
          "data": {
            "text/plain": [
              "   user_id  month  msg_count\n",
              "0     1000      5         22\n",
              "1     1000      6         60\n",
              "2     1000      7         75\n",
              "3     1000      8         81\n",
              "4     1000      9         57\n",
              "5     1000     10         73\n",
              "6     1000     11         58\n",
              "7     1000     12         70\n",
              "8     1002      6          4\n",
              "9     1002      7         11"
            ],
            "text/html": [
              "\n",
              "  <div id=\"df-0440835b-0b10-491f-8f9f-c511032fdf21\">\n",
              "    <div class=\"colab-df-container\">\n",
              "      <div>\n",
              "<style scoped>\n",
              "    .dataframe tbody tr th:only-of-type {\n",
              "        vertical-align: middle;\n",
              "    }\n",
              "\n",
              "    .dataframe tbody tr th {\n",
              "        vertical-align: top;\n",
              "    }\n",
              "\n",
              "    .dataframe thead th {\n",
              "        text-align: right;\n",
              "    }\n",
              "</style>\n",
              "<table border=\"1\" class=\"dataframe\">\n",
              "  <thead>\n",
              "    <tr style=\"text-align: right;\">\n",
              "      <th></th>\n",
              "      <th>user_id</th>\n",
              "      <th>month</th>\n",
              "      <th>msg_count</th>\n",
              "    </tr>\n",
              "  </thead>\n",
              "  <tbody>\n",
              "    <tr>\n",
              "      <th>0</th>\n",
              "      <td>1000</td>\n",
              "      <td>5</td>\n",
              "      <td>22</td>\n",
              "    </tr>\n",
              "    <tr>\n",
              "      <th>1</th>\n",
              "      <td>1000</td>\n",
              "      <td>6</td>\n",
              "      <td>60</td>\n",
              "    </tr>\n",
              "    <tr>\n",
              "      <th>2</th>\n",
              "      <td>1000</td>\n",
              "      <td>7</td>\n",
              "      <td>75</td>\n",
              "    </tr>\n",
              "    <tr>\n",
              "      <th>3</th>\n",
              "      <td>1000</td>\n",
              "      <td>8</td>\n",
              "      <td>81</td>\n",
              "    </tr>\n",
              "    <tr>\n",
              "      <th>4</th>\n",
              "      <td>1000</td>\n",
              "      <td>9</td>\n",
              "      <td>57</td>\n",
              "    </tr>\n",
              "    <tr>\n",
              "      <th>5</th>\n",
              "      <td>1000</td>\n",
              "      <td>10</td>\n",
              "      <td>73</td>\n",
              "    </tr>\n",
              "    <tr>\n",
              "      <th>6</th>\n",
              "      <td>1000</td>\n",
              "      <td>11</td>\n",
              "      <td>58</td>\n",
              "    </tr>\n",
              "    <tr>\n",
              "      <th>7</th>\n",
              "      <td>1000</td>\n",
              "      <td>12</td>\n",
              "      <td>70</td>\n",
              "    </tr>\n",
              "    <tr>\n",
              "      <th>8</th>\n",
              "      <td>1002</td>\n",
              "      <td>6</td>\n",
              "      <td>4</td>\n",
              "    </tr>\n",
              "    <tr>\n",
              "      <th>9</th>\n",
              "      <td>1002</td>\n",
              "      <td>7</td>\n",
              "      <td>11</td>\n",
              "    </tr>\n",
              "  </tbody>\n",
              "</table>\n",
              "</div>\n",
              "      <button class=\"colab-df-convert\" onclick=\"convertToInteractive('df-0440835b-0b10-491f-8f9f-c511032fdf21')\"\n",
              "              title=\"Convert this dataframe to an interactive table.\"\n",
              "              style=\"display:none;\">\n",
              "        \n",
              "  <svg xmlns=\"http://www.w3.org/2000/svg\" height=\"24px\"viewBox=\"0 0 24 24\"\n",
              "       width=\"24px\">\n",
              "    <path d=\"M0 0h24v24H0V0z\" fill=\"none\"/>\n",
              "    <path d=\"M18.56 5.44l.94 2.06.94-2.06 2.06-.94-2.06-.94-.94-2.06-.94 2.06-2.06.94zm-11 1L8.5 8.5l.94-2.06 2.06-.94-2.06-.94L8.5 2.5l-.94 2.06-2.06.94zm10 10l.94 2.06.94-2.06 2.06-.94-2.06-.94-.94-2.06-.94 2.06-2.06.94z\"/><path d=\"M17.41 7.96l-1.37-1.37c-.4-.4-.92-.59-1.43-.59-.52 0-1.04.2-1.43.59L10.3 9.45l-7.72 7.72c-.78.78-.78 2.05 0 2.83L4 21.41c.39.39.9.59 1.41.59.51 0 1.02-.2 1.41-.59l7.78-7.78 2.81-2.81c.8-.78.8-2.07 0-2.86zM5.41 20L4 18.59l7.72-7.72 1.47 1.35L5.41 20z\"/>\n",
              "  </svg>\n",
              "      </button>\n",
              "      \n",
              "  <style>\n",
              "    .colab-df-container {\n",
              "      display:flex;\n",
              "      flex-wrap:wrap;\n",
              "      gap: 12px;\n",
              "    }\n",
              "\n",
              "    .colab-df-convert {\n",
              "      background-color: #E8F0FE;\n",
              "      border: none;\n",
              "      border-radius: 50%;\n",
              "      cursor: pointer;\n",
              "      display: none;\n",
              "      fill: #1967D2;\n",
              "      height: 32px;\n",
              "      padding: 0 0 0 0;\n",
              "      width: 32px;\n",
              "    }\n",
              "\n",
              "    .colab-df-convert:hover {\n",
              "      background-color: #E2EBFA;\n",
              "      box-shadow: 0px 1px 2px rgba(60, 64, 67, 0.3), 0px 1px 3px 1px rgba(60, 64, 67, 0.15);\n",
              "      fill: #174EA6;\n",
              "    }\n",
              "\n",
              "    [theme=dark] .colab-df-convert {\n",
              "      background-color: #3B4455;\n",
              "      fill: #D2E3FC;\n",
              "    }\n",
              "\n",
              "    [theme=dark] .colab-df-convert:hover {\n",
              "      background-color: #434B5C;\n",
              "      box-shadow: 0px 1px 3px 1px rgba(0, 0, 0, 0.15);\n",
              "      filter: drop-shadow(0px 1px 2px rgba(0, 0, 0, 0.3));\n",
              "      fill: #FFFFFF;\n",
              "    }\n",
              "  </style>\n",
              "\n",
              "      <script>\n",
              "        const buttonEl =\n",
              "          document.querySelector('#df-0440835b-0b10-491f-8f9f-c511032fdf21 button.colab-df-convert');\n",
              "        buttonEl.style.display =\n",
              "          google.colab.kernel.accessAllowed ? 'block' : 'none';\n",
              "\n",
              "        async function convertToInteractive(key) {\n",
              "          const element = document.querySelector('#df-0440835b-0b10-491f-8f9f-c511032fdf21');\n",
              "          const dataTable =\n",
              "            await google.colab.kernel.invokeFunction('convertToInteractive',\n",
              "                                                     [key], {});\n",
              "          if (!dataTable) return;\n",
              "\n",
              "          const docLinkHtml = 'Like what you see? Visit the ' +\n",
              "            '<a target=\"_blank\" href=https://colab.research.google.com/notebooks/data_table.ipynb>data table notebook</a>'\n",
              "            + ' to learn more about interactive tables.';\n",
              "          element.innerHTML = '';\n",
              "          dataTable['output_type'] = 'display_data';\n",
              "          await google.colab.output.renderOutput(dataTable, element);\n",
              "          const docLink = document.createElement('div');\n",
              "          docLink.innerHTML = docLinkHtml;\n",
              "          element.appendChild(docLink);\n",
              "        }\n",
              "      </script>\n",
              "    </div>\n",
              "  </div>\n",
              "  "
            ]
          },
          "metadata": {},
          "execution_count": 35
        }
      ],
      "source": [
        "#группирум по user_id, month. Затем делаем count(), чтобы получить число сообщений\n",
        "messages_grouped = messages.groupby(['user_id', 'month'])['id'].count().reset_index()\n",
        "messages_grouped.columns = ['user_id', 'month', 'msg_count'] #переименовывем столбец\n",
        "messages_grouped.head(10)"
      ]
    },
    {
      "cell_type": "markdown",
      "metadata": {
        "id": "38B7YQkUR6zY"
      },
      "source": [
        "Приклеиваем к итоговому датафрейму, снова не забываем про `outer`."
      ]
    },
    {
      "cell_type": "code",
      "execution_count": 36,
      "metadata": {
        "scrolled": false,
        "id": "xHwFBXI0R6zY"
      },
      "outputs": [],
      "source": [
        "df = pd.merge(df, messages_grouped, on=['user_id', 'month'], how='outer')"
      ]
    },
    {
      "cell_type": "code",
      "execution_count": 37,
      "metadata": {
        "scrolled": false,
        "colab": {
          "base_uri": "https://localhost:8080/",
          "height": 363
        },
        "id": "1oeT8veER6zY",
        "outputId": "49904a2f-7574-4356-ba82-d025b36386a4"
      },
      "outputs": [
        {
          "output_type": "execute_result",
          "data": {
            "text/plain": [
              "   user_id  month  call_duration_total  call_count  gb_used  msg_count\n",
              "0     1000      5                159.0        22.0      3.0       22.0\n",
              "1     1000      6                172.0        43.0     23.0       60.0\n",
              "2     1000      7                340.0        47.0     14.0       75.0\n",
              "3     1000      8                408.0        52.0     14.0       81.0\n",
              "4     1000      9                466.0        58.0     15.0       57.0\n",
              "5     1000     10                350.0        57.0     15.0       73.0\n",
              "6     1000     11                338.0        43.0     15.0       58.0\n",
              "7     1000     12                333.0        46.0     10.0       70.0\n",
              "8     1001     11                430.0        59.0     18.0        NaN\n",
              "9     1001     12                414.0        63.0     14.0        NaN"
            ],
            "text/html": [
              "\n",
              "  <div id=\"df-c290aac6-54f1-4640-9a82-22fc972eb2c3\">\n",
              "    <div class=\"colab-df-container\">\n",
              "      <div>\n",
              "<style scoped>\n",
              "    .dataframe tbody tr th:only-of-type {\n",
              "        vertical-align: middle;\n",
              "    }\n",
              "\n",
              "    .dataframe tbody tr th {\n",
              "        vertical-align: top;\n",
              "    }\n",
              "\n",
              "    .dataframe thead th {\n",
              "        text-align: right;\n",
              "    }\n",
              "</style>\n",
              "<table border=\"1\" class=\"dataframe\">\n",
              "  <thead>\n",
              "    <tr style=\"text-align: right;\">\n",
              "      <th></th>\n",
              "      <th>user_id</th>\n",
              "      <th>month</th>\n",
              "      <th>call_duration_total</th>\n",
              "      <th>call_count</th>\n",
              "      <th>gb_used</th>\n",
              "      <th>msg_count</th>\n",
              "    </tr>\n",
              "  </thead>\n",
              "  <tbody>\n",
              "    <tr>\n",
              "      <th>0</th>\n",
              "      <td>1000</td>\n",
              "      <td>5</td>\n",
              "      <td>159.0</td>\n",
              "      <td>22.0</td>\n",
              "      <td>3.0</td>\n",
              "      <td>22.0</td>\n",
              "    </tr>\n",
              "    <tr>\n",
              "      <th>1</th>\n",
              "      <td>1000</td>\n",
              "      <td>6</td>\n",
              "      <td>172.0</td>\n",
              "      <td>43.0</td>\n",
              "      <td>23.0</td>\n",
              "      <td>60.0</td>\n",
              "    </tr>\n",
              "    <tr>\n",
              "      <th>2</th>\n",
              "      <td>1000</td>\n",
              "      <td>7</td>\n",
              "      <td>340.0</td>\n",
              "      <td>47.0</td>\n",
              "      <td>14.0</td>\n",
              "      <td>75.0</td>\n",
              "    </tr>\n",
              "    <tr>\n",
              "      <th>3</th>\n",
              "      <td>1000</td>\n",
              "      <td>8</td>\n",
              "      <td>408.0</td>\n",
              "      <td>52.0</td>\n",
              "      <td>14.0</td>\n",
              "      <td>81.0</td>\n",
              "    </tr>\n",
              "    <tr>\n",
              "      <th>4</th>\n",
              "      <td>1000</td>\n",
              "      <td>9</td>\n",
              "      <td>466.0</td>\n",
              "      <td>58.0</td>\n",
              "      <td>15.0</td>\n",
              "      <td>57.0</td>\n",
              "    </tr>\n",
              "    <tr>\n",
              "      <th>5</th>\n",
              "      <td>1000</td>\n",
              "      <td>10</td>\n",
              "      <td>350.0</td>\n",
              "      <td>57.0</td>\n",
              "      <td>15.0</td>\n",
              "      <td>73.0</td>\n",
              "    </tr>\n",
              "    <tr>\n",
              "      <th>6</th>\n",
              "      <td>1000</td>\n",
              "      <td>11</td>\n",
              "      <td>338.0</td>\n",
              "      <td>43.0</td>\n",
              "      <td>15.0</td>\n",
              "      <td>58.0</td>\n",
              "    </tr>\n",
              "    <tr>\n",
              "      <th>7</th>\n",
              "      <td>1000</td>\n",
              "      <td>12</td>\n",
              "      <td>333.0</td>\n",
              "      <td>46.0</td>\n",
              "      <td>10.0</td>\n",
              "      <td>70.0</td>\n",
              "    </tr>\n",
              "    <tr>\n",
              "      <th>8</th>\n",
              "      <td>1001</td>\n",
              "      <td>11</td>\n",
              "      <td>430.0</td>\n",
              "      <td>59.0</td>\n",
              "      <td>18.0</td>\n",
              "      <td>NaN</td>\n",
              "    </tr>\n",
              "    <tr>\n",
              "      <th>9</th>\n",
              "      <td>1001</td>\n",
              "      <td>12</td>\n",
              "      <td>414.0</td>\n",
              "      <td>63.0</td>\n",
              "      <td>14.0</td>\n",
              "      <td>NaN</td>\n",
              "    </tr>\n",
              "  </tbody>\n",
              "</table>\n",
              "</div>\n",
              "      <button class=\"colab-df-convert\" onclick=\"convertToInteractive('df-c290aac6-54f1-4640-9a82-22fc972eb2c3')\"\n",
              "              title=\"Convert this dataframe to an interactive table.\"\n",
              "              style=\"display:none;\">\n",
              "        \n",
              "  <svg xmlns=\"http://www.w3.org/2000/svg\" height=\"24px\"viewBox=\"0 0 24 24\"\n",
              "       width=\"24px\">\n",
              "    <path d=\"M0 0h24v24H0V0z\" fill=\"none\"/>\n",
              "    <path d=\"M18.56 5.44l.94 2.06.94-2.06 2.06-.94-2.06-.94-.94-2.06-.94 2.06-2.06.94zm-11 1L8.5 8.5l.94-2.06 2.06-.94-2.06-.94L8.5 2.5l-.94 2.06-2.06.94zm10 10l.94 2.06.94-2.06 2.06-.94-2.06-.94-.94-2.06-.94 2.06-2.06.94z\"/><path d=\"M17.41 7.96l-1.37-1.37c-.4-.4-.92-.59-1.43-.59-.52 0-1.04.2-1.43.59L10.3 9.45l-7.72 7.72c-.78.78-.78 2.05 0 2.83L4 21.41c.39.39.9.59 1.41.59.51 0 1.02-.2 1.41-.59l7.78-7.78 2.81-2.81c.8-.78.8-2.07 0-2.86zM5.41 20L4 18.59l7.72-7.72 1.47 1.35L5.41 20z\"/>\n",
              "  </svg>\n",
              "      </button>\n",
              "      \n",
              "  <style>\n",
              "    .colab-df-container {\n",
              "      display:flex;\n",
              "      flex-wrap:wrap;\n",
              "      gap: 12px;\n",
              "    }\n",
              "\n",
              "    .colab-df-convert {\n",
              "      background-color: #E8F0FE;\n",
              "      border: none;\n",
              "      border-radius: 50%;\n",
              "      cursor: pointer;\n",
              "      display: none;\n",
              "      fill: #1967D2;\n",
              "      height: 32px;\n",
              "      padding: 0 0 0 0;\n",
              "      width: 32px;\n",
              "    }\n",
              "\n",
              "    .colab-df-convert:hover {\n",
              "      background-color: #E2EBFA;\n",
              "      box-shadow: 0px 1px 2px rgba(60, 64, 67, 0.3), 0px 1px 3px 1px rgba(60, 64, 67, 0.15);\n",
              "      fill: #174EA6;\n",
              "    }\n",
              "\n",
              "    [theme=dark] .colab-df-convert {\n",
              "      background-color: #3B4455;\n",
              "      fill: #D2E3FC;\n",
              "    }\n",
              "\n",
              "    [theme=dark] .colab-df-convert:hover {\n",
              "      background-color: #434B5C;\n",
              "      box-shadow: 0px 1px 3px 1px rgba(0, 0, 0, 0.15);\n",
              "      filter: drop-shadow(0px 1px 2px rgba(0, 0, 0, 0.3));\n",
              "      fill: #FFFFFF;\n",
              "    }\n",
              "  </style>\n",
              "\n",
              "      <script>\n",
              "        const buttonEl =\n",
              "          document.querySelector('#df-c290aac6-54f1-4640-9a82-22fc972eb2c3 button.colab-df-convert');\n",
              "        buttonEl.style.display =\n",
              "          google.colab.kernel.accessAllowed ? 'block' : 'none';\n",
              "\n",
              "        async function convertToInteractive(key) {\n",
              "          const element = document.querySelector('#df-c290aac6-54f1-4640-9a82-22fc972eb2c3');\n",
              "          const dataTable =\n",
              "            await google.colab.kernel.invokeFunction('convertToInteractive',\n",
              "                                                     [key], {});\n",
              "          if (!dataTable) return;\n",
              "\n",
              "          const docLinkHtml = 'Like what you see? Visit the ' +\n",
              "            '<a target=\"_blank\" href=https://colab.research.google.com/notebooks/data_table.ipynb>data table notebook</a>'\n",
              "            + ' to learn more about interactive tables.';\n",
              "          element.innerHTML = '';\n",
              "          dataTable['output_type'] = 'display_data';\n",
              "          await google.colab.output.renderOutput(dataTable, element);\n",
              "          const docLink = document.createElement('div');\n",
              "          docLink.innerHTML = docLinkHtml;\n",
              "          element.appendChild(docLink);\n",
              "        }\n",
              "      </script>\n",
              "    </div>\n",
              "  </div>\n",
              "  "
            ]
          },
          "metadata": {},
          "execution_count": 37
        }
      ],
      "source": [
        "df.head(10)"
      ]
    },
    {
      "cell_type": "markdown",
      "metadata": {
        "id": "Iyks8MbER6zZ"
      },
      "source": [
        "Переходим к таблице `users`. Для начала снова добавим номера месяцев. В этот раз у нас два столбца с датой `reg_date`, `churn_date`. Добавим соответствующие столбцы `reg_month`, `churn_month`."
      ]
    },
    {
      "cell_type": "code",
      "execution_count": 38,
      "metadata": {
        "id": "2B0yY0llR6zZ"
      },
      "outputs": [],
      "source": [
        "try:\n",
        "    users['reg_month'] = pd.to_datetime(users['reg_date'],\n",
        "                                        errors='ignore').dt.month.astype(\n",
        "                                            int, errors='ignore')\n",
        "    users['churn_month'] = pd.to_datetime(users['churn_date'],\n",
        "                                          errors='ignore').dt.month.astype(\n",
        "                                              int, errors='ignore')\n",
        "except:\n",
        "    print('что-то пошло не так!')"
      ]
    },
    {
      "cell_type": "markdown",
      "metadata": {
        "id": "oTSuWi7XR6zZ"
      },
      "source": [
        "Столбец `tariff` переименуем в `tariff_name`, поскольку так он называется в таблице `tariffs`. Это нужно для дальнейшей склейки."
      ]
    },
    {
      "cell_type": "code",
      "execution_count": 39,
      "metadata": {
        "id": "UT-uwr10R6zZ"
      },
      "outputs": [],
      "source": [
        "users.columns = ['user_id', 'age', 'churn_date', 'city',\n",
        "                 'first_name', 'last_name', 'reg_date',\n",
        "                 'tariff_name', 'reg_month', 'churn_month']"
      ]
    },
    {
      "cell_type": "code",
      "execution_count": 40,
      "metadata": {
        "scrolled": false,
        "colab": {
          "base_uri": "https://localhost:8080/",
          "height": 206
        },
        "id": "9t06REL0R6za",
        "outputId": "d0522ad7-fddc-44c1-fe09-847d7bd1876e"
      },
      "outputs": [
        {
          "output_type": "execute_result",
          "data": {
            "text/plain": [
              "   user_id  age churn_date         city first_name  last_name    reg_date  \\\n",
              "0     1000   52        NaN    Краснодар     Рафаил  Верещагин  2018-05-25   \n",
              "1     1001   41        NaN       Москва       Иван       Ежов  2018-11-01   \n",
              "2     1002   59        NaN  Стерлитамак    Евгений  Абрамович  2018-06-17   \n",
              "3     1003   23        NaN       Москва      Белла   Белякова  2018-08-17   \n",
              "4     1004   68        NaN  Новокузнецк    Татьяна   Авдеенко  2018-05-14   \n",
              "\n",
              "  tariff_name  reg_month  churn_month  \n",
              "0       ultra          5          NaN  \n",
              "1       smart         11          NaN  \n",
              "2       smart          6          NaN  \n",
              "3       ultra          8          NaN  \n",
              "4       ultra          5          NaN  "
            ],
            "text/html": [
              "\n",
              "  <div id=\"df-935546f9-55cd-4323-b393-34603692197a\">\n",
              "    <div class=\"colab-df-container\">\n",
              "      <div>\n",
              "<style scoped>\n",
              "    .dataframe tbody tr th:only-of-type {\n",
              "        vertical-align: middle;\n",
              "    }\n",
              "\n",
              "    .dataframe tbody tr th {\n",
              "        vertical-align: top;\n",
              "    }\n",
              "\n",
              "    .dataframe thead th {\n",
              "        text-align: right;\n",
              "    }\n",
              "</style>\n",
              "<table border=\"1\" class=\"dataframe\">\n",
              "  <thead>\n",
              "    <tr style=\"text-align: right;\">\n",
              "      <th></th>\n",
              "      <th>user_id</th>\n",
              "      <th>age</th>\n",
              "      <th>churn_date</th>\n",
              "      <th>city</th>\n",
              "      <th>first_name</th>\n",
              "      <th>last_name</th>\n",
              "      <th>reg_date</th>\n",
              "      <th>tariff_name</th>\n",
              "      <th>reg_month</th>\n",
              "      <th>churn_month</th>\n",
              "    </tr>\n",
              "  </thead>\n",
              "  <tbody>\n",
              "    <tr>\n",
              "      <th>0</th>\n",
              "      <td>1000</td>\n",
              "      <td>52</td>\n",
              "      <td>NaN</td>\n",
              "      <td>Краснодар</td>\n",
              "      <td>Рафаил</td>\n",
              "      <td>Верещагин</td>\n",
              "      <td>2018-05-25</td>\n",
              "      <td>ultra</td>\n",
              "      <td>5</td>\n",
              "      <td>NaN</td>\n",
              "    </tr>\n",
              "    <tr>\n",
              "      <th>1</th>\n",
              "      <td>1001</td>\n",
              "      <td>41</td>\n",
              "      <td>NaN</td>\n",
              "      <td>Москва</td>\n",
              "      <td>Иван</td>\n",
              "      <td>Ежов</td>\n",
              "      <td>2018-11-01</td>\n",
              "      <td>smart</td>\n",
              "      <td>11</td>\n",
              "      <td>NaN</td>\n",
              "    </tr>\n",
              "    <tr>\n",
              "      <th>2</th>\n",
              "      <td>1002</td>\n",
              "      <td>59</td>\n",
              "      <td>NaN</td>\n",
              "      <td>Стерлитамак</td>\n",
              "      <td>Евгений</td>\n",
              "      <td>Абрамович</td>\n",
              "      <td>2018-06-17</td>\n",
              "      <td>smart</td>\n",
              "      <td>6</td>\n",
              "      <td>NaN</td>\n",
              "    </tr>\n",
              "    <tr>\n",
              "      <th>3</th>\n",
              "      <td>1003</td>\n",
              "      <td>23</td>\n",
              "      <td>NaN</td>\n",
              "      <td>Москва</td>\n",
              "      <td>Белла</td>\n",
              "      <td>Белякова</td>\n",
              "      <td>2018-08-17</td>\n",
              "      <td>ultra</td>\n",
              "      <td>8</td>\n",
              "      <td>NaN</td>\n",
              "    </tr>\n",
              "    <tr>\n",
              "      <th>4</th>\n",
              "      <td>1004</td>\n",
              "      <td>68</td>\n",
              "      <td>NaN</td>\n",
              "      <td>Новокузнецк</td>\n",
              "      <td>Татьяна</td>\n",
              "      <td>Авдеенко</td>\n",
              "      <td>2018-05-14</td>\n",
              "      <td>ultra</td>\n",
              "      <td>5</td>\n",
              "      <td>NaN</td>\n",
              "    </tr>\n",
              "  </tbody>\n",
              "</table>\n",
              "</div>\n",
              "      <button class=\"colab-df-convert\" onclick=\"convertToInteractive('df-935546f9-55cd-4323-b393-34603692197a')\"\n",
              "              title=\"Convert this dataframe to an interactive table.\"\n",
              "              style=\"display:none;\">\n",
              "        \n",
              "  <svg xmlns=\"http://www.w3.org/2000/svg\" height=\"24px\"viewBox=\"0 0 24 24\"\n",
              "       width=\"24px\">\n",
              "    <path d=\"M0 0h24v24H0V0z\" fill=\"none\"/>\n",
              "    <path d=\"M18.56 5.44l.94 2.06.94-2.06 2.06-.94-2.06-.94-.94-2.06-.94 2.06-2.06.94zm-11 1L8.5 8.5l.94-2.06 2.06-.94-2.06-.94L8.5 2.5l-.94 2.06-2.06.94zm10 10l.94 2.06.94-2.06 2.06-.94-2.06-.94-.94-2.06-.94 2.06-2.06.94z\"/><path d=\"M17.41 7.96l-1.37-1.37c-.4-.4-.92-.59-1.43-.59-.52 0-1.04.2-1.43.59L10.3 9.45l-7.72 7.72c-.78.78-.78 2.05 0 2.83L4 21.41c.39.39.9.59 1.41.59.51 0 1.02-.2 1.41-.59l7.78-7.78 2.81-2.81c.8-.78.8-2.07 0-2.86zM5.41 20L4 18.59l7.72-7.72 1.47 1.35L5.41 20z\"/>\n",
              "  </svg>\n",
              "      </button>\n",
              "      \n",
              "  <style>\n",
              "    .colab-df-container {\n",
              "      display:flex;\n",
              "      flex-wrap:wrap;\n",
              "      gap: 12px;\n",
              "    }\n",
              "\n",
              "    .colab-df-convert {\n",
              "      background-color: #E8F0FE;\n",
              "      border: none;\n",
              "      border-radius: 50%;\n",
              "      cursor: pointer;\n",
              "      display: none;\n",
              "      fill: #1967D2;\n",
              "      height: 32px;\n",
              "      padding: 0 0 0 0;\n",
              "      width: 32px;\n",
              "    }\n",
              "\n",
              "    .colab-df-convert:hover {\n",
              "      background-color: #E2EBFA;\n",
              "      box-shadow: 0px 1px 2px rgba(60, 64, 67, 0.3), 0px 1px 3px 1px rgba(60, 64, 67, 0.15);\n",
              "      fill: #174EA6;\n",
              "    }\n",
              "\n",
              "    [theme=dark] .colab-df-convert {\n",
              "      background-color: #3B4455;\n",
              "      fill: #D2E3FC;\n",
              "    }\n",
              "\n",
              "    [theme=dark] .colab-df-convert:hover {\n",
              "      background-color: #434B5C;\n",
              "      box-shadow: 0px 1px 3px 1px rgba(0, 0, 0, 0.15);\n",
              "      filter: drop-shadow(0px 1px 2px rgba(0, 0, 0, 0.3));\n",
              "      fill: #FFFFFF;\n",
              "    }\n",
              "  </style>\n",
              "\n",
              "      <script>\n",
              "        const buttonEl =\n",
              "          document.querySelector('#df-935546f9-55cd-4323-b393-34603692197a button.colab-df-convert');\n",
              "        buttonEl.style.display =\n",
              "          google.colab.kernel.accessAllowed ? 'block' : 'none';\n",
              "\n",
              "        async function convertToInteractive(key) {\n",
              "          const element = document.querySelector('#df-935546f9-55cd-4323-b393-34603692197a');\n",
              "          const dataTable =\n",
              "            await google.colab.kernel.invokeFunction('convertToInteractive',\n",
              "                                                     [key], {});\n",
              "          if (!dataTable) return;\n",
              "\n",
              "          const docLinkHtml = 'Like what you see? Visit the ' +\n",
              "            '<a target=\"_blank\" href=https://colab.research.google.com/notebooks/data_table.ipynb>data table notebook</a>'\n",
              "            + ' to learn more about interactive tables.';\n",
              "          element.innerHTML = '';\n",
              "          dataTable['output_type'] = 'display_data';\n",
              "          await google.colab.output.renderOutput(dataTable, element);\n",
              "          const docLink = document.createElement('div');\n",
              "          docLink.innerHTML = docLinkHtml;\n",
              "          element.appendChild(docLink);\n",
              "        }\n",
              "      </script>\n",
              "    </div>\n",
              "  </div>\n",
              "  "
            ]
          },
          "metadata": {},
          "execution_count": 40
        }
      ],
      "source": [
        "users.head()"
      ]
    },
    {
      "cell_type": "markdown",
      "metadata": {
        "id": "_9sUet9HR6za"
      },
      "source": [
        "Из таблицы `users` нам неоходимы следующие столбцы: `tariff_name`, `reg_month`, `churn_month`, `city`. Приклеим их к итоговому датафрейму."
      ]
    },
    {
      "cell_type": "code",
      "execution_count": 41,
      "metadata": {
        "id": "buEV1ds_R6za"
      },
      "outputs": [],
      "source": [
        "df = pd.merge(df, users[['user_id', 'tariff_name',\n",
        "                         'reg_month', 'churn_month', 'city']],\n",
        "               on='user_id', how='outer')"
      ]
    },
    {
      "cell_type": "markdown",
      "metadata": {
        "id": "dCZ6XbX9R6zb"
      },
      "source": [
        "Осталась последняя таблица `tariffs`, из которой нам нужны данные для расчета платежей пользователей"
      ]
    },
    {
      "cell_type": "code",
      "execution_count": 42,
      "metadata": {
        "colab": {
          "base_uri": "https://localhost:8080/",
          "height": 112
        },
        "id": "LTtiNmpGR6zb",
        "outputId": "64ea39f8-a894-4105-a0bd-00c42d5dda3c"
      },
      "outputs": [
        {
          "output_type": "execute_result",
          "data": {
            "text/plain": [
              "   messages_included  mb_per_month_included  minutes_included  \\\n",
              "0                 50                  15360               500   \n",
              "1               1000                  30720              3000   \n",
              "\n",
              "   rub_monthly_fee  rub_per_gb  rub_per_message  rub_per_minute tariff_name  \n",
              "0              550         200                3               3       smart  \n",
              "1             1950         150                1               1       ultra  "
            ],
            "text/html": [
              "\n",
              "  <div id=\"df-2b17273e-40be-4a0a-95dc-c80f18f32ce4\">\n",
              "    <div class=\"colab-df-container\">\n",
              "      <div>\n",
              "<style scoped>\n",
              "    .dataframe tbody tr th:only-of-type {\n",
              "        vertical-align: middle;\n",
              "    }\n",
              "\n",
              "    .dataframe tbody tr th {\n",
              "        vertical-align: top;\n",
              "    }\n",
              "\n",
              "    .dataframe thead th {\n",
              "        text-align: right;\n",
              "    }\n",
              "</style>\n",
              "<table border=\"1\" class=\"dataframe\">\n",
              "  <thead>\n",
              "    <tr style=\"text-align: right;\">\n",
              "      <th></th>\n",
              "      <th>messages_included</th>\n",
              "      <th>mb_per_month_included</th>\n",
              "      <th>minutes_included</th>\n",
              "      <th>rub_monthly_fee</th>\n",
              "      <th>rub_per_gb</th>\n",
              "      <th>rub_per_message</th>\n",
              "      <th>rub_per_minute</th>\n",
              "      <th>tariff_name</th>\n",
              "    </tr>\n",
              "  </thead>\n",
              "  <tbody>\n",
              "    <tr>\n",
              "      <th>0</th>\n",
              "      <td>50</td>\n",
              "      <td>15360</td>\n",
              "      <td>500</td>\n",
              "      <td>550</td>\n",
              "      <td>200</td>\n",
              "      <td>3</td>\n",
              "      <td>3</td>\n",
              "      <td>smart</td>\n",
              "    </tr>\n",
              "    <tr>\n",
              "      <th>1</th>\n",
              "      <td>1000</td>\n",
              "      <td>30720</td>\n",
              "      <td>3000</td>\n",
              "      <td>1950</td>\n",
              "      <td>150</td>\n",
              "      <td>1</td>\n",
              "      <td>1</td>\n",
              "      <td>ultra</td>\n",
              "    </tr>\n",
              "  </tbody>\n",
              "</table>\n",
              "</div>\n",
              "      <button class=\"colab-df-convert\" onclick=\"convertToInteractive('df-2b17273e-40be-4a0a-95dc-c80f18f32ce4')\"\n",
              "              title=\"Convert this dataframe to an interactive table.\"\n",
              "              style=\"display:none;\">\n",
              "        \n",
              "  <svg xmlns=\"http://www.w3.org/2000/svg\" height=\"24px\"viewBox=\"0 0 24 24\"\n",
              "       width=\"24px\">\n",
              "    <path d=\"M0 0h24v24H0V0z\" fill=\"none\"/>\n",
              "    <path d=\"M18.56 5.44l.94 2.06.94-2.06 2.06-.94-2.06-.94-.94-2.06-.94 2.06-2.06.94zm-11 1L8.5 8.5l.94-2.06 2.06-.94-2.06-.94L8.5 2.5l-.94 2.06-2.06.94zm10 10l.94 2.06.94-2.06 2.06-.94-2.06-.94-.94-2.06-.94 2.06-2.06.94z\"/><path d=\"M17.41 7.96l-1.37-1.37c-.4-.4-.92-.59-1.43-.59-.52 0-1.04.2-1.43.59L10.3 9.45l-7.72 7.72c-.78.78-.78 2.05 0 2.83L4 21.41c.39.39.9.59 1.41.59.51 0 1.02-.2 1.41-.59l7.78-7.78 2.81-2.81c.8-.78.8-2.07 0-2.86zM5.41 20L4 18.59l7.72-7.72 1.47 1.35L5.41 20z\"/>\n",
              "  </svg>\n",
              "      </button>\n",
              "      \n",
              "  <style>\n",
              "    .colab-df-container {\n",
              "      display:flex;\n",
              "      flex-wrap:wrap;\n",
              "      gap: 12px;\n",
              "    }\n",
              "\n",
              "    .colab-df-convert {\n",
              "      background-color: #E8F0FE;\n",
              "      border: none;\n",
              "      border-radius: 50%;\n",
              "      cursor: pointer;\n",
              "      display: none;\n",
              "      fill: #1967D2;\n",
              "      height: 32px;\n",
              "      padding: 0 0 0 0;\n",
              "      width: 32px;\n",
              "    }\n",
              "\n",
              "    .colab-df-convert:hover {\n",
              "      background-color: #E2EBFA;\n",
              "      box-shadow: 0px 1px 2px rgba(60, 64, 67, 0.3), 0px 1px 3px 1px rgba(60, 64, 67, 0.15);\n",
              "      fill: #174EA6;\n",
              "    }\n",
              "\n",
              "    [theme=dark] .colab-df-convert {\n",
              "      background-color: #3B4455;\n",
              "      fill: #D2E3FC;\n",
              "    }\n",
              "\n",
              "    [theme=dark] .colab-df-convert:hover {\n",
              "      background-color: #434B5C;\n",
              "      box-shadow: 0px 1px 3px 1px rgba(0, 0, 0, 0.15);\n",
              "      filter: drop-shadow(0px 1px 2px rgba(0, 0, 0, 0.3));\n",
              "      fill: #FFFFFF;\n",
              "    }\n",
              "  </style>\n",
              "\n",
              "      <script>\n",
              "        const buttonEl =\n",
              "          document.querySelector('#df-2b17273e-40be-4a0a-95dc-c80f18f32ce4 button.colab-df-convert');\n",
              "        buttonEl.style.display =\n",
              "          google.colab.kernel.accessAllowed ? 'block' : 'none';\n",
              "\n",
              "        async function convertToInteractive(key) {\n",
              "          const element = document.querySelector('#df-2b17273e-40be-4a0a-95dc-c80f18f32ce4');\n",
              "          const dataTable =\n",
              "            await google.colab.kernel.invokeFunction('convertToInteractive',\n",
              "                                                     [key], {});\n",
              "          if (!dataTable) return;\n",
              "\n",
              "          const docLinkHtml = 'Like what you see? Visit the ' +\n",
              "            '<a target=\"_blank\" href=https://colab.research.google.com/notebooks/data_table.ipynb>data table notebook</a>'\n",
              "            + ' to learn more about interactive tables.';\n",
              "          element.innerHTML = '';\n",
              "          dataTable['output_type'] = 'display_data';\n",
              "          await google.colab.output.renderOutput(dataTable, element);\n",
              "          const docLink = document.createElement('div');\n",
              "          docLink.innerHTML = docLinkHtml;\n",
              "          element.appendChild(docLink);\n",
              "        }\n",
              "      </script>\n",
              "    </div>\n",
              "  </div>\n",
              "  "
            ]
          },
          "metadata": {},
          "execution_count": 42
        }
      ],
      "source": [
        "tariffs"
      ]
    },
    {
      "cell_type": "markdown",
      "metadata": {
        "id": "hIuovdRsR6zb"
      },
      "source": [
        "Преобразуем мегабайты в гигабайты для удобства"
      ]
    },
    {
      "cell_type": "code",
      "execution_count": 43,
      "metadata": {
        "id": "G8VkFEFwR6zb"
      },
      "outputs": [],
      "source": [
        "tariffs['mb_per_month_included'] = tariffs['mb_per_month_included'] / 1024"
      ]
    },
    {
      "cell_type": "markdown",
      "metadata": {
        "id": "jWYg9DmQR6zb"
      },
      "source": [
        "Переименуем столбец `mb_per_month_included` в `gb_per_month_included`"
      ]
    },
    {
      "cell_type": "code",
      "execution_count": 44,
      "metadata": {
        "id": "Y-VNEk9jR6zb"
      },
      "outputs": [],
      "source": [
        "tariffs.columns = ['messages_included', 'gb_per_month_included', 'minutes_included',\n",
        "       'rub_monthly_fee', 'rub_per_gb', 'rub_per_message', 'rub_per_minute',\n",
        "       'tariff_name']"
      ]
    },
    {
      "cell_type": "markdown",
      "metadata": {
        "id": "YH1pk5LPR6zb"
      },
      "source": [
        "Приклеим данные по тарифам к итоговому датафрейму"
      ]
    },
    {
      "cell_type": "code",
      "execution_count": 45,
      "metadata": {
        "id": "P6Va4dONR6zc"
      },
      "outputs": [],
      "source": [
        "df = pd.merge(df, tariffs, on='tariff_name')"
      ]
    },
    {
      "cell_type": "code",
      "execution_count": 46,
      "metadata": {
        "id": "zmGs0UyPR6zc"
      },
      "outputs": [],
      "source": [
        "df = df.sort_values(by='user_id').reset_index(drop=True)"
      ]
    },
    {
      "cell_type": "markdown",
      "metadata": {
        "id": "83z0hRYOR6zc"
      },
      "source": [
        "Поскольку склейку мы производими методом `outer`, в столбцах `call_duration_total`, `call_count`, `msg_count`, `gb_used` образовалось некоторое количество пропусков, которое нужно заменить нулями. Сделаем это."
      ]
    },
    {
      "cell_type": "code",
      "execution_count": 47,
      "metadata": {
        "id": "CVf9eq6mR6zc"
      },
      "outputs": [],
      "source": [
        "df['call_duration_total'] = df['call_duration_total'].fillna(0)\n",
        "df['call_count'] = df['call_count'].fillna(0)\n",
        "df['msg_count'] = df['msg_count'].fillna(0)\n",
        "df['gb_used'] = df['gb_used'].fillna(0)"
      ]
    },
    {
      "cell_type": "markdown",
      "metadata": {
        "id": "2hIy9FrTR6zc"
      },
      "source": [
        "Полученный датафрейм выглядит вот так:"
      ]
    },
    {
      "cell_type": "code",
      "execution_count": 48,
      "metadata": {
        "colab": {
          "base_uri": "https://localhost:8080/",
          "height": 363
        },
        "id": "hRIV_20iR6zc",
        "outputId": "a977f081-b4dd-48fa-8398-3d505ff74948"
      },
      "outputs": [
        {
          "output_type": "execute_result",
          "data": {
            "text/plain": [
              "   user_id  month  call_duration_total  call_count  gb_used  msg_count  \\\n",
              "0     1000    5.0                159.0        22.0      3.0       22.0   \n",
              "1     1000    6.0                172.0        43.0     23.0       60.0   \n",
              "2     1000    7.0                340.0        47.0     14.0       75.0   \n",
              "3     1000    8.0                408.0        52.0     14.0       81.0   \n",
              "4     1000    9.0                466.0        58.0     15.0       57.0   \n",
              "5     1000   10.0                350.0        57.0     15.0       73.0   \n",
              "6     1000   11.0                338.0        43.0     15.0       58.0   \n",
              "7     1000   12.0                333.0        46.0     10.0       70.0   \n",
              "8     1001   12.0                414.0        63.0     14.0        0.0   \n",
              "9     1001   11.0                430.0        59.0     18.0        0.0   \n",
              "\n",
              "  tariff_name  reg_month  churn_month       city  messages_included  \\\n",
              "0       ultra          5          NaN  Краснодар               1000   \n",
              "1       ultra          5          NaN  Краснодар               1000   \n",
              "2       ultra          5          NaN  Краснодар               1000   \n",
              "3       ultra          5          NaN  Краснодар               1000   \n",
              "4       ultra          5          NaN  Краснодар               1000   \n",
              "5       ultra          5          NaN  Краснодар               1000   \n",
              "6       ultra          5          NaN  Краснодар               1000   \n",
              "7       ultra          5          NaN  Краснодар               1000   \n",
              "8       smart         11          NaN     Москва                 50   \n",
              "9       smart         11          NaN     Москва                 50   \n",
              "\n",
              "   gb_per_month_included  minutes_included  rub_monthly_fee  rub_per_gb  \\\n",
              "0                   30.0              3000             1950         150   \n",
              "1                   30.0              3000             1950         150   \n",
              "2                   30.0              3000             1950         150   \n",
              "3                   30.0              3000             1950         150   \n",
              "4                   30.0              3000             1950         150   \n",
              "5                   30.0              3000             1950         150   \n",
              "6                   30.0              3000             1950         150   \n",
              "7                   30.0              3000             1950         150   \n",
              "8                   15.0               500              550         200   \n",
              "9                   15.0               500              550         200   \n",
              "\n",
              "   rub_per_message  rub_per_minute  \n",
              "0                1               1  \n",
              "1                1               1  \n",
              "2                1               1  \n",
              "3                1               1  \n",
              "4                1               1  \n",
              "5                1               1  \n",
              "6                1               1  \n",
              "7                1               1  \n",
              "8                3               3  \n",
              "9                3               3  "
            ],
            "text/html": [
              "\n",
              "  <div id=\"df-a7a73bdf-2de7-48ee-8942-e30e842acc96\">\n",
              "    <div class=\"colab-df-container\">\n",
              "      <div>\n",
              "<style scoped>\n",
              "    .dataframe tbody tr th:only-of-type {\n",
              "        vertical-align: middle;\n",
              "    }\n",
              "\n",
              "    .dataframe tbody tr th {\n",
              "        vertical-align: top;\n",
              "    }\n",
              "\n",
              "    .dataframe thead th {\n",
              "        text-align: right;\n",
              "    }\n",
              "</style>\n",
              "<table border=\"1\" class=\"dataframe\">\n",
              "  <thead>\n",
              "    <tr style=\"text-align: right;\">\n",
              "      <th></th>\n",
              "      <th>user_id</th>\n",
              "      <th>month</th>\n",
              "      <th>call_duration_total</th>\n",
              "      <th>call_count</th>\n",
              "      <th>gb_used</th>\n",
              "      <th>msg_count</th>\n",
              "      <th>tariff_name</th>\n",
              "      <th>reg_month</th>\n",
              "      <th>churn_month</th>\n",
              "      <th>city</th>\n",
              "      <th>messages_included</th>\n",
              "      <th>gb_per_month_included</th>\n",
              "      <th>minutes_included</th>\n",
              "      <th>rub_monthly_fee</th>\n",
              "      <th>rub_per_gb</th>\n",
              "      <th>rub_per_message</th>\n",
              "      <th>rub_per_minute</th>\n",
              "    </tr>\n",
              "  </thead>\n",
              "  <tbody>\n",
              "    <tr>\n",
              "      <th>0</th>\n",
              "      <td>1000</td>\n",
              "      <td>5.0</td>\n",
              "      <td>159.0</td>\n",
              "      <td>22.0</td>\n",
              "      <td>3.0</td>\n",
              "      <td>22.0</td>\n",
              "      <td>ultra</td>\n",
              "      <td>5</td>\n",
              "      <td>NaN</td>\n",
              "      <td>Краснодар</td>\n",
              "      <td>1000</td>\n",
              "      <td>30.0</td>\n",
              "      <td>3000</td>\n",
              "      <td>1950</td>\n",
              "      <td>150</td>\n",
              "      <td>1</td>\n",
              "      <td>1</td>\n",
              "    </tr>\n",
              "    <tr>\n",
              "      <th>1</th>\n",
              "      <td>1000</td>\n",
              "      <td>6.0</td>\n",
              "      <td>172.0</td>\n",
              "      <td>43.0</td>\n",
              "      <td>23.0</td>\n",
              "      <td>60.0</td>\n",
              "      <td>ultra</td>\n",
              "      <td>5</td>\n",
              "      <td>NaN</td>\n",
              "      <td>Краснодар</td>\n",
              "      <td>1000</td>\n",
              "      <td>30.0</td>\n",
              "      <td>3000</td>\n",
              "      <td>1950</td>\n",
              "      <td>150</td>\n",
              "      <td>1</td>\n",
              "      <td>1</td>\n",
              "    </tr>\n",
              "    <tr>\n",
              "      <th>2</th>\n",
              "      <td>1000</td>\n",
              "      <td>7.0</td>\n",
              "      <td>340.0</td>\n",
              "      <td>47.0</td>\n",
              "      <td>14.0</td>\n",
              "      <td>75.0</td>\n",
              "      <td>ultra</td>\n",
              "      <td>5</td>\n",
              "      <td>NaN</td>\n",
              "      <td>Краснодар</td>\n",
              "      <td>1000</td>\n",
              "      <td>30.0</td>\n",
              "      <td>3000</td>\n",
              "      <td>1950</td>\n",
              "      <td>150</td>\n",
              "      <td>1</td>\n",
              "      <td>1</td>\n",
              "    </tr>\n",
              "    <tr>\n",
              "      <th>3</th>\n",
              "      <td>1000</td>\n",
              "      <td>8.0</td>\n",
              "      <td>408.0</td>\n",
              "      <td>52.0</td>\n",
              "      <td>14.0</td>\n",
              "      <td>81.0</td>\n",
              "      <td>ultra</td>\n",
              "      <td>5</td>\n",
              "      <td>NaN</td>\n",
              "      <td>Краснодар</td>\n",
              "      <td>1000</td>\n",
              "      <td>30.0</td>\n",
              "      <td>3000</td>\n",
              "      <td>1950</td>\n",
              "      <td>150</td>\n",
              "      <td>1</td>\n",
              "      <td>1</td>\n",
              "    </tr>\n",
              "    <tr>\n",
              "      <th>4</th>\n",
              "      <td>1000</td>\n",
              "      <td>9.0</td>\n",
              "      <td>466.0</td>\n",
              "      <td>58.0</td>\n",
              "      <td>15.0</td>\n",
              "      <td>57.0</td>\n",
              "      <td>ultra</td>\n",
              "      <td>5</td>\n",
              "      <td>NaN</td>\n",
              "      <td>Краснодар</td>\n",
              "      <td>1000</td>\n",
              "      <td>30.0</td>\n",
              "      <td>3000</td>\n",
              "      <td>1950</td>\n",
              "      <td>150</td>\n",
              "      <td>1</td>\n",
              "      <td>1</td>\n",
              "    </tr>\n",
              "    <tr>\n",
              "      <th>5</th>\n",
              "      <td>1000</td>\n",
              "      <td>10.0</td>\n",
              "      <td>350.0</td>\n",
              "      <td>57.0</td>\n",
              "      <td>15.0</td>\n",
              "      <td>73.0</td>\n",
              "      <td>ultra</td>\n",
              "      <td>5</td>\n",
              "      <td>NaN</td>\n",
              "      <td>Краснодар</td>\n",
              "      <td>1000</td>\n",
              "      <td>30.0</td>\n",
              "      <td>3000</td>\n",
              "      <td>1950</td>\n",
              "      <td>150</td>\n",
              "      <td>1</td>\n",
              "      <td>1</td>\n",
              "    </tr>\n",
              "    <tr>\n",
              "      <th>6</th>\n",
              "      <td>1000</td>\n",
              "      <td>11.0</td>\n",
              "      <td>338.0</td>\n",
              "      <td>43.0</td>\n",
              "      <td>15.0</td>\n",
              "      <td>58.0</td>\n",
              "      <td>ultra</td>\n",
              "      <td>5</td>\n",
              "      <td>NaN</td>\n",
              "      <td>Краснодар</td>\n",
              "      <td>1000</td>\n",
              "      <td>30.0</td>\n",
              "      <td>3000</td>\n",
              "      <td>1950</td>\n",
              "      <td>150</td>\n",
              "      <td>1</td>\n",
              "      <td>1</td>\n",
              "    </tr>\n",
              "    <tr>\n",
              "      <th>7</th>\n",
              "      <td>1000</td>\n",
              "      <td>12.0</td>\n",
              "      <td>333.0</td>\n",
              "      <td>46.0</td>\n",
              "      <td>10.0</td>\n",
              "      <td>70.0</td>\n",
              "      <td>ultra</td>\n",
              "      <td>5</td>\n",
              "      <td>NaN</td>\n",
              "      <td>Краснодар</td>\n",
              "      <td>1000</td>\n",
              "      <td>30.0</td>\n",
              "      <td>3000</td>\n",
              "      <td>1950</td>\n",
              "      <td>150</td>\n",
              "      <td>1</td>\n",
              "      <td>1</td>\n",
              "    </tr>\n",
              "    <tr>\n",
              "      <th>8</th>\n",
              "      <td>1001</td>\n",
              "      <td>12.0</td>\n",
              "      <td>414.0</td>\n",
              "      <td>63.0</td>\n",
              "      <td>14.0</td>\n",
              "      <td>0.0</td>\n",
              "      <td>smart</td>\n",
              "      <td>11</td>\n",
              "      <td>NaN</td>\n",
              "      <td>Москва</td>\n",
              "      <td>50</td>\n",
              "      <td>15.0</td>\n",
              "      <td>500</td>\n",
              "      <td>550</td>\n",
              "      <td>200</td>\n",
              "      <td>3</td>\n",
              "      <td>3</td>\n",
              "    </tr>\n",
              "    <tr>\n",
              "      <th>9</th>\n",
              "      <td>1001</td>\n",
              "      <td>11.0</td>\n",
              "      <td>430.0</td>\n",
              "      <td>59.0</td>\n",
              "      <td>18.0</td>\n",
              "      <td>0.0</td>\n",
              "      <td>smart</td>\n",
              "      <td>11</td>\n",
              "      <td>NaN</td>\n",
              "      <td>Москва</td>\n",
              "      <td>50</td>\n",
              "      <td>15.0</td>\n",
              "      <td>500</td>\n",
              "      <td>550</td>\n",
              "      <td>200</td>\n",
              "      <td>3</td>\n",
              "      <td>3</td>\n",
              "    </tr>\n",
              "  </tbody>\n",
              "</table>\n",
              "</div>\n",
              "      <button class=\"colab-df-convert\" onclick=\"convertToInteractive('df-a7a73bdf-2de7-48ee-8942-e30e842acc96')\"\n",
              "              title=\"Convert this dataframe to an interactive table.\"\n",
              "              style=\"display:none;\">\n",
              "        \n",
              "  <svg xmlns=\"http://www.w3.org/2000/svg\" height=\"24px\"viewBox=\"0 0 24 24\"\n",
              "       width=\"24px\">\n",
              "    <path d=\"M0 0h24v24H0V0z\" fill=\"none\"/>\n",
              "    <path d=\"M18.56 5.44l.94 2.06.94-2.06 2.06-.94-2.06-.94-.94-2.06-.94 2.06-2.06.94zm-11 1L8.5 8.5l.94-2.06 2.06-.94-2.06-.94L8.5 2.5l-.94 2.06-2.06.94zm10 10l.94 2.06.94-2.06 2.06-.94-2.06-.94-.94-2.06-.94 2.06-2.06.94z\"/><path d=\"M17.41 7.96l-1.37-1.37c-.4-.4-.92-.59-1.43-.59-.52 0-1.04.2-1.43.59L10.3 9.45l-7.72 7.72c-.78.78-.78 2.05 0 2.83L4 21.41c.39.39.9.59 1.41.59.51 0 1.02-.2 1.41-.59l7.78-7.78 2.81-2.81c.8-.78.8-2.07 0-2.86zM5.41 20L4 18.59l7.72-7.72 1.47 1.35L5.41 20z\"/>\n",
              "  </svg>\n",
              "      </button>\n",
              "      \n",
              "  <style>\n",
              "    .colab-df-container {\n",
              "      display:flex;\n",
              "      flex-wrap:wrap;\n",
              "      gap: 12px;\n",
              "    }\n",
              "\n",
              "    .colab-df-convert {\n",
              "      background-color: #E8F0FE;\n",
              "      border: none;\n",
              "      border-radius: 50%;\n",
              "      cursor: pointer;\n",
              "      display: none;\n",
              "      fill: #1967D2;\n",
              "      height: 32px;\n",
              "      padding: 0 0 0 0;\n",
              "      width: 32px;\n",
              "    }\n",
              "\n",
              "    .colab-df-convert:hover {\n",
              "      background-color: #E2EBFA;\n",
              "      box-shadow: 0px 1px 2px rgba(60, 64, 67, 0.3), 0px 1px 3px 1px rgba(60, 64, 67, 0.15);\n",
              "      fill: #174EA6;\n",
              "    }\n",
              "\n",
              "    [theme=dark] .colab-df-convert {\n",
              "      background-color: #3B4455;\n",
              "      fill: #D2E3FC;\n",
              "    }\n",
              "\n",
              "    [theme=dark] .colab-df-convert:hover {\n",
              "      background-color: #434B5C;\n",
              "      box-shadow: 0px 1px 3px 1px rgba(0, 0, 0, 0.15);\n",
              "      filter: drop-shadow(0px 1px 2px rgba(0, 0, 0, 0.3));\n",
              "      fill: #FFFFFF;\n",
              "    }\n",
              "  </style>\n",
              "\n",
              "      <script>\n",
              "        const buttonEl =\n",
              "          document.querySelector('#df-a7a73bdf-2de7-48ee-8942-e30e842acc96 button.colab-df-convert');\n",
              "        buttonEl.style.display =\n",
              "          google.colab.kernel.accessAllowed ? 'block' : 'none';\n",
              "\n",
              "        async function convertToInteractive(key) {\n",
              "          const element = document.querySelector('#df-a7a73bdf-2de7-48ee-8942-e30e842acc96');\n",
              "          const dataTable =\n",
              "            await google.colab.kernel.invokeFunction('convertToInteractive',\n",
              "                                                     [key], {});\n",
              "          if (!dataTable) return;\n",
              "\n",
              "          const docLinkHtml = 'Like what you see? Visit the ' +\n",
              "            '<a target=\"_blank\" href=https://colab.research.google.com/notebooks/data_table.ipynb>data table notebook</a>'\n",
              "            + ' to learn more about interactive tables.';\n",
              "          element.innerHTML = '';\n",
              "          dataTable['output_type'] = 'display_data';\n",
              "          await google.colab.output.renderOutput(dataTable, element);\n",
              "          const docLink = document.createElement('div');\n",
              "          docLink.innerHTML = docLinkHtml;\n",
              "          element.appendChild(docLink);\n",
              "        }\n",
              "      </script>\n",
              "    </div>\n",
              "  </div>\n",
              "  "
            ]
          },
          "metadata": {},
          "execution_count": 48
        }
      ],
      "source": [
        "df.head(10)"
      ]
    },
    {
      "cell_type": "code",
      "execution_count": 49,
      "metadata": {
        "scrolled": false,
        "colab": {
          "base_uri": "https://localhost:8080/"
        },
        "id": "9sx-Vxu3R6zd",
        "outputId": "345ce31a-fedf-4c79-b9ef-33d2c30271f1"
      },
      "outputs": [
        {
          "output_type": "stream",
          "name": "stdout",
          "text": [
            "<class 'pandas.core.frame.DataFrame'>\n",
            "RangeIndex: 3216 entries, 0 to 3215\n",
            "Data columns (total 17 columns):\n",
            " #   Column                 Non-Null Count  Dtype  \n",
            "---  ------                 --------------  -----  \n",
            " 0   user_id                3216 non-null   int64  \n",
            " 1   month                  3214 non-null   float64\n",
            " 2   call_duration_total    3216 non-null   float64\n",
            " 3   call_count             3216 non-null   float64\n",
            " 4   gb_used                3216 non-null   float64\n",
            " 5   msg_count              3216 non-null   float64\n",
            " 6   tariff_name            3216 non-null   object \n",
            " 7   reg_month              3216 non-null   int64  \n",
            " 8   churn_month            189 non-null    float64\n",
            " 9   city                   3216 non-null   object \n",
            " 10  messages_included      3216 non-null   int64  \n",
            " 11  gb_per_month_included  3216 non-null   float64\n",
            " 12  minutes_included       3216 non-null   int64  \n",
            " 13  rub_monthly_fee        3216 non-null   int64  \n",
            " 14  rub_per_gb             3216 non-null   int64  \n",
            " 15  rub_per_message        3216 non-null   int64  \n",
            " 16  rub_per_minute         3216 non-null   int64  \n",
            "dtypes: float64(7), int64(8), object(2)\n",
            "memory usage: 427.2+ KB\n"
          ]
        }
      ],
      "source": [
        "df.info()"
      ]
    },
    {
      "cell_type": "code",
      "execution_count": 50,
      "metadata": {
        "colab": {
          "base_uri": "https://localhost:8080/",
          "height": 112
        },
        "id": "-eK4iuP7R6zd",
        "outputId": "3237fc4c-1e8f-47cc-f473-c52e1b987b24"
      },
      "outputs": [
        {
          "output_type": "execute_result",
          "data": {
            "text/plain": [
              "      user_id  month  call_duration_total  call_count  gb_used  msg_count  \\\n",
              "827      1128    NaN                  0.0         0.0      0.0        0.0   \n",
              "2335     1371    NaN                  0.0         0.0      0.0        0.0   \n",
              "\n",
              "     tariff_name  reg_month  churn_month      city  messages_included  \\\n",
              "827        ultra         12         12.0  Волжский               1000   \n",
              "2335       smart         12         12.0      Омск                 50   \n",
              "\n",
              "      gb_per_month_included  minutes_included  rub_monthly_fee  rub_per_gb  \\\n",
              "827                    30.0              3000             1950         150   \n",
              "2335                   15.0               500              550         200   \n",
              "\n",
              "      rub_per_message  rub_per_minute  \n",
              "827                 1               1  \n",
              "2335                3               3  "
            ],
            "text/html": [
              "\n",
              "  <div id=\"df-4eec5815-2f8d-4a07-8369-e7acb401b2d4\">\n",
              "    <div class=\"colab-df-container\">\n",
              "      <div>\n",
              "<style scoped>\n",
              "    .dataframe tbody tr th:only-of-type {\n",
              "        vertical-align: middle;\n",
              "    }\n",
              "\n",
              "    .dataframe tbody tr th {\n",
              "        vertical-align: top;\n",
              "    }\n",
              "\n",
              "    .dataframe thead th {\n",
              "        text-align: right;\n",
              "    }\n",
              "</style>\n",
              "<table border=\"1\" class=\"dataframe\">\n",
              "  <thead>\n",
              "    <tr style=\"text-align: right;\">\n",
              "      <th></th>\n",
              "      <th>user_id</th>\n",
              "      <th>month</th>\n",
              "      <th>call_duration_total</th>\n",
              "      <th>call_count</th>\n",
              "      <th>gb_used</th>\n",
              "      <th>msg_count</th>\n",
              "      <th>tariff_name</th>\n",
              "      <th>reg_month</th>\n",
              "      <th>churn_month</th>\n",
              "      <th>city</th>\n",
              "      <th>messages_included</th>\n",
              "      <th>gb_per_month_included</th>\n",
              "      <th>minutes_included</th>\n",
              "      <th>rub_monthly_fee</th>\n",
              "      <th>rub_per_gb</th>\n",
              "      <th>rub_per_message</th>\n",
              "      <th>rub_per_minute</th>\n",
              "    </tr>\n",
              "  </thead>\n",
              "  <tbody>\n",
              "    <tr>\n",
              "      <th>827</th>\n",
              "      <td>1128</td>\n",
              "      <td>NaN</td>\n",
              "      <td>0.0</td>\n",
              "      <td>0.0</td>\n",
              "      <td>0.0</td>\n",
              "      <td>0.0</td>\n",
              "      <td>ultra</td>\n",
              "      <td>12</td>\n",
              "      <td>12.0</td>\n",
              "      <td>Волжский</td>\n",
              "      <td>1000</td>\n",
              "      <td>30.0</td>\n",
              "      <td>3000</td>\n",
              "      <td>1950</td>\n",
              "      <td>150</td>\n",
              "      <td>1</td>\n",
              "      <td>1</td>\n",
              "    </tr>\n",
              "    <tr>\n",
              "      <th>2335</th>\n",
              "      <td>1371</td>\n",
              "      <td>NaN</td>\n",
              "      <td>0.0</td>\n",
              "      <td>0.0</td>\n",
              "      <td>0.0</td>\n",
              "      <td>0.0</td>\n",
              "      <td>smart</td>\n",
              "      <td>12</td>\n",
              "      <td>12.0</td>\n",
              "      <td>Омск</td>\n",
              "      <td>50</td>\n",
              "      <td>15.0</td>\n",
              "      <td>500</td>\n",
              "      <td>550</td>\n",
              "      <td>200</td>\n",
              "      <td>3</td>\n",
              "      <td>3</td>\n",
              "    </tr>\n",
              "  </tbody>\n",
              "</table>\n",
              "</div>\n",
              "      <button class=\"colab-df-convert\" onclick=\"convertToInteractive('df-4eec5815-2f8d-4a07-8369-e7acb401b2d4')\"\n",
              "              title=\"Convert this dataframe to an interactive table.\"\n",
              "              style=\"display:none;\">\n",
              "        \n",
              "  <svg xmlns=\"http://www.w3.org/2000/svg\" height=\"24px\"viewBox=\"0 0 24 24\"\n",
              "       width=\"24px\">\n",
              "    <path d=\"M0 0h24v24H0V0z\" fill=\"none\"/>\n",
              "    <path d=\"M18.56 5.44l.94 2.06.94-2.06 2.06-.94-2.06-.94-.94-2.06-.94 2.06-2.06.94zm-11 1L8.5 8.5l.94-2.06 2.06-.94-2.06-.94L8.5 2.5l-.94 2.06-2.06.94zm10 10l.94 2.06.94-2.06 2.06-.94-2.06-.94-.94-2.06-.94 2.06-2.06.94z\"/><path d=\"M17.41 7.96l-1.37-1.37c-.4-.4-.92-.59-1.43-.59-.52 0-1.04.2-1.43.59L10.3 9.45l-7.72 7.72c-.78.78-.78 2.05 0 2.83L4 21.41c.39.39.9.59 1.41.59.51 0 1.02-.2 1.41-.59l7.78-7.78 2.81-2.81c.8-.78.8-2.07 0-2.86zM5.41 20L4 18.59l7.72-7.72 1.47 1.35L5.41 20z\"/>\n",
              "  </svg>\n",
              "      </button>\n",
              "      \n",
              "  <style>\n",
              "    .colab-df-container {\n",
              "      display:flex;\n",
              "      flex-wrap:wrap;\n",
              "      gap: 12px;\n",
              "    }\n",
              "\n",
              "    .colab-df-convert {\n",
              "      background-color: #E8F0FE;\n",
              "      border: none;\n",
              "      border-radius: 50%;\n",
              "      cursor: pointer;\n",
              "      display: none;\n",
              "      fill: #1967D2;\n",
              "      height: 32px;\n",
              "      padding: 0 0 0 0;\n",
              "      width: 32px;\n",
              "    }\n",
              "\n",
              "    .colab-df-convert:hover {\n",
              "      background-color: #E2EBFA;\n",
              "      box-shadow: 0px 1px 2px rgba(60, 64, 67, 0.3), 0px 1px 3px 1px rgba(60, 64, 67, 0.15);\n",
              "      fill: #174EA6;\n",
              "    }\n",
              "\n",
              "    [theme=dark] .colab-df-convert {\n",
              "      background-color: #3B4455;\n",
              "      fill: #D2E3FC;\n",
              "    }\n",
              "\n",
              "    [theme=dark] .colab-df-convert:hover {\n",
              "      background-color: #434B5C;\n",
              "      box-shadow: 0px 1px 3px 1px rgba(0, 0, 0, 0.15);\n",
              "      filter: drop-shadow(0px 1px 2px rgba(0, 0, 0, 0.3));\n",
              "      fill: #FFFFFF;\n",
              "    }\n",
              "  </style>\n",
              "\n",
              "      <script>\n",
              "        const buttonEl =\n",
              "          document.querySelector('#df-4eec5815-2f8d-4a07-8369-e7acb401b2d4 button.colab-df-convert');\n",
              "        buttonEl.style.display =\n",
              "          google.colab.kernel.accessAllowed ? 'block' : 'none';\n",
              "\n",
              "        async function convertToInteractive(key) {\n",
              "          const element = document.querySelector('#df-4eec5815-2f8d-4a07-8369-e7acb401b2d4');\n",
              "          const dataTable =\n",
              "            await google.colab.kernel.invokeFunction('convertToInteractive',\n",
              "                                                     [key], {});\n",
              "          if (!dataTable) return;\n",
              "\n",
              "          const docLinkHtml = 'Like what you see? Visit the ' +\n",
              "            '<a target=\"_blank\" href=https://colab.research.google.com/notebooks/data_table.ipynb>data table notebook</a>'\n",
              "            + ' to learn more about interactive tables.';\n",
              "          element.innerHTML = '';\n",
              "          dataTable['output_type'] = 'display_data';\n",
              "          await google.colab.output.renderOutput(dataTable, element);\n",
              "          const docLink = document.createElement('div');\n",
              "          docLink.innerHTML = docLinkHtml;\n",
              "          element.appendChild(docLink);\n",
              "        }\n",
              "      </script>\n",
              "    </div>\n",
              "  </div>\n",
              "  "
            ]
          },
          "metadata": {},
          "execution_count": 50
        }
      ],
      "source": [
        "df[df['month'].isna()]"
      ]
    },
    {
      "cell_type": "markdown",
      "metadata": {
        "id": "02fIL8JvR6zd"
      },
      "source": [
        "Два пропуска в `month` соответствуют двум абонентам, у которых 0 звонков, мегабайт и сообщений, однако у нас есть данные об их регистрации и прекращении пользования. То есть мы считаем, что абонентская плата ими была произведена."
      ]
    },
    {
      "cell_type": "markdown",
      "metadata": {
        "id": "b-TNd9VnR6zd"
      },
      "source": [
        "Для дальнейшего расчета выручки с пользователей добавим стобцы `call_duration_excess`,`gb_excess`, `msg_excess`, в которых будем хранить значения минут, трафика, сообщений, которые были потрачены пользователями сверх лимита по тарифу. Для начала просто просто вычтем столбцы потраченных минут, гб, сообщений из включенных по тарифу."
      ]
    },
    {
      "cell_type": "code",
      "execution_count": 51,
      "metadata": {
        "id": "SyihbNNZR6zd"
      },
      "outputs": [],
      "source": [
        "df['call_duration_excess'] = df['call_duration_total'] - df['minutes_included']\n",
        "df['msg_excess'] = df['msg_count'] - df['messages_included']\n",
        "df['gb_excess'] = df['gb_used'] - df['gb_per_month_included']"
      ]
    },
    {
      "cell_type": "markdown",
      "metadata": {
        "id": "Uwh8GQ0oR6ze"
      },
      "source": [
        "На этом этапе, если пользователь потратил меньше, чем ему доступно, соответствующий столбец `_excess` будет содержать отрицательное значение. Заменим отрицательные значения столбцов `call_duration_excess`, `msg_excess`, `gb_excess` нулями, для этого определим функцию."
      ]
    },
    {
      "cell_type": "code",
      "execution_count": 52,
      "metadata": {
        "id": "uHeULHe-R6ze"
      },
      "outputs": [],
      "source": [
        "def fill_negative_with_zero(some_value):\n",
        "    if some_value < 0:\n",
        "        return 0\n",
        "    else:\n",
        "        return some_value"
      ]
    },
    {
      "cell_type": "markdown",
      "metadata": {
        "id": "1gMeMgt1R6ze"
      },
      "source": [
        "Применим функцию на нашим столбцам `_excess`"
      ]
    },
    {
      "cell_type": "code",
      "execution_count": 53,
      "metadata": {
        "id": "eMNrQTeuR6ze"
      },
      "outputs": [],
      "source": [
        "df['call_duration_excess'] = df['call_duration_excess'].apply(fill_negative_with_zero)\n",
        "df['msg_excess'] = df['msg_excess'].apply(fill_negative_with_zero)\n",
        "df['gb_excess'] = df['gb_excess'].apply(fill_negative_with_zero)"
      ]
    },
    {
      "cell_type": "code",
      "execution_count": 54,
      "metadata": {
        "scrolled": false,
        "colab": {
          "base_uri": "https://localhost:8080/",
          "height": 363
        },
        "id": "G2uT6W8SR6zf",
        "outputId": "6e8891e7-3e6a-4de7-8fd8-5de0f473cf0a"
      },
      "outputs": [
        {
          "output_type": "execute_result",
          "data": {
            "text/plain": [
              "   user_id  month  call_duration_total  call_count  gb_used  msg_count  \\\n",
              "0     1000    5.0                159.0        22.0      3.0       22.0   \n",
              "1     1000    6.0                172.0        43.0     23.0       60.0   \n",
              "2     1000    7.0                340.0        47.0     14.0       75.0   \n",
              "3     1000    8.0                408.0        52.0     14.0       81.0   \n",
              "4     1000    9.0                466.0        58.0     15.0       57.0   \n",
              "5     1000   10.0                350.0        57.0     15.0       73.0   \n",
              "6     1000   11.0                338.0        43.0     15.0       58.0   \n",
              "7     1000   12.0                333.0        46.0     10.0       70.0   \n",
              "8     1001   12.0                414.0        63.0     14.0        0.0   \n",
              "9     1001   11.0                430.0        59.0     18.0        0.0   \n",
              "\n",
              "  tariff_name  reg_month  churn_month       city  messages_included  \\\n",
              "0       ultra          5          NaN  Краснодар               1000   \n",
              "1       ultra          5          NaN  Краснодар               1000   \n",
              "2       ultra          5          NaN  Краснодар               1000   \n",
              "3       ultra          5          NaN  Краснодар               1000   \n",
              "4       ultra          5          NaN  Краснодар               1000   \n",
              "5       ultra          5          NaN  Краснодар               1000   \n",
              "6       ultra          5          NaN  Краснодар               1000   \n",
              "7       ultra          5          NaN  Краснодар               1000   \n",
              "8       smart         11          NaN     Москва                 50   \n",
              "9       smart         11          NaN     Москва                 50   \n",
              "\n",
              "   gb_per_month_included  minutes_included  rub_monthly_fee  rub_per_gb  \\\n",
              "0                   30.0              3000             1950         150   \n",
              "1                   30.0              3000             1950         150   \n",
              "2                   30.0              3000             1950         150   \n",
              "3                   30.0              3000             1950         150   \n",
              "4                   30.0              3000             1950         150   \n",
              "5                   30.0              3000             1950         150   \n",
              "6                   30.0              3000             1950         150   \n",
              "7                   30.0              3000             1950         150   \n",
              "8                   15.0               500              550         200   \n",
              "9                   15.0               500              550         200   \n",
              "\n",
              "   rub_per_message  rub_per_minute  call_duration_excess  msg_excess  \\\n",
              "0                1               1                   0.0         0.0   \n",
              "1                1               1                   0.0         0.0   \n",
              "2                1               1                   0.0         0.0   \n",
              "3                1               1                   0.0         0.0   \n",
              "4                1               1                   0.0         0.0   \n",
              "5                1               1                   0.0         0.0   \n",
              "6                1               1                   0.0         0.0   \n",
              "7                1               1                   0.0         0.0   \n",
              "8                3               3                   0.0         0.0   \n",
              "9                3               3                   0.0         0.0   \n",
              "\n",
              "   gb_excess  \n",
              "0        0.0  \n",
              "1        0.0  \n",
              "2        0.0  \n",
              "3        0.0  \n",
              "4        0.0  \n",
              "5        0.0  \n",
              "6        0.0  \n",
              "7        0.0  \n",
              "8        0.0  \n",
              "9        3.0  "
            ],
            "text/html": [
              "\n",
              "  <div id=\"df-c74bf07f-7ac4-4bdf-b9a2-38c164290a20\">\n",
              "    <div class=\"colab-df-container\">\n",
              "      <div>\n",
              "<style scoped>\n",
              "    .dataframe tbody tr th:only-of-type {\n",
              "        vertical-align: middle;\n",
              "    }\n",
              "\n",
              "    .dataframe tbody tr th {\n",
              "        vertical-align: top;\n",
              "    }\n",
              "\n",
              "    .dataframe thead th {\n",
              "        text-align: right;\n",
              "    }\n",
              "</style>\n",
              "<table border=\"1\" class=\"dataframe\">\n",
              "  <thead>\n",
              "    <tr style=\"text-align: right;\">\n",
              "      <th></th>\n",
              "      <th>user_id</th>\n",
              "      <th>month</th>\n",
              "      <th>call_duration_total</th>\n",
              "      <th>call_count</th>\n",
              "      <th>gb_used</th>\n",
              "      <th>msg_count</th>\n",
              "      <th>tariff_name</th>\n",
              "      <th>reg_month</th>\n",
              "      <th>churn_month</th>\n",
              "      <th>city</th>\n",
              "      <th>messages_included</th>\n",
              "      <th>gb_per_month_included</th>\n",
              "      <th>minutes_included</th>\n",
              "      <th>rub_monthly_fee</th>\n",
              "      <th>rub_per_gb</th>\n",
              "      <th>rub_per_message</th>\n",
              "      <th>rub_per_minute</th>\n",
              "      <th>call_duration_excess</th>\n",
              "      <th>msg_excess</th>\n",
              "      <th>gb_excess</th>\n",
              "    </tr>\n",
              "  </thead>\n",
              "  <tbody>\n",
              "    <tr>\n",
              "      <th>0</th>\n",
              "      <td>1000</td>\n",
              "      <td>5.0</td>\n",
              "      <td>159.0</td>\n",
              "      <td>22.0</td>\n",
              "      <td>3.0</td>\n",
              "      <td>22.0</td>\n",
              "      <td>ultra</td>\n",
              "      <td>5</td>\n",
              "      <td>NaN</td>\n",
              "      <td>Краснодар</td>\n",
              "      <td>1000</td>\n",
              "      <td>30.0</td>\n",
              "      <td>3000</td>\n",
              "      <td>1950</td>\n",
              "      <td>150</td>\n",
              "      <td>1</td>\n",
              "      <td>1</td>\n",
              "      <td>0.0</td>\n",
              "      <td>0.0</td>\n",
              "      <td>0.0</td>\n",
              "    </tr>\n",
              "    <tr>\n",
              "      <th>1</th>\n",
              "      <td>1000</td>\n",
              "      <td>6.0</td>\n",
              "      <td>172.0</td>\n",
              "      <td>43.0</td>\n",
              "      <td>23.0</td>\n",
              "      <td>60.0</td>\n",
              "      <td>ultra</td>\n",
              "      <td>5</td>\n",
              "      <td>NaN</td>\n",
              "      <td>Краснодар</td>\n",
              "      <td>1000</td>\n",
              "      <td>30.0</td>\n",
              "      <td>3000</td>\n",
              "      <td>1950</td>\n",
              "      <td>150</td>\n",
              "      <td>1</td>\n",
              "      <td>1</td>\n",
              "      <td>0.0</td>\n",
              "      <td>0.0</td>\n",
              "      <td>0.0</td>\n",
              "    </tr>\n",
              "    <tr>\n",
              "      <th>2</th>\n",
              "      <td>1000</td>\n",
              "      <td>7.0</td>\n",
              "      <td>340.0</td>\n",
              "      <td>47.0</td>\n",
              "      <td>14.0</td>\n",
              "      <td>75.0</td>\n",
              "      <td>ultra</td>\n",
              "      <td>5</td>\n",
              "      <td>NaN</td>\n",
              "      <td>Краснодар</td>\n",
              "      <td>1000</td>\n",
              "      <td>30.0</td>\n",
              "      <td>3000</td>\n",
              "      <td>1950</td>\n",
              "      <td>150</td>\n",
              "      <td>1</td>\n",
              "      <td>1</td>\n",
              "      <td>0.0</td>\n",
              "      <td>0.0</td>\n",
              "      <td>0.0</td>\n",
              "    </tr>\n",
              "    <tr>\n",
              "      <th>3</th>\n",
              "      <td>1000</td>\n",
              "      <td>8.0</td>\n",
              "      <td>408.0</td>\n",
              "      <td>52.0</td>\n",
              "      <td>14.0</td>\n",
              "      <td>81.0</td>\n",
              "      <td>ultra</td>\n",
              "      <td>5</td>\n",
              "      <td>NaN</td>\n",
              "      <td>Краснодар</td>\n",
              "      <td>1000</td>\n",
              "      <td>30.0</td>\n",
              "      <td>3000</td>\n",
              "      <td>1950</td>\n",
              "      <td>150</td>\n",
              "      <td>1</td>\n",
              "      <td>1</td>\n",
              "      <td>0.0</td>\n",
              "      <td>0.0</td>\n",
              "      <td>0.0</td>\n",
              "    </tr>\n",
              "    <tr>\n",
              "      <th>4</th>\n",
              "      <td>1000</td>\n",
              "      <td>9.0</td>\n",
              "      <td>466.0</td>\n",
              "      <td>58.0</td>\n",
              "      <td>15.0</td>\n",
              "      <td>57.0</td>\n",
              "      <td>ultra</td>\n",
              "      <td>5</td>\n",
              "      <td>NaN</td>\n",
              "      <td>Краснодар</td>\n",
              "      <td>1000</td>\n",
              "      <td>30.0</td>\n",
              "      <td>3000</td>\n",
              "      <td>1950</td>\n",
              "      <td>150</td>\n",
              "      <td>1</td>\n",
              "      <td>1</td>\n",
              "      <td>0.0</td>\n",
              "      <td>0.0</td>\n",
              "      <td>0.0</td>\n",
              "    </tr>\n",
              "    <tr>\n",
              "      <th>5</th>\n",
              "      <td>1000</td>\n",
              "      <td>10.0</td>\n",
              "      <td>350.0</td>\n",
              "      <td>57.0</td>\n",
              "      <td>15.0</td>\n",
              "      <td>73.0</td>\n",
              "      <td>ultra</td>\n",
              "      <td>5</td>\n",
              "      <td>NaN</td>\n",
              "      <td>Краснодар</td>\n",
              "      <td>1000</td>\n",
              "      <td>30.0</td>\n",
              "      <td>3000</td>\n",
              "      <td>1950</td>\n",
              "      <td>150</td>\n",
              "      <td>1</td>\n",
              "      <td>1</td>\n",
              "      <td>0.0</td>\n",
              "      <td>0.0</td>\n",
              "      <td>0.0</td>\n",
              "    </tr>\n",
              "    <tr>\n",
              "      <th>6</th>\n",
              "      <td>1000</td>\n",
              "      <td>11.0</td>\n",
              "      <td>338.0</td>\n",
              "      <td>43.0</td>\n",
              "      <td>15.0</td>\n",
              "      <td>58.0</td>\n",
              "      <td>ultra</td>\n",
              "      <td>5</td>\n",
              "      <td>NaN</td>\n",
              "      <td>Краснодар</td>\n",
              "      <td>1000</td>\n",
              "      <td>30.0</td>\n",
              "      <td>3000</td>\n",
              "      <td>1950</td>\n",
              "      <td>150</td>\n",
              "      <td>1</td>\n",
              "      <td>1</td>\n",
              "      <td>0.0</td>\n",
              "      <td>0.0</td>\n",
              "      <td>0.0</td>\n",
              "    </tr>\n",
              "    <tr>\n",
              "      <th>7</th>\n",
              "      <td>1000</td>\n",
              "      <td>12.0</td>\n",
              "      <td>333.0</td>\n",
              "      <td>46.0</td>\n",
              "      <td>10.0</td>\n",
              "      <td>70.0</td>\n",
              "      <td>ultra</td>\n",
              "      <td>5</td>\n",
              "      <td>NaN</td>\n",
              "      <td>Краснодар</td>\n",
              "      <td>1000</td>\n",
              "      <td>30.0</td>\n",
              "      <td>3000</td>\n",
              "      <td>1950</td>\n",
              "      <td>150</td>\n",
              "      <td>1</td>\n",
              "      <td>1</td>\n",
              "      <td>0.0</td>\n",
              "      <td>0.0</td>\n",
              "      <td>0.0</td>\n",
              "    </tr>\n",
              "    <tr>\n",
              "      <th>8</th>\n",
              "      <td>1001</td>\n",
              "      <td>12.0</td>\n",
              "      <td>414.0</td>\n",
              "      <td>63.0</td>\n",
              "      <td>14.0</td>\n",
              "      <td>0.0</td>\n",
              "      <td>smart</td>\n",
              "      <td>11</td>\n",
              "      <td>NaN</td>\n",
              "      <td>Москва</td>\n",
              "      <td>50</td>\n",
              "      <td>15.0</td>\n",
              "      <td>500</td>\n",
              "      <td>550</td>\n",
              "      <td>200</td>\n",
              "      <td>3</td>\n",
              "      <td>3</td>\n",
              "      <td>0.0</td>\n",
              "      <td>0.0</td>\n",
              "      <td>0.0</td>\n",
              "    </tr>\n",
              "    <tr>\n",
              "      <th>9</th>\n",
              "      <td>1001</td>\n",
              "      <td>11.0</td>\n",
              "      <td>430.0</td>\n",
              "      <td>59.0</td>\n",
              "      <td>18.0</td>\n",
              "      <td>0.0</td>\n",
              "      <td>smart</td>\n",
              "      <td>11</td>\n",
              "      <td>NaN</td>\n",
              "      <td>Москва</td>\n",
              "      <td>50</td>\n",
              "      <td>15.0</td>\n",
              "      <td>500</td>\n",
              "      <td>550</td>\n",
              "      <td>200</td>\n",
              "      <td>3</td>\n",
              "      <td>3</td>\n",
              "      <td>0.0</td>\n",
              "      <td>0.0</td>\n",
              "      <td>3.0</td>\n",
              "    </tr>\n",
              "  </tbody>\n",
              "</table>\n",
              "</div>\n",
              "      <button class=\"colab-df-convert\" onclick=\"convertToInteractive('df-c74bf07f-7ac4-4bdf-b9a2-38c164290a20')\"\n",
              "              title=\"Convert this dataframe to an interactive table.\"\n",
              "              style=\"display:none;\">\n",
              "        \n",
              "  <svg xmlns=\"http://www.w3.org/2000/svg\" height=\"24px\"viewBox=\"0 0 24 24\"\n",
              "       width=\"24px\">\n",
              "    <path d=\"M0 0h24v24H0V0z\" fill=\"none\"/>\n",
              "    <path d=\"M18.56 5.44l.94 2.06.94-2.06 2.06-.94-2.06-.94-.94-2.06-.94 2.06-2.06.94zm-11 1L8.5 8.5l.94-2.06 2.06-.94-2.06-.94L8.5 2.5l-.94 2.06-2.06.94zm10 10l.94 2.06.94-2.06 2.06-.94-2.06-.94-.94-2.06-.94 2.06-2.06.94z\"/><path d=\"M17.41 7.96l-1.37-1.37c-.4-.4-.92-.59-1.43-.59-.52 0-1.04.2-1.43.59L10.3 9.45l-7.72 7.72c-.78.78-.78 2.05 0 2.83L4 21.41c.39.39.9.59 1.41.59.51 0 1.02-.2 1.41-.59l7.78-7.78 2.81-2.81c.8-.78.8-2.07 0-2.86zM5.41 20L4 18.59l7.72-7.72 1.47 1.35L5.41 20z\"/>\n",
              "  </svg>\n",
              "      </button>\n",
              "      \n",
              "  <style>\n",
              "    .colab-df-container {\n",
              "      display:flex;\n",
              "      flex-wrap:wrap;\n",
              "      gap: 12px;\n",
              "    }\n",
              "\n",
              "    .colab-df-convert {\n",
              "      background-color: #E8F0FE;\n",
              "      border: none;\n",
              "      border-radius: 50%;\n",
              "      cursor: pointer;\n",
              "      display: none;\n",
              "      fill: #1967D2;\n",
              "      height: 32px;\n",
              "      padding: 0 0 0 0;\n",
              "      width: 32px;\n",
              "    }\n",
              "\n",
              "    .colab-df-convert:hover {\n",
              "      background-color: #E2EBFA;\n",
              "      box-shadow: 0px 1px 2px rgba(60, 64, 67, 0.3), 0px 1px 3px 1px rgba(60, 64, 67, 0.15);\n",
              "      fill: #174EA6;\n",
              "    }\n",
              "\n",
              "    [theme=dark] .colab-df-convert {\n",
              "      background-color: #3B4455;\n",
              "      fill: #D2E3FC;\n",
              "    }\n",
              "\n",
              "    [theme=dark] .colab-df-convert:hover {\n",
              "      background-color: #434B5C;\n",
              "      box-shadow: 0px 1px 3px 1px rgba(0, 0, 0, 0.15);\n",
              "      filter: drop-shadow(0px 1px 2px rgba(0, 0, 0, 0.3));\n",
              "      fill: #FFFFFF;\n",
              "    }\n",
              "  </style>\n",
              "\n",
              "      <script>\n",
              "        const buttonEl =\n",
              "          document.querySelector('#df-c74bf07f-7ac4-4bdf-b9a2-38c164290a20 button.colab-df-convert');\n",
              "        buttonEl.style.display =\n",
              "          google.colab.kernel.accessAllowed ? 'block' : 'none';\n",
              "\n",
              "        async function convertToInteractive(key) {\n",
              "          const element = document.querySelector('#df-c74bf07f-7ac4-4bdf-b9a2-38c164290a20');\n",
              "          const dataTable =\n",
              "            await google.colab.kernel.invokeFunction('convertToInteractive',\n",
              "                                                     [key], {});\n",
              "          if (!dataTable) return;\n",
              "\n",
              "          const docLinkHtml = 'Like what you see? Visit the ' +\n",
              "            '<a target=\"_blank\" href=https://colab.research.google.com/notebooks/data_table.ipynb>data table notebook</a>'\n",
              "            + ' to learn more about interactive tables.';\n",
              "          element.innerHTML = '';\n",
              "          dataTable['output_type'] = 'display_data';\n",
              "          await google.colab.output.renderOutput(dataTable, element);\n",
              "          const docLink = document.createElement('div');\n",
              "          docLink.innerHTML = docLinkHtml;\n",
              "          element.appendChild(docLink);\n",
              "        }\n",
              "      </script>\n",
              "    </div>\n",
              "  </div>\n",
              "  "
            ]
          },
          "metadata": {},
          "execution_count": 54
        }
      ],
      "source": [
        "df.head(10)"
      ]
    },
    {
      "cell_type": "markdown",
      "metadata": {
        "id": "Y7BB71sIR6zf"
      },
      "source": [
        "Теперь у нас все готово, чтобы расчитать помесячную выручку с пользователей. Последний столбец, который мы добавим - `payment`. К абонентской плате прибавляем значения превышения минут, гб, сообщений умноженные на соответствующую цену."
      ]
    },
    {
      "cell_type": "code",
      "execution_count": 55,
      "metadata": {
        "id": "D9S79eKxR6zf"
      },
      "outputs": [],
      "source": [
        "df['payment'] = (df['rub_monthly_fee'] + df['gb_excess'] * df['rub_per_gb']\n",
        "                 + df['msg_excess'] * df['rub_per_message']\n",
        "                 + df['call_duration_excess'] * df['rub_per_minute'])"
      ]
    },
    {
      "cell_type": "markdown",
      "metadata": {
        "id": "-Q-uUT-lR6zf"
      },
      "source": [
        "**Наконец, итоговый датафрейм**"
      ]
    },
    {
      "cell_type": "code",
      "execution_count": 56,
      "metadata": {
        "scrolled": false,
        "colab": {
          "base_uri": "https://localhost:8080/",
          "height": 392
        },
        "id": "3wBdIZp8R6zf",
        "outputId": "bd372711-f55a-4409-d6ae-6295c3ae8c1d"
      },
      "outputs": [
        {
          "output_type": "execute_result",
          "data": {
            "text/plain": [
              "   user_id  month  call_duration_total  call_count  gb_used  msg_count  \\\n",
              "0     1000    5.0                159.0        22.0      3.0       22.0   \n",
              "1     1000    6.0                172.0        43.0     23.0       60.0   \n",
              "2     1000    7.0                340.0        47.0     14.0       75.0   \n",
              "3     1000    8.0                408.0        52.0     14.0       81.0   \n",
              "4     1000    9.0                466.0        58.0     15.0       57.0   \n",
              "5     1000   10.0                350.0        57.0     15.0       73.0   \n",
              "6     1000   11.0                338.0        43.0     15.0       58.0   \n",
              "7     1000   12.0                333.0        46.0     10.0       70.0   \n",
              "8     1001   12.0                414.0        63.0     14.0        0.0   \n",
              "9     1001   11.0                430.0        59.0     18.0        0.0   \n",
              "\n",
              "  tariff_name  reg_month  churn_month       city  ...  gb_per_month_included  \\\n",
              "0       ultra          5          NaN  Краснодар  ...                   30.0   \n",
              "1       ultra          5          NaN  Краснодар  ...                   30.0   \n",
              "2       ultra          5          NaN  Краснодар  ...                   30.0   \n",
              "3       ultra          5          NaN  Краснодар  ...                   30.0   \n",
              "4       ultra          5          NaN  Краснодар  ...                   30.0   \n",
              "5       ultra          5          NaN  Краснодар  ...                   30.0   \n",
              "6       ultra          5          NaN  Краснодар  ...                   30.0   \n",
              "7       ultra          5          NaN  Краснодар  ...                   30.0   \n",
              "8       smart         11          NaN     Москва  ...                   15.0   \n",
              "9       smart         11          NaN     Москва  ...                   15.0   \n",
              "\n",
              "   minutes_included  rub_monthly_fee  rub_per_gb  rub_per_message  \\\n",
              "0              3000             1950         150                1   \n",
              "1              3000             1950         150                1   \n",
              "2              3000             1950         150                1   \n",
              "3              3000             1950         150                1   \n",
              "4              3000             1950         150                1   \n",
              "5              3000             1950         150                1   \n",
              "6              3000             1950         150                1   \n",
              "7              3000             1950         150                1   \n",
              "8               500              550         200                3   \n",
              "9               500              550         200                3   \n",
              "\n",
              "   rub_per_minute  call_duration_excess  msg_excess  gb_excess  payment  \n",
              "0               1                   0.0         0.0        0.0   1950.0  \n",
              "1               1                   0.0         0.0        0.0   1950.0  \n",
              "2               1                   0.0         0.0        0.0   1950.0  \n",
              "3               1                   0.0         0.0        0.0   1950.0  \n",
              "4               1                   0.0         0.0        0.0   1950.0  \n",
              "5               1                   0.0         0.0        0.0   1950.0  \n",
              "6               1                   0.0         0.0        0.0   1950.0  \n",
              "7               1                   0.0         0.0        0.0   1950.0  \n",
              "8               3                   0.0         0.0        0.0    550.0  \n",
              "9               3                   0.0         0.0        3.0   1150.0  \n",
              "\n",
              "[10 rows x 21 columns]"
            ],
            "text/html": [
              "\n",
              "  <div id=\"df-e80e1eb9-86c7-4fd3-892c-2b26e0cb5661\">\n",
              "    <div class=\"colab-df-container\">\n",
              "      <div>\n",
              "<style scoped>\n",
              "    .dataframe tbody tr th:only-of-type {\n",
              "        vertical-align: middle;\n",
              "    }\n",
              "\n",
              "    .dataframe tbody tr th {\n",
              "        vertical-align: top;\n",
              "    }\n",
              "\n",
              "    .dataframe thead th {\n",
              "        text-align: right;\n",
              "    }\n",
              "</style>\n",
              "<table border=\"1\" class=\"dataframe\">\n",
              "  <thead>\n",
              "    <tr style=\"text-align: right;\">\n",
              "      <th></th>\n",
              "      <th>user_id</th>\n",
              "      <th>month</th>\n",
              "      <th>call_duration_total</th>\n",
              "      <th>call_count</th>\n",
              "      <th>gb_used</th>\n",
              "      <th>msg_count</th>\n",
              "      <th>tariff_name</th>\n",
              "      <th>reg_month</th>\n",
              "      <th>churn_month</th>\n",
              "      <th>city</th>\n",
              "      <th>...</th>\n",
              "      <th>gb_per_month_included</th>\n",
              "      <th>minutes_included</th>\n",
              "      <th>rub_monthly_fee</th>\n",
              "      <th>rub_per_gb</th>\n",
              "      <th>rub_per_message</th>\n",
              "      <th>rub_per_minute</th>\n",
              "      <th>call_duration_excess</th>\n",
              "      <th>msg_excess</th>\n",
              "      <th>gb_excess</th>\n",
              "      <th>payment</th>\n",
              "    </tr>\n",
              "  </thead>\n",
              "  <tbody>\n",
              "    <tr>\n",
              "      <th>0</th>\n",
              "      <td>1000</td>\n",
              "      <td>5.0</td>\n",
              "      <td>159.0</td>\n",
              "      <td>22.0</td>\n",
              "      <td>3.0</td>\n",
              "      <td>22.0</td>\n",
              "      <td>ultra</td>\n",
              "      <td>5</td>\n",
              "      <td>NaN</td>\n",
              "      <td>Краснодар</td>\n",
              "      <td>...</td>\n",
              "      <td>30.0</td>\n",
              "      <td>3000</td>\n",
              "      <td>1950</td>\n",
              "      <td>150</td>\n",
              "      <td>1</td>\n",
              "      <td>1</td>\n",
              "      <td>0.0</td>\n",
              "      <td>0.0</td>\n",
              "      <td>0.0</td>\n",
              "      <td>1950.0</td>\n",
              "    </tr>\n",
              "    <tr>\n",
              "      <th>1</th>\n",
              "      <td>1000</td>\n",
              "      <td>6.0</td>\n",
              "      <td>172.0</td>\n",
              "      <td>43.0</td>\n",
              "      <td>23.0</td>\n",
              "      <td>60.0</td>\n",
              "      <td>ultra</td>\n",
              "      <td>5</td>\n",
              "      <td>NaN</td>\n",
              "      <td>Краснодар</td>\n",
              "      <td>...</td>\n",
              "      <td>30.0</td>\n",
              "      <td>3000</td>\n",
              "      <td>1950</td>\n",
              "      <td>150</td>\n",
              "      <td>1</td>\n",
              "      <td>1</td>\n",
              "      <td>0.0</td>\n",
              "      <td>0.0</td>\n",
              "      <td>0.0</td>\n",
              "      <td>1950.0</td>\n",
              "    </tr>\n",
              "    <tr>\n",
              "      <th>2</th>\n",
              "      <td>1000</td>\n",
              "      <td>7.0</td>\n",
              "      <td>340.0</td>\n",
              "      <td>47.0</td>\n",
              "      <td>14.0</td>\n",
              "      <td>75.0</td>\n",
              "      <td>ultra</td>\n",
              "      <td>5</td>\n",
              "      <td>NaN</td>\n",
              "      <td>Краснодар</td>\n",
              "      <td>...</td>\n",
              "      <td>30.0</td>\n",
              "      <td>3000</td>\n",
              "      <td>1950</td>\n",
              "      <td>150</td>\n",
              "      <td>1</td>\n",
              "      <td>1</td>\n",
              "      <td>0.0</td>\n",
              "      <td>0.0</td>\n",
              "      <td>0.0</td>\n",
              "      <td>1950.0</td>\n",
              "    </tr>\n",
              "    <tr>\n",
              "      <th>3</th>\n",
              "      <td>1000</td>\n",
              "      <td>8.0</td>\n",
              "      <td>408.0</td>\n",
              "      <td>52.0</td>\n",
              "      <td>14.0</td>\n",
              "      <td>81.0</td>\n",
              "      <td>ultra</td>\n",
              "      <td>5</td>\n",
              "      <td>NaN</td>\n",
              "      <td>Краснодар</td>\n",
              "      <td>...</td>\n",
              "      <td>30.0</td>\n",
              "      <td>3000</td>\n",
              "      <td>1950</td>\n",
              "      <td>150</td>\n",
              "      <td>1</td>\n",
              "      <td>1</td>\n",
              "      <td>0.0</td>\n",
              "      <td>0.0</td>\n",
              "      <td>0.0</td>\n",
              "      <td>1950.0</td>\n",
              "    </tr>\n",
              "    <tr>\n",
              "      <th>4</th>\n",
              "      <td>1000</td>\n",
              "      <td>9.0</td>\n",
              "      <td>466.0</td>\n",
              "      <td>58.0</td>\n",
              "      <td>15.0</td>\n",
              "      <td>57.0</td>\n",
              "      <td>ultra</td>\n",
              "      <td>5</td>\n",
              "      <td>NaN</td>\n",
              "      <td>Краснодар</td>\n",
              "      <td>...</td>\n",
              "      <td>30.0</td>\n",
              "      <td>3000</td>\n",
              "      <td>1950</td>\n",
              "      <td>150</td>\n",
              "      <td>1</td>\n",
              "      <td>1</td>\n",
              "      <td>0.0</td>\n",
              "      <td>0.0</td>\n",
              "      <td>0.0</td>\n",
              "      <td>1950.0</td>\n",
              "    </tr>\n",
              "    <tr>\n",
              "      <th>5</th>\n",
              "      <td>1000</td>\n",
              "      <td>10.0</td>\n",
              "      <td>350.0</td>\n",
              "      <td>57.0</td>\n",
              "      <td>15.0</td>\n",
              "      <td>73.0</td>\n",
              "      <td>ultra</td>\n",
              "      <td>5</td>\n",
              "      <td>NaN</td>\n",
              "      <td>Краснодар</td>\n",
              "      <td>...</td>\n",
              "      <td>30.0</td>\n",
              "      <td>3000</td>\n",
              "      <td>1950</td>\n",
              "      <td>150</td>\n",
              "      <td>1</td>\n",
              "      <td>1</td>\n",
              "      <td>0.0</td>\n",
              "      <td>0.0</td>\n",
              "      <td>0.0</td>\n",
              "      <td>1950.0</td>\n",
              "    </tr>\n",
              "    <tr>\n",
              "      <th>6</th>\n",
              "      <td>1000</td>\n",
              "      <td>11.0</td>\n",
              "      <td>338.0</td>\n",
              "      <td>43.0</td>\n",
              "      <td>15.0</td>\n",
              "      <td>58.0</td>\n",
              "      <td>ultra</td>\n",
              "      <td>5</td>\n",
              "      <td>NaN</td>\n",
              "      <td>Краснодар</td>\n",
              "      <td>...</td>\n",
              "      <td>30.0</td>\n",
              "      <td>3000</td>\n",
              "      <td>1950</td>\n",
              "      <td>150</td>\n",
              "      <td>1</td>\n",
              "      <td>1</td>\n",
              "      <td>0.0</td>\n",
              "      <td>0.0</td>\n",
              "      <td>0.0</td>\n",
              "      <td>1950.0</td>\n",
              "    </tr>\n",
              "    <tr>\n",
              "      <th>7</th>\n",
              "      <td>1000</td>\n",
              "      <td>12.0</td>\n",
              "      <td>333.0</td>\n",
              "      <td>46.0</td>\n",
              "      <td>10.0</td>\n",
              "      <td>70.0</td>\n",
              "      <td>ultra</td>\n",
              "      <td>5</td>\n",
              "      <td>NaN</td>\n",
              "      <td>Краснодар</td>\n",
              "      <td>...</td>\n",
              "      <td>30.0</td>\n",
              "      <td>3000</td>\n",
              "      <td>1950</td>\n",
              "      <td>150</td>\n",
              "      <td>1</td>\n",
              "      <td>1</td>\n",
              "      <td>0.0</td>\n",
              "      <td>0.0</td>\n",
              "      <td>0.0</td>\n",
              "      <td>1950.0</td>\n",
              "    </tr>\n",
              "    <tr>\n",
              "      <th>8</th>\n",
              "      <td>1001</td>\n",
              "      <td>12.0</td>\n",
              "      <td>414.0</td>\n",
              "      <td>63.0</td>\n",
              "      <td>14.0</td>\n",
              "      <td>0.0</td>\n",
              "      <td>smart</td>\n",
              "      <td>11</td>\n",
              "      <td>NaN</td>\n",
              "      <td>Москва</td>\n",
              "      <td>...</td>\n",
              "      <td>15.0</td>\n",
              "      <td>500</td>\n",
              "      <td>550</td>\n",
              "      <td>200</td>\n",
              "      <td>3</td>\n",
              "      <td>3</td>\n",
              "      <td>0.0</td>\n",
              "      <td>0.0</td>\n",
              "      <td>0.0</td>\n",
              "      <td>550.0</td>\n",
              "    </tr>\n",
              "    <tr>\n",
              "      <th>9</th>\n",
              "      <td>1001</td>\n",
              "      <td>11.0</td>\n",
              "      <td>430.0</td>\n",
              "      <td>59.0</td>\n",
              "      <td>18.0</td>\n",
              "      <td>0.0</td>\n",
              "      <td>smart</td>\n",
              "      <td>11</td>\n",
              "      <td>NaN</td>\n",
              "      <td>Москва</td>\n",
              "      <td>...</td>\n",
              "      <td>15.0</td>\n",
              "      <td>500</td>\n",
              "      <td>550</td>\n",
              "      <td>200</td>\n",
              "      <td>3</td>\n",
              "      <td>3</td>\n",
              "      <td>0.0</td>\n",
              "      <td>0.0</td>\n",
              "      <td>3.0</td>\n",
              "      <td>1150.0</td>\n",
              "    </tr>\n",
              "  </tbody>\n",
              "</table>\n",
              "<p>10 rows × 21 columns</p>\n",
              "</div>\n",
              "      <button class=\"colab-df-convert\" onclick=\"convertToInteractive('df-e80e1eb9-86c7-4fd3-892c-2b26e0cb5661')\"\n",
              "              title=\"Convert this dataframe to an interactive table.\"\n",
              "              style=\"display:none;\">\n",
              "        \n",
              "  <svg xmlns=\"http://www.w3.org/2000/svg\" height=\"24px\"viewBox=\"0 0 24 24\"\n",
              "       width=\"24px\">\n",
              "    <path d=\"M0 0h24v24H0V0z\" fill=\"none\"/>\n",
              "    <path d=\"M18.56 5.44l.94 2.06.94-2.06 2.06-.94-2.06-.94-.94-2.06-.94 2.06-2.06.94zm-11 1L8.5 8.5l.94-2.06 2.06-.94-2.06-.94L8.5 2.5l-.94 2.06-2.06.94zm10 10l.94 2.06.94-2.06 2.06-.94-2.06-.94-.94-2.06-.94 2.06-2.06.94z\"/><path d=\"M17.41 7.96l-1.37-1.37c-.4-.4-.92-.59-1.43-.59-.52 0-1.04.2-1.43.59L10.3 9.45l-7.72 7.72c-.78.78-.78 2.05 0 2.83L4 21.41c.39.39.9.59 1.41.59.51 0 1.02-.2 1.41-.59l7.78-7.78 2.81-2.81c.8-.78.8-2.07 0-2.86zM5.41 20L4 18.59l7.72-7.72 1.47 1.35L5.41 20z\"/>\n",
              "  </svg>\n",
              "      </button>\n",
              "      \n",
              "  <style>\n",
              "    .colab-df-container {\n",
              "      display:flex;\n",
              "      flex-wrap:wrap;\n",
              "      gap: 12px;\n",
              "    }\n",
              "\n",
              "    .colab-df-convert {\n",
              "      background-color: #E8F0FE;\n",
              "      border: none;\n",
              "      border-radius: 50%;\n",
              "      cursor: pointer;\n",
              "      display: none;\n",
              "      fill: #1967D2;\n",
              "      height: 32px;\n",
              "      padding: 0 0 0 0;\n",
              "      width: 32px;\n",
              "    }\n",
              "\n",
              "    .colab-df-convert:hover {\n",
              "      background-color: #E2EBFA;\n",
              "      box-shadow: 0px 1px 2px rgba(60, 64, 67, 0.3), 0px 1px 3px 1px rgba(60, 64, 67, 0.15);\n",
              "      fill: #174EA6;\n",
              "    }\n",
              "\n",
              "    [theme=dark] .colab-df-convert {\n",
              "      background-color: #3B4455;\n",
              "      fill: #D2E3FC;\n",
              "    }\n",
              "\n",
              "    [theme=dark] .colab-df-convert:hover {\n",
              "      background-color: #434B5C;\n",
              "      box-shadow: 0px 1px 3px 1px rgba(0, 0, 0, 0.15);\n",
              "      filter: drop-shadow(0px 1px 2px rgba(0, 0, 0, 0.3));\n",
              "      fill: #FFFFFF;\n",
              "    }\n",
              "  </style>\n",
              "\n",
              "      <script>\n",
              "        const buttonEl =\n",
              "          document.querySelector('#df-e80e1eb9-86c7-4fd3-892c-2b26e0cb5661 button.colab-df-convert');\n",
              "        buttonEl.style.display =\n",
              "          google.colab.kernel.accessAllowed ? 'block' : 'none';\n",
              "\n",
              "        async function convertToInteractive(key) {\n",
              "          const element = document.querySelector('#df-e80e1eb9-86c7-4fd3-892c-2b26e0cb5661');\n",
              "          const dataTable =\n",
              "            await google.colab.kernel.invokeFunction('convertToInteractive',\n",
              "                                                     [key], {});\n",
              "          if (!dataTable) return;\n",
              "\n",
              "          const docLinkHtml = 'Like what you see? Visit the ' +\n",
              "            '<a target=\"_blank\" href=https://colab.research.google.com/notebooks/data_table.ipynb>data table notebook</a>'\n",
              "            + ' to learn more about interactive tables.';\n",
              "          element.innerHTML = '';\n",
              "          dataTable['output_type'] = 'display_data';\n",
              "          await google.colab.output.renderOutput(dataTable, element);\n",
              "          const docLink = document.createElement('div');\n",
              "          docLink.innerHTML = docLinkHtml;\n",
              "          element.appendChild(docLink);\n",
              "        }\n",
              "      </script>\n",
              "    </div>\n",
              "  </div>\n",
              "  "
            ]
          },
          "metadata": {},
          "execution_count": 56
        }
      ],
      "source": [
        "df.head(10)"
      ]
    },
    {
      "cell_type": "code",
      "source": [
        "df[['call_count', 'call_duration_total', 'msg_count', 'gb_used']].describe()"
      ],
      "metadata": {
        "colab": {
          "base_uri": "https://localhost:8080/",
          "height": 300
        },
        "id": "ZxqzfbTf12ei",
        "outputId": "038d0ef3-e6f3-4b36-cbd0-ab54a70f48c3"
      },
      "execution_count": 57,
      "outputs": [
        {
          "output_type": "execute_result",
          "data": {
            "text/plain": [
              "        call_count  call_duration_total    msg_count      gb_used\n",
              "count  3216.000000          3216.000000  3216.000000  3216.000000\n",
              "mean     62.999689           450.964241    38.257463    17.288246\n",
              "std      33.263185           242.096312    36.149684     7.410845\n",
              "min       0.000000             0.000000     0.000000     0.000000\n",
              "25%      40.000000           282.000000     9.000000    13.000000\n",
              "50%      62.000000           443.000000    30.000000    17.000000\n",
              "75%      82.000000           589.000000    57.000000    21.000000\n",
              "max     244.000000          1673.000000   224.000000    49.000000"
            ],
            "text/html": [
              "\n",
              "  <div id=\"df-e6fe83c1-1dcc-4364-83a0-b5e3e63bee1b\">\n",
              "    <div class=\"colab-df-container\">\n",
              "      <div>\n",
              "<style scoped>\n",
              "    .dataframe tbody tr th:only-of-type {\n",
              "        vertical-align: middle;\n",
              "    }\n",
              "\n",
              "    .dataframe tbody tr th {\n",
              "        vertical-align: top;\n",
              "    }\n",
              "\n",
              "    .dataframe thead th {\n",
              "        text-align: right;\n",
              "    }\n",
              "</style>\n",
              "<table border=\"1\" class=\"dataframe\">\n",
              "  <thead>\n",
              "    <tr style=\"text-align: right;\">\n",
              "      <th></th>\n",
              "      <th>call_count</th>\n",
              "      <th>call_duration_total</th>\n",
              "      <th>msg_count</th>\n",
              "      <th>gb_used</th>\n",
              "    </tr>\n",
              "  </thead>\n",
              "  <tbody>\n",
              "    <tr>\n",
              "      <th>count</th>\n",
              "      <td>3216.000000</td>\n",
              "      <td>3216.000000</td>\n",
              "      <td>3216.000000</td>\n",
              "      <td>3216.000000</td>\n",
              "    </tr>\n",
              "    <tr>\n",
              "      <th>mean</th>\n",
              "      <td>62.999689</td>\n",
              "      <td>450.964241</td>\n",
              "      <td>38.257463</td>\n",
              "      <td>17.288246</td>\n",
              "    </tr>\n",
              "    <tr>\n",
              "      <th>std</th>\n",
              "      <td>33.263185</td>\n",
              "      <td>242.096312</td>\n",
              "      <td>36.149684</td>\n",
              "      <td>7.410845</td>\n",
              "    </tr>\n",
              "    <tr>\n",
              "      <th>min</th>\n",
              "      <td>0.000000</td>\n",
              "      <td>0.000000</td>\n",
              "      <td>0.000000</td>\n",
              "      <td>0.000000</td>\n",
              "    </tr>\n",
              "    <tr>\n",
              "      <th>25%</th>\n",
              "      <td>40.000000</td>\n",
              "      <td>282.000000</td>\n",
              "      <td>9.000000</td>\n",
              "      <td>13.000000</td>\n",
              "    </tr>\n",
              "    <tr>\n",
              "      <th>50%</th>\n",
              "      <td>62.000000</td>\n",
              "      <td>443.000000</td>\n",
              "      <td>30.000000</td>\n",
              "      <td>17.000000</td>\n",
              "    </tr>\n",
              "    <tr>\n",
              "      <th>75%</th>\n",
              "      <td>82.000000</td>\n",
              "      <td>589.000000</td>\n",
              "      <td>57.000000</td>\n",
              "      <td>21.000000</td>\n",
              "    </tr>\n",
              "    <tr>\n",
              "      <th>max</th>\n",
              "      <td>244.000000</td>\n",
              "      <td>1673.000000</td>\n",
              "      <td>224.000000</td>\n",
              "      <td>49.000000</td>\n",
              "    </tr>\n",
              "  </tbody>\n",
              "</table>\n",
              "</div>\n",
              "      <button class=\"colab-df-convert\" onclick=\"convertToInteractive('df-e6fe83c1-1dcc-4364-83a0-b5e3e63bee1b')\"\n",
              "              title=\"Convert this dataframe to an interactive table.\"\n",
              "              style=\"display:none;\">\n",
              "        \n",
              "  <svg xmlns=\"http://www.w3.org/2000/svg\" height=\"24px\"viewBox=\"0 0 24 24\"\n",
              "       width=\"24px\">\n",
              "    <path d=\"M0 0h24v24H0V0z\" fill=\"none\"/>\n",
              "    <path d=\"M18.56 5.44l.94 2.06.94-2.06 2.06-.94-2.06-.94-.94-2.06-.94 2.06-2.06.94zm-11 1L8.5 8.5l.94-2.06 2.06-.94-2.06-.94L8.5 2.5l-.94 2.06-2.06.94zm10 10l.94 2.06.94-2.06 2.06-.94-2.06-.94-.94-2.06-.94 2.06-2.06.94z\"/><path d=\"M17.41 7.96l-1.37-1.37c-.4-.4-.92-.59-1.43-.59-.52 0-1.04.2-1.43.59L10.3 9.45l-7.72 7.72c-.78.78-.78 2.05 0 2.83L4 21.41c.39.39.9.59 1.41.59.51 0 1.02-.2 1.41-.59l7.78-7.78 2.81-2.81c.8-.78.8-2.07 0-2.86zM5.41 20L4 18.59l7.72-7.72 1.47 1.35L5.41 20z\"/>\n",
              "  </svg>\n",
              "      </button>\n",
              "      \n",
              "  <style>\n",
              "    .colab-df-container {\n",
              "      display:flex;\n",
              "      flex-wrap:wrap;\n",
              "      gap: 12px;\n",
              "    }\n",
              "\n",
              "    .colab-df-convert {\n",
              "      background-color: #E8F0FE;\n",
              "      border: none;\n",
              "      border-radius: 50%;\n",
              "      cursor: pointer;\n",
              "      display: none;\n",
              "      fill: #1967D2;\n",
              "      height: 32px;\n",
              "      padding: 0 0 0 0;\n",
              "      width: 32px;\n",
              "    }\n",
              "\n",
              "    .colab-df-convert:hover {\n",
              "      background-color: #E2EBFA;\n",
              "      box-shadow: 0px 1px 2px rgba(60, 64, 67, 0.3), 0px 1px 3px 1px rgba(60, 64, 67, 0.15);\n",
              "      fill: #174EA6;\n",
              "    }\n",
              "\n",
              "    [theme=dark] .colab-df-convert {\n",
              "      background-color: #3B4455;\n",
              "      fill: #D2E3FC;\n",
              "    }\n",
              "\n",
              "    [theme=dark] .colab-df-convert:hover {\n",
              "      background-color: #434B5C;\n",
              "      box-shadow: 0px 1px 3px 1px rgba(0, 0, 0, 0.15);\n",
              "      filter: drop-shadow(0px 1px 2px rgba(0, 0, 0, 0.3));\n",
              "      fill: #FFFFFF;\n",
              "    }\n",
              "  </style>\n",
              "\n",
              "      <script>\n",
              "        const buttonEl =\n",
              "          document.querySelector('#df-e6fe83c1-1dcc-4364-83a0-b5e3e63bee1b button.colab-df-convert');\n",
              "        buttonEl.style.display =\n",
              "          google.colab.kernel.accessAllowed ? 'block' : 'none';\n",
              "\n",
              "        async function convertToInteractive(key) {\n",
              "          const element = document.querySelector('#df-e6fe83c1-1dcc-4364-83a0-b5e3e63bee1b');\n",
              "          const dataTable =\n",
              "            await google.colab.kernel.invokeFunction('convertToInteractive',\n",
              "                                                     [key], {});\n",
              "          if (!dataTable) return;\n",
              "\n",
              "          const docLinkHtml = 'Like what you see? Visit the ' +\n",
              "            '<a target=\"_blank\" href=https://colab.research.google.com/notebooks/data_table.ipynb>data table notebook</a>'\n",
              "            + ' to learn more about interactive tables.';\n",
              "          element.innerHTML = '';\n",
              "          dataTable['output_type'] = 'display_data';\n",
              "          await google.colab.output.renderOutput(dataTable, element);\n",
              "          const docLink = document.createElement('div');\n",
              "          docLink.innerHTML = docLinkHtml;\n",
              "          element.appendChild(docLink);\n",
              "        }\n",
              "      </script>\n",
              "    </div>\n",
              "  </div>\n",
              "  "
            ]
          },
          "metadata": {},
          "execution_count": 57
        }
      ]
    },
    {
      "cell_type": "code",
      "execution_count": 58,
      "metadata": {
        "colab": {
          "base_uri": "https://localhost:8080/"
        },
        "id": "8pTk7piHR6zg",
        "outputId": "9aaddcc9-c6cf-43e7-bbc6-1517cc900637"
      },
      "outputs": [
        {
          "output_type": "stream",
          "name": "stdout",
          "text": [
            "<class 'pandas.core.frame.DataFrame'>\n",
            "RangeIndex: 3216 entries, 0 to 3215\n",
            "Data columns (total 21 columns):\n",
            " #   Column                 Non-Null Count  Dtype  \n",
            "---  ------                 --------------  -----  \n",
            " 0   user_id                3216 non-null   int64  \n",
            " 1   month                  3214 non-null   float64\n",
            " 2   call_duration_total    3216 non-null   float64\n",
            " 3   call_count             3216 non-null   float64\n",
            " 4   gb_used                3216 non-null   float64\n",
            " 5   msg_count              3216 non-null   float64\n",
            " 6   tariff_name            3216 non-null   object \n",
            " 7   reg_month              3216 non-null   int64  \n",
            " 8   churn_month            189 non-null    float64\n",
            " 9   city                   3216 non-null   object \n",
            " 10  messages_included      3216 non-null   int64  \n",
            " 11  gb_per_month_included  3216 non-null   float64\n",
            " 12  minutes_included       3216 non-null   int64  \n",
            " 13  rub_monthly_fee        3216 non-null   int64  \n",
            " 14  rub_per_gb             3216 non-null   int64  \n",
            " 15  rub_per_message        3216 non-null   int64  \n",
            " 16  rub_per_minute         3216 non-null   int64  \n",
            " 17  call_duration_excess   3216 non-null   float64\n",
            " 18  msg_excess             3216 non-null   float64\n",
            " 19  gb_excess              3216 non-null   float64\n",
            " 20  payment                3216 non-null   float64\n",
            "dtypes: float64(11), int64(8), object(2)\n",
            "memory usage: 527.8+ KB\n"
          ]
        }
      ],
      "source": [
        "df.info()"
      ]
    },
    {
      "cell_type": "markdown",
      "metadata": {
        "id": "dN_KJFvBR6zg"
      },
      "source": [
        "### Вывод"
      ]
    },
    {
      "cell_type": "markdown",
      "metadata": {
        "id": "1gDZbyvDR6zg"
      },
      "source": [
        "Мы собрали датафрейм, в котором мы расчитали, сколько пользователи тратят в месяц минут, гигабайт и сообщений. Также мы вычислили помесячную выручку с каждого пользователя. Данные полностью готовы для анализа."
      ]
    },
    {
      "cell_type": "markdown",
      "metadata": {
        "id": "S8pXkGcwR6zg"
      },
      "source": [
        "## Анализ данных"
      ]
    },
    {
      "cell_type": "markdown",
      "metadata": {
        "id": "4VanL3_6R6zh"
      },
      "source": [
        "Посмотрим, сколько денег платят пользователи, в зависимости от выбранного тарифа. Вычислим среднее, дисперсию и стандартное отклонение."
      ]
    },
    {
      "cell_type": "code",
      "execution_count": 59,
      "metadata": {
        "scrolled": false,
        "colab": {
          "base_uri": "https://localhost:8080/",
          "height": 143
        },
        "id": "RU6e-grrR6zh",
        "outputId": "ad1018ac-5b9c-4ef8-925d-19059185af6b"
      },
      "outputs": [
        {
          "output_type": "execute_result",
          "data": {
            "text/plain": [
              "              count         mean         std     min     25%     50%     75%  \\\n",
              "tariff_name                                                                    \n",
              "smart        2230.0  1289.641704  818.370799   550.0   550.0  1021.0  1750.0   \n",
              "ultra         986.0  2070.030426  376.015578  1950.0  1950.0  1950.0  1950.0   \n",
              "\n",
              "                max  \n",
              "tariff_name          \n",
              "smart        6770.0  \n",
              "ultra        4800.0  "
            ],
            "text/html": [
              "\n",
              "  <div id=\"df-4538bd7b-e03d-4769-9811-92c6da523910\">\n",
              "    <div class=\"colab-df-container\">\n",
              "      <div>\n",
              "<style scoped>\n",
              "    .dataframe tbody tr th:only-of-type {\n",
              "        vertical-align: middle;\n",
              "    }\n",
              "\n",
              "    .dataframe tbody tr th {\n",
              "        vertical-align: top;\n",
              "    }\n",
              "\n",
              "    .dataframe thead th {\n",
              "        text-align: right;\n",
              "    }\n",
              "</style>\n",
              "<table border=\"1\" class=\"dataframe\">\n",
              "  <thead>\n",
              "    <tr style=\"text-align: right;\">\n",
              "      <th></th>\n",
              "      <th>count</th>\n",
              "      <th>mean</th>\n",
              "      <th>std</th>\n",
              "      <th>min</th>\n",
              "      <th>25%</th>\n",
              "      <th>50%</th>\n",
              "      <th>75%</th>\n",
              "      <th>max</th>\n",
              "    </tr>\n",
              "    <tr>\n",
              "      <th>tariff_name</th>\n",
              "      <th></th>\n",
              "      <th></th>\n",
              "      <th></th>\n",
              "      <th></th>\n",
              "      <th></th>\n",
              "      <th></th>\n",
              "      <th></th>\n",
              "      <th></th>\n",
              "    </tr>\n",
              "  </thead>\n",
              "  <tbody>\n",
              "    <tr>\n",
              "      <th>smart</th>\n",
              "      <td>2230.0</td>\n",
              "      <td>1289.641704</td>\n",
              "      <td>818.370799</td>\n",
              "      <td>550.0</td>\n",
              "      <td>550.0</td>\n",
              "      <td>1021.0</td>\n",
              "      <td>1750.0</td>\n",
              "      <td>6770.0</td>\n",
              "    </tr>\n",
              "    <tr>\n",
              "      <th>ultra</th>\n",
              "      <td>986.0</td>\n",
              "      <td>2070.030426</td>\n",
              "      <td>376.015578</td>\n",
              "      <td>1950.0</td>\n",
              "      <td>1950.0</td>\n",
              "      <td>1950.0</td>\n",
              "      <td>1950.0</td>\n",
              "      <td>4800.0</td>\n",
              "    </tr>\n",
              "  </tbody>\n",
              "</table>\n",
              "</div>\n",
              "      <button class=\"colab-df-convert\" onclick=\"convertToInteractive('df-4538bd7b-e03d-4769-9811-92c6da523910')\"\n",
              "              title=\"Convert this dataframe to an interactive table.\"\n",
              "              style=\"display:none;\">\n",
              "        \n",
              "  <svg xmlns=\"http://www.w3.org/2000/svg\" height=\"24px\"viewBox=\"0 0 24 24\"\n",
              "       width=\"24px\">\n",
              "    <path d=\"M0 0h24v24H0V0z\" fill=\"none\"/>\n",
              "    <path d=\"M18.56 5.44l.94 2.06.94-2.06 2.06-.94-2.06-.94-.94-2.06-.94 2.06-2.06.94zm-11 1L8.5 8.5l.94-2.06 2.06-.94-2.06-.94L8.5 2.5l-.94 2.06-2.06.94zm10 10l.94 2.06.94-2.06 2.06-.94-2.06-.94-.94-2.06-.94 2.06-2.06.94z\"/><path d=\"M17.41 7.96l-1.37-1.37c-.4-.4-.92-.59-1.43-.59-.52 0-1.04.2-1.43.59L10.3 9.45l-7.72 7.72c-.78.78-.78 2.05 0 2.83L4 21.41c.39.39.9.59 1.41.59.51 0 1.02-.2 1.41-.59l7.78-7.78 2.81-2.81c.8-.78.8-2.07 0-2.86zM5.41 20L4 18.59l7.72-7.72 1.47 1.35L5.41 20z\"/>\n",
              "  </svg>\n",
              "      </button>\n",
              "      \n",
              "  <style>\n",
              "    .colab-df-container {\n",
              "      display:flex;\n",
              "      flex-wrap:wrap;\n",
              "      gap: 12px;\n",
              "    }\n",
              "\n",
              "    .colab-df-convert {\n",
              "      background-color: #E8F0FE;\n",
              "      border: none;\n",
              "      border-radius: 50%;\n",
              "      cursor: pointer;\n",
              "      display: none;\n",
              "      fill: #1967D2;\n",
              "      height: 32px;\n",
              "      padding: 0 0 0 0;\n",
              "      width: 32px;\n",
              "    }\n",
              "\n",
              "    .colab-df-convert:hover {\n",
              "      background-color: #E2EBFA;\n",
              "      box-shadow: 0px 1px 2px rgba(60, 64, 67, 0.3), 0px 1px 3px 1px rgba(60, 64, 67, 0.15);\n",
              "      fill: #174EA6;\n",
              "    }\n",
              "\n",
              "    [theme=dark] .colab-df-convert {\n",
              "      background-color: #3B4455;\n",
              "      fill: #D2E3FC;\n",
              "    }\n",
              "\n",
              "    [theme=dark] .colab-df-convert:hover {\n",
              "      background-color: #434B5C;\n",
              "      box-shadow: 0px 1px 3px 1px rgba(0, 0, 0, 0.15);\n",
              "      filter: drop-shadow(0px 1px 2px rgba(0, 0, 0, 0.3));\n",
              "      fill: #FFFFFF;\n",
              "    }\n",
              "  </style>\n",
              "\n",
              "      <script>\n",
              "        const buttonEl =\n",
              "          document.querySelector('#df-4538bd7b-e03d-4769-9811-92c6da523910 button.colab-df-convert');\n",
              "        buttonEl.style.display =\n",
              "          google.colab.kernel.accessAllowed ? 'block' : 'none';\n",
              "\n",
              "        async function convertToInteractive(key) {\n",
              "          const element = document.querySelector('#df-4538bd7b-e03d-4769-9811-92c6da523910');\n",
              "          const dataTable =\n",
              "            await google.colab.kernel.invokeFunction('convertToInteractive',\n",
              "                                                     [key], {});\n",
              "          if (!dataTable) return;\n",
              "\n",
              "          const docLinkHtml = 'Like what you see? Visit the ' +\n",
              "            '<a target=\"_blank\" href=https://colab.research.google.com/notebooks/data_table.ipynb>data table notebook</a>'\n",
              "            + ' to learn more about interactive tables.';\n",
              "          element.innerHTML = '';\n",
              "          dataTable['output_type'] = 'display_data';\n",
              "          await google.colab.output.renderOutput(dataTable, element);\n",
              "          const docLink = document.createElement('div');\n",
              "          docLink.innerHTML = docLinkHtml;\n",
              "          element.appendChild(docLink);\n",
              "        }\n",
              "      </script>\n",
              "    </div>\n",
              "  </div>\n",
              "  "
            ]
          },
          "metadata": {},
          "execution_count": 59
        }
      ],
      "source": [
        "df.groupby('tariff_name')['payment'].describe()"
      ]
    },
    {
      "cell_type": "code",
      "execution_count": 60,
      "metadata": {
        "colab": {
          "base_uri": "https://localhost:8080/"
        },
        "id": "YGj4J7_FR6zh",
        "outputId": "c4a19fcf-9b53-4c57-f338-aef6a4204447"
      },
      "outputs": [
        {
          "output_type": "execute_result",
          "data": {
            "text/plain": [
              "376.0155778812382"
            ]
          },
          "metadata": {},
          "execution_count": 60
        }
      ],
      "source": [
        "#стандартное отклонение значений платежей для тарифа Ультра\n",
        "np.std(df[df['tariff_name'] == 'ultra']['payment'], ddof=1)"
      ]
    },
    {
      "cell_type": "code",
      "execution_count": 61,
      "metadata": {
        "scrolled": true,
        "colab": {
          "base_uri": "https://localhost:8080/"
        },
        "id": "kpEC6u1yR6zh",
        "outputId": "f282e00d-c168-42e7-fcda-1e37c3424625"
      },
      "outputs": [
        {
          "output_type": "execute_result",
          "data": {
            "text/plain": [
              "2070.030425963489"
            ]
          },
          "metadata": {},
          "execution_count": 61
        }
      ],
      "source": [
        "#Среднее значение платежей для тарифа Ультра\n",
        "np.mean(df[df['tariff_name'] == 'ultra']['payment'])"
      ]
    },
    {
      "cell_type": "code",
      "execution_count": 62,
      "metadata": {
        "colab": {
          "base_uri": "https://localhost:8080/"
        },
        "id": "qRFA5vyLR6zh",
        "outputId": "8957990a-1b42-4cc4-b047-1fa4a6ac69c2"
      },
      "outputs": [
        {
          "output_type": "execute_result",
          "data": {
            "text/plain": [
              "141244.31956107615"
            ]
          },
          "metadata": {},
          "execution_count": 62
        }
      ],
      "source": [
        "#Дисперсия значений платежей для тарифа Ультра\n",
        "np.var(df[df['tariff_name'] == 'ultra']['payment'])"
      ]
    },
    {
      "cell_type": "code",
      "execution_count": 63,
      "metadata": {
        "colab": {
          "base_uri": "https://localhost:8080/"
        },
        "id": "EYxXUtYTR6zi",
        "outputId": "fb196e83-10e7-43ea-af42-83b595a68145"
      },
      "outputs": [
        {
          "output_type": "execute_result",
          "data": {
            "text/plain": [
              "818.370798534996"
            ]
          },
          "metadata": {},
          "execution_count": 63
        }
      ],
      "source": [
        "#стандартное отклонение значений платежей для тарифа Смарт\n",
        "np.std(df[df['tariff_name'] == 'smart']['payment'], ddof=1)"
      ]
    },
    {
      "cell_type": "code",
      "execution_count": 64,
      "metadata": {
        "colab": {
          "base_uri": "https://localhost:8080/"
        },
        "id": "kL2_aUqyR6zi",
        "outputId": "54c7233c-4e76-46ac-9a7f-9c31780b639b"
      },
      "outputs": [
        {
          "output_type": "execute_result",
          "data": {
            "text/plain": [
              "1289.6417040358745"
            ]
          },
          "metadata": {},
          "execution_count": 64
        }
      ],
      "source": [
        "#Среднее значение платежей для тарифа Смарт\n",
        "np.mean(df[df['tariff_name'] == 'smart']['payment'])"
      ]
    },
    {
      "cell_type": "code",
      "execution_count": 65,
      "metadata": {
        "colab": {
          "base_uri": "https://localhost:8080/"
        },
        "id": "5RNXXpMXR6zj",
        "outputId": "c175edf2-1c63-4b16-bceb-91ad532733fa"
      },
      "outputs": [
        {
          "output_type": "execute_result",
          "data": {
            "text/plain": [
              "669430.4361979931"
            ]
          },
          "metadata": {},
          "execution_count": 65
        }
      ],
      "source": [
        "#Дисперсия значений платежей для тарифа Ультра\n",
        "np.var(df[df['tariff_name'] == 'smart']['payment'])"
      ]
    },
    {
      "cell_type": "markdown",
      "metadata": {
        "id": "2LDpU8gMR6zj"
      },
      "source": [
        "Попробовали методы Pandas и NumPy. describe() у Pandas выглядит хорошо"
      ]
    },
    {
      "cell_type": "code",
      "execution_count": 66,
      "metadata": {
        "scrolled": false,
        "colab": {
          "base_uri": "https://localhost:8080/",
          "height": 609
        },
        "id": "vXGiIM9zR6zj",
        "outputId": "3346256e-1630-4e28-8b7e-7da3ad9f44f9"
      },
      "outputs": [
        {
          "output_type": "execute_result",
          "data": {
            "text/plain": [
              "tariff_name\n",
              "smart    AxesSubplot(0.125,0.125;0.775x0.755)\n",
              "ultra    AxesSubplot(0.125,0.125;0.775x0.755)\n",
              "Name: payment, dtype: object"
            ]
          },
          "metadata": {},
          "execution_count": 66
        },
        {
          "output_type": "display_data",
          "data": {
            "text/plain": [
              "<Figure size 1152x648 with 1 Axes>"
            ],
            "image/png": "[encoded data removed]"
          },
          "metadata": {
            "needs_background": "light"
          }
        }
      ],
      "source": [
        "df.groupby('tariff_name')['payment'].hist(bins=20, figsize=(16, 9), alpha=0.8)"
      ]
    },
    {
      "cell_type": "markdown",
      "metadata": {
        "id": "j28XrmWoR6zj"
      },
      "source": [
        "Гистограммы отображают распределение платежей для каждого из двух тарифов. Мы видим два больших пика, которые соответствуют абонентской плате за каждый тариф. Пользователи \"ультры\" в очень редких случаях платят больше абонентской платы. Таким образом они крайне редко превышают лимит минут, трафика или сообщений. Пользователей \"смарта\", превышающих лимит достаточно много. Однако даже с учетом этого, пользователи \"смарта\" в среднем платят сильно меньше. Это видно и из гистаграммы, и из расчитанного значения среднего. Пользоваться \"смартом\" становится не выгодно, если лимит превышается сильно, и существенные выбросы в платежах мы видим именно для \"смарта\", впрочем, это только выбросы.  "
      ]
    },
    {
      "cell_type": "markdown",
      "metadata": {
        "id": "DA5fr82MR6zk"
      },
      "source": [
        "Посмотрим на помесячную длительность звонков в зависимости от тарифа"
      ]
    },
    {
      "cell_type": "code",
      "execution_count": 67,
      "metadata": {
        "scrolled": true,
        "colab": {
          "base_uri": "https://localhost:8080/",
          "height": 143
        },
        "id": "O4mCTYzPR6zk",
        "outputId": "ce2fd972-5910-46a9-bd2e-ac9dc6999fd9"
      },
      "outputs": [
        {
          "output_type": "execute_result",
          "data": {
            "text/plain": [
              "              count        mean         std  min    25%    50%     75%     max\n",
              "tariff_name                                                                   \n",
              "smart        2230.0  417.747534  190.476754  0.0  282.0  421.5  545.00  1435.0\n",
              "ultra         986.0  526.089249  317.887549  0.0  282.5  518.0  751.75  1673.0"
            ],
            "text/html": [
              "\n",
              "  <div id=\"df-e1969045-3383-4a97-8bbb-a102f38188d1\">\n",
              "    <div class=\"colab-df-container\">\n",
              "      <div>\n",
              "<style scoped>\n",
              "    .dataframe tbody tr th:only-of-type {\n",
              "        vertical-align: middle;\n",
              "    }\n",
              "\n",
              "    .dataframe tbody tr th {\n",
              "        vertical-align: top;\n",
              "    }\n",
              "\n",
              "    .dataframe thead th {\n",
              "        text-align: right;\n",
              "    }\n",
              "</style>\n",
              "<table border=\"1\" class=\"dataframe\">\n",
              "  <thead>\n",
              "    <tr style=\"text-align: right;\">\n",
              "      <th></th>\n",
              "      <th>count</th>\n",
              "      <th>mean</th>\n",
              "      <th>std</th>\n",
              "      <th>min</th>\n",
              "      <th>25%</th>\n",
              "      <th>50%</th>\n",
              "      <th>75%</th>\n",
              "      <th>max</th>\n",
              "    </tr>\n",
              "    <tr>\n",
              "      <th>tariff_name</th>\n",
              "      <th></th>\n",
              "      <th></th>\n",
              "      <th></th>\n",
              "      <th></th>\n",
              "      <th></th>\n",
              "      <th></th>\n",
              "      <th></th>\n",
              "      <th></th>\n",
              "    </tr>\n",
              "  </thead>\n",
              "  <tbody>\n",
              "    <tr>\n",
              "      <th>smart</th>\n",
              "      <td>2230.0</td>\n",
              "      <td>417.747534</td>\n",
              "      <td>190.476754</td>\n",
              "      <td>0.0</td>\n",
              "      <td>282.0</td>\n",
              "      <td>421.5</td>\n",
              "      <td>545.00</td>\n",
              "      <td>1435.0</td>\n",
              "    </tr>\n",
              "    <tr>\n",
              "      <th>ultra</th>\n",
              "      <td>986.0</td>\n",
              "      <td>526.089249</td>\n",
              "      <td>317.887549</td>\n",
              "      <td>0.0</td>\n",
              "      <td>282.5</td>\n",
              "      <td>518.0</td>\n",
              "      <td>751.75</td>\n",
              "      <td>1673.0</td>\n",
              "    </tr>\n",
              "  </tbody>\n",
              "</table>\n",
              "</div>\n",
              "      <button class=\"colab-df-convert\" onclick=\"convertToInteractive('df-e1969045-3383-4a97-8bbb-a102f38188d1')\"\n",
              "              title=\"Convert this dataframe to an interactive table.\"\n",
              "              style=\"display:none;\">\n",
              "        \n",
              "  <svg xmlns=\"http://www.w3.org/2000/svg\" height=\"24px\"viewBox=\"0 0 24 24\"\n",
              "       width=\"24px\">\n",
              "    <path d=\"M0 0h24v24H0V0z\" fill=\"none\"/>\n",
              "    <path d=\"M18.56 5.44l.94 2.06.94-2.06 2.06-.94-2.06-.94-.94-2.06-.94 2.06-2.06.94zm-11 1L8.5 8.5l.94-2.06 2.06-.94-2.06-.94L8.5 2.5l-.94 2.06-2.06.94zm10 10l.94 2.06.94-2.06 2.06-.94-2.06-.94-.94-2.06-.94 2.06-2.06.94z\"/><path d=\"M17.41 7.96l-1.37-1.37c-.4-.4-.92-.59-1.43-.59-.52 0-1.04.2-1.43.59L10.3 9.45l-7.72 7.72c-.78.78-.78 2.05 0 2.83L4 21.41c.39.39.9.59 1.41.59.51 0 1.02-.2 1.41-.59l7.78-7.78 2.81-2.81c.8-.78.8-2.07 0-2.86zM5.41 20L4 18.59l7.72-7.72 1.47 1.35L5.41 20z\"/>\n",
              "  </svg>\n",
              "      </button>\n",
              "      \n",
              "  <style>\n",
              "    .colab-df-container {\n",
              "      display:flex;\n",
              "      flex-wrap:wrap;\n",
              "      gap: 12px;\n",
              "    }\n",
              "\n",
              "    .colab-df-convert {\n",
              "      background-color: #E8F0FE;\n",
              "      border: none;\n",
              "      border-radius: 50%;\n",
              "      cursor: pointer;\n",
              "      display: none;\n",
              "      fill: #1967D2;\n",
              "      height: 32px;\n",
              "      padding: 0 0 0 0;\n",
              "      width: 32px;\n",
              "    }\n",
              "\n",
              "    .colab-df-convert:hover {\n",
              "      background-color: #E2EBFA;\n",
              "      box-shadow: 0px 1px 2px rgba(60, 64, 67, 0.3), 0px 1px 3px 1px rgba(60, 64, 67, 0.15);\n",
              "      fill: #174EA6;\n",
              "    }\n",
              "\n",
              "    [theme=dark] .colab-df-convert {\n",
              "      background-color: #3B4455;\n",
              "      fill: #D2E3FC;\n",
              "    }\n",
              "\n",
              "    [theme=dark] .colab-df-convert:hover {\n",
              "      background-color: #434B5C;\n",
              "      box-shadow: 0px 1px 3px 1px rgba(0, 0, 0, 0.15);\n",
              "      filter: drop-shadow(0px 1px 2px rgba(0, 0, 0, 0.3));\n",
              "      fill: #FFFFFF;\n",
              "    }\n",
              "  </style>\n",
              "\n",
              "      <script>\n",
              "        const buttonEl =\n",
              "          document.querySelector('#df-e1969045-3383-4a97-8bbb-a102f38188d1 button.colab-df-convert');\n",
              "        buttonEl.style.display =\n",
              "          google.colab.kernel.accessAllowed ? 'block' : 'none';\n",
              "\n",
              "        async function convertToInteractive(key) {\n",
              "          const element = document.querySelector('#df-e1969045-3383-4a97-8bbb-a102f38188d1');\n",
              "          const dataTable =\n",
              "            await google.colab.kernel.invokeFunction('convertToInteractive',\n",
              "                                                     [key], {});\n",
              "          if (!dataTable) return;\n",
              "\n",
              "          const docLinkHtml = 'Like what you see? Visit the ' +\n",
              "            '<a target=\"_blank\" href=https://colab.research.google.com/notebooks/data_table.ipynb>data table notebook</a>'\n",
              "            + ' to learn more about interactive tables.';\n",
              "          element.innerHTML = '';\n",
              "          dataTable['output_type'] = 'display_data';\n",
              "          await google.colab.output.renderOutput(dataTable, element);\n",
              "          const docLink = document.createElement('div');\n",
              "          docLink.innerHTML = docLinkHtml;\n",
              "          element.appendChild(docLink);\n",
              "        }\n",
              "      </script>\n",
              "    </div>\n",
              "  </div>\n",
              "  "
            ]
          },
          "metadata": {},
          "execution_count": 67
        }
      ],
      "source": [
        "df.groupby('tariff_name')['call_duration_total'].describe()"
      ]
    },
    {
      "cell_type": "code",
      "execution_count": 68,
      "metadata": {
        "colab": {
          "base_uri": "https://localhost:8080/"
        },
        "id": "dB9Cmv6LR6zk",
        "outputId": "41ad647e-c97f-4f71-f23f-85f82fa873f4"
      },
      "outputs": [
        {
          "output_type": "execute_result",
          "data": {
            "text/plain": [
              "100950.00623331097"
            ]
          },
          "metadata": {},
          "execution_count": 68
        }
      ],
      "source": [
        "#Дисперсия значений израсходованных минут для тарифа Ультра\n",
        "np.var(df[df['tariff_name'] == 'ultra']['call_duration_total'])"
      ]
    },
    {
      "cell_type": "code",
      "execution_count": 69,
      "metadata": {
        "colab": {
          "base_uri": "https://localhost:8080/"
        },
        "id": "gBHPHzSXR6zk",
        "outputId": "39f7aa2b-ec7b-4981-b685-83d3aaa4da80"
      },
      "outputs": [
        {
          "output_type": "execute_result",
          "data": {
            "text/plain": [
              "36265.12415310985"
            ]
          },
          "metadata": {},
          "execution_count": 69
        }
      ],
      "source": [
        "#Дисперсия значений израсходованных минут для тарифа Смарт\n",
        "np.var(df[df['tariff_name'] == 'smart']['call_duration_total'])"
      ]
    },
    {
      "cell_type": "code",
      "execution_count": 70,
      "metadata": {
        "colab": {
          "base_uri": "https://localhost:8080/",
          "height": 609
        },
        "id": "8o0VdGqjR6zl",
        "outputId": "0bdb9b67-d0d9-4088-bd29-92bcd077ab7f"
      },
      "outputs": [
        {
          "output_type": "execute_result",
          "data": {
            "text/plain": [
              "tariff_name\n",
              "smart    AxesSubplot(0.125,0.125;0.775x0.755)\n",
              "ultra    AxesSubplot(0.125,0.125;0.775x0.755)\n",
              "Name: call_duration_total, dtype: object"
            ]
          },
          "metadata": {},
          "execution_count": 70
        },
        {
          "output_type": "display_data",
          "data": {
            "text/plain": [
              "<Figure size 1152x648 with 1 Axes>"
            ],
            "image/png": "[encoded data removed]"
          },
          "metadata": {
            "needs_background": "light"
          }
        }
      ],
      "source": [
        "df.groupby('tariff_name')['call_duration_total'].hist(bins=60, figsize=(16, 9), alpha=0.8)"
      ]
    },
    {
      "cell_type": "markdown",
      "metadata": {
        "id": "7Q8IGOoAR6zl"
      },
      "source": [
        "Здесь мы наблюдаем, что длительность звонков для тарифа \"ультра\" едва ли имеет форму колокола и сильно размазана по гистограмме. Выговорить лимит в 3000 минут за месяц, похоже, не удалось никому, то есть фактически у пользователей безлимит. \"Размазанность\" как раз свидительствет о том, что пользователи просто говорят по телефону столько, сколько им нужно. Для тарифа \"смарт\" гистограмма похожа на колокол с пиковым значением в районе лимита по тарифу в 500 минут и, судя по всему, скошена влево. Преодолевая значение в 500 минут гистограмма падает быстро, что говорит нам о том, что значительная часть абонентов следит за лимитом минут и не очень любит его превышать. Пользователей, выговоривших больше 800 минут для тарифа \"смарт\", практически нет, в то время как для \"ультры\" их приличное количество. Также отметим, что близких к нулю значений минут у \"ультры\" даже больше чем у \"смарта\", хотя самих пользователей \"ультры\" меньше примерно в 2,5 раза! Это может говорит о том, что \"ультра\" выбирается пользователями для большего объема интернет-трафика, а не для длительности разговора. Среднее значение потраченных минут у \"ультры\" ожидаемо больше, чем у \"смарта\", разница, однако всего около 20%, хотя лимит отличается аж в 6 раз."
      ]
    },
    {
      "cell_type": "markdown",
      "metadata": {
        "id": "PJytafaHR6zl"
      },
      "source": [
        "Перейдем к трафику"
      ]
    },
    {
      "cell_type": "code",
      "execution_count": 71,
      "metadata": {
        "colab": {
          "base_uri": "https://localhost:8080/",
          "height": 143
        },
        "id": "pLPEov6uR6zl",
        "outputId": "c40babb0-0f9a-415a-dccb-65feaa0205e8"
      },
      "outputs": [
        {
          "output_type": "execute_result",
          "data": {
            "text/plain": [
              "              count       mean       std  min   25%   50%   75%   max\n",
              "tariff_name                                                          \n",
              "smart        2230.0  16.321525  5.756167  0.0  13.0  17.0  20.0  38.0\n",
              "ultra         986.0  19.474645  9.868057  0.0  12.0  19.0  27.0  49.0"
            ],
            "text/html": [
              "\n",
              "  <div id=\"df-b6b3464f-7971-45f9-b83c-7b22a6e6a741\">\n",
              "    <div class=\"colab-df-container\">\n",
              "      <div>\n",
              "<style scoped>\n",
              "    .dataframe tbody tr th:only-of-type {\n",
              "        vertical-align: middle;\n",
              "    }\n",
              "\n",
              "    .dataframe tbody tr th {\n",
              "        vertical-align: top;\n",
              "    }\n",
              "\n",
              "    .dataframe thead th {\n",
              "        text-align: right;\n",
              "    }\n",
              "</style>\n",
              "<table border=\"1\" class=\"dataframe\">\n",
              "  <thead>\n",
              "    <tr style=\"text-align: right;\">\n",
              "      <th></th>\n",
              "      <th>count</th>\n",
              "      <th>mean</th>\n",
              "      <th>std</th>\n",
              "      <th>min</th>\n",
              "      <th>25%</th>\n",
              "      <th>50%</th>\n",
              "      <th>75%</th>\n",
              "      <th>max</th>\n",
              "    </tr>\n",
              "    <tr>\n",
              "      <th>tariff_name</th>\n",
              "      <th></th>\n",
              "      <th></th>\n",
              "      <th></th>\n",
              "      <th></th>\n",
              "      <th></th>\n",
              "      <th></th>\n",
              "      <th></th>\n",
              "      <th></th>\n",
              "    </tr>\n",
              "  </thead>\n",
              "  <tbody>\n",
              "    <tr>\n",
              "      <th>smart</th>\n",
              "      <td>2230.0</td>\n",
              "      <td>16.321525</td>\n",
              "      <td>5.756167</td>\n",
              "      <td>0.0</td>\n",
              "      <td>13.0</td>\n",
              "      <td>17.0</td>\n",
              "      <td>20.0</td>\n",
              "      <td>38.0</td>\n",
              "    </tr>\n",
              "    <tr>\n",
              "      <th>ultra</th>\n",
              "      <td>986.0</td>\n",
              "      <td>19.474645</td>\n",
              "      <td>9.868057</td>\n",
              "      <td>0.0</td>\n",
              "      <td>12.0</td>\n",
              "      <td>19.0</td>\n",
              "      <td>27.0</td>\n",
              "      <td>49.0</td>\n",
              "    </tr>\n",
              "  </tbody>\n",
              "</table>\n",
              "</div>\n",
              "      <button class=\"colab-df-convert\" onclick=\"convertToInteractive('df-b6b3464f-7971-45f9-b83c-7b22a6e6a741')\"\n",
              "              title=\"Convert this dataframe to an interactive table.\"\n",
              "              style=\"display:none;\">\n",
              "        \n",
              "  <svg xmlns=\"http://www.w3.org/2000/svg\" height=\"24px\"viewBox=\"0 0 24 24\"\n",
              "       width=\"24px\">\n",
              "    <path d=\"M0 0h24v24H0V0z\" fill=\"none\"/>\n",
              "    <path d=\"M18.56 5.44l.94 2.06.94-2.06 2.06-.94-2.06-.94-.94-2.06-.94 2.06-2.06.94zm-11 1L8.5 8.5l.94-2.06 2.06-.94-2.06-.94L8.5 2.5l-.94 2.06-2.06.94zm10 10l.94 2.06.94-2.06 2.06-.94-2.06-.94-.94-2.06-.94 2.06-2.06.94z\"/><path d=\"M17.41 7.96l-1.37-1.37c-.4-.4-.92-.59-1.43-.59-.52 0-1.04.2-1.43.59L10.3 9.45l-7.72 7.72c-.78.78-.78 2.05 0 2.83L4 21.41c.39.39.9.59 1.41.59.51 0 1.02-.2 1.41-.59l7.78-7.78 2.81-2.81c.8-.78.8-2.07 0-2.86zM5.41 20L4 18.59l7.72-7.72 1.47 1.35L5.41 20z\"/>\n",
              "  </svg>\n",
              "      </button>\n",
              "      \n",
              "  <style>\n",
              "    .colab-df-container {\n",
              "      display:flex;\n",
              "      flex-wrap:wrap;\n",
              "      gap: 12px;\n",
              "    }\n",
              "\n",
              "    .colab-df-convert {\n",
              "      background-color: #E8F0FE;\n",
              "      border: none;\n",
              "      border-radius: 50%;\n",
              "      cursor: pointer;\n",
              "      display: none;\n",
              "      fill: #1967D2;\n",
              "      height: 32px;\n",
              "      padding: 0 0 0 0;\n",
              "      width: 32px;\n",
              "    }\n",
              "\n",
              "    .colab-df-convert:hover {\n",
              "      background-color: #E2EBFA;\n",
              "      box-shadow: 0px 1px 2px rgba(60, 64, 67, 0.3), 0px 1px 3px 1px rgba(60, 64, 67, 0.15);\n",
              "      fill: #174EA6;\n",
              "    }\n",
              "\n",
              "    [theme=dark] .colab-df-convert {\n",
              "      background-color: #3B4455;\n",
              "      fill: #D2E3FC;\n",
              "    }\n",
              "\n",
              "    [theme=dark] .colab-df-convert:hover {\n",
              "      background-color: #434B5C;\n",
              "      box-shadow: 0px 1px 3px 1px rgba(0, 0, 0, 0.15);\n",
              "      filter: drop-shadow(0px 1px 2px rgba(0, 0, 0, 0.3));\n",
              "      fill: #FFFFFF;\n",
              "    }\n",
              "  </style>\n",
              "\n",
              "      <script>\n",
              "        const buttonEl =\n",
              "          document.querySelector('#df-b6b3464f-7971-45f9-b83c-7b22a6e6a741 button.colab-df-convert');\n",
              "        buttonEl.style.display =\n",
              "          google.colab.kernel.accessAllowed ? 'block' : 'none';\n",
              "\n",
              "        async function convertToInteractive(key) {\n",
              "          const element = document.querySelector('#df-b6b3464f-7971-45f9-b83c-7b22a6e6a741');\n",
              "          const dataTable =\n",
              "            await google.colab.kernel.invokeFunction('convertToInteractive',\n",
              "                                                     [key], {});\n",
              "          if (!dataTable) return;\n",
              "\n",
              "          const docLinkHtml = 'Like what you see? Visit the ' +\n",
              "            '<a target=\"_blank\" href=https://colab.research.google.com/notebooks/data_table.ipynb>data table notebook</a>'\n",
              "            + ' to learn more about interactive tables.';\n",
              "          element.innerHTML = '';\n",
              "          dataTable['output_type'] = 'display_data';\n",
              "          await google.colab.output.renderOutput(dataTable, element);\n",
              "          const docLink = document.createElement('div');\n",
              "          docLink.innerHTML = docLinkHtml;\n",
              "          element.appendChild(docLink);\n",
              "        }\n",
              "      </script>\n",
              "    </div>\n",
              "  </div>\n",
              "  "
            ]
          },
          "metadata": {},
          "execution_count": 71
        }
      ],
      "source": [
        "df.groupby('tariff_name')['gb_used'].describe()"
      ]
    },
    {
      "cell_type": "code",
      "execution_count": 72,
      "metadata": {
        "colab": {
          "base_uri": "https://localhost:8080/"
        },
        "id": "ZbasggOlR6zl",
        "outputId": "48c6be43-37d7-40ce-9367-72b6da4c324b"
      },
      "outputs": [
        {
          "output_type": "execute_result",
          "data": {
            "text/plain": [
              "97.27978308900676"
            ]
          },
          "metadata": {},
          "execution_count": 72
        }
      ],
      "source": [
        "#Дисперсия значений трафика для тарифа Ультра\n",
        "np.var(df[df['tariff_name'] == 'ultra']['gb_used'])"
      ]
    },
    {
      "cell_type": "code",
      "execution_count": 73,
      "metadata": {
        "colab": {
          "base_uri": "https://localhost:8080/"
        },
        "id": "VHZlDLy6R6zm",
        "outputId": "ce91092e-d0bc-4d42-ef36-662d7dc8ad05"
      },
      "outputs": [
        {
          "output_type": "execute_result",
          "data": {
            "text/plain": [
              "33.11859498481771"
            ]
          },
          "metadata": {},
          "execution_count": 73
        }
      ],
      "source": [
        "#Дисперсия значений трафика для тарифа Ультра\n",
        "np.var(df[df['tariff_name'] == 'smart']['gb_used'])"
      ]
    },
    {
      "cell_type": "code",
      "execution_count": 74,
      "metadata": {
        "scrolled": false,
        "colab": {
          "base_uri": "https://localhost:8080/",
          "height": 609
        },
        "id": "Yfpf6qgGR6zm",
        "outputId": "3461fd03-c84c-4320-e46e-a6ec68c0e4e6"
      },
      "outputs": [
        {
          "output_type": "execute_result",
          "data": {
            "text/plain": [
              "tariff_name\n",
              "smart    AxesSubplot(0.125,0.125;0.775x0.755)\n",
              "ultra    AxesSubplot(0.125,0.125;0.775x0.755)\n",
              "Name: gb_used, dtype: object"
            ]
          },
          "metadata": {},
          "execution_count": 74
        },
        {
          "output_type": "display_data",
          "data": {
            "text/plain": [
              "<Figure size 1152x648 with 1 Axes>"
            ],
            "image/png": "[encoded data removed]"
          },
          "metadata": {
            "needs_background": "light"
          }
        }
      ],
      "source": [
        "df.groupby('tariff_name')['gb_used'].hist(bins=30, figsize=(16, 9), alpha=0.8)"
      ]
    },
    {
      "cell_type": "markdown",
      "metadata": {
        "id": "eZrdf3jER6zm"
      },
      "source": [
        "Здесь гистограмма для \"ультры\" уже весьма похожа на колокол, однако, как и в случае выше, он намного плавнее, чем для тарифа \"смарт\". В отличие от звонков, пользователей \"смарта\", превышающих лимит трафика намного больше. Людям сложнее уложиться в гигабайты, чем в минуты. Таким образом стратегия выбора тарифа \"ультра\" с целью увеличения лимита трафика не лишена смысла. Взглянув, однако, на средние значения гигабайтов, люди, похоже, не очень это понимают. Средний значения отличаются незначительно."
      ]
    },
    {
      "cell_type": "markdown",
      "metadata": {
        "id": "nasrA0WzR6zn"
      },
      "source": [
        "Посмотрим на смски."
      ]
    },
    {
      "cell_type": "code",
      "execution_count": 75,
      "metadata": {
        "scrolled": true,
        "colab": {
          "base_uri": "https://localhost:8080/",
          "height": 143
        },
        "id": "vZxzeaq8R6zn",
        "outputId": "0862dcd1-7f8b-4f76-a999-b3720f9a82fc"
      },
      "outputs": [
        {
          "output_type": "execute_result",
          "data": {
            "text/plain": [
              "              count       mean        std  min   25%   50%    75%    max\n",
              "tariff_name                                                             \n",
              "smart        2230.0  33.369058  28.230396  0.0  10.0  28.0  51.00  143.0\n",
              "ultra         986.0  49.313387  47.806040  0.0   6.0  38.0  78.75  224.0"
            ],
            "text/html": [
              "\n",
              "  <div id=\"df-e539cf5b-bba7-4eed-82f0-9334180d335f\">\n",
              "    <div class=\"colab-df-container\">\n",
              "      <div>\n",
              "<style scoped>\n",
              "    .dataframe tbody tr th:only-of-type {\n",
              "        vertical-align: middle;\n",
              "    }\n",
              "\n",
              "    .dataframe tbody tr th {\n",
              "        vertical-align: top;\n",
              "    }\n",
              "\n",
              "    .dataframe thead th {\n",
              "        text-align: right;\n",
              "    }\n",
              "</style>\n",
              "<table border=\"1\" class=\"dataframe\">\n",
              "  <thead>\n",
              "    <tr style=\"text-align: right;\">\n",
              "      <th></th>\n",
              "      <th>count</th>\n",
              "      <th>mean</th>\n",
              "      <th>std</th>\n",
              "      <th>min</th>\n",
              "      <th>25%</th>\n",
              "      <th>50%</th>\n",
              "      <th>75%</th>\n",
              "      <th>max</th>\n",
              "    </tr>\n",
              "    <tr>\n",
              "      <th>tariff_name</th>\n",
              "      <th></th>\n",
              "      <th></th>\n",
              "      <th></th>\n",
              "      <th></th>\n",
              "      <th></th>\n",
              "      <th></th>\n",
              "      <th></th>\n",
              "      <th></th>\n",
              "    </tr>\n",
              "  </thead>\n",
              "  <tbody>\n",
              "    <tr>\n",
              "      <th>smart</th>\n",
              "      <td>2230.0</td>\n",
              "      <td>33.369058</td>\n",
              "      <td>28.230396</td>\n",
              "      <td>0.0</td>\n",
              "      <td>10.0</td>\n",
              "      <td>28.0</td>\n",
              "      <td>51.00</td>\n",
              "      <td>143.0</td>\n",
              "    </tr>\n",
              "    <tr>\n",
              "      <th>ultra</th>\n",
              "      <td>986.0</td>\n",
              "      <td>49.313387</td>\n",
              "      <td>47.806040</td>\n",
              "      <td>0.0</td>\n",
              "      <td>6.0</td>\n",
              "      <td>38.0</td>\n",
              "      <td>78.75</td>\n",
              "      <td>224.0</td>\n",
              "    </tr>\n",
              "  </tbody>\n",
              "</table>\n",
              "</div>\n",
              "      <button class=\"colab-df-convert\" onclick=\"convertToInteractive('df-e539cf5b-bba7-4eed-82f0-9334180d335f')\"\n",
              "              title=\"Convert this dataframe to an interactive table.\"\n",
              "              style=\"display:none;\">\n",
              "        \n",
              "  <svg xmlns=\"http://www.w3.org/2000/svg\" height=\"24px\"viewBox=\"0 0 24 24\"\n",
              "       width=\"24px\">\n",
              "    <path d=\"M0 0h24v24H0V0z\" fill=\"none\"/>\n",
              "    <path d=\"M18.56 5.44l.94 2.06.94-2.06 2.06-.94-2.06-.94-.94-2.06-.94 2.06-2.06.94zm-11 1L8.5 8.5l.94-2.06 2.06-.94-2.06-.94L8.5 2.5l-.94 2.06-2.06.94zm10 10l.94 2.06.94-2.06 2.06-.94-2.06-.94-.94-2.06-.94 2.06-2.06.94z\"/><path d=\"M17.41 7.96l-1.37-1.37c-.4-.4-.92-.59-1.43-.59-.52 0-1.04.2-1.43.59L10.3 9.45l-7.72 7.72c-.78.78-.78 2.05 0 2.83L4 21.41c.39.39.9.59 1.41.59.51 0 1.02-.2 1.41-.59l7.78-7.78 2.81-2.81c.8-.78.8-2.07 0-2.86zM5.41 20L4 18.59l7.72-7.72 1.47 1.35L5.41 20z\"/>\n",
              "  </svg>\n",
              "      </button>\n",
              "      \n",
              "  <style>\n",
              "    .colab-df-container {\n",
              "      display:flex;\n",
              "      flex-wrap:wrap;\n",
              "      gap: 12px;\n",
              "    }\n",
              "\n",
              "    .colab-df-convert {\n",
              "      background-color: #E8F0FE;\n",
              "      border: none;\n",
              "      border-radius: 50%;\n",
              "      cursor: pointer;\n",
              "      display: none;\n",
              "      fill: #1967D2;\n",
              "      height: 32px;\n",
              "      padding: 0 0 0 0;\n",
              "      width: 32px;\n",
              "    }\n",
              "\n",
              "    .colab-df-convert:hover {\n",
              "      background-color: #E2EBFA;\n",
              "      box-shadow: 0px 1px 2px rgba(60, 64, 67, 0.3), 0px 1px 3px 1px rgba(60, 64, 67, 0.15);\n",
              "      fill: #174EA6;\n",
              "    }\n",
              "\n",
              "    [theme=dark] .colab-df-convert {\n",
              "      background-color: #3B4455;\n",
              "      fill: #D2E3FC;\n",
              "    }\n",
              "\n",
              "    [theme=dark] .colab-df-convert:hover {\n",
              "      background-color: #434B5C;\n",
              "      box-shadow: 0px 1px 3px 1px rgba(0, 0, 0, 0.15);\n",
              "      filter: drop-shadow(0px 1px 2px rgba(0, 0, 0, 0.3));\n",
              "      fill: #FFFFFF;\n",
              "    }\n",
              "  </style>\n",
              "\n",
              "      <script>\n",
              "        const buttonEl =\n",
              "          document.querySelector('#df-e539cf5b-bba7-4eed-82f0-9334180d335f button.colab-df-convert');\n",
              "        buttonEl.style.display =\n",
              "          google.colab.kernel.accessAllowed ? 'block' : 'none';\n",
              "\n",
              "        async function convertToInteractive(key) {\n",
              "          const element = document.querySelector('#df-e539cf5b-bba7-4eed-82f0-9334180d335f');\n",
              "          const dataTable =\n",
              "            await google.colab.kernel.invokeFunction('convertToInteractive',\n",
              "                                                     [key], {});\n",
              "          if (!dataTable) return;\n",
              "\n",
              "          const docLinkHtml = 'Like what you see? Visit the ' +\n",
              "            '<a target=\"_blank\" href=https://colab.research.google.com/notebooks/data_table.ipynb>data table notebook</a>'\n",
              "            + ' to learn more about interactive tables.';\n",
              "          element.innerHTML = '';\n",
              "          dataTable['output_type'] = 'display_data';\n",
              "          await google.colab.output.renderOutput(dataTable, element);\n",
              "          const docLink = document.createElement('div');\n",
              "          docLink.innerHTML = docLinkHtml;\n",
              "          element.appendChild(docLink);\n",
              "        }\n",
              "      </script>\n",
              "    </div>\n",
              "  </div>\n",
              "  "
            ]
          },
          "metadata": {},
          "execution_count": 75
        }
      ],
      "source": [
        "df.groupby('tariff_name')['msg_count'].describe()"
      ]
    },
    {
      "cell_type": "code",
      "execution_count": 76,
      "metadata": {
        "colab": {
          "base_uri": "https://localhost:8080/"
        },
        "id": "QWBEMEClR6zn",
        "outputId": "d80fb18d-157b-478f-944f-9dced63d3dc9"
      },
      "outputs": [
        {
          "output_type": "execute_result",
          "data": {
            "text/plain": [
              "2283.0995570851965"
            ]
          },
          "metadata": {},
          "execution_count": 76
        }
      ],
      "source": [
        "#Дисперсия значений смс для тарифа Ультра\n",
        "np.var(df[df['tariff_name'] == 'ultra']['msg_count'])"
      ]
    },
    {
      "cell_type": "code",
      "execution_count": 77,
      "metadata": {
        "colab": {
          "base_uri": "https://localhost:8080/"
        },
        "id": "7obeZRPsR6zn",
        "outputId": "f65607d7-a037-412f-a86d-7778d30e5399"
      },
      "outputs": [
        {
          "output_type": "execute_result",
          "data": {
            "text/plain": [
              "796.5978766916688"
            ]
          },
          "metadata": {},
          "execution_count": 77
        }
      ],
      "source": [
        "#Дисперсия значений смс для тарифа Смарт\n",
        "np.var(df[df['tariff_name'] == 'smart']['msg_count'])"
      ]
    },
    {
      "cell_type": "code",
      "execution_count": 78,
      "metadata": {
        "scrolled": false,
        "colab": {
          "base_uri": "https://localhost:8080/",
          "height": 609
        },
        "id": "cc0MxQ65R6zn",
        "outputId": "42c7f4b9-f122-452a-a1c2-bcf9f6cc82ea"
      },
      "outputs": [
        {
          "output_type": "execute_result",
          "data": {
            "text/plain": [
              "tariff_name\n",
              "smart    AxesSubplot(0.125,0.125;0.775x0.755)\n",
              "ultra    AxesSubplot(0.125,0.125;0.775x0.755)\n",
              "Name: msg_count, dtype: object"
            ]
          },
          "metadata": {},
          "execution_count": 78
        },
        {
          "output_type": "display_data",
          "data": {
            "text/plain": [
              "<Figure size 1152x648 with 1 Axes>"
            ],
            "image/png": "[encoded data removed]"
          },
          "metadata": {
            "needs_background": "light"
          }
        }
      ],
      "source": [
        "df.groupby('tariff_name')['msg_count'].hist(bins=30, figsize=(16, 9), alpha=0.8)"
      ]
    },
    {
      "cell_type": "markdown",
      "metadata": {
        "id": "yPWmdlBdR6zo"
      },
      "source": [
        "В 2018 году многие пользователи отказались от смс, это видно по двум пикам в нуле. Те, кто не отказались, лимит превышают довольно редко. У \"ультры\" снова более плавное распределение, и как и в случае с минутами превысить лимит практически невозможно. В отличие от трафика, однако, средние значения здесь отличаются значительно."
      ]
    },
    {
      "cell_type": "markdown",
      "metadata": {
        "id": "2WX-JNmPR6zo"
      },
      "source": [
        "### Вывод"
      ]
    },
    {
      "cell_type": "markdown",
      "metadata": {
        "id": "QYJe9op0R6zo"
      },
      "source": [
        "Мы проанализировали поведение пользователей двух тарифов. Распределение минут, гигабайтов и смс для \"ультры\" на всех графиках более плавное, чем для \"смарта\". Минуты и сообщения для ультры фактически безлимитны. Для \"смарта\", однако, большинство пользователей не превышают лимит минут и сообщений. Интернет-трафика для пользователей \"смарта\" недостаточно и его превышение дает компании существенную выручку. Пользователи \"ультры\", в свою очередь, практически никогда не платят больше абонентской платы, но размер этой платы с запасом покрывает потенциальную выручку от перерасхода минут, гб, сообщений."
      ]
    },
    {
      "cell_type": "markdown",
      "metadata": {
        "id": "YsheS_PNR6zo"
      },
      "source": [
        "## Проверка гипотез"
      ]
    },
    {
      "cell_type": "markdown",
      "metadata": {
        "id": "SyIxvW4pR6zo"
      },
      "source": [
        "**Гипотеза 1:** Средняя выручка пользователей тарифов \"ультра\" и \"смарт\" различаются. Это нулевая гипотеза. Альтернативная гипотеза звучит так: Средняя выручка тарифом \"ультра\" и \"смарт\" одинаковая."
      ]
    },
    {
      "cell_type": "code",
      "execution_count": 79,
      "metadata": {
        "id": "yzLtcpDgR6zp"
      },
      "outputs": [],
      "source": [
        "ultra_payments = df[df['tariff_name'] == 'ultra']['payment']\n",
        "smart_payments = df[df['tariff_name'] == 'smart']['payment']"
      ]
    },
    {
      "cell_type": "code",
      "execution_count": 80,
      "metadata": {
        "colab": {
          "base_uri": "https://localhost:8080/"
        },
        "id": "_xejRmqcR6zp",
        "outputId": "68166f79-2bbc-4b6b-cc34-60192167c2e1"
      },
      "outputs": [
        {
          "output_type": "stream",
          "name": "stdout",
          "text": [
            "p-значение:  1.927011394420941e-250\n"
          ]
        }
      ],
      "source": [
        "results_tariff = st.ttest_ind(smart_payments, ultra_payments, equal_var = False)\n",
        "print('p-значение: ', results_tariff.pvalue)"
      ]
    },
    {
      "cell_type": "markdown",
      "metadata": {
        "id": "YQ-Q-90uR6zp"
      },
      "source": [
        "Полученное p-value говорит о том, что вероятность получить такое или большее различие случайно составляет исчезающе малое число 10^-250 и оно находится очень далеко от общепринятых alpha=0.05 или alpha=0.01 Такая ничтожно малая вероятность говорит нам о том, что средняя выручка у тарифов \"ультра\" и \"смарт\" на самом деле отличаются."
      ]
    },
    {
      "cell_type": "markdown",
      "metadata": {
        "id": "TNVW3ydyR6zp"
      },
      "source": [
        "**Гипотеза 2:** Средняя выручка пользователей из Москвы отличается от выручки пользователей из других регионов. Альтернативная гипотеза: средняя выручка пользователей из Москвы совпадает с выручкой пользователей из других регионов."
      ]
    },
    {
      "cell_type": "code",
      "execution_count": 81,
      "metadata": {
        "id": "AnR_7JdGR6zp"
      },
      "outputs": [],
      "source": [
        "moscow_payments = df[df['city'] == 'Москва']['payment']\n",
        "non_moscow_payments = df[df['city'] != 'Москва']['payment']"
      ]
    },
    {
      "cell_type": "code",
      "execution_count": 82,
      "metadata": {
        "scrolled": true,
        "colab": {
          "base_uri": "https://localhost:8080/"
        },
        "id": "9Ty6qKZyR6zp",
        "outputId": "af071489-5bd2-49a6-cc58-7d539e22f6b1"
      },
      "outputs": [
        {
          "output_type": "stream",
          "name": "stdout",
          "text": [
            "p-значение:  0.5216952110000278\n"
          ]
        }
      ],
      "source": [
        "results_city = st.ttest_ind(moscow_payments, non_moscow_payments, equal_var = False)\n",
        "print('p-значение: ', results_city.pvalue)"
      ]
    },
    {
      "cell_type": "markdown",
      "metadata": {
        "id": "gFVlusT_R6zq"
      },
      "source": [
        "Полученное p-value говорит о том, что вероятность получить такое или большее различие случайно составляет 52% и находится в пределах общепринятых alpha=0.05 или alpha=0.01. Таким образом отвергаем гипотезу о различии выручки из Москвы и других городов."
      ]
    },
    {
      "cell_type": "markdown",
      "metadata": {
        "id": "nMIU5zNDR6zq"
      },
      "source": [
        "## Общий вывод"
      ]
    },
    {
      "cell_type": "markdown",
      "metadata": {
        "id": "66F20GJqR6zq"
      },
      "source": [
        "Мы подробно рассмотрели два тарифа, представленных компанией \"Мегалайн\", проанализировали поведение пользователей и помесячную выручку с них. С уверенностью можно сказать, что каждый пользователь \"ультры\" в среднем приносит значительно большую выручку, чем каждый пользователь \"смарта\". Таким образом, стратегия компании заключается в том, чтобы как можно больше пользователей выбирали именно \"ультру\". Как этого добиться - решать коммерческому департаменту. Стратегия пользователя, в свою очередь, говорит о том, что \"смарт\" лучше \"ультры\", за редкими исключениями, которые случаются в основном тогда, когда пользователю требуется сильно больше интернет-трафика, чем предлагается по тарифу \"смарт\". В этом случае выбор \"ультры\" пользователем может иметь смысл."
      ]
    },
    {
      "cell_type": "code",
      "execution_count": 82,
      "metadata": {
        "id": "n_4nKjzhR6zq"
      },
      "outputs": [],
      "source": [
        ""
      ]
    }
  ],
  "metadata": {
    "ExecuteTimeLog": [
      {
        "duration": 2416,
        "start_time": "2022-03-12T06:22:53.829Z"
      },
      {
        "duration": 150,
        "start_time": "2022-03-12T06:23:04.493Z"
      },
      {
        "duration": 145,
        "start_time": "2022-03-12T06:23:28.051Z"
      },
      {
        "duration": 112,
        "start_time": "2022-03-12T06:23:55.405Z"
      },
      {
        "duration": 115,
        "start_time": "2022-03-12T06:24:00.077Z"
      },
      {
        "duration": 111,
        "start_time": "2022-03-12T06:24:05.908Z"
      },
      {
        "duration": 115,
        "start_time": "2022-03-12T06:24:16.413Z"
      },
      {
        "duration": 117,
        "start_time": "2022-03-12T06:24:41.445Z"
      },
      {
        "duration": 83,
        "start_time": "2022-03-12T06:25:34.495Z"
      },
      {
        "duration": 89,
        "start_time": "2022-03-12T06:25:44.204Z"
      },
      {
        "duration": 16,
        "start_time": "2022-03-12T06:26:22.116Z"
      },
      {
        "duration": 23,
        "start_time": "2022-03-12T06:26:27.900Z"
      },
      {
        "duration": 106,
        "start_time": "2022-03-12T06:26:37.157Z"
      },
      {
        "duration": 20,
        "start_time": "2022-03-12T06:26:39.876Z"
      },
      {
        "duration": 80,
        "start_time": "2022-03-12T06:27:18.003Z"
      },
      {
        "duration": 65,
        "start_time": "2022-03-12T06:27:46.346Z"
      },
      {
        "duration": 21,
        "start_time": "2022-03-12T06:28:42.970Z"
      },
      {
        "duration": 16,
        "start_time": "2022-03-12T06:29:28.579Z"
      },
      {
        "duration": 10,
        "start_time": "2022-03-12T06:29:58.339Z"
      },
      {
        "duration": 319,
        "start_time": "2022-03-12T06:31:07.755Z"
      },
      {
        "duration": 8,
        "start_time": "2022-03-12T06:31:14.930Z"
      },
      {
        "duration": 6,
        "start_time": "2022-03-12T06:35:42.728Z"
      },
      {
        "duration": 449,
        "start_time": "2022-03-12T06:35:53.125Z"
      },
      {
        "duration": 8,
        "start_time": "2022-03-12T06:36:01.631Z"
      },
      {
        "duration": 4,
        "start_time": "2022-03-12T06:36:17.655Z"
      },
      {
        "duration": 5,
        "start_time": "2022-03-12T06:36:34.575Z"
      },
      {
        "duration": 5,
        "start_time": "2022-03-12T06:37:01.343Z"
      },
      {
        "duration": 11,
        "start_time": "2022-03-12T06:38:08.063Z"
      },
      {
        "duration": 8,
        "start_time": "2022-03-12T06:40:06.094Z"
      },
      {
        "duration": 344,
        "start_time": "2022-03-12T06:40:12.784Z"
      },
      {
        "duration": 427,
        "start_time": "2022-03-12T06:40:54.821Z"
      },
      {
        "duration": 14,
        "start_time": "2022-03-12T06:41:18.734Z"
      },
      {
        "duration": 527,
        "start_time": "2022-03-12T06:41:32.110Z"
      },
      {
        "duration": 310,
        "start_time": "2022-03-12T06:41:38.037Z"
      },
      {
        "duration": 10,
        "start_time": "2022-03-12T06:44:07.021Z"
      },
      {
        "duration": 252,
        "start_time": "2022-03-12T06:46:33.715Z"
      },
      {
        "duration": 149,
        "start_time": "2022-03-12T06:46:39.139Z"
      },
      {
        "duration": 320,
        "start_time": "2022-03-12T06:46:42.898Z"
      },
      {
        "duration": 137,
        "start_time": "2022-03-12T06:47:38.171Z"
      },
      {
        "duration": 10,
        "start_time": "2022-03-12T06:47:45.978Z"
      },
      {
        "duration": 319,
        "start_time": "2022-03-12T06:48:27.794Z"
      },
      {
        "duration": 308,
        "start_time": "2022-03-12T06:48:35.410Z"
      },
      {
        "duration": 32,
        "start_time": "2022-03-12T06:57:03.558Z"
      },
      {
        "duration": 14,
        "start_time": "2022-03-12T06:57:11.734Z"
      },
      {
        "duration": 713,
        "start_time": "2022-03-12T06:58:47.619Z"
      },
      {
        "duration": 120,
        "start_time": "2022-03-12T06:58:48.334Z"
      },
      {
        "duration": 84,
        "start_time": "2022-03-12T06:58:48.458Z"
      },
      {
        "duration": 19,
        "start_time": "2022-03-12T06:58:48.543Z"
      },
      {
        "duration": 56,
        "start_time": "2022-03-12T06:58:48.564Z"
      },
      {
        "duration": 33,
        "start_time": "2022-03-12T06:58:48.622Z"
      },
      {
        "duration": 13,
        "start_time": "2022-03-12T06:58:48.657Z"
      },
      {
        "duration": 377,
        "start_time": "2022-03-12T06:58:48.672Z"
      },
      {
        "duration": 13,
        "start_time": "2022-03-12T06:58:55.666Z"
      },
      {
        "duration": 655,
        "start_time": "2022-03-12T06:59:29.749Z"
      },
      {
        "duration": 123,
        "start_time": "2022-03-12T06:59:30.406Z"
      },
      {
        "duration": 86,
        "start_time": "2022-03-12T06:59:30.531Z"
      },
      {
        "duration": 19,
        "start_time": "2022-03-12T06:59:30.619Z"
      },
      {
        "duration": 54,
        "start_time": "2022-03-12T06:59:30.640Z"
      },
      {
        "duration": 70,
        "start_time": "2022-03-12T06:59:30.696Z"
      },
      {
        "duration": 10,
        "start_time": "2022-03-12T06:59:30.767Z"
      },
      {
        "duration": 390,
        "start_time": "2022-03-12T06:59:30.778Z"
      },
      {
        "duration": 729,
        "start_time": "2022-03-12T07:00:10.137Z"
      },
      {
        "duration": 655,
        "start_time": "2022-03-12T07:02:10.928Z"
      },
      {
        "duration": 738,
        "start_time": "2022-03-12T07:02:59.895Z"
      },
      {
        "duration": 198,
        "start_time": "2022-03-12T07:03:00.635Z"
      },
      {
        "duration": 136,
        "start_time": "2022-03-12T07:03:00.836Z"
      },
      {
        "duration": 21,
        "start_time": "2022-03-12T07:03:00.974Z"
      },
      {
        "duration": 61,
        "start_time": "2022-03-12T07:03:00.997Z"
      },
      {
        "duration": 411,
        "start_time": "2022-03-12T07:03:01.060Z"
      },
      {
        "duration": 734,
        "start_time": "2022-03-12T07:03:00.739Z"
      },
      {
        "duration": 734,
        "start_time": "2022-03-12T07:03:00.740Z"
      },
      {
        "duration": 359,
        "start_time": "2022-03-12T07:03:41.580Z"
      },
      {
        "duration": 697,
        "start_time": "2022-03-12T07:04:16.894Z"
      },
      {
        "duration": 13,
        "start_time": "2022-03-12T07:04:17.593Z"
      },
      {
        "duration": 123,
        "start_time": "2022-03-12T07:04:17.610Z"
      },
      {
        "duration": 87,
        "start_time": "2022-03-12T07:04:17.735Z"
      },
      {
        "duration": 20,
        "start_time": "2022-03-12T07:04:17.823Z"
      },
      {
        "duration": 44,
        "start_time": "2022-03-12T07:04:17.844Z"
      },
      {
        "duration": 447,
        "start_time": "2022-03-12T07:04:17.889Z"
      },
      {
        "duration": 9,
        "start_time": "2022-03-12T07:04:18.338Z"
      },
      {
        "duration": 383,
        "start_time": "2022-03-12T07:04:18.348Z"
      },
      {
        "duration": 86,
        "start_time": "2022-03-12T07:07:58.496Z"
      },
      {
        "duration": 83,
        "start_time": "2022-03-12T07:08:15.762Z"
      },
      {
        "duration": 360,
        "start_time": "2022-03-12T07:08:35.081Z"
      },
      {
        "duration": 302,
        "start_time": "2022-03-12T07:10:09.345Z"
      },
      {
        "duration": 4,
        "start_time": "2022-03-12T07:13:40.990Z"
      },
      {
        "duration": 43,
        "start_time": "2022-03-12T07:13:44.998Z"
      },
      {
        "duration": 39,
        "start_time": "2022-03-12T07:14:09.470Z"
      },
      {
        "duration": 38,
        "start_time": "2022-03-12T07:15:39.381Z"
      },
      {
        "duration": 697,
        "start_time": "2022-03-12T07:17:02.607Z"
      },
      {
        "duration": 12,
        "start_time": "2022-03-12T07:17:03.306Z"
      },
      {
        "duration": 125,
        "start_time": "2022-03-12T07:17:03.320Z"
      },
      {
        "duration": 86,
        "start_time": "2022-03-12T07:17:03.447Z"
      },
      {
        "duration": 19,
        "start_time": "2022-03-12T07:17:03.534Z"
      },
      {
        "duration": 47,
        "start_time": "2022-03-12T07:17:03.554Z"
      },
      {
        "duration": 358,
        "start_time": "2022-03-12T07:17:03.603Z"
      },
      {
        "duration": 9,
        "start_time": "2022-03-12T07:17:03.963Z"
      },
      {
        "duration": 378,
        "start_time": "2022-03-12T07:17:03.973Z"
      },
      {
        "duration": 73,
        "start_time": "2022-03-12T07:17:04.353Z"
      },
      {
        "duration": 36,
        "start_time": "2022-03-12T07:17:26.992Z"
      },
      {
        "duration": 55,
        "start_time": "2022-03-12T07:17:44.239Z"
      },
      {
        "duration": 37,
        "start_time": "2022-03-12T07:18:22.896Z"
      },
      {
        "duration": 49,
        "start_time": "2022-03-12T07:19:34.111Z"
      },
      {
        "duration": 39,
        "start_time": "2022-03-12T07:20:14.207Z"
      },
      {
        "duration": 9049,
        "start_time": "2022-03-12T07:21:43.559Z"
      },
      {
        "duration": 32,
        "start_time": "2022-03-12T07:23:13.990Z"
      },
      {
        "duration": 26,
        "start_time": "2022-03-12T07:23:27.845Z"
      },
      {
        "duration": 31,
        "start_time": "2022-03-12T07:23:32.070Z"
      },
      {
        "duration": 290,
        "start_time": "2022-03-12T07:24:48.965Z"
      },
      {
        "duration": 247,
        "start_time": "2022-03-12T07:24:57.612Z"
      },
      {
        "duration": 633,
        "start_time": "2022-03-12T07:25:20.429Z"
      },
      {
        "duration": 28,
        "start_time": "2022-03-12T07:25:45.229Z"
      },
      {
        "duration": 28,
        "start_time": "2022-03-12T07:26:20.708Z"
      },
      {
        "duration": 27,
        "start_time": "2022-03-12T07:26:50.451Z"
      },
      {
        "duration": 24,
        "start_time": "2022-03-12T07:26:56.723Z"
      },
      {
        "duration": 25,
        "start_time": "2022-03-12T07:27:02.420Z"
      },
      {
        "duration": 26,
        "start_time": "2022-03-12T07:27:16.596Z"
      },
      {
        "duration": 28,
        "start_time": "2022-03-12T07:27:22.563Z"
      },
      {
        "duration": 270,
        "start_time": "2022-03-12T07:31:41.832Z"
      },
      {
        "duration": 22,
        "start_time": "2022-03-12T07:33:56.841Z"
      },
      {
        "duration": 271,
        "start_time": "2022-03-12T07:34:00.623Z"
      },
      {
        "duration": 260,
        "start_time": "2022-03-12T07:34:04.673Z"
      },
      {
        "duration": 688,
        "start_time": "2022-03-12T07:34:22.729Z"
      },
      {
        "duration": 12,
        "start_time": "2022-03-12T07:34:23.419Z"
      },
      {
        "duration": 127,
        "start_time": "2022-03-12T07:34:23.434Z"
      },
      {
        "duration": 87,
        "start_time": "2022-03-12T07:34:23.563Z"
      },
      {
        "duration": 20,
        "start_time": "2022-03-12T07:34:23.651Z"
      },
      {
        "duration": 44,
        "start_time": "2022-03-12T07:34:23.672Z"
      },
      {
        "duration": 360,
        "start_time": "2022-03-12T07:34:23.717Z"
      },
      {
        "duration": 10,
        "start_time": "2022-03-12T07:34:24.079Z"
      },
      {
        "duration": 373,
        "start_time": "2022-03-12T07:34:24.090Z"
      },
      {
        "duration": 65,
        "start_time": "2022-03-12T07:34:24.465Z"
      },
      {
        "duration": 20,
        "start_time": "2022-03-12T07:34:24.531Z"
      },
      {
        "duration": 42,
        "start_time": "2022-03-12T07:36:54.396Z"
      },
      {
        "duration": 26,
        "start_time": "2022-03-12T07:37:52.252Z"
      },
      {
        "duration": 21,
        "start_time": "2022-03-12T07:38:19.451Z"
      },
      {
        "duration": 29,
        "start_time": "2022-03-12T07:38:27.707Z"
      },
      {
        "duration": 30,
        "start_time": "2022-03-12T07:38:36.250Z"
      },
      {
        "duration": 20,
        "start_time": "2022-03-12T07:38:52.475Z"
      },
      {
        "duration": 29,
        "start_time": "2022-03-12T07:39:41.394Z"
      },
      {
        "duration": 28,
        "start_time": "2022-03-12T07:39:49.778Z"
      },
      {
        "duration": 17,
        "start_time": "2022-03-12T07:40:58.481Z"
      },
      {
        "duration": 22,
        "start_time": "2022-03-12T07:41:02.018Z"
      },
      {
        "duration": 23,
        "start_time": "2022-03-12T07:41:14.544Z"
      },
      {
        "duration": 21,
        "start_time": "2022-03-12T07:43:45.201Z"
      },
      {
        "duration": 21,
        "start_time": "2022-03-12T07:44:02.248Z"
      },
      {
        "duration": 11,
        "start_time": "2022-03-12T07:44:46.712Z"
      },
      {
        "duration": 295,
        "start_time": "2022-03-12T07:45:10.097Z"
      },
      {
        "duration": 6,
        "start_time": "2022-03-12T07:45:13.960Z"
      },
      {
        "duration": 10,
        "start_time": "2022-03-12T07:45:48.217Z"
      },
      {
        "duration": 80,
        "start_time": "2022-03-12T07:45:50.755Z"
      },
      {
        "duration": 10,
        "start_time": "2022-03-12T07:45:55.297Z"
      },
      {
        "duration": 5,
        "start_time": "2022-03-12T07:46:51.142Z"
      },
      {
        "duration": 5,
        "start_time": "2022-03-12T07:48:55.269Z"
      },
      {
        "duration": 8,
        "start_time": "2022-03-12T08:03:59.560Z"
      },
      {
        "duration": 6159,
        "start_time": "2022-03-12T08:04:45.848Z"
      },
      {
        "duration": 33,
        "start_time": "2022-03-12T08:05:03.886Z"
      },
      {
        "duration": 22,
        "start_time": "2022-03-12T08:05:40.726Z"
      },
      {
        "duration": 18,
        "start_time": "2022-03-12T08:07:05.198Z"
      },
      {
        "duration": 14,
        "start_time": "2022-03-12T08:07:09.829Z"
      },
      {
        "duration": 14,
        "start_time": "2022-03-12T08:07:15.053Z"
      },
      {
        "duration": 12,
        "start_time": "2022-03-12T08:07:39.712Z"
      },
      {
        "duration": 85,
        "start_time": "2022-03-12T08:08:39.693Z"
      },
      {
        "duration": 20,
        "start_time": "2022-03-12T08:08:42.036Z"
      },
      {
        "duration": 12,
        "start_time": "2022-03-12T08:08:56.703Z"
      },
      {
        "duration": 16,
        "start_time": "2022-03-12T08:09:00.524Z"
      },
      {
        "duration": 18,
        "start_time": "2022-03-12T08:09:56.622Z"
      },
      {
        "duration": 12,
        "start_time": "2022-03-12T08:11:57.716Z"
      },
      {
        "duration": 19,
        "start_time": "2022-03-12T08:12:10.242Z"
      },
      {
        "duration": 8,
        "start_time": "2022-03-12T08:12:35.979Z"
      },
      {
        "duration": 16,
        "start_time": "2022-03-12T08:12:50.946Z"
      },
      {
        "duration": 9,
        "start_time": "2022-03-12T08:14:53.442Z"
      },
      {
        "duration": 6603,
        "start_time": "2022-03-12T08:15:38.338Z"
      },
      {
        "duration": 30,
        "start_time": "2022-03-12T08:15:50.025Z"
      },
      {
        "duration": 26,
        "start_time": "2022-03-12T08:17:30.016Z"
      },
      {
        "duration": 90,
        "start_time": "2022-03-12T08:17:42.974Z"
      },
      {
        "duration": 19,
        "start_time": "2022-03-12T08:17:45.032Z"
      },
      {
        "duration": 28,
        "start_time": "2022-03-12T08:17:54.552Z"
      },
      {
        "duration": 15,
        "start_time": "2022-03-12T08:18:22.212Z"
      },
      {
        "duration": 25,
        "start_time": "2022-03-12T08:19:12.199Z"
      },
      {
        "duration": 30,
        "start_time": "2022-03-12T08:20:33.966Z"
      },
      {
        "duration": 297,
        "start_time": "2022-03-12T08:20:39.655Z"
      },
      {
        "duration": 32,
        "start_time": "2022-03-12T08:20:42.118Z"
      },
      {
        "duration": 34,
        "start_time": "2022-03-12T08:20:58.502Z"
      },
      {
        "duration": 32,
        "start_time": "2022-03-12T08:21:56.705Z"
      },
      {
        "duration": 31,
        "start_time": "2022-03-12T08:22:16.013Z"
      },
      {
        "duration": 25,
        "start_time": "2022-03-12T08:22:24.713Z"
      },
      {
        "duration": 26,
        "start_time": "2022-03-12T08:22:41.942Z"
      },
      {
        "duration": 26,
        "start_time": "2022-03-12T08:23:16.870Z"
      },
      {
        "duration": 16,
        "start_time": "2022-03-12T08:27:48.492Z"
      },
      {
        "duration": 82,
        "start_time": "2022-03-12T08:29:28.174Z"
      },
      {
        "duration": 22,
        "start_time": "2022-03-12T08:29:33.226Z"
      },
      {
        "duration": 27,
        "start_time": "2022-03-12T08:29:40.618Z"
      },
      {
        "duration": 8,
        "start_time": "2022-03-12T08:30:16.099Z"
      },
      {
        "duration": 19,
        "start_time": "2022-03-12T08:30:22.098Z"
      },
      {
        "duration": 18,
        "start_time": "2022-03-12T08:32:14.689Z"
      },
      {
        "duration": 730,
        "start_time": "2022-03-12T08:32:26.124Z"
      },
      {
        "duration": 12,
        "start_time": "2022-03-12T08:32:26.856Z"
      },
      {
        "duration": 324,
        "start_time": "2022-03-12T08:32:26.869Z"
      },
      {
        "duration": 88,
        "start_time": "2022-03-12T08:32:27.194Z"
      },
      {
        "duration": 20,
        "start_time": "2022-03-12T08:32:27.284Z"
      },
      {
        "duration": 32,
        "start_time": "2022-03-12T08:32:27.306Z"
      },
      {
        "duration": 5,
        "start_time": "2022-03-12T08:32:27.339Z"
      },
      {
        "duration": 47,
        "start_time": "2022-03-12T08:32:27.346Z"
      },
      {
        "duration": 10,
        "start_time": "2022-03-12T08:32:27.394Z"
      },
      {
        "duration": 406,
        "start_time": "2022-03-12T08:32:27.406Z"
      },
      {
        "duration": 23,
        "start_time": "2022-03-12T08:32:27.813Z"
      },
      {
        "duration": 19,
        "start_time": "2022-03-12T08:32:27.838Z"
      },
      {
        "duration": 7,
        "start_time": "2022-03-12T08:32:27.858Z"
      },
      {
        "duration": 53,
        "start_time": "2022-03-12T08:32:27.866Z"
      },
      {
        "duration": 24,
        "start_time": "2022-03-12T08:32:27.921Z"
      },
      {
        "duration": 17,
        "start_time": "2022-03-12T08:32:27.946Z"
      },
      {
        "duration": 9,
        "start_time": "2022-03-12T08:32:27.964Z"
      },
      {
        "duration": 55,
        "start_time": "2022-03-12T08:32:27.975Z"
      },
      {
        "duration": 34,
        "start_time": "2022-03-12T08:32:28.031Z"
      },
      {
        "duration": 15,
        "start_time": "2022-03-12T08:32:28.066Z"
      },
      {
        "duration": 706,
        "start_time": "2022-03-12T08:32:54.371Z"
      },
      {
        "duration": 12,
        "start_time": "2022-03-12T08:32:55.079Z"
      },
      {
        "duration": 140,
        "start_time": "2022-03-12T08:32:55.095Z"
      },
      {
        "duration": 88,
        "start_time": "2022-03-12T08:32:55.236Z"
      },
      {
        "duration": 19,
        "start_time": "2022-03-12T08:32:55.325Z"
      },
      {
        "duration": 46,
        "start_time": "2022-03-12T08:32:55.346Z"
      },
      {
        "duration": 13,
        "start_time": "2022-03-12T08:32:55.393Z"
      },
      {
        "duration": 52,
        "start_time": "2022-03-12T08:32:55.408Z"
      },
      {
        "duration": 10,
        "start_time": "2022-03-12T08:32:55.462Z"
      },
      {
        "duration": 381,
        "start_time": "2022-03-12T08:32:55.473Z"
      },
      {
        "duration": 23,
        "start_time": "2022-03-12T08:32:55.856Z"
      },
      {
        "duration": 31,
        "start_time": "2022-03-12T08:32:55.881Z"
      },
      {
        "duration": 6,
        "start_time": "2022-03-12T08:32:55.914Z"
      },
      {
        "duration": 35,
        "start_time": "2022-03-12T08:32:55.922Z"
      },
      {
        "duration": 28,
        "start_time": "2022-03-12T08:32:55.959Z"
      },
      {
        "duration": 30,
        "start_time": "2022-03-12T08:32:55.988Z"
      },
      {
        "duration": 8,
        "start_time": "2022-03-12T08:32:56.020Z"
      },
      {
        "duration": 28,
        "start_time": "2022-03-12T08:32:56.030Z"
      },
      {
        "duration": 52,
        "start_time": "2022-03-12T08:32:56.059Z"
      },
      {
        "duration": 17,
        "start_time": "2022-03-12T08:32:56.112Z"
      },
      {
        "duration": 20,
        "start_time": "2022-03-12T08:33:23.146Z"
      },
      {
        "duration": 732,
        "start_time": "2022-03-12T08:33:39.609Z"
      },
      {
        "duration": 12,
        "start_time": "2022-03-12T08:33:40.343Z"
      },
      {
        "duration": 231,
        "start_time": "2022-03-12T08:33:40.359Z"
      },
      {
        "duration": 87,
        "start_time": "2022-03-12T08:33:40.592Z"
      },
      {
        "duration": 19,
        "start_time": "2022-03-12T08:33:40.681Z"
      },
      {
        "duration": 42,
        "start_time": "2022-03-12T08:33:40.702Z"
      },
      {
        "duration": 4,
        "start_time": "2022-03-12T08:33:40.746Z"
      },
      {
        "duration": 44,
        "start_time": "2022-03-12T08:33:40.753Z"
      },
      {
        "duration": 10,
        "start_time": "2022-03-12T08:33:40.798Z"
      },
      {
        "duration": 370,
        "start_time": "2022-03-12T08:33:40.809Z"
      },
      {
        "duration": 32,
        "start_time": "2022-03-12T08:33:41.180Z"
      },
      {
        "duration": 19,
        "start_time": "2022-03-12T08:33:41.213Z"
      },
      {
        "duration": 6,
        "start_time": "2022-03-12T08:33:41.234Z"
      },
      {
        "duration": 35,
        "start_time": "2022-03-12T08:33:41.242Z"
      },
      {
        "duration": 48,
        "start_time": "2022-03-12T08:33:41.278Z"
      },
      {
        "duration": 15,
        "start_time": "2022-03-12T08:33:41.328Z"
      },
      {
        "duration": 8,
        "start_time": "2022-03-12T08:33:41.344Z"
      },
      {
        "duration": 55,
        "start_time": "2022-03-12T08:33:41.354Z"
      },
      {
        "duration": 30,
        "start_time": "2022-03-12T08:33:41.410Z"
      },
      {
        "duration": 16,
        "start_time": "2022-03-12T08:33:41.442Z"
      },
      {
        "duration": 17,
        "start_time": "2022-03-12T08:34:30.545Z"
      },
      {
        "duration": 687,
        "start_time": "2022-03-12T08:34:36.453Z"
      },
      {
        "duration": 13,
        "start_time": "2022-03-12T08:34:37.142Z"
      },
      {
        "duration": 141,
        "start_time": "2022-03-12T08:34:37.158Z"
      },
      {
        "duration": 94,
        "start_time": "2022-03-12T08:34:37.300Z"
      },
      {
        "duration": 19,
        "start_time": "2022-03-12T08:34:37.395Z"
      },
      {
        "duration": 37,
        "start_time": "2022-03-12T08:34:37.415Z"
      },
      {
        "duration": 7,
        "start_time": "2022-03-12T08:34:37.454Z"
      },
      {
        "duration": 51,
        "start_time": "2022-03-12T08:34:37.463Z"
      },
      {
        "duration": 9,
        "start_time": "2022-03-12T08:34:37.516Z"
      },
      {
        "duration": 469,
        "start_time": "2022-03-12T08:34:37.527Z"
      },
      {
        "duration": 30,
        "start_time": "2022-03-12T08:34:37.997Z"
      },
      {
        "duration": 22,
        "start_time": "2022-03-12T08:34:38.028Z"
      },
      {
        "duration": 7,
        "start_time": "2022-03-12T08:34:38.051Z"
      },
      {
        "duration": 54,
        "start_time": "2022-03-12T08:34:38.059Z"
      },
      {
        "duration": 31,
        "start_time": "2022-03-12T08:34:38.115Z"
      },
      {
        "duration": 16,
        "start_time": "2022-03-12T08:34:38.147Z"
      },
      {
        "duration": 19,
        "start_time": "2022-03-12T08:34:38.165Z"
      },
      {
        "duration": 39,
        "start_time": "2022-03-12T08:34:38.185Z"
      },
      {
        "duration": 29,
        "start_time": "2022-03-12T08:34:38.226Z"
      },
      {
        "duration": 14,
        "start_time": "2022-03-12T08:34:38.257Z"
      },
      {
        "duration": 684,
        "start_time": "2022-03-12T08:34:58.924Z"
      },
      {
        "duration": 12,
        "start_time": "2022-03-12T08:34:59.609Z"
      },
      {
        "duration": 124,
        "start_time": "2022-03-12T08:34:59.623Z"
      },
      {
        "duration": 86,
        "start_time": "2022-03-12T08:34:59.748Z"
      },
      {
        "duration": 18,
        "start_time": "2022-03-12T08:34:59.836Z"
      },
      {
        "duration": 32,
        "start_time": "2022-03-12T08:34:59.856Z"
      },
      {
        "duration": 5,
        "start_time": "2022-03-12T08:34:59.890Z"
      },
      {
        "duration": 45,
        "start_time": "2022-03-12T08:34:59.897Z"
      },
      {
        "duration": 10,
        "start_time": "2022-03-12T08:34:59.944Z"
      },
      {
        "duration": 373,
        "start_time": "2022-03-12T08:34:59.955Z"
      },
      {
        "duration": 24,
        "start_time": "2022-03-12T08:35:00.329Z"
      },
      {
        "duration": 19,
        "start_time": "2022-03-12T08:35:00.355Z"
      },
      {
        "duration": 11,
        "start_time": "2022-03-12T08:35:00.375Z"
      },
      {
        "duration": 50,
        "start_time": "2022-03-12T08:35:00.387Z"
      },
      {
        "duration": 29,
        "start_time": "2022-03-12T08:35:00.438Z"
      },
      {
        "duration": 37,
        "start_time": "2022-03-12T08:35:00.469Z"
      },
      {
        "duration": 10,
        "start_time": "2022-03-12T08:35:00.508Z"
      },
      {
        "duration": 42,
        "start_time": "2022-03-12T08:35:00.520Z"
      },
      {
        "duration": 31,
        "start_time": "2022-03-12T08:35:00.563Z"
      },
      {
        "duration": 22,
        "start_time": "2022-03-12T08:35:00.595Z"
      },
      {
        "duration": 15,
        "start_time": "2022-03-12T08:36:10.536Z"
      },
      {
        "duration": 5,
        "start_time": "2022-03-12T08:39:24.878Z"
      },
      {
        "duration": 6,
        "start_time": "2022-03-12T08:47:19.228Z"
      },
      {
        "duration": 5,
        "start_time": "2022-03-12T08:47:28.699Z"
      },
      {
        "duration": 4,
        "start_time": "2022-03-12T08:47:36.659Z"
      },
      {
        "duration": 5,
        "start_time": "2022-03-12T08:47:48.828Z"
      },
      {
        "duration": 5,
        "start_time": "2022-03-12T08:47:55.267Z"
      },
      {
        "duration": 7,
        "start_time": "2022-03-12T08:48:28.250Z"
      },
      {
        "duration": 6,
        "start_time": "2022-03-12T08:48:50.339Z"
      },
      {
        "duration": 96,
        "start_time": "2022-03-12T08:51:10.338Z"
      },
      {
        "duration": 869,
        "start_time": "2022-03-12T08:51:23.081Z"
      },
      {
        "duration": 510,
        "start_time": "2022-03-12T08:51:49.178Z"
      },
      {
        "duration": 438,
        "start_time": "2022-03-12T08:52:10.672Z"
      },
      {
        "duration": 5,
        "start_time": "2022-03-12T08:52:29.457Z"
      },
      {
        "duration": 351,
        "start_time": "2022-03-12T08:53:15.632Z"
      },
      {
        "duration": 5,
        "start_time": "2022-03-12T08:54:45.944Z"
      },
      {
        "duration": 4,
        "start_time": "2022-03-12T08:54:56.232Z"
      },
      {
        "duration": 90,
        "start_time": "2022-03-12T08:56:44.134Z"
      },
      {
        "duration": 9,
        "start_time": "2022-03-12T08:56:48.926Z"
      },
      {
        "duration": 18,
        "start_time": "2022-03-12T08:57:32.631Z"
      },
      {
        "duration": 708,
        "start_time": "2022-03-12T08:59:41.006Z"
      },
      {
        "duration": 14,
        "start_time": "2022-03-12T08:59:41.715Z"
      },
      {
        "duration": 130,
        "start_time": "2022-03-12T08:59:41.731Z"
      },
      {
        "duration": 89,
        "start_time": "2022-03-12T08:59:41.863Z"
      },
      {
        "duration": 19,
        "start_time": "2022-03-12T08:59:41.954Z"
      },
      {
        "duration": 54,
        "start_time": "2022-03-12T08:59:41.975Z"
      },
      {
        "duration": 4,
        "start_time": "2022-03-12T08:59:42.030Z"
      },
      {
        "duration": 7,
        "start_time": "2022-03-12T08:59:42.035Z"
      },
      {
        "duration": 571,
        "start_time": "2022-03-12T08:59:42.045Z"
      },
      {
        "duration": 474,
        "start_time": "2022-03-12T08:59:42.618Z"
      },
      {
        "duration": 53,
        "start_time": "2022-03-12T08:59:43.093Z"
      },
      {
        "duration": 10,
        "start_time": "2022-03-12T08:59:43.148Z"
      },
      {
        "duration": 425,
        "start_time": "2022-03-12T08:59:43.159Z"
      },
      {
        "duration": 24,
        "start_time": "2022-03-12T08:59:43.585Z"
      },
      {
        "duration": 20,
        "start_time": "2022-03-12T08:59:43.610Z"
      },
      {
        "duration": 7,
        "start_time": "2022-03-12T08:59:43.631Z"
      },
      {
        "duration": 37,
        "start_time": "2022-03-12T08:59:43.639Z"
      },
      {
        "duration": 49,
        "start_time": "2022-03-12T08:59:43.677Z"
      },
      {
        "duration": 24,
        "start_time": "2022-03-12T08:59:43.728Z"
      },
      {
        "duration": 8,
        "start_time": "2022-03-12T08:59:43.753Z"
      },
      {
        "duration": 45,
        "start_time": "2022-03-12T08:59:43.762Z"
      },
      {
        "duration": 29,
        "start_time": "2022-03-12T08:59:43.808Z"
      },
      {
        "duration": 6,
        "start_time": "2022-03-12T08:59:43.839Z"
      },
      {
        "duration": 14,
        "start_time": "2022-03-12T08:59:43.846Z"
      },
      {
        "duration": 6,
        "start_time": "2022-03-12T08:59:43.861Z"
      },
      {
        "duration": 8,
        "start_time": "2022-03-12T08:59:43.868Z"
      },
      {
        "duration": 9,
        "start_time": "2022-03-12T09:00:10.509Z"
      },
      {
        "duration": 7,
        "start_time": "2022-03-12T09:00:24.012Z"
      },
      {
        "duration": 9,
        "start_time": "2022-03-12T09:00:33.853Z"
      },
      {
        "duration": 8,
        "start_time": "2022-03-12T09:00:41.348Z"
      },
      {
        "duration": 6,
        "start_time": "2022-03-12T09:00:52.540Z"
      },
      {
        "duration": 9,
        "start_time": "2022-03-12T09:00:57.509Z"
      },
      {
        "duration": 9,
        "start_time": "2022-03-12T09:01:07.492Z"
      },
      {
        "duration": 9,
        "start_time": "2022-03-12T09:01:44.165Z"
      },
      {
        "duration": 7,
        "start_time": "2022-03-12T09:11:04.071Z"
      },
      {
        "duration": 9,
        "start_time": "2022-03-12T09:11:10.159Z"
      },
      {
        "duration": 332,
        "start_time": "2022-03-12T09:12:46.502Z"
      },
      {
        "duration": 6210,
        "start_time": "2022-03-12T09:13:00.383Z"
      },
      {
        "duration": 5919,
        "start_time": "2022-03-12T09:13:39.406Z"
      },
      {
        "duration": 258,
        "start_time": "2022-03-12T09:13:54.295Z"
      },
      {
        "duration": 10,
        "start_time": "2022-03-12T09:14:04.406Z"
      },
      {
        "duration": 687,
        "start_time": "2022-03-12T09:14:44.685Z"
      },
      {
        "duration": 9,
        "start_time": "2022-03-12T09:14:50.118Z"
      },
      {
        "duration": 22,
        "start_time": "2022-03-12T09:15:12.999Z"
      },
      {
        "duration": 15,
        "start_time": "2022-03-12T09:15:50.158Z"
      },
      {
        "duration": 10,
        "start_time": "2022-03-12T09:16:22.342Z"
      },
      {
        "duration": 683,
        "start_time": "2022-03-12T09:21:03.569Z"
      },
      {
        "duration": 12,
        "start_time": "2022-03-12T09:21:04.254Z"
      },
      {
        "duration": 131,
        "start_time": "2022-03-12T09:21:04.269Z"
      },
      {
        "duration": 87,
        "start_time": "2022-03-12T09:21:04.401Z"
      },
      {
        "duration": 19,
        "start_time": "2022-03-12T09:21:04.489Z"
      },
      {
        "duration": 44,
        "start_time": "2022-03-12T09:21:04.509Z"
      },
      {
        "duration": 4,
        "start_time": "2022-03-12T09:21:04.555Z"
      },
      {
        "duration": 6,
        "start_time": "2022-03-12T09:21:04.561Z"
      },
      {
        "duration": 504,
        "start_time": "2022-03-12T09:21:04.568Z"
      },
      {
        "duration": 409,
        "start_time": "2022-03-12T09:21:05.073Z"
      },
      {
        "duration": 60,
        "start_time": "2022-03-12T09:21:05.484Z"
      },
      {
        "duration": 12,
        "start_time": "2022-03-12T09:21:05.545Z"
      },
      {
        "duration": 422,
        "start_time": "2022-03-12T09:21:05.559Z"
      },
      {
        "duration": 32,
        "start_time": "2022-03-12T09:21:05.982Z"
      },
      {
        "duration": 20,
        "start_time": "2022-03-12T09:21:06.016Z"
      },
      {
        "duration": 10,
        "start_time": "2022-03-12T09:21:06.037Z"
      },
      {
        "duration": 38,
        "start_time": "2022-03-12T09:21:06.048Z"
      },
      {
        "duration": 41,
        "start_time": "2022-03-12T09:21:06.087Z"
      },
      {
        "duration": 17,
        "start_time": "2022-03-12T09:21:06.129Z"
      },
      {
        "duration": 8,
        "start_time": "2022-03-12T09:21:06.147Z"
      },
      {
        "duration": 28,
        "start_time": "2022-03-12T09:21:06.157Z"
      },
      {
        "duration": 30,
        "start_time": "2022-03-12T09:21:06.206Z"
      },
      {
        "duration": 5,
        "start_time": "2022-03-12T09:21:06.238Z"
      },
      {
        "duration": 13,
        "start_time": "2022-03-12T09:21:06.245Z"
      },
      {
        "duration": 5,
        "start_time": "2022-03-12T09:21:06.260Z"
      },
      {
        "duration": 6,
        "start_time": "2022-03-12T09:21:06.266Z"
      },
      {
        "duration": 36,
        "start_time": "2022-03-12T09:21:06.274Z"
      },
      {
        "duration": 6,
        "start_time": "2022-03-12T09:21:06.311Z"
      },
      {
        "duration": 10,
        "start_time": "2022-03-12T09:21:06.319Z"
      },
      {
        "duration": 10,
        "start_time": "2022-03-12T09:21:34.226Z"
      },
      {
        "duration": 11,
        "start_time": "2022-03-12T09:21:47.634Z"
      },
      {
        "duration": 11,
        "start_time": "2022-03-12T09:22:08.138Z"
      },
      {
        "duration": 6509,
        "start_time": "2022-03-12T09:23:18.306Z"
      },
      {
        "duration": 22,
        "start_time": "2022-03-12T09:23:30.250Z"
      },
      {
        "duration": 33,
        "start_time": "2022-03-12T09:23:41.953Z"
      },
      {
        "duration": 20,
        "start_time": "2022-03-12T09:25:10.609Z"
      },
      {
        "duration": 10,
        "start_time": "2022-03-12T09:25:19.785Z"
      },
      {
        "duration": 656,
        "start_time": "2022-03-12T09:28:35.855Z"
      },
      {
        "duration": 12,
        "start_time": "2022-03-12T09:28:36.513Z"
      },
      {
        "duration": 126,
        "start_time": "2022-03-12T09:28:36.527Z"
      },
      {
        "duration": 88,
        "start_time": "2022-03-12T09:28:36.655Z"
      },
      {
        "duration": 19,
        "start_time": "2022-03-12T09:28:36.745Z"
      },
      {
        "duration": 62,
        "start_time": "2022-03-12T09:28:36.766Z"
      },
      {
        "duration": 4,
        "start_time": "2022-03-12T09:28:36.830Z"
      },
      {
        "duration": 8,
        "start_time": "2022-03-12T09:28:36.837Z"
      },
      {
        "duration": 445,
        "start_time": "2022-03-12T09:28:36.847Z"
      },
      {
        "duration": 344,
        "start_time": "2022-03-12T09:28:37.294Z"
      },
      {
        "duration": 47,
        "start_time": "2022-03-12T09:28:37.640Z"
      },
      {
        "duration": 25,
        "start_time": "2022-03-12T09:28:37.688Z"
      },
      {
        "duration": 374,
        "start_time": "2022-03-12T09:28:37.715Z"
      },
      {
        "duration": 33,
        "start_time": "2022-03-12T09:28:38.091Z"
      },
      {
        "duration": 21,
        "start_time": "2022-03-12T09:28:38.125Z"
      },
      {
        "duration": 8,
        "start_time": "2022-03-12T09:28:38.147Z"
      },
      {
        "duration": 56,
        "start_time": "2022-03-12T09:28:38.156Z"
      },
      {
        "duration": 24,
        "start_time": "2022-03-12T09:28:38.214Z"
      },
      {
        "duration": 301,
        "start_time": "2022-03-12T09:28:38.240Z"
      },
      {
        "duration": 673,
        "start_time": "2022-03-12T09:28:37.870Z"
      },
      {
        "duration": 672,
        "start_time": "2022-03-12T09:28:37.871Z"
      },
      {
        "duration": 672,
        "start_time": "2022-03-12T09:28:37.872Z"
      },
      {
        "duration": 672,
        "start_time": "2022-03-12T09:28:37.873Z"
      },
      {
        "duration": 671,
        "start_time": "2022-03-12T09:28:37.875Z"
      },
      {
        "duration": 671,
        "start_time": "2022-03-12T09:28:37.876Z"
      },
      {
        "duration": 671,
        "start_time": "2022-03-12T09:28:37.877Z"
      },
      {
        "duration": 671,
        "start_time": "2022-03-12T09:28:37.878Z"
      },
      {
        "duration": 671,
        "start_time": "2022-03-12T09:28:37.879Z"
      },
      {
        "duration": 670,
        "start_time": "2022-03-12T09:28:37.880Z"
      },
      {
        "duration": 670,
        "start_time": "2022-03-12T09:28:37.881Z"
      },
      {
        "duration": 270,
        "start_time": "2022-03-12T09:30:42.279Z"
      },
      {
        "duration": 256,
        "start_time": "2022-03-12T09:31:31.183Z"
      },
      {
        "duration": 7,
        "start_time": "2022-03-12T09:31:52.061Z"
      },
      {
        "duration": 716,
        "start_time": "2022-03-12T09:32:00.007Z"
      },
      {
        "duration": 13,
        "start_time": "2022-03-12T09:32:00.725Z"
      },
      {
        "duration": 428,
        "start_time": "2022-03-12T09:32:00.740Z"
      },
      {
        "duration": 91,
        "start_time": "2022-03-12T09:32:01.170Z"
      },
      {
        "duration": 20,
        "start_time": "2022-03-12T09:32:01.262Z"
      },
      {
        "duration": 114,
        "start_time": "2022-03-12T09:32:01.283Z"
      },
      {
        "duration": 4,
        "start_time": "2022-03-12T09:32:01.399Z"
      },
      {
        "duration": 12,
        "start_time": "2022-03-12T09:32:01.404Z"
      },
      {
        "duration": 441,
        "start_time": "2022-03-12T09:32:01.418Z"
      },
      {
        "duration": 351,
        "start_time": "2022-03-12T09:32:01.861Z"
      },
      {
        "duration": 45,
        "start_time": "2022-03-12T09:32:02.213Z"
      },
      {
        "duration": 10,
        "start_time": "2022-03-12T09:32:02.259Z"
      },
      {
        "duration": 400,
        "start_time": "2022-03-12T09:32:02.271Z"
      },
      {
        "duration": 33,
        "start_time": "2022-03-12T09:32:02.673Z"
      },
      {
        "duration": 19,
        "start_time": "2022-03-12T09:32:02.707Z"
      },
      {
        "duration": 7,
        "start_time": "2022-03-12T09:32:02.728Z"
      },
      {
        "duration": 35,
        "start_time": "2022-03-12T09:32:02.736Z"
      },
      {
        "duration": 44,
        "start_time": "2022-03-12T09:32:02.772Z"
      },
      {
        "duration": 6,
        "start_time": "2022-03-12T09:32:02.817Z"
      },
      {
        "duration": 20,
        "start_time": "2022-03-12T09:32:02.824Z"
      },
      {
        "duration": 9,
        "start_time": "2022-03-12T09:32:02.845Z"
      },
      {
        "duration": 29,
        "start_time": "2022-03-12T09:32:02.855Z"
      },
      {
        "duration": 47,
        "start_time": "2022-03-12T09:32:02.885Z"
      },
      {
        "duration": 6,
        "start_time": "2022-03-12T09:32:02.933Z"
      },
      {
        "duration": 14,
        "start_time": "2022-03-12T09:32:02.940Z"
      },
      {
        "duration": 6,
        "start_time": "2022-03-12T09:32:02.955Z"
      },
      {
        "duration": 5,
        "start_time": "2022-03-12T09:32:02.964Z"
      },
      {
        "duration": 10,
        "start_time": "2022-03-12T09:32:02.970Z"
      },
      {
        "duration": 7,
        "start_time": "2022-03-12T09:32:03.005Z"
      },
      {
        "duration": 9,
        "start_time": "2022-03-12T09:32:03.013Z"
      },
      {
        "duration": 17,
        "start_time": "2022-03-12T09:32:19.215Z"
      },
      {
        "duration": 18,
        "start_time": "2022-03-12T09:32:52.854Z"
      },
      {
        "duration": 18,
        "start_time": "2022-03-12T09:33:16.221Z"
      },
      {
        "duration": 19,
        "start_time": "2022-03-12T09:33:22.509Z"
      },
      {
        "duration": 10,
        "start_time": "2022-03-12T09:35:26.092Z"
      },
      {
        "duration": 4,
        "start_time": "2022-03-12T09:37:02.227Z"
      },
      {
        "duration": 716,
        "start_time": "2022-03-12T09:37:50.389Z"
      },
      {
        "duration": 13,
        "start_time": "2022-03-12T09:37:51.107Z"
      },
      {
        "duration": 142,
        "start_time": "2022-03-12T09:37:51.123Z"
      },
      {
        "duration": 89,
        "start_time": "2022-03-12T09:37:51.267Z"
      },
      {
        "duration": 18,
        "start_time": "2022-03-12T09:37:51.358Z"
      },
      {
        "duration": 66,
        "start_time": "2022-03-12T09:37:51.378Z"
      },
      {
        "duration": 7,
        "start_time": "2022-03-12T09:37:51.446Z"
      },
      {
        "duration": 23,
        "start_time": "2022-03-12T09:37:51.454Z"
      },
      {
        "duration": 450,
        "start_time": "2022-03-12T09:37:51.479Z"
      },
      {
        "duration": 348,
        "start_time": "2022-03-12T09:37:51.931Z"
      },
      {
        "duration": 50,
        "start_time": "2022-03-12T09:37:52.281Z"
      },
      {
        "duration": 10,
        "start_time": "2022-03-12T09:37:52.332Z"
      },
      {
        "duration": 380,
        "start_time": "2022-03-12T09:37:52.343Z"
      },
      {
        "duration": 24,
        "start_time": "2022-03-12T09:37:52.724Z"
      },
      {
        "duration": 19,
        "start_time": "2022-03-12T09:37:52.749Z"
      },
      {
        "duration": 7,
        "start_time": "2022-03-12T09:37:52.769Z"
      },
      {
        "duration": 53,
        "start_time": "2022-03-12T09:37:52.777Z"
      },
      {
        "duration": 25,
        "start_time": "2022-03-12T09:37:52.831Z"
      },
      {
        "duration": 7,
        "start_time": "2022-03-12T09:37:52.857Z"
      },
      {
        "duration": 19,
        "start_time": "2022-03-12T09:37:52.865Z"
      },
      {
        "duration": 27,
        "start_time": "2022-03-12T09:37:52.885Z"
      },
      {
        "duration": 31,
        "start_time": "2022-03-12T09:37:52.914Z"
      },
      {
        "duration": 31,
        "start_time": "2022-03-12T09:37:52.946Z"
      },
      {
        "duration": 6,
        "start_time": "2022-03-12T09:37:52.978Z"
      },
      {
        "duration": 35,
        "start_time": "2022-03-12T09:37:52.985Z"
      },
      {
        "duration": 4,
        "start_time": "2022-03-12T09:37:53.021Z"
      },
      {
        "duration": 6,
        "start_time": "2022-03-12T09:37:53.028Z"
      },
      {
        "duration": 4,
        "start_time": "2022-03-12T09:37:53.035Z"
      },
      {
        "duration": 9,
        "start_time": "2022-03-12T09:37:53.040Z"
      },
      {
        "duration": 10,
        "start_time": "2022-03-12T09:37:53.050Z"
      },
      {
        "duration": 301,
        "start_time": "2022-03-12T09:38:54.080Z"
      },
      {
        "duration": 674,
        "start_time": "2022-03-12T09:39:28.354Z"
      },
      {
        "duration": 12,
        "start_time": "2022-03-12T09:39:29.030Z"
      },
      {
        "duration": 123,
        "start_time": "2022-03-12T09:39:29.044Z"
      },
      {
        "duration": 84,
        "start_time": "2022-03-12T09:39:29.170Z"
      },
      {
        "duration": 19,
        "start_time": "2022-03-12T09:39:29.256Z"
      },
      {
        "duration": 52,
        "start_time": "2022-03-12T09:39:29.277Z"
      },
      {
        "duration": 4,
        "start_time": "2022-03-12T09:39:29.331Z"
      },
      {
        "duration": 5,
        "start_time": "2022-03-12T09:39:29.337Z"
      },
      {
        "duration": 439,
        "start_time": "2022-03-12T09:39:29.344Z"
      },
      {
        "duration": 349,
        "start_time": "2022-03-12T09:39:29.785Z"
      },
      {
        "duration": 45,
        "start_time": "2022-03-12T09:39:30.136Z"
      },
      {
        "duration": 28,
        "start_time": "2022-03-12T09:39:30.183Z"
      },
      {
        "duration": 396,
        "start_time": "2022-03-12T09:39:30.212Z"
      },
      {
        "duration": 26,
        "start_time": "2022-03-12T09:39:30.609Z"
      },
      {
        "duration": 21,
        "start_time": "2022-03-12T09:39:30.637Z"
      },
      {
        "duration": 9,
        "start_time": "2022-03-12T09:39:30.661Z"
      },
      {
        "duration": 65,
        "start_time": "2022-03-12T09:39:30.671Z"
      },
      {
        "duration": 26,
        "start_time": "2022-03-12T09:39:30.746Z"
      },
      {
        "duration": 6,
        "start_time": "2022-03-12T09:39:30.774Z"
      },
      {
        "duration": 31,
        "start_time": "2022-03-12T09:39:30.781Z"
      },
      {
        "duration": 8,
        "start_time": "2022-03-12T09:39:30.813Z"
      },
      {
        "duration": 38,
        "start_time": "2022-03-12T09:39:30.822Z"
      },
      {
        "duration": 31,
        "start_time": "2022-03-12T09:39:30.862Z"
      },
      {
        "duration": 13,
        "start_time": "2022-03-12T09:39:30.895Z"
      },
      {
        "duration": 28,
        "start_time": "2022-03-12T09:39:30.909Z"
      },
      {
        "duration": 12,
        "start_time": "2022-03-12T09:39:30.939Z"
      },
      {
        "duration": 17,
        "start_time": "2022-03-12T09:39:30.953Z"
      },
      {
        "duration": 13,
        "start_time": "2022-03-12T09:39:30.972Z"
      },
      {
        "duration": 20,
        "start_time": "2022-03-12T09:39:30.986Z"
      },
      {
        "duration": 27,
        "start_time": "2022-03-12T09:39:31.008Z"
      },
      {
        "duration": 9,
        "start_time": "2022-03-12T09:39:31.037Z"
      },
      {
        "duration": 3,
        "start_time": "2022-03-12T09:41:12.905Z"
      },
      {
        "duration": 4,
        "start_time": "2022-03-12T09:41:19.672Z"
      },
      {
        "duration": 83,
        "start_time": "2022-03-12T09:41:23.688Z"
      },
      {
        "duration": 7,
        "start_time": "2022-03-12T09:41:26.057Z"
      },
      {
        "duration": 696,
        "start_time": "2022-03-12T09:41:44.119Z"
      },
      {
        "duration": 14,
        "start_time": "2022-03-12T09:41:44.817Z"
      },
      {
        "duration": 127,
        "start_time": "2022-03-12T09:41:44.833Z"
      },
      {
        "duration": 89,
        "start_time": "2022-03-12T09:41:44.962Z"
      },
      {
        "duration": 19,
        "start_time": "2022-03-12T09:41:45.053Z"
      },
      {
        "duration": 44,
        "start_time": "2022-03-12T09:41:45.074Z"
      },
      {
        "duration": 3,
        "start_time": "2022-03-12T09:41:45.120Z"
      },
      {
        "duration": 7,
        "start_time": "2022-03-12T09:41:45.125Z"
      },
      {
        "duration": 441,
        "start_time": "2022-03-12T09:41:45.135Z"
      },
      {
        "duration": 347,
        "start_time": "2022-03-12T09:41:45.578Z"
      },
      {
        "duration": 45,
        "start_time": "2022-03-12T09:41:45.927Z"
      },
      {
        "duration": 10,
        "start_time": "2022-03-12T09:41:45.973Z"
      },
      {
        "duration": 383,
        "start_time": "2022-03-12T09:41:45.984Z"
      },
      {
        "duration": 22,
        "start_time": "2022-03-12T09:41:46.368Z"
      },
      {
        "duration": 27,
        "start_time": "2022-03-12T09:41:46.392Z"
      },
      {
        "duration": 6,
        "start_time": "2022-03-12T09:41:46.421Z"
      },
      {
        "duration": 36,
        "start_time": "2022-03-12T09:41:46.429Z"
      },
      {
        "duration": 39,
        "start_time": "2022-03-12T09:41:46.467Z"
      },
      {
        "duration": 6,
        "start_time": "2022-03-12T09:41:46.508Z"
      },
      {
        "duration": 21,
        "start_time": "2022-03-12T09:41:46.515Z"
      },
      {
        "duration": 9,
        "start_time": "2022-03-12T09:41:46.537Z"
      },
      {
        "duration": 29,
        "start_time": "2022-03-12T09:41:46.547Z"
      },
      {
        "duration": 54,
        "start_time": "2022-03-12T09:41:46.577Z"
      },
      {
        "duration": 5,
        "start_time": "2022-03-12T09:41:46.633Z"
      },
      {
        "duration": 13,
        "start_time": "2022-03-12T09:41:46.640Z"
      },
      {
        "duration": 6,
        "start_time": "2022-03-12T09:41:46.655Z"
      },
      {
        "duration": 5,
        "start_time": "2022-03-12T09:41:46.664Z"
      },
      {
        "duration": 3,
        "start_time": "2022-03-12T09:41:46.671Z"
      },
      {
        "duration": 30,
        "start_time": "2022-03-12T09:41:46.675Z"
      },
      {
        "duration": 12,
        "start_time": "2022-03-12T09:41:46.707Z"
      },
      {
        "duration": 7,
        "start_time": "2022-03-12T09:41:46.721Z"
      },
      {
        "duration": 4,
        "start_time": "2022-03-12T09:41:46.729Z"
      },
      {
        "duration": 8,
        "start_time": "2022-03-12T09:41:46.735Z"
      },
      {
        "duration": 3,
        "start_time": "2022-03-12T09:44:54.518Z"
      },
      {
        "duration": 880,
        "start_time": "2022-03-12T09:45:05.141Z"
      },
      {
        "duration": 15,
        "start_time": "2022-03-12T09:45:06.023Z"
      },
      {
        "duration": 147,
        "start_time": "2022-03-12T09:45:06.042Z"
      },
      {
        "duration": 97,
        "start_time": "2022-03-12T09:45:06.191Z"
      },
      {
        "duration": 22,
        "start_time": "2022-03-12T09:45:06.290Z"
      },
      {
        "duration": 56,
        "start_time": "2022-03-12T09:45:06.314Z"
      },
      {
        "duration": 4,
        "start_time": "2022-03-12T09:45:06.374Z"
      },
      {
        "duration": 13,
        "start_time": "2022-03-12T09:45:06.381Z"
      },
      {
        "duration": 996,
        "start_time": "2022-03-12T09:45:06.396Z"
      },
      {
        "duration": 369,
        "start_time": "2022-03-12T09:45:07.394Z"
      },
      {
        "duration": 53,
        "start_time": "2022-03-12T09:45:07.764Z"
      },
      {
        "duration": 10,
        "start_time": "2022-03-12T09:45:07.818Z"
      },
      {
        "duration": 377,
        "start_time": "2022-03-12T09:45:07.829Z"
      },
      {
        "duration": 22,
        "start_time": "2022-03-12T09:45:08.208Z"
      },
      {
        "duration": 19,
        "start_time": "2022-03-12T09:45:08.231Z"
      },
      {
        "duration": 6,
        "start_time": "2022-03-12T09:45:08.252Z"
      },
      {
        "duration": 55,
        "start_time": "2022-03-12T09:45:08.260Z"
      },
      {
        "duration": 24,
        "start_time": "2022-03-12T09:45:08.317Z"
      },
      {
        "duration": 7,
        "start_time": "2022-03-12T09:45:08.342Z"
      },
      {
        "duration": 22,
        "start_time": "2022-03-12T09:45:08.350Z"
      },
      {
        "duration": 9,
        "start_time": "2022-03-12T09:45:08.373Z"
      },
      {
        "duration": 29,
        "start_time": "2022-03-12T09:45:08.406Z"
      },
      {
        "duration": 31,
        "start_time": "2022-03-12T09:45:08.436Z"
      },
      {
        "duration": 6,
        "start_time": "2022-03-12T09:45:08.468Z"
      },
      {
        "duration": 34,
        "start_time": "2022-03-12T09:45:08.477Z"
      },
      {
        "duration": 7,
        "start_time": "2022-03-12T09:45:08.513Z"
      },
      {
        "duration": 6,
        "start_time": "2022-03-12T09:45:08.521Z"
      },
      {
        "duration": 11,
        "start_time": "2022-03-12T09:45:08.528Z"
      },
      {
        "duration": 12,
        "start_time": "2022-03-12T09:45:08.540Z"
      },
      {
        "duration": 10,
        "start_time": "2022-03-12T09:45:08.553Z"
      },
      {
        "duration": 6,
        "start_time": "2022-03-12T09:45:08.564Z"
      },
      {
        "duration": 5,
        "start_time": "2022-03-12T09:45:08.571Z"
      },
      {
        "duration": 29,
        "start_time": "2022-03-12T09:45:08.578Z"
      },
      {
        "duration": 90,
        "start_time": "2022-03-12T09:45:08.608Z"
      },
      {
        "duration": 2,
        "start_time": "2022-03-12T09:45:43.535Z"
      },
      {
        "duration": 8,
        "start_time": "2022-03-12T09:45:50.031Z"
      },
      {
        "duration": 8,
        "start_time": "2022-03-12T09:46:35.503Z"
      },
      {
        "duration": 308,
        "start_time": "2022-03-12T09:46:38.933Z"
      },
      {
        "duration": 12,
        "start_time": "2022-03-12T09:46:43.958Z"
      },
      {
        "duration": 24,
        "start_time": "2022-03-12T09:47:02.790Z"
      },
      {
        "duration": 662,
        "start_time": "2022-03-12T09:48:01.949Z"
      },
      {
        "duration": 15,
        "start_time": "2022-03-12T09:48:02.614Z"
      },
      {
        "duration": 135,
        "start_time": "2022-03-12T09:48:02.631Z"
      },
      {
        "duration": 84,
        "start_time": "2022-03-12T09:48:02.768Z"
      },
      {
        "duration": 20,
        "start_time": "2022-03-12T09:48:02.853Z"
      },
      {
        "duration": 63,
        "start_time": "2022-03-12T09:48:02.875Z"
      },
      {
        "duration": 4,
        "start_time": "2022-03-12T09:48:02.940Z"
      },
      {
        "duration": 6,
        "start_time": "2022-03-12T09:48:02.947Z"
      },
      {
        "duration": 438,
        "start_time": "2022-03-12T09:48:02.955Z"
      },
      {
        "duration": 351,
        "start_time": "2022-03-12T09:48:03.395Z"
      },
      {
        "duration": 57,
        "start_time": "2022-03-12T09:48:03.748Z"
      },
      {
        "duration": 11,
        "start_time": "2022-03-12T09:48:03.806Z"
      },
      {
        "duration": 379,
        "start_time": "2022-03-12T09:48:03.818Z"
      },
      {
        "duration": 27,
        "start_time": "2022-03-12T09:48:04.199Z"
      },
      {
        "duration": 20,
        "start_time": "2022-03-12T09:48:04.228Z"
      },
      {
        "duration": 7,
        "start_time": "2022-03-12T09:48:04.249Z"
      },
      {
        "duration": 60,
        "start_time": "2022-03-12T09:48:04.258Z"
      },
      {
        "duration": 24,
        "start_time": "2022-03-12T09:48:04.319Z"
      },
      {
        "duration": 7,
        "start_time": "2022-03-12T09:48:04.345Z"
      },
      {
        "duration": 18,
        "start_time": "2022-03-12T09:48:04.354Z"
      },
      {
        "duration": 33,
        "start_time": "2022-03-12T09:48:04.374Z"
      },
      {
        "duration": 29,
        "start_time": "2022-03-12T09:48:04.408Z"
      },
      {
        "duration": 29,
        "start_time": "2022-03-12T09:48:04.439Z"
      },
      {
        "duration": 5,
        "start_time": "2022-03-12T09:48:04.470Z"
      },
      {
        "duration": 38,
        "start_time": "2022-03-12T09:48:04.477Z"
      },
      {
        "duration": 6,
        "start_time": "2022-03-12T09:48:04.516Z"
      },
      {
        "duration": 6,
        "start_time": "2022-03-12T09:48:04.523Z"
      },
      {
        "duration": 3,
        "start_time": "2022-03-12T09:48:04.530Z"
      },
      {
        "duration": 12,
        "start_time": "2022-03-12T09:48:04.535Z"
      },
      {
        "duration": 12,
        "start_time": "2022-03-12T09:48:04.548Z"
      },
      {
        "duration": 6,
        "start_time": "2022-03-12T09:48:04.561Z"
      },
      {
        "duration": 5,
        "start_time": "2022-03-12T09:48:04.568Z"
      },
      {
        "duration": 5,
        "start_time": "2022-03-12T09:48:04.574Z"
      },
      {
        "duration": 30,
        "start_time": "2022-03-12T09:48:04.580Z"
      },
      {
        "duration": 7,
        "start_time": "2022-03-12T09:48:04.611Z"
      },
      {
        "duration": 23,
        "start_time": "2022-03-12T09:48:04.620Z"
      },
      {
        "duration": 24,
        "start_time": "2022-03-12T09:48:43.166Z"
      },
      {
        "duration": 4,
        "start_time": "2022-03-12T09:49:38.903Z"
      },
      {
        "duration": 24,
        "start_time": "2022-03-12T09:49:44.741Z"
      },
      {
        "duration": 25,
        "start_time": "2022-03-12T09:50:01.141Z"
      },
      {
        "duration": 700,
        "start_time": "2022-03-12T09:50:18.066Z"
      },
      {
        "duration": 13,
        "start_time": "2022-03-12T09:50:18.768Z"
      },
      {
        "duration": 127,
        "start_time": "2022-03-12T09:50:18.782Z"
      },
      {
        "duration": 84,
        "start_time": "2022-03-12T09:50:18.910Z"
      },
      {
        "duration": 19,
        "start_time": "2022-03-12T09:50:18.995Z"
      },
      {
        "duration": 47,
        "start_time": "2022-03-12T09:50:19.016Z"
      },
      {
        "duration": 4,
        "start_time": "2022-03-12T09:50:19.064Z"
      },
      {
        "duration": 9,
        "start_time": "2022-03-12T09:50:19.070Z"
      },
      {
        "duration": 437,
        "start_time": "2022-03-12T09:50:19.080Z"
      },
      {
        "duration": 355,
        "start_time": "2022-03-12T09:50:19.518Z"
      },
      {
        "duration": 54,
        "start_time": "2022-03-12T09:50:19.875Z"
      },
      {
        "duration": 10,
        "start_time": "2022-03-12T09:50:19.930Z"
      },
      {
        "duration": 372,
        "start_time": "2022-03-12T09:50:19.942Z"
      },
      {
        "duration": 22,
        "start_time": "2022-03-12T09:50:20.316Z"
      },
      {
        "duration": 20,
        "start_time": "2022-03-12T09:50:20.339Z"
      },
      {
        "duration": 8,
        "start_time": "2022-03-12T09:50:20.360Z"
      },
      {
        "duration": 55,
        "start_time": "2022-03-12T09:50:20.369Z"
      },
      {
        "duration": 22,
        "start_time": "2022-03-12T09:50:20.426Z"
      },
      {
        "duration": 5,
        "start_time": "2022-03-12T09:50:20.450Z"
      },
      {
        "duration": 24,
        "start_time": "2022-03-12T09:50:20.457Z"
      },
      {
        "duration": 24,
        "start_time": "2022-03-12T09:50:20.482Z"
      },
      {
        "duration": 27,
        "start_time": "2022-03-12T09:50:20.507Z"
      },
      {
        "duration": 30,
        "start_time": "2022-03-12T09:50:20.537Z"
      },
      {
        "duration": 6,
        "start_time": "2022-03-12T09:50:20.568Z"
      },
      {
        "duration": 35,
        "start_time": "2022-03-12T09:50:20.575Z"
      },
      {
        "duration": 22,
        "start_time": "2022-03-12T09:50:20.611Z"
      },
      {
        "duration": 16,
        "start_time": "2022-03-12T09:50:20.634Z"
      },
      {
        "duration": 18,
        "start_time": "2022-03-12T09:50:20.651Z"
      },
      {
        "duration": 18,
        "start_time": "2022-03-12T09:50:20.671Z"
      },
      {
        "duration": 26,
        "start_time": "2022-03-12T09:50:20.690Z"
      },
      {
        "duration": 9,
        "start_time": "2022-03-12T09:50:20.717Z"
      },
      {
        "duration": 7,
        "start_time": "2022-03-12T09:50:20.728Z"
      },
      {
        "duration": 6,
        "start_time": "2022-03-12T09:50:20.737Z"
      },
      {
        "duration": 19,
        "start_time": "2022-03-12T09:50:20.744Z"
      },
      {
        "duration": 11,
        "start_time": "2022-03-12T09:50:20.764Z"
      },
      {
        "duration": 6,
        "start_time": "2022-03-12T09:50:20.776Z"
      },
      {
        "duration": 30,
        "start_time": "2022-03-12T09:50:20.783Z"
      },
      {
        "duration": 5,
        "start_time": "2022-03-12T09:53:28.913Z"
      },
      {
        "duration": 16,
        "start_time": "2022-03-12T09:56:03.370Z"
      },
      {
        "duration": 17,
        "start_time": "2022-03-12T09:58:31.783Z"
      },
      {
        "duration": 6146,
        "start_time": "2022-03-12T10:07:27.331Z"
      },
      {
        "duration": 5,
        "start_time": "2022-03-12T10:08:02.291Z"
      },
      {
        "duration": 263,
        "start_time": "2022-03-12T10:12:42.264Z"
      },
      {
        "duration": 3,
        "start_time": "2022-03-12T10:12:47.272Z"
      },
      {
        "duration": 4,
        "start_time": "2022-03-12T10:12:51.473Z"
      },
      {
        "duration": 14,
        "start_time": "2022-03-12T10:12:55.888Z"
      },
      {
        "duration": 6,
        "start_time": "2022-03-12T10:13:37.048Z"
      },
      {
        "duration": 14,
        "start_time": "2022-03-12T10:13:38.288Z"
      },
      {
        "duration": 5,
        "start_time": "2022-03-12T10:17:47.342Z"
      },
      {
        "duration": 25,
        "start_time": "2022-03-12T10:17:56.833Z"
      },
      {
        "duration": 4,
        "start_time": "2022-03-12T10:20:06.229Z"
      },
      {
        "duration": 22,
        "start_time": "2022-03-12T10:21:15.204Z"
      },
      {
        "duration": 32,
        "start_time": "2022-03-12T10:21:35.717Z"
      },
      {
        "duration": 12,
        "start_time": "2022-03-12T10:26:10.370Z"
      },
      {
        "duration": 17,
        "start_time": "2022-03-12T10:27:45.547Z"
      },
      {
        "duration": 168,
        "start_time": "2022-03-12T10:29:19.040Z"
      },
      {
        "duration": 397,
        "start_time": "2022-03-12T10:29:59.609Z"
      },
      {
        "duration": 296,
        "start_time": "2022-03-12T10:30:03.976Z"
      },
      {
        "duration": 15,
        "start_time": "2022-03-12T10:30:41.144Z"
      },
      {
        "duration": 15,
        "start_time": "2022-03-12T10:33:10.807Z"
      },
      {
        "duration": 1771,
        "start_time": "2022-03-12T10:35:14.879Z"
      },
      {
        "duration": 297,
        "start_time": "2022-03-12T10:35:35.935Z"
      },
      {
        "duration": 3,
        "start_time": "2022-03-12T10:40:46.868Z"
      },
      {
        "duration": 15,
        "start_time": "2022-03-12T10:41:06.491Z"
      },
      {
        "duration": 24,
        "start_time": "2022-03-12T10:49:20.380Z"
      },
      {
        "duration": 17,
        "start_time": "2022-03-12T10:49:27.025Z"
      },
      {
        "duration": 29,
        "start_time": "2022-03-12T10:49:43.320Z"
      },
      {
        "duration": 249,
        "start_time": "2022-03-12T10:59:38.427Z"
      },
      {
        "duration": 16,
        "start_time": "2022-03-12T10:59:48.031Z"
      },
      {
        "duration": 339,
        "start_time": "2022-03-12T11:00:34.779Z"
      },
      {
        "duration": 387,
        "start_time": "2022-03-12T11:00:49.378Z"
      },
      {
        "duration": 493,
        "start_time": "2022-03-12T11:01:04.530Z"
      },
      {
        "duration": 503,
        "start_time": "2022-03-12T11:01:21.578Z"
      },
      {
        "duration": 445,
        "start_time": "2022-03-12T11:01:34.290Z"
      },
      {
        "duration": 458,
        "start_time": "2022-03-12T11:01:56.724Z"
      },
      {
        "duration": 413,
        "start_time": "2022-03-12T11:02:19.970Z"
      },
      {
        "duration": 23,
        "start_time": "2022-03-12T11:04:36.432Z"
      },
      {
        "duration": 421,
        "start_time": "2022-03-12T11:05:37.727Z"
      },
      {
        "duration": 329,
        "start_time": "2022-03-12T11:05:44.616Z"
      },
      {
        "duration": 302,
        "start_time": "2022-03-12T11:05:57.552Z"
      },
      {
        "duration": 438,
        "start_time": "2022-03-12T11:06:02.392Z"
      },
      {
        "duration": 337,
        "start_time": "2022-03-12T11:06:08.304Z"
      },
      {
        "duration": 359,
        "start_time": "2022-03-12T11:06:16.847Z"
      },
      {
        "duration": 15,
        "start_time": "2022-03-12T11:07:12.943Z"
      },
      {
        "duration": 371,
        "start_time": "2022-03-12T11:07:51.935Z"
      },
      {
        "duration": 313,
        "start_time": "2022-03-12T11:08:21.253Z"
      },
      {
        "duration": 305,
        "start_time": "2022-03-12T11:08:27.990Z"
      },
      {
        "duration": 328,
        "start_time": "2022-03-12T11:08:35.446Z"
      },
      {
        "duration": 436,
        "start_time": "2022-03-12T11:17:39.001Z"
      },
      {
        "duration": 426,
        "start_time": "2022-03-12T11:17:45.899Z"
      },
      {
        "duration": 327,
        "start_time": "2022-03-12T11:17:58.762Z"
      },
      {
        "duration": 326,
        "start_time": "2022-03-12T11:18:03.307Z"
      },
      {
        "duration": 18,
        "start_time": "2022-03-12T11:21:26.106Z"
      },
      {
        "duration": 691,
        "start_time": "2022-03-12T11:21:48.776Z"
      },
      {
        "duration": 13,
        "start_time": "2022-03-12T11:21:49.469Z"
      },
      {
        "duration": 137,
        "start_time": "2022-03-12T11:21:49.483Z"
      },
      {
        "duration": 88,
        "start_time": "2022-03-12T11:21:49.622Z"
      },
      {
        "duration": 22,
        "start_time": "2022-03-12T11:21:49.712Z"
      },
      {
        "duration": 66,
        "start_time": "2022-03-12T11:21:49.736Z"
      },
      {
        "duration": 5,
        "start_time": "2022-03-12T11:21:49.803Z"
      },
      {
        "duration": 19,
        "start_time": "2022-03-12T11:21:49.812Z"
      },
      {
        "duration": 546,
        "start_time": "2022-03-12T11:21:49.833Z"
      },
      {
        "duration": 426,
        "start_time": "2022-03-12T11:21:50.381Z"
      },
      {
        "duration": 56,
        "start_time": "2022-03-12T11:21:50.809Z"
      },
      {
        "duration": 11,
        "start_time": "2022-03-12T11:21:50.866Z"
      },
      {
        "duration": 460,
        "start_time": "2022-03-12T11:21:50.879Z"
      },
      {
        "duration": 24,
        "start_time": "2022-03-12T11:21:51.341Z"
      },
      {
        "duration": 21,
        "start_time": "2022-03-12T11:21:51.366Z"
      },
      {
        "duration": 27,
        "start_time": "2022-03-12T11:21:51.388Z"
      },
      {
        "duration": 46,
        "start_time": "2022-03-12T11:21:51.418Z"
      },
      {
        "duration": 39,
        "start_time": "2022-03-12T11:21:51.466Z"
      },
      {
        "duration": 11,
        "start_time": "2022-03-12T11:21:51.507Z"
      },
      {
        "duration": 20,
        "start_time": "2022-03-12T11:21:51.520Z"
      },
      {
        "duration": 10,
        "start_time": "2022-03-12T11:21:51.541Z"
      },
      {
        "duration": 31,
        "start_time": "2022-03-12T11:21:51.553Z"
      },
      {
        "duration": 54,
        "start_time": "2022-03-12T11:21:51.587Z"
      },
      {
        "duration": 8,
        "start_time": "2022-03-12T11:21:51.643Z"
      },
      {
        "duration": 24,
        "start_time": "2022-03-12T11:21:51.653Z"
      },
      {
        "duration": 29,
        "start_time": "2022-03-12T11:21:51.679Z"
      },
      {
        "duration": 18,
        "start_time": "2022-03-12T11:21:51.712Z"
      },
      {
        "duration": 5,
        "start_time": "2022-03-12T11:21:51.732Z"
      },
      {
        "duration": 8,
        "start_time": "2022-03-12T11:21:51.739Z"
      },
      {
        "duration": 13,
        "start_time": "2022-03-12T11:21:51.749Z"
      },
      {
        "duration": 7,
        "start_time": "2022-03-12T11:21:51.764Z"
      },
      {
        "duration": 5,
        "start_time": "2022-03-12T11:21:51.773Z"
      },
      {
        "duration": 34,
        "start_time": "2022-03-12T11:21:51.779Z"
      },
      {
        "duration": 14,
        "start_time": "2022-03-12T11:21:51.816Z"
      },
      {
        "duration": 9,
        "start_time": "2022-03-12T11:21:51.832Z"
      },
      {
        "duration": 4,
        "start_time": "2022-03-12T11:21:51.843Z"
      },
      {
        "duration": 4,
        "start_time": "2022-03-12T11:21:51.849Z"
      },
      {
        "duration": 18,
        "start_time": "2022-03-12T11:21:51.855Z"
      },
      {
        "duration": 44,
        "start_time": "2022-03-12T11:21:51.875Z"
      },
      {
        "duration": 8,
        "start_time": "2022-03-12T11:21:51.922Z"
      },
      {
        "duration": 4,
        "start_time": "2022-03-12T11:21:51.932Z"
      },
      {
        "duration": 8,
        "start_time": "2022-03-12T11:21:51.938Z"
      },
      {
        "duration": 16,
        "start_time": "2022-03-12T11:21:51.948Z"
      },
      {
        "duration": 4,
        "start_time": "2022-03-12T11:21:51.965Z"
      },
      {
        "duration": 63,
        "start_time": "2022-03-12T11:21:51.971Z"
      },
      {
        "duration": 15,
        "start_time": "2022-03-12T11:21:52.036Z"
      },
      {
        "duration": 15,
        "start_time": "2022-03-12T11:21:52.052Z"
      },
      {
        "duration": 379,
        "start_time": "2022-03-12T11:21:52.069Z"
      },
      {
        "duration": 16,
        "start_time": "2022-03-12T11:21:52.450Z"
      },
      {
        "duration": 472,
        "start_time": "2022-03-12T11:21:52.468Z"
      },
      {
        "duration": 16,
        "start_time": "2022-03-12T11:21:52.941Z"
      },
      {
        "duration": 370,
        "start_time": "2022-03-12T11:21:52.958Z"
      },
      {
        "duration": 16,
        "start_time": "2022-03-12T11:21:53.330Z"
      },
      {
        "duration": 373,
        "start_time": "2022-03-12T11:21:53.347Z"
      },
      {
        "duration": 7,
        "start_time": "2022-03-12T11:25:35.530Z"
      },
      {
        "duration": 4,
        "start_time": "2022-03-12T11:28:43.393Z"
      },
      {
        "duration": 285,
        "start_time": "2022-03-12T11:28:54.311Z"
      },
      {
        "duration": 4,
        "start_time": "2022-03-12T11:29:00.904Z"
      },
      {
        "duration": 7,
        "start_time": "2022-03-12T11:29:44.967Z"
      },
      {
        "duration": 6,
        "start_time": "2022-03-12T11:29:58.344Z"
      },
      {
        "duration": 701,
        "start_time": "2022-03-12T11:39:34.630Z"
      },
      {
        "duration": 12,
        "start_time": "2022-03-12T11:39:35.333Z"
      },
      {
        "duration": 147,
        "start_time": "2022-03-12T11:39:35.349Z"
      },
      {
        "duration": 90,
        "start_time": "2022-03-12T11:39:35.498Z"
      },
      {
        "duration": 21,
        "start_time": "2022-03-12T11:39:35.590Z"
      },
      {
        "duration": 42,
        "start_time": "2022-03-12T11:39:35.613Z"
      },
      {
        "duration": 4,
        "start_time": "2022-03-12T11:39:35.657Z"
      },
      {
        "duration": 12,
        "start_time": "2022-03-12T11:39:35.663Z"
      },
      {
        "duration": 476,
        "start_time": "2022-03-12T11:39:35.677Z"
      },
      {
        "duration": 364,
        "start_time": "2022-03-12T11:39:36.154Z"
      },
      {
        "duration": 46,
        "start_time": "2022-03-12T11:39:36.520Z"
      },
      {
        "duration": 10,
        "start_time": "2022-03-12T11:39:36.567Z"
      },
      {
        "duration": 408,
        "start_time": "2022-03-12T11:39:36.578Z"
      },
      {
        "duration": 38,
        "start_time": "2022-03-12T11:39:36.987Z"
      },
      {
        "duration": 19,
        "start_time": "2022-03-12T11:39:37.027Z"
      },
      {
        "duration": 10,
        "start_time": "2022-03-12T11:39:37.047Z"
      },
      {
        "duration": 52,
        "start_time": "2022-03-12T11:39:37.058Z"
      },
      {
        "duration": 27,
        "start_time": "2022-03-12T11:39:37.111Z"
      },
      {
        "duration": 6,
        "start_time": "2022-03-12T11:39:37.140Z"
      },
      {
        "duration": 15,
        "start_time": "2022-03-12T11:39:37.147Z"
      },
      {
        "duration": 6,
        "start_time": "2022-03-12T11:39:37.163Z"
      },
      {
        "duration": 57,
        "start_time": "2022-03-12T11:39:37.170Z"
      },
      {
        "duration": 28,
        "start_time": "2022-03-12T11:39:37.228Z"
      },
      {
        "duration": 7,
        "start_time": "2022-03-12T11:39:37.258Z"
      },
      {
        "duration": 11,
        "start_time": "2022-03-12T11:39:37.266Z"
      },
      {
        "duration": 27,
        "start_time": "2022-03-12T11:39:37.281Z"
      },
      {
        "duration": 9,
        "start_time": "2022-03-12T11:39:37.311Z"
      },
      {
        "duration": 7,
        "start_time": "2022-03-12T11:39:37.322Z"
      },
      {
        "duration": 9,
        "start_time": "2022-03-12T11:39:37.330Z"
      },
      {
        "duration": 10,
        "start_time": "2022-03-12T11:39:37.341Z"
      },
      {
        "duration": 6,
        "start_time": "2022-03-12T11:39:37.353Z"
      },
      {
        "duration": 5,
        "start_time": "2022-03-12T11:39:37.361Z"
      },
      {
        "duration": 5,
        "start_time": "2022-03-12T11:39:37.367Z"
      },
      {
        "duration": 37,
        "start_time": "2022-03-12T11:39:37.373Z"
      },
      {
        "duration": 13,
        "start_time": "2022-03-12T11:39:37.412Z"
      },
      {
        "duration": 6,
        "start_time": "2022-03-12T11:39:37.426Z"
      },
      {
        "duration": 7,
        "start_time": "2022-03-12T11:39:37.433Z"
      },
      {
        "duration": 18,
        "start_time": "2022-03-12T11:39:37.441Z"
      },
      {
        "duration": 14,
        "start_time": "2022-03-12T11:39:37.460Z"
      },
      {
        "duration": 6,
        "start_time": "2022-03-12T11:39:37.476Z"
      },
      {
        "duration": 23,
        "start_time": "2022-03-12T11:39:37.483Z"
      },
      {
        "duration": 21,
        "start_time": "2022-03-12T11:39:37.507Z"
      },
      {
        "duration": 16,
        "start_time": "2022-03-12T11:39:37.530Z"
      },
      {
        "duration": 5,
        "start_time": "2022-03-12T11:39:37.548Z"
      },
      {
        "duration": 23,
        "start_time": "2022-03-12T11:39:37.554Z"
      },
      {
        "duration": 28,
        "start_time": "2022-03-12T11:39:37.579Z"
      },
      {
        "duration": 23,
        "start_time": "2022-03-12T11:39:37.610Z"
      },
      {
        "duration": 355,
        "start_time": "2022-03-12T11:39:37.634Z"
      },
      {
        "duration": 26,
        "start_time": "2022-03-12T11:39:37.991Z"
      },
      {
        "duration": 454,
        "start_time": "2022-03-12T11:39:38.019Z"
      },
      {
        "duration": 16,
        "start_time": "2022-03-12T11:39:38.474Z"
      },
      {
        "duration": 374,
        "start_time": "2022-03-12T11:39:38.491Z"
      },
      {
        "duration": 15,
        "start_time": "2022-03-12T11:39:38.867Z"
      },
      {
        "duration": 376,
        "start_time": "2022-03-12T11:39:38.884Z"
      },
      {
        "duration": 6,
        "start_time": "2022-03-12T11:39:39.261Z"
      },
      {
        "duration": 19,
        "start_time": "2022-03-12T11:39:48.618Z"
      },
      {
        "duration": 374,
        "start_time": "2022-03-12T11:45:21.703Z"
      },
      {
        "duration": 151,
        "start_time": "2022-03-12T11:45:24.384Z"
      },
      {
        "duration": 378,
        "start_time": "2022-03-12T11:49:05.783Z"
      },
      {
        "duration": 6,
        "start_time": "2022-03-12T11:49:09.799Z"
      },
      {
        "duration": 249,
        "start_time": "2022-03-12T11:49:11.720Z"
      },
      {
        "duration": 5,
        "start_time": "2022-03-12T11:49:27.589Z"
      },
      {
        "duration": 907,
        "start_time": "2022-03-12T11:53:14.222Z"
      },
      {
        "duration": 148,
        "start_time": "2022-03-12T11:53:15.131Z"
      },
      {
        "duration": 12,
        "start_time": "2022-03-12T11:53:15.284Z"
      },
      {
        "duration": 131,
        "start_time": "2022-03-12T11:53:15.297Z"
      },
      {
        "duration": 89,
        "start_time": "2022-03-12T11:53:15.429Z"
      },
      {
        "duration": 20,
        "start_time": "2022-03-12T11:53:15.519Z"
      },
      {
        "duration": 54,
        "start_time": "2022-03-12T11:53:15.540Z"
      },
      {
        "duration": 14,
        "start_time": "2022-03-12T11:53:15.597Z"
      },
      {
        "duration": 11,
        "start_time": "2022-03-12T11:53:15.612Z"
      },
      {
        "duration": 570,
        "start_time": "2022-03-12T11:53:15.624Z"
      },
      {
        "duration": 575,
        "start_time": "2022-03-12T11:53:16.195Z"
      },
      {
        "duration": 49,
        "start_time": "2022-03-12T11:53:16.771Z"
      },
      {
        "duration": 9,
        "start_time": "2022-03-12T11:53:16.822Z"
      },
      {
        "duration": 514,
        "start_time": "2022-03-12T11:53:16.833Z"
      },
      {
        "duration": 24,
        "start_time": "2022-03-12T11:53:17.349Z"
      },
      {
        "duration": 32,
        "start_time": "2022-03-12T11:53:17.375Z"
      },
      {
        "duration": 7,
        "start_time": "2022-03-12T11:53:17.408Z"
      },
      {
        "duration": 35,
        "start_time": "2022-03-12T11:53:17.416Z"
      },
      {
        "duration": 24,
        "start_time": "2022-03-12T11:53:17.452Z"
      },
      {
        "duration": 29,
        "start_time": "2022-03-12T11:53:17.477Z"
      },
      {
        "duration": 16,
        "start_time": "2022-03-12T11:53:17.508Z"
      },
      {
        "duration": 7,
        "start_time": "2022-03-12T11:53:17.526Z"
      },
      {
        "duration": 28,
        "start_time": "2022-03-12T11:53:17.535Z"
      },
      {
        "duration": 44,
        "start_time": "2022-03-12T11:53:17.564Z"
      },
      {
        "duration": 6,
        "start_time": "2022-03-12T11:53:17.610Z"
      },
      {
        "duration": 8,
        "start_time": "2022-03-12T11:53:17.619Z"
      },
      {
        "duration": 7,
        "start_time": "2022-03-12T11:53:17.629Z"
      },
      {
        "duration": 9,
        "start_time": "2022-03-12T11:53:17.637Z"
      },
      {
        "duration": 7,
        "start_time": "2022-03-12T11:53:17.647Z"
      },
      {
        "duration": 9,
        "start_time": "2022-03-12T11:53:17.655Z"
      },
      {
        "duration": 10,
        "start_time": "2022-03-12T11:53:17.666Z"
      },
      {
        "duration": 32,
        "start_time": "2022-03-12T11:53:17.677Z"
      },
      {
        "duration": 2,
        "start_time": "2022-03-12T11:53:17.711Z"
      },
      {
        "duration": 4,
        "start_time": "2022-03-12T11:53:17.715Z"
      },
      {
        "duration": 8,
        "start_time": "2022-03-12T11:53:17.721Z"
      },
      {
        "duration": 8,
        "start_time": "2022-03-12T11:53:17.731Z"
      },
      {
        "duration": 4,
        "start_time": "2022-03-12T11:53:17.740Z"
      },
      {
        "duration": 4,
        "start_time": "2022-03-12T11:53:17.746Z"
      },
      {
        "duration": 15,
        "start_time": "2022-03-12T11:53:17.751Z"
      },
      {
        "duration": 44,
        "start_time": "2022-03-12T11:53:17.767Z"
      },
      {
        "duration": 5,
        "start_time": "2022-03-12T11:53:17.812Z"
      },
      {
        "duration": 6,
        "start_time": "2022-03-12T11:53:17.819Z"
      },
      {
        "duration": 8,
        "start_time": "2022-03-12T11:53:17.826Z"
      },
      {
        "duration": 17,
        "start_time": "2022-03-12T11:53:17.835Z"
      },
      {
        "duration": 5,
        "start_time": "2022-03-12T11:53:17.854Z"
      },
      {
        "duration": 45,
        "start_time": "2022-03-12T11:53:17.861Z"
      },
      {
        "duration": 20,
        "start_time": "2022-03-12T11:53:17.908Z"
      },
      {
        "duration": 15,
        "start_time": "2022-03-12T11:53:17.930Z"
      },
      {
        "duration": 326,
        "start_time": "2022-03-12T11:53:17.947Z"
      },
      {
        "duration": 15,
        "start_time": "2022-03-12T11:53:18.275Z"
      },
      {
        "duration": 436,
        "start_time": "2022-03-12T11:53:18.292Z"
      },
      {
        "duration": 16,
        "start_time": "2022-03-12T11:53:18.730Z"
      },
      {
        "duration": 343,
        "start_time": "2022-03-12T11:53:18.747Z"
      },
      {
        "duration": 20,
        "start_time": "2022-03-12T11:53:19.091Z"
      },
      {
        "duration": 347,
        "start_time": "2022-03-12T11:53:19.113Z"
      },
      {
        "duration": 7,
        "start_time": "2022-03-12T11:53:19.461Z"
      },
      {
        "duration": 6,
        "start_time": "2022-03-12T11:53:19.470Z"
      },
      {
        "duration": 7,
        "start_time": "2022-03-12T11:53:19.477Z"
      },
      {
        "duration": 5,
        "start_time": "2022-03-12T11:53:55.337Z"
      },
      {
        "duration": 4,
        "start_time": "2022-03-12T11:54:10.576Z"
      },
      {
        "duration": 891,
        "start_time": "2022-03-12T11:54:45.337Z"
      },
      {
        "duration": 155,
        "start_time": "2022-03-12T11:54:46.230Z"
      },
      {
        "duration": 19,
        "start_time": "2022-03-12T11:54:46.387Z"
      },
      {
        "duration": 133,
        "start_time": "2022-03-12T11:54:46.407Z"
      },
      {
        "duration": 89,
        "start_time": "2022-03-12T11:54:46.542Z"
      },
      {
        "duration": 19,
        "start_time": "2022-03-12T11:54:46.633Z"
      },
      {
        "duration": 41,
        "start_time": "2022-03-12T11:54:46.653Z"
      },
      {
        "duration": 3,
        "start_time": "2022-03-12T11:54:46.696Z"
      },
      {
        "duration": 16,
        "start_time": "2022-03-12T11:54:46.701Z"
      },
      {
        "duration": 715,
        "start_time": "2022-03-12T11:54:46.719Z"
      },
      {
        "duration": 539,
        "start_time": "2022-03-12T11:54:47.435Z"
      },
      {
        "duration": 56,
        "start_time": "2022-03-12T11:54:47.975Z"
      },
      {
        "duration": 10,
        "start_time": "2022-03-12T11:54:48.032Z"
      },
      {
        "duration": 416,
        "start_time": "2022-03-12T11:54:48.044Z"
      },
      {
        "duration": 24,
        "start_time": "2022-03-12T11:54:48.461Z"
      },
      {
        "duration": 28,
        "start_time": "2022-03-12T11:54:48.486Z"
      },
      {
        "duration": 8,
        "start_time": "2022-03-12T11:54:48.515Z"
      },
      {
        "duration": 34,
        "start_time": "2022-03-12T11:54:48.525Z"
      },
      {
        "duration": 25,
        "start_time": "2022-03-12T11:54:48.561Z"
      },
      {
        "duration": 23,
        "start_time": "2022-03-12T11:54:48.587Z"
      },
      {
        "duration": 15,
        "start_time": "2022-03-12T11:54:48.611Z"
      },
      {
        "duration": 6,
        "start_time": "2022-03-12T11:54:48.628Z"
      },
      {
        "duration": 28,
        "start_time": "2022-03-12T11:54:48.637Z"
      },
      {
        "duration": 47,
        "start_time": "2022-03-12T11:54:48.667Z"
      },
      {
        "duration": 6,
        "start_time": "2022-03-12T11:54:48.715Z"
      },
      {
        "duration": 9,
        "start_time": "2022-03-12T11:54:48.722Z"
      },
      {
        "duration": 7,
        "start_time": "2022-03-12T11:54:48.732Z"
      },
      {
        "duration": 6,
        "start_time": "2022-03-12T11:54:48.740Z"
      },
      {
        "duration": 3,
        "start_time": "2022-03-12T11:54:48.748Z"
      },
      {
        "duration": 9,
        "start_time": "2022-03-12T11:54:48.753Z"
      },
      {
        "duration": 11,
        "start_time": "2022-03-12T11:54:48.763Z"
      },
      {
        "duration": 36,
        "start_time": "2022-03-12T11:54:48.775Z"
      },
      {
        "duration": 5,
        "start_time": "2022-03-12T11:54:48.812Z"
      },
      {
        "duration": 5,
        "start_time": "2022-03-12T11:54:48.818Z"
      },
      {
        "duration": 10,
        "start_time": "2022-03-12T11:54:48.824Z"
      },
      {
        "duration": 8,
        "start_time": "2022-03-12T11:54:48.835Z"
      },
      {
        "duration": 5,
        "start_time": "2022-03-12T11:54:48.845Z"
      },
      {
        "duration": 6,
        "start_time": "2022-03-12T11:54:48.851Z"
      },
      {
        "duration": 49,
        "start_time": "2022-03-12T11:54:48.858Z"
      },
      {
        "duration": 16,
        "start_time": "2022-03-12T11:54:48.908Z"
      },
      {
        "duration": 5,
        "start_time": "2022-03-12T11:54:48.925Z"
      },
      {
        "duration": 4,
        "start_time": "2022-03-12T11:54:48.932Z"
      },
      {
        "duration": 9,
        "start_time": "2022-03-12T11:54:48.938Z"
      },
      {
        "duration": 18,
        "start_time": "2022-03-12T11:54:48.948Z"
      },
      {
        "duration": 3,
        "start_time": "2022-03-12T11:54:48.968Z"
      },
      {
        "duration": 48,
        "start_time": "2022-03-12T11:54:48.973Z"
      },
      {
        "duration": 28,
        "start_time": "2022-03-12T11:54:49.023Z"
      },
      {
        "duration": 15,
        "start_time": "2022-03-12T11:54:49.052Z"
      },
      {
        "duration": 330,
        "start_time": "2022-03-12T11:54:49.068Z"
      },
      {
        "duration": 16,
        "start_time": "2022-03-12T11:54:49.405Z"
      },
      {
        "duration": 455,
        "start_time": "2022-03-12T11:54:49.423Z"
      },
      {
        "duration": 16,
        "start_time": "2022-03-12T11:54:49.879Z"
      },
      {
        "duration": 349,
        "start_time": "2022-03-12T11:54:49.896Z"
      },
      {
        "duration": 16,
        "start_time": "2022-03-12T11:54:50.247Z"
      },
      {
        "duration": 355,
        "start_time": "2022-03-12T11:54:50.265Z"
      },
      {
        "duration": 6,
        "start_time": "2022-03-12T11:54:50.622Z"
      },
      {
        "duration": 7,
        "start_time": "2022-03-12T11:54:50.630Z"
      },
      {
        "duration": 7,
        "start_time": "2022-03-12T11:54:50.639Z"
      },
      {
        "duration": 7,
        "start_time": "2022-03-12T11:59:00.614Z"
      },
      {
        "duration": 7,
        "start_time": "2022-03-12T12:00:16.533Z"
      },
      {
        "duration": 6,
        "start_time": "2022-03-12T12:01:04.917Z"
      },
      {
        "duration": 6,
        "start_time": "2022-03-12T12:01:09.396Z"
      },
      {
        "duration": 5,
        "start_time": "2022-03-12T12:01:10.820Z"
      },
      {
        "duration": 8,
        "start_time": "2022-03-12T12:01:12.477Z"
      },
      {
        "duration": 5,
        "start_time": "2022-03-12T12:01:14.069Z"
      },
      {
        "duration": 5,
        "start_time": "2022-03-12T12:01:21.180Z"
      },
      {
        "duration": 9,
        "start_time": "2022-03-12T12:01:46.717Z"
      },
      {
        "duration": 5,
        "start_time": "2022-03-12T12:02:00.548Z"
      },
      {
        "duration": 8,
        "start_time": "2022-03-12T12:02:06.900Z"
      },
      {
        "duration": 7,
        "start_time": "2022-03-12T12:02:08.677Z"
      },
      {
        "duration": 7,
        "start_time": "2022-03-12T12:02:15.092Z"
      },
      {
        "duration": 87,
        "start_time": "2022-03-12T12:02:21.316Z"
      },
      {
        "duration": 7,
        "start_time": "2022-03-12T12:02:26.517Z"
      },
      {
        "duration": 5,
        "start_time": "2022-03-12T12:02:35.737Z"
      },
      {
        "duration": 7,
        "start_time": "2022-03-12T12:02:37.123Z"
      },
      {
        "duration": 4,
        "start_time": "2022-03-12T12:02:56.308Z"
      },
      {
        "duration": 59,
        "start_time": "2022-03-12T12:02:58.116Z"
      },
      {
        "duration": 7,
        "start_time": "2022-03-12T12:03:02.892Z"
      },
      {
        "duration": 5,
        "start_time": "2022-03-12T12:03:20.316Z"
      },
      {
        "duration": 8,
        "start_time": "2022-03-12T12:27:04.569Z"
      },
      {
        "duration": 951,
        "start_time": "2022-03-13T06:35:06.355Z"
      },
      {
        "duration": 165,
        "start_time": "2022-03-13T06:35:07.308Z"
      },
      {
        "duration": 13,
        "start_time": "2022-03-13T06:35:07.475Z"
      },
      {
        "duration": 152,
        "start_time": "2022-03-13T06:35:07.490Z"
      },
      {
        "duration": 94,
        "start_time": "2022-03-13T06:35:07.644Z"
      },
      {
        "duration": 13,
        "start_time": "2022-03-13T06:35:07.740Z"
      },
      {
        "duration": 13,
        "start_time": "2022-03-13T06:35:07.755Z"
      },
      {
        "duration": 19,
        "start_time": "2022-03-13T06:35:07.770Z"
      },
      {
        "duration": 4,
        "start_time": "2022-03-13T06:35:07.791Z"
      },
      {
        "duration": 7,
        "start_time": "2022-03-13T06:35:07.796Z"
      },
      {
        "duration": 676,
        "start_time": "2022-03-13T06:35:07.804Z"
      },
      {
        "duration": 698,
        "start_time": "2022-03-13T06:35:08.482Z"
      },
      {
        "duration": 51,
        "start_time": "2022-03-13T06:35:09.181Z"
      },
      {
        "duration": 31,
        "start_time": "2022-03-13T06:35:09.233Z"
      },
      {
        "duration": 472,
        "start_time": "2022-03-13T06:35:09.265Z"
      },
      {
        "duration": 34,
        "start_time": "2022-03-13T06:35:09.739Z"
      },
      {
        "duration": 23,
        "start_time": "2022-03-13T06:35:09.775Z"
      },
      {
        "duration": 7,
        "start_time": "2022-03-13T06:35:09.799Z"
      },
      {
        "duration": 59,
        "start_time": "2022-03-13T06:35:09.808Z"
      },
      {
        "duration": 29,
        "start_time": "2022-03-13T06:35:09.868Z"
      },
      {
        "duration": 7,
        "start_time": "2022-03-13T06:35:09.899Z"
      },
      {
        "duration": 19,
        "start_time": "2022-03-13T06:35:09.908Z"
      },
      {
        "duration": 7,
        "start_time": "2022-03-13T06:35:09.930Z"
      },
      {
        "duration": 53,
        "start_time": "2022-03-13T06:35:09.939Z"
      },
      {
        "duration": 33,
        "start_time": "2022-03-13T06:35:09.994Z"
      },
      {
        "duration": 7,
        "start_time": "2022-03-13T06:35:10.029Z"
      },
      {
        "duration": 34,
        "start_time": "2022-03-13T06:35:10.038Z"
      },
      {
        "duration": 5,
        "start_time": "2022-03-13T06:35:10.074Z"
      },
      {
        "duration": 8,
        "start_time": "2022-03-13T06:35:10.081Z"
      },
      {
        "duration": 4,
        "start_time": "2022-03-13T06:35:10.091Z"
      },
      {
        "duration": 11,
        "start_time": "2022-03-13T06:35:10.097Z"
      },
      {
        "duration": 10,
        "start_time": "2022-03-13T06:35:10.110Z"
      },
      {
        "duration": 8,
        "start_time": "2022-03-13T06:35:10.122Z"
      },
      {
        "duration": 4,
        "start_time": "2022-03-13T06:35:10.163Z"
      },
      {
        "duration": 8,
        "start_time": "2022-03-13T06:35:10.169Z"
      },
      {
        "duration": 14,
        "start_time": "2022-03-13T06:35:10.179Z"
      },
      {
        "duration": 9,
        "start_time": "2022-03-13T06:35:10.194Z"
      },
      {
        "duration": 11,
        "start_time": "2022-03-13T06:35:10.204Z"
      },
      {
        "duration": 14,
        "start_time": "2022-03-13T06:35:10.217Z"
      },
      {
        "duration": 25,
        "start_time": "2022-03-13T06:35:10.232Z"
      },
      {
        "duration": 28,
        "start_time": "2022-03-13T06:35:10.259Z"
      },
      {
        "duration": 7,
        "start_time": "2022-03-13T06:35:10.288Z"
      },
      {
        "duration": 15,
        "start_time": "2022-03-13T06:35:10.296Z"
      },
      {
        "duration": 11,
        "start_time": "2022-03-13T06:35:10.313Z"
      },
      {
        "duration": 26,
        "start_time": "2022-03-13T06:35:10.326Z"
      },
      {
        "duration": 4,
        "start_time": "2022-03-13T06:35:10.354Z"
      },
      {
        "duration": 31,
        "start_time": "2022-03-13T06:35:10.363Z"
      },
      {
        "duration": 22,
        "start_time": "2022-03-13T06:35:10.396Z"
      },
      {
        "duration": 17,
        "start_time": "2022-03-13T06:35:10.420Z"
      },
      {
        "duration": 359,
        "start_time": "2022-03-13T06:35:10.438Z"
      },
      {
        "duration": 18,
        "start_time": "2022-03-13T06:35:10.799Z"
      },
      {
        "duration": 492,
        "start_time": "2022-03-13T06:35:10.818Z"
      },
      {
        "duration": 17,
        "start_time": "2022-03-13T06:35:11.311Z"
      },
      {
        "duration": 376,
        "start_time": "2022-03-13T06:35:11.329Z"
      },
      {
        "duration": 17,
        "start_time": "2022-03-13T06:35:11.706Z"
      },
      {
        "duration": 393,
        "start_time": "2022-03-13T06:35:11.725Z"
      },
      {
        "duration": 6,
        "start_time": "2022-03-13T06:35:12.120Z"
      },
      {
        "duration": 8,
        "start_time": "2022-03-13T06:35:12.127Z"
      },
      {
        "duration": 5,
        "start_time": "2022-03-13T06:35:12.136Z"
      },
      {
        "duration": 22,
        "start_time": "2022-03-13T06:35:12.143Z"
      },
      {
        "duration": 4,
        "start_time": "2022-03-13T06:35:12.167Z"
      },
      {
        "duration": 8,
        "start_time": "2022-03-13T06:35:12.173Z"
      },
      {
        "duration": 6,
        "start_time": "2022-03-13T06:35:12.182Z"
      },
      {
        "duration": 17,
        "start_time": "2022-03-13T06:39:24.026Z"
      },
      {
        "duration": 6,
        "start_time": "2022-03-13T06:43:34.869Z"
      },
      {
        "duration": 15,
        "start_time": "2022-03-13T06:46:49.634Z"
      },
      {
        "duration": 432,
        "start_time": "2022-03-13T06:47:33.802Z"
      },
      {
        "duration": 324,
        "start_time": "2022-03-13T06:47:37.884Z"
      },
      {
        "duration": 340,
        "start_time": "2022-03-13T06:47:44.437Z"
      },
      {
        "duration": 355,
        "start_time": "2022-03-13T06:48:07.943Z"
      },
      {
        "duration": 341,
        "start_time": "2022-03-13T06:52:48.307Z"
      },
      {
        "duration": 328,
        "start_time": "2022-03-13T06:52:58.977Z"
      },
      {
        "duration": 929,
        "start_time": "2022-03-13T06:53:14.872Z"
      },
      {
        "duration": 270,
        "start_time": "2022-03-13T06:53:15.802Z"
      },
      {
        "duration": 14,
        "start_time": "2022-03-13T06:53:16.074Z"
      },
      {
        "duration": 7,
        "start_time": "2022-03-13T06:53:16.090Z"
      },
      {
        "duration": 17,
        "start_time": "2022-03-13T06:53:16.099Z"
      },
      {
        "duration": 472,
        "start_time": "2022-03-13T06:53:16.118Z"
      },
      {
        "duration": 133,
        "start_time": "2022-03-13T06:53:16.592Z"
      },
      {
        "duration": 94,
        "start_time": "2022-03-13T06:53:16.729Z"
      },
      {
        "duration": 14,
        "start_time": "2022-03-13T06:53:16.826Z"
      },
      {
        "duration": 9,
        "start_time": "2022-03-13T06:53:16.842Z"
      },
      {
        "duration": 19,
        "start_time": "2022-03-13T06:53:16.863Z"
      },
      {
        "duration": 4,
        "start_time": "2022-03-13T06:53:16.884Z"
      },
      {
        "duration": 8,
        "start_time": "2022-03-13T06:53:16.889Z"
      },
      {
        "duration": 618,
        "start_time": "2022-03-13T06:53:16.899Z"
      },
      {
        "duration": 514,
        "start_time": "2022-03-13T06:53:17.518Z"
      },
      {
        "duration": 56,
        "start_time": "2022-03-13T06:53:18.033Z"
      },
      {
        "duration": 12,
        "start_time": "2022-03-13T06:53:18.091Z"
      },
      {
        "duration": 358,
        "start_time": "2022-03-13T06:53:18.104Z"
      },
      {
        "duration": 25,
        "start_time": "2022-03-13T06:53:18.464Z"
      },
      {
        "duration": 21,
        "start_time": "2022-03-13T06:53:18.491Z"
      },
      {
        "duration": 9,
        "start_time": "2022-03-13T06:53:18.514Z"
      },
      {
        "duration": 59,
        "start_time": "2022-03-13T06:53:18.525Z"
      },
      {
        "duration": 27,
        "start_time": "2022-03-13T06:53:18.588Z"
      },
      {
        "duration": 7,
        "start_time": "2022-03-13T06:53:18.617Z"
      },
      {
        "duration": 18,
        "start_time": "2022-03-13T06:53:18.625Z"
      },
      {
        "duration": 22,
        "start_time": "2022-03-13T06:53:18.645Z"
      },
      {
        "duration": 35,
        "start_time": "2022-03-13T06:53:18.669Z"
      },
      {
        "duration": 32,
        "start_time": "2022-03-13T06:53:18.706Z"
      },
      {
        "duration": 24,
        "start_time": "2022-03-13T06:53:18.739Z"
      },
      {
        "duration": 11,
        "start_time": "2022-03-13T06:53:18.764Z"
      },
      {
        "duration": 6,
        "start_time": "2022-03-13T06:53:18.777Z"
      },
      {
        "duration": 7,
        "start_time": "2022-03-13T06:53:18.785Z"
      },
      {
        "duration": 5,
        "start_time": "2022-03-13T06:53:18.794Z"
      },
      {
        "duration": 11,
        "start_time": "2022-03-13T06:53:18.801Z"
      },
      {
        "duration": 51,
        "start_time": "2022-03-13T06:53:18.813Z"
      },
      {
        "duration": 7,
        "start_time": "2022-03-13T06:53:18.866Z"
      },
      {
        "duration": 4,
        "start_time": "2022-03-13T06:53:18.875Z"
      },
      {
        "duration": 8,
        "start_time": "2022-03-13T06:53:18.881Z"
      },
      {
        "duration": 10,
        "start_time": "2022-03-13T06:53:18.890Z"
      },
      {
        "duration": 7,
        "start_time": "2022-03-13T06:53:18.902Z"
      },
      {
        "duration": 4,
        "start_time": "2022-03-13T06:53:18.911Z"
      },
      {
        "duration": 5,
        "start_time": "2022-03-13T06:53:18.917Z"
      },
      {
        "duration": 16,
        "start_time": "2022-03-13T06:53:18.923Z"
      },
      {
        "duration": 16,
        "start_time": "2022-03-13T06:53:18.963Z"
      },
      {
        "duration": 5,
        "start_time": "2022-03-13T06:53:18.980Z"
      },
      {
        "duration": 10,
        "start_time": "2022-03-13T06:53:18.986Z"
      },
      {
        "duration": 9,
        "start_time": "2022-03-13T06:53:18.998Z"
      },
      {
        "duration": 18,
        "start_time": "2022-03-13T06:53:19.009Z"
      },
      {
        "duration": 6,
        "start_time": "2022-03-13T06:53:19.028Z"
      },
      {
        "duration": 43,
        "start_time": "2022-03-13T06:53:19.036Z"
      },
      {
        "duration": 20,
        "start_time": "2022-03-13T06:53:19.081Z"
      },
      {
        "duration": 17,
        "start_time": "2022-03-13T06:53:19.103Z"
      },
      {
        "duration": 351,
        "start_time": "2022-03-13T06:53:19.121Z"
      },
      {
        "duration": 17,
        "start_time": "2022-03-13T06:53:19.473Z"
      },
      {
        "duration": 487,
        "start_time": "2022-03-13T06:53:19.491Z"
      },
      {
        "duration": 17,
        "start_time": "2022-03-13T06:53:19.979Z"
      },
      {
        "duration": 382,
        "start_time": "2022-03-13T06:53:19.997Z"
      },
      {
        "duration": 17,
        "start_time": "2022-03-13T06:53:20.380Z"
      },
      {
        "duration": 550,
        "start_time": "2022-03-13T06:53:20.399Z"
      },
      {
        "duration": 13,
        "start_time": "2022-03-13T06:53:20.951Z"
      },
      {
        "duration": 10,
        "start_time": "2022-03-13T06:53:20.965Z"
      },
      {
        "duration": 10,
        "start_time": "2022-03-13T06:53:20.977Z"
      },
      {
        "duration": 17,
        "start_time": "2022-03-13T06:53:20.988Z"
      },
      {
        "duration": 7,
        "start_time": "2022-03-13T06:53:21.007Z"
      },
      {
        "duration": 20,
        "start_time": "2022-03-13T06:53:21.015Z"
      },
      {
        "duration": 19,
        "start_time": "2022-03-13T06:53:21.036Z"
      },
      {
        "duration": 9,
        "start_time": "2022-03-13T06:53:59.971Z"
      },
      {
        "duration": 250,
        "start_time": "2022-03-13T06:54:50.573Z"
      },
      {
        "duration": 5,
        "start_time": "2022-03-13T06:55:03.269Z"
      },
      {
        "duration": 8,
        "start_time": "2022-03-13T06:55:46.795Z"
      },
      {
        "duration": 6,
        "start_time": "2022-03-13T06:55:46.925Z"
      },
      {
        "duration": 14,
        "start_time": "2022-03-13T07:00:24.177Z"
      },
      {
        "duration": 356,
        "start_time": "2022-03-13T07:01:03.177Z"
      },
      {
        "duration": 346,
        "start_time": "2022-03-13T07:01:08.345Z"
      },
      {
        "duration": 1136,
        "start_time": "2022-03-13T07:01:45.423Z"
      },
      {
        "duration": 19,
        "start_time": "2022-03-13T07:02:15.752Z"
      },
      {
        "duration": 323,
        "start_time": "2022-03-13T07:02:57.840Z"
      },
      {
        "duration": 56,
        "start_time": "2022-03-13T07:12:12.060Z"
      },
      {
        "duration": 8,
        "start_time": "2022-03-13T07:12:14.619Z"
      },
      {
        "duration": 5,
        "start_time": "2022-03-13T07:12:42.365Z"
      },
      {
        "duration": 266,
        "start_time": "2022-03-13T07:32:02.067Z"
      },
      {
        "duration": 215,
        "start_time": "2022-03-13T07:32:05.762Z"
      },
      {
        "duration": 98,
        "start_time": "2022-03-13T07:32:11.436Z"
      },
      {
        "duration": 200,
        "start_time": "2022-03-13T07:35:47.177Z"
      },
      {
        "duration": 4,
        "start_time": "2022-03-13T07:35:53.560Z"
      },
      {
        "duration": 7,
        "start_time": "2022-03-13T07:36:51.784Z"
      },
      {
        "duration": 66,
        "start_time": "2022-03-13T07:38:59.967Z"
      },
      {
        "duration": 891,
        "start_time": "2022-03-13T07:40:39.215Z"
      },
      {
        "duration": 167,
        "start_time": "2022-03-13T07:40:40.108Z"
      },
      {
        "duration": 15,
        "start_time": "2022-03-13T07:40:40.278Z"
      },
      {
        "duration": 15,
        "start_time": "2022-03-13T07:40:40.296Z"
      },
      {
        "duration": 19,
        "start_time": "2022-03-13T07:40:40.313Z"
      },
      {
        "duration": 475,
        "start_time": "2022-03-13T07:40:40.334Z"
      },
      {
        "duration": 143,
        "start_time": "2022-03-13T07:40:40.810Z"
      },
      {
        "duration": 14,
        "start_time": "2022-03-13T07:40:40.955Z"
      },
      {
        "duration": 5,
        "start_time": "2022-03-13T07:40:40.971Z"
      },
      {
        "duration": 13,
        "start_time": "2022-03-13T07:40:40.978Z"
      },
      {
        "duration": 15,
        "start_time": "2022-03-13T07:40:40.993Z"
      },
      {
        "duration": 365,
        "start_time": "2022-03-13T07:40:41.009Z"
      },
      {
        "duration": 99,
        "start_time": "2022-03-13T07:40:41.376Z"
      },
      {
        "duration": 7,
        "start_time": "2022-03-13T07:40:41.477Z"
      },
      {
        "duration": 6,
        "start_time": "2022-03-13T07:40:41.485Z"
      },
      {
        "duration": 13,
        "start_time": "2022-03-13T07:40:41.493Z"
      },
      {
        "duration": 11,
        "start_time": "2022-03-13T07:40:41.507Z"
      },
      {
        "duration": 24,
        "start_time": "2022-03-13T07:40:41.519Z"
      },
      {
        "duration": 5,
        "start_time": "2022-03-13T07:40:41.545Z"
      },
      {
        "duration": 5,
        "start_time": "2022-03-13T07:40:41.563Z"
      },
      {
        "duration": 83,
        "start_time": "2022-03-13T07:40:41.569Z"
      },
      {
        "duration": 10,
        "start_time": "2022-03-13T07:40:41.654Z"
      },
      {
        "duration": 10,
        "start_time": "2022-03-13T07:40:41.668Z"
      },
      {
        "duration": 21,
        "start_time": "2022-03-13T07:40:41.681Z"
      },
      {
        "duration": 22,
        "start_time": "2022-03-13T07:40:41.704Z"
      },
      {
        "duration": 7,
        "start_time": "2022-03-13T07:40:41.727Z"
      },
      {
        "duration": 44,
        "start_time": "2022-03-13T07:40:41.764Z"
      },
      {
        "duration": 29,
        "start_time": "2022-03-13T07:40:41.810Z"
      },
      {
        "duration": 8,
        "start_time": "2022-03-13T07:40:41.840Z"
      },
      {
        "duration": 14,
        "start_time": "2022-03-13T07:40:41.863Z"
      },
      {
        "duration": 7,
        "start_time": "2022-03-13T07:40:41.879Z"
      },
      {
        "duration": 33,
        "start_time": "2022-03-13T07:40:41.887Z"
      },
      {
        "duration": 55,
        "start_time": "2022-03-13T07:40:41.921Z"
      },
      {
        "duration": 6,
        "start_time": "2022-03-13T07:40:41.978Z"
      },
      {
        "duration": 14,
        "start_time": "2022-03-13T07:40:41.986Z"
      },
      {
        "duration": 10,
        "start_time": "2022-03-13T07:40:42.002Z"
      },
      {
        "duration": 6,
        "start_time": "2022-03-13T07:40:42.014Z"
      },
      {
        "duration": 4,
        "start_time": "2022-03-13T07:40:42.022Z"
      },
      {
        "duration": 39,
        "start_time": "2022-03-13T07:40:42.028Z"
      },
      {
        "duration": 12,
        "start_time": "2022-03-13T07:40:42.069Z"
      },
      {
        "duration": 7,
        "start_time": "2022-03-13T07:40:42.083Z"
      },
      {
        "duration": 6,
        "start_time": "2022-03-13T07:40:42.092Z"
      },
      {
        "duration": 6,
        "start_time": "2022-03-13T07:40:42.099Z"
      },
      {
        "duration": 12,
        "start_time": "2022-03-13T07:40:42.107Z"
      },
      {
        "duration": 12,
        "start_time": "2022-03-13T07:40:42.121Z"
      },
      {
        "duration": 29,
        "start_time": "2022-03-13T07:40:42.135Z"
      },
      {
        "duration": 6,
        "start_time": "2022-03-13T07:40:42.166Z"
      },
      {
        "duration": 18,
        "start_time": "2022-03-13T07:40:42.174Z"
      },
      {
        "duration": 20,
        "start_time": "2022-03-13T07:40:42.194Z"
      },
      {
        "duration": 6,
        "start_time": "2022-03-13T07:40:42.216Z"
      },
      {
        "duration": 4,
        "start_time": "2022-03-13T07:40:42.223Z"
      },
      {
        "duration": 35,
        "start_time": "2022-03-13T07:40:42.228Z"
      },
      {
        "duration": 21,
        "start_time": "2022-03-13T07:40:42.265Z"
      },
      {
        "duration": 7,
        "start_time": "2022-03-13T07:40:42.287Z"
      },
      {
        "duration": 35,
        "start_time": "2022-03-13T07:40:42.296Z"
      },
      {
        "duration": 35,
        "start_time": "2022-03-13T07:40:42.332Z"
      },
      {
        "duration": 19,
        "start_time": "2022-03-13T07:40:42.368Z"
      },
      {
        "duration": 347,
        "start_time": "2022-03-13T07:40:42.388Z"
      },
      {
        "duration": 28,
        "start_time": "2022-03-13T07:40:42.736Z"
      },
      {
        "duration": 486,
        "start_time": "2022-03-13T07:40:42.766Z"
      },
      {
        "duration": 24,
        "start_time": "2022-03-13T07:40:43.254Z"
      },
      {
        "duration": 383,
        "start_time": "2022-03-13T07:40:43.280Z"
      },
      {
        "duration": 18,
        "start_time": "2022-03-13T07:40:43.664Z"
      },
      {
        "duration": 454,
        "start_time": "2022-03-13T07:40:43.683Z"
      },
      {
        "duration": 7,
        "start_time": "2022-03-13T07:40:44.139Z"
      },
      {
        "duration": 19,
        "start_time": "2022-03-13T07:40:44.147Z"
      },
      {
        "duration": 9,
        "start_time": "2022-03-13T07:40:44.168Z"
      },
      {
        "duration": 6,
        "start_time": "2022-03-13T07:40:44.181Z"
      },
      {
        "duration": 8,
        "start_time": "2022-03-13T07:40:44.189Z"
      },
      {
        "duration": 9,
        "start_time": "2022-03-13T07:40:44.198Z"
      },
      {
        "duration": 12,
        "start_time": "2022-03-13T07:40:44.208Z"
      },
      {
        "duration": 9,
        "start_time": "2022-03-13T07:46:14.684Z"
      },
      {
        "duration": 17,
        "start_time": "2022-03-13T07:51:39.634Z"
      },
      {
        "duration": 10,
        "start_time": "2022-03-13T07:56:37.343Z"
      },
      {
        "duration": 4,
        "start_time": "2022-03-13T07:56:57.407Z"
      },
      {
        "duration": 9,
        "start_time": "2022-03-13T07:56:59.295Z"
      },
      {
        "duration": 17,
        "start_time": "2022-03-13T07:58:31.888Z"
      },
      {
        "duration": 18,
        "start_time": "2022-03-13T08:02:53.031Z"
      },
      {
        "duration": 11,
        "start_time": "2022-03-13T08:03:16.284Z"
      },
      {
        "duration": 9,
        "start_time": "2022-03-13T08:03:25.359Z"
      },
      {
        "duration": 879,
        "start_time": "2022-03-13T08:06:21.914Z"
      },
      {
        "duration": 165,
        "start_time": "2022-03-13T08:06:22.795Z"
      },
      {
        "duration": 13,
        "start_time": "2022-03-13T08:06:22.962Z"
      },
      {
        "duration": 7,
        "start_time": "2022-03-13T08:06:22.977Z"
      },
      {
        "duration": 16,
        "start_time": "2022-03-13T08:06:22.985Z"
      },
      {
        "duration": 483,
        "start_time": "2022-03-13T08:06:23.002Z"
      },
      {
        "duration": 147,
        "start_time": "2022-03-13T08:06:23.487Z"
      },
      {
        "duration": 8,
        "start_time": "2022-03-13T08:06:23.636Z"
      },
      {
        "duration": 17,
        "start_time": "2022-03-13T08:06:23.646Z"
      },
      {
        "duration": 13,
        "start_time": "2022-03-13T08:06:23.665Z"
      },
      {
        "duration": 14,
        "start_time": "2022-03-13T08:06:23.679Z"
      },
      {
        "duration": 378,
        "start_time": "2022-03-13T08:06:23.695Z"
      },
      {
        "duration": 109,
        "start_time": "2022-03-13T08:06:24.075Z"
      },
      {
        "duration": 7,
        "start_time": "2022-03-13T08:06:24.186Z"
      },
      {
        "duration": 5,
        "start_time": "2022-03-13T08:06:24.195Z"
      },
      {
        "duration": 15,
        "start_time": "2022-03-13T08:06:24.201Z"
      },
      {
        "duration": 11,
        "start_time": "2022-03-13T08:06:24.217Z"
      },
      {
        "duration": 23,
        "start_time": "2022-03-13T08:06:24.230Z"
      },
      {
        "duration": 11,
        "start_time": "2022-03-13T08:06:24.255Z"
      },
      {
        "duration": 7,
        "start_time": "2022-03-13T08:06:24.267Z"
      },
      {
        "duration": 69,
        "start_time": "2022-03-13T08:06:24.276Z"
      },
      {
        "duration": 6,
        "start_time": "2022-03-13T08:06:24.363Z"
      },
      {
        "duration": 11,
        "start_time": "2022-03-13T08:06:24.373Z"
      },
      {
        "duration": 20,
        "start_time": "2022-03-13T08:06:24.387Z"
      },
      {
        "duration": 9,
        "start_time": "2022-03-13T08:06:24.409Z"
      },
      {
        "duration": 50,
        "start_time": "2022-03-13T08:06:24.419Z"
      },
      {
        "duration": 39,
        "start_time": "2022-03-13T08:06:24.471Z"
      },
      {
        "duration": 20,
        "start_time": "2022-03-13T08:06:24.512Z"
      },
      {
        "duration": 7,
        "start_time": "2022-03-13T08:06:24.534Z"
      },
      {
        "duration": 10,
        "start_time": "2022-03-13T08:06:24.562Z"
      },
      {
        "duration": 21,
        "start_time": "2022-03-13T08:06:24.574Z"
      },
      {
        "duration": 13,
        "start_time": "2022-03-13T08:06:24.597Z"
      },
      {
        "duration": 10,
        "start_time": "2022-03-13T08:06:24.612Z"
      },
      {
        "duration": 41,
        "start_time": "2022-03-13T08:06:24.624Z"
      },
      {
        "duration": 20,
        "start_time": "2022-03-13T08:06:24.667Z"
      },
      {
        "duration": 7,
        "start_time": "2022-03-13T08:06:24.689Z"
      },
      {
        "duration": 11,
        "start_time": "2022-03-13T08:06:24.697Z"
      },
      {
        "duration": 8,
        "start_time": "2022-03-13T08:06:24.710Z"
      },
      {
        "duration": 9,
        "start_time": "2022-03-13T08:06:24.720Z"
      },
      {
        "duration": 33,
        "start_time": "2022-03-13T08:06:24.731Z"
      },
      {
        "duration": 14,
        "start_time": "2022-03-13T08:06:24.766Z"
      },
      {
        "duration": 17,
        "start_time": "2022-03-13T08:06:24.781Z"
      },
      {
        "duration": 9,
        "start_time": "2022-03-13T08:06:24.800Z"
      },
      {
        "duration": 7,
        "start_time": "2022-03-13T08:06:24.811Z"
      },
      {
        "duration": 8,
        "start_time": "2022-03-13T08:06:24.819Z"
      },
      {
        "duration": 11,
        "start_time": "2022-03-13T08:06:24.829Z"
      },
      {
        "duration": 25,
        "start_time": "2022-03-13T08:06:24.841Z"
      },
      {
        "duration": 5,
        "start_time": "2022-03-13T08:06:24.868Z"
      },
      {
        "duration": 4479,
        "start_time": "2022-03-13T08:06:24.874Z"
      },
      {
        "duration": 1430,
        "start_time": "2022-03-13T08:06:27.925Z"
      },
      {
        "duration": 1427,
        "start_time": "2022-03-13T08:06:27.929Z"
      },
      {
        "duration": 1423,
        "start_time": "2022-03-13T08:06:27.934Z"
      },
      {
        "duration": 1414,
        "start_time": "2022-03-13T08:06:27.944Z"
      },
      {
        "duration": 1412,
        "start_time": "2022-03-13T08:06:27.947Z"
      },
      {
        "duration": 1409,
        "start_time": "2022-03-13T08:06:27.950Z"
      },
      {
        "duration": 1401,
        "start_time": "2022-03-13T08:06:27.959Z"
      },
      {
        "duration": 1400,
        "start_time": "2022-03-13T08:06:27.961Z"
      },
      {
        "duration": 1398,
        "start_time": "2022-03-13T08:06:27.964Z"
      },
      {
        "duration": 1396,
        "start_time": "2022-03-13T08:06:27.967Z"
      },
      {
        "duration": 1388,
        "start_time": "2022-03-13T08:06:27.976Z"
      },
      {
        "duration": 1386,
        "start_time": "2022-03-13T08:06:27.979Z"
      },
      {
        "duration": 1385,
        "start_time": "2022-03-13T08:06:27.980Z"
      },
      {
        "duration": 1383,
        "start_time": "2022-03-13T08:06:27.983Z"
      },
      {
        "duration": 1377,
        "start_time": "2022-03-13T08:06:27.990Z"
      },
      {
        "duration": 1376,
        "start_time": "2022-03-13T08:06:27.992Z"
      },
      {
        "duration": 1375,
        "start_time": "2022-03-13T08:06:27.994Z"
      },
      {
        "duration": 1374,
        "start_time": "2022-03-13T08:06:27.996Z"
      },
      {
        "duration": 1372,
        "start_time": "2022-03-13T08:06:27.999Z"
      },
      {
        "duration": 1365,
        "start_time": "2022-03-13T08:06:28.007Z"
      },
      {
        "duration": 1363,
        "start_time": "2022-03-13T08:06:28.010Z"
      },
      {
        "duration": 1361,
        "start_time": "2022-03-13T08:06:28.012Z"
      },
      {
        "duration": 1360,
        "start_time": "2022-03-13T08:06:28.014Z"
      },
      {
        "duration": 1359,
        "start_time": "2022-03-13T08:06:28.016Z"
      },
      {
        "duration": 936,
        "start_time": "2022-03-13T08:08:22.767Z"
      },
      {
        "duration": 162,
        "start_time": "2022-03-13T08:08:23.705Z"
      },
      {
        "duration": 14,
        "start_time": "2022-03-13T08:08:23.869Z"
      },
      {
        "duration": 10,
        "start_time": "2022-03-13T08:08:23.885Z"
      },
      {
        "duration": 16,
        "start_time": "2022-03-13T08:08:23.897Z"
      },
      {
        "duration": 494,
        "start_time": "2022-03-13T08:08:23.915Z"
      },
      {
        "duration": 150,
        "start_time": "2022-03-13T08:08:24.411Z"
      },
      {
        "duration": 8,
        "start_time": "2022-03-13T08:08:24.564Z"
      },
      {
        "duration": 13,
        "start_time": "2022-03-13T08:08:24.575Z"
      },
      {
        "duration": 35,
        "start_time": "2022-03-13T08:08:24.590Z"
      },
      {
        "duration": 24,
        "start_time": "2022-03-13T08:08:24.627Z"
      },
      {
        "duration": 357,
        "start_time": "2022-03-13T08:08:24.653Z"
      },
      {
        "duration": 105,
        "start_time": "2022-03-13T08:08:25.012Z"
      },
      {
        "duration": 7,
        "start_time": "2022-03-13T08:08:25.119Z"
      },
      {
        "duration": 19,
        "start_time": "2022-03-13T08:08:25.128Z"
      },
      {
        "duration": 18,
        "start_time": "2022-03-13T08:08:25.149Z"
      },
      {
        "duration": 25,
        "start_time": "2022-03-13T08:08:25.170Z"
      },
      {
        "duration": 44,
        "start_time": "2022-03-13T08:08:25.197Z"
      },
      {
        "duration": 12,
        "start_time": "2022-03-13T08:08:25.243Z"
      },
      {
        "duration": 24,
        "start_time": "2022-03-13T08:08:25.256Z"
      },
      {
        "duration": 84,
        "start_time": "2022-03-13T08:08:25.282Z"
      },
      {
        "duration": 7,
        "start_time": "2022-03-13T08:08:25.368Z"
      },
      {
        "duration": 18,
        "start_time": "2022-03-13T08:08:25.379Z"
      },
      {
        "duration": 27,
        "start_time": "2022-03-13T08:08:25.400Z"
      },
      {
        "duration": 9,
        "start_time": "2022-03-13T08:08:25.429Z"
      },
      {
        "duration": 40,
        "start_time": "2022-03-13T08:08:25.440Z"
      },
      {
        "duration": 42,
        "start_time": "2022-03-13T08:08:25.482Z"
      },
      {
        "duration": 37,
        "start_time": "2022-03-13T08:08:25.526Z"
      },
      {
        "duration": 8,
        "start_time": "2022-03-13T08:08:25.565Z"
      },
      {
        "duration": 31,
        "start_time": "2022-03-13T08:08:25.574Z"
      },
      {
        "duration": 27,
        "start_time": "2022-03-13T08:08:25.607Z"
      },
      {
        "duration": 21,
        "start_time": "2022-03-13T08:08:25.636Z"
      },
      {
        "duration": 16,
        "start_time": "2022-03-13T08:08:25.659Z"
      },
      {
        "duration": 40,
        "start_time": "2022-03-13T08:08:25.676Z"
      },
      {
        "duration": 23,
        "start_time": "2022-03-13T08:08:25.718Z"
      },
      {
        "duration": 20,
        "start_time": "2022-03-13T08:08:25.743Z"
      },
      {
        "duration": 11,
        "start_time": "2022-03-13T08:08:25.765Z"
      },
      {
        "duration": 41,
        "start_time": "2022-03-13T08:08:25.778Z"
      },
      {
        "duration": 17,
        "start_time": "2022-03-13T08:08:25.821Z"
      },
      {
        "duration": 15,
        "start_time": "2022-03-13T08:08:25.840Z"
      },
      {
        "duration": 26,
        "start_time": "2022-03-13T08:08:25.857Z"
      },
      {
        "duration": 25,
        "start_time": "2022-03-13T08:08:25.885Z"
      },
      {
        "duration": 19,
        "start_time": "2022-03-13T08:08:25.912Z"
      },
      {
        "duration": 26,
        "start_time": "2022-03-13T08:08:25.933Z"
      },
      {
        "duration": 16,
        "start_time": "2022-03-13T08:08:25.961Z"
      },
      {
        "duration": 17,
        "start_time": "2022-03-13T08:08:25.980Z"
      },
      {
        "duration": 26,
        "start_time": "2022-03-13T08:08:25.999Z"
      },
      {
        "duration": 12,
        "start_time": "2022-03-13T08:08:26.027Z"
      },
      {
        "duration": 22,
        "start_time": "2022-03-13T08:08:26.041Z"
      },
      {
        "duration": 43,
        "start_time": "2022-03-13T08:08:26.065Z"
      },
      {
        "duration": 27,
        "start_time": "2022-03-13T08:08:26.110Z"
      },
      {
        "duration": 8,
        "start_time": "2022-03-13T08:08:26.139Z"
      },
      {
        "duration": 13,
        "start_time": "2022-03-13T08:08:26.149Z"
      },
      {
        "duration": 29,
        "start_time": "2022-03-13T08:08:26.164Z"
      },
      {
        "duration": 34,
        "start_time": "2022-03-13T08:08:26.195Z"
      },
      {
        "duration": 6,
        "start_time": "2022-03-13T08:08:26.232Z"
      },
      {
        "duration": 53,
        "start_time": "2022-03-13T08:08:26.240Z"
      },
      {
        "duration": 21,
        "start_time": "2022-03-13T08:08:26.294Z"
      },
      {
        "duration": 16,
        "start_time": "2022-03-13T08:08:26.317Z"
      },
      {
        "duration": 360,
        "start_time": "2022-03-13T08:08:26.334Z"
      },
      {
        "duration": 17,
        "start_time": "2022-03-13T08:08:26.696Z"
      },
      {
        "duration": 504,
        "start_time": "2022-03-13T08:08:26.715Z"
      },
      {
        "duration": 17,
        "start_time": "2022-03-13T08:08:27.221Z"
      },
      {
        "duration": 400,
        "start_time": "2022-03-13T08:08:27.240Z"
      },
      {
        "duration": 25,
        "start_time": "2022-03-13T08:08:27.641Z"
      },
      {
        "duration": 457,
        "start_time": "2022-03-13T08:08:27.667Z"
      },
      {
        "duration": 7,
        "start_time": "2022-03-13T08:08:28.126Z"
      },
      {
        "duration": 35,
        "start_time": "2022-03-13T08:08:28.138Z"
      },
      {
        "duration": 26,
        "start_time": "2022-03-13T08:08:28.175Z"
      },
      {
        "duration": 42,
        "start_time": "2022-03-13T08:08:28.204Z"
      },
      {
        "duration": 18,
        "start_time": "2022-03-13T08:08:28.248Z"
      },
      {
        "duration": 41,
        "start_time": "2022-03-13T08:08:28.268Z"
      },
      {
        "duration": 41,
        "start_time": "2022-03-13T08:08:28.311Z"
      },
      {
        "duration": 12,
        "start_time": "2022-03-13T08:16:17.582Z"
      },
      {
        "duration": 55,
        "start_time": "2022-03-13T08:17:49.925Z"
      },
      {
        "duration": 3,
        "start_time": "2022-03-13T08:18:05.590Z"
      },
      {
        "duration": 11,
        "start_time": "2022-03-13T08:18:07.173Z"
      },
      {
        "duration": 6,
        "start_time": "2022-03-13T08:18:53.556Z"
      },
      {
        "duration": 12,
        "start_time": "2022-03-13T08:18:57.749Z"
      },
      {
        "duration": 21,
        "start_time": "2022-03-13T08:21:36.485Z"
      },
      {
        "duration": 60,
        "start_time": "2022-03-13T08:26:04.659Z"
      },
      {
        "duration": 5,
        "start_time": "2022-03-13T08:26:16.993Z"
      },
      {
        "duration": 5,
        "start_time": "2022-03-13T08:26:35.801Z"
      },
      {
        "duration": 10,
        "start_time": "2022-03-13T08:29:29.876Z"
      },
      {
        "duration": 7,
        "start_time": "2022-03-13T08:30:37.351Z"
      },
      {
        "duration": 55,
        "start_time": "2022-03-13T08:31:20.648Z"
      },
      {
        "duration": 65,
        "start_time": "2022-03-13T08:31:23.152Z"
      },
      {
        "duration": 21,
        "start_time": "2022-03-13T08:31:26.383Z"
      },
      {
        "duration": 31,
        "start_time": "2022-03-13T08:48:23.448Z"
      },
      {
        "duration": 32,
        "start_time": "2022-03-13T08:53:43.502Z"
      },
      {
        "duration": 53,
        "start_time": "2022-03-13T08:55:49.419Z"
      },
      {
        "duration": 8,
        "start_time": "2022-03-13T08:55:51.643Z"
      },
      {
        "duration": 6,
        "start_time": "2022-03-13T09:03:16.024Z"
      },
      {
        "duration": 8,
        "start_time": "2022-03-13T09:03:56.375Z"
      },
      {
        "duration": 7,
        "start_time": "2022-03-13T09:04:25.455Z"
      },
      {
        "duration": 13,
        "start_time": "2022-03-13T09:05:30.502Z"
      },
      {
        "duration": 7,
        "start_time": "2022-03-13T09:05:58.167Z"
      },
      {
        "duration": 7,
        "start_time": "2022-03-13T09:09:39.333Z"
      },
      {
        "duration": 7,
        "start_time": "2022-03-13T09:09:50.094Z"
      },
      {
        "duration": 7,
        "start_time": "2022-03-13T09:10:14.583Z"
      },
      {
        "duration": 8,
        "start_time": "2022-03-13T09:36:57.544Z"
      },
      {
        "duration": 10,
        "start_time": "2022-03-13T09:37:36.217Z"
      },
      {
        "duration": 9,
        "start_time": "2022-03-13T09:57:01.015Z"
      },
      {
        "duration": 7,
        "start_time": "2022-03-13T09:57:17.006Z"
      },
      {
        "duration": 435,
        "start_time": "2022-03-13T09:59:29.630Z"
      },
      {
        "duration": 510,
        "start_time": "2022-03-13T09:59:33.727Z"
      },
      {
        "duration": 403,
        "start_time": "2022-03-13T09:59:39.621Z"
      },
      {
        "duration": 428,
        "start_time": "2022-03-13T10:05:00.187Z"
      },
      {
        "duration": 428,
        "start_time": "2022-03-13T10:05:08.444Z"
      },
      {
        "duration": 581,
        "start_time": "2022-03-13T10:05:19.486Z"
      },
      {
        "duration": 806,
        "start_time": "2022-03-13T10:05:27.803Z"
      },
      {
        "duration": 643,
        "start_time": "2022-03-13T10:05:33.931Z"
      },
      {
        "duration": 600,
        "start_time": "2022-03-13T10:05:38.036Z"
      },
      {
        "duration": 466,
        "start_time": "2022-03-13T10:05:52.085Z"
      },
      {
        "duration": 504,
        "start_time": "2022-03-13T10:05:58.450Z"
      },
      {
        "duration": 431,
        "start_time": "2022-03-13T10:06:05.707Z"
      },
      {
        "duration": 8,
        "start_time": "2022-03-13T10:07:20.323Z"
      },
      {
        "duration": 7,
        "start_time": "2022-03-13T10:08:09.843Z"
      },
      {
        "duration": 4,
        "start_time": "2022-03-13T10:34:32.813Z"
      },
      {
        "duration": 5,
        "start_time": "2022-03-13T10:42:18.258Z"
      },
      {
        "duration": 1024,
        "start_time": "2022-03-13T11:01:02.193Z"
      },
      {
        "duration": 305,
        "start_time": "2022-03-13T11:01:03.219Z"
      },
      {
        "duration": 14,
        "start_time": "2022-03-13T11:01:03.527Z"
      },
      {
        "duration": 24,
        "start_time": "2022-03-13T11:01:03.543Z"
      },
      {
        "duration": 40,
        "start_time": "2022-03-13T11:01:03.570Z"
      },
      {
        "duration": 492,
        "start_time": "2022-03-13T11:01:03.612Z"
      },
      {
        "duration": 175,
        "start_time": "2022-03-13T11:01:04.105Z"
      },
      {
        "duration": 9,
        "start_time": "2022-03-13T11:01:04.284Z"
      },
      {
        "duration": 12,
        "start_time": "2022-03-13T11:01:04.295Z"
      },
      {
        "duration": 18,
        "start_time": "2022-03-13T11:01:04.309Z"
      },
      {
        "duration": 43,
        "start_time": "2022-03-13T11:01:04.329Z"
      },
      {
        "duration": 360,
        "start_time": "2022-03-13T11:01:04.374Z"
      },
      {
        "duration": 123,
        "start_time": "2022-03-13T11:01:04.736Z"
      },
      {
        "duration": 13,
        "start_time": "2022-03-13T11:01:04.863Z"
      },
      {
        "duration": 12,
        "start_time": "2022-03-13T11:01:04.882Z"
      },
      {
        "duration": 21,
        "start_time": "2022-03-13T11:01:04.896Z"
      },
      {
        "duration": 12,
        "start_time": "2022-03-13T11:01:04.919Z"
      },
      {
        "duration": 25,
        "start_time": "2022-03-13T11:01:04.933Z"
      },
      {
        "duration": 10,
        "start_time": "2022-03-13T11:01:04.960Z"
      },
      {
        "duration": 11,
        "start_time": "2022-03-13T11:01:04.975Z"
      },
      {
        "duration": 109,
        "start_time": "2022-03-13T11:01:04.987Z"
      },
      {
        "duration": 7,
        "start_time": "2022-03-13T11:01:05.098Z"
      },
      {
        "duration": 12,
        "start_time": "2022-03-13T11:01:05.109Z"
      },
      {
        "duration": 61,
        "start_time": "2022-03-13T11:01:05.123Z"
      },
      {
        "duration": 9,
        "start_time": "2022-03-13T11:01:05.186Z"
      },
      {
        "duration": 46,
        "start_time": "2022-03-13T11:01:05.197Z"
      },
      {
        "duration": 54,
        "start_time": "2022-03-13T11:01:05.245Z"
      },
      {
        "duration": 21,
        "start_time": "2022-03-13T11:01:05.301Z"
      },
      {
        "duration": 7,
        "start_time": "2022-03-13T11:01:05.323Z"
      },
      {
        "duration": 12,
        "start_time": "2022-03-13T11:01:05.331Z"
      },
      {
        "duration": 12,
        "start_time": "2022-03-13T11:01:05.364Z"
      },
      {
        "duration": 26,
        "start_time": "2022-03-13T11:01:05.379Z"
      },
      {
        "duration": 32,
        "start_time": "2022-03-13T11:01:05.407Z"
      },
      {
        "duration": 51,
        "start_time": "2022-03-13T11:01:05.441Z"
      },
      {
        "duration": 7,
        "start_time": "2022-03-13T11:01:05.493Z"
      },
      {
        "duration": 9,
        "start_time": "2022-03-13T11:01:05.501Z"
      },
      {
        "duration": 8,
        "start_time": "2022-03-13T11:01:05.512Z"
      },
      {
        "duration": 9,
        "start_time": "2022-03-13T11:01:05.522Z"
      },
      {
        "duration": 29,
        "start_time": "2022-03-13T11:01:05.533Z"
      },
      {
        "duration": 16,
        "start_time": "2022-03-13T11:01:05.564Z"
      },
      {
        "duration": 14,
        "start_time": "2022-03-13T11:01:05.582Z"
      },
      {
        "duration": 6,
        "start_time": "2022-03-13T11:01:05.598Z"
      },
      {
        "duration": 5,
        "start_time": "2022-03-13T11:01:05.606Z"
      },
      {
        "duration": 16,
        "start_time": "2022-03-13T11:01:05.613Z"
      },
      {
        "duration": 5,
        "start_time": "2022-03-13T11:01:05.631Z"
      },
      {
        "duration": 25,
        "start_time": "2022-03-13T11:01:05.638Z"
      },
      {
        "duration": 23,
        "start_time": "2022-03-13T11:01:05.665Z"
      },
      {
        "duration": 10,
        "start_time": "2022-03-13T11:01:05.690Z"
      },
      {
        "duration": 22,
        "start_time": "2022-03-13T11:01:05.702Z"
      },
      {
        "duration": 9,
        "start_time": "2022-03-13T11:01:05.726Z"
      },
      {
        "duration": 9,
        "start_time": "2022-03-13T11:01:05.736Z"
      },
      {
        "duration": 15,
        "start_time": "2022-03-13T11:01:05.771Z"
      },
      {
        "duration": 34,
        "start_time": "2022-03-13T11:01:05.788Z"
      },
      {
        "duration": 6,
        "start_time": "2022-03-13T11:01:05.824Z"
      },
      {
        "duration": 46,
        "start_time": "2022-03-13T11:01:05.832Z"
      },
      {
        "duration": 10,
        "start_time": "2022-03-13T11:01:05.879Z"
      },
      {
        "duration": 22,
        "start_time": "2022-03-13T11:01:05.891Z"
      },
      {
        "duration": 8,
        "start_time": "2022-03-13T11:01:05.916Z"
      },
      {
        "duration": 8,
        "start_time": "2022-03-13T11:01:05.926Z"
      },
      {
        "duration": 40,
        "start_time": "2022-03-13T11:01:05.936Z"
      },
      {
        "duration": 17,
        "start_time": "2022-03-13T11:01:05.979Z"
      },
      {
        "duration": 8,
        "start_time": "2022-03-13T11:01:05.998Z"
      },
      {
        "duration": 8,
        "start_time": "2022-03-13T11:01:06.008Z"
      },
      {
        "duration": 538,
        "start_time": "2022-03-13T11:01:06.018Z"
      },
      {
        "duration": 23,
        "start_time": "2022-03-13T11:01:06.558Z"
      },
      {
        "duration": 7,
        "start_time": "2022-03-13T11:01:06.583Z"
      },
      {
        "duration": 9,
        "start_time": "2022-03-13T11:01:06.592Z"
      },
      {
        "duration": 567,
        "start_time": "2022-03-13T11:01:06.606Z"
      },
      {
        "duration": 18,
        "start_time": "2022-03-13T11:01:07.176Z"
      },
      {
        "duration": 6,
        "start_time": "2022-03-13T11:01:07.196Z"
      },
      {
        "duration": 11,
        "start_time": "2022-03-13T11:01:07.203Z"
      },
      {
        "duration": 433,
        "start_time": "2022-03-13T11:01:07.216Z"
      },
      {
        "duration": 23,
        "start_time": "2022-03-13T11:01:07.650Z"
      },
      {
        "duration": 6,
        "start_time": "2022-03-13T11:01:07.675Z"
      },
      {
        "duration": 11,
        "start_time": "2022-03-13T11:01:07.683Z"
      },
      {
        "duration": 487,
        "start_time": "2022-03-13T11:01:07.696Z"
      },
      {
        "duration": 6,
        "start_time": "2022-03-13T11:01:08.185Z"
      },
      {
        "duration": 5,
        "start_time": "2022-03-13T11:01:08.193Z"
      },
      {
        "duration": 7,
        "start_time": "2022-03-13T11:01:08.200Z"
      },
      {
        "duration": 5,
        "start_time": "2022-03-13T11:01:08.209Z"
      },
      {
        "duration": 944,
        "start_time": "2022-03-13T11:01:10.714Z"
      },
      {
        "duration": 203,
        "start_time": "2022-03-13T11:01:11.660Z"
      },
      {
        "duration": 20,
        "start_time": "2022-03-13T11:01:11.866Z"
      },
      {
        "duration": 9,
        "start_time": "2022-03-13T11:01:11.889Z"
      },
      {
        "duration": 22,
        "start_time": "2022-03-13T11:01:11.900Z"
      },
      {
        "duration": 692,
        "start_time": "2022-03-13T11:01:11.924Z"
      },
      {
        "duration": 162,
        "start_time": "2022-03-13T11:01:12.618Z"
      },
      {
        "duration": 10,
        "start_time": "2022-03-13T11:01:12.783Z"
      },
      {
        "duration": 7,
        "start_time": "2022-03-13T11:01:12.795Z"
      },
      {
        "duration": 15,
        "start_time": "2022-03-13T11:01:12.803Z"
      },
      {
        "duration": 16,
        "start_time": "2022-03-13T11:01:12.820Z"
      },
      {
        "duration": 365,
        "start_time": "2022-03-13T11:01:12.867Z"
      },
      {
        "duration": 104,
        "start_time": "2022-03-13T11:01:13.234Z"
      },
      {
        "duration": 9,
        "start_time": "2022-03-13T11:01:13.340Z"
      },
      {
        "duration": 5,
        "start_time": "2022-03-13T11:01:13.367Z"
      },
      {
        "duration": 24,
        "start_time": "2022-03-13T11:01:13.374Z"
      },
      {
        "duration": 9,
        "start_time": "2022-03-13T11:01:13.401Z"
      },
      {
        "duration": 22,
        "start_time": "2022-03-13T11:01:13.411Z"
      },
      {
        "duration": 5,
        "start_time": "2022-03-13T11:01:13.435Z"
      },
      {
        "duration": 10,
        "start_time": "2022-03-13T11:01:13.442Z"
      },
      {
        "duration": 120,
        "start_time": "2022-03-13T11:01:13.454Z"
      },
      {
        "duration": 9,
        "start_time": "2022-03-13T11:01:13.577Z"
      },
      {
        "duration": 19,
        "start_time": "2022-03-13T11:01:13.593Z"
      },
      {
        "duration": 50,
        "start_time": "2022-03-13T11:01:13.616Z"
      },
      {
        "duration": 13,
        "start_time": "2022-03-13T11:01:13.668Z"
      },
      {
        "duration": 30,
        "start_time": "2022-03-13T11:01:13.684Z"
      },
      {
        "duration": 59,
        "start_time": "2022-03-13T11:01:13.716Z"
      },
      {
        "duration": 27,
        "start_time": "2022-03-13T11:01:13.777Z"
      },
      {
        "duration": 7,
        "start_time": "2022-03-13T11:01:13.806Z"
      },
      {
        "duration": 22,
        "start_time": "2022-03-13T11:01:13.815Z"
      },
      {
        "duration": 35,
        "start_time": "2022-03-13T11:01:13.840Z"
      },
      {
        "duration": 18,
        "start_time": "2022-03-13T11:01:13.878Z"
      },
      {
        "duration": 39,
        "start_time": "2022-03-13T11:01:13.898Z"
      },
      {
        "duration": 42,
        "start_time": "2022-03-13T11:01:13.939Z"
      },
      {
        "duration": 9,
        "start_time": "2022-03-13T11:01:13.983Z"
      },
      {
        "duration": 17,
        "start_time": "2022-03-13T11:01:13.994Z"
      },
      {
        "duration": 17,
        "start_time": "2022-03-13T11:01:14.013Z"
      },
      {
        "duration": 9,
        "start_time": "2022-03-13T11:01:14.032Z"
      },
      {
        "duration": 27,
        "start_time": "2022-03-13T11:01:14.042Z"
      },
      {
        "duration": 28,
        "start_time": "2022-03-13T11:01:14.073Z"
      },
      {
        "duration": 8,
        "start_time": "2022-03-13T11:01:14.103Z"
      },
      {
        "duration": 11,
        "start_time": "2022-03-13T11:01:14.112Z"
      },
      {
        "duration": 11,
        "start_time": "2022-03-13T11:01:14.125Z"
      },
      {
        "duration": 18,
        "start_time": "2022-03-13T11:01:14.138Z"
      },
      {
        "duration": 19,
        "start_time": "2022-03-13T11:01:14.158Z"
      },
      {
        "duration": 10,
        "start_time": "2022-03-13T11:01:14.179Z"
      },
      {
        "duration": 29,
        "start_time": "2022-03-13T11:01:14.191Z"
      },
      {
        "duration": 18,
        "start_time": "2022-03-13T11:01:14.222Z"
      },
      {
        "duration": 28,
        "start_time": "2022-03-13T11:01:14.242Z"
      },
      {
        "duration": 15,
        "start_time": "2022-03-13T11:01:14.272Z"
      },
      {
        "duration": 6,
        "start_time": "2022-03-13T11:01:14.289Z"
      },
      {
        "duration": 12,
        "start_time": "2022-03-13T11:01:14.297Z"
      },
      {
        "duration": 19,
        "start_time": "2022-03-13T11:01:14.311Z"
      },
      {
        "duration": 6,
        "start_time": "2022-03-13T11:01:14.332Z"
      },
      {
        "duration": 39,
        "start_time": "2022-03-13T11:01:14.340Z"
      },
      {
        "duration": 15,
        "start_time": "2022-03-13T11:01:14.381Z"
      },
      {
        "duration": 20,
        "start_time": "2022-03-13T11:01:14.398Z"
      },
      {
        "duration": 6,
        "start_time": "2022-03-13T11:01:14.420Z"
      },
      {
        "duration": 10,
        "start_time": "2022-03-13T11:01:14.428Z"
      },
      {
        "duration": 33,
        "start_time": "2022-03-13T11:01:14.440Z"
      },
      {
        "duration": 15,
        "start_time": "2022-03-13T11:01:14.475Z"
      },
      {
        "duration": 11,
        "start_time": "2022-03-13T11:01:14.492Z"
      },
      {
        "duration": 7,
        "start_time": "2022-03-13T11:01:14.505Z"
      },
      {
        "duration": 501,
        "start_time": "2022-03-13T11:01:14.514Z"
      },
      {
        "duration": 20,
        "start_time": "2022-03-13T11:01:15.017Z"
      },
      {
        "duration": 33,
        "start_time": "2022-03-13T11:01:15.039Z"
      },
      {
        "duration": 12,
        "start_time": "2022-03-13T11:01:15.074Z"
      },
      {
        "duration": 720,
        "start_time": "2022-03-13T11:01:15.092Z"
      },
      {
        "duration": 23,
        "start_time": "2022-03-13T11:01:15.815Z"
      },
      {
        "duration": 23,
        "start_time": "2022-03-13T11:01:15.840Z"
      },
      {
        "duration": 26,
        "start_time": "2022-03-13T11:01:15.866Z"
      },
      {
        "duration": 407,
        "start_time": "2022-03-13T11:01:15.894Z"
      },
      {
        "duration": 18,
        "start_time": "2022-03-13T11:01:16.303Z"
      },
      {
        "duration": 7,
        "start_time": "2022-03-13T11:01:16.322Z"
      },
      {
        "duration": 39,
        "start_time": "2022-03-13T11:01:16.331Z"
      },
      {
        "duration": 495,
        "start_time": "2022-03-13T11:01:16.372Z"
      },
      {
        "duration": 17,
        "start_time": "2022-03-13T11:01:16.869Z"
      },
      {
        "duration": 10,
        "start_time": "2022-03-13T11:01:16.888Z"
      },
      {
        "duration": 10,
        "start_time": "2022-03-13T11:01:16.900Z"
      },
      {
        "duration": 6,
        "start_time": "2022-03-13T11:01:16.912Z"
      },
      {
        "duration": 39,
        "start_time": "2022-03-13T11:04:30.722Z"
      },
      {
        "duration": 8,
        "start_time": "2022-03-13T11:05:19.832Z"
      },
      {
        "duration": 953,
        "start_time": "2022-03-13T11:05:27.978Z"
      },
      {
        "duration": 189,
        "start_time": "2022-03-13T11:05:28.932Z"
      },
      {
        "duration": 14,
        "start_time": "2022-03-13T11:05:29.123Z"
      },
      {
        "duration": 9,
        "start_time": "2022-03-13T11:05:29.139Z"
      },
      {
        "duration": 34,
        "start_time": "2022-03-13T11:05:29.150Z"
      },
      {
        "duration": 662,
        "start_time": "2022-03-13T11:05:29.185Z"
      },
      {
        "duration": 161,
        "start_time": "2022-03-13T11:05:29.849Z"
      },
      {
        "duration": 13,
        "start_time": "2022-03-13T11:05:30.014Z"
      },
      {
        "duration": 8,
        "start_time": "2022-03-13T11:05:30.030Z"
      },
      {
        "duration": 44,
        "start_time": "2022-03-13T11:05:30.040Z"
      },
      {
        "duration": 23,
        "start_time": "2022-03-13T11:05:30.086Z"
      },
      {
        "duration": 378,
        "start_time": "2022-03-13T11:05:30.112Z"
      },
      {
        "duration": 109,
        "start_time": "2022-03-13T11:05:30.492Z"
      },
      {
        "duration": 7,
        "start_time": "2022-03-13T11:05:30.602Z"
      },
      {
        "duration": 13,
        "start_time": "2022-03-13T11:05:30.611Z"
      },
      {
        "duration": 14,
        "start_time": "2022-03-13T11:05:30.625Z"
      },
      {
        "duration": 40,
        "start_time": "2022-03-13T11:05:30.641Z"
      },
      {
        "duration": 35,
        "start_time": "2022-03-13T11:05:30.683Z"
      },
      {
        "duration": 8,
        "start_time": "2022-03-13T11:05:30.720Z"
      },
      {
        "duration": 20,
        "start_time": "2022-03-13T11:05:30.730Z"
      },
      {
        "duration": 113,
        "start_time": "2022-03-13T11:05:30.751Z"
      },
      {
        "duration": 14,
        "start_time": "2022-03-13T11:05:30.867Z"
      },
      {
        "duration": 30,
        "start_time": "2022-03-13T11:05:30.886Z"
      },
      {
        "duration": 29,
        "start_time": "2022-03-13T11:05:30.920Z"
      },
      {
        "duration": 22,
        "start_time": "2022-03-13T11:05:30.951Z"
      },
      {
        "duration": 39,
        "start_time": "2022-03-13T11:05:30.975Z"
      },
      {
        "duration": 41,
        "start_time": "2022-03-13T11:05:31.016Z"
      },
      {
        "duration": 30,
        "start_time": "2022-03-13T11:05:31.059Z"
      },
      {
        "duration": 9,
        "start_time": "2022-03-13T11:05:31.091Z"
      },
      {
        "duration": 16,
        "start_time": "2022-03-13T11:05:31.102Z"
      },
      {
        "duration": 26,
        "start_time": "2022-03-13T11:05:31.121Z"
      },
      {
        "duration": 26,
        "start_time": "2022-03-13T11:05:31.149Z"
      },
      {
        "duration": 44,
        "start_time": "2022-03-13T11:05:31.177Z"
      },
      {
        "duration": 26,
        "start_time": "2022-03-13T11:05:31.224Z"
      },
      {
        "duration": 10,
        "start_time": "2022-03-13T11:05:31.268Z"
      },
      {
        "duration": 16,
        "start_time": "2022-03-13T11:05:31.281Z"
      },
      {
        "duration": 17,
        "start_time": "2022-03-13T11:05:31.299Z"
      },
      {
        "duration": 8,
        "start_time": "2022-03-13T11:05:31.319Z"
      },
      {
        "duration": 47,
        "start_time": "2022-03-13T11:05:31.329Z"
      },
      {
        "duration": 25,
        "start_time": "2022-03-13T11:05:31.378Z"
      },
      {
        "duration": 7,
        "start_time": "2022-03-13T11:05:31.405Z"
      },
      {
        "duration": 5,
        "start_time": "2022-03-13T11:05:31.414Z"
      },
      {
        "duration": 10,
        "start_time": "2022-03-13T11:05:31.421Z"
      },
      {
        "duration": 33,
        "start_time": "2022-03-13T11:05:31.433Z"
      },
      {
        "duration": 6,
        "start_time": "2022-03-13T11:05:31.468Z"
      },
      {
        "duration": 10,
        "start_time": "2022-03-13T11:05:31.476Z"
      },
      {
        "duration": 26,
        "start_time": "2022-03-13T11:05:31.487Z"
      },
      {
        "duration": 19,
        "start_time": "2022-03-13T11:05:31.515Z"
      },
      {
        "duration": 16,
        "start_time": "2022-03-13T11:05:31.535Z"
      },
      {
        "duration": 9,
        "start_time": "2022-03-13T11:05:31.553Z"
      },
      {
        "duration": 25,
        "start_time": "2022-03-13T11:05:31.564Z"
      },
      {
        "duration": 12,
        "start_time": "2022-03-13T11:05:31.591Z"
      },
      {
        "duration": 18,
        "start_time": "2022-03-13T11:05:31.605Z"
      },
      {
        "duration": 12,
        "start_time": "2022-03-13T11:05:31.625Z"
      },
      {
        "duration": 41,
        "start_time": "2022-03-13T11:05:31.639Z"
      },
      {
        "duration": 12,
        "start_time": "2022-03-13T11:05:31.682Z"
      },
      {
        "duration": 30,
        "start_time": "2022-03-13T11:05:31.696Z"
      },
      {
        "duration": 6,
        "start_time": "2022-03-13T11:05:31.728Z"
      },
      {
        "duration": 11,
        "start_time": "2022-03-13T11:05:31.736Z"
      },
      {
        "duration": 19,
        "start_time": "2022-03-13T11:05:31.749Z"
      },
      {
        "duration": 27,
        "start_time": "2022-03-13T11:05:31.770Z"
      },
      {
        "duration": 14,
        "start_time": "2022-03-13T11:05:31.799Z"
      },
      {
        "duration": 10,
        "start_time": "2022-03-13T11:05:31.815Z"
      },
      {
        "duration": 512,
        "start_time": "2022-03-13T11:05:31.827Z"
      },
      {
        "duration": 32,
        "start_time": "2022-03-13T11:05:32.341Z"
      },
      {
        "duration": 8,
        "start_time": "2022-03-13T11:05:32.375Z"
      },
      {
        "duration": 9,
        "start_time": "2022-03-13T11:05:32.384Z"
      },
      {
        "duration": 543,
        "start_time": "2022-03-13T11:05:32.399Z"
      },
      {
        "duration": 36,
        "start_time": "2022-03-13T11:05:32.945Z"
      },
      {
        "duration": 6,
        "start_time": "2022-03-13T11:05:32.983Z"
      },
      {
        "duration": 6,
        "start_time": "2022-03-13T11:05:32.991Z"
      },
      {
        "duration": 415,
        "start_time": "2022-03-13T11:05:32.998Z"
      },
      {
        "duration": 23,
        "start_time": "2022-03-13T11:05:33.415Z"
      },
      {
        "duration": 28,
        "start_time": "2022-03-13T11:05:33.440Z"
      },
      {
        "duration": 8,
        "start_time": "2022-03-13T11:05:33.470Z"
      },
      {
        "duration": 653,
        "start_time": "2022-03-13T11:05:33.482Z"
      },
      {
        "duration": 7,
        "start_time": "2022-03-13T11:05:34.137Z"
      },
      {
        "duration": 19,
        "start_time": "2022-03-13T11:05:34.146Z"
      },
      {
        "duration": 12,
        "start_time": "2022-03-13T11:05:34.166Z"
      },
      {
        "duration": 13,
        "start_time": "2022-03-13T11:05:34.179Z"
      },
      {
        "duration": 1159,
        "start_time": "2022-03-13T11:06:39.076Z"
      },
      {
        "duration": 195,
        "start_time": "2022-03-13T11:06:40.237Z"
      },
      {
        "duration": 16,
        "start_time": "2022-03-13T11:06:40.434Z"
      },
      {
        "duration": 7,
        "start_time": "2022-03-13T11:06:40.464Z"
      },
      {
        "duration": 37,
        "start_time": "2022-03-13T11:06:40.473Z"
      },
      {
        "duration": 599,
        "start_time": "2022-03-13T11:06:40.512Z"
      },
      {
        "duration": 174,
        "start_time": "2022-03-13T11:06:41.113Z"
      },
      {
        "duration": 10,
        "start_time": "2022-03-13T11:06:41.289Z"
      },
      {
        "duration": 15,
        "start_time": "2022-03-13T11:06:41.302Z"
      },
      {
        "duration": 25,
        "start_time": "2022-03-13T11:06:41.319Z"
      },
      {
        "duration": 24,
        "start_time": "2022-03-13T11:06:41.346Z"
      },
      {
        "duration": 531,
        "start_time": "2022-03-13T11:06:41.372Z"
      },
      {
        "duration": 113,
        "start_time": "2022-03-13T11:06:41.905Z"
      },
      {
        "duration": 8,
        "start_time": "2022-03-13T11:06:42.019Z"
      },
      {
        "duration": 11,
        "start_time": "2022-03-13T11:06:42.028Z"
      },
      {
        "duration": 32,
        "start_time": "2022-03-13T11:06:42.040Z"
      },
      {
        "duration": 19,
        "start_time": "2022-03-13T11:06:42.074Z"
      },
      {
        "duration": 23,
        "start_time": "2022-03-13T11:06:42.096Z"
      },
      {
        "duration": 6,
        "start_time": "2022-03-13T11:06:42.121Z"
      },
      {
        "duration": 6,
        "start_time": "2022-03-13T11:06:42.129Z"
      },
      {
        "duration": 91,
        "start_time": "2022-03-13T11:06:42.137Z"
      },
      {
        "duration": 9,
        "start_time": "2022-03-13T11:06:42.231Z"
      },
      {
        "duration": 20,
        "start_time": "2022-03-13T11:06:42.262Z"
      },
      {
        "duration": 32,
        "start_time": "2022-03-13T11:06:42.285Z"
      },
      {
        "duration": 12,
        "start_time": "2022-03-13T11:06:42.319Z"
      },
      {
        "duration": 59,
        "start_time": "2022-03-13T11:06:42.333Z"
      },
      {
        "duration": 71,
        "start_time": "2022-03-13T11:06:42.394Z"
      },
      {
        "duration": 24,
        "start_time": "2022-03-13T11:06:42.469Z"
      },
      {
        "duration": 8,
        "start_time": "2022-03-13T11:06:42.495Z"
      },
      {
        "duration": 14,
        "start_time": "2022-03-13T11:06:42.505Z"
      },
      {
        "duration": 15,
        "start_time": "2022-03-13T11:06:42.520Z"
      },
      {
        "duration": 36,
        "start_time": "2022-03-13T11:06:42.536Z"
      },
      {
        "duration": 40,
        "start_time": "2022-03-13T11:06:42.579Z"
      },
      {
        "duration": 25,
        "start_time": "2022-03-13T11:06:42.621Z"
      },
      {
        "duration": 12,
        "start_time": "2022-03-13T11:06:42.667Z"
      },
      {
        "duration": 14,
        "start_time": "2022-03-13T11:06:42.681Z"
      },
      {
        "duration": 11,
        "start_time": "2022-03-13T11:06:42.697Z"
      },
      {
        "duration": 6,
        "start_time": "2022-03-13T11:06:42.710Z"
      },
      {
        "duration": 13,
        "start_time": "2022-03-13T11:06:42.718Z"
      },
      {
        "duration": 38,
        "start_time": "2022-03-13T11:06:42.733Z"
      },
      {
        "duration": 16,
        "start_time": "2022-03-13T11:06:42.773Z"
      },
      {
        "duration": 3,
        "start_time": "2022-03-13T11:06:42.791Z"
      },
      {
        "duration": 7,
        "start_time": "2022-03-13T11:06:42.796Z"
      },
      {
        "duration": 15,
        "start_time": "2022-03-13T11:06:42.805Z"
      },
      {
        "duration": 6,
        "start_time": "2022-03-13T11:06:42.822Z"
      },
      {
        "duration": 8,
        "start_time": "2022-03-13T11:06:42.830Z"
      },
      {
        "duration": 31,
        "start_time": "2022-03-13T11:06:42.840Z"
      },
      {
        "duration": 24,
        "start_time": "2022-03-13T11:06:42.873Z"
      },
      {
        "duration": 14,
        "start_time": "2022-03-13T11:06:42.899Z"
      },
      {
        "duration": 7,
        "start_time": "2022-03-13T11:06:42.915Z"
      },
      {
        "duration": 6,
        "start_time": "2022-03-13T11:06:42.924Z"
      },
      {
        "duration": 10,
        "start_time": "2022-03-13T11:06:42.932Z"
      },
      {
        "duration": 31,
        "start_time": "2022-03-13T11:06:42.944Z"
      },
      {
        "duration": 8,
        "start_time": "2022-03-13T11:06:42.977Z"
      },
      {
        "duration": 32,
        "start_time": "2022-03-13T11:06:42.987Z"
      },
      {
        "duration": 12,
        "start_time": "2022-03-13T11:06:43.021Z"
      },
      {
        "duration": 37,
        "start_time": "2022-03-13T11:06:43.035Z"
      },
      {
        "duration": 8,
        "start_time": "2022-03-13T11:06:43.074Z"
      },
      {
        "duration": 12,
        "start_time": "2022-03-13T11:06:43.084Z"
      },
      {
        "duration": 10,
        "start_time": "2022-03-13T11:06:43.097Z"
      },
      {
        "duration": 7,
        "start_time": "2022-03-13T11:06:43.108Z"
      },
      {
        "duration": 9,
        "start_time": "2022-03-13T11:06:43.117Z"
      },
      {
        "duration": 45,
        "start_time": "2022-03-13T11:06:43.128Z"
      },
      {
        "duration": 370,
        "start_time": "2022-03-13T11:06:43.174Z"
      },
      {
        "duration": 34,
        "start_time": "2022-03-13T11:06:43.546Z"
      },
      {
        "duration": 7,
        "start_time": "2022-03-13T11:06:43.582Z"
      },
      {
        "duration": 12,
        "start_time": "2022-03-13T11:06:43.591Z"
      },
      {
        "duration": 583,
        "start_time": "2022-03-13T11:06:43.609Z"
      },
      {
        "duration": 19,
        "start_time": "2022-03-13T11:06:44.194Z"
      },
      {
        "duration": 7,
        "start_time": "2022-03-13T11:06:44.214Z"
      },
      {
        "duration": 10,
        "start_time": "2022-03-13T11:06:44.223Z"
      },
      {
        "duration": 466,
        "start_time": "2022-03-13T11:06:44.235Z"
      },
      {
        "duration": 19,
        "start_time": "2022-03-13T11:06:44.703Z"
      },
      {
        "duration": 7,
        "start_time": "2022-03-13T11:06:44.724Z"
      },
      {
        "duration": 36,
        "start_time": "2022-03-13T11:06:44.733Z"
      },
      {
        "duration": 544,
        "start_time": "2022-03-13T11:06:44.771Z"
      },
      {
        "duration": 9,
        "start_time": "2022-03-13T11:06:45.317Z"
      },
      {
        "duration": 8,
        "start_time": "2022-03-13T11:06:45.328Z"
      },
      {
        "duration": 27,
        "start_time": "2022-03-13T11:06:45.338Z"
      },
      {
        "duration": 26,
        "start_time": "2022-03-13T11:06:45.367Z"
      },
      {
        "duration": 192,
        "start_time": "2022-03-22T13:08:08.593Z"
      }
    ],
    "kernelspec": {
      "display_name": "Python 3 (ipykernel)",
      "language": "python",
      "name": "python3"
    },
    "language_info": {
      "codemirror_mode": {
        "name": "ipython",
        "version": 3
      },
      "file_extension": ".py",
      "mimetype": "text/x-python",
      "name": "python",
      "nbconvert_exporter": "python",
      "pygments_lexer": "ipython3",
      "version": "3.9.5"
    },
    "toc": {
      "base_numbering": 1,
      "nav_menu": {},
      "number_sections": true,
      "sideBar": true,
      "skip_h1_title": true,
      "title_cell": "Table of Contents",
      "title_sidebar": "Contents",
      "toc_cell": false,
      "toc_position": {},
      "toc_section_display": true,
      "toc_window_display": false
    },
    "colab": {
      "name": "04_RU_Statistical_data_analysis.ipynb",
      "provenance": [],
      "collapsed_sections": [
        "7ZuwuQj3R6zO",
        "q53v40oWR6zP",
        "mggmd90lR6zg",
        "6Pt_WklyR6zo",
        "dpQ09blLR6zo",
        "dBf1-Z_TR6zq",
        "hZW1FpO0R6zq"
      ],
      "include_colab_link": true
    }
  },
  "nbformat": 4,
  "nbformat_minor": 0
}