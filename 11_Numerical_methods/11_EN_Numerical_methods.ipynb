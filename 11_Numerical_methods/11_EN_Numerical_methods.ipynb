{
  "cells": [
    {
      "cell_type": "markdown",
      "metadata": {
        "id": "view-in-github",
        "colab_type": "text"
      },
      "source": [
        "<a href=\"https://colab.research.google.com/github/pingwx/ya.prac/blob/main/11_Numerical_methods/11_EN_Numerical_methods.ipynb\" target=\"_parent\"><img src=\"https://colab.research.google.com/assets/colab-badge.svg\" alt=\"Open In Colab\"/></a>"
      ]
    },
    {
      "cell_type": "markdown",
      "metadata": {
        "id": "QI3UMcwUMqme"
      },
      "source": [
        "# Determining the cost of cars"
      ]
    },
    {
      "cell_type": "markdown",
      "metadata": {
        "id": "pwg-cK1KMqml"
      },
      "source": [
        "Service for the sale of used cars \"Ne bit ne krashen\" is developing an application to attract new customers. In it, customer can quickly find out the market value of his car. We have historical data at our disposal: technical characteristics, configurations and prices of cars. We need to build a model to determine the cost.\n",
        "\n",
        "The customer needs a model with:\n",
        "\n",
        "- high quality of prediction;\n",
        "- high prediction speed;\n",
        "- low fitting time."
      ]
    },
    {
      "cell_type": "markdown",
      "metadata": {
        "id": "96bn4t5XMqmm"
      },
      "source": [
        "**Data Description:**\n",
        "\n",
        "The data is in the `/datasets/autos.csv` file.\n",
        "\n",
        "*Features*\n",
        "\n",
        "- `DateCrawled` — date of downloading the ad from the database\n",
        "- `VehicleType` — car body type\n",
        "- `RegistrationYear` - year of car registration\n",
        "- `Gearbox` — gearbox type\n",
        "- `Power` - power (hp)\n",
        "- `Model` — car model\n",
        "- `Kilometer` — mileage (km)\n",
        "- `RegistrationMonth` — car registration month\n",
        "- `FuelType` — fuel type\n",
        "- `Brand` — car brand\n",
        "- `NotRepaired` - was the car under repair or not\n",
        "- `DateCreated` — date of creation of the ad\n",
        "- `NumberOfPictures` - the number of photos of the car\n",
        "- `PostalCode` — postal code of the owner of the profile (user)\n",
        "- `LastSeen` — date of last user activity\n",
        "\n",
        "*Target feature*\n",
        "\n",
        "- `Price` — price (euro)"
      ]
    },
    {
      "cell_type": "markdown",
      "metadata": {
        "id": "EkW7p8dxMqmn"
      },
      "source": [
        "## Data preparation"
      ]
    },
    {
      "cell_type": "markdown",
      "metadata": {
        "id": "mXCZcqyFMqmo"
      },
      "source": [
        "### Loading data"
      ]
    },
    {
      "cell_type": "code",
      "execution_count": 3,
      "metadata": {
        "id": "PQfLL5IgMqmo"
      },
      "outputs": [],
      "source": [
        "import pandas as pd\n",
        "from sklearn.model_selection import train_test_split\n",
        "from sklearn.metrics import mean_squared_error\n",
        "from sklearn.metrics import r2_score\n",
        "from catboost import Pool, CatBoostRegressor\n",
        "import lightgbm as lgb\n",
        "from sklearn.preprocessing import LabelEncoder\n",
        "from sklearn.preprocessing import StandardScaler\n",
        "from sklearn.linear_model import LinearRegression\n",
        "from sklearn.dummy import DummyRegressor\n",
        "import numpy as np\n",
        "import warnings"
      ]
    },
    {
      "cell_type": "code",
      "execution_count": 4,
      "metadata": {
        "id": "US2N-NG7Mqmq"
      },
      "outputs": [],
      "source": [
        "warnings.filterwarnings('ignore')"
      ]
    },
    {
      "cell_type": "code",
      "execution_count": 5,
      "metadata": {
        "id": "HihvlRoPMqmr"
      },
      "outputs": [],
      "source": [
        "df = pd.read_csv('/content/autos.csv')"
      ]
    },
    {
      "cell_type": "code",
      "execution_count": 6,
      "metadata": {
        "id": "wgicfpFuMqmr",
        "outputId": "78bf1e48-fb74-4b5e-fb9e-5abaed2ca492",
        "colab": {
          "base_uri": "https://localhost:8080/",
          "height": 206
        }
      },
      "outputs": [
        {
          "output_type": "execute_result",
          "data": {
            "text/plain": [
              "           DateCrawled  Price VehicleType  RegistrationYear Gearbox  Power  \\\n",
              "0  2016-03-24 11:52:17    480         NaN              1993  manual      0   \n",
              "1  2016-03-24 10:58:45  18300       coupe              2011  manual    190   \n",
              "2  2016-03-14 12:52:21   9800         suv              2004    auto    163   \n",
              "3  2016-03-17 16:54:04   1500       small              2001  manual     75   \n",
              "4  2016-03-31 17:25:20   3600       small              2008  manual     69   \n",
              "\n",
              "   Model  Kilometer  RegistrationMonth  FuelType       Brand NotRepaired  \\\n",
              "0   golf     150000                  0    petrol  volkswagen         NaN   \n",
              "1    NaN     125000                  5  gasoline        audi         yes   \n",
              "2  grand     125000                  8  gasoline        jeep         NaN   \n",
              "3   golf     150000                  6    petrol  volkswagen          no   \n",
              "4  fabia      90000                  7  gasoline       skoda          no   \n",
              "\n",
              "           DateCreated  NumberOfPictures  PostalCode             LastSeen  \n",
              "0  2016-03-24 00:00:00                 0       70435  2016-04-07 03:16:57  \n",
              "1  2016-03-24 00:00:00                 0       66954  2016-04-07 01:46:50  \n",
              "2  2016-03-14 00:00:00                 0       90480  2016-04-05 12:47:46  \n",
              "3  2016-03-17 00:00:00                 0       91074  2016-03-17 17:40:17  \n",
              "4  2016-03-31 00:00:00                 0       60437  2016-04-06 10:17:21  "
            ],
            "text/html": [
              "\n",
              "  <div id=\"df-66ef6a7f-d5ee-4789-b75e-ce0f4684e25d\">\n",
              "    <div class=\"colab-df-container\">\n",
              "      <div>\n",
              "<style scoped>\n",
              "    .dataframe tbody tr th:only-of-type {\n",
              "        vertical-align: middle;\n",
              "    }\n",
              "\n",
              "    .dataframe tbody tr th {\n",
              "        vertical-align: top;\n",
              "    }\n",
              "\n",
              "    .dataframe thead th {\n",
              "        text-align: right;\n",
              "    }\n",
              "</style>\n",
              "<table border=\"1\" class=\"dataframe\">\n",
              "  <thead>\n",
              "    <tr style=\"text-align: right;\">\n",
              "      <th></th>\n",
              "      <th>DateCrawled</th>\n",
              "      <th>Price</th>\n",
              "      <th>VehicleType</th>\n",
              "      <th>RegistrationYear</th>\n",
              "      <th>Gearbox</th>\n",
              "      <th>Power</th>\n",
              "      <th>Model</th>\n",
              "      <th>Kilometer</th>\n",
              "      <th>RegistrationMonth</th>\n",
              "      <th>FuelType</th>\n",
              "      <th>Brand</th>\n",
              "      <th>NotRepaired</th>\n",
              "      <th>DateCreated</th>\n",
              "      <th>NumberOfPictures</th>\n",
              "      <th>PostalCode</th>\n",
              "      <th>LastSeen</th>\n",
              "    </tr>\n",
              "  </thead>\n",
              "  <tbody>\n",
              "    <tr>\n",
              "      <th>0</th>\n",
              "      <td>2016-03-24 11:52:17</td>\n",
              "      <td>480</td>\n",
              "      <td>NaN</td>\n",
              "      <td>1993</td>\n",
              "      <td>manual</td>\n",
              "      <td>0</td>\n",
              "      <td>golf</td>\n",
              "      <td>150000</td>\n",
              "      <td>0</td>\n",
              "      <td>petrol</td>\n",
              "      <td>volkswagen</td>\n",
              "      <td>NaN</td>\n",
              "      <td>2016-03-24 00:00:00</td>\n",
              "      <td>0</td>\n",
              "      <td>70435</td>\n",
              "      <td>2016-04-07 03:16:57</td>\n",
              "    </tr>\n",
              "    <tr>\n",
              "      <th>1</th>\n",
              "      <td>2016-03-24 10:58:45</td>\n",
              "      <td>18300</td>\n",
              "      <td>coupe</td>\n",
              "      <td>2011</td>\n",
              "      <td>manual</td>\n",
              "      <td>190</td>\n",
              "      <td>NaN</td>\n",
              "      <td>125000</td>\n",
              "      <td>5</td>\n",
              "      <td>gasoline</td>\n",
              "      <td>audi</td>\n",
              "      <td>yes</td>\n",
              "      <td>2016-03-24 00:00:00</td>\n",
              "      <td>0</td>\n",
              "      <td>66954</td>\n",
              "      <td>2016-04-07 01:46:50</td>\n",
              "    </tr>\n",
              "    <tr>\n",
              "      <th>2</th>\n",
              "      <td>2016-03-14 12:52:21</td>\n",
              "      <td>9800</td>\n",
              "      <td>suv</td>\n",
              "      <td>2004</td>\n",
              "      <td>auto</td>\n",
              "      <td>163</td>\n",
              "      <td>grand</td>\n",
              "      <td>125000</td>\n",
              "      <td>8</td>\n",
              "      <td>gasoline</td>\n",
              "      <td>jeep</td>\n",
              "      <td>NaN</td>\n",
              "      <td>2016-03-14 00:00:00</td>\n",
              "      <td>0</td>\n",
              "      <td>90480</td>\n",
              "      <td>2016-04-05 12:47:46</td>\n",
              "    </tr>\n",
              "    <tr>\n",
              "      <th>3</th>\n",
              "      <td>2016-03-17 16:54:04</td>\n",
              "      <td>1500</td>\n",
              "      <td>small</td>\n",
              "      <td>2001</td>\n",
              "      <td>manual</td>\n",
              "      <td>75</td>\n",
              "      <td>golf</td>\n",
              "      <td>150000</td>\n",
              "      <td>6</td>\n",
              "      <td>petrol</td>\n",
              "      <td>volkswagen</td>\n",
              "      <td>no</td>\n",
              "      <td>2016-03-17 00:00:00</td>\n",
              "      <td>0</td>\n",
              "      <td>91074</td>\n",
              "      <td>2016-03-17 17:40:17</td>\n",
              "    </tr>\n",
              "    <tr>\n",
              "      <th>4</th>\n",
              "      <td>2016-03-31 17:25:20</td>\n",
              "      <td>3600</td>\n",
              "      <td>small</td>\n",
              "      <td>2008</td>\n",
              "      <td>manual</td>\n",
              "      <td>69</td>\n",
              "      <td>fabia</td>\n",
              "      <td>90000</td>\n",
              "      <td>7</td>\n",
              "      <td>gasoline</td>\n",
              "      <td>skoda</td>\n",
              "      <td>no</td>\n",
              "      <td>2016-03-31 00:00:00</td>\n",
              "      <td>0</td>\n",
              "      <td>60437</td>\n",
              "      <td>2016-04-06 10:17:21</td>\n",
              "    </tr>\n",
              "  </tbody>\n",
              "</table>\n",
              "</div>\n",
              "      <button class=\"colab-df-convert\" onclick=\"convertToInteractive('df-66ef6a7f-d5ee-4789-b75e-ce0f4684e25d')\"\n",
              "              title=\"Convert this dataframe to an interactive table.\"\n",
              "              style=\"display:none;\">\n",
              "        \n",
              "  <svg xmlns=\"http://www.w3.org/2000/svg\" height=\"24px\"viewBox=\"0 0 24 24\"\n",
              "       width=\"24px\">\n",
              "    <path d=\"M0 0h24v24H0V0z\" fill=\"none\"/>\n",
              "    <path d=\"M18.56 5.44l.94 2.06.94-2.06 2.06-.94-2.06-.94-.94-2.06-.94 2.06-2.06.94zm-11 1L8.5 8.5l.94-2.06 2.06-.94-2.06-.94L8.5 2.5l-.94 2.06-2.06.94zm10 10l.94 2.06.94-2.06 2.06-.94-2.06-.94-.94-2.06-.94 2.06-2.06.94z\"/><path d=\"M17.41 7.96l-1.37-1.37c-.4-.4-.92-.59-1.43-.59-.52 0-1.04.2-1.43.59L10.3 9.45l-7.72 7.72c-.78.78-.78 2.05 0 2.83L4 21.41c.39.39.9.59 1.41.59.51 0 1.02-.2 1.41-.59l7.78-7.78 2.81-2.81c.8-.78.8-2.07 0-2.86zM5.41 20L4 18.59l7.72-7.72 1.47 1.35L5.41 20z\"/>\n",
              "  </svg>\n",
              "      </button>\n",
              "      \n",
              "  <style>\n",
              "    .colab-df-container {\n",
              "      display:flex;\n",
              "      flex-wrap:wrap;\n",
              "      gap: 12px;\n",
              "    }\n",
              "\n",
              "    .colab-df-convert {\n",
              "      background-color: #E8F0FE;\n",
              "      border: none;\n",
              "      border-radius: 50%;\n",
              "      cursor: pointer;\n",
              "      display: none;\n",
              "      fill: #1967D2;\n",
              "      height: 32px;\n",
              "      padding: 0 0 0 0;\n",
              "      width: 32px;\n",
              "    }\n",
              "\n",
              "    .colab-df-convert:hover {\n",
              "      background-color: #E2EBFA;\n",
              "      box-shadow: 0px 1px 2px rgba(60, 64, 67, 0.3), 0px 1px 3px 1px rgba(60, 64, 67, 0.15);\n",
              "      fill: #174EA6;\n",
              "    }\n",
              "\n",
              "    [theme=dark] .colab-df-convert {\n",
              "      background-color: #3B4455;\n",
              "      fill: #D2E3FC;\n",
              "    }\n",
              "\n",
              "    [theme=dark] .colab-df-convert:hover {\n",
              "      background-color: #434B5C;\n",
              "      box-shadow: 0px 1px 3px 1px rgba(0, 0, 0, 0.15);\n",
              "      filter: drop-shadow(0px 1px 2px rgba(0, 0, 0, 0.3));\n",
              "      fill: #FFFFFF;\n",
              "    }\n",
              "  </style>\n",
              "\n",
              "      <script>\n",
              "        const buttonEl =\n",
              "          document.querySelector('#df-66ef6a7f-d5ee-4789-b75e-ce0f4684e25d button.colab-df-convert');\n",
              "        buttonEl.style.display =\n",
              "          google.colab.kernel.accessAllowed ? 'block' : 'none';\n",
              "\n",
              "        async function convertToInteractive(key) {\n",
              "          const element = document.querySelector('#df-66ef6a7f-d5ee-4789-b75e-ce0f4684e25d');\n",
              "          const dataTable =\n",
              "            await google.colab.kernel.invokeFunction('convertToInteractive',\n",
              "                                                     [key], {});\n",
              "          if (!dataTable) return;\n",
              "\n",
              "          const docLinkHtml = 'Like what you see? Visit the ' +\n",
              "            '<a target=\"_blank\" href=https://colab.research.google.com/notebooks/data_table.ipynb>data table notebook</a>'\n",
              "            + ' to learn more about interactive tables.';\n",
              "          element.innerHTML = '';\n",
              "          dataTable['output_type'] = 'display_data';\n",
              "          await google.colab.output.renderOutput(dataTable, element);\n",
              "          const docLink = document.createElement('div');\n",
              "          docLink.innerHTML = docLinkHtml;\n",
              "          element.appendChild(docLink);\n",
              "        }\n",
              "      </script>\n",
              "    </div>\n",
              "  </div>\n",
              "  "
            ]
          },
          "metadata": {},
          "execution_count": 6
        }
      ],
      "source": [
        "df.head()"
      ]
    },
    {
      "cell_type": "code",
      "execution_count": 7,
      "metadata": {
        "scrolled": true,
        "id": "2_lxWYOPMqms",
        "outputId": "dfbd6d8e-68c6-4756-f94a-c9d173ae9748",
        "colab": {
          "base_uri": "https://localhost:8080/"
        }
      },
      "outputs": [
        {
          "output_type": "stream",
          "name": "stdout",
          "text": [
            "<class 'pandas.core.frame.DataFrame'>\n",
            "RangeIndex: 354369 entries, 0 to 354368\n",
            "Data columns (total 16 columns):\n",
            " #   Column             Non-Null Count   Dtype \n",
            "---  ------             --------------   ----- \n",
            " 0   DateCrawled        354369 non-null  object\n",
            " 1   Price              354369 non-null  int64 \n",
            " 2   VehicleType        316879 non-null  object\n",
            " 3   RegistrationYear   354369 non-null  int64 \n",
            " 4   Gearbox            334536 non-null  object\n",
            " 5   Power              354369 non-null  int64 \n",
            " 6   Model              334664 non-null  object\n",
            " 7   Kilometer          354369 non-null  int64 \n",
            " 8   RegistrationMonth  354369 non-null  int64 \n",
            " 9   FuelType           321474 non-null  object\n",
            " 10  Brand              354369 non-null  object\n",
            " 11  NotRepaired        283215 non-null  object\n",
            " 12  DateCreated        354369 non-null  object\n",
            " 13  NumberOfPictures   354369 non-null  int64 \n",
            " 14  PostalCode         354369 non-null  int64 \n",
            " 15  LastSeen           354369 non-null  object\n",
            "dtypes: int64(7), object(9)\n",
            "memory usage: 43.3+ MB\n"
          ]
        }
      ],
      "source": [
        "df.info()"
      ]
    },
    {
      "cell_type": "markdown",
      "metadata": {
        "id": "lEdnuxu3Mqms"
      },
      "source": [
        "The data has been loaded, we see gaps in several columns: vehicletype, gearbox, model, fueltype, notrepaired. Let's convert the column names to lowercase"
      ]
    },
    {
      "cell_type": "code",
      "execution_count": 8,
      "metadata": {
        "id": "AkzD3wVpMqmt"
      },
      "outputs": [],
      "source": [
        "df.columns = [col.lower() for col in df.columns]"
      ]
    },
    {
      "cell_type": "markdown",
      "metadata": {
        "id": "akxqVYbJMqmt"
      },
      "source": [
        "### Pre-processing and analysis"
      ]
    },
    {
      "cell_type": "markdown",
      "metadata": {
        "id": "E2pce8eRMqmu"
      },
      "source": [
        "Let's take a closer look at each of the features and analyze them"
      ]
    },
    {
      "cell_type": "code",
      "execution_count": 9,
      "metadata": {
        "scrolled": false,
        "id": "kNv7iWT3Mqmu",
        "outputId": "848035e8-79c9-4454-9faa-b4118c65ad50",
        "colab": {
          "base_uri": "https://localhost:8080/",
          "height": 537
        }
      },
      "outputs": [
        {
          "output_type": "display_data",
          "data": {
            "text/plain": [
              "<Figure size 1152x648 with 1 Axes>"
            ],
            "image/png": "[encoded data removed]"
          },
          "metadata": {
            "needs_background": "light"
          }
        }
      ],
      "source": [
        "df['price'].hist(figsize=(16,9),bins=50);"
      ]
    },
    {
      "cell_type": "code",
      "execution_count": 10,
      "metadata": {
        "id": "WR3Blj_aMqmu",
        "outputId": "5df08ff9-d1dd-4274-d775-17fe03acb5b9",
        "colab": {
          "base_uri": "https://localhost:8080/"
        }
      },
      "outputs": [
        {
          "output_type": "execute_result",
          "data": {
            "text/plain": [
              "count    354369.000000\n",
              "mean       4416.656776\n",
              "std        4514.158514\n",
              "min           0.000000\n",
              "25%        1050.000000\n",
              "50%        2700.000000\n",
              "75%        6400.000000\n",
              "max       20000.000000\n",
              "Name: price, dtype: float64"
            ]
          },
          "metadata": {},
          "execution_count": 10
        }
      ],
      "source": [
        "df['price'].describe()"
      ]
    },
    {
      "cell_type": "code",
      "execution_count": 11,
      "metadata": {
        "scrolled": true,
        "id": "iYkEniB-Mqmv",
        "outputId": "f2a22ecd-ab2e-4b04-88f0-6cabada2caf3",
        "colab": {
          "base_uri": "https://localhost:8080/"
        }
      },
      "outputs": [
        {
          "output_type": "execute_result",
          "data": {
            "text/plain": [
              "10772"
            ]
          },
          "metadata": {},
          "execution_count": 11
        }
      ],
      "source": [
        "len(df.query('price == 0'))"
      ]
    },
    {
      "cell_type": "markdown",
      "metadata": {
        "id": "HqpAWZFJMqmv"
      },
      "source": [
        "We will consider rows with a price value equal to zero as gaps, since we logically assume that the price of a car is a non-zero value. Let's remove these lines."
      ]
    },
    {
      "cell_type": "code",
      "execution_count": 12,
      "metadata": {
        "id": "HYif3uuuMqmv"
      },
      "outputs": [],
      "source": [
        "df = df.drop(df.query('price == 0').index)"
      ]
    },
    {
      "cell_type": "markdown",
      "source": [
        "Lets look at the distribution of the low price ads"
      ],
      "metadata": {
        "id": "z7WA8QymPFcO"
      }
    },
    {
      "cell_type": "code",
      "execution_count": 13,
      "metadata": {
        "id": "aQU5fYfUMqmw",
        "outputId": "42a85c8c-0028-416b-dfa1-9e35b5d3efd8",
        "colab": {
          "base_uri": "https://localhost:8080/",
          "height": 265
        }
      },
      "outputs": [
        {
          "output_type": "display_data",
          "data": {
            "text/plain": [
              "<Figure size 432x288 with 1 Axes>"
            ],
            "image/png": "[encoded data removed]"
          },
          "metadata": {
            "needs_background": "light"
          }
        }
      ],
      "source": [
        "df.query('price < 500')['price'].hist(bins=30);"
      ]
    },
    {
      "cell_type": "markdown",
      "source": [
        "We will also assume that the ad with the price lower than 100 euros are also invalid."
      ],
      "metadata": {
        "id": "wGv6SesTPSXg"
      }
    },
    {
      "cell_type": "code",
      "execution_count": 14,
      "metadata": {
        "id": "XByJkhAhMqmw"
      },
      "outputs": [],
      "source": [
        "df = df.drop(df.query('price < 100').index)"
      ]
    },
    {
      "cell_type": "markdown",
      "metadata": {
        "id": "mxloDkVLMqmw"
      },
      "source": [
        "Let's convert the datecrawled column to datetime."
      ]
    },
    {
      "cell_type": "code",
      "execution_count": 15,
      "metadata": {
        "id": "gDD93jZxMqmx",
        "outputId": "62512221-5432-4543-e3d0-cf715a9396b0",
        "colab": {
          "base_uri": "https://localhost:8080/"
        }
      },
      "outputs": [
        {
          "output_type": "stream",
          "name": "stdout",
          "text": [
            "success\n"
          ]
        }
      ],
      "source": [
        "try:\n",
        "    df['datecrawled'] = pd.to_datetime(df['datecrawled'])\n",
        "    print('success')\n",
        "except:\n",
        "    print('some error happened')"
      ]
    },
    {
      "cell_type": "code",
      "execution_count": 16,
      "metadata": {
        "id": "3yGA1RluMqmx",
        "outputId": "475afc74-b732-4646-9951-5108ef2aa647",
        "colab": {
          "base_uri": "https://localhost:8080/"
        }
      },
      "outputs": [
        {
          "output_type": "execute_result",
          "data": {
            "text/plain": [
              "count                  341055\n",
              "unique                 263688\n",
              "top       2016-03-24 14:49:47\n",
              "freq                        7\n",
              "first     2016-03-05 14:06:22\n",
              "last      2016-04-07 14:36:58\n",
              "Name: datecrawled, dtype: object"
            ]
          },
          "metadata": {},
          "execution_count": 16
        }
      ],
      "source": [
        "df['datecrawled'].describe()"
      ]
    },
    {
      "cell_type": "markdown",
      "metadata": {
        "id": "PAqMhz1kMqmx"
      },
      "source": [
        "We will not consider the datecrawled column as a feature, however, we note that the last downloaded ad is dated April 2016, if we see a date greater than this value, it will most likely be incorrect"
      ]
    },
    {
      "cell_type": "code",
      "execution_count": 17,
      "metadata": {
        "id": "saWC61EFMqmx",
        "outputId": "4459374b-bab6-462d-f971-21be2fe37fdf",
        "colab": {
          "base_uri": "https://localhost:8080/"
        }
      },
      "outputs": [
        {
          "output_type": "execute_result",
          "data": {
            "text/plain": [
              "sedan          89087\n",
              "small          77444\n",
              "wagon          63465\n",
              "bus            28265\n",
              "convertible    19817\n",
              "coupe          15555\n",
              "suv            11762\n",
              "other           3048\n",
              "Name: vehicletype, dtype: int64"
            ]
          },
          "metadata": {},
          "execution_count": 17
        }
      ],
      "source": [
        "df['vehicletype'].value_counts()"
      ]
    },
    {
      "cell_type": "markdown",
      "metadata": {
        "id": "5hHar8gWMqmy"
      },
      "source": [
        "In the vehicletype column, we see several categorical values. The gaps will later be filled in with the value \"unknown\", which will be one additional category."
      ]
    },
    {
      "cell_type": "code",
      "execution_count": 18,
      "metadata": {
        "id": "x9xX9HyyMqmy",
        "outputId": "8c0ceb6b-1f8c-4393-a5c7-44294e7ea3d2",
        "colab": {
          "base_uri": "https://localhost:8080/"
        }
      },
      "outputs": [
        {
          "output_type": "execute_result",
          "data": {
            "text/plain": [
              "count    341055.000000\n",
              "mean       2003.955303\n",
              "std          69.811742\n",
              "min        1000.000000\n",
              "25%        1999.000000\n",
              "50%        2003.000000\n",
              "75%        2008.000000\n",
              "max        9999.000000\n",
              "Name: registrationyear, dtype: float64"
            ]
          },
          "metadata": {},
          "execution_count": 18
        }
      ],
      "source": [
        "df['registrationyear'].describe()"
      ]
    },
    {
      "cell_type": "code",
      "execution_count": 19,
      "metadata": {
        "id": "Vi19ST9UMqmy",
        "outputId": "c567ce5d-e456-42d6-f96d-810758acea3a",
        "colab": {
          "base_uri": "https://localhost:8080/",
          "height": 537
        }
      },
      "outputs": [
        {
          "output_type": "display_data",
          "data": {
            "text/plain": [
              "<Figure size 1152x648 with 1 Axes>"
            ],
            "image/png": "[encoded data removed]"
          },
          "metadata": {
            "needs_background": "light"
          }
        }
      ],
      "source": [
        "df.query('registrationyear < 2017 and registrationyear > 1900')['registrationyear'].hist(bins=50, figsize=(16,9));"
      ]
    },
    {
      "cell_type": "markdown",
      "metadata": {
        "id": "iz6v06NHMqmy"
      },
      "source": [
        "We see the year of registration can take impossible values from 1000 to 9999. Since the date of downloading profiles in this dataset refers to 2016, we will consider values > 2017 as impossible. We will not cosider the values below 1950 as valid also"
      ]
    },
    {
      "cell_type": "code",
      "execution_count": 20,
      "metadata": {
        "id": "8RZaOm96Mqmz",
        "outputId": "ee758aeb-22b8-491a-ade1-adabdb4b92a9",
        "colab": {
          "base_uri": "https://localhost:8080/"
        }
      },
      "outputs": [
        {
          "output_type": "execute_result",
          "data": {
            "text/plain": [
              "13846"
            ]
          },
          "metadata": {},
          "execution_count": 20
        }
      ],
      "source": [
        "len(df.query('registrationyear <= 1950 or registrationyear >=2017'))"
      ]
    },
    {
      "cell_type": "markdown",
      "metadata": {
        "id": "O06a6S_1Mqmz"
      },
      "source": [
        "We will ruthlessly delete these lines."
      ]
    },
    {
      "cell_type": "code",
      "execution_count": 21,
      "metadata": {
        "id": "baxPc3lyMqmz"
      },
      "outputs": [],
      "source": [
        "df = df.drop(df.query('registrationyear < 1950 or registrationyear >=2017').index)"
      ]
    },
    {
      "cell_type": "code",
      "execution_count": 22,
      "metadata": {
        "id": "9JcAOf0hMqmz",
        "outputId": "be0c390e-7dc9-46e1-f3bd-09f7b2c1d387",
        "colab": {
          "base_uri": "https://localhost:8080/"
        }
      },
      "outputs": [
        {
          "output_type": "execute_result",
          "data": {
            "text/plain": [
              "manual    249852\n",
              "auto       62809\n",
              "Name: gearbox, dtype: int64"
            ]
          },
          "metadata": {},
          "execution_count": 22
        }
      ],
      "source": [
        "df['gearbox'].value_counts()"
      ]
    },
    {
      "cell_type": "markdown",
      "metadata": {
        "id": "NUPvxgMxMqm0"
      },
      "source": [
        "This column also contains gaps, we will also fill them with the value \"unknown\" later."
      ]
    },
    {
      "cell_type": "code",
      "execution_count": 23,
      "metadata": {
        "id": "RUncMI-NMqm0",
        "outputId": "da35069d-3bd8-4ba6-fc3d-07221f005319",
        "colab": {
          "base_uri": "https://localhost:8080/"
        }
      },
      "outputs": [
        {
          "output_type": "execute_result",
          "data": {
            "text/plain": [
              "count    327223.000000\n",
              "mean        112.360943\n",
              "std         185.292743\n",
              "min           0.000000\n",
              "25%          71.000000\n",
              "50%         105.000000\n",
              "75%         143.000000\n",
              "max       20000.000000\n",
              "Name: power, dtype: float64"
            ]
          },
          "metadata": {},
          "execution_count": 23
        }
      ],
      "source": [
        "df['power'].describe()"
      ]
    },
    {
      "cell_type": "markdown",
      "metadata": {
        "id": "VrE6KVPcMqm0"
      },
      "source": [
        "We see the maximum value of the power column being 20000, which is impossible."
      ]
    },
    {
      "cell_type": "code",
      "execution_count": 24,
      "metadata": {
        "id": "K6DdTNpxMqm0",
        "outputId": "e8895c73-b0bb-4b24-85fa-ca1a803827ce",
        "colab": {
          "base_uri": "https://localhost:8080/",
          "height": 537
        }
      },
      "outputs": [
        {
          "output_type": "display_data",
          "data": {
            "text/plain": [
              "<Figure size 1152x648 with 1 Axes>"
            ],
            "image/png": "[encoded data removed]"
          },
          "metadata": {
            "needs_background": "light"
          }
        }
      ],
      "source": [
        "df.query('power < 500')['power'].hist(bins=50, figsize=(16,9));"
      ]
    },
    {
      "cell_type": "markdown",
      "metadata": {
        "id": "5c3vwN6IMqm0"
      },
      "source": [
        "We also see a fairly large number of zero values, we consider them gaps, because the zero values in this column are logically incorrect. Filling these gaps with some other value (median, mean) is not possible, because in this way we will distort the data. Let's drop columns with a zero value of power and a value of more than 500 from the dataset."
      ]
    },
    {
      "cell_type": "code",
      "execution_count": 25,
      "metadata": {
        "scrolled": true,
        "id": "GlFgv5C-Mqm1",
        "outputId": "0cb452ca-d45e-42e4-8f6b-81d177d8216b",
        "colab": {
          "base_uri": "https://localhost:8080/"
        }
      },
      "outputs": [
        {
          "output_type": "execute_result",
          "data": {
            "text/plain": [
              "31942"
            ]
          },
          "metadata": {},
          "execution_count": 25
        }
      ],
      "source": [
        "len(df.query('power > 500 or power == 0'))"
      ]
    },
    {
      "cell_type": "code",
      "execution_count": 26,
      "metadata": {
        "id": "gO16DijHMqm1"
      },
      "outputs": [],
      "source": [
        "df = df.drop(df.query('power > 500 or power == 0').index)"
      ]
    },
    {
      "cell_type": "markdown",
      "source": [
        "As in the case with the price, lets look at the distribution of the features for small values."
      ],
      "metadata": {
        "id": "RN754tpXREmK"
      }
    },
    {
      "cell_type": "code",
      "execution_count": 27,
      "metadata": {
        "id": "M9f1RvriMqm1",
        "outputId": "47c9362e-1c2d-4962-fd2d-7e8b090ce7cb",
        "colab": {
          "base_uri": "https://localhost:8080/",
          "height": 265
        }
      },
      "outputs": [
        {
          "output_type": "display_data",
          "data": {
            "text/plain": [
              "<Figure size 432x288 with 1 Axes>"
            ],
            "image/png": "[encoded data removed]"
          },
          "metadata": {
            "needs_background": "light"
          }
        }
      ],
      "source": [
        "df.query('power < 40')['power'].hist(bins=30);"
      ]
    },
    {
      "cell_type": "markdown",
      "source": [
        "Lets also consider the values lower than 25 as invalid."
      ],
      "metadata": {
        "id": "hm5qTOqlRKgZ"
      }
    },
    {
      "cell_type": "code",
      "execution_count": 28,
      "metadata": {
        "id": "ACZ4JvrPMqm2"
      },
      "outputs": [],
      "source": [
        "df = df.drop(df.query('power < 25').index)"
      ]
    },
    {
      "cell_type": "code",
      "execution_count": 29,
      "metadata": {
        "scrolled": true,
        "id": "6SabH0LBMqm2",
        "outputId": "8b8eb0e3-3b04-4a19-fcf2-7ec0f32881e4",
        "colab": {
          "base_uri": "https://localhost:8080/"
        }
      },
      "outputs": [
        {
          "output_type": "execute_result",
          "data": {
            "text/plain": [
              "golf                  24625\n",
              "other                 20239\n",
              "3er                   17319\n",
              "polo                  10618\n",
              "corsa                 10027\n",
              "                      ...  \n",
              "serie_2                   5\n",
              "kalina                    5\n",
              "serie_3                   3\n",
              "range_rover_evoque        2\n",
              "rangerover                2\n",
              "Name: model, Length: 249, dtype: int64"
            ]
          },
          "metadata": {},
          "execution_count": 29
        }
      ],
      "source": [
        "df['model'].value_counts()"
      ]
    },
    {
      "cell_type": "markdown",
      "metadata": {
        "id": "mC7sUMsCMqm2"
      },
      "source": [
        "Here we see 249 unique model values. We will also fill in the gaps with the 'unknown' value in the future."
      ]
    },
    {
      "cell_type": "code",
      "execution_count": 30,
      "metadata": {
        "id": "cLkkmWxaMqm2",
        "outputId": "edaf0af8-d3d0-41f6-a2d4-b05763558961",
        "colab": {
          "base_uri": "https://localhost:8080/"
        }
      },
      "outputs": [
        {
          "output_type": "execute_result",
          "data": {
            "text/plain": [
              "150000    195584\n",
              "125000     31732\n",
              "100000     12802\n",
              "90000      10286\n",
              "80000       9010\n",
              "70000       7786\n",
              "60000       6816\n",
              "50000       5629\n",
              "40000       4471\n",
              "30000       3860\n",
              "20000       3220\n",
              "5000        2734\n",
              "10000        890\n",
              "Name: kilometer, dtype: int64"
            ]
          },
          "metadata": {},
          "execution_count": 30
        }
      ],
      "source": [
        "df['kilometer'].value_counts()"
      ]
    },
    {
      "cell_type": "markdown",
      "metadata": {
        "id": "TRW7RSLRMqm3"
      },
      "source": [
        "In the kilometer column, note that the values are not a specific vehicle mileage, but the mileage which belongs to one of the ranges."
      ]
    },
    {
      "cell_type": "code",
      "execution_count": 31,
      "metadata": {
        "id": "KQZQ5CXMMqm3",
        "outputId": "4fa1f713-dec5-4cf9-a600-9d56388fd08d",
        "colab": {
          "base_uri": "https://localhost:8080/"
        }
      },
      "outputs": [
        {
          "output_type": "execute_result",
          "data": {
            "text/plain": [
              "3     30329\n",
              "6     27466\n",
              "4     25669\n",
              "5     25528\n",
              "7     23757\n",
              "10    22910\n",
              "12    21136\n",
              "11    20987\n",
              "9     20891\n",
              "1     20088\n",
              "8     19674\n",
              "2     18788\n",
              "0     17597\n",
              "Name: registrationmonth, dtype: int64"
            ]
          },
          "metadata": {},
          "execution_count": 31
        }
      ],
      "source": [
        "df['registrationmonth'].value_counts()"
      ]
    },
    {
      "cell_type": "markdown",
      "metadata": {
        "id": "bNUNkxpAMqm3"
      },
      "source": [
        "In the `registrationmonth` column we see quite a lot of null values and they are actually gaps, but we will not get rid of such lines, because logically, the year of registration is significantly more significant than the month, we will leave the values of the months as they are for now."
      ]
    },
    {
      "cell_type": "code",
      "execution_count": 32,
      "metadata": {
        "scrolled": true,
        "id": "T1McEaLnMqm3",
        "outputId": "8d6be488-2c4a-4e23-d629-0d57f5912909",
        "colab": {
          "base_uri": "https://localhost:8080/"
        }
      },
      "outputs": [
        {
          "output_type": "execute_result",
          "data": {
            "text/plain": [
              "petrol      186478\n",
              "gasoline     87593\n",
              "lpg           4676\n",
              "cng            480\n",
              "hybrid         201\n",
              "other           80\n",
              "electric        37\n",
              "Name: fueltype, dtype: int64"
            ]
          },
          "metadata": {},
          "execution_count": 32
        }
      ],
      "source": [
        "df['fueltype'].value_counts()"
      ]
    },
    {
      "cell_type": "markdown",
      "metadata": {
        "id": "t5C9O0CUMqm3"
      },
      "source": [
        "`fueltype` is a categorical column that has gaps."
      ]
    },
    {
      "cell_type": "code",
      "execution_count": 33,
      "metadata": {
        "scrolled": true,
        "id": "FSkvNU1XMqm3",
        "outputId": "1bdf7dca-5b0d-42b7-f135-0ee259017b3a",
        "colab": {
          "base_uri": "https://localhost:8080/"
        }
      },
      "outputs": [
        {
          "output_type": "execute_result",
          "data": {
            "text/plain": [
              "volkswagen        63852\n",
              "opel              32313\n",
              "bmw               32128\n",
              "mercedes_benz     27264\n",
              "audi              25543\n",
              "ford              20590\n",
              "renault           13842\n",
              "peugeot            9376\n",
              "fiat               7537\n",
              "seat               5831\n",
              "skoda              4941\n",
              "mazda              4713\n",
              "smart              4477\n",
              "citroen            4225\n",
              "nissan             4026\n",
              "toyota             4007\n",
              "hyundai            3102\n",
              "mini               2962\n",
              "volvo              2817\n",
              "mitsubishi         2484\n",
              "honda              2357\n",
              "kia                2083\n",
              "alfa_romeo         1970\n",
              "suzuki             1955\n",
              "sonstige_autos     1627\n",
              "chevrolet          1457\n",
              "chrysler           1157\n",
              "dacia               799\n",
              "subaru              640\n",
              "porsche             619\n",
              "daihatsu            609\n",
              "jeep                576\n",
              "saab                472\n",
              "land_rover          464\n",
              "jaguar              433\n",
              "daewoo              407\n",
              "lancia              377\n",
              "rover               361\n",
              "trabant             270\n",
              "lada                157\n",
              "Name: brand, dtype: int64"
            ]
          },
          "metadata": {},
          "execution_count": 33
        }
      ],
      "source": [
        "df['brand'].value_counts()"
      ]
    },
    {
      "cell_type": "markdown",
      "source": [
        "`brand` is a categorical column"
      ],
      "metadata": {
        "id": "iYLhRazdR2fD"
      }
    },
    {
      "cell_type": "code",
      "execution_count": 34,
      "metadata": {
        "scrolled": true,
        "id": "fm2NgUtkMqm4",
        "outputId": "960dcee2-8b2c-4495-ac0f-ccf2130289b8",
        "colab": {
          "base_uri": "https://localhost:8080/"
        }
      },
      "outputs": [
        {
          "output_type": "execute_result",
          "data": {
            "text/plain": [
              "no     223951\n",
              "yes     28497\n",
              "Name: notrepaired, dtype: int64"
            ]
          },
          "metadata": {},
          "execution_count": 34
        }
      ],
      "source": [
        "df['notrepaired'].value_counts()"
      ]
    },
    {
      "cell_type": "markdown",
      "metadata": {
        "id": "Fi_yMdmEMqm4"
      },
      "source": [
        "`notrepaired` is also a categorical column with gaps"
      ]
    },
    {
      "cell_type": "markdown",
      "metadata": {
        "id": "ajpz21WaMqm4"
      },
      "source": [
        "The datecreated column is converted to datetime."
      ]
    },
    {
      "cell_type": "code",
      "execution_count": 35,
      "metadata": {
        "scrolled": true,
        "id": "nbGo94THMqm4",
        "outputId": "d395aa92-9d23-42f5-d124-3380426c0323",
        "colab": {
          "base_uri": "https://localhost:8080/"
        }
      },
      "outputs": [
        {
          "output_type": "stream",
          "name": "stdout",
          "text": [
            "success\n"
          ]
        }
      ],
      "source": [
        "try:\n",
        "    df['datecreated'] = pd.to_datetime(df['datecreated'])\n",
        "    print('success')\n",
        "except:\n",
        "    print('some error happened')"
      ]
    },
    {
      "cell_type": "code",
      "execution_count": 36,
      "metadata": {
        "id": "a84sugUSMqm4",
        "outputId": "c46398de-0b19-4949-c0b2-023651c15c54",
        "colab": {
          "base_uri": "https://localhost:8080/"
        }
      },
      "outputs": [
        {
          "output_type": "execute_result",
          "data": {
            "text/plain": [
              "count                  294820\n",
              "unique                    106\n",
              "top       2016-04-03 00:00:00\n",
              "freq                    11635\n",
              "first     2015-03-20 00:00:00\n",
              "last      2016-04-07 00:00:00\n",
              "Name: datecreated, dtype: object"
            ]
          },
          "metadata": {},
          "execution_count": 36
        }
      ],
      "source": [
        "df['datecreated'].describe()"
      ]
    },
    {
      "cell_type": "markdown",
      "metadata": {
        "id": "pmwirZoBMqm4"
      },
      "source": [
        "Here we see that the dates of the ad creation are scattered in the range of one year. Since the situation in the car market could change during the year, this column can be used as a feature."
      ]
    },
    {
      "cell_type": "code",
      "execution_count": 37,
      "metadata": {
        "id": "27kqqUUVMqm4",
        "outputId": "2f240461-345e-463c-ca9b-423278d66be5",
        "colab": {
          "base_uri": "https://localhost:8080/"
        }
      },
      "outputs": [
        {
          "output_type": "execute_result",
          "data": {
            "text/plain": [
              "count    294820.0\n",
              "mean          0.0\n",
              "std           0.0\n",
              "min           0.0\n",
              "25%           0.0\n",
              "50%           0.0\n",
              "75%           0.0\n",
              "max           0.0\n",
              "Name: numberofpictures, dtype: float64"
            ]
          },
          "metadata": {},
          "execution_count": 37
        }
      ],
      "source": [
        "df['numberofpictures'].describe()"
      ]
    },
    {
      "cell_type": "markdown",
      "metadata": {
        "id": "pIQKqO0NMqm5"
      },
      "source": [
        "`numberofpictures` is a completely null column, delete it."
      ]
    },
    {
      "cell_type": "code",
      "execution_count": 38,
      "metadata": {
        "id": "dbnnMBjuMqm5"
      },
      "outputs": [],
      "source": [
        "df = df.drop('numberofpictures', axis=1)"
      ]
    },
    {
      "cell_type": "code",
      "execution_count": 39,
      "metadata": {
        "id": "JjjBhtYhMqm5",
        "outputId": "c2d3319d-1a5c-4055-8498-e871ffc9e1ce",
        "colab": {
          "base_uri": "https://localhost:8080/"
        }
      },
      "outputs": [
        {
          "output_type": "execute_result",
          "data": {
            "text/plain": [
              "10115    798\n",
              "65428    504\n",
              "66333    273\n",
              "60311    261\n",
              "52525    248\n",
              "        ... \n",
              "31719      1\n",
              "95367      1\n",
              "1998       1\n",
              "7558       1\n",
              "95691      1\n",
              "Name: postalcode, Length: 8116, dtype: int64"
            ]
          },
          "metadata": {},
          "execution_count": 39
        }
      ],
      "source": [
        "df['postalcode'].value_counts()"
      ]
    },
    {
      "cell_type": "markdown",
      "metadata": {
        "id": "A6k6JFNaMqm5"
      },
      "source": [
        "The `postalcode` column is of integer type, but it doesn't make sense to treat this column as a numeric feature."
      ]
    },
    {
      "cell_type": "markdown",
      "metadata": {
        "id": "elImuiB6Mqm6"
      },
      "source": [
        "Lets convert `lastseen` column to datetime."
      ]
    },
    {
      "cell_type": "code",
      "execution_count": 40,
      "metadata": {
        "id": "lPDdqLo1Mqm6",
        "outputId": "bf17dc1d-9d43-4d13-9b2b-4372a4d886a9",
        "colab": {
          "base_uri": "https://localhost:8080/"
        }
      },
      "outputs": [
        {
          "output_type": "stream",
          "name": "stdout",
          "text": [
            "success\n"
          ]
        }
      ],
      "source": [
        "try:\n",
        "    df['lastseen'] = pd.to_datetime(df['lastseen'])\n",
        "    print('success')\n",
        "except:\n",
        "    print('some error happened')"
      ]
    },
    {
      "cell_type": "code",
      "execution_count": 41,
      "metadata": {
        "scrolled": true,
        "id": "g8NRlJlHMqm6",
        "outputId": "69ededed-f97e-4b1f-d7ea-ccc515521d20",
        "colab": {
          "base_uri": "https://localhost:8080/"
        }
      },
      "outputs": [
        {
          "output_type": "execute_result",
          "data": {
            "text/plain": [
              "count                  294820\n",
              "unique                 153577\n",
              "top       2016-04-07 09:44:27\n",
              "freq                       15\n",
              "first     2016-03-05 14:15:08\n",
              "last      2016-04-07 14:58:51\n",
              "Name: lastseen, dtype: object"
            ]
          },
          "metadata": {},
          "execution_count": 41
        }
      ],
      "source": [
        "df['lastseen'].describe()"
      ]
    },
    {
      "cell_type": "markdown",
      "metadata": {
        "id": "Oz4bSi57Mqm6"
      },
      "source": [
        "Here we also see a scatter of one year. This column can also be used as a feature."
      ]
    },
    {
      "cell_type": "markdown",
      "metadata": {
        "id": "HEQQXSVTMqm6"
      },
      "source": [
        "It is proposed to convert date columns as follows: take the date 01-01-2017 as the starting point and convert the values of the date columns to the number of days before the starting point. This way we will get the numeric values of the date columns. We will do this for the registrationyear, registrationmonth, datecreated, lastseen columns.\n",
        "\n",
        "First, the registrationyear, registrationmonth columns are converted to a single datetime column"
      ]
    },
    {
      "cell_type": "code",
      "execution_count": 42,
      "metadata": {
        "id": "DtGhnnVdMqm7",
        "outputId": "f43aabd0-0243-4adc-c18e-65e57d840348",
        "colab": {
          "base_uri": "https://localhost:8080/"
        }
      },
      "outputs": [
        {
          "output_type": "stream",
          "name": "stdout",
          "text": [
            "success\n"
          ]
        }
      ],
      "source": [
        "try:\n",
        "    df['date_car_registered'] = pd.to_datetime(dict(year=df['registrationyear'],\n",
        "                                                    month=np.where(df['registrationmonth']>0,    \n",
        "                                                                   df['registrationmonth'], 1), \n",
        "                                                    day=1))                                     \n",
        "    print('success')\n",
        "except:\n",
        "    print('some error happened')"
      ]
    },
    {
      "cell_type": "code",
      "execution_count": 43,
      "metadata": {
        "id": "-NO21YthMqm7",
        "outputId": "8d11c1cf-46bf-4349-f9bb-046629ba19c9",
        "colab": {
          "base_uri": "https://localhost:8080/"
        }
      },
      "outputs": [
        {
          "output_type": "execute_result",
          "data": {
            "text/plain": [
              "count                  294820\n",
              "unique                    718\n",
              "top       2000-01-01 00:00:00\n",
              "freq                     3257\n",
              "first     1950-01-01 00:00:00\n",
              "last      2016-12-01 00:00:00\n",
              "Name: date_car_registered, dtype: object"
            ]
          },
          "metadata": {},
          "execution_count": 43
        }
      ],
      "source": [
        "df['date_car_registered'].describe()"
      ]
    },
    {
      "cell_type": "code",
      "execution_count": 44,
      "metadata": {
        "id": "DumFAJB9Mqm7"
      },
      "outputs": [],
      "source": [
        "df['car_registered_days'] = (pd.Timestamp(year=2017, month=1, day=1) - df['date_car_registered']).dt.days"
      ]
    },
    {
      "cell_type": "code",
      "execution_count": 45,
      "metadata": {
        "id": "fdLcBnj7Mqm7"
      },
      "outputs": [],
      "source": [
        "df['datecreated_days'] = (pd.Timestamp(year=2017, month=1, day=1) - df['datecreated']).dt.days"
      ]
    },
    {
      "cell_type": "code",
      "execution_count": 46,
      "metadata": {
        "id": "uehKyy9yMqm7"
      },
      "outputs": [],
      "source": [
        "df['lastseen_days'] = (pd.Timestamp(year=2017, month=1, day=1) - df['lastseen']).dt.days"
      ]
    },
    {
      "cell_type": "markdown",
      "metadata": {
        "id": "WTNiLY-KMqm8"
      },
      "source": [
        "Delete the original columns with dates"
      ]
    },
    {
      "cell_type": "code",
      "execution_count": 47,
      "metadata": {
        "id": "_FcYZkWHMqm8"
      },
      "outputs": [],
      "source": [
        "df = df.drop(['registrationyear', 'registrationmonth', 'date_car_registered',\n",
        "              'datecrawled', 'datecreated', 'lastseen'], axis=1)"
      ]
    },
    {
      "cell_type": "markdown",
      "metadata": {
        "id": "L-F84LT0Mqm8"
      },
      "source": [
        "Let's find out in how many lines we have the date of registration of the car is greater than the date of creation of the ad."
      ]
    },
    {
      "cell_type": "code",
      "execution_count": 48,
      "metadata": {
        "id": "f__pzIPFMqm8",
        "outputId": "3b4f3245-6994-47f9-e3a8-b313e5bb993a",
        "colab": {
          "base_uri": "https://localhost:8080/"
        }
      },
      "outputs": [
        {
          "output_type": "execute_result",
          "data": {
            "text/plain": [
              "3714"
            ]
          },
          "metadata": {},
          "execution_count": 48
        }
      ],
      "source": [
        "len(df.query('car_registered_days < datecreated_days'))"
      ]
    },
    {
      "cell_type": "markdown",
      "metadata": {
        "id": "nfqyEWL_Mqm8"
      },
      "source": [
        "These are incorrectly completed ads in which the car is registered in the future, relative to the date of creation of the announcement, we will delete these lines."
      ]
    },
    {
      "cell_type": "code",
      "execution_count": 49,
      "metadata": {
        "id": "47TpKQQZMqm9"
      },
      "outputs": [],
      "source": [
        "df = df.drop(df.query('car_registered_days < datecreated_days').index)"
      ]
    },
    {
      "cell_type": "markdown",
      "metadata": {
        "id": "jyTnBbSOMqm9"
      },
      "source": [
        "Lets fill in the gaps in the dataset"
      ]
    },
    {
      "cell_type": "code",
      "execution_count": 50,
      "metadata": {
        "id": "54tEkehQMqm9"
      },
      "outputs": [],
      "source": [
        "gap_cols = ['vehicletype', 'gearbox', 'model', 'fueltype', 'notrepaired']\n",
        "for col in gap_cols:\n",
        "    df[col] = df[col].fillna(col+'_unknown')"
      ]
    },
    {
      "cell_type": "markdown",
      "metadata": {
        "id": "eKKo6aLpMqm9"
      },
      "source": [
        "Finally, the brand and model columns are converted into one column. Here the idea is as follows. In value_counts of the model column, we see 'other' as the second value. But 'other' for Mercedes and 'other' for Volkswagen are inherently different values. Perhaps there are some other model values that are the same for different brands."
      ]
    },
    {
      "cell_type": "code",
      "execution_count": 51,
      "metadata": {
        "id": "1BLaooD7Mqm9"
      },
      "outputs": [],
      "source": [
        "df['brand_and_model'] = df['brand'] + '_' + df['model']"
      ]
    },
    {
      "cell_type": "code",
      "execution_count": 52,
      "metadata": {
        "id": "syS16m6XMqm-",
        "outputId": "b9edbdd9-8511-4b4f-f3b5-00abae0fbed7",
        "colab": {
          "base_uri": "https://localhost:8080/"
        }
      },
      "outputs": [
        {
          "output_type": "execute_result",
          "data": {
            "text/plain": [
              "24    mercedes_benz_other\n",
              "38       volkswagen_other\n",
              "39    mercedes_benz_other\n",
              "52          hyundai_other\n",
              "67            honda_other\n",
              "Name: brand_and_model, dtype: object"
            ]
          },
          "metadata": {},
          "execution_count": 52
        }
      ],
      "source": [
        "df[df['brand_and_model'].str.contains('_other')]['brand_and_model'].head()"
      ]
    },
    {
      "cell_type": "code",
      "execution_count": 53,
      "metadata": {
        "id": "yezYmn03Mqm-"
      },
      "outputs": [],
      "source": [
        "df = df.drop(['brand', 'model'], axis=1)"
      ]
    },
    {
      "cell_type": "markdown",
      "metadata": {
        "id": "kOP5ENzWMqm-"
      },
      "source": [
        "Let's also remove the postalcode column."
      ]
    },
    {
      "cell_type": "code",
      "execution_count": 54,
      "metadata": {
        "id": "BwSsOnRDMqm-"
      },
      "outputs": [],
      "source": [
        "df = df.drop('postalcode', axis=1)"
      ]
    },
    {
      "cell_type": "markdown",
      "metadata": {
        "id": "NIGV6WEYMqm-"
      },
      "source": [
        "Finally, check the dataset for duplicates."
      ]
    },
    {
      "cell_type": "code",
      "execution_count": 55,
      "metadata": {
        "id": "b9wrLjgCMqm-",
        "outputId": "61d4973c-5758-496b-95ed-44644fef63dc",
        "colab": {
          "base_uri": "https://localhost:8080/"
        }
      },
      "outputs": [
        {
          "output_type": "execute_result",
          "data": {
            "text/plain": [
              "7544"
            ]
          },
          "metadata": {},
          "execution_count": 55
        }
      ],
      "source": [
        "df.duplicated().sum()"
      ]
    },
    {
      "cell_type": "markdown",
      "metadata": {
        "id": "N1dOTkbbMqm_"
      },
      "source": [
        "And we will remove them."
      ]
    },
    {
      "cell_type": "code",
      "execution_count": 56,
      "metadata": {
        "id": "AykEv5aTMqm_"
      },
      "outputs": [],
      "source": [
        "df = df.drop_duplicates()"
      ]
    },
    {
      "cell_type": "markdown",
      "metadata": {
        "id": "Ug4Tj23DMqm_"
      },
      "source": [
        "Let's look at the preprocessed dataset"
      ]
    },
    {
      "cell_type": "code",
      "execution_count": 57,
      "metadata": {
        "id": "vTZI2k9lMqm_",
        "outputId": "6097b43f-4ffe-4c5f-93ca-cba2e1b0853b",
        "colab": {
          "base_uri": "https://localhost:8080/",
          "height": 363
        }
      },
      "outputs": [
        {
          "output_type": "execute_result",
          "data": {
            "text/plain": [
              "    price  vehicletype gearbox  power  kilometer          fueltype  \\\n",
              "1   18300        coupe  manual    190     125000          gasoline   \n",
              "2    9800          suv    auto    163     125000          gasoline   \n",
              "3    1500        small  manual     75     150000            petrol   \n",
              "4    3600        small  manual     69      90000          gasoline   \n",
              "5     650        sedan  manual    102     150000            petrol   \n",
              "6    2200  convertible  manual    109     150000            petrol   \n",
              "8   14500          bus  manual    125      30000            petrol   \n",
              "9     999        small  manual    101     150000  fueltype_unknown   \n",
              "10   2000        sedan  manual    105     150000            petrol   \n",
              "11   2799        wagon  manual    140     150000          gasoline   \n",
              "\n",
              "            notrepaired  car_registered_days  datecreated_days  lastseen_days  \\\n",
              "1                   yes                 2072               283            268   \n",
              "2   notrepaired_unknown                 4536               293            270   \n",
              "3                    no                 5693               290            289   \n",
              "4                    no                 3106               276            269   \n",
              "5                   yes                 7763               272            269   \n",
              "6                    no                 4536               275            270   \n",
              "8   notrepaired_unknown                  884               272            271   \n",
              "9   notrepaired_unknown                 6940               290            275   \n",
              "10                   no                 4414               281            269   \n",
              "11                  yes                 4049               269            268   \n",
              "\n",
              "       brand_and_model  \n",
              "1   audi_model_unknown  \n",
              "2           jeep_grand  \n",
              "3      volkswagen_golf  \n",
              "4          skoda_fabia  \n",
              "5              bmw_3er  \n",
              "6      peugeot_2_reihe  \n",
              "8           ford_c_max  \n",
              "9      volkswagen_golf  \n",
              "10       mazda_3_reihe  \n",
              "11   volkswagen_passat  "
            ],
            "text/html": [
              "\n",
              "  <div id=\"df-8b9e1dd4-af31-46d9-ae41-cc3c0b2a53a6\">\n",
              "    <div class=\"colab-df-container\">\n",
              "      <div>\n",
              "<style scoped>\n",
              "    .dataframe tbody tr th:only-of-type {\n",
              "        vertical-align: middle;\n",
              "    }\n",
              "\n",
              "    .dataframe tbody tr th {\n",
              "        vertical-align: top;\n",
              "    }\n",
              "\n",
              "    .dataframe thead th {\n",
              "        text-align: right;\n",
              "    }\n",
              "</style>\n",
              "<table border=\"1\" class=\"dataframe\">\n",
              "  <thead>\n",
              "    <tr style=\"text-align: right;\">\n",
              "      <th></th>\n",
              "      <th>price</th>\n",
              "      <th>vehicletype</th>\n",
              "      <th>gearbox</th>\n",
              "      <th>power</th>\n",
              "      <th>kilometer</th>\n",
              "      <th>fueltype</th>\n",
              "      <th>notrepaired</th>\n",
              "      <th>car_registered_days</th>\n",
              "      <th>datecreated_days</th>\n",
              "      <th>lastseen_days</th>\n",
              "      <th>brand_and_model</th>\n",
              "    </tr>\n",
              "  </thead>\n",
              "  <tbody>\n",
              "    <tr>\n",
              "      <th>1</th>\n",
              "      <td>18300</td>\n",
              "      <td>coupe</td>\n",
              "      <td>manual</td>\n",
              "      <td>190</td>\n",
              "      <td>125000</td>\n",
              "      <td>gasoline</td>\n",
              "      <td>yes</td>\n",
              "      <td>2072</td>\n",
              "      <td>283</td>\n",
              "      <td>268</td>\n",
              "      <td>audi_model_unknown</td>\n",
              "    </tr>\n",
              "    <tr>\n",
              "      <th>2</th>\n",
              "      <td>9800</td>\n",
              "      <td>suv</td>\n",
              "      <td>auto</td>\n",
              "      <td>163</td>\n",
              "      <td>125000</td>\n",
              "      <td>gasoline</td>\n",
              "      <td>notrepaired_unknown</td>\n",
              "      <td>4536</td>\n",
              "      <td>293</td>\n",
              "      <td>270</td>\n",
              "      <td>jeep_grand</td>\n",
              "    </tr>\n",
              "    <tr>\n",
              "      <th>3</th>\n",
              "      <td>1500</td>\n",
              "      <td>small</td>\n",
              "      <td>manual</td>\n",
              "      <td>75</td>\n",
              "      <td>150000</td>\n",
              "      <td>petrol</td>\n",
              "      <td>no</td>\n",
              "      <td>5693</td>\n",
              "      <td>290</td>\n",
              "      <td>289</td>\n",
              "      <td>volkswagen_golf</td>\n",
              "    </tr>\n",
              "    <tr>\n",
              "      <th>4</th>\n",
              "      <td>3600</td>\n",
              "      <td>small</td>\n",
              "      <td>manual</td>\n",
              "      <td>69</td>\n",
              "      <td>90000</td>\n",
              "      <td>gasoline</td>\n",
              "      <td>no</td>\n",
              "      <td>3106</td>\n",
              "      <td>276</td>\n",
              "      <td>269</td>\n",
              "      <td>skoda_fabia</td>\n",
              "    </tr>\n",
              "    <tr>\n",
              "      <th>5</th>\n",
              "      <td>650</td>\n",
              "      <td>sedan</td>\n",
              "      <td>manual</td>\n",
              "      <td>102</td>\n",
              "      <td>150000</td>\n",
              "      <td>petrol</td>\n",
              "      <td>yes</td>\n",
              "      <td>7763</td>\n",
              "      <td>272</td>\n",
              "      <td>269</td>\n",
              "      <td>bmw_3er</td>\n",
              "    </tr>\n",
              "    <tr>\n",
              "      <th>6</th>\n",
              "      <td>2200</td>\n",
              "      <td>convertible</td>\n",
              "      <td>manual</td>\n",
              "      <td>109</td>\n",
              "      <td>150000</td>\n",
              "      <td>petrol</td>\n",
              "      <td>no</td>\n",
              "      <td>4536</td>\n",
              "      <td>275</td>\n",
              "      <td>270</td>\n",
              "      <td>peugeot_2_reihe</td>\n",
              "    </tr>\n",
              "    <tr>\n",
              "      <th>8</th>\n",
              "      <td>14500</td>\n",
              "      <td>bus</td>\n",
              "      <td>manual</td>\n",
              "      <td>125</td>\n",
              "      <td>30000</td>\n",
              "      <td>petrol</td>\n",
              "      <td>notrepaired_unknown</td>\n",
              "      <td>884</td>\n",
              "      <td>272</td>\n",
              "      <td>271</td>\n",
              "      <td>ford_c_max</td>\n",
              "    </tr>\n",
              "    <tr>\n",
              "      <th>9</th>\n",
              "      <td>999</td>\n",
              "      <td>small</td>\n",
              "      <td>manual</td>\n",
              "      <td>101</td>\n",
              "      <td>150000</td>\n",
              "      <td>fueltype_unknown</td>\n",
              "      <td>notrepaired_unknown</td>\n",
              "      <td>6940</td>\n",
              "      <td>290</td>\n",
              "      <td>275</td>\n",
              "      <td>volkswagen_golf</td>\n",
              "    </tr>\n",
              "    <tr>\n",
              "      <th>10</th>\n",
              "      <td>2000</td>\n",
              "      <td>sedan</td>\n",
              "      <td>manual</td>\n",
              "      <td>105</td>\n",
              "      <td>150000</td>\n",
              "      <td>petrol</td>\n",
              "      <td>no</td>\n",
              "      <td>4414</td>\n",
              "      <td>281</td>\n",
              "      <td>269</td>\n",
              "      <td>mazda_3_reihe</td>\n",
              "    </tr>\n",
              "    <tr>\n",
              "      <th>11</th>\n",
              "      <td>2799</td>\n",
              "      <td>wagon</td>\n",
              "      <td>manual</td>\n",
              "      <td>140</td>\n",
              "      <td>150000</td>\n",
              "      <td>gasoline</td>\n",
              "      <td>yes</td>\n",
              "      <td>4049</td>\n",
              "      <td>269</td>\n",
              "      <td>268</td>\n",
              "      <td>volkswagen_passat</td>\n",
              "    </tr>\n",
              "  </tbody>\n",
              "</table>\n",
              "</div>\n",
              "      <button class=\"colab-df-convert\" onclick=\"convertToInteractive('df-8b9e1dd4-af31-46d9-ae41-cc3c0b2a53a6')\"\n",
              "              title=\"Convert this dataframe to an interactive table.\"\n",
              "              style=\"display:none;\">\n",
              "        \n",
              "  <svg xmlns=\"http://www.w3.org/2000/svg\" height=\"24px\"viewBox=\"0 0 24 24\"\n",
              "       width=\"24px\">\n",
              "    <path d=\"M0 0h24v24H0V0z\" fill=\"none\"/>\n",
              "    <path d=\"M18.56 5.44l.94 2.06.94-2.06 2.06-.94-2.06-.94-.94-2.06-.94 2.06-2.06.94zm-11 1L8.5 8.5l.94-2.06 2.06-.94-2.06-.94L8.5 2.5l-.94 2.06-2.06.94zm10 10l.94 2.06.94-2.06 2.06-.94-2.06-.94-.94-2.06-.94 2.06-2.06.94z\"/><path d=\"M17.41 7.96l-1.37-1.37c-.4-.4-.92-.59-1.43-.59-.52 0-1.04.2-1.43.59L10.3 9.45l-7.72 7.72c-.78.78-.78 2.05 0 2.83L4 21.41c.39.39.9.59 1.41.59.51 0 1.02-.2 1.41-.59l7.78-7.78 2.81-2.81c.8-.78.8-2.07 0-2.86zM5.41 20L4 18.59l7.72-7.72 1.47 1.35L5.41 20z\"/>\n",
              "  </svg>\n",
              "      </button>\n",
              "      \n",
              "  <style>\n",
              "    .colab-df-container {\n",
              "      display:flex;\n",
              "      flex-wrap:wrap;\n",
              "      gap: 12px;\n",
              "    }\n",
              "\n",
              "    .colab-df-convert {\n",
              "      background-color: #E8F0FE;\n",
              "      border: none;\n",
              "      border-radius: 50%;\n",
              "      cursor: pointer;\n",
              "      display: none;\n",
              "      fill: #1967D2;\n",
              "      height: 32px;\n",
              "      padding: 0 0 0 0;\n",
              "      width: 32px;\n",
              "    }\n",
              "\n",
              "    .colab-df-convert:hover {\n",
              "      background-color: #E2EBFA;\n",
              "      box-shadow: 0px 1px 2px rgba(60, 64, 67, 0.3), 0px 1px 3px 1px rgba(60, 64, 67, 0.15);\n",
              "      fill: #174EA6;\n",
              "    }\n",
              "\n",
              "    [theme=dark] .colab-df-convert {\n",
              "      background-color: #3B4455;\n",
              "      fill: #D2E3FC;\n",
              "    }\n",
              "\n",
              "    [theme=dark] .colab-df-convert:hover {\n",
              "      background-color: #434B5C;\n",
              "      box-shadow: 0px 1px 3px 1px rgba(0, 0, 0, 0.15);\n",
              "      filter: drop-shadow(0px 1px 2px rgba(0, 0, 0, 0.3));\n",
              "      fill: #FFFFFF;\n",
              "    }\n",
              "  </style>\n",
              "\n",
              "      <script>\n",
              "        const buttonEl =\n",
              "          document.querySelector('#df-8b9e1dd4-af31-46d9-ae41-cc3c0b2a53a6 button.colab-df-convert');\n",
              "        buttonEl.style.display =\n",
              "          google.colab.kernel.accessAllowed ? 'block' : 'none';\n",
              "\n",
              "        async function convertToInteractive(key) {\n",
              "          const element = document.querySelector('#df-8b9e1dd4-af31-46d9-ae41-cc3c0b2a53a6');\n",
              "          const dataTable =\n",
              "            await google.colab.kernel.invokeFunction('convertToInteractive',\n",
              "                                                     [key], {});\n",
              "          if (!dataTable) return;\n",
              "\n",
              "          const docLinkHtml = 'Like what you see? Visit the ' +\n",
              "            '<a target=\"_blank\" href=https://colab.research.google.com/notebooks/data_table.ipynb>data table notebook</a>'\n",
              "            + ' to learn more about interactive tables.';\n",
              "          element.innerHTML = '';\n",
              "          dataTable['output_type'] = 'display_data';\n",
              "          await google.colab.output.renderOutput(dataTable, element);\n",
              "          const docLink = document.createElement('div');\n",
              "          docLink.innerHTML = docLinkHtml;\n",
              "          element.appendChild(docLink);\n",
              "        }\n",
              "      </script>\n",
              "    </div>\n",
              "  </div>\n",
              "  "
            ]
          },
          "metadata": {},
          "execution_count": 57
        }
      ],
      "source": [
        "df.head(10)"
      ]
    },
    {
      "cell_type": "code",
      "execution_count": 58,
      "metadata": {
        "scrolled": false,
        "id": "196L4xI3Mqm_",
        "outputId": "6c29753d-fbf7-4c7e-9973-aec27392e59f",
        "colab": {
          "base_uri": "https://localhost:8080/"
        }
      },
      "outputs": [
        {
          "output_type": "stream",
          "name": "stdout",
          "text": [
            "<class 'pandas.core.frame.DataFrame'>\n",
            "Int64Index: 283562 entries, 1 to 354368\n",
            "Data columns (total 11 columns):\n",
            " #   Column               Non-Null Count   Dtype \n",
            "---  ------               --------------   ----- \n",
            " 0   price                283562 non-null  int64 \n",
            " 1   vehicletype          283562 non-null  object\n",
            " 2   gearbox              283562 non-null  object\n",
            " 3   power                283562 non-null  int64 \n",
            " 4   kilometer            283562 non-null  int64 \n",
            " 5   fueltype             283562 non-null  object\n",
            " 6   notrepaired          283562 non-null  object\n",
            " 7   car_registered_days  283562 non-null  int64 \n",
            " 8   datecreated_days     283562 non-null  int64 \n",
            " 9   lastseen_days        283562 non-null  int64 \n",
            " 10  brand_and_model      283562 non-null  object\n",
            "dtypes: int64(6), object(5)\n",
            "memory usage: 26.0+ MB\n"
          ]
        }
      ],
      "source": [
        "df.info()"
      ]
    },
    {
      "cell_type": "markdown",
      "metadata": {
        "id": "qtw2PRrFMqnA"
      },
      "source": [
        "## Model fitting"
      ]
    },
    {
      "cell_type": "code",
      "execution_count": 59,
      "metadata": {
        "id": "5LKyZVOBMqnA"
      },
      "outputs": [],
      "source": [
        "X = df.drop('price', axis=1)\n",
        "y = df['price']"
      ]
    },
    {
      "cell_type": "markdown",
      "metadata": {
        "id": "O5ID2miaMqnA"
      },
      "source": [
        "Let's split the dataset into training, validation and test sets."
      ]
    },
    {
      "cell_type": "code",
      "execution_count": 60,
      "metadata": {
        "id": "VLKGWBngMqnA",
        "outputId": "c848d4ac-351f-484b-a408-dc26b5516085",
        "colab": {
          "base_uri": "https://localhost:8080/"
        }
      },
      "outputs": [
        {
          "output_type": "execute_result",
          "data": {
            "text/plain": [
              "((170136, 10), (56713, 10), (56713, 10), (170136,), (56713,), (56713,))"
            ]
          },
          "metadata": {},
          "execution_count": 60
        }
      ],
      "source": [
        "X_trainval, X_test, y_trainval, y_test = train_test_split(X, y, random_state=12345, test_size=0.2)\n",
        "X_train, X_val, y_train, y_val = train_test_split(X_trainval, y_trainval, random_state=12345, test_size=0.25)\n",
        "X_train.shape, X_val.shape, X_test.shape, y_train.shape, y_val.shape, y_test.shape"
      ]
    },
    {
      "cell_type": "code",
      "execution_count": 61,
      "metadata": {
        "id": "h1pmU71nMqnB",
        "outputId": "78161bb5-2c62-4f23-d566-0624fab45caa",
        "colab": {
          "base_uri": "https://localhost:8080/"
        }
      },
      "outputs": [
        {
          "output_type": "stream",
          "name": "stdout",
          "text": [
            "<class 'pandas.core.frame.DataFrame'>\n",
            "Int64Index: 170136 entries, 252558 to 178582\n",
            "Data columns (total 10 columns):\n",
            " #   Column               Non-Null Count   Dtype \n",
            "---  ------               --------------   ----- \n",
            " 0   vehicletype          170136 non-null  object\n",
            " 1   gearbox              170136 non-null  object\n",
            " 2   power                170136 non-null  int64 \n",
            " 3   kilometer            170136 non-null  int64 \n",
            " 4   fueltype             170136 non-null  object\n",
            " 5   notrepaired          170136 non-null  object\n",
            " 6   car_registered_days  170136 non-null  int64 \n",
            " 7   datecreated_days     170136 non-null  int64 \n",
            " 8   lastseen_days        170136 non-null  int64 \n",
            " 9   brand_and_model      170136 non-null  object\n",
            "dtypes: int64(5), object(5)\n",
            "memory usage: 14.3+ MB\n"
          ]
        }
      ],
      "source": [
        "X_train.info()"
      ]
    },
    {
      "cell_type": "code",
      "execution_count": 62,
      "metadata": {
        "id": "LRkhQvFsMqnB"
      },
      "outputs": [],
      "source": [
        "best_model = None\n",
        "best_model_rmse = 999999"
      ]
    },
    {
      "cell_type": "code",
      "execution_count": 63,
      "metadata": {
        "id": "BLVWA3txMqnB"
      },
      "outputs": [],
      "source": [
        "def predict_and_check_best(model, x_val, y_val):\n",
        "    global best_model, best_model_rmse\n",
        "    predict = model.predict(x_val)\n",
        "    rmse = mean_squared_error(y_val, predict)**0.5 \n",
        "    r2 = r2_score(y_val, predict)\n",
        "    print('RMSE =', rmse, '        R2 =', r2)\n",
        "    if rmse < best_model_rmse:\n",
        "        best_model = model\n",
        "        best_model_rmse = rmse"
      ]
    },
    {
      "cell_type": "markdown",
      "metadata": {
        "id": "e80gvIKWMqnB"
      },
      "source": [
        "### Catboost"
      ]
    },
    {
      "cell_type": "code",
      "execution_count": 64,
      "metadata": {
        "id": "RNwbXeHlMqnC",
        "outputId": "e381e1e0-668d-4d85-bfa7-9fbc13e51f69",
        "colab": {
          "base_uri": "https://localhost:8080/"
        }
      },
      "outputs": [
        {
          "output_type": "stream",
          "name": "stdout",
          "text": [
            "Learning rate set to 0.092182\n",
            "0:\tlearn: 4327.7535100\ttotal: 549ms\tremaining: 9m 8s\n",
            "100:\tlearn: 1734.0550120\ttotal: 38.7s\tremaining: 5m 44s\n",
            "200:\tlearn: 1652.8262345\ttotal: 55.2s\tremaining: 3m 39s\n",
            "300:\tlearn: 1608.9871475\ttotal: 1m 10s\tremaining: 2m 44s\n",
            "400:\tlearn: 1578.7908301\ttotal: 1m 26s\tremaining: 2m 8s\n",
            "500:\tlearn: 1555.3384960\ttotal: 1m 42s\tremaining: 1m 41s\n",
            "600:\tlearn: 1538.1667191\ttotal: 1m 59s\tremaining: 1m 19s\n",
            "700:\tlearn: 1522.3274341\ttotal: 2m 17s\tremaining: 58.6s\n",
            "800:\tlearn: 1508.4633070\ttotal: 2m 34s\tremaining: 38.4s\n",
            "900:\tlearn: 1493.9912457\ttotal: 2m 50s\tremaining: 18.8s\n",
            "999:\tlearn: 1483.0607783\ttotal: 3m 7s\tremaining: 0us\n",
            "CPU times: user 5min 10s, sys: 3.49 s, total: 5min 14s\n",
            "Wall time: 3min 9s\n"
          ]
        }
      ],
      "source": [
        "%%time\n",
        "cat_features = ['vehicletype', 'gearbox', 'fueltype', 'notrepaired', 'brand_and_model']\n",
        "train_pool = Pool(X_train, \n",
        "                  y_train, \n",
        "                  cat_features=cat_features)\n",
        "valid_pool = Pool(X_val, \n",
        "                  cat_features=cat_features)\n",
        "model = CatBoostRegressor(random_state=12345, verbose=100)\n",
        "model.fit(train_pool)"
      ]
    },
    {
      "cell_type": "code",
      "execution_count": 65,
      "metadata": {
        "scrolled": false,
        "id": "tHTBG21OMqnC",
        "outputId": "ee1c491a-e299-4801-ae5f-501c82b60a9b",
        "colab": {
          "base_uri": "https://localhost:8080/"
        }
      },
      "outputs": [
        {
          "output_type": "stream",
          "name": "stdout",
          "text": [
            "RMSE = 1568.8392017866304         R2 = 0.8853244404108536\n"
          ]
        }
      ],
      "source": [
        "predict_and_check_best(model, valid_pool, y_val)"
      ]
    },
    {
      "cell_type": "markdown",
      "metadata": {
        "id": "qJFCVo_kMqnC"
      },
      "source": [
        "Let's look at the feature importances."
      ]
    },
    {
      "cell_type": "code",
      "execution_count": 66,
      "metadata": {
        "id": "PqL0nlNpMqnC",
        "outputId": "1d6472fb-a3cc-4c39-9bdf-7b89bd71fac7",
        "colab": {
          "base_uri": "https://localhost:8080/"
        }
      },
      "outputs": [
        {
          "output_type": "execute_result",
          "data": {
            "text/plain": [
              "array([ 8.66147329,  0.72089148, 27.01477806,  8.00659386,  1.99206158,\n",
              "        2.80937238, 37.67917675,  0.6081809 ,  1.75919192, 10.74827977])"
            ]
          },
          "metadata": {},
          "execution_count": 66
        }
      ],
      "source": [
        "model.get_feature_importance()"
      ]
    },
    {
      "cell_type": "code",
      "execution_count": 67,
      "metadata": {
        "id": "cbZY3HePMqnC",
        "outputId": "43605297-9a84-42da-d8bf-f785fc47c5ce",
        "colab": {
          "base_uri": "https://localhost:8080/"
        }
      },
      "outputs": [
        {
          "output_type": "execute_result",
          "data": {
            "text/plain": [
              "Index(['vehicletype', 'gearbox', 'power', 'kilometer', 'fueltype',\n",
              "       'notrepaired', 'car_registered_days', 'datecreated_days',\n",
              "       'lastseen_days', 'brand_and_model'],\n",
              "      dtype='object')"
            ]
          },
          "metadata": {},
          "execution_count": 67
        }
      ],
      "source": [
        "X.columns"
      ]
    },
    {
      "cell_type": "markdown",
      "metadata": {
        "id": "cRY2N44uMqnD"
      },
      "source": [
        "As expected, the registration date of the car and its power make the biggest contribution to its price. It is very good that enough attention was paid to these features in pre-processing."
      ]
    },
    {
      "cell_type": "markdown",
      "metadata": {
        "id": "5y_Y3FCeMqnD"
      },
      "source": [
        "### LightGBM"
      ]
    },
    {
      "cell_type": "code",
      "execution_count": 68,
      "metadata": {
        "id": "ZD5V2YeRMqnD",
        "outputId": "249a95f9-aff2-4cdd-ffb3-8db660b3ab84",
        "colab": {
          "base_uri": "https://localhost:8080/"
        }
      },
      "outputs": [
        {
          "output_type": "stream",
          "name": "stdout",
          "text": [
            "CPU times: user 2.68 s, sys: 43.9 ms, total: 2.72 s\n",
            "Wall time: 1.67 s\n"
          ]
        }
      ],
      "source": [
        "%%time\n",
        "labelencoder = LabelEncoder()\n",
        "\n",
        "X_train_lgb, X_val_lgb = X_train.copy(), X_val.copy()\n",
        "\n",
        "for col in cat_features:\n",
        "    X_train_lgb[col] = labelencoder.fit_transform(X_train_lgb[col])\n",
        "    X_val_lgb[col] = labelencoder.fit_transform(X_val_lgb[col])\n",
        "\n",
        "for col in cat_features:\n",
        "    X_train_lgb[col] = X_train_lgb[col].astype('int')\n",
        "    X_val_lgb[col] = X_val_lgb[col].astype('int')\n",
        "\n",
        "train_data = lgb.Dataset(X_train_lgb, \n",
        "                         label=y_train, \n",
        "                         categorical_feature=cat_features, \n",
        "                         free_raw_data=False)\n",
        "\n",
        "params = {\n",
        "    'task': 'train', \n",
        "    'boosting': 'gbdt',\n",
        "    'objective': 'regression',\n",
        "    'num_leaves': 10,\n",
        "    'learning_rate': 0.05,\n",
        "    'metric': {'rmse'},\n",
        "}\n",
        " \n",
        "model = lgb.train(params,\n",
        "                 train_set=train_data)"
      ]
    },
    {
      "cell_type": "code",
      "execution_count": 69,
      "metadata": {
        "id": "b1QXlyneMqnE",
        "outputId": "1b624caa-696e-4ef3-af64-562d620abce0",
        "colab": {
          "base_uri": "https://localhost:8080/",
          "height": 423
        }
      },
      "outputs": [
        {
          "output_type": "execute_result",
          "data": {
            "text/plain": [
              "        vehicletype  gearbox  fueltype  notrepaired  brand_and_model\n",
              "252558            5        2         7            1               90\n",
              "277395            5        2         2            0              209\n",
              "36903             1        0         3            0              271\n",
              "312782            4        2         7            0               28\n",
              "58078             2        2         7            0               25\n",
              "...             ...      ...       ...          ...              ...\n",
              "332182            5        2         7            0              209\n",
              "260620            4        2         5            1               84\n",
              "40554             5        2         7            0              209\n",
              "280059            8        2         5            1               16\n",
              "178582            0        2         7            0              220\n",
              "\n",
              "[170136 rows x 5 columns]"
            ],
            "text/html": [
              "\n",
              "  <div id=\"df-03072a81-30fa-44d9-b6ea-e4ea47f76937\">\n",
              "    <div class=\"colab-df-container\">\n",
              "      <div>\n",
              "<style scoped>\n",
              "    .dataframe tbody tr th:only-of-type {\n",
              "        vertical-align: middle;\n",
              "    }\n",
              "\n",
              "    .dataframe tbody tr th {\n",
              "        vertical-align: top;\n",
              "    }\n",
              "\n",
              "    .dataframe thead th {\n",
              "        text-align: right;\n",
              "    }\n",
              "</style>\n",
              "<table border=\"1\" class=\"dataframe\">\n",
              "  <thead>\n",
              "    <tr style=\"text-align: right;\">\n",
              "      <th></th>\n",
              "      <th>vehicletype</th>\n",
              "      <th>gearbox</th>\n",
              "      <th>fueltype</th>\n",
              "      <th>notrepaired</th>\n",
              "      <th>brand_and_model</th>\n",
              "    </tr>\n",
              "  </thead>\n",
              "  <tbody>\n",
              "    <tr>\n",
              "      <th>252558</th>\n",
              "      <td>5</td>\n",
              "      <td>2</td>\n",
              "      <td>7</td>\n",
              "      <td>1</td>\n",
              "      <td>90</td>\n",
              "    </tr>\n",
              "    <tr>\n",
              "      <th>277395</th>\n",
              "      <td>5</td>\n",
              "      <td>2</td>\n",
              "      <td>2</td>\n",
              "      <td>0</td>\n",
              "      <td>209</td>\n",
              "    </tr>\n",
              "    <tr>\n",
              "      <th>36903</th>\n",
              "      <td>1</td>\n",
              "      <td>0</td>\n",
              "      <td>3</td>\n",
              "      <td>0</td>\n",
              "      <td>271</td>\n",
              "    </tr>\n",
              "    <tr>\n",
              "      <th>312782</th>\n",
              "      <td>4</td>\n",
              "      <td>2</td>\n",
              "      <td>7</td>\n",
              "      <td>0</td>\n",
              "      <td>28</td>\n",
              "    </tr>\n",
              "    <tr>\n",
              "      <th>58078</th>\n",
              "      <td>2</td>\n",
              "      <td>2</td>\n",
              "      <td>7</td>\n",
              "      <td>0</td>\n",
              "      <td>25</td>\n",
              "    </tr>\n",
              "    <tr>\n",
              "      <th>...</th>\n",
              "      <td>...</td>\n",
              "      <td>...</td>\n",
              "      <td>...</td>\n",
              "      <td>...</td>\n",
              "      <td>...</td>\n",
              "    </tr>\n",
              "    <tr>\n",
              "      <th>332182</th>\n",
              "      <td>5</td>\n",
              "      <td>2</td>\n",
              "      <td>7</td>\n",
              "      <td>0</td>\n",
              "      <td>209</td>\n",
              "    </tr>\n",
              "    <tr>\n",
              "      <th>260620</th>\n",
              "      <td>4</td>\n",
              "      <td>2</td>\n",
              "      <td>5</td>\n",
              "      <td>1</td>\n",
              "      <td>84</td>\n",
              "    </tr>\n",
              "    <tr>\n",
              "      <th>40554</th>\n",
              "      <td>5</td>\n",
              "      <td>2</td>\n",
              "      <td>7</td>\n",
              "      <td>0</td>\n",
              "      <td>209</td>\n",
              "    </tr>\n",
              "    <tr>\n",
              "      <th>280059</th>\n",
              "      <td>8</td>\n",
              "      <td>2</td>\n",
              "      <td>5</td>\n",
              "      <td>1</td>\n",
              "      <td>16</td>\n",
              "    </tr>\n",
              "    <tr>\n",
              "      <th>178582</th>\n",
              "      <td>0</td>\n",
              "      <td>2</td>\n",
              "      <td>7</td>\n",
              "      <td>0</td>\n",
              "      <td>220</td>\n",
              "    </tr>\n",
              "  </tbody>\n",
              "</table>\n",
              "<p>170136 rows × 5 columns</p>\n",
              "</div>\n",
              "      <button class=\"colab-df-convert\" onclick=\"convertToInteractive('df-03072a81-30fa-44d9-b6ea-e4ea47f76937')\"\n",
              "              title=\"Convert this dataframe to an interactive table.\"\n",
              "              style=\"display:none;\">\n",
              "        \n",
              "  <svg xmlns=\"http://www.w3.org/2000/svg\" height=\"24px\"viewBox=\"0 0 24 24\"\n",
              "       width=\"24px\">\n",
              "    <path d=\"M0 0h24v24H0V0z\" fill=\"none\"/>\n",
              "    <path d=\"M18.56 5.44l.94 2.06.94-2.06 2.06-.94-2.06-.94-.94-2.06-.94 2.06-2.06.94zm-11 1L8.5 8.5l.94-2.06 2.06-.94-2.06-.94L8.5 2.5l-.94 2.06-2.06.94zm10 10l.94 2.06.94-2.06 2.06-.94-2.06-.94-.94-2.06-.94 2.06-2.06.94z\"/><path d=\"M17.41 7.96l-1.37-1.37c-.4-.4-.92-.59-1.43-.59-.52 0-1.04.2-1.43.59L10.3 9.45l-7.72 7.72c-.78.78-.78 2.05 0 2.83L4 21.41c.39.39.9.59 1.41.59.51 0 1.02-.2 1.41-.59l7.78-7.78 2.81-2.81c.8-.78.8-2.07 0-2.86zM5.41 20L4 18.59l7.72-7.72 1.47 1.35L5.41 20z\"/>\n",
              "  </svg>\n",
              "      </button>\n",
              "      \n",
              "  <style>\n",
              "    .colab-df-container {\n",
              "      display:flex;\n",
              "      flex-wrap:wrap;\n",
              "      gap: 12px;\n",
              "    }\n",
              "\n",
              "    .colab-df-convert {\n",
              "      background-color: #E8F0FE;\n",
              "      border: none;\n",
              "      border-radius: 50%;\n",
              "      cursor: pointer;\n",
              "      display: none;\n",
              "      fill: #1967D2;\n",
              "      height: 32px;\n",
              "      padding: 0 0 0 0;\n",
              "      width: 32px;\n",
              "    }\n",
              "\n",
              "    .colab-df-convert:hover {\n",
              "      background-color: #E2EBFA;\n",
              "      box-shadow: 0px 1px 2px rgba(60, 64, 67, 0.3), 0px 1px 3px 1px rgba(60, 64, 67, 0.15);\n",
              "      fill: #174EA6;\n",
              "    }\n",
              "\n",
              "    [theme=dark] .colab-df-convert {\n",
              "      background-color: #3B4455;\n",
              "      fill: #D2E3FC;\n",
              "    }\n",
              "\n",
              "    [theme=dark] .colab-df-convert:hover {\n",
              "      background-color: #434B5C;\n",
              "      box-shadow: 0px 1px 3px 1px rgba(0, 0, 0, 0.15);\n",
              "      filter: drop-shadow(0px 1px 2px rgba(0, 0, 0, 0.3));\n",
              "      fill: #FFFFFF;\n",
              "    }\n",
              "  </style>\n",
              "\n",
              "      <script>\n",
              "        const buttonEl =\n",
              "          document.querySelector('#df-03072a81-30fa-44d9-b6ea-e4ea47f76937 button.colab-df-convert');\n",
              "        buttonEl.style.display =\n",
              "          google.colab.kernel.accessAllowed ? 'block' : 'none';\n",
              "\n",
              "        async function convertToInteractive(key) {\n",
              "          const element = document.querySelector('#df-03072a81-30fa-44d9-b6ea-e4ea47f76937');\n",
              "          const dataTable =\n",
              "            await google.colab.kernel.invokeFunction('convertToInteractive',\n",
              "                                                     [key], {});\n",
              "          if (!dataTable) return;\n",
              "\n",
              "          const docLinkHtml = 'Like what you see? Visit the ' +\n",
              "            '<a target=\"_blank\" href=https://colab.research.google.com/notebooks/data_table.ipynb>data table notebook</a>'\n",
              "            + ' to learn more about interactive tables.';\n",
              "          element.innerHTML = '';\n",
              "          dataTable['output_type'] = 'display_data';\n",
              "          await google.colab.output.renderOutput(dataTable, element);\n",
              "          const docLink = document.createElement('div');\n",
              "          docLink.innerHTML = docLinkHtml;\n",
              "          element.appendChild(docLink);\n",
              "        }\n",
              "      </script>\n",
              "    </div>\n",
              "  </div>\n",
              "  "
            ]
          },
          "metadata": {},
          "execution_count": 69
        }
      ],
      "source": [
        " X_train_lgb[cat_features]"
      ]
    },
    {
      "cell_type": "code",
      "execution_count": 70,
      "metadata": {
        "id": "oBg-lP3dMqnF",
        "outputId": "5f9ce4ec-1785-440a-a1fb-98371c6a5f06",
        "colab": {
          "base_uri": "https://localhost:8080/"
        }
      },
      "outputs": [
        {
          "output_type": "stream",
          "name": "stdout",
          "text": [
            "RMSE = 2079.5752115773503         R2 = 0.798505467382855\n"
          ]
        }
      ],
      "source": [
        "predict_and_check_best(model, X_val_lgb, y_val)"
      ]
    },
    {
      "cell_type": "markdown",
      "metadata": {
        "id": "hgNXkFdeMqnG"
      },
      "source": [
        "### DummyRegressor"
      ]
    },
    {
      "cell_type": "code",
      "execution_count": 71,
      "metadata": {
        "id": "ZIldoeaOMqnG",
        "outputId": "5284c813-9a2c-47ca-81dc-bc017864ded9",
        "colab": {
          "base_uri": "https://localhost:8080/"
        }
      },
      "outputs": [
        {
          "output_type": "execute_result",
          "data": {
            "text/plain": [
              "DummyRegressor()"
            ]
          },
          "metadata": {},
          "execution_count": 71
        }
      ],
      "source": [
        "model = DummyRegressor()\n",
        "model.fit(X_train, y_train)"
      ]
    },
    {
      "cell_type": "code",
      "execution_count": 72,
      "metadata": {
        "id": "3UlNweBTMqnG",
        "outputId": "5eac25b0-c596-4e2e-eb53-6199bf43a669",
        "colab": {
          "base_uri": "https://localhost:8080/"
        }
      },
      "outputs": [
        {
          "output_type": "stream",
          "name": "stdout",
          "text": [
            "RMSE = 4632.927503806197         R2 = -5.7592026342145886e-05\n"
          ]
        }
      ],
      "source": [
        "predict_and_check_best(model, X_val, y_val)"
      ]
    },
    {
      "cell_type": "markdown",
      "metadata": {
        "id": "E6WcobfsMqnG"
      },
      "source": [
        "## Analysis of models"
      ]
    },
    {
      "cell_type": "markdown",
      "metadata": {
        "id": "GYYJ65LeMqnG"
      },
      "source": [
        "Лучшая модель:"
      ]
    },
    {
      "cell_type": "code",
      "execution_count": 73,
      "metadata": {
        "scrolled": true,
        "id": "szGBYEXEMqnH",
        "outputId": "baaf24d5-88b0-4184-ecf5-66706fe9a8b8",
        "colab": {
          "base_uri": "https://localhost:8080/"
        }
      },
      "outputs": [
        {
          "output_type": "execute_result",
          "data": {
            "text/plain": [
              "<catboost.core.CatBoostRegressor at 0x7f0ada6a3ed0>"
            ]
          },
          "metadata": {},
          "execution_count": 73
        }
      ],
      "source": [
        "best_model"
      ]
    },
    {
      "cell_type": "markdown",
      "metadata": {
        "id": "HZxLaC_BMqnH"
      },
      "source": [
        "Let's test it on test data"
      ]
    },
    {
      "cell_type": "code",
      "execution_count": 74,
      "metadata": {
        "id": "SDY7TVkAMqnH",
        "outputId": "284a5d16-f50d-4e1c-d686-4488a9e9ad3a",
        "colab": {
          "base_uri": "https://localhost:8080/"
        }
      },
      "outputs": [
        {
          "output_type": "execute_result",
          "data": {
            "text/plain": [
              "1558.3474206084254"
            ]
          },
          "metadata": {},
          "execution_count": 74
        }
      ],
      "source": [
        "test_pool = Pool(X_test, cat_features=cat_features)\n",
        "predict = best_model.predict(test_pool)\n",
        "rmse = mean_squared_error(y_test, predict)**0.5 \n",
        "rmse"
      ]
    },
    {
      "cell_type": "markdown",
      "metadata": {
        "id": "UEq4Y3dNMqnH"
      },
      "source": [
        "### Conclusions:"
      ]
    },
    {
      "cell_type": "markdown",
      "metadata": {
        "id": "ed1JdEG-MqnH"
      },
      "source": [
        "1. The catboost model showed the best result. In the catboost learning rate parameter was inspected butsignificant difference in the quality was not found. The documentation for the catboost says that the model itself does a good job of selecting the learing rate and in most cases turns out to be right or almost right. Catboost turned out to be the most friendly in terms of studying the docs. Out of the box, with default settings, it gives good predictions that can probably be improved, but finding these improvements will be a very non-trivial task for a beginner developer. The model fitting time is acceptable. It is also worth saying about the simplicity of working with categorical features.\n",
        "\n",
        "\n",
        "2. LightGBM's learning rate and num_leaves parameters were inspected. Tuning LightGBM parameters is more costly in terms of effort and time (Optimization works with optuna). With categorical features, unlike the catboost, we had to tinker. It turned out that LightGMB does not understand categorical features \"as is\", and they need to be converted somehow. In this project these features were converted with LabelEncoder to integers, and integers are accepted by LightGMB as categoricals. However LabelEncoder is most likely not a good way to convert the features\n",
        "\n",
        "\n",
        "3. Since the test sample was determined during the preprocessing, the model will not show a similar quality on \"dirty\" initial data. A simple reasoning follows from this: it is necessary not to let users pollute this data, namely, to check the data for adequacy at the time the user fills out the ad. The most basic and obvious problems were found in the work, such as: zero price, incorrect (zero or too high) power, incorrect year of registration of the car, duplicates. Having fixed them, the dataset was reduced by about a quarter. Probably some more complex problems were not found. But those that are found should be eliminated at the time of data collection. Then, using the model for predictions, the quality of its work will be better than that of the model trained on \"dirty\" data.\n",
        "\n",
        "\n",
        "4. Some feature engineering work was done. For example, we may try to consider the kilometer column both as a numerical and as a categorical feature. Numerical was slightly better. Also, the features brand and model, which were originally two columns, we converted to one column, because logically, the value of the 'model' features does not make sense in isolation from the value of 'brand' feature. This also has little effect on the the model, but nevertheless, such a study can be no less meaningful than directly choosing the model and its parameters. Especially note the postalcode column, which was removed at the preprocessing stage. Although the integer values ​​of this column make little sense on their own, converting them to some geographic data (region, country, etc.) and using that as a feature can also be useful."
      ]
    },
    {
      "cell_type": "code",
      "execution_count": 74,
      "metadata": {
        "id": "0N8lCovsMqnJ"
      },
      "outputs": [],
      "source": [
        ""
      ]
    }
  ],
  "metadata": {
    "ExecuteTimeLog": [
      {
        "duration": 459,
        "start_time": "2022-06-06T09:16:29.726Z"
      },
      {
        "duration": 2964,
        "start_time": "2022-06-06T09:16:48.099Z"
      },
      {
        "duration": 28,
        "start_time": "2022-06-06T09:16:51.066Z"
      },
      {
        "duration": 16,
        "start_time": "2022-06-06T09:16:59.963Z"
      },
      {
        "duration": 228,
        "start_time": "2022-06-06T09:17:01.921Z"
      },
      {
        "duration": 592,
        "start_time": "2022-06-06T09:19:07.628Z"
      },
      {
        "duration": 3,
        "start_time": "2022-06-06T09:20:30.297Z"
      },
      {
        "duration": 135,
        "start_time": "2022-06-06T09:20:41.312Z"
      },
      {
        "duration": 3,
        "start_time": "2022-06-06T09:20:48.991Z"
      },
      {
        "duration": 126,
        "start_time": "2022-06-06T09:20:49.487Z"
      },
      {
        "duration": 639,
        "start_time": "2022-06-06T09:21:20.145Z"
      },
      {
        "duration": 241,
        "start_time": "2022-06-06T09:21:32.973Z"
      },
      {
        "duration": 218,
        "start_time": "2022-06-06T09:21:43.127Z"
      },
      {
        "duration": 219,
        "start_time": "2022-06-06T09:22:06.806Z"
      },
      {
        "duration": 286,
        "start_time": "2022-06-06T09:22:33.566Z"
      },
      {
        "duration": 36,
        "start_time": "2022-06-06T09:23:03.096Z"
      },
      {
        "duration": 37,
        "start_time": "2022-06-06T09:23:32.783Z"
      },
      {
        "duration": 65,
        "start_time": "2022-06-06T09:24:07.357Z"
      },
      {
        "duration": 385,
        "start_time": "2022-06-06T09:25:46.294Z"
      },
      {
        "duration": 26,
        "start_time": "2022-06-06T09:26:03.854Z"
      },
      {
        "duration": 73,
        "start_time": "2022-06-06T09:27:00.939Z"
      },
      {
        "duration": 37,
        "start_time": "2022-06-06T09:27:23.997Z"
      },
      {
        "duration": 33,
        "start_time": "2022-06-06T09:27:48.112Z"
      },
      {
        "duration": 24,
        "start_time": "2022-06-06T09:28:54.236Z"
      },
      {
        "duration": 333,
        "start_time": "2022-06-06T09:32:24.579Z"
      },
      {
        "duration": 68,
        "start_time": "2022-06-06T09:33:23.825Z"
      },
      {
        "duration": 343,
        "start_time": "2022-06-06T09:33:48.817Z"
      },
      {
        "duration": 12,
        "start_time": "2022-06-06T09:34:12.231Z"
      },
      {
        "duration": 12,
        "start_time": "2022-06-06T09:34:56.226Z"
      },
      {
        "duration": 71,
        "start_time": "2022-06-06T09:36:50.616Z"
      },
      {
        "duration": 74,
        "start_time": "2022-06-06T09:37:33.296Z"
      },
      {
        "duration": 64,
        "start_time": "2022-06-06T09:38:31.127Z"
      },
      {
        "duration": 65,
        "start_time": "2022-06-06T09:39:15.447Z"
      },
      {
        "duration": 10,
        "start_time": "2022-06-06T09:40:26.214Z"
      },
      {
        "duration": 13,
        "start_time": "2022-06-06T09:41:06.973Z"
      },
      {
        "duration": 255,
        "start_time": "2022-06-06T09:41:42.006Z"
      },
      {
        "duration": 3,
        "start_time": "2022-06-06T09:46:45.052Z"
      },
      {
        "duration": 10,
        "start_time": "2022-06-06T09:47:19.227Z"
      },
      {
        "duration": 3,
        "start_time": "2022-06-06T09:47:22.898Z"
      },
      {
        "duration": 2,
        "start_time": "2022-06-06T09:47:23.619Z"
      },
      {
        "duration": 539,
        "start_time": "2022-06-06T09:47:24.620Z"
      },
      {
        "duration": 3,
        "start_time": "2022-06-06T09:47:35.162Z"
      },
      {
        "duration": 3,
        "start_time": "2022-06-06T09:47:35.538Z"
      },
      {
        "duration": 111,
        "start_time": "2022-06-06T09:47:36.339Z"
      },
      {
        "duration": 139,
        "start_time": "2022-06-06T09:47:43.859Z"
      },
      {
        "duration": 3,
        "start_time": "2022-06-06T09:47:59.394Z"
      },
      {
        "duration": 4,
        "start_time": "2022-06-06T09:47:59.890Z"
      },
      {
        "duration": 97,
        "start_time": "2022-06-06T09:48:00.155Z"
      },
      {
        "duration": 133,
        "start_time": "2022-06-06T09:48:06.770Z"
      },
      {
        "duration": 62,
        "start_time": "2022-06-06T09:48:24.075Z"
      },
      {
        "duration": 3,
        "start_time": "2022-06-06T09:54:41.596Z"
      },
      {
        "duration": 3,
        "start_time": "2022-06-06T09:54:42.112Z"
      },
      {
        "duration": 22,
        "start_time": "2022-06-06T09:54:42.592Z"
      },
      {
        "duration": 8,
        "start_time": "2022-06-06T09:54:42.984Z"
      },
      {
        "duration": 679,
        "start_time": "2022-06-06T09:54:59.977Z"
      },
      {
        "duration": 93,
        "start_time": "2022-06-06T09:55:06.425Z"
      },
      {
        "duration": 4,
        "start_time": "2022-06-06T09:59:32.047Z"
      },
      {
        "duration": 3,
        "start_time": "2022-06-06T09:59:32.983Z"
      },
      {
        "duration": 4,
        "start_time": "2022-06-06T09:59:33.358Z"
      },
      {
        "duration": 33,
        "start_time": "2022-06-06T09:59:33.710Z"
      },
      {
        "duration": 101,
        "start_time": "2022-06-06T09:59:34.326Z"
      },
      {
        "duration": 6,
        "start_time": "2022-06-06T10:00:11.392Z"
      },
      {
        "duration": 383,
        "start_time": "2022-06-06T10:02:16.033Z"
      },
      {
        "duration": 2,
        "start_time": "2022-06-06T10:02:17.070Z"
      },
      {
        "duration": 257435,
        "start_time": "2022-06-06T10:02:23.622Z"
      },
      {
        "duration": 4,
        "start_time": "2022-06-06T10:06:46.293Z"
      },
      {
        "duration": 3,
        "start_time": "2022-06-06T10:08:02.972Z"
      },
      {
        "duration": 53,
        "start_time": "2022-06-06T10:08:45.395Z"
      },
      {
        "duration": 603,
        "start_time": "2022-06-06T10:08:48.084Z"
      },
      {
        "duration": 6,
        "start_time": "2022-06-06T10:08:50.051Z"
      },
      {
        "duration": 9,
        "start_time": "2022-06-06T10:09:50.827Z"
      },
      {
        "duration": 4,
        "start_time": "2022-06-06T10:09:55.042Z"
      },
      {
        "duration": 5,
        "start_time": "2022-06-06T10:09:57.763Z"
      },
      {
        "duration": 6,
        "start_time": "2022-06-06T10:10:00.499Z"
      },
      {
        "duration": 159,
        "start_time": "2022-06-06T10:16:58.521Z"
      },
      {
        "duration": 150,
        "start_time": "2022-06-06T10:17:13.824Z"
      },
      {
        "duration": 47,
        "start_time": "2022-06-06T10:17:24.799Z"
      },
      {
        "duration": 3,
        "start_time": "2022-06-06T10:17:56.287Z"
      },
      {
        "duration": 2,
        "start_time": "2022-06-06T10:17:56.712Z"
      },
      {
        "duration": 2,
        "start_time": "2022-06-06T10:17:57.247Z"
      },
      {
        "duration": 3,
        "start_time": "2022-06-06T10:18:11.895Z"
      },
      {
        "duration": 2,
        "start_time": "2022-06-06T10:18:12.176Z"
      },
      {
        "duration": 3,
        "start_time": "2022-06-06T10:18:12.447Z"
      },
      {
        "duration": 20,
        "start_time": "2022-06-06T10:18:13.183Z"
      },
      {
        "duration": 15,
        "start_time": "2022-06-06T10:20:02.089Z"
      },
      {
        "duration": 51,
        "start_time": "2022-06-06T10:20:03.366Z"
      },
      {
        "duration": 6,
        "start_time": "2022-06-06T10:20:04.146Z"
      },
      {
        "duration": 4,
        "start_time": "2022-06-06T10:20:13.414Z"
      },
      {
        "duration": 364,
        "start_time": "2022-06-06T10:20:24.694Z"
      },
      {
        "duration": 1069,
        "start_time": "2022-06-06T10:24:23.211Z"
      },
      {
        "duration": 1437,
        "start_time": "2022-06-06T10:24:24.282Z"
      },
      {
        "duration": 21,
        "start_time": "2022-06-06T10:24:25.721Z"
      },
      {
        "duration": 131,
        "start_time": "2022-06-06T10:24:25.744Z"
      },
      {
        "duration": 4,
        "start_time": "2022-06-06T10:24:25.877Z"
      },
      {
        "duration": 147,
        "start_time": "2022-06-06T10:24:25.883Z"
      },
      {
        "duration": 565,
        "start_time": "2022-06-06T10:24:26.032Z"
      },
      {
        "duration": 42,
        "start_time": "2022-06-06T10:24:26.599Z"
      },
      {
        "duration": 32,
        "start_time": "2022-06-06T10:24:26.643Z"
      },
      {
        "duration": 273,
        "start_time": "2022-06-06T10:24:26.677Z"
      },
      {
        "duration": 36,
        "start_time": "2022-06-06T10:24:26.951Z"
      },
      {
        "duration": 11,
        "start_time": "2022-06-06T10:24:26.988Z"
      },
      {
        "duration": 7,
        "start_time": "2022-06-06T10:24:27.000Z"
      },
      {
        "duration": 59,
        "start_time": "2022-06-06T10:24:27.009Z"
      },
      {
        "duration": 38,
        "start_time": "2022-06-06T10:24:27.069Z"
      },
      {
        "duration": 58,
        "start_time": "2022-06-06T10:24:27.108Z"
      },
      {
        "duration": 36,
        "start_time": "2022-06-06T10:24:27.168Z"
      },
      {
        "duration": 9,
        "start_time": "2022-06-06T10:24:27.206Z"
      },
      {
        "duration": 29,
        "start_time": "2022-06-06T10:24:27.217Z"
      },
      {
        "duration": 241,
        "start_time": "2022-06-06T10:24:27.248Z"
      },
      {
        "duration": 2,
        "start_time": "2022-06-06T10:24:27.491Z"
      },
      {
        "duration": 102,
        "start_time": "2022-06-06T10:24:27.495Z"
      },
      {
        "duration": 143,
        "start_time": "2022-06-06T10:24:27.598Z"
      },
      {
        "duration": 199,
        "start_time": "2022-06-06T10:24:27.743Z"
      },
      {
        "duration": 204,
        "start_time": "2022-06-06T10:24:27.945Z"
      },
      {
        "duration": 52,
        "start_time": "2022-06-06T10:24:28.151Z"
      },
      {
        "duration": 3,
        "start_time": "2022-06-06T10:24:28.205Z"
      },
      {
        "duration": 28,
        "start_time": "2022-06-06T10:24:28.213Z"
      },
      {
        "duration": 3,
        "start_time": "2022-06-06T10:24:28.243Z"
      },
      {
        "duration": 19,
        "start_time": "2022-06-06T10:24:28.248Z"
      },
      {
        "duration": 73,
        "start_time": "2022-06-06T10:24:28.269Z"
      },
      {
        "duration": 5,
        "start_time": "2022-06-06T10:24:28.343Z"
      },
      {
        "duration": 442,
        "start_time": "2022-06-06T10:24:28.349Z"
      },
      {
        "duration": 0,
        "start_time": "2022-06-06T10:24:28.793Z"
      },
      {
        "duration": 0,
        "start_time": "2022-06-06T10:24:28.795Z"
      },
      {
        "duration": 0,
        "start_time": "2022-06-06T10:24:28.796Z"
      },
      {
        "duration": 0,
        "start_time": "2022-06-06T10:24:28.798Z"
      },
      {
        "duration": 0,
        "start_time": "2022-06-06T10:24:28.799Z"
      },
      {
        "duration": 320,
        "start_time": "2022-06-06T10:24:48.177Z"
      },
      {
        "duration": 3,
        "start_time": "2022-06-06T10:24:49.900Z"
      },
      {
        "duration": 248861,
        "start_time": "2022-06-06T10:24:50.678Z"
      },
      {
        "duration": 513,
        "start_time": "2022-06-06T10:28:59.541Z"
      },
      {
        "duration": 7,
        "start_time": "2022-06-06T10:29:00.055Z"
      },
      {
        "duration": 9,
        "start_time": "2022-06-06T10:29:00.064Z"
      },
      {
        "duration": 81,
        "start_time": "2022-06-06T10:32:39.178Z"
      },
      {
        "duration": 20,
        "start_time": "2022-06-06T10:32:56.504Z"
      },
      {
        "duration": 273405,
        "start_time": "2022-06-06T10:35:22.234Z"
      },
      {
        "duration": 149393,
        "start_time": "2022-06-06T10:42:01.607Z"
      },
      {
        "duration": 252,
        "start_time": "2022-06-06T10:46:36.437Z"
      },
      {
        "duration": 156,
        "start_time": "2022-06-06T10:47:28.411Z"
      },
      {
        "duration": 164,
        "start_time": "2022-06-06T10:47:48.452Z"
      },
      {
        "duration": 6,
        "start_time": "2022-06-06T10:48:01.619Z"
      },
      {
        "duration": 43,
        "start_time": "2022-06-06T10:49:34.795Z"
      },
      {
        "duration": 5,
        "start_time": "2022-06-06T10:51:44.477Z"
      },
      {
        "duration": 5,
        "start_time": "2022-06-06T10:52:04.522Z"
      },
      {
        "duration": 30,
        "start_time": "2022-06-06T10:53:38.456Z"
      },
      {
        "duration": 24,
        "start_time": "2022-06-06T10:53:52.391Z"
      },
      {
        "duration": 195,
        "start_time": "2022-06-06T10:54:17.337Z"
      },
      {
        "duration": 192,
        "start_time": "2022-06-06T10:54:27.218Z"
      },
      {
        "duration": 5,
        "start_time": "2022-06-06T10:55:00.832Z"
      },
      {
        "duration": 83,
        "start_time": "2022-06-06T10:55:53.878Z"
      },
      {
        "duration": 77,
        "start_time": "2022-06-06T10:58:02.244Z"
      },
      {
        "duration": 14,
        "start_time": "2022-06-06T10:58:50.011Z"
      },
      {
        "duration": 11,
        "start_time": "2022-06-06T10:59:07.818Z"
      },
      {
        "duration": 68,
        "start_time": "2022-06-06T11:00:11.382Z"
      },
      {
        "duration": 118,
        "start_time": "2022-06-06T11:00:32.308Z"
      },
      {
        "duration": 141,
        "start_time": "2022-06-06T11:00:52.553Z"
      },
      {
        "duration": 154,
        "start_time": "2022-06-06T11:01:59.917Z"
      },
      {
        "duration": 209,
        "start_time": "2022-06-06T11:02:38.794Z"
      },
      {
        "duration": 233,
        "start_time": "2022-06-06T11:02:45.349Z"
      },
      {
        "duration": 259,
        "start_time": "2022-06-06T11:02:50.042Z"
      },
      {
        "duration": 272,
        "start_time": "2022-06-06T11:02:53.427Z"
      },
      {
        "duration": 217,
        "start_time": "2022-06-06T11:03:28.754Z"
      },
      {
        "duration": 4,
        "start_time": "2022-06-06T11:18:23.169Z"
      },
      {
        "duration": 6,
        "start_time": "2022-06-06T11:18:28.878Z"
      },
      {
        "duration": 4,
        "start_time": "2022-06-06T11:19:28.514Z"
      },
      {
        "duration": 234,
        "start_time": "2022-06-06T11:19:45.018Z"
      },
      {
        "duration": 180,
        "start_time": "2022-06-06T11:19:51.274Z"
      },
      {
        "duration": 262,
        "start_time": "2022-06-06T11:20:14.947Z"
      },
      {
        "duration": 208,
        "start_time": "2022-06-06T11:20:20.331Z"
      },
      {
        "duration": 230,
        "start_time": "2022-06-06T11:21:04.482Z"
      },
      {
        "duration": 28,
        "start_time": "2022-06-06T11:21:27.409Z"
      },
      {
        "duration": 3,
        "start_time": "2022-06-06T11:29:00.078Z"
      },
      {
        "duration": 4,
        "start_time": "2022-06-06T11:29:07.517Z"
      },
      {
        "duration": 11,
        "start_time": "2022-06-06T11:29:13.397Z"
      },
      {
        "duration": 4,
        "start_time": "2022-06-06T11:29:41.548Z"
      },
      {
        "duration": 4,
        "start_time": "2022-06-06T11:30:02.341Z"
      },
      {
        "duration": 158,
        "start_time": "2022-06-06T11:34:23.211Z"
      },
      {
        "duration": 53,
        "start_time": "2022-06-06T11:37:24.429Z"
      },
      {
        "duration": 13,
        "start_time": "2022-06-06T11:37:38.441Z"
      },
      {
        "duration": 385,
        "start_time": "2022-06-06T11:38:01.889Z"
      },
      {
        "duration": 6,
        "start_time": "2022-06-06T11:39:36.680Z"
      },
      {
        "duration": 10,
        "start_time": "2022-06-06T11:39:42.392Z"
      },
      {
        "duration": 9,
        "start_time": "2022-06-06T11:39:54.633Z"
      },
      {
        "duration": 10,
        "start_time": "2022-06-06T11:42:00.724Z"
      },
      {
        "duration": 3,
        "start_time": "2022-06-06T11:42:05.311Z"
      },
      {
        "duration": 474,
        "start_time": "2022-06-06T11:42:11.150Z"
      },
      {
        "duration": 26,
        "start_time": "2022-06-06T11:44:41.958Z"
      },
      {
        "duration": 10,
        "start_time": "2022-06-06T11:44:57.686Z"
      },
      {
        "duration": 7,
        "start_time": "2022-06-06T11:45:06.270Z"
      },
      {
        "duration": 6,
        "start_time": "2022-06-06T11:45:13.465Z"
      },
      {
        "duration": 28,
        "start_time": "2022-06-06T11:46:25.645Z"
      },
      {
        "duration": 4,
        "start_time": "2022-06-06T11:51:01.052Z"
      },
      {
        "duration": 31,
        "start_time": "2022-06-06T11:55:21.361Z"
      },
      {
        "duration": 27,
        "start_time": "2022-06-08T07:05:28.183Z"
      },
      {
        "duration": 939,
        "start_time": "2022-06-08T07:05:34.276Z"
      },
      {
        "duration": 1051,
        "start_time": "2022-06-08T07:05:36.243Z"
      },
      {
        "duration": 19,
        "start_time": "2022-06-08T07:05:37.788Z"
      },
      {
        "duration": 156,
        "start_time": "2022-06-08T07:05:39.195Z"
      },
      {
        "duration": 3,
        "start_time": "2022-06-08T07:05:41.875Z"
      },
      {
        "duration": 675,
        "start_time": "2022-06-08T07:07:36.428Z"
      },
      {
        "duration": 24,
        "start_time": "2022-06-08T07:08:00.659Z"
      },
      {
        "duration": 63,
        "start_time": "2022-06-08T07:08:41.032Z"
      },
      {
        "duration": 23,
        "start_time": "2022-06-08T07:09:05.788Z"
      },
      {
        "duration": 14,
        "start_time": "2022-06-08T07:09:21.866Z"
      },
      {
        "duration": 65,
        "start_time": "2022-06-08T07:14:43.297Z"
      },
      {
        "duration": 246,
        "start_time": "2022-06-08T07:14:54.753Z"
      },
      {
        "duration": 29,
        "start_time": "2022-06-08T07:15:44.096Z"
      },
      {
        "duration": 89,
        "start_time": "2022-06-08T07:17:51.854Z"
      },
      {
        "duration": 20,
        "start_time": "2022-06-08T07:20:55.752Z"
      },
      {
        "duration": 209,
        "start_time": "2022-06-08T07:21:25.677Z"
      },
      {
        "duration": 231,
        "start_time": "2022-06-08T07:21:29.070Z"
      },
      {
        "duration": 183,
        "start_time": "2022-06-08T07:21:42.573Z"
      },
      {
        "duration": 240,
        "start_time": "2022-06-08T07:23:22.883Z"
      },
      {
        "duration": 261,
        "start_time": "2022-06-08T07:23:34.669Z"
      },
      {
        "duration": 54,
        "start_time": "2022-06-08T07:26:13.794Z"
      },
      {
        "duration": 19,
        "start_time": "2022-06-08T07:26:29.571Z"
      },
      {
        "duration": 58,
        "start_time": "2022-06-08T07:27:10.970Z"
      },
      {
        "duration": 9,
        "start_time": "2022-06-08T07:27:12.464Z"
      },
      {
        "duration": 18,
        "start_time": "2022-06-08T07:27:50.562Z"
      },
      {
        "duration": 35,
        "start_time": "2022-06-08T07:29:17.112Z"
      },
      {
        "duration": 32,
        "start_time": "2022-06-08T07:29:33.738Z"
      },
      {
        "duration": 35,
        "start_time": "2022-06-08T07:29:40.816Z"
      },
      {
        "duration": 66,
        "start_time": "2022-06-08T07:30:16.129Z"
      },
      {
        "duration": 16,
        "start_time": "2022-06-08T07:33:14.663Z"
      },
      {
        "duration": 51,
        "start_time": "2022-06-08T07:34:13.242Z"
      },
      {
        "duration": 32,
        "start_time": "2022-06-08T07:34:15.448Z"
      },
      {
        "duration": 17,
        "start_time": "2022-06-08T07:34:18.640Z"
      },
      {
        "duration": 225,
        "start_time": "2022-06-08T07:34:24.625Z"
      },
      {
        "duration": 9,
        "start_time": "2022-06-08T07:34:26.807Z"
      },
      {
        "duration": 49,
        "start_time": "2022-06-08T07:34:27.545Z"
      },
      {
        "duration": 28,
        "start_time": "2022-06-08T07:34:50.766Z"
      },
      {
        "duration": 30,
        "start_time": "2022-06-08T07:48:06.216Z"
      },
      {
        "duration": 51,
        "start_time": "2022-06-08T07:50:19.822Z"
      },
      {
        "duration": 15,
        "start_time": "2022-06-08T07:50:45.982Z"
      },
      {
        "duration": 7,
        "start_time": "2022-06-08T07:56:43.475Z"
      },
      {
        "duration": 13,
        "start_time": "2022-06-08T07:56:46.138Z"
      },
      {
        "duration": 29,
        "start_time": "2022-06-08T07:57:21.322Z"
      },
      {
        "duration": 16,
        "start_time": "2022-06-08T07:57:33.923Z"
      },
      {
        "duration": 60,
        "start_time": "2022-06-08T08:00:43.521Z"
      },
      {
        "duration": 32,
        "start_time": "2022-06-08T08:00:48.529Z"
      },
      {
        "duration": 23,
        "start_time": "2022-06-08T08:08:31.646Z"
      },
      {
        "duration": 31,
        "start_time": "2022-06-08T08:09:03.981Z"
      },
      {
        "duration": 126,
        "start_time": "2022-06-08T08:09:09.470Z"
      },
      {
        "duration": 23,
        "start_time": "2022-06-08T08:09:42.604Z"
      },
      {
        "duration": 14,
        "start_time": "2022-06-08T08:10:14.051Z"
      },
      {
        "duration": 12,
        "start_time": "2022-06-08T08:15:29.698Z"
      },
      {
        "duration": 11,
        "start_time": "2022-06-08T08:16:51.619Z"
      },
      {
        "duration": 17,
        "start_time": "2022-06-08T08:17:01.025Z"
      },
      {
        "duration": 10,
        "start_time": "2022-06-08T08:17:56.089Z"
      },
      {
        "duration": 10,
        "start_time": "2022-06-08T08:18:30.252Z"
      },
      {
        "duration": 10,
        "start_time": "2022-06-08T08:18:49.080Z"
      },
      {
        "duration": 943,
        "start_time": "2022-06-08T08:19:25.436Z"
      },
      {
        "duration": 747,
        "start_time": "2022-06-08T08:19:27.381Z"
      },
      {
        "duration": 18,
        "start_time": "2022-06-08T08:19:29.077Z"
      },
      {
        "duration": 121,
        "start_time": "2022-06-08T08:19:30.581Z"
      },
      {
        "duration": 3,
        "start_time": "2022-06-08T08:19:32.751Z"
      },
      {
        "duration": 573,
        "start_time": "2022-06-08T08:19:34.116Z"
      },
      {
        "duration": 18,
        "start_time": "2022-06-08T08:19:36.677Z"
      },
      {
        "duration": 18,
        "start_time": "2022-06-08T08:19:38.261Z"
      },
      {
        "duration": 67,
        "start_time": "2022-06-08T08:19:43.893Z"
      },
      {
        "duration": 99,
        "start_time": "2022-06-08T08:19:44.796Z"
      },
      {
        "duration": 45,
        "start_time": "2022-06-08T08:19:46.629Z"
      },
      {
        "duration": 31,
        "start_time": "2022-06-08T08:19:55.301Z"
      },
      {
        "duration": 17,
        "start_time": "2022-06-08T08:19:58.092Z"
      },
      {
        "duration": 17,
        "start_time": "2022-06-08T08:20:08.268Z"
      },
      {
        "duration": 78,
        "start_time": "2022-06-08T08:20:11.948Z"
      },
      {
        "duration": 36,
        "start_time": "2022-06-08T08:20:12.733Z"
      },
      {
        "duration": 18,
        "start_time": "2022-06-08T08:20:17.804Z"
      },
      {
        "duration": 286,
        "start_time": "2022-06-08T08:20:21.452Z"
      },
      {
        "duration": 17,
        "start_time": "2022-06-08T08:20:24.436Z"
      },
      {
        "duration": 64,
        "start_time": "2022-06-08T08:20:27.083Z"
      },
      {
        "duration": 30,
        "start_time": "2022-06-08T08:20:29.308Z"
      },
      {
        "duration": 8,
        "start_time": "2022-06-08T08:20:32.549Z"
      },
      {
        "duration": 7,
        "start_time": "2022-06-08T08:20:36.588Z"
      },
      {
        "duration": 29,
        "start_time": "2022-06-08T08:20:38.757Z"
      },
      {
        "duration": 31,
        "start_time": "2022-06-08T08:20:42.493Z"
      },
      {
        "duration": 26,
        "start_time": "2022-06-08T08:20:44.163Z"
      },
      {
        "duration": 50,
        "start_time": "2022-06-08T08:20:47.261Z"
      },
      {
        "duration": 12,
        "start_time": "2022-06-08T08:20:48.188Z"
      },
      {
        "duration": 12,
        "start_time": "2022-06-08T08:20:49.892Z"
      },
      {
        "duration": 26,
        "start_time": "2022-06-08T08:20:51.834Z"
      },
      {
        "duration": 11,
        "start_time": "2022-06-08T08:20:53.396Z"
      },
      {
        "duration": 63,
        "start_time": "2022-06-08T08:20:55.524Z"
      },
      {
        "duration": 31,
        "start_time": "2022-06-08T08:20:57.492Z"
      },
      {
        "duration": 23,
        "start_time": "2022-06-08T08:21:00.428Z"
      },
      {
        "duration": 17,
        "start_time": "2022-06-08T08:21:01.932Z"
      },
      {
        "duration": 11,
        "start_time": "2022-06-08T08:21:05.932Z"
      },
      {
        "duration": 12,
        "start_time": "2022-06-08T08:21:07.301Z"
      },
      {
        "duration": 12,
        "start_time": "2022-06-08T08:21:18.563Z"
      },
      {
        "duration": 48,
        "start_time": "2022-06-08T08:23:13.038Z"
      },
      {
        "duration": 3,
        "start_time": "2022-06-08T08:23:54.322Z"
      },
      {
        "duration": 67,
        "start_time": "2022-06-08T08:23:55.850Z"
      },
      {
        "duration": 71,
        "start_time": "2022-06-08T08:25:15.099Z"
      },
      {
        "duration": 53,
        "start_time": "2022-06-08T08:25:54.481Z"
      },
      {
        "duration": 26,
        "start_time": "2022-06-08T08:26:22.628Z"
      },
      {
        "duration": 70,
        "start_time": "2022-06-08T08:27:02.025Z"
      },
      {
        "duration": 59,
        "start_time": "2022-06-08T08:27:41.249Z"
      },
      {
        "duration": 12,
        "start_time": "2022-06-08T08:28:04.600Z"
      },
      {
        "duration": 15,
        "start_time": "2022-06-08T08:28:54.080Z"
      },
      {
        "duration": 12,
        "start_time": "2022-06-08T08:28:56.943Z"
      },
      {
        "duration": 25,
        "start_time": "2022-06-08T08:33:21.582Z"
      },
      {
        "duration": 132,
        "start_time": "2022-06-08T08:34:11.951Z"
      },
      {
        "duration": 133,
        "start_time": "2022-06-08T08:34:50.094Z"
      },
      {
        "duration": 22,
        "start_time": "2022-06-08T08:37:11.900Z"
      },
      {
        "duration": 16,
        "start_time": "2022-06-08T08:37:13.692Z"
      },
      {
        "duration": 66,
        "start_time": "2022-06-08T08:37:15.605Z"
      },
      {
        "duration": 3,
        "start_time": "2022-06-08T08:38:06.058Z"
      },
      {
        "duration": 218,
        "start_time": "2022-06-08T08:38:12.210Z"
      },
      {
        "duration": 3,
        "start_time": "2022-06-08T08:38:15.803Z"
      },
      {
        "duration": 160070,
        "start_time": "2022-06-08T08:38:17.355Z"
      },
      {
        "duration": 408,
        "start_time": "2022-06-08T08:41:00.961Z"
      },
      {
        "duration": 129,
        "start_time": "2022-06-08T08:41:02.529Z"
      },
      {
        "duration": 5,
        "start_time": "2022-06-08T08:41:10.961Z"
      },
      {
        "duration": 25,
        "start_time": "2022-06-08T08:41:50.593Z"
      },
      {
        "duration": 404,
        "start_time": "2022-06-08T08:41:56.720Z"
      },
      {
        "duration": 414,
        "start_time": "2022-06-08T08:42:05.074Z"
      },
      {
        "duration": 43,
        "start_time": "2022-06-08T08:46:11.567Z"
      },
      {
        "duration": 5,
        "start_time": "2022-06-08T08:49:54.134Z"
      },
      {
        "duration": 43,
        "start_time": "2022-06-08T08:56:50.425Z"
      },
      {
        "duration": 23,
        "start_time": "2022-06-08T08:58:39.745Z"
      },
      {
        "duration": 49,
        "start_time": "2022-06-08T08:59:31.753Z"
      },
      {
        "duration": 23,
        "start_time": "2022-06-08T08:59:55.848Z"
      },
      {
        "duration": 4,
        "start_time": "2022-06-08T09:00:19.503Z"
      },
      {
        "duration": 4,
        "start_time": "2022-06-08T09:00:31.783Z"
      },
      {
        "duration": 4,
        "start_time": "2022-06-08T09:00:36.502Z"
      },
      {
        "duration": 42,
        "start_time": "2022-06-08T09:00:51.711Z"
      },
      {
        "duration": 27,
        "start_time": "2022-06-08T09:02:09.538Z"
      },
      {
        "duration": 18,
        "start_time": "2022-06-08T09:04:12.085Z"
      },
      {
        "duration": 3,
        "start_time": "2022-06-08T09:09:08.580Z"
      },
      {
        "duration": 17,
        "start_time": "2022-06-08T09:09:16.235Z"
      },
      {
        "duration": 39,
        "start_time": "2022-06-08T09:09:58.212Z"
      },
      {
        "duration": 12,
        "start_time": "2022-06-08T09:16:12.488Z"
      },
      {
        "duration": 15,
        "start_time": "2022-06-08T09:16:23.346Z"
      },
      {
        "duration": 11,
        "start_time": "2022-06-08T09:18:40.040Z"
      },
      {
        "duration": 27,
        "start_time": "2022-06-08T09:18:57.352Z"
      },
      {
        "duration": 3,
        "start_time": "2022-06-08T09:21:10.511Z"
      },
      {
        "duration": 362,
        "start_time": "2022-06-08T09:27:47.083Z"
      },
      {
        "duration": 49801,
        "start_time": "2022-06-08T09:28:23.043Z"
      },
      {
        "duration": 1707,
        "start_time": "2022-06-08T09:29:27.035Z"
      },
      {
        "duration": 34633,
        "start_time": "2022-06-08T09:29:51.603Z"
      },
      {
        "duration": 36955,
        "start_time": "2022-06-08T09:31:13.074Z"
      },
      {
        "duration": 11,
        "start_time": "2022-06-08T09:32:04.610Z"
      },
      {
        "duration": 12,
        "start_time": "2022-06-08T09:32:24.155Z"
      },
      {
        "duration": 483,
        "start_time": "2022-06-08T09:32:37.940Z"
      },
      {
        "duration": 17675,
        "start_time": "2022-06-08T09:33:35.561Z"
      },
      {
        "duration": 88023,
        "start_time": "2022-06-08T09:33:58.506Z"
      },
      {
        "duration": 402,
        "start_time": "2022-06-08T09:37:26.552Z"
      },
      {
        "duration": 31,
        "start_time": "2022-06-08T09:46:35.378Z"
      },
      {
        "duration": 29,
        "start_time": "2022-06-08T09:46:41.115Z"
      },
      {
        "duration": 39,
        "start_time": "2022-06-08T09:52:28.864Z"
      },
      {
        "duration": 40,
        "start_time": "2022-06-08T09:52:34.401Z"
      },
      {
        "duration": 1143,
        "start_time": "2022-06-08T09:52:38.486Z"
      },
      {
        "duration": 24684,
        "start_time": "2022-06-08T09:53:09.147Z"
      },
      {
        "duration": 1023,
        "start_time": "2022-06-08T09:54:15.303Z"
      },
      {
        "duration": 88310,
        "start_time": "2022-06-08T09:54:19.463Z"
      },
      {
        "duration": 1094,
        "start_time": "2022-06-08T09:55:59.541Z"
      },
      {
        "duration": 64306,
        "start_time": "2022-06-08T09:56:01.692Z"
      },
      {
        "duration": 1111,
        "start_time": "2022-06-08T09:57:11.710Z"
      },
      {
        "duration": 20975,
        "start_time": "2022-06-08T09:57:21.598Z"
      },
      {
        "duration": 14,
        "start_time": "2022-06-08T09:57:46.012Z"
      },
      {
        "duration": 3,
        "start_time": "2022-06-08T09:57:50.258Z"
      },
      {
        "duration": 48,
        "start_time": "2022-06-08T09:57:56.124Z"
      },
      {
        "duration": 11,
        "start_time": "2022-06-08T09:57:58.136Z"
      },
      {
        "duration": 1030,
        "start_time": "2022-06-08T09:58:17.547Z"
      },
      {
        "duration": 38994,
        "start_time": "2022-06-08T09:58:20.247Z"
      },
      {
        "duration": 54,
        "start_time": "2022-06-08T09:59:43.107Z"
      },
      {
        "duration": 7,
        "start_time": "2022-06-08T09:59:43.715Z"
      },
      {
        "duration": 5,
        "start_time": "2022-06-08T10:00:59.995Z"
      },
      {
        "duration": 6,
        "start_time": "2022-06-08T10:02:00.570Z"
      },
      {
        "duration": 7,
        "start_time": "2022-06-08T10:02:15.690Z"
      },
      {
        "duration": 462124,
        "start_time": "2022-06-08T10:03:45.506Z"
      },
      {
        "duration": 0,
        "start_time": "2022-06-08T10:11:27.631Z"
      },
      {
        "duration": 102581,
        "start_time": "2022-06-08T10:11:39.254Z"
      },
      {
        "duration": 508,
        "start_time": "2022-06-08T10:13:21.837Z"
      },
      {
        "duration": 7,
        "start_time": "2022-06-08T10:13:30.869Z"
      },
      {
        "duration": 4,
        "start_time": "2022-06-08T10:13:32.709Z"
      },
      {
        "duration": 369,
        "start_time": "2022-06-08T10:13:37.158Z"
      },
      {
        "duration": 1332,
        "start_time": "2022-06-08T10:13:53.806Z"
      },
      {
        "duration": 4,
        "start_time": "2022-06-08T10:13:55.140Z"
      },
      {
        "duration": 1077,
        "start_time": "2022-06-08T10:13:55.145Z"
      },
      {
        "duration": 20,
        "start_time": "2022-06-08T10:13:56.224Z"
      },
      {
        "duration": 136,
        "start_time": "2022-06-08T10:13:56.245Z"
      },
      {
        "duration": 4,
        "start_time": "2022-06-08T10:13:56.382Z"
      },
      {
        "duration": 488,
        "start_time": "2022-06-08T10:13:56.387Z"
      },
      {
        "duration": 19,
        "start_time": "2022-06-08T10:13:56.877Z"
      },
      {
        "duration": 33,
        "start_time": "2022-06-08T10:13:56.898Z"
      },
      {
        "duration": 77,
        "start_time": "2022-06-08T10:13:56.935Z"
      },
      {
        "duration": 111,
        "start_time": "2022-06-08T10:13:57.023Z"
      },
      {
        "duration": 46,
        "start_time": "2022-06-08T10:13:57.135Z"
      },
      {
        "duration": 49,
        "start_time": "2022-06-08T10:13:57.183Z"
      },
      {
        "duration": 31,
        "start_time": "2022-06-08T10:13:57.235Z"
      },
      {
        "duration": 25,
        "start_time": "2022-06-08T10:13:57.268Z"
      },
      {
        "duration": 95,
        "start_time": "2022-06-08T10:13:57.295Z"
      },
      {
        "duration": 36,
        "start_time": "2022-06-08T10:13:57.392Z"
      },
      {
        "duration": 31,
        "start_time": "2022-06-08T10:13:57.429Z"
      },
      {
        "duration": 274,
        "start_time": "2022-06-08T10:13:57.462Z"
      },
      {
        "duration": 19,
        "start_time": "2022-06-08T10:13:57.738Z"
      },
      {
        "duration": 85,
        "start_time": "2022-06-08T10:13:57.759Z"
      },
      {
        "duration": 30,
        "start_time": "2022-06-08T10:13:57.846Z"
      },
      {
        "duration": 8,
        "start_time": "2022-06-08T10:13:57.879Z"
      },
      {
        "duration": 9,
        "start_time": "2022-06-08T10:13:57.889Z"
      },
      {
        "duration": 34,
        "start_time": "2022-06-08T10:13:57.923Z"
      },
      {
        "duration": 54,
        "start_time": "2022-06-08T10:13:57.959Z"
      },
      {
        "duration": 28,
        "start_time": "2022-06-08T10:13:58.023Z"
      },
      {
        "duration": 76,
        "start_time": "2022-06-08T10:13:58.057Z"
      },
      {
        "duration": 14,
        "start_time": "2022-06-08T10:13:58.135Z"
      },
      {
        "duration": 13,
        "start_time": "2022-06-08T10:13:58.151Z"
      },
      {
        "duration": 57,
        "start_time": "2022-06-08T10:13:58.166Z"
      },
      {
        "duration": 11,
        "start_time": "2022-06-08T10:13:58.225Z"
      },
      {
        "duration": 94,
        "start_time": "2022-06-08T10:13:58.238Z"
      },
      {
        "duration": 36,
        "start_time": "2022-06-08T10:13:58.334Z"
      },
      {
        "duration": 21,
        "start_time": "2022-06-08T10:13:58.372Z"
      },
      {
        "duration": 35,
        "start_time": "2022-06-08T10:13:58.396Z"
      },
      {
        "duration": 11,
        "start_time": "2022-06-08T10:13:58.433Z"
      },
      {
        "duration": 11,
        "start_time": "2022-06-08T10:13:58.446Z"
      },
      {
        "duration": 16,
        "start_time": "2022-06-08T10:13:58.458Z"
      },
      {
        "duration": 79,
        "start_time": "2022-06-08T10:13:58.476Z"
      },
      {
        "duration": 3,
        "start_time": "2022-06-08T10:13:58.557Z"
      },
      {
        "duration": 123,
        "start_time": "2022-06-08T10:13:58.562Z"
      },
      {
        "duration": 58,
        "start_time": "2022-06-08T10:13:58.687Z"
      },
      {
        "duration": 20,
        "start_time": "2022-06-08T10:13:58.747Z"
      },
      {
        "duration": 14,
        "start_time": "2022-06-08T10:13:58.769Z"
      },
      {
        "duration": 94,
        "start_time": "2022-06-08T10:13:58.785Z"
      },
      {
        "duration": 16,
        "start_time": "2022-06-08T10:13:58.881Z"
      },
      {
        "duration": 151,
        "start_time": "2022-06-08T10:13:58.899Z"
      },
      {
        "duration": 203,
        "start_time": "2022-06-08T10:13:59.052Z"
      },
      {
        "duration": 0,
        "start_time": "2022-06-08T10:13:59.257Z"
      },
      {
        "duration": 0,
        "start_time": "2022-06-08T10:13:59.258Z"
      },
      {
        "duration": 0,
        "start_time": "2022-06-08T10:13:59.260Z"
      },
      {
        "duration": 0,
        "start_time": "2022-06-08T10:13:59.262Z"
      },
      {
        "duration": 0,
        "start_time": "2022-06-08T10:13:59.263Z"
      },
      {
        "duration": 0,
        "start_time": "2022-06-08T10:13:59.265Z"
      },
      {
        "duration": 0,
        "start_time": "2022-06-08T10:13:59.267Z"
      },
      {
        "duration": 1,
        "start_time": "2022-06-08T10:13:59.269Z"
      },
      {
        "duration": 0,
        "start_time": "2022-06-08T10:13:59.272Z"
      },
      {
        "duration": 1191,
        "start_time": "2022-06-08T10:19:47.306Z"
      },
      {
        "duration": 3,
        "start_time": "2022-06-08T10:19:48.499Z"
      },
      {
        "duration": 893,
        "start_time": "2022-06-08T10:19:48.504Z"
      },
      {
        "duration": 25,
        "start_time": "2022-06-08T10:19:49.399Z"
      },
      {
        "duration": 153,
        "start_time": "2022-06-08T10:19:49.426Z"
      },
      {
        "duration": 3,
        "start_time": "2022-06-08T10:19:49.581Z"
      },
      {
        "duration": 479,
        "start_time": "2022-06-08T10:19:49.586Z"
      },
      {
        "duration": 21,
        "start_time": "2022-06-08T10:19:50.066Z"
      },
      {
        "duration": 38,
        "start_time": "2022-06-08T10:19:50.089Z"
      },
      {
        "duration": 74,
        "start_time": "2022-06-08T10:19:50.128Z"
      },
      {
        "duration": 141,
        "start_time": "2022-06-08T10:19:50.204Z"
      },
      {
        "duration": 48,
        "start_time": "2022-06-08T10:19:50.348Z"
      },
      {
        "duration": 44,
        "start_time": "2022-06-08T10:19:50.398Z"
      },
      {
        "duration": 20,
        "start_time": "2022-06-08T10:19:50.447Z"
      },
      {
        "duration": 16,
        "start_time": "2022-06-08T10:19:50.469Z"
      },
      {
        "duration": 110,
        "start_time": "2022-06-08T10:19:50.487Z"
      },
      {
        "duration": 37,
        "start_time": "2022-06-08T10:19:50.599Z"
      },
      {
        "duration": 22,
        "start_time": "2022-06-08T10:19:50.638Z"
      },
      {
        "duration": 305,
        "start_time": "2022-06-08T10:19:50.663Z"
      },
      {
        "duration": 19,
        "start_time": "2022-06-08T10:19:50.970Z"
      },
      {
        "duration": 90,
        "start_time": "2022-06-08T10:19:50.992Z"
      },
      {
        "duration": 41,
        "start_time": "2022-06-08T10:19:51.084Z"
      },
      {
        "duration": 13,
        "start_time": "2022-06-08T10:19:51.127Z"
      },
      {
        "duration": 14,
        "start_time": "2022-06-08T10:19:51.142Z"
      },
      {
        "duration": 33,
        "start_time": "2022-06-08T10:19:51.157Z"
      },
      {
        "duration": 51,
        "start_time": "2022-06-08T10:19:51.192Z"
      },
      {
        "duration": 30,
        "start_time": "2022-06-08T10:19:51.245Z"
      },
      {
        "duration": 71,
        "start_time": "2022-06-08T10:19:51.277Z"
      },
      {
        "duration": 14,
        "start_time": "2022-06-08T10:19:51.350Z"
      },
      {
        "duration": 18,
        "start_time": "2022-06-08T10:19:51.366Z"
      },
      {
        "duration": 60,
        "start_time": "2022-06-08T10:19:51.386Z"
      },
      {
        "duration": 16,
        "start_time": "2022-06-08T10:19:51.448Z"
      },
      {
        "duration": 98,
        "start_time": "2022-06-08T10:19:51.466Z"
      },
      {
        "duration": 36,
        "start_time": "2022-06-08T10:19:51.567Z"
      },
      {
        "duration": 39,
        "start_time": "2022-06-08T10:19:51.605Z"
      },
      {
        "duration": 14,
        "start_time": "2022-06-08T10:19:51.646Z"
      },
      {
        "duration": 11,
        "start_time": "2022-06-08T10:19:51.661Z"
      },
      {
        "duration": 11,
        "start_time": "2022-06-08T10:19:51.673Z"
      },
      {
        "duration": 48,
        "start_time": "2022-06-08T10:19:51.686Z"
      },
      {
        "duration": 49,
        "start_time": "2022-06-08T10:19:51.736Z"
      },
      {
        "duration": 82,
        "start_time": "2022-06-08T10:19:51.790Z"
      },
      {
        "duration": 74,
        "start_time": "2022-06-08T10:19:51.874Z"
      },
      {
        "duration": 53,
        "start_time": "2022-06-08T10:19:51.949Z"
      },
      {
        "duration": 29,
        "start_time": "2022-06-08T10:19:52.004Z"
      },
      {
        "duration": 12,
        "start_time": "2022-06-08T10:19:52.035Z"
      },
      {
        "duration": 89,
        "start_time": "2022-06-08T10:19:52.049Z"
      },
      {
        "duration": 15,
        "start_time": "2022-06-08T10:19:52.141Z"
      },
      {
        "duration": 136,
        "start_time": "2022-06-08T10:19:52.158Z"
      },
      {
        "duration": 181142,
        "start_time": "2022-06-08T10:19:52.296Z"
      },
      {
        "duration": 474,
        "start_time": "2022-06-08T10:22:53.440Z"
      },
      {
        "duration": 100817,
        "start_time": "2022-06-08T10:22:53.916Z"
      },
      {
        "duration": 497,
        "start_time": "2022-06-08T10:24:34.735Z"
      },
      {
        "duration": 4576,
        "start_time": "2022-06-08T10:24:35.234Z"
      },
      {
        "duration": 0,
        "start_time": "2022-06-08T10:24:39.813Z"
      },
      {
        "duration": 0,
        "start_time": "2022-06-08T10:24:39.814Z"
      },
      {
        "duration": 0,
        "start_time": "2022-06-08T10:24:39.815Z"
      },
      {
        "duration": 0,
        "start_time": "2022-06-08T10:24:39.817Z"
      },
      {
        "duration": 0,
        "start_time": "2022-06-08T10:24:39.818Z"
      },
      {
        "duration": 162,
        "start_time": "2022-06-08T10:28:53.996Z"
      },
      {
        "duration": 4697,
        "start_time": "2022-06-08T10:32:08.701Z"
      },
      {
        "duration": 3816,
        "start_time": "2022-06-08T10:32:54.402Z"
      },
      {
        "duration": 4,
        "start_time": "2022-06-08T10:32:58.220Z"
      },
      {
        "duration": 1390,
        "start_time": "2022-06-08T10:32:58.226Z"
      },
      {
        "duration": 27,
        "start_time": "2022-06-08T10:32:59.619Z"
      },
      {
        "duration": 133,
        "start_time": "2022-06-08T10:32:59.648Z"
      },
      {
        "duration": 4,
        "start_time": "2022-06-08T10:32:59.783Z"
      },
      {
        "duration": 1028,
        "start_time": "2022-06-08T10:32:59.788Z"
      },
      {
        "duration": 21,
        "start_time": "2022-06-08T10:33:00.818Z"
      },
      {
        "duration": 36,
        "start_time": "2022-06-08T10:33:00.841Z"
      },
      {
        "duration": 73,
        "start_time": "2022-06-08T10:33:00.881Z"
      },
      {
        "duration": 117,
        "start_time": "2022-06-08T10:33:00.956Z"
      },
      {
        "duration": 89,
        "start_time": "2022-06-08T10:33:01.075Z"
      },
      {
        "duration": 33,
        "start_time": "2022-06-08T10:33:01.166Z"
      },
      {
        "duration": 41,
        "start_time": "2022-06-08T10:33:01.201Z"
      },
      {
        "duration": 30,
        "start_time": "2022-06-08T10:33:01.244Z"
      },
      {
        "duration": 94,
        "start_time": "2022-06-08T10:33:01.276Z"
      },
      {
        "duration": 30,
        "start_time": "2022-06-08T10:33:01.373Z"
      },
      {
        "duration": 84,
        "start_time": "2022-06-08T10:33:01.405Z"
      },
      {
        "duration": 307,
        "start_time": "2022-06-08T10:33:01.493Z"
      },
      {
        "duration": 32,
        "start_time": "2022-06-08T10:33:01.802Z"
      },
      {
        "duration": 101,
        "start_time": "2022-06-08T10:33:01.836Z"
      },
      {
        "duration": 47,
        "start_time": "2022-06-08T10:33:01.939Z"
      },
      {
        "duration": 47,
        "start_time": "2022-06-08T10:33:01.994Z"
      },
      {
        "duration": 82,
        "start_time": "2022-06-08T10:33:02.044Z"
      },
      {
        "duration": 62,
        "start_time": "2022-06-08T10:33:02.128Z"
      },
      {
        "duration": 238,
        "start_time": "2022-06-08T10:33:02.191Z"
      },
      {
        "duration": 46,
        "start_time": "2022-06-08T10:33:02.431Z"
      },
      {
        "duration": 79,
        "start_time": "2022-06-08T10:33:02.481Z"
      },
      {
        "duration": 18,
        "start_time": "2022-06-08T10:33:02.562Z"
      },
      {
        "duration": 57,
        "start_time": "2022-06-08T10:33:02.582Z"
      },
      {
        "duration": 39,
        "start_time": "2022-06-08T10:33:02.642Z"
      },
      {
        "duration": 18,
        "start_time": "2022-06-08T10:33:02.684Z"
      },
      {
        "duration": 112,
        "start_time": "2022-06-08T10:33:02.724Z"
      },
      {
        "duration": 64,
        "start_time": "2022-06-08T10:33:02.840Z"
      },
      {
        "duration": 31,
        "start_time": "2022-06-08T10:33:02.906Z"
      },
      {
        "duration": 75,
        "start_time": "2022-06-08T10:33:02.939Z"
      },
      {
        "duration": 11,
        "start_time": "2022-06-08T10:33:03.016Z"
      },
      {
        "duration": 12,
        "start_time": "2022-06-08T10:33:03.029Z"
      },
      {
        "duration": 14,
        "start_time": "2022-06-08T10:33:03.043Z"
      },
      {
        "duration": 65,
        "start_time": "2022-06-08T10:33:03.058Z"
      },
      {
        "duration": 82,
        "start_time": "2022-06-08T10:33:03.125Z"
      },
      {
        "duration": 118,
        "start_time": "2022-06-08T10:33:03.209Z"
      },
      {
        "duration": 44,
        "start_time": "2022-06-08T10:33:03.330Z"
      },
      {
        "duration": 18,
        "start_time": "2022-06-08T10:33:03.376Z"
      },
      {
        "duration": 32,
        "start_time": "2022-06-08T10:33:03.396Z"
      },
      {
        "duration": 65,
        "start_time": "2022-06-08T10:33:03.430Z"
      },
      {
        "duration": 37,
        "start_time": "2022-06-08T10:33:03.497Z"
      },
      {
        "duration": 158,
        "start_time": "2022-06-08T10:33:03.536Z"
      },
      {
        "duration": 170633,
        "start_time": "2022-06-08T10:33:03.696Z"
      },
      {
        "duration": 419,
        "start_time": "2022-06-08T10:35:54.331Z"
      },
      {
        "duration": 113780,
        "start_time": "2022-06-08T10:35:54.752Z"
      },
      {
        "duration": 507,
        "start_time": "2022-06-08T10:37:48.535Z"
      },
      {
        "duration": 4457,
        "start_time": "2022-06-08T10:37:49.044Z"
      },
      {
        "duration": 77,
        "start_time": "2022-06-08T10:38:34.993Z"
      },
      {
        "duration": 3987,
        "start_time": "2022-06-08T10:39:35.116Z"
      },
      {
        "duration": 3,
        "start_time": "2022-06-08T10:39:39.105Z"
      },
      {
        "duration": 1255,
        "start_time": "2022-06-08T10:39:39.110Z"
      },
      {
        "duration": 21,
        "start_time": "2022-06-08T10:39:40.367Z"
      },
      {
        "duration": 128,
        "start_time": "2022-06-08T10:39:40.390Z"
      },
      {
        "duration": 8,
        "start_time": "2022-06-08T10:39:40.522Z"
      },
      {
        "duration": 786,
        "start_time": "2022-06-08T10:39:40.536Z"
      },
      {
        "duration": 23,
        "start_time": "2022-06-08T10:39:41.324Z"
      },
      {
        "duration": 19,
        "start_time": "2022-06-08T10:39:41.348Z"
      },
      {
        "duration": 89,
        "start_time": "2022-06-08T10:39:41.370Z"
      },
      {
        "duration": 106,
        "start_time": "2022-06-08T10:39:41.461Z"
      },
      {
        "duration": 56,
        "start_time": "2022-06-08T10:39:41.568Z"
      },
      {
        "duration": 36,
        "start_time": "2022-06-08T10:39:41.626Z"
      },
      {
        "duration": 20,
        "start_time": "2022-06-08T10:39:41.664Z"
      },
      {
        "duration": 38,
        "start_time": "2022-06-08T10:39:41.685Z"
      },
      {
        "duration": 85,
        "start_time": "2022-06-08T10:39:41.725Z"
      },
      {
        "duration": 47,
        "start_time": "2022-06-08T10:39:41.811Z"
      },
      {
        "duration": 21,
        "start_time": "2022-06-08T10:39:41.859Z"
      },
      {
        "duration": 299,
        "start_time": "2022-06-08T10:39:41.881Z"
      },
      {
        "duration": 17,
        "start_time": "2022-06-08T10:39:42.181Z"
      },
      {
        "duration": 85,
        "start_time": "2022-06-08T10:39:42.200Z"
      },
      {
        "duration": 38,
        "start_time": "2022-06-08T10:39:42.287Z"
      },
      {
        "duration": 14,
        "start_time": "2022-06-08T10:39:42.328Z"
      },
      {
        "duration": 13,
        "start_time": "2022-06-08T10:39:42.344Z"
      },
      {
        "duration": 29,
        "start_time": "2022-06-08T10:39:42.358Z"
      },
      {
        "duration": 61,
        "start_time": "2022-06-08T10:39:42.388Z"
      },
      {
        "duration": 30,
        "start_time": "2022-06-08T10:39:42.450Z"
      },
      {
        "duration": 92,
        "start_time": "2022-06-08T10:39:42.484Z"
      },
      {
        "duration": 17,
        "start_time": "2022-06-08T10:39:42.578Z"
      },
      {
        "duration": 28,
        "start_time": "2022-06-08T10:39:42.596Z"
      },
      {
        "duration": 34,
        "start_time": "2022-06-08T10:39:42.626Z"
      },
      {
        "duration": 11,
        "start_time": "2022-06-08T10:39:42.663Z"
      },
      {
        "duration": 119,
        "start_time": "2022-06-08T10:39:42.676Z"
      },
      {
        "duration": 47,
        "start_time": "2022-06-08T10:39:42.797Z"
      },
      {
        "duration": 25,
        "start_time": "2022-06-08T10:39:42.846Z"
      },
      {
        "duration": 14,
        "start_time": "2022-06-08T10:39:42.873Z"
      },
      {
        "duration": 36,
        "start_time": "2022-06-08T10:39:42.889Z"
      },
      {
        "duration": 28,
        "start_time": "2022-06-08T10:39:42.927Z"
      },
      {
        "duration": 13,
        "start_time": "2022-06-08T10:39:42.957Z"
      },
      {
        "duration": 52,
        "start_time": "2022-06-08T10:39:42.972Z"
      },
      {
        "duration": 75,
        "start_time": "2022-06-08T10:39:43.027Z"
      },
      {
        "duration": 88,
        "start_time": "2022-06-08T10:39:43.104Z"
      },
      {
        "duration": 64,
        "start_time": "2022-06-08T10:39:43.194Z"
      },
      {
        "duration": 21,
        "start_time": "2022-06-08T10:39:43.261Z"
      },
      {
        "duration": 12,
        "start_time": "2022-06-08T10:39:43.284Z"
      },
      {
        "duration": 90,
        "start_time": "2022-06-08T10:39:43.298Z"
      },
      {
        "duration": 14,
        "start_time": "2022-06-08T10:39:43.390Z"
      },
      {
        "duration": 176,
        "start_time": "2022-06-08T10:39:43.407Z"
      },
      {
        "duration": 208344,
        "start_time": "2022-06-08T10:39:43.585Z"
      },
      {
        "duration": 662,
        "start_time": "2022-06-08T10:43:11.933Z"
      },
      {
        "duration": 112830,
        "start_time": "2022-06-08T10:43:12.598Z"
      },
      {
        "duration": 503,
        "start_time": "2022-06-08T10:45:05.430Z"
      },
      {
        "duration": 6160,
        "start_time": "2022-06-08T10:45:05.935Z"
      },
      {
        "duration": 2,
        "start_time": "2022-06-08T10:45:12.097Z"
      },
      {
        "duration": 22928,
        "start_time": "2022-06-08T10:45:12.101Z"
      },
      {
        "duration": 288,
        "start_time": "2022-06-08T10:45:35.035Z"
      },
      {
        "duration": 5,
        "start_time": "2022-06-08T10:45:35.325Z"
      },
      {
        "duration": 15,
        "start_time": "2022-06-08T10:45:35.331Z"
      },
      {
        "duration": 150,
        "start_time": "2022-06-08T10:46:20.416Z"
      },
      {
        "duration": 19,
        "start_time": "2022-06-08T10:46:26.431Z"
      },
      {
        "duration": 29435,
        "start_time": "2022-06-08T10:47:27.399Z"
      },
      {
        "duration": 94,
        "start_time": "2022-06-08T10:47:58.431Z"
      },
      {
        "duration": 5,
        "start_time": "2022-06-08T10:48:08.566Z"
      },
      {
        "duration": 7,
        "start_time": "2022-06-08T10:48:09.824Z"
      },
      {
        "duration": 1324,
        "start_time": "2022-06-08T10:50:21.901Z"
      },
      {
        "duration": 3,
        "start_time": "2022-06-08T10:50:23.227Z"
      },
      {
        "duration": 1159,
        "start_time": "2022-06-08T10:50:23.232Z"
      },
      {
        "duration": 20,
        "start_time": "2022-06-08T10:50:24.393Z"
      },
      {
        "duration": 143,
        "start_time": "2022-06-08T10:50:24.415Z"
      },
      {
        "duration": 3,
        "start_time": "2022-06-08T10:50:24.559Z"
      },
      {
        "duration": 445,
        "start_time": "2022-06-08T10:50:24.564Z"
      },
      {
        "duration": 22,
        "start_time": "2022-06-08T10:50:25.011Z"
      },
      {
        "duration": 18,
        "start_time": "2022-06-08T10:50:25.035Z"
      },
      {
        "duration": 99,
        "start_time": "2022-06-08T10:50:25.057Z"
      },
      {
        "duration": 107,
        "start_time": "2022-06-08T10:50:25.158Z"
      },
      {
        "duration": 58,
        "start_time": "2022-06-08T10:50:25.267Z"
      },
      {
        "duration": 32,
        "start_time": "2022-06-08T10:50:25.327Z"
      },
      {
        "duration": 21,
        "start_time": "2022-06-08T10:50:25.361Z"
      },
      {
        "duration": 39,
        "start_time": "2022-06-08T10:50:25.385Z"
      },
      {
        "duration": 82,
        "start_time": "2022-06-08T10:50:25.426Z"
      },
      {
        "duration": 55,
        "start_time": "2022-06-08T10:50:25.510Z"
      },
      {
        "duration": 21,
        "start_time": "2022-06-08T10:50:25.567Z"
      },
      {
        "duration": 289,
        "start_time": "2022-06-08T10:50:25.591Z"
      },
      {
        "duration": 18,
        "start_time": "2022-06-08T10:50:25.882Z"
      },
      {
        "duration": 89,
        "start_time": "2022-06-08T10:50:25.902Z"
      },
      {
        "duration": 39,
        "start_time": "2022-06-08T10:50:25.993Z"
      },
      {
        "duration": 11,
        "start_time": "2022-06-08T10:50:26.035Z"
      },
      {
        "duration": 9,
        "start_time": "2022-06-08T10:50:26.047Z"
      },
      {
        "duration": 28,
        "start_time": "2022-06-08T10:50:26.058Z"
      },
      {
        "duration": 57,
        "start_time": "2022-06-08T10:50:26.088Z"
      },
      {
        "duration": 36,
        "start_time": "2022-06-08T10:50:26.147Z"
      },
      {
        "duration": 64,
        "start_time": "2022-06-08T10:50:26.189Z"
      },
      {
        "duration": 15,
        "start_time": "2022-06-08T10:50:26.255Z"
      },
      {
        "duration": 16,
        "start_time": "2022-06-08T10:50:26.272Z"
      },
      {
        "duration": 64,
        "start_time": "2022-06-08T10:50:26.290Z"
      },
      {
        "duration": 12,
        "start_time": "2022-06-08T10:50:26.357Z"
      },
      {
        "duration": 83,
        "start_time": "2022-06-08T10:50:26.371Z"
      },
      {
        "duration": 32,
        "start_time": "2022-06-08T10:50:26.455Z"
      },
      {
        "duration": 53,
        "start_time": "2022-06-08T10:50:26.490Z"
      },
      {
        "duration": 14,
        "start_time": "2022-06-08T10:50:26.545Z"
      },
      {
        "duration": 18,
        "start_time": "2022-06-08T10:50:26.561Z"
      },
      {
        "duration": 10,
        "start_time": "2022-06-08T10:50:26.581Z"
      },
      {
        "duration": 30,
        "start_time": "2022-06-08T10:50:26.593Z"
      },
      {
        "duration": 47,
        "start_time": "2022-06-08T10:50:26.625Z"
      },
      {
        "duration": 81,
        "start_time": "2022-06-08T10:50:26.674Z"
      },
      {
        "duration": 84,
        "start_time": "2022-06-08T10:50:26.757Z"
      },
      {
        "duration": 46,
        "start_time": "2022-06-08T10:50:26.843Z"
      },
      {
        "duration": 36,
        "start_time": "2022-06-08T10:50:26.890Z"
      },
      {
        "duration": 13,
        "start_time": "2022-06-08T10:50:26.928Z"
      },
      {
        "duration": 84,
        "start_time": "2022-06-08T10:50:26.942Z"
      },
      {
        "duration": 18,
        "start_time": "2022-06-08T10:50:27.028Z"
      },
      {
        "duration": 17,
        "start_time": "2022-06-08T10:50:27.048Z"
      },
      {
        "duration": 157,
        "start_time": "2022-06-08T10:50:27.067Z"
      },
      {
        "duration": 168213,
        "start_time": "2022-06-08T10:50:27.225Z"
      },
      {
        "duration": 419,
        "start_time": "2022-06-08T10:53:15.439Z"
      },
      {
        "duration": 113377,
        "start_time": "2022-06-08T10:53:15.860Z"
      },
      {
        "duration": 501,
        "start_time": "2022-06-08T10:55:09.240Z"
      },
      {
        "duration": 25496,
        "start_time": "2022-06-08T10:55:09.743Z"
      },
      {
        "duration": 196,
        "start_time": "2022-06-08T10:55:35.326Z"
      },
      {
        "duration": 6,
        "start_time": "2022-06-08T10:55:35.525Z"
      },
      {
        "duration": 93,
        "start_time": "2022-06-08T10:55:35.535Z"
      },
      {
        "duration": 5,
        "start_time": "2022-06-08T11:03:31.986Z"
      },
      {
        "duration": 4,
        "start_time": "2022-06-08T11:03:32.807Z"
      },
      {
        "duration": 2340,
        "start_time": "2022-06-08T11:07:49.900Z"
      },
      {
        "duration": 4,
        "start_time": "2022-06-08T11:07:52.242Z"
      },
      {
        "duration": 1248,
        "start_time": "2022-06-08T11:07:52.248Z"
      },
      {
        "duration": 27,
        "start_time": "2022-06-08T11:07:53.498Z"
      },
      {
        "duration": 129,
        "start_time": "2022-06-08T11:07:53.527Z"
      },
      {
        "duration": 4,
        "start_time": "2022-06-08T11:07:53.658Z"
      },
      {
        "duration": 491,
        "start_time": "2022-06-08T11:07:53.663Z"
      },
      {
        "duration": 20,
        "start_time": "2022-06-08T11:07:54.156Z"
      },
      {
        "duration": 20,
        "start_time": "2022-06-08T11:07:54.178Z"
      },
      {
        "duration": 69,
        "start_time": "2022-06-08T11:07:54.223Z"
      },
      {
        "duration": 112,
        "start_time": "2022-06-08T11:07:54.294Z"
      },
      {
        "duration": 55,
        "start_time": "2022-06-08T11:07:54.408Z"
      },
      {
        "duration": 33,
        "start_time": "2022-06-08T11:07:54.465Z"
      },
      {
        "duration": 34,
        "start_time": "2022-06-08T11:07:54.500Z"
      },
      {
        "duration": 18,
        "start_time": "2022-06-08T11:07:54.536Z"
      },
      {
        "duration": 100,
        "start_time": "2022-06-08T11:07:54.556Z"
      },
      {
        "duration": 36,
        "start_time": "2022-06-08T11:07:54.658Z"
      },
      {
        "duration": 45,
        "start_time": "2022-06-08T11:07:54.696Z"
      },
      {
        "duration": 283,
        "start_time": "2022-06-08T11:07:54.743Z"
      },
      {
        "duration": 20,
        "start_time": "2022-06-08T11:07:55.028Z"
      },
      {
        "duration": 89,
        "start_time": "2022-06-08T11:07:55.049Z"
      },
      {
        "duration": 29,
        "start_time": "2022-06-08T11:07:55.140Z"
      },
      {
        "duration": 15,
        "start_time": "2022-06-08T11:07:55.170Z"
      },
      {
        "duration": 11,
        "start_time": "2022-06-08T11:07:55.187Z"
      },
      {
        "duration": 43,
        "start_time": "2022-06-08T11:07:55.200Z"
      },
      {
        "duration": 58,
        "start_time": "2022-06-08T11:07:55.245Z"
      },
      {
        "duration": 49,
        "start_time": "2022-06-08T11:07:55.305Z"
      },
      {
        "duration": 92,
        "start_time": "2022-06-08T11:07:55.358Z"
      },
      {
        "duration": 14,
        "start_time": "2022-06-08T11:07:55.453Z"
      },
      {
        "duration": 14,
        "start_time": "2022-06-08T11:07:55.469Z"
      },
      {
        "duration": 55,
        "start_time": "2022-06-08T11:07:55.484Z"
      },
      {
        "duration": 14,
        "start_time": "2022-06-08T11:07:55.540Z"
      },
      {
        "duration": 85,
        "start_time": "2022-06-08T11:07:55.556Z"
      },
      {
        "duration": 34,
        "start_time": "2022-06-08T11:07:55.643Z"
      },
      {
        "duration": 45,
        "start_time": "2022-06-08T11:07:55.679Z"
      },
      {
        "duration": 18,
        "start_time": "2022-06-08T11:07:55.726Z"
      },
      {
        "duration": 13,
        "start_time": "2022-06-08T11:07:55.746Z"
      },
      {
        "duration": 31,
        "start_time": "2022-06-08T11:07:55.761Z"
      },
      {
        "duration": 34,
        "start_time": "2022-06-08T11:07:55.794Z"
      },
      {
        "duration": 55,
        "start_time": "2022-06-08T11:07:55.830Z"
      },
      {
        "duration": 126,
        "start_time": "2022-06-08T11:07:55.888Z"
      },
      {
        "duration": 85,
        "start_time": "2022-06-08T11:07:56.016Z"
      },
      {
        "duration": 64,
        "start_time": "2022-06-08T11:07:56.103Z"
      },
      {
        "duration": 20,
        "start_time": "2022-06-08T11:07:56.169Z"
      },
      {
        "duration": 11,
        "start_time": "2022-06-08T11:07:56.191Z"
      },
      {
        "duration": 64,
        "start_time": "2022-06-08T11:07:56.223Z"
      },
      {
        "duration": 15,
        "start_time": "2022-06-08T11:07:56.288Z"
      },
      {
        "duration": 15,
        "start_time": "2022-06-08T11:07:56.324Z"
      },
      {
        "duration": 150,
        "start_time": "2022-06-08T11:07:56.341Z"
      },
      {
        "duration": 3,
        "start_time": "2022-06-08T11:07:56.493Z"
      },
      {
        "duration": 9,
        "start_time": "2022-06-08T11:07:56.498Z"
      },
      {
        "duration": 30066,
        "start_time": "2022-06-08T11:07:56.509Z"
      },
      {
        "duration": 0,
        "start_time": "2022-06-08T11:08:26.577Z"
      },
      {
        "duration": 0,
        "start_time": "2022-06-08T11:08:26.578Z"
      },
      {
        "duration": 0,
        "start_time": "2022-06-08T11:08:26.579Z"
      },
      {
        "duration": 0,
        "start_time": "2022-06-08T11:08:26.581Z"
      },
      {
        "duration": 0,
        "start_time": "2022-06-08T11:08:26.582Z"
      },
      {
        "duration": 0,
        "start_time": "2022-06-08T11:08:26.584Z"
      },
      {
        "duration": 0,
        "start_time": "2022-06-08T11:08:26.585Z"
      },
      {
        "duration": 0,
        "start_time": "2022-06-08T11:08:26.586Z"
      },
      {
        "duration": 1200,
        "start_time": "2022-06-08T11:08:35.944Z"
      },
      {
        "duration": 4,
        "start_time": "2022-06-08T11:08:37.146Z"
      },
      {
        "duration": 959,
        "start_time": "2022-06-08T11:08:37.151Z"
      },
      {
        "duration": 26,
        "start_time": "2022-06-08T11:08:38.112Z"
      },
      {
        "duration": 156,
        "start_time": "2022-06-08T11:08:38.140Z"
      },
      {
        "duration": 3,
        "start_time": "2022-06-08T11:08:38.297Z"
      },
      {
        "duration": 505,
        "start_time": "2022-06-08T11:08:38.302Z"
      },
      {
        "duration": 33,
        "start_time": "2022-06-08T11:08:38.809Z"
      },
      {
        "duration": 21,
        "start_time": "2022-06-08T11:08:38.844Z"
      },
      {
        "duration": 97,
        "start_time": "2022-06-08T11:08:38.867Z"
      },
      {
        "duration": 130,
        "start_time": "2022-06-08T11:08:38.967Z"
      },
      {
        "duration": 69,
        "start_time": "2022-06-08T11:08:39.099Z"
      },
      {
        "duration": 33,
        "start_time": "2022-06-08T11:08:39.169Z"
      },
      {
        "duration": 41,
        "start_time": "2022-06-08T11:08:39.204Z"
      },
      {
        "duration": 27,
        "start_time": "2022-06-08T11:08:39.247Z"
      },
      {
        "duration": 104,
        "start_time": "2022-06-08T11:08:39.275Z"
      },
      {
        "duration": 31,
        "start_time": "2022-06-08T11:08:39.380Z"
      },
      {
        "duration": 31,
        "start_time": "2022-06-08T11:08:39.413Z"
      },
      {
        "duration": 300,
        "start_time": "2022-06-08T11:08:39.446Z"
      },
      {
        "duration": 19,
        "start_time": "2022-06-08T11:08:39.747Z"
      },
      {
        "duration": 97,
        "start_time": "2022-06-08T11:08:39.768Z"
      },
      {
        "duration": 28,
        "start_time": "2022-06-08T11:08:39.867Z"
      },
      {
        "duration": 14,
        "start_time": "2022-06-08T11:08:39.897Z"
      },
      {
        "duration": 18,
        "start_time": "2022-06-08T11:08:39.922Z"
      },
      {
        "duration": 39,
        "start_time": "2022-06-08T11:08:39.943Z"
      },
      {
        "duration": 40,
        "start_time": "2022-06-08T11:08:39.983Z"
      },
      {
        "duration": 38,
        "start_time": "2022-06-08T11:08:40.026Z"
      },
      {
        "duration": 74,
        "start_time": "2022-06-08T11:08:40.068Z"
      },
      {
        "duration": 13,
        "start_time": "2022-06-08T11:08:40.143Z"
      },
      {
        "duration": 13,
        "start_time": "2022-06-08T11:08:40.158Z"
      },
      {
        "duration": 51,
        "start_time": "2022-06-08T11:08:40.172Z"
      },
      {
        "duration": 18,
        "start_time": "2022-06-08T11:08:40.225Z"
      },
      {
        "duration": 83,
        "start_time": "2022-06-08T11:08:40.245Z"
      },
      {
        "duration": 37,
        "start_time": "2022-06-08T11:08:40.330Z"
      },
      {
        "duration": 23,
        "start_time": "2022-06-08T11:08:40.369Z"
      },
      {
        "duration": 35,
        "start_time": "2022-06-08T11:08:40.393Z"
      },
      {
        "duration": 15,
        "start_time": "2022-06-08T11:08:40.430Z"
      },
      {
        "duration": 13,
        "start_time": "2022-06-08T11:08:40.447Z"
      },
      {
        "duration": 13,
        "start_time": "2022-06-08T11:08:40.461Z"
      },
      {
        "duration": 76,
        "start_time": "2022-06-08T11:08:40.476Z"
      },
      {
        "duration": 89,
        "start_time": "2022-06-08T11:08:40.554Z"
      },
      {
        "duration": 93,
        "start_time": "2022-06-08T11:08:40.644Z"
      },
      {
        "duration": 52,
        "start_time": "2022-06-08T11:08:40.739Z"
      },
      {
        "duration": 39,
        "start_time": "2022-06-08T11:08:40.792Z"
      },
      {
        "duration": 16,
        "start_time": "2022-06-08T11:08:40.833Z"
      },
      {
        "duration": 74,
        "start_time": "2022-06-08T11:08:40.851Z"
      },
      {
        "duration": 21,
        "start_time": "2022-06-08T11:08:40.928Z"
      },
      {
        "duration": 176,
        "start_time": "2022-06-08T11:08:40.951Z"
      },
      {
        "duration": 5,
        "start_time": "2022-06-08T11:08:41.129Z"
      },
      {
        "duration": 20,
        "start_time": "2022-06-08T11:08:41.136Z"
      },
      {
        "duration": 181893,
        "start_time": "2022-06-08T11:08:41.157Z"
      },
      {
        "duration": 534,
        "start_time": "2022-06-08T11:11:43.052Z"
      },
      {
        "duration": 0,
        "start_time": "2022-06-08T11:11:43.587Z"
      },
      {
        "duration": 0,
        "start_time": "2022-06-08T11:11:43.589Z"
      },
      {
        "duration": 0,
        "start_time": "2022-06-08T11:11:43.590Z"
      },
      {
        "duration": 0,
        "start_time": "2022-06-08T11:11:43.591Z"
      },
      {
        "duration": 0,
        "start_time": "2022-06-08T11:11:43.592Z"
      },
      {
        "duration": 0,
        "start_time": "2022-06-08T11:11:43.593Z"
      },
      {
        "duration": 0,
        "start_time": "2022-06-08T11:11:43.593Z"
      },
      {
        "duration": 1207,
        "start_time": "2022-06-08T11:13:02.791Z"
      },
      {
        "duration": 4,
        "start_time": "2022-06-08T11:13:04.000Z"
      },
      {
        "duration": 1015,
        "start_time": "2022-06-08T11:13:04.006Z"
      },
      {
        "duration": 35,
        "start_time": "2022-06-08T11:13:05.024Z"
      },
      {
        "duration": 158,
        "start_time": "2022-06-08T11:13:05.061Z"
      },
      {
        "duration": 4,
        "start_time": "2022-06-08T11:13:05.223Z"
      },
      {
        "duration": 575,
        "start_time": "2022-06-08T11:13:05.229Z"
      },
      {
        "duration": 33,
        "start_time": "2022-06-08T11:13:05.806Z"
      },
      {
        "duration": 23,
        "start_time": "2022-06-08T11:13:05.841Z"
      },
      {
        "duration": 97,
        "start_time": "2022-06-08T11:13:05.868Z"
      },
      {
        "duration": 129,
        "start_time": "2022-06-08T11:13:05.967Z"
      },
      {
        "duration": 71,
        "start_time": "2022-06-08T11:13:06.098Z"
      },
      {
        "duration": 57,
        "start_time": "2022-06-08T11:13:06.171Z"
      },
      {
        "duration": 45,
        "start_time": "2022-06-08T11:13:06.230Z"
      },
      {
        "duration": 22,
        "start_time": "2022-06-08T11:13:06.277Z"
      },
      {
        "duration": 93,
        "start_time": "2022-06-08T11:13:06.301Z"
      },
      {
        "duration": 37,
        "start_time": "2022-06-08T11:13:06.396Z"
      },
      {
        "duration": 30,
        "start_time": "2022-06-08T11:13:06.435Z"
      },
      {
        "duration": 366,
        "start_time": "2022-06-08T11:13:06.468Z"
      },
      {
        "duration": 20,
        "start_time": "2022-06-08T11:13:06.836Z"
      },
      {
        "duration": 98,
        "start_time": "2022-06-08T11:13:06.858Z"
      },
      {
        "duration": 33,
        "start_time": "2022-06-08T11:13:06.958Z"
      },
      {
        "duration": 20,
        "start_time": "2022-06-08T11:13:06.993Z"
      },
      {
        "duration": 14,
        "start_time": "2022-06-08T11:13:07.014Z"
      },
      {
        "duration": 33,
        "start_time": "2022-06-08T11:13:07.030Z"
      },
      {
        "duration": 34,
        "start_time": "2022-06-08T11:13:07.065Z"
      },
      {
        "duration": 42,
        "start_time": "2022-06-08T11:13:07.124Z"
      },
      {
        "duration": 108,
        "start_time": "2022-06-08T11:13:07.172Z"
      },
      {
        "duration": 15,
        "start_time": "2022-06-08T11:13:07.283Z"
      },
      {
        "duration": 32,
        "start_time": "2022-06-08T11:13:07.300Z"
      },
      {
        "duration": 35,
        "start_time": "2022-06-08T11:13:07.334Z"
      },
      {
        "duration": 15,
        "start_time": "2022-06-08T11:13:07.372Z"
      },
      {
        "duration": 144,
        "start_time": "2022-06-08T11:13:07.389Z"
      },
      {
        "duration": 42,
        "start_time": "2022-06-08T11:13:07.535Z"
      },
      {
        "duration": 47,
        "start_time": "2022-06-08T11:13:07.579Z"
      },
      {
        "duration": 19,
        "start_time": "2022-06-08T11:13:07.629Z"
      },
      {
        "duration": 16,
        "start_time": "2022-06-08T11:13:07.650Z"
      },
      {
        "duration": 15,
        "start_time": "2022-06-08T11:13:07.669Z"
      },
      {
        "duration": 41,
        "start_time": "2022-06-08T11:13:07.686Z"
      },
      {
        "duration": 54,
        "start_time": "2022-06-08T11:13:07.729Z"
      },
      {
        "duration": 91,
        "start_time": "2022-06-08T11:13:07.785Z"
      },
      {
        "duration": 99,
        "start_time": "2022-06-08T11:13:07.878Z"
      },
      {
        "duration": 59,
        "start_time": "2022-06-08T11:13:07.979Z"
      },
      {
        "duration": 21,
        "start_time": "2022-06-08T11:13:08.040Z"
      },
      {
        "duration": 19,
        "start_time": "2022-06-08T11:13:08.063Z"
      },
      {
        "duration": 92,
        "start_time": "2022-06-08T11:13:08.084Z"
      },
      {
        "duration": 16,
        "start_time": "2022-06-08T11:13:08.178Z"
      },
      {
        "duration": 162,
        "start_time": "2022-06-08T11:13:08.196Z"
      },
      {
        "duration": 3,
        "start_time": "2022-06-08T11:13:08.360Z"
      },
      {
        "duration": 10,
        "start_time": "2022-06-08T11:13:08.364Z"
      },
      {
        "duration": 178725,
        "start_time": "2022-06-08T11:13:08.376Z"
      },
      {
        "duration": 561,
        "start_time": "2022-06-08T11:16:07.103Z"
      },
      {
        "duration": 0,
        "start_time": "2022-06-08T11:16:07.666Z"
      },
      {
        "duration": 0,
        "start_time": "2022-06-08T11:16:07.668Z"
      },
      {
        "duration": 0,
        "start_time": "2022-06-08T11:16:07.671Z"
      },
      {
        "duration": 0,
        "start_time": "2022-06-08T11:16:07.672Z"
      },
      {
        "duration": 0,
        "start_time": "2022-06-08T11:16:07.674Z"
      },
      {
        "duration": 0,
        "start_time": "2022-06-08T11:16:07.675Z"
      },
      {
        "duration": 0,
        "start_time": "2022-06-08T11:16:07.676Z"
      },
      {
        "duration": 3,
        "start_time": "2022-06-08T11:17:36.375Z"
      },
      {
        "duration": 4,
        "start_time": "2022-06-08T11:17:45.889Z"
      },
      {
        "duration": 636,
        "start_time": "2022-06-08T11:17:48.983Z"
      },
      {
        "duration": 4,
        "start_time": "2022-06-08T11:18:53.552Z"
      },
      {
        "duration": 451,
        "start_time": "2022-06-08T11:18:56.998Z"
      },
      {
        "duration": 1057,
        "start_time": "2022-06-08T11:19:13.362Z"
      },
      {
        "duration": 9,
        "start_time": "2022-06-08T11:19:14.421Z"
      },
      {
        "duration": 906,
        "start_time": "2022-06-08T11:19:14.437Z"
      },
      {
        "duration": 27,
        "start_time": "2022-06-08T11:19:15.346Z"
      },
      {
        "duration": 163,
        "start_time": "2022-06-08T11:19:15.375Z"
      },
      {
        "duration": 5,
        "start_time": "2022-06-08T11:19:15.539Z"
      },
      {
        "duration": 519,
        "start_time": "2022-06-08T11:19:15.546Z"
      },
      {
        "duration": 19,
        "start_time": "2022-06-08T11:19:16.067Z"
      },
      {
        "duration": 50,
        "start_time": "2022-06-08T11:19:16.088Z"
      },
      {
        "duration": 74,
        "start_time": "2022-06-08T11:19:16.143Z"
      },
      {
        "duration": 125,
        "start_time": "2022-06-08T11:19:16.219Z"
      },
      {
        "duration": 47,
        "start_time": "2022-06-08T11:19:16.346Z"
      },
      {
        "duration": 60,
        "start_time": "2022-06-08T11:19:16.395Z"
      },
      {
        "duration": 22,
        "start_time": "2022-06-08T11:19:16.457Z"
      },
      {
        "duration": 24,
        "start_time": "2022-06-08T11:19:16.481Z"
      },
      {
        "duration": 145,
        "start_time": "2022-06-08T11:19:16.507Z"
      },
      {
        "duration": 31,
        "start_time": "2022-06-08T11:19:16.654Z"
      },
      {
        "duration": 37,
        "start_time": "2022-06-08T11:19:16.687Z"
      },
      {
        "duration": 287,
        "start_time": "2022-06-08T11:19:16.730Z"
      },
      {
        "duration": 25,
        "start_time": "2022-06-08T11:19:17.024Z"
      },
      {
        "duration": 89,
        "start_time": "2022-06-08T11:19:17.051Z"
      },
      {
        "duration": 30,
        "start_time": "2022-06-08T11:19:17.142Z"
      },
      {
        "duration": 8,
        "start_time": "2022-06-08T11:19:17.173Z"
      },
      {
        "duration": 6,
        "start_time": "2022-06-08T11:19:17.183Z"
      },
      {
        "duration": 62,
        "start_time": "2022-06-08T11:19:17.191Z"
      },
      {
        "duration": 30,
        "start_time": "2022-06-08T11:19:17.255Z"
      },
      {
        "duration": 52,
        "start_time": "2022-06-08T11:19:17.287Z"
      },
      {
        "duration": 56,
        "start_time": "2022-06-08T11:19:17.344Z"
      },
      {
        "duration": 31,
        "start_time": "2022-06-08T11:19:17.402Z"
      },
      {
        "duration": 16,
        "start_time": "2022-06-08T11:19:17.435Z"
      },
      {
        "duration": 30,
        "start_time": "2022-06-08T11:19:17.453Z"
      },
      {
        "duration": 11,
        "start_time": "2022-06-08T11:19:17.485Z"
      },
      {
        "duration": 93,
        "start_time": "2022-06-08T11:19:17.498Z"
      },
      {
        "duration": 46,
        "start_time": "2022-06-08T11:19:17.593Z"
      },
      {
        "duration": 22,
        "start_time": "2022-06-08T11:19:17.641Z"
      },
      {
        "duration": 13,
        "start_time": "2022-06-08T11:19:17.665Z"
      },
      {
        "duration": 10,
        "start_time": "2022-06-08T11:19:17.679Z"
      },
      {
        "duration": 49,
        "start_time": "2022-06-08T11:19:17.690Z"
      },
      {
        "duration": 14,
        "start_time": "2022-06-08T11:19:17.742Z"
      },
      {
        "duration": 68,
        "start_time": "2022-06-08T11:19:17.758Z"
      },
      {
        "duration": 78,
        "start_time": "2022-06-08T11:19:17.833Z"
      },
      {
        "duration": 90,
        "start_time": "2022-06-08T11:19:17.912Z"
      },
      {
        "duration": 57,
        "start_time": "2022-06-08T11:19:18.004Z"
      },
      {
        "duration": 21,
        "start_time": "2022-06-08T11:19:18.062Z"
      },
      {
        "duration": 12,
        "start_time": "2022-06-08T11:19:18.085Z"
      },
      {
        "duration": 99,
        "start_time": "2022-06-08T11:19:18.099Z"
      },
      {
        "duration": 39,
        "start_time": "2022-06-08T11:19:18.199Z"
      },
      {
        "duration": 143,
        "start_time": "2022-06-08T11:19:18.242Z"
      },
      {
        "duration": 3,
        "start_time": "2022-06-08T11:19:18.387Z"
      },
      {
        "duration": 6,
        "start_time": "2022-06-08T11:19:18.392Z"
      },
      {
        "duration": 186786,
        "start_time": "2022-06-08T11:19:18.400Z"
      },
      {
        "duration": 454,
        "start_time": "2022-06-08T11:22:25.188Z"
      },
      {
        "duration": 114885,
        "start_time": "2022-06-08T11:22:25.644Z"
      },
      {
        "duration": 421,
        "start_time": "2022-06-08T11:24:20.532Z"
      },
      {
        "duration": 52971,
        "start_time": "2022-06-08T11:24:20.955Z"
      },
      {
        "duration": 300,
        "start_time": "2022-06-08T11:25:13.928Z"
      },
      {
        "duration": 7,
        "start_time": "2022-06-08T11:25:14.230Z"
      },
      {
        "duration": 15,
        "start_time": "2022-06-08T11:25:14.247Z"
      },
      {
        "duration": 4,
        "start_time": "2022-06-08T11:25:14.264Z"
      },
      {
        "duration": 1372,
        "start_time": "2022-06-09T10:05:26.599Z"
      },
      {
        "duration": 3,
        "start_time": "2022-06-09T10:05:27.973Z"
      },
      {
        "duration": 1639,
        "start_time": "2022-06-09T10:05:27.977Z"
      },
      {
        "duration": 102,
        "start_time": "2022-06-09T10:05:29.618Z"
      },
      {
        "duration": 178,
        "start_time": "2022-06-09T10:05:29.722Z"
      },
      {
        "duration": 17,
        "start_time": "2022-06-09T10:05:29.907Z"
      },
      {
        "duration": 679,
        "start_time": "2022-06-09T10:05:29.925Z"
      },
      {
        "duration": 20,
        "start_time": "2022-06-09T10:05:30.606Z"
      },
      {
        "duration": 50,
        "start_time": "2022-06-09T10:05:30.628Z"
      },
      {
        "duration": 78,
        "start_time": "2022-06-09T10:05:30.681Z"
      },
      {
        "duration": 150,
        "start_time": "2022-06-09T10:05:30.762Z"
      },
      {
        "duration": 49,
        "start_time": "2022-06-09T10:05:30.914Z"
      },
      {
        "duration": 58,
        "start_time": "2022-06-09T10:05:30.971Z"
      },
      {
        "duration": 44,
        "start_time": "2022-06-09T10:05:31.032Z"
      },
      {
        "duration": 65,
        "start_time": "2022-06-09T10:05:31.080Z"
      },
      {
        "duration": 110,
        "start_time": "2022-06-09T10:05:31.146Z"
      },
      {
        "duration": 60,
        "start_time": "2022-06-09T10:05:31.258Z"
      },
      {
        "duration": 18,
        "start_time": "2022-06-09T10:05:31.319Z"
      },
      {
        "duration": 345,
        "start_time": "2022-06-09T10:05:31.338Z"
      },
      {
        "duration": 22,
        "start_time": "2022-06-09T10:05:31.685Z"
      },
      {
        "duration": 103,
        "start_time": "2022-06-09T10:05:31.710Z"
      },
      {
        "duration": 41,
        "start_time": "2022-06-09T10:05:31.814Z"
      },
      {
        "duration": 72,
        "start_time": "2022-06-09T10:05:31.862Z"
      },
      {
        "duration": 59,
        "start_time": "2022-06-09T10:05:31.936Z"
      },
      {
        "duration": 50,
        "start_time": "2022-06-09T10:05:31.998Z"
      },
      {
        "duration": 61,
        "start_time": "2022-06-09T10:05:32.049Z"
      },
      {
        "duration": 109,
        "start_time": "2022-06-09T10:05:32.113Z"
      },
      {
        "duration": 92,
        "start_time": "2022-06-09T10:05:32.224Z"
      },
      {
        "duration": 12,
        "start_time": "2022-06-09T10:05:32.317Z"
      },
      {
        "duration": 11,
        "start_time": "2022-06-09T10:05:32.331Z"
      },
      {
        "duration": 27,
        "start_time": "2022-06-09T10:05:32.344Z"
      },
      {
        "duration": 15,
        "start_time": "2022-06-09T10:05:32.373Z"
      },
      {
        "duration": 213,
        "start_time": "2022-06-09T10:05:32.391Z"
      },
      {
        "duration": 39,
        "start_time": "2022-06-09T10:05:32.608Z"
      },
      {
        "duration": 40,
        "start_time": "2022-06-09T10:05:32.649Z"
      },
      {
        "duration": 25,
        "start_time": "2022-06-09T10:05:32.695Z"
      },
      {
        "duration": 18,
        "start_time": "2022-06-09T10:05:32.722Z"
      },
      {
        "duration": 11,
        "start_time": "2022-06-09T10:05:32.742Z"
      },
      {
        "duration": 40,
        "start_time": "2022-06-09T10:05:32.755Z"
      },
      {
        "duration": 103,
        "start_time": "2022-06-09T10:05:32.797Z"
      },
      {
        "duration": 115,
        "start_time": "2022-06-09T10:05:32.910Z"
      },
      {
        "duration": 101,
        "start_time": "2022-06-09T10:05:33.028Z"
      },
      {
        "duration": 64,
        "start_time": "2022-06-09T10:05:33.131Z"
      },
      {
        "duration": 25,
        "start_time": "2022-06-09T10:05:33.197Z"
      },
      {
        "duration": 16,
        "start_time": "2022-06-09T10:05:33.223Z"
      },
      {
        "duration": 115,
        "start_time": "2022-06-09T10:05:33.241Z"
      },
      {
        "duration": 17,
        "start_time": "2022-06-09T10:05:33.358Z"
      },
      {
        "duration": 225,
        "start_time": "2022-06-09T10:05:33.386Z"
      },
      {
        "duration": 3,
        "start_time": "2022-06-09T10:05:33.612Z"
      },
      {
        "duration": 8,
        "start_time": "2022-06-09T10:05:33.616Z"
      },
      {
        "duration": 189699,
        "start_time": "2022-06-09T10:05:33.625Z"
      },
      {
        "duration": 493,
        "start_time": "2022-06-09T10:08:43.326Z"
      },
      {
        "duration": 4,
        "start_time": "2022-06-09T10:08:43.821Z"
      },
      {
        "duration": 8,
        "start_time": "2022-06-09T10:08:43.827Z"
      },
      {
        "duration": 129145,
        "start_time": "2022-06-09T10:08:43.837Z"
      },
      {
        "duration": 494,
        "start_time": "2022-06-09T10:10:52.987Z"
      },
      {
        "duration": 33915,
        "start_time": "2022-06-09T10:10:53.495Z"
      },
      {
        "duration": 141,
        "start_time": "2022-06-09T10:11:27.466Z"
      },
      {
        "duration": 47,
        "start_time": "2022-06-09T10:11:27.619Z"
      },
      {
        "duration": 31,
        "start_time": "2022-06-09T10:11:27.699Z"
      },
      {
        "duration": 6,
        "start_time": "2022-06-09T10:11:27.733Z"
      },
      {
        "duration": 148,
        "start_time": "2022-06-09T10:11:35.145Z"
      },
      {
        "duration": 215025,
        "start_time": "2022-06-09T10:11:49.081Z"
      },
      {
        "duration": 526,
        "start_time": "2022-06-09T10:15:24.109Z"
      },
      {
        "duration": 9,
        "start_time": "2022-06-09T10:15:24.637Z"
      },
      {
        "duration": 16,
        "start_time": "2022-06-09T10:15:24.663Z"
      },
      {
        "duration": 33,
        "start_time": "2022-06-09T11:38:48.211Z"
      },
      {
        "duration": 22,
        "start_time": "2022-06-09T11:38:56.373Z"
      },
      {
        "duration": 13,
        "start_time": "2022-06-09T11:42:31.594Z"
      },
      {
        "duration": 30,
        "start_time": "2022-06-09T11:42:41.982Z"
      },
      {
        "duration": 28,
        "start_time": "2022-06-09T11:49:40.468Z"
      },
      {
        "duration": 19,
        "start_time": "2022-06-09T11:49:46.725Z"
      },
      {
        "duration": 174,
        "start_time": "2022-06-09T11:50:23.518Z"
      },
      {
        "duration": 159,
        "start_time": "2022-06-09T11:50:28.293Z"
      },
      {
        "duration": 12,
        "start_time": "2022-06-09T11:52:50.181Z"
      },
      {
        "duration": 13,
        "start_time": "2022-06-09T11:54:07.455Z"
      },
      {
        "duration": 48,
        "start_time": "2022-06-09T11:56:17.642Z"
      },
      {
        "duration": 169,
        "start_time": "2022-06-09T11:56:45.278Z"
      },
      {
        "duration": 159,
        "start_time": "2022-06-09T11:57:47.578Z"
      },
      {
        "duration": 11,
        "start_time": "2022-06-09T11:57:49.433Z"
      },
      {
        "duration": 64,
        "start_time": "2022-06-09T11:57:51.377Z"
      },
      {
        "duration": 15,
        "start_time": "2022-06-09T11:57:57.945Z"
      },
      {
        "duration": 173,
        "start_time": "2022-06-09T11:58:00.204Z"
      },
      {
        "duration": 3,
        "start_time": "2022-06-09T11:58:01.920Z"
      },
      {
        "duration": 4,
        "start_time": "2022-06-09T11:58:02.712Z"
      },
      {
        "duration": 182929,
        "start_time": "2022-06-09T11:58:05.208Z"
      },
      {
        "duration": 475,
        "start_time": "2022-06-09T12:01:08.139Z"
      },
      {
        "duration": 12,
        "start_time": "2022-06-09T12:01:08.616Z"
      },
      {
        "duration": 18,
        "start_time": "2022-06-09T12:01:08.630Z"
      },
      {
        "duration": 1221,
        "start_time": "2022-06-09T12:09:25.638Z"
      },
      {
        "duration": 8,
        "start_time": "2022-06-09T12:09:26.861Z"
      },
      {
        "duration": 951,
        "start_time": "2022-06-09T12:09:26.871Z"
      },
      {
        "duration": 109,
        "start_time": "2022-06-09T12:09:27.825Z"
      },
      {
        "duration": 158,
        "start_time": "2022-06-09T12:09:27.935Z"
      },
      {
        "duration": 5,
        "start_time": "2022-06-09T12:09:28.095Z"
      },
      {
        "duration": 439,
        "start_time": "2022-06-09T12:09:28.102Z"
      },
      {
        "duration": 32,
        "start_time": "2022-06-09T12:09:28.543Z"
      },
      {
        "duration": 20,
        "start_time": "2022-06-09T12:09:28.578Z"
      },
      {
        "duration": 95,
        "start_time": "2022-06-09T12:09:28.602Z"
      },
      {
        "duration": 115,
        "start_time": "2022-06-09T12:09:28.700Z"
      },
      {
        "duration": 56,
        "start_time": "2022-06-09T12:09:28.817Z"
      },
      {
        "duration": 39,
        "start_time": "2022-06-09T12:09:28.876Z"
      },
      {
        "duration": 69,
        "start_time": "2022-06-09T12:09:28.917Z"
      },
      {
        "duration": 43,
        "start_time": "2022-06-09T12:09:28.988Z"
      },
      {
        "duration": 110,
        "start_time": "2022-06-09T12:09:29.032Z"
      },
      {
        "duration": 40,
        "start_time": "2022-06-09T12:09:29.144Z"
      },
      {
        "duration": 42,
        "start_time": "2022-06-09T12:09:29.186Z"
      },
      {
        "duration": 322,
        "start_time": "2022-06-09T12:09:29.230Z"
      },
      {
        "duration": 24,
        "start_time": "2022-06-09T12:09:29.554Z"
      },
      {
        "duration": 83,
        "start_time": "2022-06-09T12:09:29.580Z"
      },
      {
        "duration": 40,
        "start_time": "2022-06-09T12:09:29.666Z"
      },
      {
        "duration": 36,
        "start_time": "2022-06-09T12:09:29.708Z"
      },
      {
        "duration": 50,
        "start_time": "2022-06-09T12:09:29.746Z"
      },
      {
        "duration": 54,
        "start_time": "2022-06-09T12:09:29.798Z"
      },
      {
        "duration": 78,
        "start_time": "2022-06-09T12:09:29.855Z"
      },
      {
        "duration": 47,
        "start_time": "2022-06-09T12:09:29.935Z"
      },
      {
        "duration": 113,
        "start_time": "2022-06-09T12:09:29.987Z"
      },
      {
        "duration": 12,
        "start_time": "2022-06-09T12:09:30.102Z"
      },
      {
        "duration": 34,
        "start_time": "2022-06-09T12:09:30.116Z"
      },
      {
        "duration": 47,
        "start_time": "2022-06-09T12:09:30.152Z"
      },
      {
        "duration": 13,
        "start_time": "2022-06-09T12:09:30.201Z"
      },
      {
        "duration": 101,
        "start_time": "2022-06-09T12:09:30.218Z"
      },
      {
        "duration": 84,
        "start_time": "2022-06-09T12:09:30.321Z"
      },
      {
        "duration": 34,
        "start_time": "2022-06-09T12:09:30.407Z"
      },
      {
        "duration": 30,
        "start_time": "2022-06-09T12:09:30.443Z"
      },
      {
        "duration": 33,
        "start_time": "2022-06-09T12:09:30.478Z"
      },
      {
        "duration": 30,
        "start_time": "2022-06-09T12:09:30.513Z"
      },
      {
        "duration": 49,
        "start_time": "2022-06-09T12:09:30.545Z"
      },
      {
        "duration": 50,
        "start_time": "2022-06-09T12:09:30.596Z"
      },
      {
        "duration": 15,
        "start_time": "2022-06-09T12:09:30.648Z"
      },
      {
        "duration": 67,
        "start_time": "2022-06-09T12:09:30.665Z"
      },
      {
        "duration": 97,
        "start_time": "2022-06-09T12:09:30.734Z"
      },
      {
        "duration": 87,
        "start_time": "2022-06-09T12:09:30.833Z"
      },
      {
        "duration": 52,
        "start_time": "2022-06-09T12:09:30.923Z"
      },
      {
        "duration": 20,
        "start_time": "2022-06-09T12:09:30.977Z"
      },
      {
        "duration": 173,
        "start_time": "2022-06-09T12:09:30.998Z"
      },
      {
        "duration": 154,
        "start_time": "2022-06-09T12:09:31.173Z"
      },
      {
        "duration": 12,
        "start_time": "2022-06-09T12:09:31.329Z"
      },
      {
        "duration": 110,
        "start_time": "2022-06-09T12:09:31.343Z"
      },
      {
        "duration": 36,
        "start_time": "2022-06-09T12:09:31.455Z"
      },
      {
        "duration": 176,
        "start_time": "2022-06-09T12:09:31.493Z"
      },
      {
        "duration": 4,
        "start_time": "2022-06-09T12:09:31.672Z"
      },
      {
        "duration": 36,
        "start_time": "2022-06-09T12:09:31.678Z"
      },
      {
        "duration": 180952,
        "start_time": "2022-06-09T12:09:31.715Z"
      },
      {
        "duration": 607,
        "start_time": "2022-06-09T12:12:32.669Z"
      },
      {
        "duration": 14,
        "start_time": "2022-06-09T12:12:33.288Z"
      },
      {
        "duration": 11,
        "start_time": "2022-06-09T12:12:33.304Z"
      },
      {
        "duration": 111276,
        "start_time": "2022-06-09T12:12:33.316Z"
      },
      {
        "duration": 486,
        "start_time": "2022-06-09T12:14:24.595Z"
      },
      {
        "duration": 50290,
        "start_time": "2022-06-09T12:14:25.083Z"
      },
      {
        "duration": 196,
        "start_time": "2022-06-09T12:15:15.375Z"
      },
      {
        "duration": 85,
        "start_time": "2022-06-09T12:15:15.576Z"
      },
      {
        "duration": 9,
        "start_time": "2022-06-09T12:15:15.663Z"
      },
      {
        "duration": 9,
        "start_time": "2022-06-09T12:15:15.675Z"
      },
      {
        "duration": 212,
        "start_time": "2022-06-09T12:18:24.388Z"
      },
      {
        "duration": 7,
        "start_time": "2022-06-09T12:18:32.205Z"
      },
      {
        "duration": 630,
        "start_time": "2022-06-09T12:18:41.167Z"
      },
      {
        "duration": 807,
        "start_time": "2022-06-09T12:19:47.846Z"
      },
      {
        "duration": 1204,
        "start_time": "2022-06-09T12:38:33.063Z"
      },
      {
        "duration": 7,
        "start_time": "2022-06-09T12:38:34.270Z"
      },
      {
        "duration": 924,
        "start_time": "2022-06-09T12:38:34.280Z"
      },
      {
        "duration": 90,
        "start_time": "2022-06-09T12:38:35.206Z"
      },
      {
        "duration": 136,
        "start_time": "2022-06-09T12:38:35.298Z"
      },
      {
        "duration": 2,
        "start_time": "2022-06-09T12:38:35.436Z"
      },
      {
        "duration": 377,
        "start_time": "2022-06-09T12:38:35.459Z"
      },
      {
        "duration": 25,
        "start_time": "2022-06-09T12:38:35.838Z"
      },
      {
        "duration": 19,
        "start_time": "2022-06-09T12:38:35.865Z"
      },
      {
        "duration": 89,
        "start_time": "2022-06-09T12:38:35.887Z"
      },
      {
        "duration": 129,
        "start_time": "2022-06-09T12:38:35.978Z"
      },
      {
        "duration": 54,
        "start_time": "2022-06-09T12:38:36.109Z"
      },
      {
        "duration": 31,
        "start_time": "2022-06-09T12:38:36.166Z"
      },
      {
        "duration": 26,
        "start_time": "2022-06-09T12:38:36.200Z"
      },
      {
        "duration": 40,
        "start_time": "2022-06-09T12:38:36.227Z"
      },
      {
        "duration": 95,
        "start_time": "2022-06-09T12:38:36.270Z"
      },
      {
        "duration": 38,
        "start_time": "2022-06-09T12:38:36.368Z"
      },
      {
        "duration": 26,
        "start_time": "2022-06-09T12:38:36.408Z"
      },
      {
        "duration": 323,
        "start_time": "2022-06-09T12:38:36.436Z"
      },
      {
        "duration": 27,
        "start_time": "2022-06-09T12:38:36.761Z"
      },
      {
        "duration": 75,
        "start_time": "2022-06-09T12:38:36.790Z"
      },
      {
        "duration": 44,
        "start_time": "2022-06-09T12:38:36.868Z"
      },
      {
        "duration": 11,
        "start_time": "2022-06-09T12:38:36.914Z"
      },
      {
        "duration": 8,
        "start_time": "2022-06-09T12:38:36.927Z"
      },
      {
        "duration": 57,
        "start_time": "2022-06-09T12:38:36.937Z"
      },
      {
        "duration": 29,
        "start_time": "2022-06-09T12:38:36.996Z"
      },
      {
        "duration": 45,
        "start_time": "2022-06-09T12:38:37.027Z"
      },
      {
        "duration": 63,
        "start_time": "2022-06-09T12:38:37.075Z"
      },
      {
        "duration": 26,
        "start_time": "2022-06-09T12:38:37.140Z"
      },
      {
        "duration": 18,
        "start_time": "2022-06-09T12:38:37.169Z"
      },
      {
        "duration": 25,
        "start_time": "2022-06-09T12:38:37.189Z"
      },
      {
        "duration": 10,
        "start_time": "2022-06-09T12:38:37.216Z"
      },
      {
        "duration": 106,
        "start_time": "2022-06-09T12:38:37.227Z"
      },
      {
        "duration": 59,
        "start_time": "2022-06-09T12:38:37.335Z"
      },
      {
        "duration": 28,
        "start_time": "2022-06-09T12:38:37.396Z"
      },
      {
        "duration": 20,
        "start_time": "2022-06-09T12:38:37.428Z"
      },
      {
        "duration": 24,
        "start_time": "2022-06-09T12:38:37.450Z"
      },
      {
        "duration": 25,
        "start_time": "2022-06-09T12:38:37.476Z"
      },
      {
        "duration": 14,
        "start_time": "2022-06-09T12:38:37.503Z"
      },
      {
        "duration": 61,
        "start_time": "2022-06-09T12:38:37.519Z"
      },
      {
        "duration": 12,
        "start_time": "2022-06-09T12:38:37.582Z"
      },
      {
        "duration": 48,
        "start_time": "2022-06-09T12:38:37.596Z"
      },
      {
        "duration": 113,
        "start_time": "2022-06-09T12:38:37.646Z"
      },
      {
        "duration": 80,
        "start_time": "2022-06-09T12:38:37.761Z"
      },
      {
        "duration": 53,
        "start_time": "2022-06-09T12:38:37.842Z"
      },
      {
        "duration": 19,
        "start_time": "2022-06-09T12:38:37.897Z"
      },
      {
        "duration": 186,
        "start_time": "2022-06-09T12:38:37.918Z"
      },
      {
        "duration": 166,
        "start_time": "2022-06-09T12:38:38.106Z"
      },
      {
        "duration": 18,
        "start_time": "2022-06-09T12:38:38.275Z"
      },
      {
        "duration": 91,
        "start_time": "2022-06-09T12:38:38.295Z"
      },
      {
        "duration": 16,
        "start_time": "2022-06-09T12:38:38.388Z"
      },
      {
        "duration": 165,
        "start_time": "2022-06-09T12:38:38.406Z"
      },
      {
        "duration": 3,
        "start_time": "2022-06-09T12:38:38.574Z"
      },
      {
        "duration": 11,
        "start_time": "2022-06-09T12:38:38.578Z"
      },
      {
        "duration": 165555,
        "start_time": "2022-06-09T12:38:38.591Z"
      },
      {
        "duration": 481,
        "start_time": "2022-06-09T12:41:24.148Z"
      },
      {
        "duration": 9,
        "start_time": "2022-06-09T12:41:24.631Z"
      },
      {
        "duration": 19,
        "start_time": "2022-06-09T12:41:24.642Z"
      },
      {
        "duration": 94305,
        "start_time": "2022-06-09T12:41:24.662Z"
      },
      {
        "duration": 413,
        "start_time": "2022-06-09T12:42:58.969Z"
      },
      {
        "duration": 93482,
        "start_time": "2022-06-09T12:42:59.384Z"
      },
      {
        "duration": 207,
        "start_time": "2022-06-09T12:44:32.869Z"
      },
      {
        "duration": 23,
        "start_time": "2022-06-09T12:44:33.083Z"
      },
      {
        "duration": 26,
        "start_time": "2022-06-09T12:44:33.168Z"
      },
      {
        "duration": 8,
        "start_time": "2022-06-09T12:44:33.196Z"
      },
      {
        "duration": 547,
        "start_time": "2022-06-09T12:44:33.205Z"
      },
      {
        "duration": 1164,
        "start_time": "2022-06-09T14:12:32.391Z"
      },
      {
        "duration": 2,
        "start_time": "2022-06-09T14:12:33.558Z"
      },
      {
        "duration": 927,
        "start_time": "2022-06-09T14:12:33.562Z"
      },
      {
        "duration": 27,
        "start_time": "2022-06-09T14:12:34.492Z"
      },
      {
        "duration": 183,
        "start_time": "2022-06-09T14:12:34.521Z"
      },
      {
        "duration": 4,
        "start_time": "2022-06-09T14:12:34.707Z"
      },
      {
        "duration": 523,
        "start_time": "2022-06-09T14:12:34.713Z"
      },
      {
        "duration": 29,
        "start_time": "2022-06-09T14:12:35.238Z"
      },
      {
        "duration": 27,
        "start_time": "2022-06-09T14:12:35.272Z"
      },
      {
        "duration": 87,
        "start_time": "2022-06-09T14:12:35.301Z"
      },
      {
        "duration": 114,
        "start_time": "2022-06-09T14:12:35.390Z"
      },
      {
        "duration": 74,
        "start_time": "2022-06-09T14:12:35.506Z"
      },
      {
        "duration": 48,
        "start_time": "2022-06-09T14:12:35.581Z"
      },
      {
        "duration": 20,
        "start_time": "2022-06-09T14:12:35.631Z"
      },
      {
        "duration": 24,
        "start_time": "2022-06-09T14:12:35.652Z"
      },
      {
        "duration": 111,
        "start_time": "2022-06-09T14:12:35.677Z"
      },
      {
        "duration": 46,
        "start_time": "2022-06-09T14:12:35.790Z"
      },
      {
        "duration": 34,
        "start_time": "2022-06-09T14:12:35.837Z"
      },
      {
        "duration": 265,
        "start_time": "2022-06-09T14:12:35.878Z"
      },
      {
        "duration": 34,
        "start_time": "2022-06-09T14:12:36.145Z"
      },
      {
        "duration": 67,
        "start_time": "2022-06-09T14:12:36.181Z"
      },
      {
        "duration": 37,
        "start_time": "2022-06-09T14:12:36.262Z"
      },
      {
        "duration": 7,
        "start_time": "2022-06-09T14:12:36.300Z"
      },
      {
        "duration": 13,
        "start_time": "2022-06-09T14:12:36.309Z"
      },
      {
        "duration": 39,
        "start_time": "2022-06-09T14:12:36.323Z"
      },
      {
        "duration": 69,
        "start_time": "2022-06-09T14:12:36.363Z"
      },
      {
        "duration": 48,
        "start_time": "2022-06-09T14:12:36.434Z"
      },
      {
        "duration": 58,
        "start_time": "2022-06-09T14:12:36.488Z"
      },
      {
        "duration": 19,
        "start_time": "2022-06-09T14:12:36.548Z"
      },
      {
        "duration": 19,
        "start_time": "2022-06-09T14:12:36.569Z"
      },
      {
        "duration": 31,
        "start_time": "2022-06-09T14:12:36.590Z"
      },
      {
        "duration": 9,
        "start_time": "2022-06-09T14:12:36.623Z"
      },
      {
        "duration": 96,
        "start_time": "2022-06-09T14:12:36.634Z"
      },
      {
        "duration": 51,
        "start_time": "2022-06-09T14:12:36.732Z"
      },
      {
        "duration": 22,
        "start_time": "2022-06-09T14:12:36.786Z"
      },
      {
        "duration": 12,
        "start_time": "2022-06-09T14:12:36.810Z"
      },
      {
        "duration": 22,
        "start_time": "2022-06-09T14:12:36.824Z"
      },
      {
        "duration": 43,
        "start_time": "2022-06-09T14:12:36.848Z"
      },
      {
        "duration": 19,
        "start_time": "2022-06-09T14:12:36.893Z"
      },
      {
        "duration": 62,
        "start_time": "2022-06-09T14:12:36.914Z"
      },
      {
        "duration": 15,
        "start_time": "2022-06-09T14:12:36.978Z"
      },
      {
        "duration": 52,
        "start_time": "2022-06-09T14:12:36.994Z"
      },
      {
        "duration": 84,
        "start_time": "2022-06-09T14:12:37.048Z"
      },
      {
        "duration": 91,
        "start_time": "2022-06-09T14:12:37.134Z"
      },
      {
        "duration": 58,
        "start_time": "2022-06-09T14:12:37.228Z"
      },
      {
        "duration": 20,
        "start_time": "2022-06-09T14:12:37.288Z"
      },
      {
        "duration": 190,
        "start_time": "2022-06-09T14:12:37.310Z"
      },
      {
        "duration": 176,
        "start_time": "2022-06-09T14:12:37.502Z"
      },
      {
        "duration": 16,
        "start_time": "2022-06-09T14:12:37.680Z"
      },
      {
        "duration": 81,
        "start_time": "2022-06-09T14:12:37.698Z"
      },
      {
        "duration": 56,
        "start_time": "2022-06-09T14:12:37.781Z"
      },
      {
        "duration": 189,
        "start_time": "2022-06-09T14:12:37.839Z"
      },
      {
        "duration": 2,
        "start_time": "2022-06-09T14:12:38.029Z"
      },
      {
        "duration": 21,
        "start_time": "2022-06-09T14:12:38.032Z"
      },
      {
        "duration": 171711,
        "start_time": "2022-06-09T14:12:38.054Z"
      },
      {
        "duration": 463,
        "start_time": "2022-06-09T14:15:29.777Z"
      },
      {
        "duration": 19,
        "start_time": "2022-06-09T14:15:30.242Z"
      },
      {
        "duration": 9,
        "start_time": "2022-06-09T14:15:30.267Z"
      },
      {
        "duration": 117183,
        "start_time": "2022-06-09T14:15:30.279Z"
      },
      {
        "duration": 414,
        "start_time": "2022-06-09T14:17:27.464Z"
      },
      {
        "duration": 86276,
        "start_time": "2022-06-09T14:17:27.883Z"
      },
      {
        "duration": 125,
        "start_time": "2022-06-09T14:18:54.161Z"
      },
      {
        "duration": 25,
        "start_time": "2022-06-09T14:18:54.363Z"
      },
      {
        "duration": 11,
        "start_time": "2022-06-09T14:18:54.389Z"
      },
      {
        "duration": 6,
        "start_time": "2022-06-09T14:18:54.462Z"
      },
      {
        "duration": 550,
        "start_time": "2022-06-09T14:18:54.472Z"
      },
      {
        "duration": 473,
        "start_time": "2022-06-09T14:26:25.416Z"
      },
      {
        "duration": 723,
        "start_time": "2022-06-09T14:26:37.766Z"
      },
      {
        "duration": 3,
        "start_time": "2022-06-09T14:26:41.201Z"
      },
      {
        "duration": 288,
        "start_time": "2022-06-09T14:26:45.507Z"
      },
      {
        "duration": 213,
        "start_time": "2022-06-09T14:27:15.216Z"
      },
      {
        "duration": 266,
        "start_time": "2022-06-09T14:27:31.195Z"
      },
      {
        "duration": 1145,
        "start_time": "2022-06-09T14:28:18.577Z"
      },
      {
        "duration": 2,
        "start_time": "2022-06-09T14:28:19.724Z"
      },
      {
        "duration": 805,
        "start_time": "2022-06-09T14:28:19.728Z"
      },
      {
        "duration": 24,
        "start_time": "2022-06-09T14:28:20.535Z"
      },
      {
        "duration": 134,
        "start_time": "2022-06-09T14:28:20.561Z"
      },
      {
        "duration": 3,
        "start_time": "2022-06-09T14:28:20.697Z"
      },
      {
        "duration": 419,
        "start_time": "2022-06-09T14:28:20.701Z"
      },
      {
        "duration": 17,
        "start_time": "2022-06-09T14:28:21.122Z"
      },
      {
        "duration": 32,
        "start_time": "2022-06-09T14:28:21.141Z"
      },
      {
        "duration": 83,
        "start_time": "2022-06-09T14:28:21.177Z"
      },
      {
        "duration": 129,
        "start_time": "2022-06-09T14:28:21.263Z"
      },
      {
        "duration": 40,
        "start_time": "2022-06-09T14:28:21.394Z"
      },
      {
        "duration": 45,
        "start_time": "2022-06-09T14:28:21.435Z"
      },
      {
        "duration": 17,
        "start_time": "2022-06-09T14:28:21.482Z"
      },
      {
        "duration": 267,
        "start_time": "2022-06-09T14:28:21.501Z"
      },
      {
        "duration": 17,
        "start_time": "2022-06-09T14:28:21.770Z"
      },
      {
        "duration": 88,
        "start_time": "2022-06-09T14:28:21.789Z"
      },
      {
        "duration": 30,
        "start_time": "2022-06-09T14:28:21.879Z"
      },
      {
        "duration": 24,
        "start_time": "2022-06-09T14:28:21.911Z"
      },
      {
        "duration": 267,
        "start_time": "2022-06-09T14:28:21.937Z"
      },
      {
        "duration": 17,
        "start_time": "2022-06-09T14:28:22.205Z"
      },
      {
        "duration": 77,
        "start_time": "2022-06-09T14:28:22.224Z"
      },
      {
        "duration": 28,
        "start_time": "2022-06-09T14:28:22.302Z"
      },
      {
        "duration": 8,
        "start_time": "2022-06-09T14:28:22.332Z"
      },
      {
        "duration": 22,
        "start_time": "2022-06-09T14:28:22.342Z"
      },
      {
        "duration": 35,
        "start_time": "2022-06-09T14:28:22.367Z"
      },
      {
        "duration": 29,
        "start_time": "2022-06-09T14:28:22.404Z"
      },
      {
        "duration": 56,
        "start_time": "2022-06-09T14:28:22.437Z"
      },
      {
        "duration": 55,
        "start_time": "2022-06-09T14:28:22.495Z"
      },
      {
        "duration": 18,
        "start_time": "2022-06-09T14:28:22.559Z"
      },
      {
        "duration": 103,
        "start_time": "2022-06-09T14:28:22.579Z"
      },
      {
        "duration": 27,
        "start_time": "2022-06-09T14:28:22.684Z"
      },
      {
        "duration": 11,
        "start_time": "2022-06-09T14:28:22.713Z"
      },
      {
        "duration": 101,
        "start_time": "2022-06-09T14:28:22.725Z"
      },
      {
        "duration": 44,
        "start_time": "2022-06-09T14:28:22.828Z"
      },
      {
        "duration": 21,
        "start_time": "2022-06-09T14:28:22.875Z"
      },
      {
        "duration": 10,
        "start_time": "2022-06-09T14:28:22.898Z"
      },
      {
        "duration": 8,
        "start_time": "2022-06-09T14:28:22.910Z"
      },
      {
        "duration": 10,
        "start_time": "2022-06-09T14:28:22.920Z"
      },
      {
        "duration": 15,
        "start_time": "2022-06-09T14:28:22.963Z"
      },
      {
        "duration": 42,
        "start_time": "2022-06-09T14:28:22.980Z"
      },
      {
        "duration": 10,
        "start_time": "2022-06-09T14:28:23.024Z"
      },
      {
        "duration": 72,
        "start_time": "2022-06-09T14:28:23.036Z"
      },
      {
        "duration": 86,
        "start_time": "2022-06-09T14:28:23.110Z"
      },
      {
        "duration": 101,
        "start_time": "2022-06-09T14:28:23.197Z"
      },
      {
        "duration": 43,
        "start_time": "2022-06-09T14:28:23.300Z"
      },
      {
        "duration": 28,
        "start_time": "2022-06-09T14:28:23.345Z"
      },
      {
        "duration": 165,
        "start_time": "2022-06-09T14:28:23.376Z"
      },
      {
        "duration": 177,
        "start_time": "2022-06-09T14:28:23.543Z"
      },
      {
        "duration": 11,
        "start_time": "2022-06-09T14:28:23.721Z"
      },
      {
        "duration": 80,
        "start_time": "2022-06-09T14:28:23.734Z"
      },
      {
        "duration": 15,
        "start_time": "2022-06-09T14:28:23.816Z"
      },
      {
        "duration": 146,
        "start_time": "2022-06-09T14:28:23.833Z"
      },
      {
        "duration": 3,
        "start_time": "2022-06-09T14:28:23.982Z"
      },
      {
        "duration": 10,
        "start_time": "2022-06-09T14:28:23.986Z"
      },
      {
        "duration": 162874,
        "start_time": "2022-06-09T14:28:23.997Z"
      },
      {
        "duration": 525,
        "start_time": "2022-06-09T14:31:06.873Z"
      },
      {
        "duration": 11,
        "start_time": "2022-06-09T14:31:07.400Z"
      },
      {
        "duration": 7,
        "start_time": "2022-06-09T14:31:07.413Z"
      },
      {
        "duration": 103064,
        "start_time": "2022-06-09T14:31:07.422Z"
      },
      {
        "duration": 419,
        "start_time": "2022-06-09T14:32:50.559Z"
      },
      {
        "duration": 98298,
        "start_time": "2022-06-09T14:32:50.985Z"
      },
      {
        "duration": 276,
        "start_time": "2022-06-09T14:34:29.286Z"
      },
      {
        "duration": 8,
        "start_time": "2022-06-09T14:34:29.564Z"
      },
      {
        "duration": 125,
        "start_time": "2022-06-09T14:34:29.575Z"
      },
      {
        "duration": 19,
        "start_time": "2022-06-09T14:34:29.702Z"
      },
      {
        "duration": 551,
        "start_time": "2022-06-09T14:34:29.723Z"
      },
      {
        "duration": 36,
        "start_time": "2022-06-09T18:16:26.102Z"
      },
      {
        "duration": 39,
        "start_time": "2022-06-09T18:16:28.676Z"
      },
      {
        "duration": 1224,
        "start_time": "2022-06-09T18:16:36.406Z"
      },
      {
        "duration": 3,
        "start_time": "2022-06-09T18:16:37.787Z"
      },
      {
        "duration": 1319,
        "start_time": "2022-06-09T18:16:38.316Z"
      },
      {
        "duration": 23,
        "start_time": "2022-06-09T18:16:39.637Z"
      },
      {
        "duration": 161,
        "start_time": "2022-06-09T18:16:42.621Z"
      },
      {
        "duration": 3,
        "start_time": "2022-06-09T18:16:43.947Z"
      },
      {
        "duration": 588,
        "start_time": "2022-06-09T18:16:45.347Z"
      },
      {
        "duration": 20,
        "start_time": "2022-06-09T18:16:47.771Z"
      },
      {
        "duration": 38,
        "start_time": "2022-06-09T18:16:49.171Z"
      },
      {
        "duration": 70,
        "start_time": "2022-06-09T18:16:50.177Z"
      },
      {
        "duration": 97,
        "start_time": "2022-06-09T18:16:51.515Z"
      },
      {
        "duration": 40,
        "start_time": "2022-06-09T18:16:53.268Z"
      },
      {
        "duration": 36,
        "start_time": "2022-06-09T18:16:54.715Z"
      },
      {
        "duration": 20,
        "start_time": "2022-06-09T18:16:55.841Z"
      },
      {
        "duration": 289,
        "start_time": "2022-06-09T18:16:57.242Z"
      },
      {
        "duration": 15,
        "start_time": "2022-06-09T18:16:58.921Z"
      },
      {
        "duration": 64,
        "start_time": "2022-06-09T18:16:59.917Z"
      },
      {
        "duration": 31,
        "start_time": "2022-06-09T18:17:00.801Z"
      },
      {
        "duration": 23,
        "start_time": "2022-06-09T18:17:02.421Z"
      },
      {
        "duration": 312,
        "start_time": "2022-06-09T18:17:03.981Z"
      },
      {
        "duration": 17,
        "start_time": "2022-06-09T18:17:05.897Z"
      },
      {
        "duration": 57,
        "start_time": "2022-06-09T18:17:07.617Z"
      },
      {
        "duration": 27,
        "start_time": "2022-06-09T18:17:08.389Z"
      },
      {
        "duration": 7,
        "start_time": "2022-06-09T18:17:09.705Z"
      },
      {
        "duration": 9,
        "start_time": "2022-06-09T18:17:10.977Z"
      },
      {
        "duration": 27,
        "start_time": "2022-06-09T18:17:12.349Z"
      },
      {
        "duration": 30,
        "start_time": "2022-06-09T18:17:13.777Z"
      },
      {
        "duration": 26,
        "start_time": "2022-06-09T18:17:15.386Z"
      },
      {
        "duration": 74,
        "start_time": "2022-06-09T18:17:16.781Z"
      },
      {
        "duration": 14,
        "start_time": "2022-06-09T18:17:18.189Z"
      },
      {
        "duration": 11,
        "start_time": "2022-06-09T18:17:19.578Z"
      },
      {
        "duration": 27,
        "start_time": "2022-06-09T18:17:20.946Z"
      },
      {
        "duration": 10,
        "start_time": "2022-06-09T18:17:21.875Z"
      },
      {
        "duration": 80,
        "start_time": "2022-06-09T18:17:22.995Z"
      },
      {
        "duration": 30,
        "start_time": "2022-06-09T18:17:24.105Z"
      },
      {
        "duration": 86,
        "start_time": "2022-06-09T18:17:29.349Z"
      },
      {
        "duration": 22,
        "start_time": "2022-06-09T18:17:32.945Z"
      },
      {
        "duration": 12,
        "start_time": "2022-06-09T18:17:34.193Z"
      },
      {
        "duration": 9,
        "start_time": "2022-06-09T18:17:36.995Z"
      },
      {
        "duration": 9,
        "start_time": "2022-06-09T18:17:37.593Z"
      },
      {
        "duration": 11,
        "start_time": "2022-06-09T18:17:38.201Z"
      },
      {
        "duration": 41,
        "start_time": "2022-06-09T18:17:38.938Z"
      },
      {
        "duration": 9,
        "start_time": "2022-06-09T18:17:41.426Z"
      },
      {
        "duration": 51,
        "start_time": "2022-06-09T18:17:42.309Z"
      },
      {
        "duration": 87,
        "start_time": "2022-06-09T18:17:42.973Z"
      },
      {
        "duration": 61,
        "start_time": "2022-06-09T18:17:43.836Z"
      },
      {
        "duration": 46,
        "start_time": "2022-06-09T18:17:49.345Z"
      },
      {
        "duration": 14,
        "start_time": "2022-06-09T18:18:09.379Z"
      },
      {
        "duration": 128,
        "start_time": "2022-06-09T18:19:50.515Z"
      },
      {
        "duration": 163,
        "start_time": "2022-06-09T18:25:36.518Z"
      },
      {
        "duration": 171,
        "start_time": "2022-06-09T18:25:51.637Z"
      },
      {
        "duration": 144,
        "start_time": "2022-06-09T18:26:14.801Z"
      },
      {
        "duration": 51,
        "start_time": "2022-06-09T18:27:41.445Z"
      },
      {
        "duration": 159,
        "start_time": "2022-06-09T18:29:01.049Z"
      },
      {
        "duration": 160,
        "start_time": "2022-06-09T18:29:12.693Z"
      },
      {
        "duration": 128,
        "start_time": "2022-06-09T18:33:23.147Z"
      },
      {
        "duration": 10,
        "start_time": "2022-06-09T18:49:45.943Z"
      },
      {
        "duration": 1156,
        "start_time": "2022-06-09T18:50:03.041Z"
      },
      {
        "duration": 2,
        "start_time": "2022-06-09T18:50:04.199Z"
      },
      {
        "duration": 842,
        "start_time": "2022-06-09T18:50:04.203Z"
      },
      {
        "duration": 27,
        "start_time": "2022-06-09T18:50:05.047Z"
      },
      {
        "duration": 157,
        "start_time": "2022-06-09T18:50:05.077Z"
      },
      {
        "duration": 4,
        "start_time": "2022-06-09T18:50:05.236Z"
      },
      {
        "duration": 518,
        "start_time": "2022-06-09T18:50:05.243Z"
      },
      {
        "duration": 23,
        "start_time": "2022-06-09T18:50:05.763Z"
      },
      {
        "duration": 26,
        "start_time": "2022-06-09T18:50:05.788Z"
      },
      {
        "duration": 85,
        "start_time": "2022-06-09T18:50:05.816Z"
      },
      {
        "duration": 182,
        "start_time": "2022-06-09T18:50:05.903Z"
      },
      {
        "duration": 102,
        "start_time": "2022-06-09T18:50:06.087Z"
      },
      {
        "duration": 118,
        "start_time": "2022-06-09T18:50:06.191Z"
      },
      {
        "duration": 64,
        "start_time": "2022-06-09T18:50:06.310Z"
      },
      {
        "duration": 31,
        "start_time": "2022-06-09T18:50:06.376Z"
      },
      {
        "duration": 21,
        "start_time": "2022-06-09T18:50:06.408Z"
      },
      {
        "duration": 308,
        "start_time": "2022-06-09T18:50:06.431Z"
      },
      {
        "duration": 27,
        "start_time": "2022-06-09T18:50:06.741Z"
      },
      {
        "duration": 85,
        "start_time": "2022-06-09T18:50:06.769Z"
      },
      {
        "duration": 40,
        "start_time": "2022-06-09T18:50:06.855Z"
      },
      {
        "duration": 26,
        "start_time": "2022-06-09T18:50:06.897Z"
      },
      {
        "duration": 374,
        "start_time": "2022-06-09T18:50:06.924Z"
      },
      {
        "duration": 25,
        "start_time": "2022-06-09T18:50:07.300Z"
      },
      {
        "duration": 114,
        "start_time": "2022-06-09T18:50:07.326Z"
      },
      {
        "duration": 205,
        "start_time": "2022-06-09T18:50:07.442Z"
      },
      {
        "duration": 74,
        "start_time": "2022-06-09T18:50:07.649Z"
      },
      {
        "duration": 56,
        "start_time": "2022-06-09T18:50:07.726Z"
      },
      {
        "duration": 19,
        "start_time": "2022-06-09T18:50:07.788Z"
      },
      {
        "duration": 54,
        "start_time": "2022-06-09T18:50:07.810Z"
      },
      {
        "duration": 49,
        "start_time": "2022-06-09T18:50:07.866Z"
      },
      {
        "duration": 38,
        "start_time": "2022-06-09T18:50:07.917Z"
      },
      {
        "duration": 49,
        "start_time": "2022-06-09T18:50:07.956Z"
      },
      {
        "duration": 89,
        "start_time": "2022-06-09T18:50:08.007Z"
      },
      {
        "duration": 15,
        "start_time": "2022-06-09T18:50:08.097Z"
      },
      {
        "duration": 13,
        "start_time": "2022-06-09T18:50:08.114Z"
      },
      {
        "duration": 50,
        "start_time": "2022-06-09T18:50:08.129Z"
      },
      {
        "duration": 14,
        "start_time": "2022-06-09T18:50:08.181Z"
      },
      {
        "duration": 105,
        "start_time": "2022-06-09T18:50:08.197Z"
      },
      {
        "duration": 26,
        "start_time": "2022-06-09T18:50:08.304Z"
      },
      {
        "duration": 39,
        "start_time": "2022-06-09T18:50:08.331Z"
      },
      {
        "duration": 13,
        "start_time": "2022-06-09T18:50:08.373Z"
      },
      {
        "duration": 13,
        "start_time": "2022-06-09T18:50:08.388Z"
      },
      {
        "duration": 10,
        "start_time": "2022-06-09T18:50:08.403Z"
      },
      {
        "duration": 27,
        "start_time": "2022-06-09T18:50:08.414Z"
      },
      {
        "duration": 47,
        "start_time": "2022-06-09T18:50:08.442Z"
      },
      {
        "duration": 10,
        "start_time": "2022-06-09T18:50:08.491Z"
      },
      {
        "duration": 58,
        "start_time": "2022-06-09T18:50:08.503Z"
      },
      {
        "duration": 82,
        "start_time": "2022-06-09T18:50:08.563Z"
      },
      {
        "duration": 85,
        "start_time": "2022-06-09T18:50:08.647Z"
      },
      {
        "duration": 180,
        "start_time": "2022-06-09T18:50:08.734Z"
      },
      {
        "duration": 19,
        "start_time": "2022-06-09T18:50:08.916Z"
      },
      {
        "duration": 32,
        "start_time": "2022-06-09T18:50:08.937Z"
      },
      {
        "duration": 142,
        "start_time": "2022-06-09T18:50:08.970Z"
      },
      {
        "duration": 166,
        "start_time": "2022-06-09T18:50:09.113Z"
      },
      {
        "duration": 12,
        "start_time": "2022-06-09T18:50:09.280Z"
      },
      {
        "duration": 74,
        "start_time": "2022-06-09T18:50:09.294Z"
      },
      {
        "duration": 20,
        "start_time": "2022-06-09T18:50:09.370Z"
      },
      {
        "duration": 147,
        "start_time": "2022-06-09T18:50:09.392Z"
      },
      {
        "duration": 3,
        "start_time": "2022-06-09T18:50:09.541Z"
      },
      {
        "duration": 17,
        "start_time": "2022-06-09T18:50:09.558Z"
      },
      {
        "duration": 173857,
        "start_time": "2022-06-09T18:50:09.578Z"
      },
      {
        "duration": 450,
        "start_time": "2022-06-09T18:53:03.436Z"
      },
      {
        "duration": 9,
        "start_time": "2022-06-09T18:53:03.887Z"
      },
      {
        "duration": 4,
        "start_time": "2022-06-09T18:53:03.898Z"
      },
      {
        "duration": 127500,
        "start_time": "2022-06-09T18:53:03.904Z"
      },
      {
        "duration": 20,
        "start_time": "2022-06-09T18:55:11.406Z"
      },
      {
        "duration": 457,
        "start_time": "2022-06-09T18:55:11.428Z"
      },
      {
        "duration": 39076,
        "start_time": "2022-06-09T18:55:11.887Z"
      },
      {
        "duration": 134,
        "start_time": "2022-06-09T18:55:50.965Z"
      },
      {
        "duration": 59,
        "start_time": "2022-06-09T18:55:51.108Z"
      },
      {
        "duration": 45,
        "start_time": "2022-06-09T18:55:51.172Z"
      },
      {
        "duration": 6,
        "start_time": "2022-06-09T18:55:51.219Z"
      },
      {
        "duration": 613,
        "start_time": "2022-06-09T18:55:51.226Z"
      },
      {
        "duration": 1284,
        "start_time": "2022-06-09T19:10:09.160Z"
      },
      {
        "duration": 3,
        "start_time": "2022-06-09T19:10:10.447Z"
      },
      {
        "duration": 944,
        "start_time": "2022-06-09T19:10:10.452Z"
      },
      {
        "duration": 24,
        "start_time": "2022-06-09T19:10:11.399Z"
      },
      {
        "duration": 169,
        "start_time": "2022-06-09T19:10:11.425Z"
      },
      {
        "duration": 22,
        "start_time": "2022-06-09T19:10:11.597Z"
      },
      {
        "duration": 483,
        "start_time": "2022-06-09T19:10:11.621Z"
      },
      {
        "duration": 18,
        "start_time": "2022-06-09T19:10:12.106Z"
      },
      {
        "duration": 39,
        "start_time": "2022-06-09T19:10:12.126Z"
      },
      {
        "duration": 72,
        "start_time": "2022-06-09T19:10:12.168Z"
      },
      {
        "duration": 174,
        "start_time": "2022-06-09T19:10:12.242Z"
      },
      {
        "duration": 101,
        "start_time": "2022-06-09T19:10:12.417Z"
      },
      {
        "duration": 167,
        "start_time": "2022-06-09T19:10:12.521Z"
      },
      {
        "duration": 51,
        "start_time": "2022-06-09T19:10:12.692Z"
      },
      {
        "duration": 67,
        "start_time": "2022-06-09T19:10:12.745Z"
      },
      {
        "duration": 88,
        "start_time": "2022-06-09T19:10:12.815Z"
      },
      {
        "duration": 392,
        "start_time": "2022-06-09T19:10:12.908Z"
      },
      {
        "duration": 22,
        "start_time": "2022-06-09T19:10:13.301Z"
      },
      {
        "duration": 100,
        "start_time": "2022-06-09T19:10:13.324Z"
      },
      {
        "duration": 69,
        "start_time": "2022-06-09T19:10:13.426Z"
      },
      {
        "duration": 20,
        "start_time": "2022-06-09T19:10:13.497Z"
      },
      {
        "duration": 373,
        "start_time": "2022-06-09T19:10:13.519Z"
      },
      {
        "duration": 21,
        "start_time": "2022-06-09T19:10:13.894Z"
      },
      {
        "duration": 102,
        "start_time": "2022-06-09T19:10:13.916Z"
      },
      {
        "duration": 177,
        "start_time": "2022-06-09T19:10:14.020Z"
      },
      {
        "duration": 48,
        "start_time": "2022-06-09T19:10:14.199Z"
      },
      {
        "duration": 53,
        "start_time": "2022-06-09T19:10:14.249Z"
      },
      {
        "duration": 6,
        "start_time": "2022-06-09T19:10:14.306Z"
      },
      {
        "duration": 11,
        "start_time": "2022-06-09T19:10:14.314Z"
      },
      {
        "duration": 69,
        "start_time": "2022-06-09T19:10:14.326Z"
      },
      {
        "duration": 56,
        "start_time": "2022-06-09T19:10:14.397Z"
      },
      {
        "duration": 53,
        "start_time": "2022-06-09T19:10:14.455Z"
      },
      {
        "duration": 68,
        "start_time": "2022-06-09T19:10:14.510Z"
      },
      {
        "duration": 22,
        "start_time": "2022-06-09T19:10:14.582Z"
      },
      {
        "duration": 21,
        "start_time": "2022-06-09T19:10:14.605Z"
      },
      {
        "duration": 68,
        "start_time": "2022-06-09T19:10:14.627Z"
      },
      {
        "duration": 10,
        "start_time": "2022-06-09T19:10:14.696Z"
      },
      {
        "duration": 78,
        "start_time": "2022-06-09T19:10:14.708Z"
      },
      {
        "duration": 48,
        "start_time": "2022-06-09T19:10:14.787Z"
      },
      {
        "duration": 19,
        "start_time": "2022-06-09T19:10:14.837Z"
      },
      {
        "duration": 29,
        "start_time": "2022-06-09T19:10:14.858Z"
      },
      {
        "duration": 20,
        "start_time": "2022-06-09T19:10:14.889Z"
      },
      {
        "duration": 21,
        "start_time": "2022-06-09T19:10:14.910Z"
      },
      {
        "duration": 15,
        "start_time": "2022-06-09T19:10:14.933Z"
      },
      {
        "duration": 53,
        "start_time": "2022-06-09T19:10:14.950Z"
      },
      {
        "duration": 48,
        "start_time": "2022-06-09T19:10:15.005Z"
      },
      {
        "duration": 52,
        "start_time": "2022-06-09T19:10:15.054Z"
      },
      {
        "duration": 100,
        "start_time": "2022-06-09T19:10:15.108Z"
      },
      {
        "duration": 93,
        "start_time": "2022-06-09T19:10:15.210Z"
      },
      {
        "duration": 162,
        "start_time": "2022-06-09T19:10:15.305Z"
      },
      {
        "duration": 29,
        "start_time": "2022-06-09T19:10:15.472Z"
      },
      {
        "duration": 30,
        "start_time": "2022-06-09T19:10:15.503Z"
      },
      {
        "duration": 174,
        "start_time": "2022-06-09T19:10:15.535Z"
      },
      {
        "duration": 186,
        "start_time": "2022-06-09T19:10:15.711Z"
      },
      {
        "duration": 12,
        "start_time": "2022-06-09T19:10:15.899Z"
      },
      {
        "duration": 116,
        "start_time": "2022-06-09T19:10:15.913Z"
      },
      {
        "duration": 20,
        "start_time": "2022-06-09T19:10:16.031Z"
      },
      {
        "duration": 163,
        "start_time": "2022-06-09T19:10:16.053Z"
      },
      {
        "duration": 2,
        "start_time": "2022-06-09T19:10:16.218Z"
      },
      {
        "duration": 12,
        "start_time": "2022-06-09T19:10:16.222Z"
      },
      {
        "duration": 179948,
        "start_time": "2022-06-09T19:10:16.235Z"
      },
      {
        "duration": 477,
        "start_time": "2022-06-09T19:13:16.185Z"
      },
      {
        "duration": 12,
        "start_time": "2022-06-09T19:13:16.666Z"
      },
      {
        "duration": 9,
        "start_time": "2022-06-09T19:13:16.681Z"
      },
      {
        "duration": 155273,
        "start_time": "2022-06-09T19:13:16.692Z"
      },
      {
        "duration": 28,
        "start_time": "2022-06-09T19:15:51.967Z"
      },
      {
        "duration": 409,
        "start_time": "2022-06-09T19:15:51.997Z"
      },
      {
        "duration": 73679,
        "start_time": "2022-06-09T19:15:52.409Z"
      },
      {
        "duration": 91,
        "start_time": "2022-06-09T19:17:06.090Z"
      },
      {
        "duration": 12,
        "start_time": "2022-06-09T19:17:06.258Z"
      },
      {
        "duration": 29,
        "start_time": "2022-06-09T19:17:06.272Z"
      },
      {
        "duration": 6,
        "start_time": "2022-06-09T19:17:06.303Z"
      },
      {
        "duration": 518,
        "start_time": "2022-06-09T19:17:06.310Z"
      },
      {
        "duration": 127,
        "start_time": "2022-06-09T19:17:06.832Z"
      },
      {
        "duration": 1173,
        "start_time": "2022-06-09T19:17:37.799Z"
      },
      {
        "duration": 3,
        "start_time": "2022-06-09T19:17:38.974Z"
      },
      {
        "duration": 958,
        "start_time": "2022-06-09T19:17:38.979Z"
      },
      {
        "duration": 30,
        "start_time": "2022-06-09T19:17:39.940Z"
      },
      {
        "duration": 175,
        "start_time": "2022-06-09T19:17:39.972Z"
      },
      {
        "duration": 14,
        "start_time": "2022-06-09T19:17:40.149Z"
      },
      {
        "duration": 456,
        "start_time": "2022-06-09T19:17:40.172Z"
      },
      {
        "duration": 31,
        "start_time": "2022-06-09T19:17:40.630Z"
      },
      {
        "duration": 21,
        "start_time": "2022-06-09T19:17:40.663Z"
      },
      {
        "duration": 89,
        "start_time": "2022-06-09T19:17:40.687Z"
      },
      {
        "duration": 219,
        "start_time": "2022-06-09T19:17:40.778Z"
      },
      {
        "duration": 104,
        "start_time": "2022-06-09T19:17:41.000Z"
      },
      {
        "duration": 129,
        "start_time": "2022-06-09T19:17:41.106Z"
      },
      {
        "duration": 67,
        "start_time": "2022-06-09T19:17:41.237Z"
      },
      {
        "duration": 73,
        "start_time": "2022-06-09T19:17:41.306Z"
      },
      {
        "duration": 17,
        "start_time": "2022-06-09T19:17:41.381Z"
      },
      {
        "duration": 293,
        "start_time": "2022-06-09T19:17:41.400Z"
      },
      {
        "duration": 17,
        "start_time": "2022-06-09T19:17:41.695Z"
      },
      {
        "duration": 90,
        "start_time": "2022-06-09T19:17:41.714Z"
      },
      {
        "duration": 39,
        "start_time": "2022-06-09T19:17:41.806Z"
      },
      {
        "duration": 30,
        "start_time": "2022-06-09T19:17:41.847Z"
      },
      {
        "duration": 386,
        "start_time": "2022-06-09T19:17:41.880Z"
      },
      {
        "duration": 22,
        "start_time": "2022-06-09T19:17:42.271Z"
      },
      {
        "duration": 95,
        "start_time": "2022-06-09T19:17:42.295Z"
      },
      {
        "duration": 178,
        "start_time": "2022-06-09T19:17:42.393Z"
      },
      {
        "duration": 54,
        "start_time": "2022-06-09T19:17:42.576Z"
      },
      {
        "duration": 46,
        "start_time": "2022-06-09T19:17:42.631Z"
      },
      {
        "duration": 11,
        "start_time": "2022-06-09T19:17:42.681Z"
      },
      {
        "duration": 9,
        "start_time": "2022-06-09T19:17:42.694Z"
      },
      {
        "duration": 65,
        "start_time": "2022-06-09T19:17:42.705Z"
      },
      {
        "duration": 85,
        "start_time": "2022-06-09T19:17:42.772Z"
      },
      {
        "duration": 79,
        "start_time": "2022-06-09T19:17:42.858Z"
      },
      {
        "duration": 76,
        "start_time": "2022-06-09T19:17:42.939Z"
      },
      {
        "duration": 16,
        "start_time": "2022-06-09T19:17:43.017Z"
      },
      {
        "duration": 45,
        "start_time": "2022-06-09T19:17:43.035Z"
      },
      {
        "duration": 51,
        "start_time": "2022-06-09T19:17:43.082Z"
      },
      {
        "duration": 16,
        "start_time": "2022-06-09T19:17:43.135Z"
      },
      {
        "duration": 80,
        "start_time": "2022-06-09T19:17:43.153Z"
      },
      {
        "duration": 57,
        "start_time": "2022-06-09T19:17:43.235Z"
      },
      {
        "duration": 24,
        "start_time": "2022-06-09T19:17:43.294Z"
      },
      {
        "duration": 15,
        "start_time": "2022-06-09T19:17:43.320Z"
      },
      {
        "duration": 31,
        "start_time": "2022-06-09T19:17:43.337Z"
      },
      {
        "duration": 25,
        "start_time": "2022-06-09T19:17:43.371Z"
      },
      {
        "duration": 11,
        "start_time": "2022-06-09T19:17:43.398Z"
      },
      {
        "duration": 44,
        "start_time": "2022-06-09T19:17:43.411Z"
      },
      {
        "duration": 14,
        "start_time": "2022-06-09T19:17:43.457Z"
      },
      {
        "duration": 78,
        "start_time": "2022-06-09T19:17:43.472Z"
      },
      {
        "duration": 99,
        "start_time": "2022-06-09T19:17:43.552Z"
      },
      {
        "duration": 88,
        "start_time": "2022-06-09T19:17:43.653Z"
      },
      {
        "duration": 184,
        "start_time": "2022-06-09T19:17:43.742Z"
      },
      {
        "duration": 20,
        "start_time": "2022-06-09T19:17:43.928Z"
      },
      {
        "duration": 28,
        "start_time": "2022-06-09T19:17:43.961Z"
      },
      {
        "duration": 152,
        "start_time": "2022-06-09T19:17:43.991Z"
      },
      {
        "duration": 231,
        "start_time": "2022-06-09T19:17:44.145Z"
      },
      {
        "duration": 13,
        "start_time": "2022-06-09T19:17:44.378Z"
      },
      {
        "duration": 88,
        "start_time": "2022-06-09T19:17:44.393Z"
      },
      {
        "duration": 27,
        "start_time": "2022-06-09T19:17:44.484Z"
      },
      {
        "duration": 155,
        "start_time": "2022-06-09T19:17:44.513Z"
      },
      {
        "duration": 2,
        "start_time": "2022-06-09T19:17:44.671Z"
      },
      {
        "duration": 14,
        "start_time": "2022-06-09T19:17:44.675Z"
      },
      {
        "duration": 175005,
        "start_time": "2022-06-09T19:17:44.691Z"
      },
      {
        "duration": 428,
        "start_time": "2022-06-09T19:20:39.698Z"
      },
      {
        "duration": 9,
        "start_time": "2022-06-09T19:20:40.128Z"
      },
      {
        "duration": 10,
        "start_time": "2022-06-09T19:20:40.139Z"
      },
      {
        "duration": 146909,
        "start_time": "2022-06-09T19:20:40.159Z"
      },
      {
        "duration": 19,
        "start_time": "2022-06-09T19:23:07.070Z"
      },
      {
        "duration": 472,
        "start_time": "2022-06-09T19:23:07.090Z"
      },
      {
        "duration": 35904,
        "start_time": "2022-06-09T19:23:07.567Z"
      },
      {
        "duration": 94,
        "start_time": "2022-06-09T19:23:43.473Z"
      },
      {
        "duration": 89,
        "start_time": "2022-06-09T19:23:43.577Z"
      },
      {
        "duration": 14,
        "start_time": "2022-06-09T19:23:43.669Z"
      },
      {
        "duration": 11,
        "start_time": "2022-06-09T19:23:43.685Z"
      },
      {
        "duration": 510,
        "start_time": "2022-06-09T19:23:43.698Z"
      },
      {
        "duration": 1179,
        "start_time": "2022-06-13T05:15:27.581Z"
      },
      {
        "duration": 4,
        "start_time": "2022-06-13T05:15:28.762Z"
      },
      {
        "duration": 1271,
        "start_time": "2022-06-13T05:15:28.768Z"
      },
      {
        "duration": 19,
        "start_time": "2022-06-13T05:15:30.041Z"
      },
      {
        "duration": 169,
        "start_time": "2022-06-13T05:15:30.064Z"
      },
      {
        "duration": 3,
        "start_time": "2022-06-13T05:15:30.235Z"
      },
      {
        "duration": 689,
        "start_time": "2022-06-13T05:15:30.240Z"
      },
      {
        "duration": 17,
        "start_time": "2022-06-13T05:15:30.931Z"
      },
      {
        "duration": 53,
        "start_time": "2022-06-13T05:15:30.950Z"
      },
      {
        "duration": 110,
        "start_time": "2022-06-13T05:15:31.005Z"
      },
      {
        "duration": 200,
        "start_time": "2022-06-13T05:15:31.118Z"
      },
      {
        "duration": 96,
        "start_time": "2022-06-13T05:15:31.319Z"
      },
      {
        "duration": 106,
        "start_time": "2022-06-13T05:15:31.417Z"
      },
      {
        "duration": 61,
        "start_time": "2022-06-13T05:15:31.526Z"
      },
      {
        "duration": 31,
        "start_time": "2022-06-13T05:15:31.589Z"
      },
      {
        "duration": 36,
        "start_time": "2022-06-13T05:15:31.622Z"
      },
      {
        "duration": 273,
        "start_time": "2022-06-13T05:15:31.659Z"
      },
      {
        "duration": 17,
        "start_time": "2022-06-13T05:15:31.934Z"
      },
      {
        "duration": 78,
        "start_time": "2022-06-13T05:15:31.965Z"
      },
      {
        "duration": 63,
        "start_time": "2022-06-13T05:15:32.045Z"
      },
      {
        "duration": 20,
        "start_time": "2022-06-13T05:15:32.110Z"
      },
      {
        "duration": 380,
        "start_time": "2022-06-13T05:15:32.132Z"
      },
      {
        "duration": 23,
        "start_time": "2022-06-13T05:15:32.514Z"
      },
      {
        "duration": 111,
        "start_time": "2022-06-13T05:15:32.539Z"
      },
      {
        "duration": 190,
        "start_time": "2022-06-13T05:15:32.651Z"
      },
      {
        "duration": 66,
        "start_time": "2022-06-13T05:15:32.842Z"
      },
      {
        "duration": 29,
        "start_time": "2022-06-13T05:15:32.910Z"
      },
      {
        "duration": 26,
        "start_time": "2022-06-13T05:15:32.940Z"
      },
      {
        "duration": 11,
        "start_time": "2022-06-13T05:15:32.969Z"
      },
      {
        "duration": 28,
        "start_time": "2022-06-13T05:15:32.982Z"
      },
      {
        "duration": 32,
        "start_time": "2022-06-13T05:15:33.012Z"
      },
      {
        "duration": 26,
        "start_time": "2022-06-13T05:15:33.065Z"
      },
      {
        "duration": 59,
        "start_time": "2022-06-13T05:15:33.093Z"
      },
      {
        "duration": 18,
        "start_time": "2022-06-13T05:15:33.165Z"
      },
      {
        "duration": 15,
        "start_time": "2022-06-13T05:15:33.186Z"
      },
      {
        "duration": 24,
        "start_time": "2022-06-13T05:15:33.202Z"
      },
      {
        "duration": 37,
        "start_time": "2022-06-13T05:15:33.228Z"
      },
      {
        "duration": 59,
        "start_time": "2022-06-13T05:15:33.267Z"
      },
      {
        "duration": 48,
        "start_time": "2022-06-13T05:15:33.328Z"
      },
      {
        "duration": 17,
        "start_time": "2022-06-13T05:15:33.377Z"
      },
      {
        "duration": 12,
        "start_time": "2022-06-13T05:15:33.399Z"
      },
      {
        "duration": 9,
        "start_time": "2022-06-13T05:15:33.413Z"
      },
      {
        "duration": 8,
        "start_time": "2022-06-13T05:15:33.424Z"
      },
      {
        "duration": 16,
        "start_time": "2022-06-13T05:15:33.466Z"
      },
      {
        "duration": 41,
        "start_time": "2022-06-13T05:15:33.484Z"
      },
      {
        "duration": 10,
        "start_time": "2022-06-13T05:15:33.527Z"
      },
      {
        "duration": 65,
        "start_time": "2022-06-13T05:15:33.539Z"
      },
      {
        "duration": 105,
        "start_time": "2022-06-13T05:15:33.607Z"
      },
      {
        "duration": 78,
        "start_time": "2022-06-13T05:15:33.714Z"
      },
      {
        "duration": 145,
        "start_time": "2022-06-13T05:15:33.794Z"
      },
      {
        "duration": 25,
        "start_time": "2022-06-13T05:15:33.941Z"
      },
      {
        "duration": 18,
        "start_time": "2022-06-13T05:15:33.967Z"
      },
      {
        "duration": 148,
        "start_time": "2022-06-13T05:15:33.986Z"
      },
      {
        "duration": 158,
        "start_time": "2022-06-13T05:15:34.136Z"
      },
      {
        "duration": 13,
        "start_time": "2022-06-13T05:15:34.297Z"
      },
      {
        "duration": 75,
        "start_time": "2022-06-13T05:15:34.312Z"
      },
      {
        "duration": 15,
        "start_time": "2022-06-13T05:15:34.388Z"
      },
      {
        "duration": 227,
        "start_time": "2022-06-13T05:15:34.406Z"
      },
      {
        "duration": 63,
        "start_time": "2022-06-13T05:15:34.635Z"
      },
      {
        "duration": 3,
        "start_time": "2022-06-13T05:15:34.700Z"
      },
      {
        "duration": 8,
        "start_time": "2022-06-13T05:15:34.705Z"
      },
      {
        "duration": 179314,
        "start_time": "2022-06-13T05:15:34.716Z"
      },
      {
        "duration": 430,
        "start_time": "2022-06-13T05:18:34.032Z"
      },
      {
        "duration": 9,
        "start_time": "2022-06-13T05:18:34.465Z"
      },
      {
        "duration": 13,
        "start_time": "2022-06-13T05:18:34.476Z"
      },
      {
        "duration": 41981,
        "start_time": "2022-06-13T05:18:34.491Z"
      },
      {
        "duration": 21,
        "start_time": "2022-06-13T05:19:16.474Z"
      },
      {
        "duration": 485,
        "start_time": "2022-06-13T05:19:16.497Z"
      },
      {
        "duration": 26582,
        "start_time": "2022-06-13T05:19:16.983Z"
      },
      {
        "duration": 114,
        "start_time": "2022-06-13T05:19:43.570Z"
      },
      {
        "duration": 196,
        "start_time": "2022-06-13T05:19:43.686Z"
      },
      {
        "duration": 7,
        "start_time": "2022-06-13T05:19:43.884Z"
      },
      {
        "duration": 11,
        "start_time": "2022-06-13T05:19:43.893Z"
      },
      {
        "duration": 487,
        "start_time": "2022-06-13T05:19:43.905Z"
      },
      {
        "duration": 1472,
        "start_time": "2022-06-13T10:06:57.289Z"
      }
    ],
    "kernelspec": {
      "display_name": "Python 3 (ipykernel)",
      "language": "python",
      "name": "python3"
    },
    "language_info": {
      "codemirror_mode": {
        "name": "ipython",
        "version": 3
      },
      "file_extension": ".py",
      "mimetype": "text/x-python",
      "name": "python",
      "nbconvert_exporter": "python",
      "pygments_lexer": "ipython3",
      "version": "3.9.5"
    },
    "toc": {
      "base_numbering": 1,
      "nav_menu": {},
      "number_sections": true,
      "sideBar": true,
      "skip_h1_title": true,
      "title_cell": "Table of Contents",
      "title_sidebar": "Contents",
      "toc_cell": false,
      "toc_position": {},
      "toc_section_display": true,
      "toc_window_display": false
    },
    "colab": {
      "name": "11_EN_Numerical_methods.ipynb",
      "provenance": [],
      "include_colab_link": true
    }
  },
  "nbformat": 4,
  "nbformat_minor": 0
}