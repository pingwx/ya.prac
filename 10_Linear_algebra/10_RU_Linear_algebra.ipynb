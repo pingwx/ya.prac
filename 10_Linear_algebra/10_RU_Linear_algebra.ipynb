{
  "cells": [
    {
      "cell_type": "markdown",
      "metadata": {
        "id": "view-in-github",
        "colab_type": "text"
      },
      "source": [
        "<a href=\"https://colab.research.google.com/github/pingwx/ya.prac/blob/main/10_Linear_algebra/10_RU_Linear_algebra.ipynb\" target=\"_parent\"><img src=\"https://colab.research.google.com/assets/colab-badge.svg\" alt=\"Open In Colab\"/></a>"
      ]
    },
    {
      "cell_type": "markdown",
      "metadata": {
        "id": "ljqEiPFqwtE5"
      },
      "source": [
        "# Защита персональных данных клиентов"
      ]
    },
    {
      "cell_type": "markdown",
      "metadata": {
        "id": "nN3frV6FwtE6"
      },
      "source": [
        "Заказчик - страховая компания \"Хоть потоп\" столкнулся с проблемой защиты данных своих клиентов. Он просит разработать метод преобразования данных, по которому невозможно было бы восстановить исходные данные клиентов. При этом качество модели, используемой заказчиком для предсказаний, не должно стать хуже. Известно, что заказчиком используется модель линейной регрессии.\n",
        "Необходимо обосновать корректность разработанного метода."
      ]
    },
    {
      "cell_type": "markdown",
      "metadata": {
        "id": "yzuhTSuzwtE6"
      },
      "source": [
        "## Загрузка данных"
      ]
    },
    {
      "cell_type": "code",
      "execution_count": 2,
      "metadata": {
        "id": "moxbtgBTwtE7"
      },
      "outputs": [],
      "source": [
        "import pandas as pd\n",
        "from sklearn.linear_model import LinearRegression\n",
        "from sklearn.model_selection import train_test_split\n",
        "from sklearn.metrics import r2_score\n",
        "import numpy as np"
      ]
    },
    {
      "cell_type": "code",
      "execution_count": 3,
      "metadata": {
        "id": "NN8guqShwtE8"
      },
      "outputs": [],
      "source": [
        "df = pd.read_csv('/content/insurance.csv')"
      ]
    },
    {
      "cell_type": "code",
      "execution_count": 4,
      "metadata": {
        "colab": {
          "base_uri": "https://localhost:8080/",
          "height": 206
        },
        "id": "gNOFHHp_wtE8",
        "outputId": "deeedc32-39f8-4163-f54f-23a421284566"
      },
      "outputs": [
        {
          "output_type": "execute_result",
          "data": {
            "text/plain": [
              "   Пол  Возраст  Зарплата  Члены семьи  Страховые выплаты\n",
              "0    1     41.0   49600.0            1                  0\n",
              "1    0     46.0   38000.0            1                  1\n",
              "2    0     29.0   21000.0            0                  0\n",
              "3    0     21.0   41700.0            2                  0\n",
              "4    1     28.0   26100.0            0                  0"
            ],
            "text/html": [
              "\n",
              "  <div id=\"df-d60948d1-f77a-4a4d-b78f-c5281151c55d\">\n",
              "    <div class=\"colab-df-container\">\n",
              "      <div>\n",
              "<style scoped>\n",
              "    .dataframe tbody tr th:only-of-type {\n",
              "        vertical-align: middle;\n",
              "    }\n",
              "\n",
              "    .dataframe tbody tr th {\n",
              "        vertical-align: top;\n",
              "    }\n",
              "\n",
              "    .dataframe thead th {\n",
              "        text-align: right;\n",
              "    }\n",
              "</style>\n",
              "<table border=\"1\" class=\"dataframe\">\n",
              "  <thead>\n",
              "    <tr style=\"text-align: right;\">\n",
              "      <th></th>\n",
              "      <th>Пол</th>\n",
              "      <th>Возраст</th>\n",
              "      <th>Зарплата</th>\n",
              "      <th>Члены семьи</th>\n",
              "      <th>Страховые выплаты</th>\n",
              "    </tr>\n",
              "  </thead>\n",
              "  <tbody>\n",
              "    <tr>\n",
              "      <th>0</th>\n",
              "      <td>1</td>\n",
              "      <td>41.0</td>\n",
              "      <td>49600.0</td>\n",
              "      <td>1</td>\n",
              "      <td>0</td>\n",
              "    </tr>\n",
              "    <tr>\n",
              "      <th>1</th>\n",
              "      <td>0</td>\n",
              "      <td>46.0</td>\n",
              "      <td>38000.0</td>\n",
              "      <td>1</td>\n",
              "      <td>1</td>\n",
              "    </tr>\n",
              "    <tr>\n",
              "      <th>2</th>\n",
              "      <td>0</td>\n",
              "      <td>29.0</td>\n",
              "      <td>21000.0</td>\n",
              "      <td>0</td>\n",
              "      <td>0</td>\n",
              "    </tr>\n",
              "    <tr>\n",
              "      <th>3</th>\n",
              "      <td>0</td>\n",
              "      <td>21.0</td>\n",
              "      <td>41700.0</td>\n",
              "      <td>2</td>\n",
              "      <td>0</td>\n",
              "    </tr>\n",
              "    <tr>\n",
              "      <th>4</th>\n",
              "      <td>1</td>\n",
              "      <td>28.0</td>\n",
              "      <td>26100.0</td>\n",
              "      <td>0</td>\n",
              "      <td>0</td>\n",
              "    </tr>\n",
              "  </tbody>\n",
              "</table>\n",
              "</div>\n",
              "      <button class=\"colab-df-convert\" onclick=\"convertToInteractive('df-d60948d1-f77a-4a4d-b78f-c5281151c55d')\"\n",
              "              title=\"Convert this dataframe to an interactive table.\"\n",
              "              style=\"display:none;\">\n",
              "        \n",
              "  <svg xmlns=\"http://www.w3.org/2000/svg\" height=\"24px\"viewBox=\"0 0 24 24\"\n",
              "       width=\"24px\">\n",
              "    <path d=\"M0 0h24v24H0V0z\" fill=\"none\"/>\n",
              "    <path d=\"M18.56 5.44l.94 2.06.94-2.06 2.06-.94-2.06-.94-.94-2.06-.94 2.06-2.06.94zm-11 1L8.5 8.5l.94-2.06 2.06-.94-2.06-.94L8.5 2.5l-.94 2.06-2.06.94zm10 10l.94 2.06.94-2.06 2.06-.94-2.06-.94-.94-2.06-.94 2.06-2.06.94z\"/><path d=\"M17.41 7.96l-1.37-1.37c-.4-.4-.92-.59-1.43-.59-.52 0-1.04.2-1.43.59L10.3 9.45l-7.72 7.72c-.78.78-.78 2.05 0 2.83L4 21.41c.39.39.9.59 1.41.59.51 0 1.02-.2 1.41-.59l7.78-7.78 2.81-2.81c.8-.78.8-2.07 0-2.86zM5.41 20L4 18.59l7.72-7.72 1.47 1.35L5.41 20z\"/>\n",
              "  </svg>\n",
              "      </button>\n",
              "      \n",
              "  <style>\n",
              "    .colab-df-container {\n",
              "      display:flex;\n",
              "      flex-wrap:wrap;\n",
              "      gap: 12px;\n",
              "    }\n",
              "\n",
              "    .colab-df-convert {\n",
              "      background-color: #E8F0FE;\n",
              "      border: none;\n",
              "      border-radius: 50%;\n",
              "      cursor: pointer;\n",
              "      display: none;\n",
              "      fill: #1967D2;\n",
              "      height: 32px;\n",
              "      padding: 0 0 0 0;\n",
              "      width: 32px;\n",
              "    }\n",
              "\n",
              "    .colab-df-convert:hover {\n",
              "      background-color: #E2EBFA;\n",
              "      box-shadow: 0px 1px 2px rgba(60, 64, 67, 0.3), 0px 1px 3px 1px rgba(60, 64, 67, 0.15);\n",
              "      fill: #174EA6;\n",
              "    }\n",
              "\n",
              "    [theme=dark] .colab-df-convert {\n",
              "      background-color: #3B4455;\n",
              "      fill: #D2E3FC;\n",
              "    }\n",
              "\n",
              "    [theme=dark] .colab-df-convert:hover {\n",
              "      background-color: #434B5C;\n",
              "      box-shadow: 0px 1px 3px 1px rgba(0, 0, 0, 0.15);\n",
              "      filter: drop-shadow(0px 1px 2px rgba(0, 0, 0, 0.3));\n",
              "      fill: #FFFFFF;\n",
              "    }\n",
              "  </style>\n",
              "\n",
              "      <script>\n",
              "        const buttonEl =\n",
              "          document.querySelector('#df-d60948d1-f77a-4a4d-b78f-c5281151c55d button.colab-df-convert');\n",
              "        buttonEl.style.display =\n",
              "          google.colab.kernel.accessAllowed ? 'block' : 'none';\n",
              "\n",
              "        async function convertToInteractive(key) {\n",
              "          const element = document.querySelector('#df-d60948d1-f77a-4a4d-b78f-c5281151c55d');\n",
              "          const dataTable =\n",
              "            await google.colab.kernel.invokeFunction('convertToInteractive',\n",
              "                                                     [key], {});\n",
              "          if (!dataTable) return;\n",
              "\n",
              "          const docLinkHtml = 'Like what you see? Visit the ' +\n",
              "            '<a target=\"_blank\" href=https://colab.research.google.com/notebooks/data_table.ipynb>data table notebook</a>'\n",
              "            + ' to learn more about interactive tables.';\n",
              "          element.innerHTML = '';\n",
              "          dataTable['output_type'] = 'display_data';\n",
              "          await google.colab.output.renderOutput(dataTable, element);\n",
              "          const docLink = document.createElement('div');\n",
              "          docLink.innerHTML = docLinkHtml;\n",
              "          element.appendChild(docLink);\n",
              "        }\n",
              "      </script>\n",
              "    </div>\n",
              "  </div>\n",
              "  "
            ]
          },
          "metadata": {},
          "execution_count": 4
        }
      ],
      "source": [
        "df.head()"
      ]
    },
    {
      "cell_type": "markdown",
      "metadata": {
        "id": "l8RxwR9XwtE9"
      },
      "source": [
        "Данные загрузили, посмотрели на первые строки таблицы."
      ]
    },
    {
      "cell_type": "code",
      "execution_count": 5,
      "metadata": {
        "colab": {
          "base_uri": "https://localhost:8080/"
        },
        "id": "8Iui4FdfwtE9",
        "outputId": "b0c98d46-789a-410a-d4a6-ab18f0efaa32"
      },
      "outputs": [
        {
          "output_type": "stream",
          "name": "stdout",
          "text": [
            "<class 'pandas.core.frame.DataFrame'>\n",
            "RangeIndex: 5000 entries, 0 to 4999\n",
            "Data columns (total 5 columns):\n",
            " #   Column             Non-Null Count  Dtype  \n",
            "---  ------             --------------  -----  \n",
            " 0   Пол                5000 non-null   int64  \n",
            " 1   Возраст            5000 non-null   float64\n",
            " 2   Зарплата           5000 non-null   float64\n",
            " 3   Члены семьи        5000 non-null   int64  \n",
            " 4   Страховые выплаты  5000 non-null   int64  \n",
            "dtypes: float64(2), int64(3)\n",
            "memory usage: 195.4 KB\n"
          ]
        }
      ],
      "source": [
        "df.info()"
      ]
    },
    {
      "cell_type": "markdown",
      "metadata": {
        "id": "0iOu7ppRwtE-"
      },
      "source": [
        "Посмотрели на типы столбцов, убедились что нет пропусков."
      ]
    },
    {
      "cell_type": "code",
      "execution_count": 6,
      "metadata": {
        "scrolled": true,
        "colab": {
          "base_uri": "https://localhost:8080/",
          "height": 300
        },
        "id": "lp5q_jdWwtE-",
        "outputId": "19988445-eb3f-4e76-a44d-b2140a591bbc"
      },
      "outputs": [
        {
          "output_type": "execute_result",
          "data": {
            "text/plain": [
              "               Пол      Возраст      Зарплата  Члены семьи  Страховые выплаты\n",
              "count  5000.000000  5000.000000   5000.000000  5000.000000        5000.000000\n",
              "mean      0.499000    30.952800  39916.360000     1.194200           0.148000\n",
              "std       0.500049     8.440807   9900.083569     1.091387           0.463183\n",
              "min       0.000000    18.000000   5300.000000     0.000000           0.000000\n",
              "25%       0.000000    24.000000  33300.000000     0.000000           0.000000\n",
              "50%       0.000000    30.000000  40200.000000     1.000000           0.000000\n",
              "75%       1.000000    37.000000  46600.000000     2.000000           0.000000\n",
              "max       1.000000    65.000000  79000.000000     6.000000           5.000000"
            ],
            "text/html": [
              "\n",
              "  <div id=\"df-586d5958-f22d-4ef4-a051-d562fdc1867b\">\n",
              "    <div class=\"colab-df-container\">\n",
              "      <div>\n",
              "<style scoped>\n",
              "    .dataframe tbody tr th:only-of-type {\n",
              "        vertical-align: middle;\n",
              "    }\n",
              "\n",
              "    .dataframe tbody tr th {\n",
              "        vertical-align: top;\n",
              "    }\n",
              "\n",
              "    .dataframe thead th {\n",
              "        text-align: right;\n",
              "    }\n",
              "</style>\n",
              "<table border=\"1\" class=\"dataframe\">\n",
              "  <thead>\n",
              "    <tr style=\"text-align: right;\">\n",
              "      <th></th>\n",
              "      <th>Пол</th>\n",
              "      <th>Возраст</th>\n",
              "      <th>Зарплата</th>\n",
              "      <th>Члены семьи</th>\n",
              "      <th>Страховые выплаты</th>\n",
              "    </tr>\n",
              "  </thead>\n",
              "  <tbody>\n",
              "    <tr>\n",
              "      <th>count</th>\n",
              "      <td>5000.000000</td>\n",
              "      <td>5000.000000</td>\n",
              "      <td>5000.000000</td>\n",
              "      <td>5000.000000</td>\n",
              "      <td>5000.000000</td>\n",
              "    </tr>\n",
              "    <tr>\n",
              "      <th>mean</th>\n",
              "      <td>0.499000</td>\n",
              "      <td>30.952800</td>\n",
              "      <td>39916.360000</td>\n",
              "      <td>1.194200</td>\n",
              "      <td>0.148000</td>\n",
              "    </tr>\n",
              "    <tr>\n",
              "      <th>std</th>\n",
              "      <td>0.500049</td>\n",
              "      <td>8.440807</td>\n",
              "      <td>9900.083569</td>\n",
              "      <td>1.091387</td>\n",
              "      <td>0.463183</td>\n",
              "    </tr>\n",
              "    <tr>\n",
              "      <th>min</th>\n",
              "      <td>0.000000</td>\n",
              "      <td>18.000000</td>\n",
              "      <td>5300.000000</td>\n",
              "      <td>0.000000</td>\n",
              "      <td>0.000000</td>\n",
              "    </tr>\n",
              "    <tr>\n",
              "      <th>25%</th>\n",
              "      <td>0.000000</td>\n",
              "      <td>24.000000</td>\n",
              "      <td>33300.000000</td>\n",
              "      <td>0.000000</td>\n",
              "      <td>0.000000</td>\n",
              "    </tr>\n",
              "    <tr>\n",
              "      <th>50%</th>\n",
              "      <td>0.000000</td>\n",
              "      <td>30.000000</td>\n",
              "      <td>40200.000000</td>\n",
              "      <td>1.000000</td>\n",
              "      <td>0.000000</td>\n",
              "    </tr>\n",
              "    <tr>\n",
              "      <th>75%</th>\n",
              "      <td>1.000000</td>\n",
              "      <td>37.000000</td>\n",
              "      <td>46600.000000</td>\n",
              "      <td>2.000000</td>\n",
              "      <td>0.000000</td>\n",
              "    </tr>\n",
              "    <tr>\n",
              "      <th>max</th>\n",
              "      <td>1.000000</td>\n",
              "      <td>65.000000</td>\n",
              "      <td>79000.000000</td>\n",
              "      <td>6.000000</td>\n",
              "      <td>5.000000</td>\n",
              "    </tr>\n",
              "  </tbody>\n",
              "</table>\n",
              "</div>\n",
              "      <button class=\"colab-df-convert\" onclick=\"convertToInteractive('df-586d5958-f22d-4ef4-a051-d562fdc1867b')\"\n",
              "              title=\"Convert this dataframe to an interactive table.\"\n",
              "              style=\"display:none;\">\n",
              "        \n",
              "  <svg xmlns=\"http://www.w3.org/2000/svg\" height=\"24px\"viewBox=\"0 0 24 24\"\n",
              "       width=\"24px\">\n",
              "    <path d=\"M0 0h24v24H0V0z\" fill=\"none\"/>\n",
              "    <path d=\"M18.56 5.44l.94 2.06.94-2.06 2.06-.94-2.06-.94-.94-2.06-.94 2.06-2.06.94zm-11 1L8.5 8.5l.94-2.06 2.06-.94-2.06-.94L8.5 2.5l-.94 2.06-2.06.94zm10 10l.94 2.06.94-2.06 2.06-.94-2.06-.94-.94-2.06-.94 2.06-2.06.94z\"/><path d=\"M17.41 7.96l-1.37-1.37c-.4-.4-.92-.59-1.43-.59-.52 0-1.04.2-1.43.59L10.3 9.45l-7.72 7.72c-.78.78-.78 2.05 0 2.83L4 21.41c.39.39.9.59 1.41.59.51 0 1.02-.2 1.41-.59l7.78-7.78 2.81-2.81c.8-.78.8-2.07 0-2.86zM5.41 20L4 18.59l7.72-7.72 1.47 1.35L5.41 20z\"/>\n",
              "  </svg>\n",
              "      </button>\n",
              "      \n",
              "  <style>\n",
              "    .colab-df-container {\n",
              "      display:flex;\n",
              "      flex-wrap:wrap;\n",
              "      gap: 12px;\n",
              "    }\n",
              "\n",
              "    .colab-df-convert {\n",
              "      background-color: #E8F0FE;\n",
              "      border: none;\n",
              "      border-radius: 50%;\n",
              "      cursor: pointer;\n",
              "      display: none;\n",
              "      fill: #1967D2;\n",
              "      height: 32px;\n",
              "      padding: 0 0 0 0;\n",
              "      width: 32px;\n",
              "    }\n",
              "\n",
              "    .colab-df-convert:hover {\n",
              "      background-color: #E2EBFA;\n",
              "      box-shadow: 0px 1px 2px rgba(60, 64, 67, 0.3), 0px 1px 3px 1px rgba(60, 64, 67, 0.15);\n",
              "      fill: #174EA6;\n",
              "    }\n",
              "\n",
              "    [theme=dark] .colab-df-convert {\n",
              "      background-color: #3B4455;\n",
              "      fill: #D2E3FC;\n",
              "    }\n",
              "\n",
              "    [theme=dark] .colab-df-convert:hover {\n",
              "      background-color: #434B5C;\n",
              "      box-shadow: 0px 1px 3px 1px rgba(0, 0, 0, 0.15);\n",
              "      filter: drop-shadow(0px 1px 2px rgba(0, 0, 0, 0.3));\n",
              "      fill: #FFFFFF;\n",
              "    }\n",
              "  </style>\n",
              "\n",
              "      <script>\n",
              "        const buttonEl =\n",
              "          document.querySelector('#df-586d5958-f22d-4ef4-a051-d562fdc1867b button.colab-df-convert');\n",
              "        buttonEl.style.display =\n",
              "          google.colab.kernel.accessAllowed ? 'block' : 'none';\n",
              "\n",
              "        async function convertToInteractive(key) {\n",
              "          const element = document.querySelector('#df-586d5958-f22d-4ef4-a051-d562fdc1867b');\n",
              "          const dataTable =\n",
              "            await google.colab.kernel.invokeFunction('convertToInteractive',\n",
              "                                                     [key], {});\n",
              "          if (!dataTable) return;\n",
              "\n",
              "          const docLinkHtml = 'Like what you see? Visit the ' +\n",
              "            '<a target=\"_blank\" href=https://colab.research.google.com/notebooks/data_table.ipynb>data table notebook</a>'\n",
              "            + ' to learn more about interactive tables.';\n",
              "          element.innerHTML = '';\n",
              "          dataTable['output_type'] = 'display_data';\n",
              "          await google.colab.output.renderOutput(dataTable, element);\n",
              "          const docLink = document.createElement('div');\n",
              "          docLink.innerHTML = docLinkHtml;\n",
              "          element.appendChild(docLink);\n",
              "        }\n",
              "      </script>\n",
              "    </div>\n",
              "  </div>\n",
              "  "
            ]
          },
          "metadata": {},
          "execution_count": 6
        }
      ],
      "source": [
        "df.describe()"
      ]
    },
    {
      "cell_type": "code",
      "execution_count": 7,
      "metadata": {
        "scrolled": false,
        "colab": {
          "base_uri": "https://localhost:8080/",
          "height": 553
        },
        "id": "ak0IgFGewtE-",
        "outputId": "10bddc13-68a8-4d4b-977b-342ec70ff5ea"
      },
      "outputs": [
        {
          "output_type": "display_data",
          "data": {
            "text/plain": [
              "<Figure size 1152x648 with 6 Axes>"
            ],
            "image/png": "[encoded data removed]"
          },
          "metadata": {
            "needs_background": "light"
          }
        }
      ],
      "source": [
        "df.hist(figsize=(16,9), bins=30);"
      ]
    },
    {
      "cell_type": "markdown",
      "metadata": {
        "id": "jtaKJx5nwtE_"
      },
      "source": [
        "Посмотрели на распределения признаков и целевого признака"
      ]
    },
    {
      "cell_type": "code",
      "execution_count": 8,
      "metadata": {
        "id": "ECgZAdEnwtE_"
      },
      "outputs": [],
      "source": [
        "df.columns = ['sex', 'age', 'salary', 'family_count', 'insurance_count']"
      ]
    },
    {
      "cell_type": "markdown",
      "metadata": {
        "id": "jqmA_n6awtE_"
      },
      "source": [
        "Переименовали столбцы"
      ]
    },
    {
      "cell_type": "markdown",
      "metadata": {
        "id": "tlSqQQMdwtFA"
      },
      "source": [
        "## Умножение матриц"
      ]
    },
    {
      "cell_type": "markdown",
      "metadata": {
        "id": "8LD5OycfwtFA"
      },
      "source": [
        "Ответим на следующий вопрос: признаки умножают на обратимую матрицу. Изменится ли качество линейной регрессии? Из определения обратимой матрицы известно, что обратимая матрица является квадратной. Если исходная матрица признаков $X$ имеет размер $(n\\times m)$, то матрица $P$, на которую домножается $X$ имеет единственно возможный размер $(m\\times m)$. Проведем эксперимент и посмотрим, что получится. Сначала обучим модель на исходных признаках."
      ]
    },
    {
      "cell_type": "code",
      "execution_count": 9,
      "metadata": {
        "colab": {
          "base_uri": "https://localhost:8080/"
        },
        "id": "Y4xV_Xb_wtFB",
        "outputId": "d2a0c3fb-8049-419f-8827-3e2cf5146060"
      },
      "outputs": [
        {
          "output_type": "execute_result",
          "data": {
            "text/plain": [
              "0.32377322792427543"
            ]
          },
          "metadata": {},
          "execution_count": 9
        }
      ],
      "source": [
        "X = df.drop('insurance_count', axis=1).values\n",
        "y = df['insurance_count'].values\n",
        "X_train, X_valid, y_train, y_valid = train_test_split(X,y, test_size=0.25,\n",
        "                                                      random_state=1)\n",
        "model = LinearRegression()\n",
        "model.fit(X_train, y_train)\n",
        "predict = model.predict(X_valid)\n",
        "r2 = r2_score(y_valid, predict)\n",
        "r2"
      ]
    },
    {
      "cell_type": "markdown",
      "metadata": {
        "id": "lKGE0fHpwtFB"
      },
      "source": [
        "Теперь возьмем некоторую матрицу $P$"
      ]
    },
    {
      "cell_type": "code",
      "execution_count": 10,
      "metadata": {
        "colab": {
          "base_uri": "https://localhost:8080/"
        },
        "id": "1hH5a1cnwtFB",
        "outputId": "ae3343f4-1d77-4091-d3f2-7aaf69bc5cdc"
      },
      "outputs": [
        {
          "output_type": "execute_result",
          "data": {
            "text/plain": [
              "array([[ 0, 34, 32,  3],\n",
              "       [45, 81, 79, 50],\n",
              "       [68, 31, 37, 33],\n",
              "       [49, 61, 66, 66]])"
            ]
          },
          "metadata": {},
          "execution_count": 10
        }
      ],
      "source": [
        "P = np.random.randint(100, size=(X_train.shape[1], (X_train.shape[1])))\n",
        "P"
      ]
    },
    {
      "cell_type": "markdown",
      "metadata": {
        "id": "IqcFVWkCwtFC"
      },
      "source": [
        "Убедимся, что $P$ обратима."
      ]
    },
    {
      "cell_type": "code",
      "execution_count": 11,
      "metadata": {
        "colab": {
          "base_uri": "https://localhost:8080/"
        },
        "id": "75Ez06L_wtFC",
        "outputId": "a487408c-ab8c-46f0-c5cc-8e8df6170d5f"
      },
      "outputs": [
        {
          "output_type": "execute_result",
          "data": {
            "text/plain": [
              "array([[-0.02210436,  0.01957876,  0.01831059, -0.02298295],\n",
              "       [-0.2181123 ,  0.2252807 , -0.05197091, -0.13476755],\n",
              "       [ 0.26764896, -0.24107913,  0.0573687 ,  0.14178549],\n",
              "       [-0.04964951,  0.0183294 , -0.02292921,  0.01498701]])"
            ]
          },
          "metadata": {},
          "execution_count": 11
        }
      ],
      "source": [
        "np.linalg.inv(P)"
      ]
    },
    {
      "cell_type": "markdown",
      "metadata": {
        "id": "WEJFs-lnwtFD"
      },
      "source": [
        "Обучим снова модель, домножив $X$ на $P$"
      ]
    },
    {
      "cell_type": "code",
      "execution_count": 12,
      "metadata": {
        "colab": {
          "base_uri": "https://localhost:8080/"
        },
        "id": "RxEU9-QKwtFD",
        "outputId": "1bdacdf0-cec4-413f-d754-89687a6a2609"
      },
      "outputs": [
        {
          "output_type": "execute_result",
          "data": {
            "text/plain": [
              "0.3237732279247376"
            ]
          },
          "metadata": {},
          "execution_count": 12
        }
      ],
      "source": [
        "model = LinearRegression()\n",
        "model.fit(X_train@P, y_train)\n",
        "predict = model.predict(X_valid@P)\n",
        "r2 = r2_score(y_valid, predict)\n",
        "r2"
      ]
    },
    {
      "cell_type": "markdown",
      "metadata": {
        "id": "kayhWuATwtFD"
      },
      "source": [
        "Мы получили R2 практически такой же, как для модели, обученной на исходных признаках с точностью до далеких знаков после запятой. Наше предположение следующее: домножение матрицы признаков $X$ на обратимую матрицу $P$ не влияет на предсказание модели. Попробуем установить, так ли это. Для этого воспользуемся свойствами транспонированных и обратных матриц __[отсюда](https://ru.wikipedia.org/wiki/%D0%A2%D1%80%D0%B0%D0%BD%D1%81%D0%BF%D0%BE%D0%BD%D0%B8%D1%80%D0%BE%D0%B2%D0%B0%D0%BD%D0%BD%D0%B0%D1%8F_%D0%BC%D0%B0%D1%82%D1%80%D0%B8%D1%86%D0%B0)__ и __[отсюда](https://ru.wikipedia.org/wiki/%D0%9E%D0%B1%D1%80%D0%B0%D1%82%D0%BD%D0%B0%D1%8F_%D0%BC%D0%B0%D1%82%D1%80%D0%B8%D1%86%D0%B0)__, а именно $(AB)^T = B^TA^T$; $(AB)^{-1} = B^{-1}A^{-1}$."
      ]
    },
    {
      "cell_type": "markdown",
      "metadata": {
        "id": "Y9X5GLvCwtFE"
      },
      "source": [
        "Известно, что предсказания модели линейной регрессии записываются как $a = Xw$, где $X$ - матрица признаков, $w$ - вектор весов линейной регрессии. Известно, что\n",
        "\n",
        "$$\n",
        "w = (X^T X)^{-1} X^T y\n",
        "$$\n",
        "где $y$ - вектор целевого признака. Пусть $X'$ = $XP$, исходная матрица $X$, домноженная на некоторую обратимую матрицу $P$. Тогда $w' = (X'^T X')^{-1} X'^T y$; $a'=X'w'$. Посмотрим, как соотносятся предсказания $a$ и $a'$"
      ]
    },
    {
      "cell_type": "markdown",
      "metadata": {
        "id": "heFvcACHwtFE"
      },
      "source": [
        "$$\n",
        "w' = (X'^T X')^{-1} X'^T y = ((XP)^TXP)^{-1}(XP)^Ty =\n",
        "$$\n",
        "$$\n",
        "= P^{-1}((XP)^TX)^{-1}(XP)^Ty = P^{-1}(P^TX^TX)^{-1}P^TX^Ty =\n",
        "$$\n",
        "$$\n",
        "= P^{-1}(X^TX)^{-1}(P^T)^{-1}P^TX^Ty = P^{-1}(X^TX)^{-1}X^Ty\n",
        "$$"
      ]
    },
    {
      "cell_type": "markdown",
      "metadata": {
        "id": "ubsp-sRMwtFE"
      },
      "source": [
        "Тогда\n",
        "\n",
        "$$\n",
        "a'=X'w'=XPP^{-1}(X^TX)^{-1}X^Ty = X(X^TX)^{-1}X^Ty =\n",
        "$$\n",
        "$$\n",
        "= Xw = a\n",
        "$$\n",
        "\n",
        "Таким образом мы убедились, что предсказания $a$ и $a'$ равны и наше предположение о том, что домножение $X$ на $P$ не влияет на предсказание модели линейной регрессии оказалось верным."
      ]
    },
    {
      "cell_type": "markdown",
      "metadata": {
        "id": "iMKd4KQ_wtFF"
      },
      "source": [
        "## Алгоритм преобразования"
      ]
    },
    {
      "cell_type": "markdown",
      "metadata": {
        "id": "TbDPerZpwtFF"
      },
      "source": [
        "Исходя из сказанного выше, алгоритм преобразования для защиты данных клиентов описывается так. Персональные данные, которые представляют из себя матрицу принзаков $X$ домножим на некоторую обратимую матрицу $P$, которую будем держать в секрете. Модель линейной регрессии обучается на преобразованных данных. В момент использования модели для предсказания, данные, для которых предсказание нужно сделать, также домножаются на секретную матрицу $P$. По причинам описанным выше, качество линейной регрессии останется неизменным, а исходные данные защищены."
      ]
    },
    {
      "cell_type": "markdown",
      "metadata": {
        "id": "eBOgd7lpwtFF"
      },
      "source": [
        "## Проверка алгоритма"
      ]
    },
    {
      "cell_type": "markdown",
      "metadata": {
        "id": "_F6rLOEAwtFF"
      },
      "source": [
        "Алгоритм уже, по сути, проверен в п.2. Работа выполнена в таком порядке по следующей причине. Для ответа на вопрос в п.2 инструкций к проекту проще было написать несколько строк кода и посмотреть на результат. Видя одинаковый R2 скор для исходных и преобразованных признаков, очевидным образом напрашивается предположение, что домножение $X$ на $P$ не влияет на результат. Это предположение было проверено при помощи листка и ручки, а затем перенесено сюда."
      ]
    }
  ],
  "metadata": {
    "ExecuteTimeLog": [
      {
        "duration": 552,
        "start_time": "2022-05-24T12:14:13.247Z"
      },
      {
        "duration": 94,
        "start_time": "2022-05-24T12:14:34.143Z"
      },
      {
        "duration": 15,
        "start_time": "2022-05-24T12:14:59.550Z"
      },
      {
        "duration": 16,
        "start_time": "2022-05-24T12:15:29.759Z"
      },
      {
        "duration": 33,
        "start_time": "2022-05-24T12:15:43.981Z"
      },
      {
        "duration": 808,
        "start_time": "2022-05-24T14:14:10.888Z"
      },
      {
        "duration": 3,
        "start_time": "2022-05-24T14:15:28.797Z"
      },
      {
        "duration": 4,
        "start_time": "2022-05-24T14:16:31.705Z"
      },
      {
        "duration": 4,
        "start_time": "2022-05-24T14:16:34.918Z"
      },
      {
        "duration": 3,
        "start_time": "2022-05-24T14:16:58.239Z"
      },
      {
        "duration": 3,
        "start_time": "2022-05-24T14:17:16.934Z"
      },
      {
        "duration": 118,
        "start_time": "2022-05-24T14:18:03.878Z"
      },
      {
        "duration": 4,
        "start_time": "2022-05-24T14:18:25.215Z"
      },
      {
        "duration": 4,
        "start_time": "2022-05-24T14:18:28.213Z"
      },
      {
        "duration": 17,
        "start_time": "2022-05-24T14:19:12.782Z"
      },
      {
        "duration": 4,
        "start_time": "2022-05-24T14:19:26.141Z"
      },
      {
        "duration": 3,
        "start_time": "2022-05-24T14:19:30.532Z"
      },
      {
        "duration": 6,
        "start_time": "2022-05-24T14:19:41.957Z"
      },
      {
        "duration": 4,
        "start_time": "2022-05-24T14:19:43.196Z"
      },
      {
        "duration": 8,
        "start_time": "2022-05-24T14:19:45.177Z"
      },
      {
        "duration": 4,
        "start_time": "2022-05-24T14:20:20.604Z"
      },
      {
        "duration": 3,
        "start_time": "2022-05-24T14:20:21.324Z"
      },
      {
        "duration": 6,
        "start_time": "2022-05-24T14:20:22.396Z"
      },
      {
        "duration": 3,
        "start_time": "2022-05-24T14:20:55.308Z"
      },
      {
        "duration": 4,
        "start_time": "2022-05-24T14:21:21.770Z"
      },
      {
        "duration": 3,
        "start_time": "2022-05-24T14:21:40.092Z"
      },
      {
        "duration": 4,
        "start_time": "2022-05-24T14:21:46.539Z"
      },
      {
        "duration": 5,
        "start_time": "2022-05-24T14:22:04.981Z"
      },
      {
        "duration": 28,
        "start_time": "2022-05-24T14:22:05.491Z"
      },
      {
        "duration": 13,
        "start_time": "2022-05-24T14:22:05.880Z"
      },
      {
        "duration": 12,
        "start_time": "2022-05-24T14:22:06.651Z"
      },
      {
        "duration": 25,
        "start_time": "2022-05-24T14:22:08.732Z"
      },
      {
        "duration": 3,
        "start_time": "2022-05-24T14:22:09.811Z"
      },
      {
        "duration": 4,
        "start_time": "2022-05-24T14:22:10.547Z"
      },
      {
        "duration": 2,
        "start_time": "2022-05-24T14:22:11.219Z"
      },
      {
        "duration": 2,
        "start_time": "2022-05-24T14:22:11.692Z"
      },
      {
        "duration": 4,
        "start_time": "2022-05-24T14:22:12.138Z"
      },
      {
        "duration": 5,
        "start_time": "2022-05-24T14:22:12.506Z"
      },
      {
        "duration": 10,
        "start_time": "2022-05-24T14:22:13.080Z"
      },
      {
        "duration": 4,
        "start_time": "2022-05-24T14:22:15.280Z"
      },
      {
        "duration": 3,
        "start_time": "2022-05-24T14:22:15.763Z"
      },
      {
        "duration": 4,
        "start_time": "2022-05-24T14:22:16.091Z"
      },
      {
        "duration": 3,
        "start_time": "2022-05-24T14:22:38.180Z"
      },
      {
        "duration": 4,
        "start_time": "2022-05-24T14:24:37.491Z"
      },
      {
        "duration": 4,
        "start_time": "2022-05-24T14:24:55.914Z"
      },
      {
        "duration": 22,
        "start_time": "2022-05-24T14:26:04.537Z"
      },
      {
        "duration": 3,
        "start_time": "2022-05-24T14:26:12.145Z"
      },
      {
        "duration": 5,
        "start_time": "2022-05-24T14:26:17.113Z"
      },
      {
        "duration": 6,
        "start_time": "2022-05-24T14:27:03.441Z"
      },
      {
        "duration": 8,
        "start_time": "2022-05-24T14:27:27.762Z"
      },
      {
        "duration": 4,
        "start_time": "2022-05-24T14:27:39.618Z"
      },
      {
        "duration": 4,
        "start_time": "2022-05-24T14:27:43.285Z"
      },
      {
        "duration": 3,
        "start_time": "2022-05-24T14:28:19.937Z"
      },
      {
        "duration": 8,
        "start_time": "2022-05-24T14:28:20.464Z"
      },
      {
        "duration": 4,
        "start_time": "2022-05-24T14:28:20.756Z"
      },
      {
        "duration": 69,
        "start_time": "2022-06-03T05:27:47.009Z"
      },
      {
        "duration": 990,
        "start_time": "2022-06-03T05:27:51.129Z"
      },
      {
        "duration": 84,
        "start_time": "2022-06-03T05:27:52.121Z"
      },
      {
        "duration": 72,
        "start_time": "2022-06-03T05:27:52.207Z"
      },
      {
        "duration": 17,
        "start_time": "2022-06-03T05:27:53.070Z"
      },
      {
        "duration": 28,
        "start_time": "2022-06-03T05:27:53.482Z"
      },
      {
        "duration": 3,
        "start_time": "2022-06-03T05:27:54.042Z"
      },
      {
        "duration": 5,
        "start_time": "2022-06-03T05:27:54.373Z"
      },
      {
        "duration": 4,
        "start_time": "2022-06-03T05:27:55.775Z"
      },
      {
        "duration": 2,
        "start_time": "2022-06-03T05:27:56.113Z"
      },
      {
        "duration": 5,
        "start_time": "2022-06-03T05:27:56.482Z"
      },
      {
        "duration": 5,
        "start_time": "2022-06-03T05:27:56.820Z"
      },
      {
        "duration": 10,
        "start_time": "2022-06-03T05:27:57.163Z"
      },
      {
        "duration": 5,
        "start_time": "2022-06-03T05:27:57.491Z"
      },
      {
        "duration": 3,
        "start_time": "2022-06-03T05:27:57.818Z"
      },
      {
        "duration": 4,
        "start_time": "2022-06-03T05:27:58.129Z"
      },
      {
        "duration": 12,
        "start_time": "2022-06-03T05:27:58.467Z"
      },
      {
        "duration": 4,
        "start_time": "2022-06-03T05:27:58.803Z"
      },
      {
        "duration": 4,
        "start_time": "2022-06-03T05:27:59.105Z"
      },
      {
        "duration": 7,
        "start_time": "2022-06-03T05:27:59.419Z"
      },
      {
        "duration": 12,
        "start_time": "2022-06-03T05:28:00.364Z"
      },
      {
        "duration": 4,
        "start_time": "2022-06-03T05:28:00.714Z"
      },
      {
        "duration": 4,
        "start_time": "2022-06-03T05:28:01.034Z"
      },
      {
        "duration": 9,
        "start_time": "2022-06-03T05:28:02.617Z"
      },
      {
        "duration": 9,
        "start_time": "2022-06-03T05:28:05.876Z"
      },
      {
        "duration": 3,
        "start_time": "2022-06-03T05:29:02.113Z"
      },
      {
        "duration": 72,
        "start_time": "2022-06-03T05:29:05.955Z"
      },
      {
        "duration": 4,
        "start_time": "2022-06-03T05:29:08.723Z"
      },
      {
        "duration": 5,
        "start_time": "2022-06-03T05:29:59.980Z"
      },
      {
        "duration": 22,
        "start_time": "2022-06-03T05:31:09.810Z"
      },
      {
        "duration": 6,
        "start_time": "2022-06-03T05:31:39.248Z"
      },
      {
        "duration": 1202,
        "start_time": "2022-06-03T06:15:48.577Z"
      },
      {
        "duration": 994,
        "start_time": "2022-06-03T06:15:56.841Z"
      },
      {
        "duration": 1015,
        "start_time": "2022-06-03T06:15:59.537Z"
      },
      {
        "duration": 793,
        "start_time": "2022-06-03T06:16:07.553Z"
      },
      {
        "duration": 29,
        "start_time": "2022-06-03T06:18:09.576Z"
      },
      {
        "duration": 934,
        "start_time": "2022-06-03T06:39:53.053Z"
      },
      {
        "duration": 28,
        "start_time": "2022-06-03T06:39:53.989Z"
      },
      {
        "duration": 77,
        "start_time": "2022-06-03T06:39:54.022Z"
      },
      {
        "duration": 12,
        "start_time": "2022-06-03T06:39:54.100Z"
      },
      {
        "duration": 27,
        "start_time": "2022-06-03T06:39:54.114Z"
      },
      {
        "duration": 1102,
        "start_time": "2022-06-03T06:39:54.143Z"
      },
      {
        "duration": 4,
        "start_time": "2022-06-03T06:39:55.247Z"
      },
      {
        "duration": 15,
        "start_time": "2022-06-03T06:39:55.258Z"
      },
      {
        "duration": 17,
        "start_time": "2022-06-03T06:39:55.278Z"
      },
      {
        "duration": 11,
        "start_time": "2022-06-03T06:39:55.297Z"
      },
      {
        "duration": 55,
        "start_time": "2022-06-03T06:39:55.310Z"
      }
    ],
    "kernelspec": {
      "display_name": "Python 3 (ipykernel)",
      "language": "python",
      "name": "python3"
    },
    "language_info": {
      "codemirror_mode": {
        "name": "ipython",
        "version": 3
      },
      "file_extension": ".py",
      "mimetype": "text/x-python",
      "name": "python",
      "nbconvert_exporter": "python",
      "pygments_lexer": "ipython3",
      "version": "3.9.5"
    },
    "toc": {
      "base_numbering": 1,
      "nav_menu": {},
      "number_sections": true,
      "sideBar": true,
      "skip_h1_title": true,
      "title_cell": "Содержание",
      "title_sidebar": "Contents",
      "toc_cell": true,
      "toc_position": {},
      "toc_section_display": true,
      "toc_window_display": false
    },
    "colab": {
      "name": "10_RU_Linear_algebra.ipynb",
      "provenance": [],
      "collapsed_sections": [],
      "include_colab_link": true
    }
  },
  "nbformat": 4,
  "nbformat_minor": 0
}