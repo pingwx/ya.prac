{
  "cells": [
    {
      "cell_type": "markdown",
      "metadata": {
        "id": "view-in-github",
        "colab_type": "text"
      },
      "source": [
        "<a href=\"https://colab.research.google.com/github/pingwx/ya.prac/blob/main/10_Linear_algebra/10_EN_Linear_algebra.ipynb\" target=\"_parent\"><img src=\"https://colab.research.google.com/assets/colab-badge.svg\" alt=\"Open In Colab\"/></a>"
      ]
    },
    {
      "cell_type": "markdown",
      "metadata": {
        "id": "QaxbNOSkpbas"
      },
      "source": [
        "# Protection of personal data"
      ]
    },
    {
      "cell_type": "markdown",
      "metadata": {
        "id": "Yg8m6b-9pbat"
      },
      "source": [
        "Our customer is the insurance company \"Hot' potop\" faced the problem of protecting the data of its clients. We are asked to develop a data transformation method applying which it would be not possible to recover the original client's data. At the same time, the quality of the model used by the customer for predictions should not become worse. It is known that the customer uses a linear regression model.\n",
        "It is necessary to prove the correctness of the developed method."
      ]
    },
    {
      "cell_type": "markdown",
      "metadata": {
        "id": "rrdJqbempbau"
      },
      "source": [
        "## Loading data"
      ]
    },
    {
      "cell_type": "code",
      "execution_count": 2,
      "metadata": {
        "id": "oIBcv8-Ppbav"
      },
      "outputs": [],
      "source": [
        "import pandas as pd\n",
        "from sklearn.linear_model import LinearRegression\n",
        "from sklearn.model_selection import train_test_split\n",
        "from sklearn.metrics import r2_score\n",
        "import numpy as np"
      ]
    },
    {
      "cell_type": "code",
      "execution_count": 3,
      "metadata": {
        "id": "TZcFpJ28pbaw"
      },
      "outputs": [],
      "source": [
        "df = pd.read_csv('/content/insurance.csv')"
      ]
    },
    {
      "cell_type": "code",
      "execution_count": 4,
      "metadata": {
        "colab": {
          "base_uri": "https://localhost:8080/",
          "height": 206
        },
        "id": "b_iY41I1pbaw",
        "outputId": "3e928f55-ad23-4edf-cfde-07a6f4862a4b"
      },
      "outputs": [
        {
          "output_type": "execute_result",
          "data": {
            "text/plain": [
              "   Пол  Возраст  Зарплата  Члены семьи  Страховые выплаты\n",
              "0    1     41.0   49600.0            1                  0\n",
              "1    0     46.0   38000.0            1                  1\n",
              "2    0     29.0   21000.0            0                  0\n",
              "3    0     21.0   41700.0            2                  0\n",
              "4    1     28.0   26100.0            0                  0"
            ],
            "text/html": [
              "\n",
              "  <div id=\"df-94bc0189-5505-4ae7-9ce4-5f0f5ee9dd4c\">\n",
              "    <div class=\"colab-df-container\">\n",
              "      <div>\n",
              "<style scoped>\n",
              "    .dataframe tbody tr th:only-of-type {\n",
              "        vertical-align: middle;\n",
              "    }\n",
              "\n",
              "    .dataframe tbody tr th {\n",
              "        vertical-align: top;\n",
              "    }\n",
              "\n",
              "    .dataframe thead th {\n",
              "        text-align: right;\n",
              "    }\n",
              "</style>\n",
              "<table border=\"1\" class=\"dataframe\">\n",
              "  <thead>\n",
              "    <tr style=\"text-align: right;\">\n",
              "      <th></th>\n",
              "      <th>Пол</th>\n",
              "      <th>Возраст</th>\n",
              "      <th>Зарплата</th>\n",
              "      <th>Члены семьи</th>\n",
              "      <th>Страховые выплаты</th>\n",
              "    </tr>\n",
              "  </thead>\n",
              "  <tbody>\n",
              "    <tr>\n",
              "      <th>0</th>\n",
              "      <td>1</td>\n",
              "      <td>41.0</td>\n",
              "      <td>49600.0</td>\n",
              "      <td>1</td>\n",
              "      <td>0</td>\n",
              "    </tr>\n",
              "    <tr>\n",
              "      <th>1</th>\n",
              "      <td>0</td>\n",
              "      <td>46.0</td>\n",
              "      <td>38000.0</td>\n",
              "      <td>1</td>\n",
              "      <td>1</td>\n",
              "    </tr>\n",
              "    <tr>\n",
              "      <th>2</th>\n",
              "      <td>0</td>\n",
              "      <td>29.0</td>\n",
              "      <td>21000.0</td>\n",
              "      <td>0</td>\n",
              "      <td>0</td>\n",
              "    </tr>\n",
              "    <tr>\n",
              "      <th>3</th>\n",
              "      <td>0</td>\n",
              "      <td>21.0</td>\n",
              "      <td>41700.0</td>\n",
              "      <td>2</td>\n",
              "      <td>0</td>\n",
              "    </tr>\n",
              "    <tr>\n",
              "      <th>4</th>\n",
              "      <td>1</td>\n",
              "      <td>28.0</td>\n",
              "      <td>26100.0</td>\n",
              "      <td>0</td>\n",
              "      <td>0</td>\n",
              "    </tr>\n",
              "  </tbody>\n",
              "</table>\n",
              "</div>\n",
              "      <button class=\"colab-df-convert\" onclick=\"convertToInteractive('df-94bc0189-5505-4ae7-9ce4-5f0f5ee9dd4c')\"\n",
              "              title=\"Convert this dataframe to an interactive table.\"\n",
              "              style=\"display:none;\">\n",
              "        \n",
              "  <svg xmlns=\"http://www.w3.org/2000/svg\" height=\"24px\"viewBox=\"0 0 24 24\"\n",
              "       width=\"24px\">\n",
              "    <path d=\"M0 0h24v24H0V0z\" fill=\"none\"/>\n",
              "    <path d=\"M18.56 5.44l.94 2.06.94-2.06 2.06-.94-2.06-.94-.94-2.06-.94 2.06-2.06.94zm-11 1L8.5 8.5l.94-2.06 2.06-.94-2.06-.94L8.5 2.5l-.94 2.06-2.06.94zm10 10l.94 2.06.94-2.06 2.06-.94-2.06-.94-.94-2.06-.94 2.06-2.06.94z\"/><path d=\"M17.41 7.96l-1.37-1.37c-.4-.4-.92-.59-1.43-.59-.52 0-1.04.2-1.43.59L10.3 9.45l-7.72 7.72c-.78.78-.78 2.05 0 2.83L4 21.41c.39.39.9.59 1.41.59.51 0 1.02-.2 1.41-.59l7.78-7.78 2.81-2.81c.8-.78.8-2.07 0-2.86zM5.41 20L4 18.59l7.72-7.72 1.47 1.35L5.41 20z\"/>\n",
              "  </svg>\n",
              "      </button>\n",
              "      \n",
              "  <style>\n",
              "    .colab-df-container {\n",
              "      display:flex;\n",
              "      flex-wrap:wrap;\n",
              "      gap: 12px;\n",
              "    }\n",
              "\n",
              "    .colab-df-convert {\n",
              "      background-color: #E8F0FE;\n",
              "      border: none;\n",
              "      border-radius: 50%;\n",
              "      cursor: pointer;\n",
              "      display: none;\n",
              "      fill: #1967D2;\n",
              "      height: 32px;\n",
              "      padding: 0 0 0 0;\n",
              "      width: 32px;\n",
              "    }\n",
              "\n",
              "    .colab-df-convert:hover {\n",
              "      background-color: #E2EBFA;\n",
              "      box-shadow: 0px 1px 2px rgba(60, 64, 67, 0.3), 0px 1px 3px 1px rgba(60, 64, 67, 0.15);\n",
              "      fill: #174EA6;\n",
              "    }\n",
              "\n",
              "    [theme=dark] .colab-df-convert {\n",
              "      background-color: #3B4455;\n",
              "      fill: #D2E3FC;\n",
              "    }\n",
              "\n",
              "    [theme=dark] .colab-df-convert:hover {\n",
              "      background-color: #434B5C;\n",
              "      box-shadow: 0px 1px 3px 1px rgba(0, 0, 0, 0.15);\n",
              "      filter: drop-shadow(0px 1px 2px rgba(0, 0, 0, 0.3));\n",
              "      fill: #FFFFFF;\n",
              "    }\n",
              "  </style>\n",
              "\n",
              "      <script>\n",
              "        const buttonEl =\n",
              "          document.querySelector('#df-94bc0189-5505-4ae7-9ce4-5f0f5ee9dd4c button.colab-df-convert');\n",
              "        buttonEl.style.display =\n",
              "          google.colab.kernel.accessAllowed ? 'block' : 'none';\n",
              "\n",
              "        async function convertToInteractive(key) {\n",
              "          const element = document.querySelector('#df-94bc0189-5505-4ae7-9ce4-5f0f5ee9dd4c');\n",
              "          const dataTable =\n",
              "            await google.colab.kernel.invokeFunction('convertToInteractive',\n",
              "                                                     [key], {});\n",
              "          if (!dataTable) return;\n",
              "\n",
              "          const docLinkHtml = 'Like what you see? Visit the ' +\n",
              "            '<a target=\"_blank\" href=https://colab.research.google.com/notebooks/data_table.ipynb>data table notebook</a>'\n",
              "            + ' to learn more about interactive tables.';\n",
              "          element.innerHTML = '';\n",
              "          dataTable['output_type'] = 'display_data';\n",
              "          await google.colab.output.renderOutput(dataTable, element);\n",
              "          const docLink = document.createElement('div');\n",
              "          docLink.innerHTML = docLinkHtml;\n",
              "          element.appendChild(docLink);\n",
              "        }\n",
              "      </script>\n",
              "    </div>\n",
              "  </div>\n",
              "  "
            ]
          },
          "metadata": {},
          "execution_count": 4
        }
      ],
      "source": [
        "df.head()"
      ]
    },
    {
      "cell_type": "markdown",
      "metadata": {
        "id": "t-JKXsB_pbax"
      },
      "source": [
        "We loaded the data, looked at the first rows of the table."
      ]
    },
    {
      "cell_type": "code",
      "execution_count": 5,
      "metadata": {
        "colab": {
          "base_uri": "https://localhost:8080/"
        },
        "id": "Mmm861z6pbax",
        "outputId": "8b2ecb70-8334-4d02-f572-1d07bf0134ec"
      },
      "outputs": [
        {
          "output_type": "stream",
          "name": "stdout",
          "text": [
            "<class 'pandas.core.frame.DataFrame'>\n",
            "RangeIndex: 5000 entries, 0 to 4999\n",
            "Data columns (total 5 columns):\n",
            " #   Column             Non-Null Count  Dtype  \n",
            "---  ------             --------------  -----  \n",
            " 0   Пол                5000 non-null   int64  \n",
            " 1   Возраст            5000 non-null   float64\n",
            " 2   Зарплата           5000 non-null   float64\n",
            " 3   Члены семьи        5000 non-null   int64  \n",
            " 4   Страховые выплаты  5000 non-null   int64  \n",
            "dtypes: float64(2), int64(3)\n",
            "memory usage: 195.4 KB\n"
          ]
        }
      ],
      "source": [
        "df.info()"
      ]
    },
    {
      "cell_type": "markdown",
      "metadata": {
        "id": "iBtWhRjspbay"
      },
      "source": [
        "We looked at the types of columns, made sure that there are no gaps."
      ]
    },
    {
      "cell_type": "code",
      "execution_count": 6,
      "metadata": {
        "scrolled": true,
        "colab": {
          "base_uri": "https://localhost:8080/",
          "height": 300
        },
        "id": "XXlkHSKapbay",
        "outputId": "95800def-d1ec-4532-fb10-6a9a8896a820"
      },
      "outputs": [
        {
          "output_type": "execute_result",
          "data": {
            "text/plain": [
              "               Пол      Возраст      Зарплата  Члены семьи  Страховые выплаты\n",
              "count  5000.000000  5000.000000   5000.000000  5000.000000        5000.000000\n",
              "mean      0.499000    30.952800  39916.360000     1.194200           0.148000\n",
              "std       0.500049     8.440807   9900.083569     1.091387           0.463183\n",
              "min       0.000000    18.000000   5300.000000     0.000000           0.000000\n",
              "25%       0.000000    24.000000  33300.000000     0.000000           0.000000\n",
              "50%       0.000000    30.000000  40200.000000     1.000000           0.000000\n",
              "75%       1.000000    37.000000  46600.000000     2.000000           0.000000\n",
              "max       1.000000    65.000000  79000.000000     6.000000           5.000000"
            ],
            "text/html": [
              "\n",
              "  <div id=\"df-fcfbf1df-e8b0-493e-a827-f577296a1dfa\">\n",
              "    <div class=\"colab-df-container\">\n",
              "      <div>\n",
              "<style scoped>\n",
              "    .dataframe tbody tr th:only-of-type {\n",
              "        vertical-align: middle;\n",
              "    }\n",
              "\n",
              "    .dataframe tbody tr th {\n",
              "        vertical-align: top;\n",
              "    }\n",
              "\n",
              "    .dataframe thead th {\n",
              "        text-align: right;\n",
              "    }\n",
              "</style>\n",
              "<table border=\"1\" class=\"dataframe\">\n",
              "  <thead>\n",
              "    <tr style=\"text-align: right;\">\n",
              "      <th></th>\n",
              "      <th>Пол</th>\n",
              "      <th>Возраст</th>\n",
              "      <th>Зарплата</th>\n",
              "      <th>Члены семьи</th>\n",
              "      <th>Страховые выплаты</th>\n",
              "    </tr>\n",
              "  </thead>\n",
              "  <tbody>\n",
              "    <tr>\n",
              "      <th>count</th>\n",
              "      <td>5000.000000</td>\n",
              "      <td>5000.000000</td>\n",
              "      <td>5000.000000</td>\n",
              "      <td>5000.000000</td>\n",
              "      <td>5000.000000</td>\n",
              "    </tr>\n",
              "    <tr>\n",
              "      <th>mean</th>\n",
              "      <td>0.499000</td>\n",
              "      <td>30.952800</td>\n",
              "      <td>39916.360000</td>\n",
              "      <td>1.194200</td>\n",
              "      <td>0.148000</td>\n",
              "    </tr>\n",
              "    <tr>\n",
              "      <th>std</th>\n",
              "      <td>0.500049</td>\n",
              "      <td>8.440807</td>\n",
              "      <td>9900.083569</td>\n",
              "      <td>1.091387</td>\n",
              "      <td>0.463183</td>\n",
              "    </tr>\n",
              "    <tr>\n",
              "      <th>min</th>\n",
              "      <td>0.000000</td>\n",
              "      <td>18.000000</td>\n",
              "      <td>5300.000000</td>\n",
              "      <td>0.000000</td>\n",
              "      <td>0.000000</td>\n",
              "    </tr>\n",
              "    <tr>\n",
              "      <th>25%</th>\n",
              "      <td>0.000000</td>\n",
              "      <td>24.000000</td>\n",
              "      <td>33300.000000</td>\n",
              "      <td>0.000000</td>\n",
              "      <td>0.000000</td>\n",
              "    </tr>\n",
              "    <tr>\n",
              "      <th>50%</th>\n",
              "      <td>0.000000</td>\n",
              "      <td>30.000000</td>\n",
              "      <td>40200.000000</td>\n",
              "      <td>1.000000</td>\n",
              "      <td>0.000000</td>\n",
              "    </tr>\n",
              "    <tr>\n",
              "      <th>75%</th>\n",
              "      <td>1.000000</td>\n",
              "      <td>37.000000</td>\n",
              "      <td>46600.000000</td>\n",
              "      <td>2.000000</td>\n",
              "      <td>0.000000</td>\n",
              "    </tr>\n",
              "    <tr>\n",
              "      <th>max</th>\n",
              "      <td>1.000000</td>\n",
              "      <td>65.000000</td>\n",
              "      <td>79000.000000</td>\n",
              "      <td>6.000000</td>\n",
              "      <td>5.000000</td>\n",
              "    </tr>\n",
              "  </tbody>\n",
              "</table>\n",
              "</div>\n",
              "      <button class=\"colab-df-convert\" onclick=\"convertToInteractive('df-fcfbf1df-e8b0-493e-a827-f577296a1dfa')\"\n",
              "              title=\"Convert this dataframe to an interactive table.\"\n",
              "              style=\"display:none;\">\n",
              "        \n",
              "  <svg xmlns=\"http://www.w3.org/2000/svg\" height=\"24px\"viewBox=\"0 0 24 24\"\n",
              "       width=\"24px\">\n",
              "    <path d=\"M0 0h24v24H0V0z\" fill=\"none\"/>\n",
              "    <path d=\"M18.56 5.44l.94 2.06.94-2.06 2.06-.94-2.06-.94-.94-2.06-.94 2.06-2.06.94zm-11 1L8.5 8.5l.94-2.06 2.06-.94-2.06-.94L8.5 2.5l-.94 2.06-2.06.94zm10 10l.94 2.06.94-2.06 2.06-.94-2.06-.94-.94-2.06-.94 2.06-2.06.94z\"/><path d=\"M17.41 7.96l-1.37-1.37c-.4-.4-.92-.59-1.43-.59-.52 0-1.04.2-1.43.59L10.3 9.45l-7.72 7.72c-.78.78-.78 2.05 0 2.83L4 21.41c.39.39.9.59 1.41.59.51 0 1.02-.2 1.41-.59l7.78-7.78 2.81-2.81c.8-.78.8-2.07 0-2.86zM5.41 20L4 18.59l7.72-7.72 1.47 1.35L5.41 20z\"/>\n",
              "  </svg>\n",
              "      </button>\n",
              "      \n",
              "  <style>\n",
              "    .colab-df-container {\n",
              "      display:flex;\n",
              "      flex-wrap:wrap;\n",
              "      gap: 12px;\n",
              "    }\n",
              "\n",
              "    .colab-df-convert {\n",
              "      background-color: #E8F0FE;\n",
              "      border: none;\n",
              "      border-radius: 50%;\n",
              "      cursor: pointer;\n",
              "      display: none;\n",
              "      fill: #1967D2;\n",
              "      height: 32px;\n",
              "      padding: 0 0 0 0;\n",
              "      width: 32px;\n",
              "    }\n",
              "\n",
              "    .colab-df-convert:hover {\n",
              "      background-color: #E2EBFA;\n",
              "      box-shadow: 0px 1px 2px rgba(60, 64, 67, 0.3), 0px 1px 3px 1px rgba(60, 64, 67, 0.15);\n",
              "      fill: #174EA6;\n",
              "    }\n",
              "\n",
              "    [theme=dark] .colab-df-convert {\n",
              "      background-color: #3B4455;\n",
              "      fill: #D2E3FC;\n",
              "    }\n",
              "\n",
              "    [theme=dark] .colab-df-convert:hover {\n",
              "      background-color: #434B5C;\n",
              "      box-shadow: 0px 1px 3px 1px rgba(0, 0, 0, 0.15);\n",
              "      filter: drop-shadow(0px 1px 2px rgba(0, 0, 0, 0.3));\n",
              "      fill: #FFFFFF;\n",
              "    }\n",
              "  </style>\n",
              "\n",
              "      <script>\n",
              "        const buttonEl =\n",
              "          document.querySelector('#df-fcfbf1df-e8b0-493e-a827-f577296a1dfa button.colab-df-convert');\n",
              "        buttonEl.style.display =\n",
              "          google.colab.kernel.accessAllowed ? 'block' : 'none';\n",
              "\n",
              "        async function convertToInteractive(key) {\n",
              "          const element = document.querySelector('#df-fcfbf1df-e8b0-493e-a827-f577296a1dfa');\n",
              "          const dataTable =\n",
              "            await google.colab.kernel.invokeFunction('convertToInteractive',\n",
              "                                                     [key], {});\n",
              "          if (!dataTable) return;\n",
              "\n",
              "          const docLinkHtml = 'Like what you see? Visit the ' +\n",
              "            '<a target=\"_blank\" href=https://colab.research.google.com/notebooks/data_table.ipynb>data table notebook</a>'\n",
              "            + ' to learn more about interactive tables.';\n",
              "          element.innerHTML = '';\n",
              "          dataTable['output_type'] = 'display_data';\n",
              "          await google.colab.output.renderOutput(dataTable, element);\n",
              "          const docLink = document.createElement('div');\n",
              "          docLink.innerHTML = docLinkHtml;\n",
              "          element.appendChild(docLink);\n",
              "        }\n",
              "      </script>\n",
              "    </div>\n",
              "  </div>\n",
              "  "
            ]
          },
          "metadata": {},
          "execution_count": 6
        }
      ],
      "source": [
        "df.describe()"
      ]
    },
    {
      "cell_type": "code",
      "execution_count": 7,
      "metadata": {
        "scrolled": false,
        "colab": {
          "base_uri": "https://localhost:8080/",
          "height": 553
        },
        "id": "kSaqxazapbay",
        "outputId": "3a169512-4f46-42ab-de56-f974002ebbfe"
      },
      "outputs": [
        {
          "output_type": "display_data",
          "data": {
            "text/plain": [
              "<Figure size 1152x648 with 6 Axes>"
            ],
            "image/png": "[encoded data removed]"
          },
          "metadata": {
            "needs_background": "light"
          }
        }
      ],
      "source": [
        "df.hist(figsize=(16,9), bins=30);"
      ]
    },
    {
      "cell_type": "markdown",
      "metadata": {
        "id": "eVQY3Mjipbaz"
      },
      "source": [
        "We looked at the distribution of features and the target feature."
      ]
    },
    {
      "cell_type": "code",
      "execution_count": 8,
      "metadata": {
        "id": "GYUpqedEpbaz"
      },
      "outputs": [],
      "source": [
        "df.columns = ['sex', 'age', 'salary', 'family_count', 'insurance_count']"
      ]
    },
    {
      "cell_type": "markdown",
      "metadata": {
        "id": "iwG2z_Dgpbaz"
      },
      "source": [
        "Renamed columns"
      ]
    },
    {
      "cell_type": "markdown",
      "metadata": {
        "id": "ckpXpSImpba0"
      },
      "source": [
        "## Matrix multiplication"
      ]
    },
    {
      "cell_type": "markdown",
      "metadata": {
        "id": "ydT58pVFpba0"
      },
      "source": [
        "Let's answer the following question: features are multiplied by an invertible matrix. Will the quality of linear regression change? From the definition of an invertible matrix, we know that an invertible matrix is square. If the original feature matrix $X$ has size $(n\\times m)$, then the matrix $P$, by which $X$ is multiplied, has the only possible size $(m\\times m)$. Let's experiment and see what happens. First, we train the model on the initial features."
      ]
    },
    {
      "cell_type": "code",
      "execution_count": 9,
      "metadata": {
        "colab": {
          "base_uri": "https://localhost:8080/"
        },
        "id": "0MfSaO-ypba0",
        "outputId": "e98412ce-a009-4629-ccff-b15ea7a99874"
      },
      "outputs": [
        {
          "output_type": "execute_result",
          "data": {
            "text/plain": [
              "0.32377322792427543"
            ]
          },
          "metadata": {},
          "execution_count": 9
        }
      ],
      "source": [
        "X = df.drop('insurance_count', axis=1).values\n",
        "y = df['insurance_count'].values\n",
        "X_train, X_valid, y_train, y_valid = train_test_split(X,y, test_size=0.25,\n",
        "                                                      random_state=1)\n",
        "model = LinearRegression()\n",
        "model.fit(X_train, y_train)\n",
        "predict = model.predict(X_valid)\n",
        "r2 = r2_score(y_valid, predict)\n",
        "r2"
      ]
    },
    {
      "cell_type": "markdown",
      "metadata": {
        "id": "MhpdE7Shpba1"
      },
      "source": [
        "Now we take random matrix $P$"
      ]
    },
    {
      "cell_type": "code",
      "execution_count": 10,
      "metadata": {
        "colab": {
          "base_uri": "https://localhost:8080/"
        },
        "id": "-ZGnWpvIpba2",
        "outputId": "9a514db0-bc69-4fa5-bf67-d9d35529f9d2"
      },
      "outputs": [
        {
          "output_type": "execute_result",
          "data": {
            "text/plain": [
              "array([[77, 15, 57, 63],\n",
              "       [32, 77, 93, 72],\n",
              "       [33, 29, 64, 50],\n",
              "       [40, 94, 59, 25]])"
            ]
          },
          "metadata": {},
          "execution_count": 10
        }
      ],
      "source": [
        "np.random.seed(2007)\n",
        "P = np.random.randint(100, size=(X_train.shape[1], (X_train.shape[1])))\n",
        "P"
      ]
    },
    {
      "cell_type": "markdown",
      "metadata": {
        "id": "-PLB0xy1pba2"
      },
      "source": [
        "Let us verify that $P$ is invertible."
      ]
    },
    {
      "cell_type": "code",
      "execution_count": 11,
      "metadata": {
        "colab": {
          "base_uri": "https://localhost:8080/"
        },
        "id": "wd2-neRXpba2",
        "outputId": "a048c084-2f6b-44fc-a155-bc53db5f64d5"
      },
      "outputs": [
        {
          "output_type": "execute_result",
          "data": {
            "text/plain": [
              "array([[ 0.01252585, -0.01837464,  0.00490755,  0.01153873],\n",
              "       [ 0.00621238,  0.02140565, -0.04103839,  0.00477333],\n",
              "       [-0.02919413, -0.047035  ,  0.09804536,  0.01293927],\n",
              "       [ 0.02549824,  0.05991678, -0.08493478, -0.02694636]])"
            ]
          },
          "metadata": {},
          "execution_count": 11
        }
      ],
      "source": [
        "np.linalg.inv(P)"
      ]
    },
    {
      "cell_type": "markdown",
      "metadata": {
        "id": "bUcNeR5Kpba3"
      },
      "source": [
        "Now we train the model on $X$ multiplied by $P$ features"
      ]
    },
    {
      "cell_type": "code",
      "execution_count": 12,
      "metadata": {
        "colab": {
          "base_uri": "https://localhost:8080/"
        },
        "id": "oQBZPXD_pba3",
        "outputId": "71538816-b543-491f-f772-9c075b42e118"
      },
      "outputs": [
        {
          "output_type": "execute_result",
          "data": {
            "text/plain": [
              "0.3237732279243868"
            ]
          },
          "metadata": {},
          "execution_count": 12
        }
      ],
      "source": [
        "model = LinearRegression()\n",
        "model.fit(X_train@P, y_train)\n",
        "predict = model.predict(X_valid@P)\n",
        "r2 = r2_score(y_valid, predict)\n",
        "r2"
      ]
    },
    {
      "cell_type": "markdown",
      "metadata": {
        "id": "-0USXuGBpba4"
      },
      "source": [
        "We got the same R2-score as for the model trained on the initial features considering the computation error. Our assumption is as follows: multiplication of the feature matrix $X$ by the invertible matrix $P$ does not affect the prediction of the model. Let's try to establish whether this is so. To do this, we use the properties of transposed and inverse matrices __[here](https://en.wikipedia.org/wiki/Transpose)__ and __[here](https://en.wikipedia.org/wiki/Invertible_matrix)__, specifically $(AB)^T = B^TA^T$; $(AB)^{-1} = B^{-1}A^{-1}$."
      ]
    },
    {
      "cell_type": "markdown",
      "metadata": {
        "id": "tXwtiJ4Gpba4"
      },
      "source": [
        "It is known that linear regression model predictions are written as $a = Xw$, where $X$ is the feature matrix, $w$ is the vector of linear regression weights. It is known that\n",
        "\n",
        "$$\n",
        "w = (X^T X)^{-1} X^T y\n",
        "$$\n",
        "where $y$ - target vector. Let $X'$ = $XP$, the original matrix $X$ multiplied by some invertible matrix $P$. Then $w' = (X'^T X')^{-1} X'^T y$; $a'=X'w'.$ Let's compare $a$ and $a'$"
      ]
    },
    {
      "cell_type": "markdown",
      "metadata": {
        "id": "WqJdjtyUpba4"
      },
      "source": [
        "$$\n",
        "w' = (X'^T X')^{-1} X'^T y = ((XP)^TXP)^{-1}(XP)^Ty =\n",
        "$$\n",
        "$$\n",
        "= P^{-1}((XP)^TX)^{-1}(XP)^Ty = P^{-1}(P^TX^TX)^{-1}P^TX^Ty =\n",
        "$$\n",
        "$$\n",
        "= P^{-1}(X^TX)^{-1}(P^T)^{-1}P^TX^Ty = P^{-1}(X^TX)^{-1}X^Ty\n",
        "$$"
      ]
    },
    {
      "cell_type": "markdown",
      "metadata": {
        "id": "7KH8wjY-pba5"
      },
      "source": [
        "Then\n",
        "\n",
        "$$\n",
        "a'=X'w'=XPP^{-1}(X^TX)^{-1}X^Ty = X(X^TX)^{-1}X^Ty =\n",
        "$$\n",
        "$$\n",
        "= Xw = a\n",
        "$$\n",
        "\n",
        "Thus, we made sure that the predictions of $a$ and $a'$ are equal, and our assumption that multiplying $X$ by $P$ does not affect the prediction of the linear regression model turned out to be correct."
      ]
    },
    {
      "cell_type": "markdown",
      "metadata": {
        "id": "4ow03dtvpba5"
      },
      "source": [
        "## Transformation algorithm"
      ]
    },
    {
      "cell_type": "markdown",
      "metadata": {
        "id": "j6XnWWaJpba5"
      },
      "source": [
        "Based on the above, the transformation algorithm for protecting clients data is described as follows. We multiply personal data, which is a matrix of features $X$ by some invertible matrix $P$, which we will keep secret. The linear regression model is trained on the transformed data. At the moment the model is used for prediction, the data for which the prediction needs to be made is also multiplied by the secret matrix $P$. For the reasons described above, the quality of the linear regression will remain unchanged and the original data will be protected."
      ]
    },
    {
      "cell_type": "markdown",
      "metadata": {
        "id": "ZD2AlvHVpba6"
      },
      "source": [
        "## Algorithm test"
      ]
    },
    {
      "cell_type": "markdown",
      "metadata": {
        "id": "WySuTVRxpba6"
      },
      "source": [
        "The algorithm has, in fact, already been tested in Section 2 where we checked what will happen if we multiply the feature matrix by some other invertible matrix. Our customer is happy and the clients data is protected :)"
      ]
    }
  ],
  "metadata": {
    "ExecuteTimeLog": [
      {
        "duration": 552,
        "start_time": "2022-05-24T12:14:13.247Z"
      },
      {
        "duration": 94,
        "start_time": "2022-05-24T12:14:34.143Z"
      },
      {
        "duration": 15,
        "start_time": "2022-05-24T12:14:59.550Z"
      },
      {
        "duration": 16,
        "start_time": "2022-05-24T12:15:29.759Z"
      },
      {
        "duration": 33,
        "start_time": "2022-05-24T12:15:43.981Z"
      },
      {
        "duration": 808,
        "start_time": "2022-05-24T14:14:10.888Z"
      },
      {
        "duration": 3,
        "start_time": "2022-05-24T14:15:28.797Z"
      },
      {
        "duration": 4,
        "start_time": "2022-05-24T14:16:31.705Z"
      },
      {
        "duration": 4,
        "start_time": "2022-05-24T14:16:34.918Z"
      },
      {
        "duration": 3,
        "start_time": "2022-05-24T14:16:58.239Z"
      },
      {
        "duration": 3,
        "start_time": "2022-05-24T14:17:16.934Z"
      },
      {
        "duration": 118,
        "start_time": "2022-05-24T14:18:03.878Z"
      },
      {
        "duration": 4,
        "start_time": "2022-05-24T14:18:25.215Z"
      },
      {
        "duration": 4,
        "start_time": "2022-05-24T14:18:28.213Z"
      },
      {
        "duration": 17,
        "start_time": "2022-05-24T14:19:12.782Z"
      },
      {
        "duration": 4,
        "start_time": "2022-05-24T14:19:26.141Z"
      },
      {
        "duration": 3,
        "start_time": "2022-05-24T14:19:30.532Z"
      },
      {
        "duration": 6,
        "start_time": "2022-05-24T14:19:41.957Z"
      },
      {
        "duration": 4,
        "start_time": "2022-05-24T14:19:43.196Z"
      },
      {
        "duration": 8,
        "start_time": "2022-05-24T14:19:45.177Z"
      },
      {
        "duration": 4,
        "start_time": "2022-05-24T14:20:20.604Z"
      },
      {
        "duration": 3,
        "start_time": "2022-05-24T14:20:21.324Z"
      },
      {
        "duration": 6,
        "start_time": "2022-05-24T14:20:22.396Z"
      },
      {
        "duration": 3,
        "start_time": "2022-05-24T14:20:55.308Z"
      },
      {
        "duration": 4,
        "start_time": "2022-05-24T14:21:21.770Z"
      },
      {
        "duration": 3,
        "start_time": "2022-05-24T14:21:40.092Z"
      },
      {
        "duration": 4,
        "start_time": "2022-05-24T14:21:46.539Z"
      },
      {
        "duration": 5,
        "start_time": "2022-05-24T14:22:04.981Z"
      },
      {
        "duration": 28,
        "start_time": "2022-05-24T14:22:05.491Z"
      },
      {
        "duration": 13,
        "start_time": "2022-05-24T14:22:05.880Z"
      },
      {
        "duration": 12,
        "start_time": "2022-05-24T14:22:06.651Z"
      },
      {
        "duration": 25,
        "start_time": "2022-05-24T14:22:08.732Z"
      },
      {
        "duration": 3,
        "start_time": "2022-05-24T14:22:09.811Z"
      },
      {
        "duration": 4,
        "start_time": "2022-05-24T14:22:10.547Z"
      },
      {
        "duration": 2,
        "start_time": "2022-05-24T14:22:11.219Z"
      },
      {
        "duration": 2,
        "start_time": "2022-05-24T14:22:11.692Z"
      },
      {
        "duration": 4,
        "start_time": "2022-05-24T14:22:12.138Z"
      },
      {
        "duration": 5,
        "start_time": "2022-05-24T14:22:12.506Z"
      },
      {
        "duration": 10,
        "start_time": "2022-05-24T14:22:13.080Z"
      },
      {
        "duration": 4,
        "start_time": "2022-05-24T14:22:15.280Z"
      },
      {
        "duration": 3,
        "start_time": "2022-05-24T14:22:15.763Z"
      },
      {
        "duration": 4,
        "start_time": "2022-05-24T14:22:16.091Z"
      },
      {
        "duration": 3,
        "start_time": "2022-05-24T14:22:38.180Z"
      },
      {
        "duration": 4,
        "start_time": "2022-05-24T14:24:37.491Z"
      },
      {
        "duration": 4,
        "start_time": "2022-05-24T14:24:55.914Z"
      },
      {
        "duration": 22,
        "start_time": "2022-05-24T14:26:04.537Z"
      },
      {
        "duration": 3,
        "start_time": "2022-05-24T14:26:12.145Z"
      },
      {
        "duration": 5,
        "start_time": "2022-05-24T14:26:17.113Z"
      },
      {
        "duration": 6,
        "start_time": "2022-05-24T14:27:03.441Z"
      },
      {
        "duration": 8,
        "start_time": "2022-05-24T14:27:27.762Z"
      },
      {
        "duration": 4,
        "start_time": "2022-05-24T14:27:39.618Z"
      },
      {
        "duration": 4,
        "start_time": "2022-05-24T14:27:43.285Z"
      },
      {
        "duration": 3,
        "start_time": "2022-05-24T14:28:19.937Z"
      },
      {
        "duration": 8,
        "start_time": "2022-05-24T14:28:20.464Z"
      },
      {
        "duration": 4,
        "start_time": "2022-05-24T14:28:20.756Z"
      },
      {
        "duration": 69,
        "start_time": "2022-06-03T05:27:47.009Z"
      },
      {
        "duration": 990,
        "start_time": "2022-06-03T05:27:51.129Z"
      },
      {
        "duration": 84,
        "start_time": "2022-06-03T05:27:52.121Z"
      },
      {
        "duration": 72,
        "start_time": "2022-06-03T05:27:52.207Z"
      },
      {
        "duration": 17,
        "start_time": "2022-06-03T05:27:53.070Z"
      },
      {
        "duration": 28,
        "start_time": "2022-06-03T05:27:53.482Z"
      },
      {
        "duration": 3,
        "start_time": "2022-06-03T05:27:54.042Z"
      },
      {
        "duration": 5,
        "start_time": "2022-06-03T05:27:54.373Z"
      },
      {
        "duration": 4,
        "start_time": "2022-06-03T05:27:55.775Z"
      },
      {
        "duration": 2,
        "start_time": "2022-06-03T05:27:56.113Z"
      },
      {
        "duration": 5,
        "start_time": "2022-06-03T05:27:56.482Z"
      },
      {
        "duration": 5,
        "start_time": "2022-06-03T05:27:56.820Z"
      },
      {
        "duration": 10,
        "start_time": "2022-06-03T05:27:57.163Z"
      },
      {
        "duration": 5,
        "start_time": "2022-06-03T05:27:57.491Z"
      },
      {
        "duration": 3,
        "start_time": "2022-06-03T05:27:57.818Z"
      },
      {
        "duration": 4,
        "start_time": "2022-06-03T05:27:58.129Z"
      },
      {
        "duration": 12,
        "start_time": "2022-06-03T05:27:58.467Z"
      },
      {
        "duration": 4,
        "start_time": "2022-06-03T05:27:58.803Z"
      },
      {
        "duration": 4,
        "start_time": "2022-06-03T05:27:59.105Z"
      },
      {
        "duration": 7,
        "start_time": "2022-06-03T05:27:59.419Z"
      },
      {
        "duration": 12,
        "start_time": "2022-06-03T05:28:00.364Z"
      },
      {
        "duration": 4,
        "start_time": "2022-06-03T05:28:00.714Z"
      },
      {
        "duration": 4,
        "start_time": "2022-06-03T05:28:01.034Z"
      },
      {
        "duration": 9,
        "start_time": "2022-06-03T05:28:02.617Z"
      },
      {
        "duration": 9,
        "start_time": "2022-06-03T05:28:05.876Z"
      },
      {
        "duration": 3,
        "start_time": "2022-06-03T05:29:02.113Z"
      },
      {
        "duration": 72,
        "start_time": "2022-06-03T05:29:05.955Z"
      },
      {
        "duration": 4,
        "start_time": "2022-06-03T05:29:08.723Z"
      },
      {
        "duration": 5,
        "start_time": "2022-06-03T05:29:59.980Z"
      },
      {
        "duration": 22,
        "start_time": "2022-06-03T05:31:09.810Z"
      },
      {
        "duration": 6,
        "start_time": "2022-06-03T05:31:39.248Z"
      },
      {
        "duration": 1202,
        "start_time": "2022-06-03T06:15:48.577Z"
      },
      {
        "duration": 994,
        "start_time": "2022-06-03T06:15:56.841Z"
      },
      {
        "duration": 1015,
        "start_time": "2022-06-03T06:15:59.537Z"
      },
      {
        "duration": 793,
        "start_time": "2022-06-03T06:16:07.553Z"
      },
      {
        "duration": 29,
        "start_time": "2022-06-03T06:18:09.576Z"
      },
      {
        "duration": 934,
        "start_time": "2022-06-03T06:39:53.053Z"
      },
      {
        "duration": 28,
        "start_time": "2022-06-03T06:39:53.989Z"
      },
      {
        "duration": 77,
        "start_time": "2022-06-03T06:39:54.022Z"
      },
      {
        "duration": 12,
        "start_time": "2022-06-03T06:39:54.100Z"
      },
      {
        "duration": 27,
        "start_time": "2022-06-03T06:39:54.114Z"
      },
      {
        "duration": 1102,
        "start_time": "2022-06-03T06:39:54.143Z"
      },
      {
        "duration": 4,
        "start_time": "2022-06-03T06:39:55.247Z"
      },
      {
        "duration": 15,
        "start_time": "2022-06-03T06:39:55.258Z"
      },
      {
        "duration": 17,
        "start_time": "2022-06-03T06:39:55.278Z"
      },
      {
        "duration": 11,
        "start_time": "2022-06-03T06:39:55.297Z"
      },
      {
        "duration": 55,
        "start_time": "2022-06-03T06:39:55.310Z"
      }
    ],
    "kernelspec": {
      "display_name": "Python 3 (ipykernel)",
      "language": "python",
      "name": "python3"
    },
    "language_info": {
      "codemirror_mode": {
        "name": "ipython",
        "version": 3
      },
      "file_extension": ".py",
      "mimetype": "text/x-python",
      "name": "python",
      "nbconvert_exporter": "python",
      "pygments_lexer": "ipython3",
      "version": "3.9.5"
    },
    "toc": {
      "base_numbering": 1,
      "nav_menu": {},
      "number_sections": true,
      "sideBar": true,
      "skip_h1_title": true,
      "title_cell": "Содержание",
      "title_sidebar": "Contents",
      "toc_cell": true,
      "toc_position": {},
      "toc_section_display": true,
      "toc_window_display": false
    },
    "colab": {
      "name": "10_EN_Linear_algebra.ipynb",
      "provenance": [],
      "collapsed_sections": [],
      "include_colab_link": true
    }
  },
  "nbformat": 4,
  "nbformat_minor": 0
}