{
  "cells": [
    {
      "cell_type": "markdown",
      "metadata": {
        "id": "view-in-github",
        "colab_type": "text"
      },
      "source": [
        "<a href=\"https://colab.research.google.com/github/pingwx/ya.prac/blob/main/07_Supervised_learning/07_RU_Supervised_learning.ipynb\" target=\"_parent\"><img src=\"https://colab.research.google.com/assets/colab-badge.svg\" alt=\"Open In Colab\"/></a>"
      ]
    },
    {
      "cell_type": "markdown",
      "metadata": {
        "id": "3F7lyqxm56qA"
      },
      "source": [
        "# Отток клиентов"
      ]
    },
    {
      "cell_type": "markdown",
      "metadata": {
        "id": "Yr9DoHaY56qA"
      },
      "source": [
        "В нашем распоряжении данные о клиентах банка \"Бета-Банк\". Заказчик обращает внимание, что за последнее время у него увеличился отток клиентов и просит построить модель для прогнозирования, уйдет клиент в ближайшее время или нет. Это позволит определить стратегию для отдела маркетинга.\n",
        "\n",
        "**Описание данных**\n",
        "\n",
        "- `RowNumber` — индекс строки в данных\n",
        "- `CustomerId` — уникальный идентификатор клиента\n",
        "- `Surname` — фамилия\n",
        "- `CreditScore` — кредитный рейтинг\n",
        "- `Geography` — страна проживания\n",
        "- `Gender` — пол\n",
        "- `Age` — возраст\n",
        "- `Tenure` — сколько лет человек является клиентом банка\n",
        "- `Balance` — баланс на счёте\n",
        "- `NumOfProducts` — количество продуктов банка, используемых клиентом\n",
        "- `HasCrCard` — наличие кредитной карты\n",
        "- `IsActiveMember` — активность клиента\n",
        "- `EstimatedSalary` — предполагаемая зарплата\n",
        "- `Exited` — факт ухода клиента"
      ]
    },
    {
      "cell_type": "markdown",
      "metadata": {
        "id": "DXBRQTNm56qC"
      },
      "source": [
        "## Подготовка данных"
      ]
    },
    {
      "cell_type": "code",
      "execution_count": 2,
      "metadata": {
        "id": "pfxQMzAh56qD"
      },
      "outputs": [],
      "source": [
        "import pandas as pd\n",
        "import matplotlib.pyplot as plt\n",
        "import numpy as np\n",
        "\n",
        "from sklearn.tree import DecisionTreeClassifier\n",
        "from sklearn.ensemble import RandomForestClassifier\n",
        "from sklearn.linear_model import LogisticRegression\n",
        "\n",
        "from sklearn.model_selection import train_test_split\n",
        "from sklearn.utils import shuffle\n",
        "from sklearn.preprocessing import StandardScaler\n",
        "\n",
        "from sklearn.metrics import accuracy_score\n",
        "from sklearn.metrics import f1_score\n",
        "from sklearn.metrics import precision_score\n",
        "from sklearn.metrics import recall_score\n",
        "from sklearn.metrics import roc_auc_score\n",
        "from sklearn.metrics import roc_curve\n",
        "from sklearn.metrics import precision_recall_curve"
      ]
    },
    {
      "cell_type": "code",
      "execution_count": null,
      "metadata": {
        "id": "4zghQqLG56qF"
      },
      "outputs": [],
      "source": [
        "df = pd.read_csv('/content/Churn.csv')"
      ]
    },
    {
      "cell_type": "code",
      "execution_count": 4,
      "metadata": {
        "scrolled": true,
        "id": "RuQY8OfU56qF",
        "outputId": "cfb7fa21-8f9a-41a4-84a1-72da7d819106",
        "colab": {
          "base_uri": "https://localhost:8080/",
          "height": 206
        }
      },
      "outputs": [
        {
          "output_type": "execute_result",
          "data": {
            "text/plain": [
              "   RowNumber  CustomerId   Surname  CreditScore Geography  Gender  Age  \\\n",
              "0          1    15634602  Hargrave          619    France  Female   42   \n",
              "1          2    15647311      Hill          608     Spain  Female   41   \n",
              "2          3    15619304      Onio          502    France  Female   42   \n",
              "3          4    15701354      Boni          699    France  Female   39   \n",
              "4          5    15737888  Mitchell          850     Spain  Female   43   \n",
              "\n",
              "   Tenure    Balance  NumOfProducts  HasCrCard  IsActiveMember  \\\n",
              "0     2.0       0.00              1          1               1   \n",
              "1     1.0   83807.86              1          0               1   \n",
              "2     8.0  159660.80              3          1               0   \n",
              "3     1.0       0.00              2          0               0   \n",
              "4     2.0  125510.82              1          1               1   \n",
              "\n",
              "   EstimatedSalary  Exited  \n",
              "0        101348.88       1  \n",
              "1        112542.58       0  \n",
              "2        113931.57       1  \n",
              "3         93826.63       0  \n",
              "4         79084.10       0  "
            ],
            "text/html": [
              "\n",
              "  <div id=\"df-9ec9f71d-9b24-498e-a456-e21e111a7838\">\n",
              "    <div class=\"colab-df-container\">\n",
              "      <div>\n",
              "<style scoped>\n",
              "    .dataframe tbody tr th:only-of-type {\n",
              "        vertical-align: middle;\n",
              "    }\n",
              "\n",
              "    .dataframe tbody tr th {\n",
              "        vertical-align: top;\n",
              "    }\n",
              "\n",
              "    .dataframe thead th {\n",
              "        text-align: right;\n",
              "    }\n",
              "</style>\n",
              "<table border=\"1\" class=\"dataframe\">\n",
              "  <thead>\n",
              "    <tr style=\"text-align: right;\">\n",
              "      <th></th>\n",
              "      <th>RowNumber</th>\n",
              "      <th>CustomerId</th>\n",
              "      <th>Surname</th>\n",
              "      <th>CreditScore</th>\n",
              "      <th>Geography</th>\n",
              "      <th>Gender</th>\n",
              "      <th>Age</th>\n",
              "      <th>Tenure</th>\n",
              "      <th>Balance</th>\n",
              "      <th>NumOfProducts</th>\n",
              "      <th>HasCrCard</th>\n",
              "      <th>IsActiveMember</th>\n",
              "      <th>EstimatedSalary</th>\n",
              "      <th>Exited</th>\n",
              "    </tr>\n",
              "  </thead>\n",
              "  <tbody>\n",
              "    <tr>\n",
              "      <th>0</th>\n",
              "      <td>1</td>\n",
              "      <td>15634602</td>\n",
              "      <td>Hargrave</td>\n",
              "      <td>619</td>\n",
              "      <td>France</td>\n",
              "      <td>Female</td>\n",
              "      <td>42</td>\n",
              "      <td>2.0</td>\n",
              "      <td>0.00</td>\n",
              "      <td>1</td>\n",
              "      <td>1</td>\n",
              "      <td>1</td>\n",
              "      <td>101348.88</td>\n",
              "      <td>1</td>\n",
              "    </tr>\n",
              "    <tr>\n",
              "      <th>1</th>\n",
              "      <td>2</td>\n",
              "      <td>15647311</td>\n",
              "      <td>Hill</td>\n",
              "      <td>608</td>\n",
              "      <td>Spain</td>\n",
              "      <td>Female</td>\n",
              "      <td>41</td>\n",
              "      <td>1.0</td>\n",
              "      <td>83807.86</td>\n",
              "      <td>1</td>\n",
              "      <td>0</td>\n",
              "      <td>1</td>\n",
              "      <td>112542.58</td>\n",
              "      <td>0</td>\n",
              "    </tr>\n",
              "    <tr>\n",
              "      <th>2</th>\n",
              "      <td>3</td>\n",
              "      <td>15619304</td>\n",
              "      <td>Onio</td>\n",
              "      <td>502</td>\n",
              "      <td>France</td>\n",
              "      <td>Female</td>\n",
              "      <td>42</td>\n",
              "      <td>8.0</td>\n",
              "      <td>159660.80</td>\n",
              "      <td>3</td>\n",
              "      <td>1</td>\n",
              "      <td>0</td>\n",
              "      <td>113931.57</td>\n",
              "      <td>1</td>\n",
              "    </tr>\n",
              "    <tr>\n",
              "      <th>3</th>\n",
              "      <td>4</td>\n",
              "      <td>15701354</td>\n",
              "      <td>Boni</td>\n",
              "      <td>699</td>\n",
              "      <td>France</td>\n",
              "      <td>Female</td>\n",
              "      <td>39</td>\n",
              "      <td>1.0</td>\n",
              "      <td>0.00</td>\n",
              "      <td>2</td>\n",
              "      <td>0</td>\n",
              "      <td>0</td>\n",
              "      <td>93826.63</td>\n",
              "      <td>0</td>\n",
              "    </tr>\n",
              "    <tr>\n",
              "      <th>4</th>\n",
              "      <td>5</td>\n",
              "      <td>15737888</td>\n",
              "      <td>Mitchell</td>\n",
              "      <td>850</td>\n",
              "      <td>Spain</td>\n",
              "      <td>Female</td>\n",
              "      <td>43</td>\n",
              "      <td>2.0</td>\n",
              "      <td>125510.82</td>\n",
              "      <td>1</td>\n",
              "      <td>1</td>\n",
              "      <td>1</td>\n",
              "      <td>79084.10</td>\n",
              "      <td>0</td>\n",
              "    </tr>\n",
              "  </tbody>\n",
              "</table>\n",
              "</div>\n",
              "      <button class=\"colab-df-convert\" onclick=\"convertToInteractive('df-9ec9f71d-9b24-498e-a456-e21e111a7838')\"\n",
              "              title=\"Convert this dataframe to an interactive table.\"\n",
              "              style=\"display:none;\">\n",
              "        \n",
              "  <svg xmlns=\"http://www.w3.org/2000/svg\" height=\"24px\"viewBox=\"0 0 24 24\"\n",
              "       width=\"24px\">\n",
              "    <path d=\"M0 0h24v24H0V0z\" fill=\"none\"/>\n",
              "    <path d=\"M18.56 5.44l.94 2.06.94-2.06 2.06-.94-2.06-.94-.94-2.06-.94 2.06-2.06.94zm-11 1L8.5 8.5l.94-2.06 2.06-.94-2.06-.94L8.5 2.5l-.94 2.06-2.06.94zm10 10l.94 2.06.94-2.06 2.06-.94-2.06-.94-.94-2.06-.94 2.06-2.06.94z\"/><path d=\"M17.41 7.96l-1.37-1.37c-.4-.4-.92-.59-1.43-.59-.52 0-1.04.2-1.43.59L10.3 9.45l-7.72 7.72c-.78.78-.78 2.05 0 2.83L4 21.41c.39.39.9.59 1.41.59.51 0 1.02-.2 1.41-.59l7.78-7.78 2.81-2.81c.8-.78.8-2.07 0-2.86zM5.41 20L4 18.59l7.72-7.72 1.47 1.35L5.41 20z\"/>\n",
              "  </svg>\n",
              "      </button>\n",
              "      \n",
              "  <style>\n",
              "    .colab-df-container {\n",
              "      display:flex;\n",
              "      flex-wrap:wrap;\n",
              "      gap: 12px;\n",
              "    }\n",
              "\n",
              "    .colab-df-convert {\n",
              "      background-color: #E8F0FE;\n",
              "      border: none;\n",
              "      border-radius: 50%;\n",
              "      cursor: pointer;\n",
              "      display: none;\n",
              "      fill: #1967D2;\n",
              "      height: 32px;\n",
              "      padding: 0 0 0 0;\n",
              "      width: 32px;\n",
              "    }\n",
              "\n",
              "    .colab-df-convert:hover {\n",
              "      background-color: #E2EBFA;\n",
              "      box-shadow: 0px 1px 2px rgba(60, 64, 67, 0.3), 0px 1px 3px 1px rgba(60, 64, 67, 0.15);\n",
              "      fill: #174EA6;\n",
              "    }\n",
              "\n",
              "    [theme=dark] .colab-df-convert {\n",
              "      background-color: #3B4455;\n",
              "      fill: #D2E3FC;\n",
              "    }\n",
              "\n",
              "    [theme=dark] .colab-df-convert:hover {\n",
              "      background-color: #434B5C;\n",
              "      box-shadow: 0px 1px 3px 1px rgba(0, 0, 0, 0.15);\n",
              "      filter: drop-shadow(0px 1px 2px rgba(0, 0, 0, 0.3));\n",
              "      fill: #FFFFFF;\n",
              "    }\n",
              "  </style>\n",
              "\n",
              "      <script>\n",
              "        const buttonEl =\n",
              "          document.querySelector('#df-9ec9f71d-9b24-498e-a456-e21e111a7838 button.colab-df-convert');\n",
              "        buttonEl.style.display =\n",
              "          google.colab.kernel.accessAllowed ? 'block' : 'none';\n",
              "\n",
              "        async function convertToInteractive(key) {\n",
              "          const element = document.querySelector('#df-9ec9f71d-9b24-498e-a456-e21e111a7838');\n",
              "          const dataTable =\n",
              "            await google.colab.kernel.invokeFunction('convertToInteractive',\n",
              "                                                     [key], {});\n",
              "          if (!dataTable) return;\n",
              "\n",
              "          const docLinkHtml = 'Like what you see? Visit the ' +\n",
              "            '<a target=\"_blank\" href=https://colab.research.google.com/notebooks/data_table.ipynb>data table notebook</a>'\n",
              "            + ' to learn more about interactive tables.';\n",
              "          element.innerHTML = '';\n",
              "          dataTable['output_type'] = 'display_data';\n",
              "          await google.colab.output.renderOutput(dataTable, element);\n",
              "          const docLink = document.createElement('div');\n",
              "          docLink.innerHTML = docLinkHtml;\n",
              "          element.appendChild(docLink);\n",
              "        }\n",
              "      </script>\n",
              "    </div>\n",
              "  </div>\n",
              "  "
            ]
          },
          "metadata": {},
          "execution_count": 4
        }
      ],
      "source": [
        "df.head()"
      ]
    },
    {
      "cell_type": "markdown",
      "metadata": {
        "id": "q-MZ2TxW56qG"
      },
      "source": [
        "Переименуем столбцы, согласно \"змеиному регистру\""
      ]
    },
    {
      "cell_type": "code",
      "execution_count": 5,
      "metadata": {
        "id": "f4ls6vFS56qH"
      },
      "outputs": [],
      "source": [
        "df.columns = ['row_number', 'customer_id', 'surname', 'credit_score', 'geography',\n",
        "             'gender', 'age', 'tenure', 'balance', 'num_of_products', 'has_cr_card',\n",
        "             'is_active_member', 'estimated_salary', 'exited']"
      ]
    },
    {
      "cell_type": "code",
      "execution_count": 6,
      "metadata": {
        "scrolled": false,
        "id": "ckouZ9SA56qH",
        "outputId": "b1a7e253-12ea-4d92-cc31-3ffec4d76d25",
        "colab": {
          "base_uri": "https://localhost:8080/"
        }
      },
      "outputs": [
        {
          "output_type": "stream",
          "name": "stdout",
          "text": [
            "<class 'pandas.core.frame.DataFrame'>\n",
            "RangeIndex: 10000 entries, 0 to 9999\n",
            "Data columns (total 14 columns):\n",
            " #   Column            Non-Null Count  Dtype  \n",
            "---  ------            --------------  -----  \n",
            " 0   row_number        10000 non-null  int64  \n",
            " 1   customer_id       10000 non-null  int64  \n",
            " 2   surname           10000 non-null  object \n",
            " 3   credit_score      10000 non-null  int64  \n",
            " 4   geography         10000 non-null  object \n",
            " 5   gender            10000 non-null  object \n",
            " 6   age               10000 non-null  int64  \n",
            " 7   tenure            9091 non-null   float64\n",
            " 8   balance           10000 non-null  float64\n",
            " 9   num_of_products   10000 non-null  int64  \n",
            " 10  has_cr_card       10000 non-null  int64  \n",
            " 11  is_active_member  10000 non-null  int64  \n",
            " 12  estimated_salary  10000 non-null  float64\n",
            " 13  exited            10000 non-null  int64  \n",
            "dtypes: float64(3), int64(8), object(3)\n",
            "memory usage: 1.1+ MB\n"
          ]
        }
      ],
      "source": [
        "df.info()"
      ]
    },
    {
      "cell_type": "markdown",
      "metadata": {
        "id": "iu5DRFEo56qI"
      },
      "source": [
        "Мы наблюдаем около 10% пропусков в столбце `tenure`. Согласно описанию данных, в этом столбце хранится количество лет, которые человек является клиентом банка. Предположим, что пропуски случаются, когда человек клиентом банка не является. Логично будет в этом случае заполнить пропуски нулями."
      ]
    },
    {
      "cell_type": "code",
      "execution_count": 7,
      "metadata": {
        "id": "Am3bugrt56qI"
      },
      "outputs": [],
      "source": [
        "df['tenure'] = df['tenure'].fillna(0)"
      ]
    },
    {
      "cell_type": "markdown",
      "metadata": {
        "id": "xpEW-X1F56qI"
      },
      "source": [
        "Целевым признаком для классификации является столбец `exited`. Посмотрим, как распределены классы."
      ]
    },
    {
      "cell_type": "code",
      "execution_count": 8,
      "metadata": {
        "scrolled": true,
        "id": "UMDLXRPp56qI",
        "outputId": "60274697-512f-4fa2-81ad-0494e7ff3b60",
        "colab": {
          "base_uri": "https://localhost:8080/"
        }
      },
      "outputs": [
        {
          "output_type": "execute_result",
          "data": {
            "text/plain": [
              "0    7963\n",
              "1    2037\n",
              "Name: exited, dtype: int64"
            ]
          },
          "metadata": {},
          "execution_count": 8
        }
      ],
      "source": [
        "df['exited'].value_counts()"
      ]
    },
    {
      "cell_type": "markdown",
      "metadata": {
        "id": "qAbRFsjp56qJ"
      },
      "source": [
        "Признаков класса 0 примерно в 4 раза больше, чем признаков класса 1. Мы имеем дело с дисбалансом классов, с которым нам предстоит бороться в дальнейшем."
      ]
    },
    {
      "cell_type": "markdown",
      "metadata": {
        "id": "InC2uxWi56qJ"
      },
      "source": [
        "Отметим, что столбцы `row_number`, `customer_id` и `surname` признаками не являются. Остальные столбцы - признаки, кратко рассмотрим каждый из них"
      ]
    },
    {
      "cell_type": "code",
      "execution_count": 9,
      "metadata": {
        "id": "Lssx7JfP56qK"
      },
      "outputs": [],
      "source": [
        "features = df[['credit_score', 'geography', 'gender', 'age', 'tenure', 'balance', 'num_of_products',\n",
        "              'has_cr_card', 'is_active_member', 'estimated_salary']]"
      ]
    },
    {
      "cell_type": "code",
      "execution_count": 10,
      "metadata": {
        "scrolled": false,
        "id": "2rkOt2yu56qK",
        "outputId": "ecb2bdf3-eeab-49c1-c680-4ac720623764",
        "colab": {
          "base_uri": "https://localhost:8080/",
          "height": 265
        }
      },
      "outputs": [
        {
          "output_type": "display_data",
          "data": {
            "text/plain": [
              "<Figure size 432x288 with 1 Axes>"
            ],
            "image/png": "[encoded data removed]"
          },
          "metadata": {
            "needs_background": "light"
          }
        }
      ],
      "source": [
        "features['credit_score'].hist();"
      ]
    },
    {
      "cell_type": "markdown",
      "metadata": {
        "id": "4e7At0Ay56qK"
      },
      "source": [
        "Распределение `credit_score` выглядит как нормальное, проблем в этом столбце нет."
      ]
    },
    {
      "cell_type": "code",
      "execution_count": 11,
      "metadata": {
        "id": "dLdR_cbl56qL",
        "outputId": "96c5ac19-8e57-4408-de5e-cc8c24972580",
        "colab": {
          "base_uri": "https://localhost:8080/"
        }
      },
      "outputs": [
        {
          "output_type": "execute_result",
          "data": {
            "text/plain": [
              "France     5014\n",
              "Germany    2509\n",
              "Spain      2477\n",
              "Name: geography, dtype: int64"
            ]
          },
          "metadata": {},
          "execution_count": 11
        }
      ],
      "source": [
        "features['geography'].value_counts()"
      ]
    },
    {
      "cell_type": "markdown",
      "metadata": {
        "id": "bL-Su1mz56qL"
      },
      "source": [
        "В столбце `geograhy` встречаются всего 3 значения, причем Germany и Spain в два раза более редкие, чем France."
      ]
    },
    {
      "cell_type": "code",
      "execution_count": 12,
      "metadata": {
        "scrolled": true,
        "id": "xZ9j5Ldn56qL",
        "outputId": "98665c45-e9ac-4dd4-acd8-2b57aa0c191e",
        "colab": {
          "base_uri": "https://localhost:8080/"
        }
      },
      "outputs": [
        {
          "output_type": "execute_result",
          "data": {
            "text/plain": [
              "Male      5457\n",
              "Female    4543\n",
              "Name: gender, dtype: int64"
            ]
          },
          "metadata": {},
          "execution_count": 12
        }
      ],
      "source": [
        "features['gender'].value_counts()"
      ]
    },
    {
      "cell_type": "markdown",
      "metadata": {
        "id": "h2t1gm0j56qL"
      },
      "source": [
        "В столбце `gender` ожидаемо 2 значения, мужчин чуть больше, чем женщин"
      ]
    },
    {
      "cell_type": "code",
      "execution_count": 13,
      "metadata": {
        "scrolled": true,
        "id": "fZxIZKGt56qL",
        "outputId": "d0451173-87ed-4e5c-933f-33d196f6fdaf",
        "colab": {
          "base_uri": "https://localhost:8080/",
          "height": 265
        }
      },
      "outputs": [
        {
          "output_type": "display_data",
          "data": {
            "text/plain": [
              "<Figure size 432x288 with 1 Axes>"
            ],
            "image/png": "[encoded data removed]"
          },
          "metadata": {
            "needs_background": "light"
          }
        }
      ],
      "source": [
        "features['age'].hist();"
      ]
    },
    {
      "cell_type": "markdown",
      "metadata": {
        "id": "2ko_H4Md56qM"
      },
      "source": [
        "Распределение возраста похоже на нормальное, немного скощенное влево."
      ]
    },
    {
      "cell_type": "code",
      "execution_count": 14,
      "metadata": {
        "scrolled": true,
        "id": "O1APyQgv56qM",
        "outputId": "0c7188c3-985b-4fda-c919-79604e9f499d",
        "colab": {
          "base_uri": "https://localhost:8080/",
          "height": 265
        }
      },
      "outputs": [
        {
          "output_type": "display_data",
          "data": {
            "text/plain": [
              "<Figure size 432x288 with 1 Axes>"
            ],
            "image/png": "[encoded data removed]"
          },
          "metadata": {
            "needs_background": "light"
          }
        }
      ],
      "source": [
        "features['tenure'].hist(bins=11);"
      ]
    },
    {
      "cell_type": "markdown",
      "metadata": {
        "id": "7Eja89hD56qM"
      },
      "source": [
        "Распределение `tenure` выглядит как равномерное, с небольшим пиком в значении 0, что логично, т.к. ранее мы заполнили нулем пропуски."
      ]
    },
    {
      "cell_type": "code",
      "execution_count": 15,
      "metadata": {
        "id": "-QJHUEd956qM",
        "outputId": "f6eaf027-2033-42b4-a01e-718e333a8518",
        "colab": {
          "base_uri": "https://localhost:8080/",
          "height": 265
        }
      },
      "outputs": [
        {
          "output_type": "display_data",
          "data": {
            "text/plain": [
              "<Figure size 432x288 with 1 Axes>"
            ],
            "image/png": "[encoded data removed]"
          },
          "metadata": {
            "needs_background": "light"
          }
        }
      ],
      "source": [
        "features['balance'].hist();"
      ]
    },
    {
      "cell_type": "markdown",
      "metadata": {
        "id": "n7CQuL-t56qN"
      },
      "source": [
        "В столбце `balance` мы наблюдаем большой пик на значении 0, а остальные значения распределены нормально."
      ]
    },
    {
      "cell_type": "code",
      "execution_count": 16,
      "metadata": {
        "scrolled": true,
        "id": "NJiTPM3s56qN",
        "outputId": "6e37b42d-8325-43a3-8d4f-8f93203f6c8d",
        "colab": {
          "base_uri": "https://localhost:8080/"
        }
      },
      "outputs": [
        {
          "output_type": "execute_result",
          "data": {
            "text/plain": [
              "1    5084\n",
              "2    4590\n",
              "3     266\n",
              "4      60\n",
              "Name: num_of_products, dtype: int64"
            ]
          },
          "metadata": {},
          "execution_count": 16
        }
      ],
      "source": [
        "features['num_of_products'].value_counts()"
      ]
    },
    {
      "cell_type": "markdown",
      "metadata": {
        "id": "1VD6K_Jp56qQ"
      },
      "source": [
        "В столбце `num_of_products` мы наблюдаем часто встречающиеся значения 1, 2, а значения 3, 4 встречаются редко."
      ]
    },
    {
      "cell_type": "code",
      "execution_count": 17,
      "metadata": {
        "scrolled": true,
        "id": "KVnj8rr-56qQ",
        "outputId": "b917a2b8-6dff-4eab-f4ed-8b12155b125c",
        "colab": {
          "base_uri": "https://localhost:8080/"
        }
      },
      "outputs": [
        {
          "output_type": "execute_result",
          "data": {
            "text/plain": [
              "1    7055\n",
              "0    2945\n",
              "Name: has_cr_card, dtype: int64"
            ]
          },
          "metadata": {},
          "execution_count": 17
        }
      ],
      "source": [
        "features['has_cr_card'].value_counts()"
      ]
    },
    {
      "cell_type": "markdown",
      "metadata": {
        "id": "_dm9B3S856qQ"
      },
      "source": [
        "Столбец `has_cr_card` содержит 2 значения и является признаком наличия или отсутствия кредитной карты"
      ]
    },
    {
      "cell_type": "code",
      "execution_count": 18,
      "metadata": {
        "scrolled": false,
        "id": "RrSCPyaT56qQ",
        "outputId": "2e1a60ad-360f-42e6-e451-75733ba5deec",
        "colab": {
          "base_uri": "https://localhost:8080/"
        }
      },
      "outputs": [
        {
          "output_type": "execute_result",
          "data": {
            "text/plain": [
              "1    5151\n",
              "0    4849\n",
              "Name: is_active_member, dtype: int64"
            ]
          },
          "metadata": {},
          "execution_count": 18
        }
      ],
      "source": [
        "features['is_active_member'].value_counts()"
      ]
    },
    {
      "cell_type": "markdown",
      "metadata": {
        "id": "qC57wUVi56qQ"
      },
      "source": [
        "Снова два значения"
      ]
    },
    {
      "cell_type": "code",
      "execution_count": 19,
      "metadata": {
        "scrolled": true,
        "id": "7CQY7S0j56qR",
        "outputId": "3c49dee3-6900-4420-e02f-c902becced04",
        "colab": {
          "base_uri": "https://localhost:8080/",
          "height": 265
        }
      },
      "outputs": [
        {
          "output_type": "display_data",
          "data": {
            "text/plain": [
              "<Figure size 432x288 with 1 Axes>"
            ],
            "image/png": "[encoded data removed]"
          },
          "metadata": {
            "needs_background": "light"
          }
        }
      ],
      "source": [
        "features['estimated_salary'].hist(bins=50);"
      ]
    },
    {
      "cell_type": "markdown",
      "metadata": {
        "id": "9ZrmnS4f56qR"
      },
      "source": [
        "Столбец `estimated_salary` распределен равномерно, выбросов не наблюдается"
      ]
    },
    {
      "cell_type": "code",
      "execution_count": 20,
      "metadata": {
        "id": "CsvHZ3tV56qR",
        "outputId": "b2901e17-0432-4210-c856-ff90bb370e49",
        "colab": {
          "base_uri": "https://localhost:8080/",
          "height": 300
        }
      },
      "outputs": [
        {
          "output_type": "execute_result",
          "data": {
            "text/plain": [
              "       credit_score           age        tenure        balance  \\\n",
              "count  10000.000000  10000.000000  10000.000000   10000.000000   \n",
              "mean     650.528800     38.921800      4.543400   76485.889288   \n",
              "std       96.653299     10.487806      3.111573   62397.405202   \n",
              "min      350.000000     18.000000      0.000000       0.000000   \n",
              "25%      584.000000     32.000000      2.000000       0.000000   \n",
              "50%      652.000000     37.000000      4.000000   97198.540000   \n",
              "75%      718.000000     44.000000      7.000000  127644.240000   \n",
              "max      850.000000     92.000000     10.000000  250898.090000   \n",
              "\n",
              "       num_of_products  has_cr_card  is_active_member  estimated_salary  \n",
              "count     10000.000000  10000.00000      10000.000000      10000.000000  \n",
              "mean          1.530200      0.70550          0.515100     100090.239881  \n",
              "std           0.581654      0.45584          0.499797      57510.492818  \n",
              "min           1.000000      0.00000          0.000000         11.580000  \n",
              "25%           1.000000      0.00000          0.000000      51002.110000  \n",
              "50%           1.000000      1.00000          1.000000     100193.915000  \n",
              "75%           2.000000      1.00000          1.000000     149388.247500  \n",
              "max           4.000000      1.00000          1.000000     199992.480000  "
            ],
            "text/html": [
              "\n",
              "  <div id=\"df-64adf090-59ff-434f-8e55-bb2c73f379ad\">\n",
              "    <div class=\"colab-df-container\">\n",
              "      <div>\n",
              "<style scoped>\n",
              "    .dataframe tbody tr th:only-of-type {\n",
              "        vertical-align: middle;\n",
              "    }\n",
              "\n",
              "    .dataframe tbody tr th {\n",
              "        vertical-align: top;\n",
              "    }\n",
              "\n",
              "    .dataframe thead th {\n",
              "        text-align: right;\n",
              "    }\n",
              "</style>\n",
              "<table border=\"1\" class=\"dataframe\">\n",
              "  <thead>\n",
              "    <tr style=\"text-align: right;\">\n",
              "      <th></th>\n",
              "      <th>credit_score</th>\n",
              "      <th>age</th>\n",
              "      <th>tenure</th>\n",
              "      <th>balance</th>\n",
              "      <th>num_of_products</th>\n",
              "      <th>has_cr_card</th>\n",
              "      <th>is_active_member</th>\n",
              "      <th>estimated_salary</th>\n",
              "    </tr>\n",
              "  </thead>\n",
              "  <tbody>\n",
              "    <tr>\n",
              "      <th>count</th>\n",
              "      <td>10000.000000</td>\n",
              "      <td>10000.000000</td>\n",
              "      <td>10000.000000</td>\n",
              "      <td>10000.000000</td>\n",
              "      <td>10000.000000</td>\n",
              "      <td>10000.00000</td>\n",
              "      <td>10000.000000</td>\n",
              "      <td>10000.000000</td>\n",
              "    </tr>\n",
              "    <tr>\n",
              "      <th>mean</th>\n",
              "      <td>650.528800</td>\n",
              "      <td>38.921800</td>\n",
              "      <td>4.543400</td>\n",
              "      <td>76485.889288</td>\n",
              "      <td>1.530200</td>\n",
              "      <td>0.70550</td>\n",
              "      <td>0.515100</td>\n",
              "      <td>100090.239881</td>\n",
              "    </tr>\n",
              "    <tr>\n",
              "      <th>std</th>\n",
              "      <td>96.653299</td>\n",
              "      <td>10.487806</td>\n",
              "      <td>3.111573</td>\n",
              "      <td>62397.405202</td>\n",
              "      <td>0.581654</td>\n",
              "      <td>0.45584</td>\n",
              "      <td>0.499797</td>\n",
              "      <td>57510.492818</td>\n",
              "    </tr>\n",
              "    <tr>\n",
              "      <th>min</th>\n",
              "      <td>350.000000</td>\n",
              "      <td>18.000000</td>\n",
              "      <td>0.000000</td>\n",
              "      <td>0.000000</td>\n",
              "      <td>1.000000</td>\n",
              "      <td>0.00000</td>\n",
              "      <td>0.000000</td>\n",
              "      <td>11.580000</td>\n",
              "    </tr>\n",
              "    <tr>\n",
              "      <th>25%</th>\n",
              "      <td>584.000000</td>\n",
              "      <td>32.000000</td>\n",
              "      <td>2.000000</td>\n",
              "      <td>0.000000</td>\n",
              "      <td>1.000000</td>\n",
              "      <td>0.00000</td>\n",
              "      <td>0.000000</td>\n",
              "      <td>51002.110000</td>\n",
              "    </tr>\n",
              "    <tr>\n",
              "      <th>50%</th>\n",
              "      <td>652.000000</td>\n",
              "      <td>37.000000</td>\n",
              "      <td>4.000000</td>\n",
              "      <td>97198.540000</td>\n",
              "      <td>1.000000</td>\n",
              "      <td>1.00000</td>\n",
              "      <td>1.000000</td>\n",
              "      <td>100193.915000</td>\n",
              "    </tr>\n",
              "    <tr>\n",
              "      <th>75%</th>\n",
              "      <td>718.000000</td>\n",
              "      <td>44.000000</td>\n",
              "      <td>7.000000</td>\n",
              "      <td>127644.240000</td>\n",
              "      <td>2.000000</td>\n",
              "      <td>1.00000</td>\n",
              "      <td>1.000000</td>\n",
              "      <td>149388.247500</td>\n",
              "    </tr>\n",
              "    <tr>\n",
              "      <th>max</th>\n",
              "      <td>850.000000</td>\n",
              "      <td>92.000000</td>\n",
              "      <td>10.000000</td>\n",
              "      <td>250898.090000</td>\n",
              "      <td>4.000000</td>\n",
              "      <td>1.00000</td>\n",
              "      <td>1.000000</td>\n",
              "      <td>199992.480000</td>\n",
              "    </tr>\n",
              "  </tbody>\n",
              "</table>\n",
              "</div>\n",
              "      <button class=\"colab-df-convert\" onclick=\"convertToInteractive('df-64adf090-59ff-434f-8e55-bb2c73f379ad')\"\n",
              "              title=\"Convert this dataframe to an interactive table.\"\n",
              "              style=\"display:none;\">\n",
              "        \n",
              "  <svg xmlns=\"http://www.w3.org/2000/svg\" height=\"24px\"viewBox=\"0 0 24 24\"\n",
              "       width=\"24px\">\n",
              "    <path d=\"M0 0h24v24H0V0z\" fill=\"none\"/>\n",
              "    <path d=\"M18.56 5.44l.94 2.06.94-2.06 2.06-.94-2.06-.94-.94-2.06-.94 2.06-2.06.94zm-11 1L8.5 8.5l.94-2.06 2.06-.94-2.06-.94L8.5 2.5l-.94 2.06-2.06.94zm10 10l.94 2.06.94-2.06 2.06-.94-2.06-.94-.94-2.06-.94 2.06-2.06.94z\"/><path d=\"M17.41 7.96l-1.37-1.37c-.4-.4-.92-.59-1.43-.59-.52 0-1.04.2-1.43.59L10.3 9.45l-7.72 7.72c-.78.78-.78 2.05 0 2.83L4 21.41c.39.39.9.59 1.41.59.51 0 1.02-.2 1.41-.59l7.78-7.78 2.81-2.81c.8-.78.8-2.07 0-2.86zM5.41 20L4 18.59l7.72-7.72 1.47 1.35L5.41 20z\"/>\n",
              "  </svg>\n",
              "      </button>\n",
              "      \n",
              "  <style>\n",
              "    .colab-df-container {\n",
              "      display:flex;\n",
              "      flex-wrap:wrap;\n",
              "      gap: 12px;\n",
              "    }\n",
              "\n",
              "    .colab-df-convert {\n",
              "      background-color: #E8F0FE;\n",
              "      border: none;\n",
              "      border-radius: 50%;\n",
              "      cursor: pointer;\n",
              "      display: none;\n",
              "      fill: #1967D2;\n",
              "      height: 32px;\n",
              "      padding: 0 0 0 0;\n",
              "      width: 32px;\n",
              "    }\n",
              "\n",
              "    .colab-df-convert:hover {\n",
              "      background-color: #E2EBFA;\n",
              "      box-shadow: 0px 1px 2px rgba(60, 64, 67, 0.3), 0px 1px 3px 1px rgba(60, 64, 67, 0.15);\n",
              "      fill: #174EA6;\n",
              "    }\n",
              "\n",
              "    [theme=dark] .colab-df-convert {\n",
              "      background-color: #3B4455;\n",
              "      fill: #D2E3FC;\n",
              "    }\n",
              "\n",
              "    [theme=dark] .colab-df-convert:hover {\n",
              "      background-color: #434B5C;\n",
              "      box-shadow: 0px 1px 3px 1px rgba(0, 0, 0, 0.15);\n",
              "      filter: drop-shadow(0px 1px 2px rgba(0, 0, 0, 0.3));\n",
              "      fill: #FFFFFF;\n",
              "    }\n",
              "  </style>\n",
              "\n",
              "      <script>\n",
              "        const buttonEl =\n",
              "          document.querySelector('#df-64adf090-59ff-434f-8e55-bb2c73f379ad button.colab-df-convert');\n",
              "        buttonEl.style.display =\n",
              "          google.colab.kernel.accessAllowed ? 'block' : 'none';\n",
              "\n",
              "        async function convertToInteractive(key) {\n",
              "          const element = document.querySelector('#df-64adf090-59ff-434f-8e55-bb2c73f379ad');\n",
              "          const dataTable =\n",
              "            await google.colab.kernel.invokeFunction('convertToInteractive',\n",
              "                                                     [key], {});\n",
              "          if (!dataTable) return;\n",
              "\n",
              "          const docLinkHtml = 'Like what you see? Visit the ' +\n",
              "            '<a target=\"_blank\" href=https://colab.research.google.com/notebooks/data_table.ipynb>data table notebook</a>'\n",
              "            + ' to learn more about interactive tables.';\n",
              "          element.innerHTML = '';\n",
              "          dataTable['output_type'] = 'display_data';\n",
              "          await google.colab.output.renderOutput(dataTable, element);\n",
              "          const docLink = document.createElement('div');\n",
              "          docLink.innerHTML = docLinkHtml;\n",
              "          element.appendChild(docLink);\n",
              "        }\n",
              "      </script>\n",
              "    </div>\n",
              "  </div>\n",
              "  "
            ]
          },
          "metadata": {},
          "execution_count": 20
        }
      ],
      "source": [
        "features.describe()"
      ]
    },
    {
      "cell_type": "markdown",
      "metadata": {
        "id": "RmRy-o-r56qR"
      },
      "source": [
        "Потенциально проблемным столбцом является столбец `balance` из-за большого пика в нуле. Это видно и в describe, медиана сильно отличается от среднего."
      ]
    },
    {
      "cell_type": "markdown",
      "metadata": {
        "id": "hObaCupv56qR"
      },
      "source": [
        "В наших признаках есть два категориальных - `georhapy`, `gender`. Преобразуем их методом OHE, не забыв не попасть в дамми-ловушку."
      ]
    },
    {
      "cell_type": "code",
      "execution_count": 21,
      "metadata": {
        "id": "xd0sK8_656qR"
      },
      "outputs": [],
      "source": [
        "features = pd.get_dummies(features, drop_first=True)"
      ]
    },
    {
      "cell_type": "code",
      "execution_count": 22,
      "metadata": {
        "id": "85RLfNM956qS",
        "outputId": "00c3da91-eb62-444d-ce7e-2b780c250d75",
        "colab": {
          "base_uri": "https://localhost:8080/"
        }
      },
      "outputs": [
        {
          "output_type": "execute_result",
          "data": {
            "text/plain": [
              "Index(['credit_score', 'age', 'tenure', 'balance', 'num_of_products',\n",
              "       'has_cr_card', 'is_active_member', 'estimated_salary',\n",
              "       'geography_Germany', 'geography_Spain', 'gender_Male'],\n",
              "      dtype='object')"
            ]
          },
          "metadata": {},
          "execution_count": 22
        }
      ],
      "source": [
        "features.columns"
      ]
    },
    {
      "cell_type": "markdown",
      "metadata": {
        "id": "bWms4ZLN56qS"
      },
      "source": [
        "Набор признаков `features` готов."
      ]
    },
    {
      "cell_type": "code",
      "execution_count": 23,
      "metadata": {
        "id": "JQJI2UPK56qS"
      },
      "outputs": [],
      "source": [
        "target = df['exited']"
      ]
    },
    {
      "cell_type": "markdown",
      "metadata": {
        "id": "2AUCQWhI56qS"
      },
      "source": [
        "Целевой признак `target` готов.\n",
        "\n",
        "Разобьем наши данные на обучающую, валидационную и тестовую выборки в соотношении 3:1:1. Сперва разобьем на два набора в соотношении 3:2"
      ]
    },
    {
      "cell_type": "code",
      "execution_count": 24,
      "metadata": {
        "id": "nD8h3gYg56qS"
      },
      "outputs": [],
      "source": [
        "features_train, features_valid_and_test, target_train, target_valid_and_test = train_test_split(\n",
        "    features, target, test_size=0.4, random_state=12345)"
      ]
    },
    {
      "cell_type": "markdown",
      "metadata": {
        "id": "Sb66U0Xt56qT"
      },
      "source": [
        "Затем второй набор разобьем пополам."
      ]
    },
    {
      "cell_type": "code",
      "execution_count": 25,
      "metadata": {
        "id": "7G3lOD1Y56qT"
      },
      "outputs": [],
      "source": [
        "features_valid, features_test, target_valid, target_test = train_test_split(\n",
        "    features_valid_and_test, target_valid_and_test, test_size=0.5, random_state=12345)"
      ]
    },
    {
      "cell_type": "markdown",
      "metadata": {
        "id": "L4m6cN8f56qT"
      },
      "source": [
        "Проверим, что получилось."
      ]
    },
    {
      "cell_type": "code",
      "execution_count": 26,
      "metadata": {
        "id": "LsDy6ljL56qT",
        "outputId": "918637be-275f-4e08-b38e-88d3e0cd344a",
        "colab": {
          "base_uri": "https://localhost:8080/"
        }
      },
      "outputs": [
        {
          "output_type": "stream",
          "name": "stdout",
          "text": [
            "(6000, 11)\n",
            "(6000,)\n",
            "(2000, 11)\n",
            "(2000,)\n",
            "(2000, 11)\n",
            "(2000,)\n"
          ]
        }
      ],
      "source": [
        "print(features_train.shape) # размер обучающей выборки\n",
        "print(target_train.shape)\n",
        "print(features_valid.shape) # размер валидационной ваборки\n",
        "print(target_valid.shape)\n",
        "print(features_test.shape) # размер тестовой выборки\n",
        "print(target_test.shape)"
      ]
    },
    {
      "cell_type": "markdown",
      "metadata": {
        "id": "ZS7y9X_T56qT"
      },
      "source": [
        "Все верно, выборки разбиты в соотношении 3:1:1"
      ]
    },
    {
      "cell_type": "markdown",
      "metadata": {
        "id": "wHW9kaEa56qU"
      },
      "source": [
        "Для лучшей работы модели Logistic Regression стандартизируем признаки:"
      ]
    },
    {
      "cell_type": "code",
      "execution_count": 27,
      "metadata": {
        "id": "enilKM5P56qU"
      },
      "outputs": [],
      "source": [
        "stdsc = StandardScaler()\n",
        "features_train_std = stdsc.fit_transform(features_train)\n",
        "features_valid_std = stdsc.transform(features_valid)"
      ]
    },
    {
      "cell_type": "markdown",
      "metadata": {
        "id": "VMgES6jm56qU"
      },
      "source": [
        "### Вывод:\n",
        "На данном этапе мы выполнили подготовку данных. Мы заполнили пропуски и рассмотрели распределения признаков. Мы обнаружили, что целевой признак распределен неравномерно и в дальнейшем от нас потребуется балансировка классов. Мы преобразовали категориальные признаки методом OHE. Также мы разбили наши данные на обучающую, валидационную и тестовую выборки в соотношении 3:1:1"
      ]
    },
    {
      "cell_type": "markdown",
      "metadata": {
        "id": "GWDFRt1s56qV"
      },
      "source": [
        "## Исследование задачи"
      ]
    },
    {
      "cell_type": "markdown",
      "metadata": {
        "id": "QAroW_Lo56qV"
      },
      "source": [
        "Для начала определим функции `roc_curve_display` и `pr_curve_display`, которые помогут нам в дальнейшем выводить ROC-кривую и PR-кривую соответственно, во избежание многократного повторения кода."
      ]
    },
    {
      "cell_type": "code",
      "execution_count": 28,
      "metadata": {
        "id": "4XRNHkl856qV"
      },
      "outputs": [],
      "source": [
        "#Функция вывода на экран roc-кривой (взята из тренажера)\n",
        "def roc_curve_display(target, proba):\n",
        "    fpr, tpr, thresholds = roc_curve(target, proba)\n",
        "    plt.figure(figsize=(9, 9))\n",
        "    plt.plot(fpr, tpr)\n",
        "    plt.plot([0, 1], [0, 1], linestyle='--')\n",
        "    plt.xlim([0.0, 1.0])\n",
        "    plt.ylim([0.0, 1.0])\n",
        "    plt.xlabel('False Positive Rate')\n",
        "    plt.ylabel('True Positive Rate')\n",
        "    plt.title('ROC-кривая')\n",
        "    plt.show()\n",
        "#Функция вывода на экран pr-кривой (взята из тренажера)    \n",
        "def pr_curve_display(target, proba):\n",
        "    precision, recall, thresholds = precision_recall_curve(target, proba)\n",
        "    plt.figure(figsize=(9, 9))\n",
        "    plt.step(recall, precision, where='post')\n",
        "    plt.xlabel('Recall')\n",
        "    plt.ylabel('Precision')\n",
        "    plt.ylim([0.0, 1.05])\n",
        "    plt.xlim([0.0, 1.0])\n",
        "    plt.title('Кривая Precision-Recall')\n",
        "    plt.show() "
      ]
    },
    {
      "cell_type": "markdown",
      "metadata": {
        "id": "T8DCBEUr56qW"
      },
      "source": [
        "Задачу классификации мы будем решать при помощи трех моделей: Decision Tree, Random Forest, Logistic Regression."
      ]
    },
    {
      "cell_type": "markdown",
      "metadata": {
        "id": "JLiravwz56qW"
      },
      "source": [
        "### Decision Tree"
      ]
    },
    {
      "cell_type": "markdown",
      "metadata": {
        "id": "jQzUgD5H56qW"
      },
      "source": [
        "Определим функцию, в которой мы будем обучать модель Decision Tree, перебирая различные параметры. Описание входных параметров и возвращаемых данных - ниже в описании функции. Определяя функцию, мы избавляемся от повторения кода в дальнейшем."
      ]
    },
    {
      "cell_type": "code",
      "execution_count": 29,
      "metadata": {
        "scrolled": false,
        "id": "vCuJMukb56qW"
      },
      "outputs": [],
      "source": [
        "#    Функция, в которой перебираются параметры модели DecisionTreeClassifier\n",
        "#\n",
        "#    Входные параметры:\n",
        "#    features_train - признаки обучающей выборки\n",
        "#    target_train - целевой признак обучающей выборки\n",
        "#    features_valid - признаки валидационной выборки\n",
        "#    target_valid - целевой признак валидационной выборки\n",
        "#    class_balance - будем ли мы добавлять class_weight='balanced' в модель (False по умолчанию)\n",
        "#    depth_min - минимальное значение гиперпараметра модели max_depth (1 по умолчанию)\n",
        "#    depth_max - максимальное значение гиперпараметра модели max_depth (15 по умолчанию)\n",
        "#    depth_by - шаг, с которым перебираются значения max_depth (1 по умолчанию)\n",
        "#    threshold_min - минимальное пороговое значение (0 по умолчанию)\n",
        "#    threshold_max - максимальное пороговое значение (1 по умолчанию)\n",
        "#    threshold_by - шаг перебора порогового значение (0.05 по умолчанию)\n",
        "#\n",
        "#    Возвращает:\n",
        "#    result_data - датафрейм, в котором записаны результаты работы модели со столбцами:\n",
        "#\n",
        "#                 'depth' - значение параметра max_depth\n",
        "#                 'threshold' - значение порога\n",
        "#                 'acc' - значение accuracy\n",
        "#                 'precision' - значение precision\n",
        "#                 'recall' - значение recall\n",
        "#                 'f1_train' - значение f1_score для обучающей выборки (нужен, чтобы посмотреть на переобучение, например)\n",
        "#                 'f1' - значение f1_score\n",
        "#                 'auc_roc' - значение AUC ROC\n",
        "#\n",
        "#    best_model - модель с максимальным значение f1_score\n",
        "#    best_result - максимальное значение f1_score\n",
        "#    best_proba - массив вероятностей из predict_proba, для которого f1_score максимальное (нужен для графиков)\n",
        "#    model_threshold - значение порога для модели с максимальным f1_score\n",
        "\n",
        "def DTC_tuner(features_train, target_train, features_valid, target_valid, class_balance=False,\n",
        "             depth_min=1, depth_max=15, depth_by=1, threshold_min=0, threshold_max=1,\n",
        "             threshold_by=0.05):    \n",
        "    best_model = None #инициализируем переменную, в которой будем хранить лучшую модель\n",
        "    best_result = 0   #переменная, в которй будем хранить лучший результат\n",
        "    result_data = []  #переменная, которая в последствие станет датафреймом с результатами\n",
        "    for depth in range(depth_min, depth_max+1, depth_by):  #перебираем значения гиперпараметра max_depth\n",
        "        if class_balance:\n",
        "            model = DecisionTreeClassifier(max_depth=depth, random_state=12345, class_weight='balanced') #инициализация модели\n",
        "        else:\n",
        "            model = DecisionTreeClassifier(max_depth=depth, random_state=12345)\n",
        "        model.fit(features_train, target_train) #обучили модель на обучающих признаках\n",
        "        probabilities_valid = model.predict_proba(features_valid) #предсказали на валидационной выборке, сохранили вероятности\n",
        "        probabilities_one_valid = probabilities_valid[:, 1] #вероятности класса 1\n",
        "        probabilities_train = model.predict_proba(features_train) #предсказали на обучающей выборке\n",
        "        probabilities_train_one_valid = probabilities_train[:, 1]\n",
        "        for threshold in np.arange(threshold_min, threshold_max+0.01, threshold_by): #перебираем пороговые значения\n",
        "            predicted_valid = probabilities_one_valid > threshold \n",
        "            predicted_train = probabilities_train_one_valid > threshold\n",
        "            precision = precision_score(target_valid, predicted_valid, zero_division=0) #сохраняем значения метрик\n",
        "            recall = recall_score(target_valid, predicted_valid)\n",
        "            acc = accuracy_score(target_valid, predicted_valid)\n",
        "            f1 = f1_score(target_valid, predicted_valid)\n",
        "            f1_train = f1_score(target_train, predicted_train)   \n",
        "            auc_roc = roc_auc_score(target_valid, predicted_valid)\n",
        "            if f1 > best_result: #ищем наилучшую модель\n",
        "                best_result = f1\n",
        "                best_model = model\n",
        "                best_proba = probabilities_valid[:, 1]\n",
        "                model_threshold = threshold\n",
        "            #записываем результаты в список\n",
        "            result_data.append([depth, threshold, acc, precision, recall, f1_train, f1, auc_roc]) \n",
        "    #превращаем список в датафрейм\n",
        "    result_data = pd.DataFrame(result_data, columns=['depth', 'threshold', 'acc', 'precision',\n",
        "                                                     'recall', 'f1_train', 'f1', 'auc_roc'])\n",
        "    return result_data, best_model, best_result, best_proba, model_threshold"
      ]
    },
    {
      "cell_type": "markdown",
      "metadata": {
        "id": "lhYRldP456qX"
      },
      "source": [
        "Рассмотрим работу функции на несбалансированных классах, как есть. Будем перебирать значения гиперпараметра `max_depth` от 1 до 15 (это значения функции `DTC_tuner` по умолчанию, их можно менять). Пороговое значение классификации будем перебирать с шагом 0.05 (так же значение параметра по умолчанию)."
      ]
    },
    {
      "cell_type": "code",
      "execution_count": 30,
      "metadata": {
        "scrolled": false,
        "id": "UFaLOjX156qX",
        "outputId": "159c5652-3edf-4cdd-b2c4-dfb5bdff62c7",
        "colab": {
          "base_uri": "https://localhost:8080/",
          "height": 592
        }
      },
      "outputs": [
        {
          "output_type": "stream",
          "name": "stdout",
          "text": [
            "best model: DecisionTreeClassifier(max_depth=6, random_state=12345) threshold = 0.30\n",
            "\n",
            "best f1_score: 0.5987577639751551\n",
            "\n"
          ]
        },
        {
          "output_type": "execute_result",
          "data": {
            "text/plain": [
              "     depth  threshold     acc  precision    recall  f1_train        f1  \\\n",
              "10       1        0.5  0.7910   0.000000  0.000000  0.000000  0.000000   \n",
              "31       2        0.5  0.8240   0.603774  0.459330  0.514258  0.521739   \n",
              "52       3        0.5  0.8380   0.826389  0.284689  0.415716  0.423488   \n",
              "73       4        0.5  0.8520   0.750000  0.437799  0.539446  0.552870   \n",
              "94       5        0.5  0.8530   0.779279  0.413876  0.557912  0.540625   \n",
              "115      6        0.5  0.8580   0.776860  0.449761  0.596842  0.569697   \n",
              "136      7        0.5  0.8505   0.769231  0.406699  0.622881  0.532081   \n",
              "157      8        0.5  0.8505   0.748954  0.428230  0.647338  0.544901   \n",
              "178      9        0.5  0.8500   0.700680  0.492823  0.710704  0.578652   \n",
              "199     10        0.5  0.8340   0.649306  0.447368  0.738142  0.529745   \n",
              "220     11        0.5  0.8225   0.595745  0.468900  0.795497  0.524766   \n",
              "241     12        0.5  0.8100   0.554598  0.461722  0.846329  0.503916   \n",
              "262     13        0.5  0.8180   0.576271  0.488038  0.888790  0.528497   \n",
              "283     14        0.5  0.8005   0.526462  0.452153  0.923280  0.486486   \n",
              "304     15        0.5  0.8035   0.533156  0.480861  0.943791  0.505660   \n",
              "\n",
              "      auc_roc  \n",
              "10   0.500000  \n",
              "31   0.689842  \n",
              "52   0.634443  \n",
              "73   0.699620  \n",
              "94   0.691451  \n",
              "115  0.707813  \n",
              "136  0.687230  \n",
              "157  0.695151  \n",
              "178  0.718599  \n",
              "199  0.691763  \n",
              "220  0.692414  \n",
              "241  0.681873  \n",
              "262  0.696611  \n",
              "283  0.672347  \n",
              "304  0.684805  "
            ],
            "text/html": [
              "\n",
              "  <div id=\"df-db50e7b9-1126-4813-bc42-29d91f85bcd1\">\n",
              "    <div class=\"colab-df-container\">\n",
              "      <div>\n",
              "<style scoped>\n",
              "    .dataframe tbody tr th:only-of-type {\n",
              "        vertical-align: middle;\n",
              "    }\n",
              "\n",
              "    .dataframe tbody tr th {\n",
              "        vertical-align: top;\n",
              "    }\n",
              "\n",
              "    .dataframe thead th {\n",
              "        text-align: right;\n",
              "    }\n",
              "</style>\n",
              "<table border=\"1\" class=\"dataframe\">\n",
              "  <thead>\n",
              "    <tr style=\"text-align: right;\">\n",
              "      <th></th>\n",
              "      <th>depth</th>\n",
              "      <th>threshold</th>\n",
              "      <th>acc</th>\n",
              "      <th>precision</th>\n",
              "      <th>recall</th>\n",
              "      <th>f1_train</th>\n",
              "      <th>f1</th>\n",
              "      <th>auc_roc</th>\n",
              "    </tr>\n",
              "  </thead>\n",
              "  <tbody>\n",
              "    <tr>\n",
              "      <th>10</th>\n",
              "      <td>1</td>\n",
              "      <td>0.5</td>\n",
              "      <td>0.7910</td>\n",
              "      <td>0.000000</td>\n",
              "      <td>0.000000</td>\n",
              "      <td>0.000000</td>\n",
              "      <td>0.000000</td>\n",
              "      <td>0.500000</td>\n",
              "    </tr>\n",
              "    <tr>\n",
              "      <th>31</th>\n",
              "      <td>2</td>\n",
              "      <td>0.5</td>\n",
              "      <td>0.8240</td>\n",
              "      <td>0.603774</td>\n",
              "      <td>0.459330</td>\n",
              "      <td>0.514258</td>\n",
              "      <td>0.521739</td>\n",
              "      <td>0.689842</td>\n",
              "    </tr>\n",
              "    <tr>\n",
              "      <th>52</th>\n",
              "      <td>3</td>\n",
              "      <td>0.5</td>\n",
              "      <td>0.8380</td>\n",
              "      <td>0.826389</td>\n",
              "      <td>0.284689</td>\n",
              "      <td>0.415716</td>\n",
              "      <td>0.423488</td>\n",
              "      <td>0.634443</td>\n",
              "    </tr>\n",
              "    <tr>\n",
              "      <th>73</th>\n",
              "      <td>4</td>\n",
              "      <td>0.5</td>\n",
              "      <td>0.8520</td>\n",
              "      <td>0.750000</td>\n",
              "      <td>0.437799</td>\n",
              "      <td>0.539446</td>\n",
              "      <td>0.552870</td>\n",
              "      <td>0.699620</td>\n",
              "    </tr>\n",
              "    <tr>\n",
              "      <th>94</th>\n",
              "      <td>5</td>\n",
              "      <td>0.5</td>\n",
              "      <td>0.8530</td>\n",
              "      <td>0.779279</td>\n",
              "      <td>0.413876</td>\n",
              "      <td>0.557912</td>\n",
              "      <td>0.540625</td>\n",
              "      <td>0.691451</td>\n",
              "    </tr>\n",
              "    <tr>\n",
              "      <th>115</th>\n",
              "      <td>6</td>\n",
              "      <td>0.5</td>\n",
              "      <td>0.8580</td>\n",
              "      <td>0.776860</td>\n",
              "      <td>0.449761</td>\n",
              "      <td>0.596842</td>\n",
              "      <td>0.569697</td>\n",
              "      <td>0.707813</td>\n",
              "    </tr>\n",
              "    <tr>\n",
              "      <th>136</th>\n",
              "      <td>7</td>\n",
              "      <td>0.5</td>\n",
              "      <td>0.8505</td>\n",
              "      <td>0.769231</td>\n",
              "      <td>0.406699</td>\n",
              "      <td>0.622881</td>\n",
              "      <td>0.532081</td>\n",
              "      <td>0.687230</td>\n",
              "    </tr>\n",
              "    <tr>\n",
              "      <th>157</th>\n",
              "      <td>8</td>\n",
              "      <td>0.5</td>\n",
              "      <td>0.8505</td>\n",
              "      <td>0.748954</td>\n",
              "      <td>0.428230</td>\n",
              "      <td>0.647338</td>\n",
              "      <td>0.544901</td>\n",
              "      <td>0.695151</td>\n",
              "    </tr>\n",
              "    <tr>\n",
              "      <th>178</th>\n",
              "      <td>9</td>\n",
              "      <td>0.5</td>\n",
              "      <td>0.8500</td>\n",
              "      <td>0.700680</td>\n",
              "      <td>0.492823</td>\n",
              "      <td>0.710704</td>\n",
              "      <td>0.578652</td>\n",
              "      <td>0.718599</td>\n",
              "    </tr>\n",
              "    <tr>\n",
              "      <th>199</th>\n",
              "      <td>10</td>\n",
              "      <td>0.5</td>\n",
              "      <td>0.8340</td>\n",
              "      <td>0.649306</td>\n",
              "      <td>0.447368</td>\n",
              "      <td>0.738142</td>\n",
              "      <td>0.529745</td>\n",
              "      <td>0.691763</td>\n",
              "    </tr>\n",
              "    <tr>\n",
              "      <th>220</th>\n",
              "      <td>11</td>\n",
              "      <td>0.5</td>\n",
              "      <td>0.8225</td>\n",
              "      <td>0.595745</td>\n",
              "      <td>0.468900</td>\n",
              "      <td>0.795497</td>\n",
              "      <td>0.524766</td>\n",
              "      <td>0.692414</td>\n",
              "    </tr>\n",
              "    <tr>\n",
              "      <th>241</th>\n",
              "      <td>12</td>\n",
              "      <td>0.5</td>\n",
              "      <td>0.8100</td>\n",
              "      <td>0.554598</td>\n",
              "      <td>0.461722</td>\n",
              "      <td>0.846329</td>\n",
              "      <td>0.503916</td>\n",
              "      <td>0.681873</td>\n",
              "    </tr>\n",
              "    <tr>\n",
              "      <th>262</th>\n",
              "      <td>13</td>\n",
              "      <td>0.5</td>\n",
              "      <td>0.8180</td>\n",
              "      <td>0.576271</td>\n",
              "      <td>0.488038</td>\n",
              "      <td>0.888790</td>\n",
              "      <td>0.528497</td>\n",
              "      <td>0.696611</td>\n",
              "    </tr>\n",
              "    <tr>\n",
              "      <th>283</th>\n",
              "      <td>14</td>\n",
              "      <td>0.5</td>\n",
              "      <td>0.8005</td>\n",
              "      <td>0.526462</td>\n",
              "      <td>0.452153</td>\n",
              "      <td>0.923280</td>\n",
              "      <td>0.486486</td>\n",
              "      <td>0.672347</td>\n",
              "    </tr>\n",
              "    <tr>\n",
              "      <th>304</th>\n",
              "      <td>15</td>\n",
              "      <td>0.5</td>\n",
              "      <td>0.8035</td>\n",
              "      <td>0.533156</td>\n",
              "      <td>0.480861</td>\n",
              "      <td>0.943791</td>\n",
              "      <td>0.505660</td>\n",
              "      <td>0.684805</td>\n",
              "    </tr>\n",
              "  </tbody>\n",
              "</table>\n",
              "</div>\n",
              "      <button class=\"colab-df-convert\" onclick=\"convertToInteractive('df-db50e7b9-1126-4813-bc42-29d91f85bcd1')\"\n",
              "              title=\"Convert this dataframe to an interactive table.\"\n",
              "              style=\"display:none;\">\n",
              "        \n",
              "  <svg xmlns=\"http://www.w3.org/2000/svg\" height=\"24px\"viewBox=\"0 0 24 24\"\n",
              "       width=\"24px\">\n",
              "    <path d=\"M0 0h24v24H0V0z\" fill=\"none\"/>\n",
              "    <path d=\"M18.56 5.44l.94 2.06.94-2.06 2.06-.94-2.06-.94-.94-2.06-.94 2.06-2.06.94zm-11 1L8.5 8.5l.94-2.06 2.06-.94-2.06-.94L8.5 2.5l-.94 2.06-2.06.94zm10 10l.94 2.06.94-2.06 2.06-.94-2.06-.94-.94-2.06-.94 2.06-2.06.94z\"/><path d=\"M17.41 7.96l-1.37-1.37c-.4-.4-.92-.59-1.43-.59-.52 0-1.04.2-1.43.59L10.3 9.45l-7.72 7.72c-.78.78-.78 2.05 0 2.83L4 21.41c.39.39.9.59 1.41.59.51 0 1.02-.2 1.41-.59l7.78-7.78 2.81-2.81c.8-.78.8-2.07 0-2.86zM5.41 20L4 18.59l7.72-7.72 1.47 1.35L5.41 20z\"/>\n",
              "  </svg>\n",
              "      </button>\n",
              "      \n",
              "  <style>\n",
              "    .colab-df-container {\n",
              "      display:flex;\n",
              "      flex-wrap:wrap;\n",
              "      gap: 12px;\n",
              "    }\n",
              "\n",
              "    .colab-df-convert {\n",
              "      background-color: #E8F0FE;\n",
              "      border: none;\n",
              "      border-radius: 50%;\n",
              "      cursor: pointer;\n",
              "      display: none;\n",
              "      fill: #1967D2;\n",
              "      height: 32px;\n",
              "      padding: 0 0 0 0;\n",
              "      width: 32px;\n",
              "    }\n",
              "\n",
              "    .colab-df-convert:hover {\n",
              "      background-color: #E2EBFA;\n",
              "      box-shadow: 0px 1px 2px rgba(60, 64, 67, 0.3), 0px 1px 3px 1px rgba(60, 64, 67, 0.15);\n",
              "      fill: #174EA6;\n",
              "    }\n",
              "\n",
              "    [theme=dark] .colab-df-convert {\n",
              "      background-color: #3B4455;\n",
              "      fill: #D2E3FC;\n",
              "    }\n",
              "\n",
              "    [theme=dark] .colab-df-convert:hover {\n",
              "      background-color: #434B5C;\n",
              "      box-shadow: 0px 1px 3px 1px rgba(0, 0, 0, 0.15);\n",
              "      filter: drop-shadow(0px 1px 2px rgba(0, 0, 0, 0.3));\n",
              "      fill: #FFFFFF;\n",
              "    }\n",
              "  </style>\n",
              "\n",
              "      <script>\n",
              "        const buttonEl =\n",
              "          document.querySelector('#df-db50e7b9-1126-4813-bc42-29d91f85bcd1 button.colab-df-convert');\n",
              "        buttonEl.style.display =\n",
              "          google.colab.kernel.accessAllowed ? 'block' : 'none';\n",
              "\n",
              "        async function convertToInteractive(key) {\n",
              "          const element = document.querySelector('#df-db50e7b9-1126-4813-bc42-29d91f85bcd1');\n",
              "          const dataTable =\n",
              "            await google.colab.kernel.invokeFunction('convertToInteractive',\n",
              "                                                     [key], {});\n",
              "          if (!dataTable) return;\n",
              "\n",
              "          const docLinkHtml = 'Like what you see? Visit the ' +\n",
              "            '<a target=\"_blank\" href=https://colab.research.google.com/notebooks/data_table.ipynb>data table notebook</a>'\n",
              "            + ' to learn more about interactive tables.';\n",
              "          element.innerHTML = '';\n",
              "          dataTable['output_type'] = 'display_data';\n",
              "          await google.colab.output.renderOutput(dataTable, element);\n",
              "          const docLink = document.createElement('div');\n",
              "          docLink.innerHTML = docLinkHtml;\n",
              "          element.appendChild(docLink);\n",
              "        }\n",
              "      </script>\n",
              "    </div>\n",
              "  </div>\n",
              "  "
            ]
          },
          "metadata": {},
          "execution_count": 30
        }
      ],
      "source": [
        "result_data, best_model, best_result, best_proba, model_threshold = DTC_tuner(features_train, target_train, \n",
        "                                                                             features_valid, target_valid)\n",
        "print('best model:', best_model,'threshold =', '%.2f'%model_threshold)\n",
        "print()\n",
        "print('best f1_score:', best_result)\n",
        "print()\n",
        "result_data.query('threshold == 0.5')"
      ]
    },
    {
      "cell_type": "markdown",
      "metadata": {
        "id": "4PbauM2q56qX"
      },
      "source": [
        "Мы получили максимальное значение метрики `f1_score` равное 0.599 при значении параметра `max_depth` равном 6 и пороговом значении 0.3. Значения метрик при дефолтном пороговом значении 0.5 в зависимости от значения `max_depth` выведены на экран. Обратим внимание, что после значения `max_depth`= 9 значение метрики f1_score начинает снижаться, в то время как для обучающей выборки оно растет, таким образом при значениях `max_depth` больше 9 модель выглядит переобученной. Посмотрим также, чему равно максимальное значение метрики `AUC-ROC`."
      ]
    },
    {
      "cell_type": "code",
      "execution_count": 31,
      "metadata": {
        "id": "TcXpR3MB56qX",
        "outputId": "45ad100e-8986-4ba8-82ef-3a6192ce85c3",
        "colab": {
          "base_uri": "https://localhost:8080/"
        }
      },
      "outputs": [
        {
          "output_type": "stream",
          "name": "stdout",
          "text": [
            "best AUC-ROC: 0.7495992596132326\n"
          ]
        }
      ],
      "source": [
        "print('best AUC-ROC:', result_data['auc_roc'].max())"
      ]
    },
    {
      "cell_type": "markdown",
      "metadata": {
        "id": "HsgFrgK056qY"
      },
      "source": [
        "Максимальное значение `AUC-ROC` наблюдается при `max_depth` 7 и пороговом значении 0.15. Обратим внимание, что `f1_score` при таких параметрах существенно ниже максимальной. Построим графики величин `f1_score` и `auc_roc` в зависимости от глубины `max_depth` при стандартном пороговом значении 0.5"
      ]
    },
    {
      "cell_type": "code",
      "execution_count": 32,
      "metadata": {
        "scrolled": false,
        "id": "LziMn-Rl56qY",
        "outputId": "357c926f-469a-44a0-a1ad-047538b6c89a",
        "colab": {
          "base_uri": "https://localhost:8080/",
          "height": 555
        }
      },
      "outputs": [
        {
          "output_type": "display_data",
          "data": {
            "text/plain": [
              "<Figure size 1152x648 with 1 Axes>"
            ],
            "image/png": "[encoded data removed]"
          },
          "metadata": {
            "needs_background": "light"
          }
        }
      ],
      "source": [
        "result_data.query('threshold == 0.5').plot(x='depth', y=['f1', 'auc_roc'], ylim=(0, 1), figsize=(16,9), grid=True);"
      ]
    },
    {
      "cell_type": "markdown",
      "metadata": {
        "id": "iUcXOh5356qY"
      },
      "source": [
        "Построим ROC-кривую и PR-кривую."
      ]
    },
    {
      "cell_type": "code",
      "execution_count": 33,
      "metadata": {
        "id": "CHl7Ewny56qY",
        "outputId": "7a90cbf7-986d-4bba-c0e9-b2c9998df893",
        "colab": {
          "base_uri": "https://localhost:8080/",
          "height": 1000
        }
      },
      "outputs": [
        {
          "output_type": "display_data",
          "data": {
            "text/plain": [
              "<Figure size 648x648 with 1 Axes>"
            ],
            "image/png": "[encoded data removed]"
          },
          "metadata": {
            "needs_background": "light"
          }
        },
        {
          "output_type": "display_data",
          "data": {
            "text/plain": [
              "<Figure size 648x648 with 1 Axes>"
            ],
            "image/png": "[encoded data removed]"
          },
          "metadata": {
            "needs_background": "light"
          }
        }
      ],
      "source": [
        "roc_curve_display(target_valid, best_proba)\n",
        "pr_curve_display(target_valid, best_proba)"
      ]
    },
    {
      "cell_type": "markdown",
      "metadata": {
        "id": "ih5JClU_56qY"
      },
      "source": [
        "### Random Forest"
      ]
    },
    {
      "cell_type": "markdown",
      "metadata": {
        "id": "26smNsnh56qZ"
      },
      "source": [
        "Как и для Decision Tree, объявим функцию, которая поможет нам с перебором параметров."
      ]
    },
    {
      "cell_type": "code",
      "execution_count": 34,
      "metadata": {
        "id": "qM2K5GBs56qZ"
      },
      "outputs": [],
      "source": [
        "#    Функция, в которой перебираются параметры модели RandomForestClassifier\n",
        "#\n",
        "#    Входные параметры:\n",
        "#    features_train - признаки обучающей выборки\n",
        "#    target_train - целевой признак обучающей выборки\n",
        "#    features_valid - признаки валидационной выборки\n",
        "#    target_valid - целевой признак валидационной выборки\n",
        "#    class_balance - будем ли мы добавлять class_weight='balanced' в модель (False по умолчанию)\n",
        "#    tune_depth - необходимость перебора параметра max_depth (по умолчанию False, max_depth не перебираем)\n",
        "#    depth_min - минимальное значение гиперпараметра модели max_depth (1 по умолчанию)\n",
        "#    depth_max - максимальное значение гиперпараметра модели max_depth (15 по умолчанию)\n",
        "#    depth_by - шаг, с которым перебираются значения max_depth (1 по умолчанию)\n",
        "#    est_min - минимальное значение гиперпараметра модели n_estimators (1 по умолчанию)\n",
        "#    est_max - максимальное значение гиперпараметра модели n_estimators (251 по умолчанию)\n",
        "#    est_by - шаг, с которым перебираются значения n_estimators (25 по умолчанию)\n",
        "#    threshold_min - минимальное пороговое значение (0 по умолчанию)\n",
        "#    threshold_max - максимальное пороговое значение (1 по умолчанию)\n",
        "#    threshold_by - шаг перебора порогового значение (0.05 по умолчанию)\n",
        "#\n",
        "#    Возвращает:\n",
        "#    result_data - датафрейм, в котором записаны результаты работы модели со столбцами:\n",
        "#\n",
        "#                 'depth' - значение параметра max_depth (если max_depth не перебирали, записываем 0)\n",
        "#                 'est' - количество деревьев\n",
        "#                 'threshold' - значение порога\n",
        "#                 'acc' - значение accuracy\n",
        "#                 'precision' - значение precision\n",
        "#                 'recall' - значение recall\n",
        "#                 'f1_train' - значение f1_score для обучающей выборки (нужен, чтобы посмотреть на переобучение, например)\n",
        "#                 'f1' - значение f1_score\n",
        "#                 'auc_roc' - значение AUC ROC\n",
        "#\n",
        "#    best_model - модель с максимальным значение f1_score\n",
        "#    best_result - максимальное значение f1_score\n",
        "#    best_proba - массив вероятностей из predict_proba, для которого f1_score максимальное (нужен для графиков)\n",
        "#    model_threshold - значение порога для модели с максимальным f1_score\n",
        "\n",
        "def RFC_tuner(features_train, target_train, features_valid, target_valid, class_balance=False, tune_depth=False,\n",
        "             depth_min=1, depth_max=15, depth_by=1, est_min=1, est_max=251, est_by=25,\n",
        "             threshold_min=0, threshold_max=1, threshold_by=0.05): \n",
        "    best_model = None #инициализируем переменную, в которой будем хранить лучшую модель\n",
        "    best_result = 0   #переменная, в которй будем хранить лучший результат\n",
        "    result_data = []  #переменная, которая в последствие станет датафреймом с результатами\n",
        "    if not tune_depth: # если перебирать max_depth не нужно, устанавливаем значения, чтобы внешний цикл сработал 1 раз\n",
        "        depth_min = 0\n",
        "        depth_max = 0\n",
        "        depth_by = 1\n",
        "    for depth in range(depth_min, depth_max + 1, depth_by): #внешний цикл, перебирающий значения параметра max_depth\n",
        "        for est in range(est_min, est_max + 1, est_by): #внутренний цикл, перебор n_estimators\n",
        "            #инициализация модели в зависимости от признаков tune_depth и class_balance\n",
        "            if tune_depth:\n",
        "                if class_balance:\n",
        "                    model = RandomForestClassifier(max_depth=depth, n_estimators=est,\n",
        "                                                   random_state=12345, class_weight='balanced')\n",
        "                else:\n",
        "                    model = RandomForestClassifier(max_depth=depth, n_estimators=est, random_state=12345)\n",
        "            else:\n",
        "                if class_balance:\n",
        "                    model = RandomForestClassifier(n_estimators=est, random_state=12345, class_weight='balanced')\n",
        "                else:\n",
        "                     model = RandomForestClassifier(n_estimators=est, random_state=12345)\n",
        "            model.fit(features_train, target_train) #обучение модели\n",
        "            probabilities_valid = model.predict_proba(features_valid) #предсказали на валидационной выборке, сохранили вероятности\n",
        "            probabilities_one_valid = probabilities_valid[:, 1] #вероятности класса 1\n",
        "            probabilities_train = model.predict_proba(features_train) #предсказали на обучающей выборке\n",
        "            probabilities_train_one_valid = probabilities_train[:, 1]\n",
        "            for threshold in np.arange(threshold_min, threshold_max+0.01, threshold_by): #перебираем пороговые значения\n",
        "                predicted_valid = probabilities_one_valid > threshold\n",
        "                predicted_train = probabilities_train_one_valid > threshold\n",
        "                precision = precision_score(target_valid, predicted_valid, zero_division=0) #сохраняем значения метрик\n",
        "                recall = recall_score(target_valid, predicted_valid)\n",
        "                acc = accuracy_score(target_valid, predicted_valid)\n",
        "                f1 = f1_score(target_valid, predicted_valid)\n",
        "                f1_train = f1_score(target_train, predicted_train)   \n",
        "                auc_roc = roc_auc_score(target_valid, predicted_valid)\n",
        "                if f1 > best_result: #ищем наилучшую модель\n",
        "                    best_result = f1\n",
        "                    best_model = model\n",
        "                    best_proba = probabilities_valid[:, 1]\n",
        "                    model_threshold = threshold\n",
        "                #записываем результаты в список\n",
        "                result_data.append([depth, est, threshold, acc, precision, recall, f1_train, f1, auc_roc])\n",
        "    #превращаем список в датафрейм\n",
        "    result_data = pd.DataFrame(result_data, columns=['depth', 'est', 'threshold', 'acc', 'precision', 'recall',\n",
        "                                                     'f1_train', 'f1', 'auc_roc'])\n",
        "    return result_data, best_model, best_result, best_proba, model_threshold"
      ]
    },
    {
      "cell_type": "markdown",
      "metadata": {
        "id": "zbyUkKJg56qZ"
      },
      "source": [
        "Наша функция позволяет перебирать гиперпараметры `max_depth`, `n_estimators`, но по умолчанию перебирается только `n_estimators`. Посмотрим на результат работы функции, перебирающей `n_estimators` в диапазоне от 1 до 251 с шагом 25 (значения функции по умолчанию)."
      ]
    },
    {
      "cell_type": "code",
      "execution_count": 35,
      "metadata": {
        "scrolled": false,
        "id": "A5pseqcs56qZ",
        "outputId": "8d3d8697-8af3-4c72-ad4f-7c7d3c5a875b",
        "colab": {
          "base_uri": "https://localhost:8080/",
          "height": 466
        }
      },
      "outputs": [
        {
          "output_type": "stream",
          "name": "stdout",
          "text": [
            "best model: RandomForestClassifier(n_estimators=101, random_state=12345) threshold = 0.35\n",
            "\n",
            "best f1_score: 0.6318347509113\n",
            "\n"
          ]
        },
        {
          "output_type": "execute_result",
          "data": {
            "text/plain": [
              "     depth  est  threshold     acc  precision    recall  f1_train        f1  \\\n",
              "10       0    1        0.5  0.7860   0.488532  0.509569  0.820513  0.498829   \n",
              "31       0   26        0.5  0.8580   0.770161  0.456938  0.991575  0.573574   \n",
              "52       0   51        0.5  0.8610   0.763158  0.485646  0.998325  0.593567   \n",
              "73       0   76        0.5  0.8580   0.759690  0.468900  0.999582  0.579882   \n",
              "94       0  101        0.5  0.8590   0.763566  0.471292  0.999582  0.582840   \n",
              "115      0  126        0.5  0.8595   0.764479  0.473684  0.999582  0.584934   \n",
              "136      0  151        0.5  0.8590   0.761538  0.473684  1.000000  0.584071   \n",
              "157      0  176        0.5  0.8575   0.762846  0.461722  1.000000  0.575261   \n",
              "178      0  201        0.5  0.8570   0.759843  0.461722  1.000000  0.574405   \n",
              "199      0  226        0.5  0.8570   0.757812  0.464115  1.000000  0.575668   \n",
              "220      0  251        0.5  0.8575   0.762846  0.461722  1.000000  0.575261   \n",
              "\n",
              "      auc_roc  \n",
              "10   0.684304  \n",
              "31   0.710454  \n",
              "52   0.722911  \n",
              "73   0.714854  \n",
              "94   0.716367  \n",
              "115  0.717563  \n",
              "136  0.717247  \n",
              "157  0.711898  \n",
              "178  0.711582  \n",
              "199  0.712462  \n",
              "220  0.711898  "
            ],
            "text/html": [
              "\n",
              "  <div id=\"df-3a1e6b4a-93f5-443f-b103-39f000b427a0\">\n",
              "    <div class=\"colab-df-container\">\n",
              "      <div>\n",
              "<style scoped>\n",
              "    .dataframe tbody tr th:only-of-type {\n",
              "        vertical-align: middle;\n",
              "    }\n",
              "\n",
              "    .dataframe tbody tr th {\n",
              "        vertical-align: top;\n",
              "    }\n",
              "\n",
              "    .dataframe thead th {\n",
              "        text-align: right;\n",
              "    }\n",
              "</style>\n",
              "<table border=\"1\" class=\"dataframe\">\n",
              "  <thead>\n",
              "    <tr style=\"text-align: right;\">\n",
              "      <th></th>\n",
              "      <th>depth</th>\n",
              "      <th>est</th>\n",
              "      <th>threshold</th>\n",
              "      <th>acc</th>\n",
              "      <th>precision</th>\n",
              "      <th>recall</th>\n",
              "      <th>f1_train</th>\n",
              "      <th>f1</th>\n",
              "      <th>auc_roc</th>\n",
              "    </tr>\n",
              "  </thead>\n",
              "  <tbody>\n",
              "    <tr>\n",
              "      <th>10</th>\n",
              "      <td>0</td>\n",
              "      <td>1</td>\n",
              "      <td>0.5</td>\n",
              "      <td>0.7860</td>\n",
              "      <td>0.488532</td>\n",
              "      <td>0.509569</td>\n",
              "      <td>0.820513</td>\n",
              "      <td>0.498829</td>\n",
              "      <td>0.684304</td>\n",
              "    </tr>\n",
              "    <tr>\n",
              "      <th>31</th>\n",
              "      <td>0</td>\n",
              "      <td>26</td>\n",
              "      <td>0.5</td>\n",
              "      <td>0.8580</td>\n",
              "      <td>0.770161</td>\n",
              "      <td>0.456938</td>\n",
              "      <td>0.991575</td>\n",
              "      <td>0.573574</td>\n",
              "      <td>0.710454</td>\n",
              "    </tr>\n",
              "    <tr>\n",
              "      <th>52</th>\n",
              "      <td>0</td>\n",
              "      <td>51</td>\n",
              "      <td>0.5</td>\n",
              "      <td>0.8610</td>\n",
              "      <td>0.763158</td>\n",
              "      <td>0.485646</td>\n",
              "      <td>0.998325</td>\n",
              "      <td>0.593567</td>\n",
              "      <td>0.722911</td>\n",
              "    </tr>\n",
              "    <tr>\n",
              "      <th>73</th>\n",
              "      <td>0</td>\n",
              "      <td>76</td>\n",
              "      <td>0.5</td>\n",
              "      <td>0.8580</td>\n",
              "      <td>0.759690</td>\n",
              "      <td>0.468900</td>\n",
              "      <td>0.999582</td>\n",
              "      <td>0.579882</td>\n",
              "      <td>0.714854</td>\n",
              "    </tr>\n",
              "    <tr>\n",
              "      <th>94</th>\n",
              "      <td>0</td>\n",
              "      <td>101</td>\n",
              "      <td>0.5</td>\n",
              "      <td>0.8590</td>\n",
              "      <td>0.763566</td>\n",
              "      <td>0.471292</td>\n",
              "      <td>0.999582</td>\n",
              "      <td>0.582840</td>\n",
              "      <td>0.716367</td>\n",
              "    </tr>\n",
              "    <tr>\n",
              "      <th>115</th>\n",
              "      <td>0</td>\n",
              "      <td>126</td>\n",
              "      <td>0.5</td>\n",
              "      <td>0.8595</td>\n",
              "      <td>0.764479</td>\n",
              "      <td>0.473684</td>\n",
              "      <td>0.999582</td>\n",
              "      <td>0.584934</td>\n",
              "      <td>0.717563</td>\n",
              "    </tr>\n",
              "    <tr>\n",
              "      <th>136</th>\n",
              "      <td>0</td>\n",
              "      <td>151</td>\n",
              "      <td>0.5</td>\n",
              "      <td>0.8590</td>\n",
              "      <td>0.761538</td>\n",
              "      <td>0.473684</td>\n",
              "      <td>1.000000</td>\n",
              "      <td>0.584071</td>\n",
              "      <td>0.717247</td>\n",
              "    </tr>\n",
              "    <tr>\n",
              "      <th>157</th>\n",
              "      <td>0</td>\n",
              "      <td>176</td>\n",
              "      <td>0.5</td>\n",
              "      <td>0.8575</td>\n",
              "      <td>0.762846</td>\n",
              "      <td>0.461722</td>\n",
              "      <td>1.000000</td>\n",
              "      <td>0.575261</td>\n",
              "      <td>0.711898</td>\n",
              "    </tr>\n",
              "    <tr>\n",
              "      <th>178</th>\n",
              "      <td>0</td>\n",
              "      <td>201</td>\n",
              "      <td>0.5</td>\n",
              "      <td>0.8570</td>\n",
              "      <td>0.759843</td>\n",
              "      <td>0.461722</td>\n",
              "      <td>1.000000</td>\n",
              "      <td>0.574405</td>\n",
              "      <td>0.711582</td>\n",
              "    </tr>\n",
              "    <tr>\n",
              "      <th>199</th>\n",
              "      <td>0</td>\n",
              "      <td>226</td>\n",
              "      <td>0.5</td>\n",
              "      <td>0.8570</td>\n",
              "      <td>0.757812</td>\n",
              "      <td>0.464115</td>\n",
              "      <td>1.000000</td>\n",
              "      <td>0.575668</td>\n",
              "      <td>0.712462</td>\n",
              "    </tr>\n",
              "    <tr>\n",
              "      <th>220</th>\n",
              "      <td>0</td>\n",
              "      <td>251</td>\n",
              "      <td>0.5</td>\n",
              "      <td>0.8575</td>\n",
              "      <td>0.762846</td>\n",
              "      <td>0.461722</td>\n",
              "      <td>1.000000</td>\n",
              "      <td>0.575261</td>\n",
              "      <td>0.711898</td>\n",
              "    </tr>\n",
              "  </tbody>\n",
              "</table>\n",
              "</div>\n",
              "      <button class=\"colab-df-convert\" onclick=\"convertToInteractive('df-3a1e6b4a-93f5-443f-b103-39f000b427a0')\"\n",
              "              title=\"Convert this dataframe to an interactive table.\"\n",
              "              style=\"display:none;\">\n",
              "        \n",
              "  <svg xmlns=\"http://www.w3.org/2000/svg\" height=\"24px\"viewBox=\"0 0 24 24\"\n",
              "       width=\"24px\">\n",
              "    <path d=\"M0 0h24v24H0V0z\" fill=\"none\"/>\n",
              "    <path d=\"M18.56 5.44l.94 2.06.94-2.06 2.06-.94-2.06-.94-.94-2.06-.94 2.06-2.06.94zm-11 1L8.5 8.5l.94-2.06 2.06-.94-2.06-.94L8.5 2.5l-.94 2.06-2.06.94zm10 10l.94 2.06.94-2.06 2.06-.94-2.06-.94-.94-2.06-.94 2.06-2.06.94z\"/><path d=\"M17.41 7.96l-1.37-1.37c-.4-.4-.92-.59-1.43-.59-.52 0-1.04.2-1.43.59L10.3 9.45l-7.72 7.72c-.78.78-.78 2.05 0 2.83L4 21.41c.39.39.9.59 1.41.59.51 0 1.02-.2 1.41-.59l7.78-7.78 2.81-2.81c.8-.78.8-2.07 0-2.86zM5.41 20L4 18.59l7.72-7.72 1.47 1.35L5.41 20z\"/>\n",
              "  </svg>\n",
              "      </button>\n",
              "      \n",
              "  <style>\n",
              "    .colab-df-container {\n",
              "      display:flex;\n",
              "      flex-wrap:wrap;\n",
              "      gap: 12px;\n",
              "    }\n",
              "\n",
              "    .colab-df-convert {\n",
              "      background-color: #E8F0FE;\n",
              "      border: none;\n",
              "      border-radius: 50%;\n",
              "      cursor: pointer;\n",
              "      display: none;\n",
              "      fill: #1967D2;\n",
              "      height: 32px;\n",
              "      padding: 0 0 0 0;\n",
              "      width: 32px;\n",
              "    }\n",
              "\n",
              "    .colab-df-convert:hover {\n",
              "      background-color: #E2EBFA;\n",
              "      box-shadow: 0px 1px 2px rgba(60, 64, 67, 0.3), 0px 1px 3px 1px rgba(60, 64, 67, 0.15);\n",
              "      fill: #174EA6;\n",
              "    }\n",
              "\n",
              "    [theme=dark] .colab-df-convert {\n",
              "      background-color: #3B4455;\n",
              "      fill: #D2E3FC;\n",
              "    }\n",
              "\n",
              "    [theme=dark] .colab-df-convert:hover {\n",
              "      background-color: #434B5C;\n",
              "      box-shadow: 0px 1px 3px 1px rgba(0, 0, 0, 0.15);\n",
              "      filter: drop-shadow(0px 1px 2px rgba(0, 0, 0, 0.3));\n",
              "      fill: #FFFFFF;\n",
              "    }\n",
              "  </style>\n",
              "\n",
              "      <script>\n",
              "        const buttonEl =\n",
              "          document.querySelector('#df-3a1e6b4a-93f5-443f-b103-39f000b427a0 button.colab-df-convert');\n",
              "        buttonEl.style.display =\n",
              "          google.colab.kernel.accessAllowed ? 'block' : 'none';\n",
              "\n",
              "        async function convertToInteractive(key) {\n",
              "          const element = document.querySelector('#df-3a1e6b4a-93f5-443f-b103-39f000b427a0');\n",
              "          const dataTable =\n",
              "            await google.colab.kernel.invokeFunction('convertToInteractive',\n",
              "                                                     [key], {});\n",
              "          if (!dataTable) return;\n",
              "\n",
              "          const docLinkHtml = 'Like what you see? Visit the ' +\n",
              "            '<a target=\"_blank\" href=https://colab.research.google.com/notebooks/data_table.ipynb>data table notebook</a>'\n",
              "            + ' to learn more about interactive tables.';\n",
              "          element.innerHTML = '';\n",
              "          dataTable['output_type'] = 'display_data';\n",
              "          await google.colab.output.renderOutput(dataTable, element);\n",
              "          const docLink = document.createElement('div');\n",
              "          docLink.innerHTML = docLinkHtml;\n",
              "          element.appendChild(docLink);\n",
              "        }\n",
              "      </script>\n",
              "    </div>\n",
              "  </div>\n",
              "  "
            ]
          },
          "metadata": {},
          "execution_count": 35
        }
      ],
      "source": [
        "result_data, best_model, best_result, best_proba, model_threshold = RFC_tuner(features_train, target_train,\n",
        "                                                                              features_valid, target_valid)\n",
        "print('best model:', best_model,'threshold =', '%.2f'%model_threshold)\n",
        "print()\n",
        "print('best f1_score:', best_result)\n",
        "print()\n",
        "result_data.query('threshold == 0.5')"
      ]
    },
    {
      "cell_type": "markdown",
      "metadata": {
        "id": "LUsHVf1356qa"
      },
      "source": [
        "Значение метрики `f1_score` выросло по сравнению с Decision Tree, что ожидаемо. Выросло и время выполнения кода. Снова выведены значения метрик при стандартном пороговом значении 0.5 в зависимости от числа `n_estimators`. Снова посмотрим на максимальное `AUC-ROC`, на график метрик `AUC-ROC` и `f1_score` в зависимости от параметра `n_estimators`, а также выведем ROC-кривую и PR-кривую"
      ]
    },
    {
      "cell_type": "code",
      "execution_count": 36,
      "metadata": {
        "scrolled": false,
        "id": "RJxhXXxA56qa",
        "outputId": "01201890-df21-45d1-d604-fce9ac0f24ad",
        "colab": {
          "base_uri": "https://localhost:8080/"
        }
      },
      "outputs": [
        {
          "output_type": "stream",
          "name": "stdout",
          "text": [
            "best AUC-ROC: 0.7746689733182514\n"
          ]
        }
      ],
      "source": [
        "print('best AUC-ROC:', result_data['auc_roc'].max())"
      ]
    },
    {
      "cell_type": "code",
      "execution_count": 37,
      "metadata": {
        "id": "vk1x6LDn56qa",
        "outputId": "577ca8b4-0455-4329-af39-4a37e24db385",
        "colab": {
          "base_uri": "https://localhost:8080/",
          "height": 555
        }
      },
      "outputs": [
        {
          "output_type": "display_data",
          "data": {
            "text/plain": [
              "<Figure size 1152x648 with 1 Axes>"
            ],
            "image/png": "[encoded data removed]"
          },
          "metadata": {
            "needs_background": "light"
          }
        }
      ],
      "source": [
        "result_data.query('threshold == 0.5').plot(x='est', y=['f1', 'auc_roc'], ylim=(0, 1), figsize=(16,9), grid=True);"
      ]
    },
    {
      "cell_type": "code",
      "execution_count": 38,
      "metadata": {
        "scrolled": false,
        "id": "emhFus_x56qa",
        "outputId": "11abbbb7-b411-4201-9bec-ab1ae150f623",
        "colab": {
          "base_uri": "https://localhost:8080/",
          "height": 1000
        }
      },
      "outputs": [
        {
          "output_type": "display_data",
          "data": {
            "text/plain": [
              "<Figure size 648x648 with 1 Axes>"
            ],
            "image/png": "[encoded data removed]"
          },
          "metadata": {
            "needs_background": "light"
          }
        },
        {
          "output_type": "display_data",
          "data": {
            "text/plain": [
              "<Figure size 648x648 with 1 Axes>"
            ],
            "image/png": "[encoded data removed]"
          },
          "metadata": {
            "needs_background": "light"
          }
        }
      ],
      "source": [
        "roc_curve_display(target_valid, best_proba)\n",
        "pr_curve_display(target_valid, best_proba)"
      ]
    },
    {
      "cell_type": "markdown",
      "metadata": {
        "id": "8WIY84Xk56qa"
      },
      "source": [
        "Попробуем перебирать одновременно два гиперпараметра `n_estimators` и `max_depth`, для этого укажем в нашей функции параметр `tune_depth=True`. Внимание: код выполняется около трех минут."
      ]
    },
    {
      "cell_type": "code",
      "execution_count": 39,
      "metadata": {
        "id": "LrVF72qW56qb",
        "outputId": "4ef9d62d-249a-449b-f56d-c274b8c2aa13",
        "colab": {
          "base_uri": "https://localhost:8080/"
        }
      },
      "outputs": [
        {
          "output_type": "stream",
          "name": "stdout",
          "text": [
            "best model: RandomForestClassifier(max_depth=11, n_estimators=126, random_state=12345) threshold = 0.30\n",
            "\n",
            "best f1_score: 0.6451612903225807\n",
            "best AUC-ROC: 0.7852787640864027\n",
            "CPU times: user 3min 11s, sys: 583 ms, total: 3min 12s\n",
            "Wall time: 3min 35s\n"
          ]
        }
      ],
      "source": [
        "%%time\n",
        "result_data, best_model, best_result, best_proba, model_threshold = RFC_tuner(features_train, target_train,\n",
        "                                                                              features_valid, target_valid,\n",
        "                                                                              tune_depth=True)\n",
        "print('best model:', best_model,'threshold =', '%.2f'%model_threshold)\n",
        "print()\n",
        "print('best f1_score:', best_result)\n",
        "print('best AUC-ROC:', result_data['auc_roc'].max())"
      ]
    },
    {
      "cell_type": "markdown",
      "metadata": {
        "id": "iCN2jICD56qb"
      },
      "source": [
        "Таким образом мы добились лучшей работы Random Forest по сравнению с перебором только параметра `n_estimators`. Обе метрики `f1_score` и `auc_roc` выросли."
      ]
    },
    {
      "cell_type": "markdown",
      "metadata": {
        "id": "A0qMlv4156qb"
      },
      "source": [
        "### Logistic Regression"
      ]
    },
    {
      "cell_type": "markdown",
      "metadata": {
        "id": "Lu5DYVwY56qb"
      },
      "source": [
        "Исследуем еще одну модель - Logistic Regression. Снова определим функцию для перебора параметров."
      ]
    },
    {
      "cell_type": "code",
      "execution_count": 40,
      "metadata": {
        "id": "qTGfvR_K56qb"
      },
      "outputs": [],
      "source": [
        "#    Функция, в которой перебираются параметры модели LogisticRegression\n",
        "#\n",
        "#    Входные параметры:\n",
        "#    features_train - признаки обучающей выборки\n",
        "#    target_train - целевой признак обучающей выборки\n",
        "#    features_valid - признаки валидационной выборки\n",
        "#    target_valid - целевой признак валидационной выборки\n",
        "#    class_balance - будем ли мы добавлять class_weight='balanced' в модель (False по умолчанию)\n",
        "#    solver - значение параметра solver модели ('liblinear' по умолчанию)\n",
        "#    threshold_min - минимальное пороговое значение (0 по умолчанию)\n",
        "#    threshold_max - максимальное пороговое значение (1 по умолчанию)\n",
        "#    threshold_by - шаг перебора порогового значение (0.05 по умолчанию)\n",
        "#\n",
        "#    Возвращает:\n",
        "#    result_data - датафрейм, в котором записаны результаты работы модели со столбцами:\n",
        "#\n",
        "#                 'threshold' - значение порога\n",
        "#                 'acc' - значение accuracy\n",
        "#                 'precision' - значение precision\n",
        "#                 'recall' - значение recall\n",
        "#                 'f1_train' - значение f1_score для обучающей выборки (нужен, чтобы посмотреть на переобучение, например)\n",
        "#                 'f1' - значение f1_score\n",
        "#                 'auc_roc' - значение AUC ROC\n",
        "#\n",
        "#    best_model - модель с максимальным значение f1_score\n",
        "#    best_result - максимальное значение f1_score\n",
        "#    best_proba - массив вероятностей из predict_proba, для которого f1_score максимальное (нужен для графиков)\n",
        "#    model_threshold - значение порога для модели с максимальным f1_score\n",
        "\n",
        "def LR_tuner(features_train, target_train, features_valid, target_valid, class_balance=False,\n",
        "             solver='liblinear', threshold_min=0, threshold_max=1, threshold_by=0.05):    \n",
        "    best_model = None #инициализируем переменную, в которой будем хранить лучшую модель\n",
        "    best_result = 0   #переменная, в которй будем хранить лучший результат\n",
        "    result_data = []  #переменная, которая в последствие станет датафреймом с результатами \n",
        "    if class_balance:\n",
        "        model = LogisticRegression(random_state=12345, solver=solver, class_weight='balanced') #инициализация модели\n",
        "    else:\n",
        "        model = LogisticRegression(solver=solver, random_state=12345) \n",
        "    model.fit(features_train, target_train) #обучили модель на обучающих признаках\n",
        "    probabilities_valid = model.predict_proba(features_valid) #предсказали на валидационной выборке, сохранили вероятности\n",
        "    probabilities_one_valid = probabilities_valid[:, 1] #вероятности класса 1\n",
        "    probabilities_train = model.predict_proba(features_train) #предсказали на обучающей выборке\n",
        "    probabilities_train_one_valid = probabilities_train[:, 1]\n",
        "    for threshold in np.arange(threshold_min, threshold_max+0.01, threshold_by): #перебираем пороговые значения\n",
        "        predicted_valid = probabilities_one_valid > threshold \n",
        "        predicted_train = probabilities_train_one_valid > threshold\n",
        "        precision = precision_score(target_valid, predicted_valid, zero_division=0) #сохраняем значения метрик\n",
        "        recall = recall_score(target_valid, predicted_valid)\n",
        "        acc = accuracy_score(target_valid, predicted_valid)\n",
        "        f1 = f1_score(target_valid, predicted_valid)\n",
        "        f1_train = f1_score(target_train, predicted_train)   \n",
        "        auc_roc = roc_auc_score(target_valid, predicted_valid)\n",
        "        if f1 > best_result: #ищем наилучшую модель\n",
        "            best_result = f1\n",
        "            best_model = model\n",
        "            best_proba = probabilities_valid[:, 1]\n",
        "            model_threshold = threshold\n",
        "        result_data.append([threshold, acc, precision, recall, f1_train, f1, auc_roc]) #записываем результаты в список\n",
        "    #превращаем список в датафрейм\n",
        "    result_data = pd.DataFrame(result_data, columns=['threshold', 'acc', 'precision',\n",
        "                                                     'recall', 'f1_train', 'f1', 'auc_roc'])\n",
        "    return result_data, best_model, best_result, best_proba, model_threshold"
      ]
    },
    {
      "cell_type": "markdown",
      "metadata": {
        "id": "UEJbJ07P56qc"
      },
      "source": [
        "В отличие от Decision Tree и Random Forest, на Logistic Regression влияет масштабирование признаков, однако сперва обучим модель на немасштабированных признаках и несбалансированных классах."
      ]
    },
    {
      "cell_type": "code",
      "execution_count": 41,
      "metadata": {
        "scrolled": false,
        "id": "nwRIrMJJ56qc",
        "outputId": "73480a48-f1ef-4c48-9c7f-e88075a49101",
        "colab": {
          "base_uri": "https://localhost:8080/",
          "height": 780
        }
      },
      "outputs": [
        {
          "output_type": "stream",
          "name": "stdout",
          "text": [
            "best model: LogisticRegression(random_state=12345, solver='liblinear') threshold = 0.20\n",
            "\n",
            "best f1_score: 0.41379310344827586\n",
            "\n"
          ]
        },
        {
          "output_type": "execute_result",
          "data": {
            "text/plain": [
              "    threshold     acc  precision    recall  f1_train        f1   auc_roc\n",
              "0        0.00  0.2090   0.209000  1.000000  0.332407  0.345740  0.500000\n",
              "1        0.05  0.2275   0.212939  1.000000  0.335631  0.351113  0.511694\n",
              "2        0.10  0.3395   0.234880  0.956938  0.360212  0.377181  0.566648\n",
              "3        0.15  0.4815   0.261372  0.811005  0.387006  0.395335  0.602721\n",
              "4        0.20  0.6175   0.304397  0.645933  0.403040  0.413793  0.627960\n",
              "5        0.25  0.6955   0.337308  0.473684  0.397124  0.394030  0.613896\n",
              "6        0.30  0.7325   0.356968  0.349282  0.366209  0.353083  0.591519\n",
              "7        0.35  0.7600   0.382576  0.241627  0.307135  0.296188  0.569296\n",
              "8        0.40  0.7760   0.410714  0.165072  0.231554  0.235495  0.551246\n",
              "9        0.45  0.7785   0.368421  0.083732  0.143345  0.136452  0.522903\n",
              "10       0.50  0.7815   0.338983  0.047847  0.088692  0.083857  0.511597\n",
              "11       0.55  0.7870   0.366667  0.026316  0.061633  0.049107  0.507153\n",
              "12       0.60  0.7880   0.285714  0.009569  0.025641  0.018519  0.501624\n",
              "13       0.65  0.7880   0.000000  0.000000  0.016313  0.000000  0.498104\n",
              "14       0.70  0.7895   0.000000  0.000000  0.006623  0.000000  0.499052\n",
              "15       0.75  0.7905   0.000000  0.000000  0.003333  0.000000  0.499684\n",
              "16       0.80  0.7910   0.000000  0.000000  0.001669  0.000000  0.500000\n",
              "17       0.85  0.7910   0.000000  0.000000  0.000000  0.000000  0.500000\n",
              "18       0.90  0.7910   0.000000  0.000000  0.000000  0.000000  0.500000\n",
              "19       0.95  0.7910   0.000000  0.000000  0.000000  0.000000  0.500000\n",
              "20       1.00  0.7910   0.000000  0.000000  0.000000  0.000000  0.500000"
            ],
            "text/html": [
              "\n",
              "  <div id=\"df-b9f16624-264d-49c1-9307-6a753bc9b7d1\">\n",
              "    <div class=\"colab-df-container\">\n",
              "      <div>\n",
              "<style scoped>\n",
              "    .dataframe tbody tr th:only-of-type {\n",
              "        vertical-align: middle;\n",
              "    }\n",
              "\n",
              "    .dataframe tbody tr th {\n",
              "        vertical-align: top;\n",
              "    }\n",
              "\n",
              "    .dataframe thead th {\n",
              "        text-align: right;\n",
              "    }\n",
              "</style>\n",
              "<table border=\"1\" class=\"dataframe\">\n",
              "  <thead>\n",
              "    <tr style=\"text-align: right;\">\n",
              "      <th></th>\n",
              "      <th>threshold</th>\n",
              "      <th>acc</th>\n",
              "      <th>precision</th>\n",
              "      <th>recall</th>\n",
              "      <th>f1_train</th>\n",
              "      <th>f1</th>\n",
              "      <th>auc_roc</th>\n",
              "    </tr>\n",
              "  </thead>\n",
              "  <tbody>\n",
              "    <tr>\n",
              "      <th>0</th>\n",
              "      <td>0.00</td>\n",
              "      <td>0.2090</td>\n",
              "      <td>0.209000</td>\n",
              "      <td>1.000000</td>\n",
              "      <td>0.332407</td>\n",
              "      <td>0.345740</td>\n",
              "      <td>0.500000</td>\n",
              "    </tr>\n",
              "    <tr>\n",
              "      <th>1</th>\n",
              "      <td>0.05</td>\n",
              "      <td>0.2275</td>\n",
              "      <td>0.212939</td>\n",
              "      <td>1.000000</td>\n",
              "      <td>0.335631</td>\n",
              "      <td>0.351113</td>\n",
              "      <td>0.511694</td>\n",
              "    </tr>\n",
              "    <tr>\n",
              "      <th>2</th>\n",
              "      <td>0.10</td>\n",
              "      <td>0.3395</td>\n",
              "      <td>0.234880</td>\n",
              "      <td>0.956938</td>\n",
              "      <td>0.360212</td>\n",
              "      <td>0.377181</td>\n",
              "      <td>0.566648</td>\n",
              "    </tr>\n",
              "    <tr>\n",
              "      <th>3</th>\n",
              "      <td>0.15</td>\n",
              "      <td>0.4815</td>\n",
              "      <td>0.261372</td>\n",
              "      <td>0.811005</td>\n",
              "      <td>0.387006</td>\n",
              "      <td>0.395335</td>\n",
              "      <td>0.602721</td>\n",
              "    </tr>\n",
              "    <tr>\n",
              "      <th>4</th>\n",
              "      <td>0.20</td>\n",
              "      <td>0.6175</td>\n",
              "      <td>0.304397</td>\n",
              "      <td>0.645933</td>\n",
              "      <td>0.403040</td>\n",
              "      <td>0.413793</td>\n",
              "      <td>0.627960</td>\n",
              "    </tr>\n",
              "    <tr>\n",
              "      <th>5</th>\n",
              "      <td>0.25</td>\n",
              "      <td>0.6955</td>\n",
              "      <td>0.337308</td>\n",
              "      <td>0.473684</td>\n",
              "      <td>0.397124</td>\n",
              "      <td>0.394030</td>\n",
              "      <td>0.613896</td>\n",
              "    </tr>\n",
              "    <tr>\n",
              "      <th>6</th>\n",
              "      <td>0.30</td>\n",
              "      <td>0.7325</td>\n",
              "      <td>0.356968</td>\n",
              "      <td>0.349282</td>\n",
              "      <td>0.366209</td>\n",
              "      <td>0.353083</td>\n",
              "      <td>0.591519</td>\n",
              "    </tr>\n",
              "    <tr>\n",
              "      <th>7</th>\n",
              "      <td>0.35</td>\n",
              "      <td>0.7600</td>\n",
              "      <td>0.382576</td>\n",
              "      <td>0.241627</td>\n",
              "      <td>0.307135</td>\n",
              "      <td>0.296188</td>\n",
              "      <td>0.569296</td>\n",
              "    </tr>\n",
              "    <tr>\n",
              "      <th>8</th>\n",
              "      <td>0.40</td>\n",
              "      <td>0.7760</td>\n",
              "      <td>0.410714</td>\n",
              "      <td>0.165072</td>\n",
              "      <td>0.231554</td>\n",
              "      <td>0.235495</td>\n",
              "      <td>0.551246</td>\n",
              "    </tr>\n",
              "    <tr>\n",
              "      <th>9</th>\n",
              "      <td>0.45</td>\n",
              "      <td>0.7785</td>\n",
              "      <td>0.368421</td>\n",
              "      <td>0.083732</td>\n",
              "      <td>0.143345</td>\n",
              "      <td>0.136452</td>\n",
              "      <td>0.522903</td>\n",
              "    </tr>\n",
              "    <tr>\n",
              "      <th>10</th>\n",
              "      <td>0.50</td>\n",
              "      <td>0.7815</td>\n",
              "      <td>0.338983</td>\n",
              "      <td>0.047847</td>\n",
              "      <td>0.088692</td>\n",
              "      <td>0.083857</td>\n",
              "      <td>0.511597</td>\n",
              "    </tr>\n",
              "    <tr>\n",
              "      <th>11</th>\n",
              "      <td>0.55</td>\n",
              "      <td>0.7870</td>\n",
              "      <td>0.366667</td>\n",
              "      <td>0.026316</td>\n",
              "      <td>0.061633</td>\n",
              "      <td>0.049107</td>\n",
              "      <td>0.507153</td>\n",
              "    </tr>\n",
              "    <tr>\n",
              "      <th>12</th>\n",
              "      <td>0.60</td>\n",
              "      <td>0.7880</td>\n",
              "      <td>0.285714</td>\n",
              "      <td>0.009569</td>\n",
              "      <td>0.025641</td>\n",
              "      <td>0.018519</td>\n",
              "      <td>0.501624</td>\n",
              "    </tr>\n",
              "    <tr>\n",
              "      <th>13</th>\n",
              "      <td>0.65</td>\n",
              "      <td>0.7880</td>\n",
              "      <td>0.000000</td>\n",
              "      <td>0.000000</td>\n",
              "      <td>0.016313</td>\n",
              "      <td>0.000000</td>\n",
              "      <td>0.498104</td>\n",
              "    </tr>\n",
              "    <tr>\n",
              "      <th>14</th>\n",
              "      <td>0.70</td>\n",
              "      <td>0.7895</td>\n",
              "      <td>0.000000</td>\n",
              "      <td>0.000000</td>\n",
              "      <td>0.006623</td>\n",
              "      <td>0.000000</td>\n",
              "      <td>0.499052</td>\n",
              "    </tr>\n",
              "    <tr>\n",
              "      <th>15</th>\n",
              "      <td>0.75</td>\n",
              "      <td>0.7905</td>\n",
              "      <td>0.000000</td>\n",
              "      <td>0.000000</td>\n",
              "      <td>0.003333</td>\n",
              "      <td>0.000000</td>\n",
              "      <td>0.499684</td>\n",
              "    </tr>\n",
              "    <tr>\n",
              "      <th>16</th>\n",
              "      <td>0.80</td>\n",
              "      <td>0.7910</td>\n",
              "      <td>0.000000</td>\n",
              "      <td>0.000000</td>\n",
              "      <td>0.001669</td>\n",
              "      <td>0.000000</td>\n",
              "      <td>0.500000</td>\n",
              "    </tr>\n",
              "    <tr>\n",
              "      <th>17</th>\n",
              "      <td>0.85</td>\n",
              "      <td>0.7910</td>\n",
              "      <td>0.000000</td>\n",
              "      <td>0.000000</td>\n",
              "      <td>0.000000</td>\n",
              "      <td>0.000000</td>\n",
              "      <td>0.500000</td>\n",
              "    </tr>\n",
              "    <tr>\n",
              "      <th>18</th>\n",
              "      <td>0.90</td>\n",
              "      <td>0.7910</td>\n",
              "      <td>0.000000</td>\n",
              "      <td>0.000000</td>\n",
              "      <td>0.000000</td>\n",
              "      <td>0.000000</td>\n",
              "      <td>0.500000</td>\n",
              "    </tr>\n",
              "    <tr>\n",
              "      <th>19</th>\n",
              "      <td>0.95</td>\n",
              "      <td>0.7910</td>\n",
              "      <td>0.000000</td>\n",
              "      <td>0.000000</td>\n",
              "      <td>0.000000</td>\n",
              "      <td>0.000000</td>\n",
              "      <td>0.500000</td>\n",
              "    </tr>\n",
              "    <tr>\n",
              "      <th>20</th>\n",
              "      <td>1.00</td>\n",
              "      <td>0.7910</td>\n",
              "      <td>0.000000</td>\n",
              "      <td>0.000000</td>\n",
              "      <td>0.000000</td>\n",
              "      <td>0.000000</td>\n",
              "      <td>0.500000</td>\n",
              "    </tr>\n",
              "  </tbody>\n",
              "</table>\n",
              "</div>\n",
              "      <button class=\"colab-df-convert\" onclick=\"convertToInteractive('df-b9f16624-264d-49c1-9307-6a753bc9b7d1')\"\n",
              "              title=\"Convert this dataframe to an interactive table.\"\n",
              "              style=\"display:none;\">\n",
              "        \n",
              "  <svg xmlns=\"http://www.w3.org/2000/svg\" height=\"24px\"viewBox=\"0 0 24 24\"\n",
              "       width=\"24px\">\n",
              "    <path d=\"M0 0h24v24H0V0z\" fill=\"none\"/>\n",
              "    <path d=\"M18.56 5.44l.94 2.06.94-2.06 2.06-.94-2.06-.94-.94-2.06-.94 2.06-2.06.94zm-11 1L8.5 8.5l.94-2.06 2.06-.94-2.06-.94L8.5 2.5l-.94 2.06-2.06.94zm10 10l.94 2.06.94-2.06 2.06-.94-2.06-.94-.94-2.06-.94 2.06-2.06.94z\"/><path d=\"M17.41 7.96l-1.37-1.37c-.4-.4-.92-.59-1.43-.59-.52 0-1.04.2-1.43.59L10.3 9.45l-7.72 7.72c-.78.78-.78 2.05 0 2.83L4 21.41c.39.39.9.59 1.41.59.51 0 1.02-.2 1.41-.59l7.78-7.78 2.81-2.81c.8-.78.8-2.07 0-2.86zM5.41 20L4 18.59l7.72-7.72 1.47 1.35L5.41 20z\"/>\n",
              "  </svg>\n",
              "      </button>\n",
              "      \n",
              "  <style>\n",
              "    .colab-df-container {\n",
              "      display:flex;\n",
              "      flex-wrap:wrap;\n",
              "      gap: 12px;\n",
              "    }\n",
              "\n",
              "    .colab-df-convert {\n",
              "      background-color: #E8F0FE;\n",
              "      border: none;\n",
              "      border-radius: 50%;\n",
              "      cursor: pointer;\n",
              "      display: none;\n",
              "      fill: #1967D2;\n",
              "      height: 32px;\n",
              "      padding: 0 0 0 0;\n",
              "      width: 32px;\n",
              "    }\n",
              "\n",
              "    .colab-df-convert:hover {\n",
              "      background-color: #E2EBFA;\n",
              "      box-shadow: 0px 1px 2px rgba(60, 64, 67, 0.3), 0px 1px 3px 1px rgba(60, 64, 67, 0.15);\n",
              "      fill: #174EA6;\n",
              "    }\n",
              "\n",
              "    [theme=dark] .colab-df-convert {\n",
              "      background-color: #3B4455;\n",
              "      fill: #D2E3FC;\n",
              "    }\n",
              "\n",
              "    [theme=dark] .colab-df-convert:hover {\n",
              "      background-color: #434B5C;\n",
              "      box-shadow: 0px 1px 3px 1px rgba(0, 0, 0, 0.15);\n",
              "      filter: drop-shadow(0px 1px 2px rgba(0, 0, 0, 0.3));\n",
              "      fill: #FFFFFF;\n",
              "    }\n",
              "  </style>\n",
              "\n",
              "      <script>\n",
              "        const buttonEl =\n",
              "          document.querySelector('#df-b9f16624-264d-49c1-9307-6a753bc9b7d1 button.colab-df-convert');\n",
              "        buttonEl.style.display =\n",
              "          google.colab.kernel.accessAllowed ? 'block' : 'none';\n",
              "\n",
              "        async function convertToInteractive(key) {\n",
              "          const element = document.querySelector('#df-b9f16624-264d-49c1-9307-6a753bc9b7d1');\n",
              "          const dataTable =\n",
              "            await google.colab.kernel.invokeFunction('convertToInteractive',\n",
              "                                                     [key], {});\n",
              "          if (!dataTable) return;\n",
              "\n",
              "          const docLinkHtml = 'Like what you see? Visit the ' +\n",
              "            '<a target=\"_blank\" href=https://colab.research.google.com/notebooks/data_table.ipynb>data table notebook</a>'\n",
              "            + ' to learn more about interactive tables.';\n",
              "          element.innerHTML = '';\n",
              "          dataTable['output_type'] = 'display_data';\n",
              "          await google.colab.output.renderOutput(dataTable, element);\n",
              "          const docLink = document.createElement('div');\n",
              "          docLink.innerHTML = docLinkHtml;\n",
              "          element.appendChild(docLink);\n",
              "        }\n",
              "      </script>\n",
              "    </div>\n",
              "  </div>\n",
              "  "
            ]
          },
          "metadata": {},
          "execution_count": 41
        }
      ],
      "source": [
        "result_data, best_model, best_result, best_proba, model_threshold = LR_tuner(features_train, target_train,\n",
        "                                                                              features_valid, target_valid)\n",
        "print('best model:', best_model,'threshold =', '%.2f'%model_threshold)\n",
        "print()\n",
        "print('best f1_score:', best_result)\n",
        "print()\n",
        "result_data"
      ]
    },
    {
      "cell_type": "markdown",
      "metadata": {
        "id": "SDUkxe1i56qc"
      },
      "source": [
        "Хоть скорость работы очень высокая, результаты очень слабые."
      ]
    },
    {
      "cell_type": "code",
      "execution_count": 42,
      "metadata": {
        "scrolled": false,
        "id": "kySr31IZ56qc",
        "outputId": "7c61398d-f7f6-44b2-ece5-a5ff7423d93b",
        "colab": {
          "base_uri": "https://localhost:8080/",
          "height": 1000
        }
      },
      "outputs": [
        {
          "output_type": "display_data",
          "data": {
            "text/plain": [
              "<Figure size 648x648 with 1 Axes>"
            ],
            "image/png": "[encoded data removed]"
          },
          "metadata": {
            "needs_background": "light"
          }
        },
        {
          "output_type": "display_data",
          "data": {
            "text/plain": [
              "<Figure size 648x648 with 1 Axes>"
            ],
            "image/png": "[encoded data removed]"
          },
          "metadata": {
            "needs_background": "light"
          }
        }
      ],
      "source": [
        "roc_curve_display(target_valid, best_proba)\n",
        "pr_curve_display(target_valid, best_proba)"
      ]
    },
    {
      "cell_type": "markdown",
      "metadata": {
        "id": "Y8nXS14Q56qd"
      },
      "source": [
        "Проверим работу модели на отмасштабированных признаках."
      ]
    },
    {
      "cell_type": "code",
      "execution_count": 44,
      "metadata": {
        "scrolled": false,
        "id": "XkHV-bqL56qd",
        "outputId": "02f5399b-d102-4fb7-e69d-efb50f7d10f9",
        "colab": {
          "base_uri": "https://localhost:8080/"
        }
      },
      "outputs": [
        {
          "output_type": "stream",
          "name": "stdout",
          "text": [
            "best model: LogisticRegression(random_state=12345, solver='liblinear') threshold = 0.25\n",
            "\n",
            "best f1_score: 0.496551724137931\n",
            "\n",
            "best AUC-ROC: 0.6923962158009667\n"
          ]
        }
      ],
      "source": [
        "result_data, best_model, best_result, best_proba, model_threshold = LR_tuner(features_train_std, target_train,\n",
        "                                                                              features_valid_std, target_valid,\n",
        "                                                                            )\n",
        "print('best model:', best_model,'threshold =', '%.2f'%model_threshold)\n",
        "print()\n",
        "print('best f1_score:', best_result)\n",
        "print()\n",
        "print('best AUC-ROC:', result_data['auc_roc'].max()) #вывод строки датасета с масимальным AUC-ROC"
      ]
    },
    {
      "cell_type": "markdown",
      "metadata": {
        "id": "ANhu9T6A56qd"
      },
      "source": [
        "После масштабирования результаты значительно улучшились, однако все еще далеки от результатов Random Forest."
      ]
    },
    {
      "cell_type": "markdown",
      "metadata": {
        "id": "r8VWOpmY56qe"
      },
      "source": [
        "### Вывод:"
      ]
    },
    {
      "cell_type": "markdown",
      "metadata": {
        "id": "OmitdiT256qe"
      },
      "source": [
        "Мы рассмотрели работу трех моделей на несбалансированных классах. Модель Random Forest показывает наилучшие результаты, но процесс подбора параметров и обучения занимает весьма долгое время. Наилучший `f1_score` наблюдается у модели RandomForestClassifier с параметрами `max_depth=11`, `n_estimators=126` и пороговым значением 0.3. Наилучший `AUC-ROC` у RandomForestClassifier с параметрами `max_depth=10`, `n_estimators=151` и пороговым значением 0.25"
      ]
    },
    {
      "cell_type": "markdown",
      "metadata": {
        "id": "HeKJFJdi56qe"
      },
      "source": [
        "## Борьба с дисбалансом"
      ]
    },
    {
      "cell_type": "markdown",
      "metadata": {
        "id": "mozDUNIF56qe"
      },
      "source": [
        "В этом разделе мы попытаемся добиться баланса классов при помощи двух подходов: взвешивания и даунсэмплинга."
      ]
    },
    {
      "cell_type": "markdown",
      "metadata": {
        "id": "o-FGSrpB56qe"
      },
      "source": [
        "### Взвешивание"
      ]
    },
    {
      "cell_type": "markdown",
      "metadata": {
        "id": "lMg4Xqr956qe"
      },
      "source": [
        "В наших функциях, обучающих модели и перебирающих параметры мы предусмортели возможность взвешивания классов. Посмотрим на их работу с учетом взвешивания. Decision Tree:"
      ]
    },
    {
      "cell_type": "code",
      "execution_count": 45,
      "metadata": {
        "id": "QN77u2QW56qe",
        "outputId": "7ec9c7d0-9baa-4368-8226-1cbb04c35913",
        "colab": {
          "base_uri": "https://localhost:8080/"
        }
      },
      "outputs": [
        {
          "output_type": "stream",
          "name": "stdout",
          "text": [
            "best model: DecisionTreeClassifier(class_weight='balanced', max_depth=5, random_state=12345) threshold = 0.60\n",
            "\n",
            "best f1_score: 0.6082004555808656\n",
            "\n",
            "best AUC-ROC: 0.7587588238496482\n"
          ]
        }
      ],
      "source": [
        "result_data, best_model, best_result, best_proba, model_threshold = DTC_tuner(features_train, target_train, \n",
        "                                                                             features_valid, target_valid,\n",
        "                                                                             class_balance=True)\n",
        "print('best model:', best_model,'threshold =', '%.2f'%model_threshold)\n",
        "print()\n",
        "print('best f1_score:', best_result)\n",
        "print()\n",
        "print('best AUC-ROC:', result_data['auc_roc'].max())"
      ]
    },
    {
      "cell_type": "markdown",
      "metadata": {
        "id": "53ATnpaT56qf"
      },
      "source": [
        "Обе метрики `f1_score` и `AUC-ROC` выросли после взвешивания."
      ]
    },
    {
      "cell_type": "markdown",
      "metadata": {
        "id": "UspK9Bgb56qf"
      },
      "source": [
        "Посмотрим на работу Random Forest с учетом взвешивания. Перебор будем вести и по `max_depth` и по `n_estimators`, чтобы постараться получить наилучший результат. Это снова займет около трех минут на выполнение."
      ]
    },
    {
      "cell_type": "code",
      "execution_count": 46,
      "metadata": {
        "id": "OCOPrIiS56qf",
        "outputId": "0e3b5c60-e9fd-4900-993c-ae30fbbdfe98",
        "colab": {
          "base_uri": "https://localhost:8080/"
        }
      },
      "outputs": [
        {
          "output_type": "stream",
          "name": "stdout",
          "text": [
            "best model: RandomForestClassifier(class_weight='balanced', max_depth=6, n_estimators=201,\n",
            "                       random_state=12345) threshold = 0.55\n",
            "\n",
            "best f1_score: 0.6437571592210768\n",
            "\n",
            "best AUC-ROC: 0.7882941464683432\n"
          ]
        }
      ],
      "source": [
        "result_data, best_model, best_result, best_proba, model_threshold = RFC_tuner(features_train, target_train, \n",
        "                                                                             features_valid, target_valid,\n",
        "                                                                             class_balance=True, tune_depth=True)\n",
        "print('best model:', best_model,'threshold =', '%.2f'%model_threshold)\n",
        "print()\n",
        "print('best f1_score:', best_result)\n",
        "print()\n",
        "print('best AUC-ROC:', result_data['auc_roc'].max())"
      ]
    },
    {
      "cell_type": "markdown",
      "metadata": {
        "id": "3ezSByef56qf"
      },
      "source": [
        "Значения метрик `f1_score` и `AUC-ROC` слегка уменьшились, однако незначительно (было 0.645 и 0.785 соответственно)."
      ]
    },
    {
      "cell_type": "markdown",
      "metadata": {
        "id": "DYyzbM0Z56qg"
      },
      "source": [
        "Рассмотрим также работу Logistic Regression с учетом взвешивания классов. Обучать модель будем на масштабированных признаках."
      ]
    },
    {
      "cell_type": "code",
      "execution_count": 47,
      "metadata": {
        "id": "DoBPZDjE56qg",
        "outputId": "f4dfec99-5e4e-4f2e-9cb9-cb1322b0af46",
        "colab": {
          "base_uri": "https://localhost:8080/"
        }
      },
      "outputs": [
        {
          "output_type": "stream",
          "name": "stdout",
          "text": [
            "best model: LogisticRegression(class_weight='balanced', random_state=12345,\n",
            "                   solver='liblinear') threshold = 0.55\n",
            "\n",
            "best f1_score: 0.500952380952381\n",
            "\n",
            "best AUC-ROC: 0.6979687755188454\n"
          ]
        }
      ],
      "source": [
        "result_data, best_model, best_result, best_proba, model_threshold = LR_tuner(features_train_std, target_train, \n",
        "                                                                             features_valid_std, target_valid,\n",
        "                                                                             class_balance=True)\n",
        "print('best model:', best_model,'threshold =', '%.2f'%model_threshold)\n",
        "print()\n",
        "print('best f1_score:', best_result)\n",
        "print()\n",
        "print('best AUC-ROC:', result_data['auc_roc'].max()) "
      ]
    },
    {
      "cell_type": "markdown",
      "metadata": {
        "id": "Bu3rJvUd56qg"
      },
      "source": [
        "Метрики `f1_score` и `AUC-ROC` слегка улучшились после взвешивания классов для модели Logistic Regression."
      ]
    },
    {
      "cell_type": "markdown",
      "metadata": {
        "id": "tvHAJs7E56qg"
      },
      "source": [
        "### Даунсэмплинг"
      ]
    },
    {
      "cell_type": "markdown",
      "metadata": {
        "id": "tBPX6R3T56qg"
      },
      "source": [
        "Попытаемся добиться баланса классов применяя даунсэмплинг. Для этого случайным образом будем выкидывать некоторую часть выборки, таким образом, чтобы соотношение классов стало приблизительно равным. Определим функцию для даунсэмплинга"
      ]
    },
    {
      "cell_type": "code",
      "execution_count": 48,
      "metadata": {
        "id": "_ppRBcle56qg"
      },
      "outputs": [],
      "source": [
        "#Фунция, выполняющая даунсэмплинг (взята из тренажера)\n",
        "#Входные параметры: features - признаки, traget - целевой признак, fraction - доля, которую нужно оставить\n",
        "#Выводит: features_downsampled - сокращенная выборка признаков, target - сокращенный целевой признак\n",
        "def downsample(features, target, fraction):\n",
        "    features_zeros = features[target == 0]\n",
        "    features_ones = features[target == 1]\n",
        "    target_zeros = target[target == 0]\n",
        "    target_ones = target[target == 1]\n",
        "    features_downsampled = pd.concat(\n",
        "        [features_zeros.sample(frac=fraction, random_state=12345)] + [features_ones])\n",
        "    target_downsampled = pd.concat(\n",
        "        [target_zeros.sample(frac=fraction, random_state=12345)] + [target_ones])    \n",
        "    features_downsampled, target_downsampled = shuffle(\n",
        "        features_downsampled, target_downsampled, random_state=12345)    \n",
        "    return features_downsampled, target_downsampled"
      ]
    },
    {
      "cell_type": "markdown",
      "metadata": {
        "id": "l2mqn6P056qh"
      },
      "source": [
        "Вспомним, как распределены классы:"
      ]
    },
    {
      "cell_type": "code",
      "execution_count": 49,
      "metadata": {
        "id": "cnxQJEQz56qh",
        "outputId": "8bd2cf0c-8fe5-4e89-e493-506be2f2f4a2",
        "colab": {
          "base_uri": "https://localhost:8080/"
        }
      },
      "outputs": [
        {
          "output_type": "execute_result",
          "data": {
            "text/plain": [
              "0    7963\n",
              "1    2037\n",
              "Name: exited, dtype: int64"
            ]
          },
          "metadata": {},
          "execution_count": 49
        }
      ],
      "source": [
        "target.value_counts()"
      ]
    },
    {
      "cell_type": "markdown",
      "metadata": {
        "id": "gt0noglI56qh"
      },
      "source": [
        "Соотношение примерно 4:1. Таким образом, для того, чтобы классы стали сбалансированными, нам надо задать значение `fraction` равным 0.25."
      ]
    },
    {
      "cell_type": "code",
      "execution_count": 50,
      "metadata": {
        "id": "Z4rvYWtn56qi"
      },
      "outputs": [],
      "source": [
        "features_train_ds, target_train_ds = downsample(features_train, target_train, 0.25)"
      ]
    },
    {
      "cell_type": "markdown",
      "metadata": {
        "id": "YDjdTMCR56qi"
      },
      "source": [
        "Даунсэмплинг выполнен. Расссмотрим работу моделей. Decision Tree:"
      ]
    },
    {
      "cell_type": "code",
      "execution_count": 51,
      "metadata": {
        "scrolled": false,
        "id": "ed5kBfSo56qi",
        "outputId": "deba78e7-ff19-4f55-ff35-316159bbc89b",
        "colab": {
          "base_uri": "https://localhost:8080/"
        }
      },
      "outputs": [
        {
          "output_type": "stream",
          "name": "stdout",
          "text": [
            "best model: DecisionTreeClassifier(max_depth=5, random_state=12345) threshold = 0.65\n",
            "\n",
            "best f1_score: 0.6093189964157707\n",
            "\n",
            "best AUC-ROC: 0.762931060555653\n"
          ]
        }
      ],
      "source": [
        "result_data, best_model, best_result, best_proba, model_threshold = DTC_tuner(features_train_ds, target_train_ds, \n",
        "                                                                             features_valid, target_valid,\n",
        "                                                                             )\n",
        "print('best model:', best_model,'threshold =', '%.2f'%model_threshold)\n",
        "print()\n",
        "print('best f1_score:', best_result)\n",
        "print()\n",
        "print('best AUC-ROC:', result_data['auc_roc'].max()) #вывод строки датасета с масимальным AUC-ROC"
      ]
    },
    {
      "cell_type": "markdown",
      "metadata": {
        "id": "19TAXiWT56qi"
      },
      "source": [
        "Даунсэмплинг улучшил результат Decision Tree по сравнению с обучением на несбалансированных классах. Также `f1_score` слегка вырос по сравнению с `f1_score` на взвешенных классах."
      ]
    },
    {
      "cell_type": "markdown",
      "metadata": {
        "id": "no6gVqOz56qi"
      },
      "source": [
        "Random Forest. На этот раз перебирать `max_depth` не будем, чтобы ускорить время работы."
      ]
    },
    {
      "cell_type": "code",
      "execution_count": 52,
      "metadata": {
        "id": "oy1QvZqF56qi",
        "outputId": "73aa362e-8089-4bde-da1f-ebf30603f436",
        "colab": {
          "base_uri": "https://localhost:8080/"
        }
      },
      "outputs": [
        {
          "output_type": "stream",
          "name": "stdout",
          "text": [
            "best model: RandomForestClassifier(n_estimators=101, random_state=12345) threshold = 0.65\n",
            "\n",
            "best f1_score: 0.616891064871481\n",
            "\n",
            "best AUC-ROC: 0.7737208064408809\n"
          ]
        }
      ],
      "source": [
        "result_data, best_model, best_result, best_proba, model_threshold = RFC_tuner(features_train_ds, target_train_ds, \n",
        "                                                                             features_valid, target_valid,\n",
        "                                                                             )\n",
        "print('best model:', best_model,'threshold =', '%.2f'%model_threshold)\n",
        "print()\n",
        "print('best f1_score:', best_result)\n",
        "print()\n",
        "print('best AUC-ROC:', result_data['auc_roc'].max())  #вывод строки датасета с масимальным AUC-ROC"
      ]
    },
    {
      "cell_type": "markdown",
      "metadata": {
        "id": "BOvRk_gg56qj"
      },
      "source": [
        "Метрики `f1_score`, `AUC-ROC` незначительно ухудшились (были 0.632 и 0.774 соответственно)."
      ]
    },
    {
      "cell_type": "markdown",
      "metadata": {
        "id": "O4Kyfx3W56qj"
      },
      "source": [
        "Logistic Regression. Необходимо вспомнить, что мы делали масштабирование и произвести даунсемплинг для масштабированных признаков."
      ]
    },
    {
      "cell_type": "code",
      "execution_count": 53,
      "metadata": {
        "id": "2u3pfI5Y56qj"
      },
      "outputs": [],
      "source": [
        "features_train_std_ds, target_train_ds = downsample(features_train, target_train, 0.25)"
      ]
    },
    {
      "cell_type": "code",
      "execution_count": 54,
      "metadata": {
        "id": "dH4mbJtI56qj",
        "outputId": "e57f782f-044b-46b6-acb6-434dacded4a2",
        "colab": {
          "base_uri": "https://localhost:8080/"
        }
      },
      "outputs": [
        {
          "output_type": "stream",
          "name": "stderr",
          "text": [
            "/usr/local/lib/python3.7/dist-packages/sklearn/base.py:451: UserWarning: X does not have valid feature names, but LogisticRegression was fitted with feature names\n",
            "  \"X does not have valid feature names, but\"\n"
          ]
        },
        {
          "output_type": "stream",
          "name": "stdout",
          "text": [
            "best model: LogisticRegression(random_state=12345, solver='liblinear') threshold = 0.50\n",
            "\n",
            "best f1_score: 0.44230769230769235\n",
            "\n",
            "best AUC-ROC: 0.6569601800156061\n"
          ]
        }
      ],
      "source": [
        "result_data, best_model, best_result, best_proba, model_threshold = LR_tuner(features_train_std_ds, target_train_ds, \n",
        "                                                                             features_valid_std, target_valid,\n",
        "                                                                             )\n",
        "print('best model:', best_model,'threshold =', '%.2f'%model_threshold)\n",
        "print()\n",
        "print('best f1_score:', best_result)\n",
        "print()\n",
        "print('best AUC-ROC:', result_data['auc_roc'].max()) #вывод строки датасета с масимальным AUC-ROC"
      ]
    },
    {
      "cell_type": "markdown",
      "metadata": {
        "id": "TDFjGk5656qj"
      },
      "source": [
        "Метрики `f1_score` и `AUC-ROC` ухудшились"
      ]
    },
    {
      "cell_type": "markdown",
      "metadata": {
        "id": "dp7PxGKk56qk"
      },
      "source": [
        "### Вывод:"
      ]
    },
    {
      "cell_type": "markdown",
      "metadata": {
        "id": "BxnoXSKB56qk"
      },
      "source": [
        "Мы попытались побороть дисбаланс классов при помощи взвешивания и даунсэмплинга. Для некоторых моделей это дало плоды, для других - результат обратный. Взвешивание улучшило работу Decision Tree и Logistic Regression. Результат работы Random Forest остался практически неизменным после взвешивания. Даунсэмплинг также улучшил работу Decision Tree, однако для Random Forest и Logistic Regression привел к ухудшению результата. Отметим также, что за все время исследования наилучшая метрика по-прежнему остается у модели, обученной на несбалансированных классах, а именно RandomForestClassifier с параметрами `max_depth=11`, `n_estimators=126` и пороговым значением 0.3"
      ]
    },
    {
      "cell_type": "markdown",
      "metadata": {
        "id": "pYoKRlQT56qk"
      },
      "source": [
        "## Тестирование модели"
      ]
    },
    {
      "cell_type": "markdown",
      "metadata": {
        "id": "h5sZbZzy56qk"
      },
      "source": [
        "Посмотрим работу наилучшей найденной нами модели на тестовой выборке, подставим в нашу функцию `RFC_tuner` параметры наилучшей модели, найденной в результате исследования."
      ]
    },
    {
      "cell_type": "code",
      "execution_count": 55,
      "metadata": {
        "scrolled": true,
        "id": "WX8FLy1a56qk",
        "outputId": "2f8d3547-7f2b-4c1e-ccba-ffa35b05fbf9",
        "colab": {
          "base_uri": "https://localhost:8080/",
          "height": 99
        }
      },
      "outputs": [
        {
          "output_type": "stream",
          "name": "stdout",
          "text": [
            "model: RandomForestClassifier(max_depth=11, n_estimators=126, random_state=12345)\n"
          ]
        },
        {
          "output_type": "execute_result",
          "data": {
            "text/plain": [
              "   depth  est  threshold    acc  precision    recall  f1_train        f1  \\\n",
              "0     11  126        0.3  0.835   0.605442  0.631206  0.857377  0.618056   \n",
              "\n",
              "    auc_roc  \n",
              "0  0.760435  "
            ],
            "text/html": [
              "\n",
              "  <div id=\"df-f92106f6-5453-4a4c-be7c-42dc0dbe6f20\">\n",
              "    <div class=\"colab-df-container\">\n",
              "      <div>\n",
              "<style scoped>\n",
              "    .dataframe tbody tr th:only-of-type {\n",
              "        vertical-align: middle;\n",
              "    }\n",
              "\n",
              "    .dataframe tbody tr th {\n",
              "        vertical-align: top;\n",
              "    }\n",
              "\n",
              "    .dataframe thead th {\n",
              "        text-align: right;\n",
              "    }\n",
              "</style>\n",
              "<table border=\"1\" class=\"dataframe\">\n",
              "  <thead>\n",
              "    <tr style=\"text-align: right;\">\n",
              "      <th></th>\n",
              "      <th>depth</th>\n",
              "      <th>est</th>\n",
              "      <th>threshold</th>\n",
              "      <th>acc</th>\n",
              "      <th>precision</th>\n",
              "      <th>recall</th>\n",
              "      <th>f1_train</th>\n",
              "      <th>f1</th>\n",
              "      <th>auc_roc</th>\n",
              "    </tr>\n",
              "  </thead>\n",
              "  <tbody>\n",
              "    <tr>\n",
              "      <th>0</th>\n",
              "      <td>11</td>\n",
              "      <td>126</td>\n",
              "      <td>0.3</td>\n",
              "      <td>0.835</td>\n",
              "      <td>0.605442</td>\n",
              "      <td>0.631206</td>\n",
              "      <td>0.857377</td>\n",
              "      <td>0.618056</td>\n",
              "      <td>0.760435</td>\n",
              "    </tr>\n",
              "  </tbody>\n",
              "</table>\n",
              "</div>\n",
              "      <button class=\"colab-df-convert\" onclick=\"convertToInteractive('df-f92106f6-5453-4a4c-be7c-42dc0dbe6f20')\"\n",
              "              title=\"Convert this dataframe to an interactive table.\"\n",
              "              style=\"display:none;\">\n",
              "        \n",
              "  <svg xmlns=\"http://www.w3.org/2000/svg\" height=\"24px\"viewBox=\"0 0 24 24\"\n",
              "       width=\"24px\">\n",
              "    <path d=\"M0 0h24v24H0V0z\" fill=\"none\"/>\n",
              "    <path d=\"M18.56 5.44l.94 2.06.94-2.06 2.06-.94-2.06-.94-.94-2.06-.94 2.06-2.06.94zm-11 1L8.5 8.5l.94-2.06 2.06-.94-2.06-.94L8.5 2.5l-.94 2.06-2.06.94zm10 10l.94 2.06.94-2.06 2.06-.94-2.06-.94-.94-2.06-.94 2.06-2.06.94z\"/><path d=\"M17.41 7.96l-1.37-1.37c-.4-.4-.92-.59-1.43-.59-.52 0-1.04.2-1.43.59L10.3 9.45l-7.72 7.72c-.78.78-.78 2.05 0 2.83L4 21.41c.39.39.9.59 1.41.59.51 0 1.02-.2 1.41-.59l7.78-7.78 2.81-2.81c.8-.78.8-2.07 0-2.86zM5.41 20L4 18.59l7.72-7.72 1.47 1.35L5.41 20z\"/>\n",
              "  </svg>\n",
              "      </button>\n",
              "      \n",
              "  <style>\n",
              "    .colab-df-container {\n",
              "      display:flex;\n",
              "      flex-wrap:wrap;\n",
              "      gap: 12px;\n",
              "    }\n",
              "\n",
              "    .colab-df-convert {\n",
              "      background-color: #E8F0FE;\n",
              "      border: none;\n",
              "      border-radius: 50%;\n",
              "      cursor: pointer;\n",
              "      display: none;\n",
              "      fill: #1967D2;\n",
              "      height: 32px;\n",
              "      padding: 0 0 0 0;\n",
              "      width: 32px;\n",
              "    }\n",
              "\n",
              "    .colab-df-convert:hover {\n",
              "      background-color: #E2EBFA;\n",
              "      box-shadow: 0px 1px 2px rgba(60, 64, 67, 0.3), 0px 1px 3px 1px rgba(60, 64, 67, 0.15);\n",
              "      fill: #174EA6;\n",
              "    }\n",
              "\n",
              "    [theme=dark] .colab-df-convert {\n",
              "      background-color: #3B4455;\n",
              "      fill: #D2E3FC;\n",
              "    }\n",
              "\n",
              "    [theme=dark] .colab-df-convert:hover {\n",
              "      background-color: #434B5C;\n",
              "      box-shadow: 0px 1px 3px 1px rgba(0, 0, 0, 0.15);\n",
              "      filter: drop-shadow(0px 1px 2px rgba(0, 0, 0, 0.3));\n",
              "      fill: #FFFFFF;\n",
              "    }\n",
              "  </style>\n",
              "\n",
              "      <script>\n",
              "        const buttonEl =\n",
              "          document.querySelector('#df-f92106f6-5453-4a4c-be7c-42dc0dbe6f20 button.colab-df-convert');\n",
              "        buttonEl.style.display =\n",
              "          google.colab.kernel.accessAllowed ? 'block' : 'none';\n",
              "\n",
              "        async function convertToInteractive(key) {\n",
              "          const element = document.querySelector('#df-f92106f6-5453-4a4c-be7c-42dc0dbe6f20');\n",
              "          const dataTable =\n",
              "            await google.colab.kernel.invokeFunction('convertToInteractive',\n",
              "                                                     [key], {});\n",
              "          if (!dataTable) return;\n",
              "\n",
              "          const docLinkHtml = 'Like what you see? Visit the ' +\n",
              "            '<a target=\"_blank\" href=https://colab.research.google.com/notebooks/data_table.ipynb>data table notebook</a>'\n",
              "            + ' to learn more about interactive tables.';\n",
              "          element.innerHTML = '';\n",
              "          dataTable['output_type'] = 'display_data';\n",
              "          await google.colab.output.renderOutput(dataTable, element);\n",
              "          const docLink = document.createElement('div');\n",
              "          docLink.innerHTML = docLinkHtml;\n",
              "          element.appendChild(docLink);\n",
              "        }\n",
              "      </script>\n",
              "    </div>\n",
              "  </div>\n",
              "  "
            ]
          },
          "metadata": {},
          "execution_count": 55
        }
      ],
      "source": [
        "result_data, best_model, best_result, best_proba, model_threshold = RFC_tuner(features_train, target_train, \n",
        "                                                                              features_test, target_test,\n",
        "                                                                              tune_depth=True, depth_min=11,\n",
        "                                                                              depth_max=11, est_min=126, est_max=126,\n",
        "                                                                              threshold_min=0.3, threshold_max=0.3,\n",
        "                                                                             )\n",
        "print('model:', best_model)\n",
        "result_data"
      ]
    },
    {
      "cell_type": "markdown",
      "metadata": {
        "id": "VlxX_eUy56ql"
      },
      "source": [
        "Метрики `f1_score` и `AUC-ROC` слегка ниже, чем на валидационной выборке, однако остаются приемлемыми. Построим ROC-кривую и PR-кривую"
      ]
    },
    {
      "cell_type": "code",
      "execution_count": 56,
      "metadata": {
        "scrolled": false,
        "id": "uv_cGPtW56ql",
        "outputId": "8c61f63a-f7e0-4706-9630-2aef028a2df2",
        "colab": {
          "base_uri": "https://localhost:8080/",
          "height": 1000
        }
      },
      "outputs": [
        {
          "output_type": "display_data",
          "data": {
            "text/plain": [
              "<Figure size 648x648 with 1 Axes>"
            ],
            "image/png": "[encoded data removed]"
          },
          "metadata": {
            "needs_background": "light"
          }
        },
        {
          "output_type": "display_data",
          "data": {
            "text/plain": [
              "<Figure size 648x648 with 1 Axes>"
            ],
            "image/png": "[encoded data removed]"
          },
          "metadata": {
            "needs_background": "light"
          }
        }
      ],
      "source": [
        "roc_curve_display(target_test, best_proba)\n",
        "pr_curve_display(target_test, best_proba)"
      ]
    },
    {
      "cell_type": "markdown",
      "metadata": {
        "id": "lHuaN0m656ql"
      },
      "source": [
        "## Вывод"
      ]
    },
    {
      "cell_type": "markdown",
      "metadata": {
        "id": "L0jZ7syr56ql"
      },
      "source": [
        "Мы научились прогнозировать отток клиентов \"Бета-Банка\". Мы смогли подобрать модель и ее параметры, удовлетворяющие заказчика. Ей оказалась модель RandomForestClassifier с параметрами `max_depth =11`, `n_estimators=126` и пороговым значением 0.3. Модель прекрасно показала себя на тестировании. Заказчик доволен.  Посмотрим на важность признаков"
      ]
    },
    {
      "cell_type": "code",
      "execution_count": 57,
      "metadata": {
        "id": "FJoq2eyl56qm",
        "outputId": "108044b5-db17-42db-8f4b-c1775190c141",
        "colab": {
          "base_uri": "https://localhost:8080/"
        }
      },
      "outputs": [
        {
          "output_type": "execute_result",
          "data": {
            "text/plain": [
              "array([0.10509548, 0.28168842, 0.05632585, 0.11577564, 0.18229338,\n",
              "       0.01417226, 0.06092511, 0.10430349, 0.04721388, 0.00992455,\n",
              "       0.02228194])"
            ]
          },
          "metadata": {},
          "execution_count": 57
        }
      ],
      "source": [
        "best_model.feature_importances_"
      ]
    },
    {
      "cell_type": "code",
      "execution_count": 58,
      "metadata": {
        "scrolled": true,
        "id": "hcz0P12b56qm",
        "outputId": "91c51c82-30b7-4bae-dbe0-3d0a585b4ade",
        "colab": {
          "base_uri": "https://localhost:8080/"
        }
      },
      "outputs": [
        {
          "output_type": "execute_result",
          "data": {
            "text/plain": [
              "Index(['credit_score', 'age', 'tenure', 'balance', 'num_of_products',\n",
              "       'has_cr_card', 'is_active_member', 'estimated_salary',\n",
              "       'geography_Germany', 'geography_Spain', 'gender_Male'],\n",
              "      dtype='object')"
            ]
          },
          "metadata": {},
          "execution_count": 58
        }
      ],
      "source": [
        "features.columns"
      ]
    }
  ],
  "metadata": {
    "ExecuteTimeLog": [
      {
        "duration": 390,
        "start_time": "2022-04-12T06:55:08.353Z"
      },
      {
        "duration": 43,
        "start_time": "2022-04-12T06:55:34.652Z"
      },
      {
        "duration": 19,
        "start_time": "2022-04-12T06:55:42.118Z"
      },
      {
        "duration": 3,
        "start_time": "2022-04-12T06:58:04.503Z"
      },
      {
        "duration": 13,
        "start_time": "2022-04-12T06:58:10.180Z"
      },
      {
        "duration": 12,
        "start_time": "2022-04-12T06:58:49.947Z"
      },
      {
        "duration": 4,
        "start_time": "2022-04-12T06:59:32.754Z"
      },
      {
        "duration": 6,
        "start_time": "2022-04-12T06:59:53.931Z"
      },
      {
        "duration": 6,
        "start_time": "2022-04-12T07:00:06.603Z"
      },
      {
        "duration": 212,
        "start_time": "2022-04-12T07:01:16.699Z"
      },
      {
        "duration": 75,
        "start_time": "2022-04-12T07:01:31.105Z"
      },
      {
        "duration": 67,
        "start_time": "2022-04-12T07:03:39.793Z"
      },
      {
        "duration": 424,
        "start_time": "2022-04-12T07:03:53.600Z"
      },
      {
        "duration": 42,
        "start_time": "2022-04-12T07:03:54.026Z"
      },
      {
        "duration": 19,
        "start_time": "2022-04-12T07:03:54.069Z"
      },
      {
        "duration": 3,
        "start_time": "2022-04-12T07:03:54.090Z"
      },
      {
        "duration": 17,
        "start_time": "2022-04-12T07:03:54.094Z"
      },
      {
        "duration": 3,
        "start_time": "2022-04-12T07:03:54.113Z"
      },
      {
        "duration": 8,
        "start_time": "2022-04-12T07:03:54.117Z"
      },
      {
        "duration": 5,
        "start_time": "2022-04-12T07:03:54.127Z"
      },
      {
        "duration": 18,
        "start_time": "2022-04-12T07:04:01.312Z"
      },
      {
        "duration": 12,
        "start_time": "2022-04-12T07:06:20.551Z"
      },
      {
        "duration": 2,
        "start_time": "2022-04-12T07:06:59.479Z"
      },
      {
        "duration": 784,
        "start_time": "2022-04-12T07:07:39.535Z"
      },
      {
        "duration": 160,
        "start_time": "2022-04-12T07:10:20.573Z"
      },
      {
        "duration": 159,
        "start_time": "2022-04-12T07:10:40.604Z"
      },
      {
        "duration": 179,
        "start_time": "2022-04-12T07:10:53.909Z"
      },
      {
        "duration": 8,
        "start_time": "2022-04-12T07:11:22.525Z"
      },
      {
        "duration": 7,
        "start_time": "2022-04-12T07:11:25.444Z"
      },
      {
        "duration": 6,
        "start_time": "2022-04-12T07:12:13.517Z"
      },
      {
        "duration": 41,
        "start_time": "2022-04-12T07:13:09.157Z"
      },
      {
        "duration": 106,
        "start_time": "2022-04-12T07:13:41.099Z"
      },
      {
        "duration": 3,
        "start_time": "2022-04-12T07:14:05.388Z"
      },
      {
        "duration": 166,
        "start_time": "2022-04-12T07:14:06.508Z"
      },
      {
        "duration": 22,
        "start_time": "2022-04-12T07:14:18.260Z"
      },
      {
        "duration": 447,
        "start_time": "2022-04-12T07:14:21.947Z"
      },
      {
        "duration": 11,
        "start_time": "2022-04-12T07:15:01.412Z"
      },
      {
        "duration": 169446,
        "start_time": "2022-04-12T07:15:21.685Z"
      },
      {
        "duration": 168719,
        "start_time": "2022-04-12T07:19:56.610Z"
      },
      {
        "duration": 2,
        "start_time": "2022-04-12T07:22:45.331Z"
      },
      {
        "duration": 2,
        "start_time": "2022-04-12T07:22:48.119Z"
      },
      {
        "duration": 3,
        "start_time": "2022-04-12T07:23:23.063Z"
      },
      {
        "duration": 23,
        "start_time": "2022-04-12T07:24:28.103Z"
      },
      {
        "duration": 538,
        "start_time": "2022-04-12T07:25:17.105Z"
      },
      {
        "duration": 457,
        "start_time": "2022-04-12T07:27:49.581Z"
      },
      {
        "duration": 437,
        "start_time": "2022-04-12T07:28:43.885Z"
      },
      {
        "duration": 448,
        "start_time": "2022-04-12T07:30:18.420Z"
      },
      {
        "duration": 470,
        "start_time": "2022-04-12T07:30:43.044Z"
      },
      {
        "duration": 5,
        "start_time": "2022-04-12T07:31:14.788Z"
      },
      {
        "duration": 4,
        "start_time": "2022-04-12T07:31:58.796Z"
      },
      {
        "duration": 5,
        "start_time": "2022-04-12T07:32:02.043Z"
      },
      {
        "duration": 4,
        "start_time": "2022-04-12T07:32:19.499Z"
      },
      {
        "duration": 432,
        "start_time": "2022-04-12T07:32:25.488Z"
      },
      {
        "duration": 31,
        "start_time": "2022-04-12T07:32:25.922Z"
      },
      {
        "duration": 19,
        "start_time": "2022-04-12T07:32:25.955Z"
      },
      {
        "duration": 3,
        "start_time": "2022-04-12T07:32:25.976Z"
      },
      {
        "duration": 25,
        "start_time": "2022-04-12T07:32:25.981Z"
      },
      {
        "duration": 5,
        "start_time": "2022-04-12T07:32:26.007Z"
      },
      {
        "duration": 17,
        "start_time": "2022-04-12T07:32:26.013Z"
      },
      {
        "duration": 15,
        "start_time": "2022-04-12T07:32:26.032Z"
      },
      {
        "duration": 19,
        "start_time": "2022-04-12T07:32:26.049Z"
      },
      {
        "duration": 4,
        "start_time": "2022-04-12T07:32:26.070Z"
      },
      {
        "duration": 770,
        "start_time": "2022-04-12T07:32:26.075Z"
      },
      {
        "duration": 6,
        "start_time": "2022-04-12T07:32:26.847Z"
      },
      {
        "duration": 11,
        "start_time": "2022-04-12T07:32:26.855Z"
      },
      {
        "duration": 10,
        "start_time": "2022-04-12T07:32:26.868Z"
      },
      {
        "duration": 52,
        "start_time": "2022-04-12T07:32:26.879Z"
      },
      {
        "duration": 2,
        "start_time": "2022-04-12T07:32:26.933Z"
      },
      {
        "duration": 14,
        "start_time": "2022-04-12T07:32:26.937Z"
      },
      {
        "duration": 0,
        "start_time": "2022-04-12T07:32:26.953Z"
      },
      {
        "duration": 0,
        "start_time": "2022-04-12T07:32:26.955Z"
      },
      {
        "duration": 0,
        "start_time": "2022-04-12T07:32:26.956Z"
      },
      {
        "duration": 484,
        "start_time": "2022-04-12T07:32:47.060Z"
      },
      {
        "duration": 4,
        "start_time": "2022-04-12T07:34:46.563Z"
      },
      {
        "duration": 4,
        "start_time": "2022-04-12T07:36:19.075Z"
      },
      {
        "duration": 4,
        "start_time": "2022-04-12T07:36:28.474Z"
      },
      {
        "duration": 4,
        "start_time": "2022-04-12T07:36:57.562Z"
      },
      {
        "duration": 4,
        "start_time": "2022-04-12T07:38:36.826Z"
      },
      {
        "duration": 476,
        "start_time": "2022-04-12T07:39:46.753Z"
      },
      {
        "duration": 474,
        "start_time": "2022-04-12T07:39:54.097Z"
      },
      {
        "duration": 470,
        "start_time": "2022-04-12T07:40:02.041Z"
      },
      {
        "duration": 100,
        "start_time": "2022-04-12T07:40:13.672Z"
      },
      {
        "duration": 18,
        "start_time": "2022-04-12T07:40:18.177Z"
      },
      {
        "duration": 488,
        "start_time": "2022-04-12T07:40:25.120Z"
      },
      {
        "duration": 12,
        "start_time": "2022-04-12T07:41:12.121Z"
      },
      {
        "duration": 11,
        "start_time": "2022-04-12T07:41:17.310Z"
      },
      {
        "duration": 8972,
        "start_time": "2022-04-12T07:41:17.584Z"
      },
      {
        "duration": 430,
        "start_time": "2022-04-12T07:44:11.707Z"
      },
      {
        "duration": 43,
        "start_time": "2022-04-12T07:44:12.139Z"
      },
      {
        "duration": 19,
        "start_time": "2022-04-12T07:44:12.183Z"
      },
      {
        "duration": 5,
        "start_time": "2022-04-12T07:44:12.203Z"
      },
      {
        "duration": 14,
        "start_time": "2022-04-12T07:44:12.210Z"
      },
      {
        "duration": 3,
        "start_time": "2022-04-12T07:44:12.226Z"
      },
      {
        "duration": 7,
        "start_time": "2022-04-12T07:44:12.230Z"
      },
      {
        "duration": 5,
        "start_time": "2022-04-12T07:44:12.238Z"
      },
      {
        "duration": 14,
        "start_time": "2022-04-12T07:44:12.244Z"
      },
      {
        "duration": 4,
        "start_time": "2022-04-12T07:44:12.259Z"
      },
      {
        "duration": 809,
        "start_time": "2022-04-12T07:44:12.264Z"
      },
      {
        "duration": 7,
        "start_time": "2022-04-12T07:44:13.075Z"
      },
      {
        "duration": 5,
        "start_time": "2022-04-12T07:44:13.084Z"
      },
      {
        "duration": 3,
        "start_time": "2022-04-12T07:44:13.092Z"
      },
      {
        "duration": 51,
        "start_time": "2022-04-12T07:44:13.097Z"
      },
      {
        "duration": 3,
        "start_time": "2022-04-12T07:44:13.150Z"
      },
      {
        "duration": 510,
        "start_time": "2022-04-12T07:44:13.155Z"
      },
      {
        "duration": 13,
        "start_time": "2022-04-12T07:44:13.666Z"
      },
      {
        "duration": 444,
        "start_time": "2022-04-12T07:45:17.695Z"
      },
      {
        "duration": 30,
        "start_time": "2022-04-12T07:45:18.142Z"
      },
      {
        "duration": 21,
        "start_time": "2022-04-12T07:45:18.174Z"
      },
      {
        "duration": 3,
        "start_time": "2022-04-12T07:45:18.197Z"
      },
      {
        "duration": 24,
        "start_time": "2022-04-12T07:45:18.202Z"
      },
      {
        "duration": 14,
        "start_time": "2022-04-12T07:45:18.228Z"
      },
      {
        "duration": 10,
        "start_time": "2022-04-12T07:45:18.244Z"
      },
      {
        "duration": 5,
        "start_time": "2022-04-12T07:45:18.256Z"
      },
      {
        "duration": 15,
        "start_time": "2022-04-12T07:45:18.263Z"
      },
      {
        "duration": 3,
        "start_time": "2022-04-12T07:45:18.280Z"
      },
      {
        "duration": 864,
        "start_time": "2022-04-12T07:45:18.285Z"
      },
      {
        "duration": 7,
        "start_time": "2022-04-12T07:45:19.151Z"
      },
      {
        "duration": 5,
        "start_time": "2022-04-12T07:45:19.160Z"
      },
      {
        "duration": 3,
        "start_time": "2022-04-12T07:45:19.168Z"
      },
      {
        "duration": 51,
        "start_time": "2022-04-12T07:45:19.172Z"
      },
      {
        "duration": 3,
        "start_time": "2022-04-12T07:45:19.224Z"
      },
      {
        "duration": 517,
        "start_time": "2022-04-12T07:45:19.229Z"
      },
      {
        "duration": 16,
        "start_time": "2022-04-12T07:45:19.748Z"
      },
      {
        "duration": 414,
        "start_time": "2022-04-12T07:46:57.580Z"
      },
      {
        "duration": 42,
        "start_time": "2022-04-12T07:46:57.996Z"
      },
      {
        "duration": 21,
        "start_time": "2022-04-12T07:46:58.040Z"
      },
      {
        "duration": 3,
        "start_time": "2022-04-12T07:46:58.062Z"
      },
      {
        "duration": 13,
        "start_time": "2022-04-12T07:46:58.068Z"
      },
      {
        "duration": 3,
        "start_time": "2022-04-12T07:46:58.083Z"
      },
      {
        "duration": 6,
        "start_time": "2022-04-12T07:46:58.088Z"
      },
      {
        "duration": 6,
        "start_time": "2022-04-12T07:46:58.123Z"
      },
      {
        "duration": 12,
        "start_time": "2022-04-12T07:46:58.131Z"
      },
      {
        "duration": 3,
        "start_time": "2022-04-12T07:46:58.144Z"
      },
      {
        "duration": 784,
        "start_time": "2022-04-12T07:46:58.148Z"
      },
      {
        "duration": 7,
        "start_time": "2022-04-12T07:46:58.933Z"
      },
      {
        "duration": 18,
        "start_time": "2022-04-12T07:46:58.942Z"
      },
      {
        "duration": 14,
        "start_time": "2022-04-12T07:46:58.963Z"
      },
      {
        "duration": 50,
        "start_time": "2022-04-12T07:46:58.979Z"
      },
      {
        "duration": 3,
        "start_time": "2022-04-12T07:46:59.031Z"
      },
      {
        "duration": 496,
        "start_time": "2022-04-12T07:46:59.036Z"
      },
      {
        "duration": 12,
        "start_time": "2022-04-12T07:46:59.534Z"
      },
      {
        "duration": 54592,
        "start_time": "2022-04-12T07:46:59.548Z"
      },
      {
        "duration": 423,
        "start_time": "2022-04-12T07:48:29.293Z"
      },
      {
        "duration": 29,
        "start_time": "2022-04-12T07:48:29.717Z"
      },
      {
        "duration": 18,
        "start_time": "2022-04-12T07:48:29.748Z"
      },
      {
        "duration": 3,
        "start_time": "2022-04-12T07:48:29.768Z"
      },
      {
        "duration": 13,
        "start_time": "2022-04-12T07:48:29.772Z"
      },
      {
        "duration": 3,
        "start_time": "2022-04-12T07:48:29.787Z"
      },
      {
        "duration": 6,
        "start_time": "2022-04-12T07:48:29.792Z"
      },
      {
        "duration": 27,
        "start_time": "2022-04-12T07:48:29.799Z"
      },
      {
        "duration": 14,
        "start_time": "2022-04-12T07:48:29.827Z"
      },
      {
        "duration": 3,
        "start_time": "2022-04-12T07:48:29.843Z"
      },
      {
        "duration": 781,
        "start_time": "2022-04-12T07:48:29.847Z"
      },
      {
        "duration": 7,
        "start_time": "2022-04-12T07:48:30.630Z"
      },
      {
        "duration": 12,
        "start_time": "2022-04-12T07:48:30.638Z"
      },
      {
        "duration": 11,
        "start_time": "2022-04-12T07:48:30.652Z"
      },
      {
        "duration": 42,
        "start_time": "2022-04-12T07:48:30.664Z"
      },
      {
        "duration": 3,
        "start_time": "2022-04-12T07:48:30.707Z"
      },
      {
        "duration": 510,
        "start_time": "2022-04-12T07:48:30.712Z"
      },
      {
        "duration": 9,
        "start_time": "2022-04-12T07:48:31.224Z"
      },
      {
        "duration": 442,
        "start_time": "2022-04-12T07:51:03.988Z"
      },
      {
        "duration": 31,
        "start_time": "2022-04-12T07:51:04.431Z"
      },
      {
        "duration": 19,
        "start_time": "2022-04-12T07:51:04.463Z"
      },
      {
        "duration": 10,
        "start_time": "2022-04-12T07:51:04.483Z"
      },
      {
        "duration": 24,
        "start_time": "2022-04-12T07:51:04.496Z"
      },
      {
        "duration": 7,
        "start_time": "2022-04-12T07:51:04.522Z"
      },
      {
        "duration": 9,
        "start_time": "2022-04-12T07:51:04.531Z"
      },
      {
        "duration": 13,
        "start_time": "2022-04-12T07:51:04.542Z"
      },
      {
        "duration": 19,
        "start_time": "2022-04-12T07:51:04.557Z"
      },
      {
        "duration": 19,
        "start_time": "2022-04-12T07:51:04.577Z"
      },
      {
        "duration": 890,
        "start_time": "2022-04-12T07:51:04.598Z"
      },
      {
        "duration": 7,
        "start_time": "2022-04-12T07:51:05.490Z"
      },
      {
        "duration": 7,
        "start_time": "2022-04-12T07:51:05.499Z"
      },
      {
        "duration": 4,
        "start_time": "2022-04-12T07:51:05.508Z"
      },
      {
        "duration": 41,
        "start_time": "2022-04-12T07:51:05.514Z"
      },
      {
        "duration": 2,
        "start_time": "2022-04-12T07:51:05.557Z"
      },
      {
        "duration": 683,
        "start_time": "2022-04-12T07:51:05.560Z"
      },
      {
        "duration": 11,
        "start_time": "2022-04-12T07:51:06.245Z"
      },
      {
        "duration": 424,
        "start_time": "2022-04-12T07:52:28.324Z"
      },
      {
        "duration": 43,
        "start_time": "2022-04-12T07:52:28.750Z"
      },
      {
        "duration": 19,
        "start_time": "2022-04-12T07:52:28.794Z"
      },
      {
        "duration": 7,
        "start_time": "2022-04-12T07:52:28.815Z"
      },
      {
        "duration": 38,
        "start_time": "2022-04-12T07:52:28.823Z"
      },
      {
        "duration": 8,
        "start_time": "2022-04-12T07:52:28.863Z"
      },
      {
        "duration": 25,
        "start_time": "2022-04-12T07:52:28.873Z"
      },
      {
        "duration": 13,
        "start_time": "2022-04-12T07:52:28.901Z"
      },
      {
        "duration": 22,
        "start_time": "2022-04-12T07:52:28.916Z"
      },
      {
        "duration": 16,
        "start_time": "2022-04-12T07:52:28.941Z"
      },
      {
        "duration": 812,
        "start_time": "2022-04-12T07:52:28.958Z"
      },
      {
        "duration": 7,
        "start_time": "2022-04-12T07:52:29.772Z"
      },
      {
        "duration": 4,
        "start_time": "2022-04-12T07:52:29.781Z"
      },
      {
        "duration": 2,
        "start_time": "2022-04-12T07:52:29.787Z"
      },
      {
        "duration": 46,
        "start_time": "2022-04-12T07:52:29.791Z"
      },
      {
        "duration": 3,
        "start_time": "2022-04-12T07:52:29.838Z"
      },
      {
        "duration": 658,
        "start_time": "2022-04-12T07:52:29.842Z"
      },
      {
        "duration": 10,
        "start_time": "2022-04-12T07:52:30.502Z"
      },
      {
        "duration": 98023,
        "start_time": "2022-04-12T07:52:30.514Z"
      },
      {
        "duration": 172041,
        "start_time": "2022-04-12T07:54:08.539Z"
      },
      {
        "duration": 424,
        "start_time": "2022-04-12T08:01:27.994Z"
      },
      {
        "duration": 29,
        "start_time": "2022-04-12T08:01:28.423Z"
      },
      {
        "duration": 17,
        "start_time": "2022-04-12T08:01:28.454Z"
      },
      {
        "duration": 2,
        "start_time": "2022-04-12T08:01:28.473Z"
      },
      {
        "duration": 14,
        "start_time": "2022-04-12T08:01:28.478Z"
      },
      {
        "duration": 3,
        "start_time": "2022-04-12T08:01:28.493Z"
      },
      {
        "duration": 6,
        "start_time": "2022-04-12T08:01:28.497Z"
      },
      {
        "duration": 19,
        "start_time": "2022-04-12T08:01:28.505Z"
      },
      {
        "duration": 12,
        "start_time": "2022-04-12T08:01:28.526Z"
      },
      {
        "duration": 4,
        "start_time": "2022-04-12T08:01:28.539Z"
      },
      {
        "duration": 813,
        "start_time": "2022-04-12T08:01:28.544Z"
      },
      {
        "duration": 6,
        "start_time": "2022-04-12T08:01:29.359Z"
      },
      {
        "duration": 5,
        "start_time": "2022-04-12T08:01:29.366Z"
      },
      {
        "duration": 2,
        "start_time": "2022-04-12T08:01:29.374Z"
      },
      {
        "duration": 48,
        "start_time": "2022-04-12T08:01:29.378Z"
      },
      {
        "duration": 2,
        "start_time": "2022-04-12T08:01:29.428Z"
      },
      {
        "duration": 617,
        "start_time": "2022-04-12T08:01:29.432Z"
      },
      {
        "duration": 11,
        "start_time": "2022-04-12T08:01:30.050Z"
      },
      {
        "duration": 450,
        "start_time": "2022-04-12T08:05:13.216Z"
      },
      {
        "duration": 32,
        "start_time": "2022-04-12T08:05:13.668Z"
      },
      {
        "duration": 26,
        "start_time": "2022-04-12T08:05:13.702Z"
      },
      {
        "duration": 5,
        "start_time": "2022-04-12T08:05:13.732Z"
      },
      {
        "duration": 18,
        "start_time": "2022-04-12T08:05:13.739Z"
      },
      {
        "duration": 4,
        "start_time": "2022-04-12T08:05:13.758Z"
      },
      {
        "duration": 7,
        "start_time": "2022-04-12T08:05:13.764Z"
      },
      {
        "duration": 5,
        "start_time": "2022-04-12T08:05:13.773Z"
      },
      {
        "duration": 12,
        "start_time": "2022-04-12T08:05:13.780Z"
      },
      {
        "duration": 4,
        "start_time": "2022-04-12T08:05:13.826Z"
      },
      {
        "duration": 847,
        "start_time": "2022-04-12T08:05:13.832Z"
      },
      {
        "duration": 7,
        "start_time": "2022-04-12T08:05:14.680Z"
      },
      {
        "duration": 8,
        "start_time": "2022-04-12T08:05:14.689Z"
      },
      {
        "duration": 6,
        "start_time": "2022-04-12T08:05:14.698Z"
      },
      {
        "duration": 50,
        "start_time": "2022-04-12T08:05:14.706Z"
      },
      {
        "duration": 3,
        "start_time": "2022-04-12T08:05:14.758Z"
      },
      {
        "duration": 773,
        "start_time": "2022-04-12T08:05:14.762Z"
      },
      {
        "duration": 11,
        "start_time": "2022-04-12T08:05:15.537Z"
      },
      {
        "duration": 399188,
        "start_time": "2022-04-12T08:05:15.550Z"
      },
      {
        "duration": 191296,
        "start_time": "2022-04-12T08:11:54.741Z"
      },
      {
        "duration": 588,
        "start_time": "2022-04-12T09:54:53.089Z"
      },
      {
        "duration": 224,
        "start_time": "2022-04-12T09:55:01.616Z"
      },
      {
        "duration": 2642,
        "start_time": "2022-04-12T09:55:20.449Z"
      },
      {
        "duration": 6,
        "start_time": "2022-04-12T09:55:42.817Z"
      },
      {
        "duration": 117,
        "start_time": "2022-04-12T09:55:44.664Z"
      },
      {
        "duration": 104,
        "start_time": "2022-04-12T09:55:50.416Z"
      },
      {
        "duration": 801,
        "start_time": "2022-04-12T09:56:03.488Z"
      },
      {
        "duration": 15,
        "start_time": "2022-04-12T09:56:25.760Z"
      },
      {
        "duration": 105,
        "start_time": "2022-04-12T09:56:30.976Z"
      },
      {
        "duration": 7,
        "start_time": "2022-04-12T09:56:43.561Z"
      },
      {
        "duration": 7,
        "start_time": "2022-04-12T09:57:03.840Z"
      },
      {
        "duration": 236,
        "start_time": "2022-04-12T09:57:22.209Z"
      },
      {
        "duration": 158,
        "start_time": "2022-04-12T09:57:28.024Z"
      },
      {
        "duration": 138,
        "start_time": "2022-04-12T09:57:29.760Z"
      },
      {
        "duration": 128,
        "start_time": "2022-04-12T09:57:48.664Z"
      },
      {
        "duration": 136,
        "start_time": "2022-04-12T09:58:08.055Z"
      },
      {
        "duration": 143,
        "start_time": "2022-04-12T09:58:34.208Z"
      },
      {
        "duration": 6,
        "start_time": "2022-04-12T09:58:49.104Z"
      },
      {
        "duration": 6,
        "start_time": "2022-04-12T09:59:08.687Z"
      },
      {
        "duration": 6,
        "start_time": "2022-04-12T09:59:39.463Z"
      },
      {
        "duration": 158,
        "start_time": "2022-04-12T09:59:56.087Z"
      },
      {
        "duration": 142,
        "start_time": "2022-04-12T10:00:06.759Z"
      },
      {
        "duration": 33,
        "start_time": "2022-04-12T10:00:46.581Z"
      },
      {
        "duration": 411,
        "start_time": "2022-04-12T10:02:08.672Z"
      },
      {
        "duration": 31,
        "start_time": "2022-04-12T10:02:09.085Z"
      },
      {
        "duration": 31,
        "start_time": "2022-04-12T10:02:09.119Z"
      },
      {
        "duration": 4,
        "start_time": "2022-04-12T10:02:09.152Z"
      },
      {
        "duration": 28,
        "start_time": "2022-04-12T10:02:09.159Z"
      },
      {
        "duration": 12,
        "start_time": "2022-04-12T10:02:09.189Z"
      },
      {
        "duration": 20,
        "start_time": "2022-04-12T10:02:09.203Z"
      },
      {
        "duration": 19,
        "start_time": "2022-04-12T10:02:09.225Z"
      },
      {
        "duration": 647,
        "start_time": "2022-04-12T10:02:09.247Z"
      },
      {
        "duration": 7,
        "start_time": "2022-04-12T10:02:09.896Z"
      },
      {
        "duration": 24,
        "start_time": "2022-04-12T10:02:09.905Z"
      },
      {
        "duration": 155,
        "start_time": "2022-04-12T10:02:09.931Z"
      },
      {
        "duration": 156,
        "start_time": "2022-04-12T10:02:10.088Z"
      },
      {
        "duration": 152,
        "start_time": "2022-04-12T10:02:10.248Z"
      },
      {
        "duration": 6,
        "start_time": "2022-04-12T10:02:10.402Z"
      },
      {
        "duration": 20,
        "start_time": "2022-04-12T10:02:10.410Z"
      },
      {
        "duration": 7,
        "start_time": "2022-04-12T10:02:10.432Z"
      },
      {
        "duration": 167,
        "start_time": "2022-04-12T10:02:10.442Z"
      },
      {
        "duration": 116,
        "start_time": "2022-04-12T10:02:10.611Z"
      },
      {
        "duration": 16,
        "start_time": "2022-04-12T10:02:10.732Z"
      },
      {
        "duration": 3,
        "start_time": "2022-04-12T10:02:10.751Z"
      },
      {
        "duration": 939,
        "start_time": "2022-04-12T10:02:10.756Z"
      },
      {
        "duration": 6,
        "start_time": "2022-04-12T10:02:11.697Z"
      },
      {
        "duration": 8,
        "start_time": "2022-04-12T10:02:11.705Z"
      },
      {
        "duration": 3,
        "start_time": "2022-04-12T10:02:11.715Z"
      },
      {
        "duration": 48,
        "start_time": "2022-04-12T10:02:11.720Z"
      },
      {
        "duration": 3,
        "start_time": "2022-04-12T10:02:11.770Z"
      },
      {
        "duration": 787,
        "start_time": "2022-04-12T10:02:11.775Z"
      },
      {
        "duration": 13,
        "start_time": "2022-04-12T10:02:12.564Z"
      },
      {
        "duration": 61,
        "start_time": "2022-04-12T10:04:23.902Z"
      },
      {
        "duration": 1087,
        "start_time": "2022-04-12T10:04:27.517Z"
      },
      {
        "duration": 60,
        "start_time": "2022-04-12T10:05:59.268Z"
      },
      {
        "duration": 506,
        "start_time": "2022-04-12T10:06:04.851Z"
      },
      {
        "duration": 38,
        "start_time": "2022-04-12T10:06:05.360Z"
      },
      {
        "duration": 33,
        "start_time": "2022-04-12T10:06:05.400Z"
      },
      {
        "duration": 5,
        "start_time": "2022-04-12T10:06:05.436Z"
      },
      {
        "duration": 16,
        "start_time": "2022-04-12T10:06:05.445Z"
      },
      {
        "duration": 4,
        "start_time": "2022-04-12T10:06:05.463Z"
      },
      {
        "duration": 9,
        "start_time": "2022-04-12T10:06:05.469Z"
      },
      {
        "duration": 6,
        "start_time": "2022-04-12T10:06:05.479Z"
      },
      {
        "duration": 493,
        "start_time": "2022-04-12T10:06:05.527Z"
      },
      {
        "duration": 8,
        "start_time": "2022-04-12T10:06:06.021Z"
      },
      {
        "duration": 19,
        "start_time": "2022-04-12T10:06:06.031Z"
      },
      {
        "duration": 159,
        "start_time": "2022-04-12T10:06:06.053Z"
      },
      {
        "duration": 157,
        "start_time": "2022-04-12T10:06:06.214Z"
      },
      {
        "duration": 175,
        "start_time": "2022-04-12T10:06:06.374Z"
      },
      {
        "duration": 6,
        "start_time": "2022-04-12T10:06:06.552Z"
      },
      {
        "duration": 39,
        "start_time": "2022-04-12T10:06:06.561Z"
      },
      {
        "duration": 23,
        "start_time": "2022-04-12T10:06:06.602Z"
      },
      {
        "duration": 155,
        "start_time": "2022-04-12T10:06:06.627Z"
      },
      {
        "duration": 103,
        "start_time": "2022-04-12T10:06:06.784Z"
      },
      {
        "duration": 10,
        "start_time": "2022-04-12T10:06:06.888Z"
      },
      {
        "duration": 16,
        "start_time": "2022-04-12T10:06:06.900Z"
      },
      {
        "duration": 930,
        "start_time": "2022-04-12T10:06:06.918Z"
      },
      {
        "duration": 9,
        "start_time": "2022-04-12T10:06:07.850Z"
      },
      {
        "duration": 5,
        "start_time": "2022-04-12T10:06:07.861Z"
      },
      {
        "duration": 4,
        "start_time": "2022-04-12T10:06:07.868Z"
      },
      {
        "duration": 66,
        "start_time": "2022-04-12T10:06:07.874Z"
      },
      {
        "duration": 3,
        "start_time": "2022-04-12T10:06:07.942Z"
      },
      {
        "duration": 143,
        "start_time": "2022-04-12T10:06:07.947Z"
      },
      {
        "duration": 0,
        "start_time": "2022-04-12T10:06:08.092Z"
      },
      {
        "duration": 0,
        "start_time": "2022-04-12T10:06:08.093Z"
      },
      {
        "duration": 0,
        "start_time": "2022-04-12T10:06:08.094Z"
      },
      {
        "duration": 839,
        "start_time": "2022-04-12T10:06:16.648Z"
      },
      {
        "duration": 770,
        "start_time": "2022-04-12T10:06:54.670Z"
      },
      {
        "duration": 764,
        "start_time": "2022-04-12T10:08:08.254Z"
      },
      {
        "duration": 754,
        "start_time": "2022-04-12T10:10:25.198Z"
      },
      {
        "duration": 168,
        "start_time": "2022-04-12T10:11:21.868Z"
      },
      {
        "duration": 156,
        "start_time": "2022-04-12T10:11:32.257Z"
      },
      {
        "duration": 163,
        "start_time": "2022-04-12T10:12:07.148Z"
      },
      {
        "duration": 174,
        "start_time": "2022-04-12T10:12:15.134Z"
      },
      {
        "duration": 363,
        "start_time": "2022-04-12T10:12:18.908Z"
      },
      {
        "duration": 157,
        "start_time": "2022-04-12T10:12:25.899Z"
      },
      {
        "duration": 156,
        "start_time": "2022-04-12T10:12:34.500Z"
      },
      {
        "duration": 773,
        "start_time": "2022-04-12T10:12:37.508Z"
      },
      {
        "duration": 741,
        "start_time": "2022-04-12T10:13:02.611Z"
      },
      {
        "duration": 718,
        "start_time": "2022-04-12T10:13:20.173Z"
      },
      {
        "duration": 10,
        "start_time": "2022-04-12T10:13:51.099Z"
      },
      {
        "duration": 26,
        "start_time": "2022-04-12T10:16:59.531Z"
      },
      {
        "duration": 742,
        "start_time": "2022-04-12T10:17:14.931Z"
      },
      {
        "duration": 719,
        "start_time": "2022-04-12T10:17:25.642Z"
      },
      {
        "duration": 723,
        "start_time": "2022-04-12T10:17:47.689Z"
      },
      {
        "duration": 7,
        "start_time": "2022-04-12T10:18:15.402Z"
      },
      {
        "duration": 3375,
        "start_time": "2022-04-12T10:18:18.842Z"
      },
      {
        "duration": 737,
        "start_time": "2022-04-12T10:18:31.794Z"
      },
      {
        "duration": 726,
        "start_time": "2022-04-12T10:20:36.977Z"
      },
      {
        "duration": 770,
        "start_time": "2022-04-12T10:20:43.664Z"
      },
      {
        "duration": 971,
        "start_time": "2022-04-12T10:21:29.209Z"
      },
      {
        "duration": 875,
        "start_time": "2022-04-12T10:21:43.488Z"
      },
      {
        "duration": 3,
        "start_time": "2022-04-12T10:22:59.967Z"
      },
      {
        "duration": 865,
        "start_time": "2022-04-12T10:23:28.432Z"
      },
      {
        "duration": 836,
        "start_time": "2022-04-12T10:23:41.731Z"
      },
      {
        "duration": 1031,
        "start_time": "2022-04-12T10:26:28.901Z"
      },
      {
        "duration": 997,
        "start_time": "2022-04-12T10:27:15.861Z"
      },
      {
        "duration": 1227,
        "start_time": "2022-04-12T10:28:26.430Z"
      },
      {
        "duration": 1163,
        "start_time": "2022-04-12T10:28:41.669Z"
      },
      {
        "duration": 1063,
        "start_time": "2022-04-12T10:31:17.411Z"
      },
      {
        "duration": 1006,
        "start_time": "2022-04-12T10:31:36.516Z"
      },
      {
        "duration": 693,
        "start_time": "2022-04-12T10:31:56.269Z"
      },
      {
        "duration": 28,
        "start_time": "2022-04-12T10:31:56.964Z"
      },
      {
        "duration": 15,
        "start_time": "2022-04-12T10:31:56.994Z"
      },
      {
        "duration": 3,
        "start_time": "2022-04-12T10:31:57.011Z"
      },
      {
        "duration": 18,
        "start_time": "2022-04-12T10:31:57.026Z"
      },
      {
        "duration": 3,
        "start_time": "2022-04-12T10:31:57.046Z"
      },
      {
        "duration": 7,
        "start_time": "2022-04-12T10:31:57.051Z"
      },
      {
        "duration": 4,
        "start_time": "2022-04-12T10:31:57.059Z"
      },
      {
        "duration": 161,
        "start_time": "2022-04-12T10:31:57.065Z"
      },
      {
        "duration": 10,
        "start_time": "2022-04-12T10:31:57.231Z"
      },
      {
        "duration": 7,
        "start_time": "2022-04-12T10:31:57.243Z"
      },
      {
        "duration": 151,
        "start_time": "2022-04-12T10:31:57.252Z"
      },
      {
        "duration": 138,
        "start_time": "2022-04-12T10:31:57.405Z"
      },
      {
        "duration": 137,
        "start_time": "2022-04-12T10:31:57.545Z"
      },
      {
        "duration": 6,
        "start_time": "2022-04-12T10:31:57.685Z"
      },
      {
        "duration": 7,
        "start_time": "2022-04-12T10:31:57.693Z"
      },
      {
        "duration": 26,
        "start_time": "2022-04-12T10:31:57.702Z"
      },
      {
        "duration": 181,
        "start_time": "2022-04-12T10:31:57.730Z"
      },
      {
        "duration": 43,
        "start_time": "2022-04-12T10:31:57.913Z"
      },
      {
        "duration": 10,
        "start_time": "2022-04-12T10:31:57.957Z"
      },
      {
        "duration": 3,
        "start_time": "2022-04-12T10:31:57.968Z"
      },
      {
        "duration": 754,
        "start_time": "2022-04-12T10:31:57.972Z"
      },
      {
        "duration": 9,
        "start_time": "2022-04-12T10:31:58.729Z"
      },
      {
        "duration": 5,
        "start_time": "2022-04-12T10:31:58.740Z"
      },
      {
        "duration": 4,
        "start_time": "2022-04-12T10:31:58.746Z"
      },
      {
        "duration": 115,
        "start_time": "2022-04-12T10:31:58.751Z"
      },
      {
        "duration": 1017,
        "start_time": "2022-04-12T10:31:58.868Z"
      },
      {
        "duration": 1026,
        "start_time": "2022-04-12T10:31:59.887Z"
      },
      {
        "duration": 12,
        "start_time": "2022-04-12T10:32:00.915Z"
      },
      {
        "duration": 668,
        "start_time": "2022-04-12T10:32:54.580Z"
      },
      {
        "duration": 28,
        "start_time": "2022-04-12T10:32:55.250Z"
      },
      {
        "duration": 16,
        "start_time": "2022-04-12T10:32:55.280Z"
      },
      {
        "duration": 3,
        "start_time": "2022-04-12T10:32:55.298Z"
      },
      {
        "duration": 26,
        "start_time": "2022-04-12T10:32:55.304Z"
      },
      {
        "duration": 5,
        "start_time": "2022-04-12T10:32:55.333Z"
      },
      {
        "duration": 8,
        "start_time": "2022-04-12T10:32:55.340Z"
      },
      {
        "duration": 5,
        "start_time": "2022-04-12T10:32:55.349Z"
      },
      {
        "duration": 157,
        "start_time": "2022-04-12T10:32:55.355Z"
      },
      {
        "duration": 17,
        "start_time": "2022-04-12T10:32:55.513Z"
      },
      {
        "duration": 9,
        "start_time": "2022-04-12T10:32:55.533Z"
      },
      {
        "duration": 148,
        "start_time": "2022-04-12T10:32:55.544Z"
      },
      {
        "duration": 124,
        "start_time": "2022-04-12T10:32:55.693Z"
      },
      {
        "duration": 126,
        "start_time": "2022-04-12T10:32:55.821Z"
      },
      {
        "duration": 6,
        "start_time": "2022-04-12T10:32:55.948Z"
      },
      {
        "duration": 5,
        "start_time": "2022-04-12T10:32:55.956Z"
      },
      {
        "duration": 4,
        "start_time": "2022-04-12T10:32:55.963Z"
      },
      {
        "duration": 204,
        "start_time": "2022-04-12T10:32:55.968Z"
      },
      {
        "duration": 29,
        "start_time": "2022-04-12T10:32:56.173Z"
      },
      {
        "duration": 22,
        "start_time": "2022-04-12T10:32:56.203Z"
      },
      {
        "duration": 2,
        "start_time": "2022-04-12T10:32:56.230Z"
      },
      {
        "duration": 740,
        "start_time": "2022-04-12T10:32:56.235Z"
      },
      {
        "duration": 6,
        "start_time": "2022-04-12T10:32:56.977Z"
      },
      {
        "duration": 5,
        "start_time": "2022-04-12T10:32:56.984Z"
      },
      {
        "duration": 5,
        "start_time": "2022-04-12T10:32:56.990Z"
      },
      {
        "duration": 44,
        "start_time": "2022-04-12T10:32:56.996Z"
      },
      {
        "duration": 1057,
        "start_time": "2022-04-12T10:32:57.042Z"
      },
      {
        "duration": 1004,
        "start_time": "2022-04-12T10:32:58.101Z"
      },
      {
        "duration": 19,
        "start_time": "2022-04-12T10:32:59.107Z"
      },
      {
        "duration": 812,
        "start_time": "2022-04-12T10:35:08.538Z"
      },
      {
        "duration": 30,
        "start_time": "2022-04-12T10:35:09.353Z"
      },
      {
        "duration": 18,
        "start_time": "2022-04-12T10:35:09.385Z"
      },
      {
        "duration": 4,
        "start_time": "2022-04-12T10:35:09.405Z"
      },
      {
        "duration": 25,
        "start_time": "2022-04-12T10:35:09.412Z"
      },
      {
        "duration": 5,
        "start_time": "2022-04-12T10:35:09.442Z"
      },
      {
        "duration": 7,
        "start_time": "2022-04-12T10:35:09.449Z"
      },
      {
        "duration": 5,
        "start_time": "2022-04-12T10:35:09.457Z"
      },
      {
        "duration": 166,
        "start_time": "2022-04-12T10:35:09.463Z"
      },
      {
        "duration": 11,
        "start_time": "2022-04-12T10:35:09.631Z"
      },
      {
        "duration": 9,
        "start_time": "2022-04-12T10:35:09.644Z"
      },
      {
        "duration": 155,
        "start_time": "2022-04-12T10:35:09.654Z"
      },
      {
        "duration": 143,
        "start_time": "2022-04-12T10:35:09.811Z"
      },
      {
        "duration": 146,
        "start_time": "2022-04-12T10:35:09.956Z"
      },
      {
        "duration": 6,
        "start_time": "2022-04-12T10:35:10.103Z"
      },
      {
        "duration": 10,
        "start_time": "2022-04-12T10:35:10.122Z"
      },
      {
        "duration": 8,
        "start_time": "2022-04-12T10:35:10.135Z"
      },
      {
        "duration": 203,
        "start_time": "2022-04-12T10:35:10.146Z"
      },
      {
        "duration": 30,
        "start_time": "2022-04-12T10:35:10.351Z"
      },
      {
        "duration": 11,
        "start_time": "2022-04-12T10:35:10.382Z"
      },
      {
        "duration": 7,
        "start_time": "2022-04-12T10:35:10.394Z"
      },
      {
        "duration": 802,
        "start_time": "2022-04-12T10:35:10.403Z"
      },
      {
        "duration": 7,
        "start_time": "2022-04-12T10:35:11.206Z"
      },
      {
        "duration": 5,
        "start_time": "2022-04-12T10:35:11.215Z"
      },
      {
        "duration": 4,
        "start_time": "2022-04-12T10:35:11.226Z"
      },
      {
        "duration": 40,
        "start_time": "2022-04-12T10:35:11.232Z"
      },
      {
        "duration": 86,
        "start_time": "2022-04-12T10:35:11.274Z"
      },
      {
        "duration": 1047,
        "start_time": "2022-04-12T10:35:11.362Z"
      },
      {
        "duration": 1061,
        "start_time": "2022-04-12T10:35:12.411Z"
      },
      {
        "duration": 11,
        "start_time": "2022-04-12T10:35:13.473Z"
      },
      {
        "duration": 398338,
        "start_time": "2022-04-12T10:35:13.486Z"
      },
      {
        "duration": 181845,
        "start_time": "2022-04-12T10:41:51.825Z"
      },
      {
        "duration": 125,
        "start_time": "2022-04-12T10:52:36.938Z"
      },
      {
        "duration": 948,
        "start_time": "2022-04-12T10:53:04.898Z"
      },
      {
        "duration": 691,
        "start_time": "2022-04-12T10:55:34.505Z"
      },
      {
        "duration": 790,
        "start_time": "2022-04-12T10:56:03.104Z"
      },
      {
        "duration": 1102,
        "start_time": "2022-04-12T10:56:15.179Z"
      },
      {
        "duration": 913,
        "start_time": "2022-04-12T10:56:30.184Z"
      },
      {
        "duration": 717,
        "start_time": "2022-04-12T10:56:48.336Z"
      },
      {
        "duration": 689,
        "start_time": "2022-04-12T11:05:04.391Z"
      },
      {
        "duration": 3,
        "start_time": "2022-04-12T11:11:07.704Z"
      },
      {
        "duration": 1117,
        "start_time": "2022-04-12T11:12:03.226Z"
      },
      {
        "duration": 1086,
        "start_time": "2022-04-12T11:13:02.217Z"
      },
      {
        "duration": 1129,
        "start_time": "2022-04-12T11:13:22.738Z"
      },
      {
        "duration": 1255,
        "start_time": "2022-04-12T11:14:02.920Z"
      },
      {
        "duration": 12,
        "start_time": "2022-04-12T11:17:16.975Z"
      },
      {
        "duration": 5,
        "start_time": "2022-04-12T11:17:58.629Z"
      },
      {
        "duration": 125,
        "start_time": "2022-04-12T11:18:04.527Z"
      },
      {
        "duration": 120,
        "start_time": "2022-04-12T11:18:25.526Z"
      },
      {
        "duration": 112,
        "start_time": "2022-04-12T11:18:33.645Z"
      },
      {
        "duration": 109,
        "start_time": "2022-04-12T11:18:40.646Z"
      },
      {
        "duration": 177,
        "start_time": "2022-04-12T11:19:23.301Z"
      },
      {
        "duration": 144,
        "start_time": "2022-04-12T11:19:37.012Z"
      },
      {
        "duration": 11,
        "start_time": "2022-04-12T11:21:22.708Z"
      },
      {
        "duration": 1211,
        "start_time": "2022-04-12T11:21:27.403Z"
      },
      {
        "duration": 12,
        "start_time": "2022-04-12T11:21:31.940Z"
      },
      {
        "duration": 1259,
        "start_time": "2022-04-12T11:21:55.252Z"
      },
      {
        "duration": 16,
        "start_time": "2022-04-12T11:22:00.171Z"
      },
      {
        "duration": 1114,
        "start_time": "2022-04-12T11:23:09.395Z"
      },
      {
        "duration": 146,
        "start_time": "2022-04-12T11:23:12.315Z"
      },
      {
        "duration": 3,
        "start_time": "2022-04-12T11:25:41.642Z"
      },
      {
        "duration": 137,
        "start_time": "2022-04-12T11:26:45.370Z"
      },
      {
        "duration": 3,
        "start_time": "2022-04-12T11:29:23.200Z"
      },
      {
        "duration": 1159,
        "start_time": "2022-04-12T11:30:12.040Z"
      },
      {
        "duration": 219,
        "start_time": "2022-04-12T11:30:18.871Z"
      },
      {
        "duration": 900,
        "start_time": "2022-04-13T08:53:14.952Z"
      },
      {
        "duration": 40,
        "start_time": "2022-04-13T08:53:15.855Z"
      },
      {
        "duration": 18,
        "start_time": "2022-04-13T08:53:15.898Z"
      },
      {
        "duration": 3,
        "start_time": "2022-04-13T08:53:15.919Z"
      },
      {
        "duration": 19,
        "start_time": "2022-04-13T08:53:15.924Z"
      },
      {
        "duration": 4,
        "start_time": "2022-04-13T08:53:15.946Z"
      },
      {
        "duration": 9,
        "start_time": "2022-04-13T08:53:15.951Z"
      },
      {
        "duration": 7,
        "start_time": "2022-04-13T08:53:15.961Z"
      },
      {
        "duration": 183,
        "start_time": "2022-04-13T08:53:15.969Z"
      },
      {
        "duration": 7,
        "start_time": "2022-04-13T08:53:16.155Z"
      },
      {
        "duration": 14,
        "start_time": "2022-04-13T08:53:16.164Z"
      },
      {
        "duration": 169,
        "start_time": "2022-04-13T08:53:16.179Z"
      },
      {
        "duration": 157,
        "start_time": "2022-04-13T08:53:16.350Z"
      },
      {
        "duration": 175,
        "start_time": "2022-04-13T08:53:16.509Z"
      },
      {
        "duration": 8,
        "start_time": "2022-04-13T08:53:16.686Z"
      },
      {
        "duration": 7,
        "start_time": "2022-04-13T08:53:16.696Z"
      },
      {
        "duration": 29,
        "start_time": "2022-04-13T08:53:16.706Z"
      },
      {
        "duration": 225,
        "start_time": "2022-04-13T08:53:16.737Z"
      },
      {
        "duration": 36,
        "start_time": "2022-04-13T08:53:16.964Z"
      },
      {
        "duration": 33,
        "start_time": "2022-04-13T08:53:17.001Z"
      },
      {
        "duration": 3,
        "start_time": "2022-04-13T08:53:17.036Z"
      },
      {
        "duration": 728,
        "start_time": "2022-04-13T08:53:17.041Z"
      },
      {
        "duration": 8,
        "start_time": "2022-04-13T08:53:17.770Z"
      },
      {
        "duration": 10,
        "start_time": "2022-04-13T08:53:17.779Z"
      },
      {
        "duration": 7,
        "start_time": "2022-04-13T08:53:17.791Z"
      },
      {
        "duration": 119,
        "start_time": "2022-04-13T08:53:17.800Z"
      },
      {
        "duration": 3,
        "start_time": "2022-04-13T08:53:17.921Z"
      },
      {
        "duration": 155,
        "start_time": "2022-04-13T08:53:17.934Z"
      },
      {
        "duration": 0,
        "start_time": "2022-04-13T08:53:18.091Z"
      },
      {
        "duration": 0,
        "start_time": "2022-04-13T08:53:18.092Z"
      },
      {
        "duration": 0,
        "start_time": "2022-04-13T08:53:18.094Z"
      },
      {
        "duration": 0,
        "start_time": "2022-04-13T08:53:18.095Z"
      },
      {
        "duration": 0,
        "start_time": "2022-04-13T08:53:18.096Z"
      },
      {
        "duration": 0,
        "start_time": "2022-04-13T08:53:18.098Z"
      },
      {
        "duration": 0,
        "start_time": "2022-04-13T08:53:18.099Z"
      },
      {
        "duration": 711,
        "start_time": "2022-04-13T08:53:54.055Z"
      },
      {
        "duration": 31,
        "start_time": "2022-04-13T08:53:54.768Z"
      },
      {
        "duration": 20,
        "start_time": "2022-04-13T08:53:54.801Z"
      },
      {
        "duration": 11,
        "start_time": "2022-04-13T08:53:54.823Z"
      },
      {
        "duration": 16,
        "start_time": "2022-04-13T08:53:54.837Z"
      },
      {
        "duration": 4,
        "start_time": "2022-04-13T08:53:54.854Z"
      },
      {
        "duration": 11,
        "start_time": "2022-04-13T08:53:54.861Z"
      },
      {
        "duration": 14,
        "start_time": "2022-04-13T08:53:54.874Z"
      },
      {
        "duration": 207,
        "start_time": "2022-04-13T08:53:54.891Z"
      },
      {
        "duration": 8,
        "start_time": "2022-04-13T08:53:55.100Z"
      },
      {
        "duration": 25,
        "start_time": "2022-04-13T08:53:55.110Z"
      },
      {
        "duration": 167,
        "start_time": "2022-04-13T08:53:55.137Z"
      },
      {
        "duration": 156,
        "start_time": "2022-04-13T08:53:55.306Z"
      },
      {
        "duration": 170,
        "start_time": "2022-04-13T08:53:55.465Z"
      },
      {
        "duration": 6,
        "start_time": "2022-04-13T08:53:55.637Z"
      },
      {
        "duration": 11,
        "start_time": "2022-04-13T08:53:55.645Z"
      },
      {
        "duration": 14,
        "start_time": "2022-04-13T08:53:55.658Z"
      },
      {
        "duration": 226,
        "start_time": "2022-04-13T08:53:55.674Z"
      },
      {
        "duration": 46,
        "start_time": "2022-04-13T08:53:55.902Z"
      },
      {
        "duration": 12,
        "start_time": "2022-04-13T08:53:55.950Z"
      },
      {
        "duration": 8,
        "start_time": "2022-04-13T08:53:55.963Z"
      },
      {
        "duration": 701,
        "start_time": "2022-04-13T08:53:55.973Z"
      },
      {
        "duration": 9,
        "start_time": "2022-04-13T08:53:56.676Z"
      },
      {
        "duration": 7,
        "start_time": "2022-04-13T08:53:56.687Z"
      },
      {
        "duration": 5,
        "start_time": "2022-04-13T08:53:56.697Z"
      },
      {
        "duration": 59,
        "start_time": "2022-04-13T08:53:56.704Z"
      },
      {
        "duration": 80,
        "start_time": "2022-04-13T08:53:56.765Z"
      },
      {
        "duration": 1398,
        "start_time": "2022-04-13T08:53:56.848Z"
      },
      {
        "duration": 154,
        "start_time": "2022-04-13T08:53:58.248Z"
      },
      {
        "duration": 153,
        "start_time": "2022-04-13T08:53:58.404Z"
      },
      {
        "duration": 1110,
        "start_time": "2022-04-13T08:53:58.559Z"
      },
      {
        "duration": 776,
        "start_time": "2022-04-13T08:53:59.671Z"
      },
      {
        "duration": 11,
        "start_time": "2022-04-13T08:54:00.449Z"
      },
      {
        "duration": 714,
        "start_time": "2022-04-13T08:54:58.621Z"
      },
      {
        "duration": 39,
        "start_time": "2022-04-13T08:54:59.338Z"
      },
      {
        "duration": 18,
        "start_time": "2022-04-13T08:54:59.379Z"
      },
      {
        "duration": 4,
        "start_time": "2022-04-13T08:54:59.399Z"
      },
      {
        "duration": 15,
        "start_time": "2022-04-13T08:54:59.407Z"
      },
      {
        "duration": 11,
        "start_time": "2022-04-13T08:54:59.424Z"
      },
      {
        "duration": 8,
        "start_time": "2022-04-13T08:54:59.437Z"
      },
      {
        "duration": 6,
        "start_time": "2022-04-13T08:54:59.447Z"
      },
      {
        "duration": 185,
        "start_time": "2022-04-13T08:54:59.455Z"
      },
      {
        "duration": 9,
        "start_time": "2022-04-13T08:54:59.643Z"
      },
      {
        "duration": 10,
        "start_time": "2022-04-13T08:54:59.654Z"
      },
      {
        "duration": 193,
        "start_time": "2022-04-13T08:54:59.666Z"
      },
      {
        "duration": 154,
        "start_time": "2022-04-13T08:54:59.860Z"
      },
      {
        "duration": 171,
        "start_time": "2022-04-13T08:55:00.018Z"
      },
      {
        "duration": 6,
        "start_time": "2022-04-13T08:55:00.191Z"
      },
      {
        "duration": 9,
        "start_time": "2022-04-13T08:55:00.198Z"
      },
      {
        "duration": 26,
        "start_time": "2022-04-13T08:55:00.209Z"
      },
      {
        "duration": 210,
        "start_time": "2022-04-13T08:55:00.237Z"
      },
      {
        "duration": 34,
        "start_time": "2022-04-13T08:55:00.449Z"
      },
      {
        "duration": 11,
        "start_time": "2022-04-13T08:55:00.484Z"
      },
      {
        "duration": 3,
        "start_time": "2022-04-13T08:55:00.497Z"
      },
      {
        "duration": 705,
        "start_time": "2022-04-13T08:55:00.534Z"
      },
      {
        "duration": 8,
        "start_time": "2022-04-13T08:55:01.242Z"
      },
      {
        "duration": 9,
        "start_time": "2022-04-13T08:55:01.252Z"
      },
      {
        "duration": 21,
        "start_time": "2022-04-13T08:55:01.264Z"
      },
      {
        "duration": 52,
        "start_time": "2022-04-13T08:55:01.288Z"
      },
      {
        "duration": 77,
        "start_time": "2022-04-13T08:55:01.342Z"
      },
      {
        "duration": 1460,
        "start_time": "2022-04-13T08:55:01.422Z"
      },
      {
        "duration": 158,
        "start_time": "2022-04-13T08:55:02.884Z"
      },
      {
        "duration": 153,
        "start_time": "2022-04-13T08:55:03.044Z"
      },
      {
        "duration": 5,
        "start_time": "2022-04-13T08:55:03.199Z"
      },
      {
        "duration": 12,
        "start_time": "2022-04-13T08:55:03.207Z"
      },
      {
        "duration": 25,
        "start_time": "2022-04-13T08:55:03.221Z"
      },
      {
        "duration": 5,
        "start_time": "2022-04-13T08:55:03.248Z"
      },
      {
        "duration": 10,
        "start_time": "2022-04-13T08:55:03.255Z"
      },
      {
        "duration": 729,
        "start_time": "2022-04-13T08:55:52.434Z"
      },
      {
        "duration": 31,
        "start_time": "2022-04-13T08:55:53.166Z"
      },
      {
        "duration": 19,
        "start_time": "2022-04-13T08:55:53.199Z"
      },
      {
        "duration": 4,
        "start_time": "2022-04-13T08:55:53.220Z"
      },
      {
        "duration": 15,
        "start_time": "2022-04-13T08:55:53.235Z"
      },
      {
        "duration": 4,
        "start_time": "2022-04-13T08:55:53.253Z"
      },
      {
        "duration": 8,
        "start_time": "2022-04-13T08:55:53.259Z"
      },
      {
        "duration": 5,
        "start_time": "2022-04-13T08:55:53.269Z"
      },
      {
        "duration": 192,
        "start_time": "2022-04-13T08:55:53.276Z"
      },
      {
        "duration": 8,
        "start_time": "2022-04-13T08:55:53.469Z"
      },
      {
        "duration": 10,
        "start_time": "2022-04-13T08:55:53.479Z"
      },
      {
        "duration": 190,
        "start_time": "2022-04-13T08:55:53.491Z"
      },
      {
        "duration": 152,
        "start_time": "2022-04-13T08:55:53.683Z"
      },
      {
        "duration": 169,
        "start_time": "2022-04-13T08:55:53.838Z"
      },
      {
        "duration": 7,
        "start_time": "2022-04-13T08:55:54.009Z"
      },
      {
        "duration": 21,
        "start_time": "2022-04-13T08:55:54.018Z"
      },
      {
        "duration": 8,
        "start_time": "2022-04-13T08:55:54.041Z"
      },
      {
        "duration": 232,
        "start_time": "2022-04-13T08:55:54.051Z"
      },
      {
        "duration": 49,
        "start_time": "2022-04-13T08:55:54.285Z"
      },
      {
        "duration": 11,
        "start_time": "2022-04-13T08:55:54.337Z"
      },
      {
        "duration": 4,
        "start_time": "2022-04-13T08:55:54.349Z"
      },
      {
        "duration": 733,
        "start_time": "2022-04-13T08:55:54.355Z"
      },
      {
        "duration": 8,
        "start_time": "2022-04-13T08:55:55.091Z"
      },
      {
        "duration": 6,
        "start_time": "2022-04-13T08:55:55.101Z"
      },
      {
        "duration": 4,
        "start_time": "2022-04-13T08:55:55.109Z"
      },
      {
        "duration": 42,
        "start_time": "2022-04-13T08:55:55.133Z"
      },
      {
        "duration": 88,
        "start_time": "2022-04-13T08:55:55.178Z"
      },
      {
        "duration": 1234,
        "start_time": "2022-04-13T08:55:55.268Z"
      },
      {
        "duration": 173,
        "start_time": "2022-04-13T08:55:56.504Z"
      },
      {
        "duration": 165,
        "start_time": "2022-04-13T08:55:56.679Z"
      },
      {
        "duration": 6,
        "start_time": "2022-04-13T08:55:56.845Z"
      },
      {
        "duration": 10,
        "start_time": "2022-04-13T08:55:56.853Z"
      },
      {
        "duration": 17,
        "start_time": "2022-04-13T08:55:56.865Z"
      },
      {
        "duration": 5,
        "start_time": "2022-04-13T08:55:56.884Z"
      },
      {
        "duration": 10,
        "start_time": "2022-04-13T08:55:56.890Z"
      },
      {
        "duration": 149,
        "start_time": "2022-04-13T09:00:18.683Z"
      },
      {
        "duration": 3438,
        "start_time": "2022-04-13T09:00:27.494Z"
      },
      {
        "duration": 5075,
        "start_time": "2022-04-13T09:01:06.822Z"
      },
      {
        "duration": 1538,
        "start_time": "2022-04-13T09:01:32.854Z"
      },
      {
        "duration": 177,
        "start_time": "2022-04-13T09:02:45.821Z"
      },
      {
        "duration": 1019,
        "start_time": "2022-04-13T09:02:51.053Z"
      },
      {
        "duration": 1576,
        "start_time": "2022-04-13T09:03:06.933Z"
      },
      {
        "duration": 1487,
        "start_time": "2022-04-13T09:04:28.498Z"
      },
      {
        "duration": 5014,
        "start_time": "2022-04-13T09:15:37.510Z"
      },
      {
        "duration": 5007,
        "start_time": "2022-04-13T09:16:26.838Z"
      },
      {
        "duration": 4916,
        "start_time": "2022-04-13T09:16:50.254Z"
      },
      {
        "duration": 4927,
        "start_time": "2022-04-13T09:17:56.710Z"
      },
      {
        "duration": 21,
        "start_time": "2022-04-13T09:19:46.626Z"
      },
      {
        "duration": 7,
        "start_time": "2022-04-13T09:20:50.500Z"
      },
      {
        "duration": 5093,
        "start_time": "2022-04-13T09:23:43.074Z"
      },
      {
        "duration": 4986,
        "start_time": "2022-04-13T09:25:00.547Z"
      },
      {
        "duration": 5190,
        "start_time": "2022-04-13T09:25:47.705Z"
      },
      {
        "duration": 144,
        "start_time": "2022-04-13T09:26:09.682Z"
      },
      {
        "duration": 8,
        "start_time": "2022-04-13T09:27:22.825Z"
      },
      {
        "duration": 5073,
        "start_time": "2022-04-13T09:27:28.073Z"
      },
      {
        "duration": 5016,
        "start_time": "2022-04-13T09:27:50.833Z"
      },
      {
        "duration": 13,
        "start_time": "2022-04-13T09:28:37.760Z"
      },
      {
        "duration": 6,
        "start_time": "2022-04-13T09:29:25.537Z"
      },
      {
        "duration": 162,
        "start_time": "2022-04-13T09:31:27.158Z"
      },
      {
        "duration": 154,
        "start_time": "2022-04-13T09:32:53.684Z"
      },
      {
        "duration": 238,
        "start_time": "2022-04-13T09:33:17.118Z"
      },
      {
        "duration": 4,
        "start_time": "2022-04-13T09:33:50.935Z"
      },
      {
        "duration": 858,
        "start_time": "2022-04-13T09:37:05.426Z"
      },
      {
        "duration": 31,
        "start_time": "2022-04-13T09:37:06.287Z"
      },
      {
        "duration": 21,
        "start_time": "2022-04-13T09:37:06.320Z"
      },
      {
        "duration": 3,
        "start_time": "2022-04-13T09:37:06.343Z"
      },
      {
        "duration": 18,
        "start_time": "2022-04-13T09:37:06.348Z"
      },
      {
        "duration": 4,
        "start_time": "2022-04-13T09:37:06.368Z"
      },
      {
        "duration": 21,
        "start_time": "2022-04-13T09:37:06.373Z"
      },
      {
        "duration": 7,
        "start_time": "2022-04-13T09:37:06.396Z"
      },
      {
        "duration": 196,
        "start_time": "2022-04-13T09:37:06.405Z"
      },
      {
        "duration": 8,
        "start_time": "2022-04-13T09:37:06.605Z"
      },
      {
        "duration": 24,
        "start_time": "2022-04-13T09:37:06.615Z"
      },
      {
        "duration": 171,
        "start_time": "2022-04-13T09:37:06.640Z"
      },
      {
        "duration": 165,
        "start_time": "2022-04-13T09:37:06.813Z"
      },
      {
        "duration": 171,
        "start_time": "2022-04-13T09:37:06.980Z"
      },
      {
        "duration": 6,
        "start_time": "2022-04-13T09:37:07.153Z"
      },
      {
        "duration": 9,
        "start_time": "2022-04-13T09:37:07.161Z"
      },
      {
        "duration": 8,
        "start_time": "2022-04-13T09:37:07.172Z"
      },
      {
        "duration": 234,
        "start_time": "2022-04-13T09:37:07.181Z"
      },
      {
        "duration": 47,
        "start_time": "2022-04-13T09:37:07.417Z"
      },
      {
        "duration": 10,
        "start_time": "2022-04-13T09:37:07.466Z"
      },
      {
        "duration": 8,
        "start_time": "2022-04-13T09:37:07.478Z"
      },
      {
        "duration": 7,
        "start_time": "2022-04-13T09:37:07.488Z"
      },
      {
        "duration": 707,
        "start_time": "2022-04-13T09:37:07.496Z"
      },
      {
        "duration": 8,
        "start_time": "2022-04-13T09:37:08.205Z"
      },
      {
        "duration": 6,
        "start_time": "2022-04-13T09:37:08.215Z"
      },
      {
        "duration": 5,
        "start_time": "2022-04-13T09:37:08.223Z"
      },
      {
        "duration": 119,
        "start_time": "2022-04-13T09:37:08.233Z"
      },
      {
        "duration": 2,
        "start_time": "2022-04-13T09:37:08.356Z"
      },
      {
        "duration": 5189,
        "start_time": "2022-04-13T09:37:08.360Z"
      },
      {
        "duration": 169,
        "start_time": "2022-04-13T09:37:13.551Z"
      },
      {
        "duration": 162,
        "start_time": "2022-04-13T09:37:13.722Z"
      },
      {
        "duration": 15,
        "start_time": "2022-04-13T09:37:13.887Z"
      },
      {
        "duration": 14175,
        "start_time": "2022-04-13T09:37:13.905Z"
      },
      {
        "duration": 5,
        "start_time": "2022-04-13T09:37:28.082Z"
      },
      {
        "duration": 13,
        "start_time": "2022-04-13T09:37:28.088Z"
      },
      {
        "duration": 10,
        "start_time": "2022-04-13T09:37:28.102Z"
      },
      {
        "duration": 21,
        "start_time": "2022-04-13T09:37:28.114Z"
      },
      {
        "duration": 5,
        "start_time": "2022-04-13T09:39:38.464Z"
      },
      {
        "duration": 157,
        "start_time": "2022-04-13T09:39:51.410Z"
      },
      {
        "duration": 6,
        "start_time": "2022-04-13T09:41:32.424Z"
      },
      {
        "duration": 169,
        "start_time": "2022-04-13T09:41:38.682Z"
      },
      {
        "duration": 150,
        "start_time": "2022-04-13T09:41:55.273Z"
      },
      {
        "duration": 155,
        "start_time": "2022-04-13T09:42:17.130Z"
      },
      {
        "duration": 146,
        "start_time": "2022-04-13T09:42:18.841Z"
      },
      {
        "duration": 3,
        "start_time": "2022-04-13T09:42:20.864Z"
      },
      {
        "duration": 14033,
        "start_time": "2022-04-13T09:42:23.993Z"
      },
      {
        "duration": 157,
        "start_time": "2022-04-13T09:43:37.633Z"
      },
      {
        "duration": 148,
        "start_time": "2022-04-13T09:43:48.384Z"
      },
      {
        "duration": 694,
        "start_time": "2022-04-13T09:44:00.579Z"
      },
      {
        "duration": 32,
        "start_time": "2022-04-13T09:44:01.275Z"
      },
      {
        "duration": 29,
        "start_time": "2022-04-13T09:44:01.312Z"
      },
      {
        "duration": 9,
        "start_time": "2022-04-13T09:44:01.343Z"
      },
      {
        "duration": 25,
        "start_time": "2022-04-13T09:44:01.354Z"
      },
      {
        "duration": 5,
        "start_time": "2022-04-13T09:44:01.381Z"
      },
      {
        "duration": 12,
        "start_time": "2022-04-13T09:44:01.387Z"
      },
      {
        "duration": 7,
        "start_time": "2022-04-13T09:44:01.401Z"
      },
      {
        "duration": 202,
        "start_time": "2022-04-13T09:44:01.411Z"
      },
      {
        "duration": 7,
        "start_time": "2022-04-13T09:44:01.615Z"
      },
      {
        "duration": 27,
        "start_time": "2022-04-13T09:44:01.624Z"
      },
      {
        "duration": 191,
        "start_time": "2022-04-13T09:44:01.653Z"
      },
      {
        "duration": 172,
        "start_time": "2022-04-13T09:44:01.846Z"
      },
      {
        "duration": 176,
        "start_time": "2022-04-13T09:44:02.020Z"
      },
      {
        "duration": 6,
        "start_time": "2022-04-13T09:44:02.198Z"
      },
      {
        "duration": 16,
        "start_time": "2022-04-13T09:44:02.205Z"
      },
      {
        "duration": 11,
        "start_time": "2022-04-13T09:44:02.233Z"
      },
      {
        "duration": 267,
        "start_time": "2022-04-13T09:44:02.245Z"
      },
      {
        "duration": 37,
        "start_time": "2022-04-13T09:44:02.514Z"
      },
      {
        "duration": 11,
        "start_time": "2022-04-13T09:44:02.553Z"
      },
      {
        "duration": 23,
        "start_time": "2022-04-13T09:44:02.566Z"
      },
      {
        "duration": 10,
        "start_time": "2022-04-13T09:44:02.591Z"
      },
      {
        "duration": 734,
        "start_time": "2022-04-13T09:44:02.603Z"
      },
      {
        "duration": 8,
        "start_time": "2022-04-13T09:44:03.338Z"
      },
      {
        "duration": 8,
        "start_time": "2022-04-13T09:44:03.348Z"
      },
      {
        "duration": 5,
        "start_time": "2022-04-13T09:44:03.358Z"
      },
      {
        "duration": 45,
        "start_time": "2022-04-13T09:44:03.368Z"
      },
      {
        "duration": 3,
        "start_time": "2022-04-13T09:44:03.415Z"
      },
      {
        "duration": 5093,
        "start_time": "2022-04-13T09:44:03.435Z"
      },
      {
        "duration": 7,
        "start_time": "2022-04-13T09:44:08.534Z"
      },
      {
        "duration": 174,
        "start_time": "2022-04-13T09:44:08.543Z"
      },
      {
        "duration": 156,
        "start_time": "2022-04-13T09:44:08.719Z"
      },
      {
        "duration": 12,
        "start_time": "2022-04-13T09:44:08.877Z"
      },
      {
        "duration": 13878,
        "start_time": "2022-04-13T09:44:08.891Z"
      },
      {
        "duration": 171,
        "start_time": "2022-04-13T09:44:22.771Z"
      },
      {
        "duration": 155,
        "start_time": "2022-04-13T09:44:22.943Z"
      },
      {
        "duration": 5,
        "start_time": "2022-04-13T09:44:23.100Z"
      },
      {
        "duration": 27,
        "start_time": "2022-04-13T09:44:23.107Z"
      },
      {
        "duration": 4,
        "start_time": "2022-04-13T09:44:23.136Z"
      },
      {
        "duration": 8,
        "start_time": "2022-04-13T09:44:23.142Z"
      },
      {
        "duration": 14706,
        "start_time": "2022-04-13T09:49:16.596Z"
      },
      {
        "duration": 4894,
        "start_time": "2022-04-13T09:49:55.551Z"
      },
      {
        "duration": 735,
        "start_time": "2022-04-13T09:52:54.246Z"
      },
      {
        "duration": 32,
        "start_time": "2022-04-13T09:52:54.983Z"
      },
      {
        "duration": 21,
        "start_time": "2022-04-13T09:52:55.017Z"
      },
      {
        "duration": 3,
        "start_time": "2022-04-13T09:52:55.040Z"
      },
      {
        "duration": 17,
        "start_time": "2022-04-13T09:52:55.046Z"
      },
      {
        "duration": 4,
        "start_time": "2022-04-13T09:52:55.065Z"
      },
      {
        "duration": 9,
        "start_time": "2022-04-13T09:52:55.071Z"
      },
      {
        "duration": 7,
        "start_time": "2022-04-13T09:52:55.082Z"
      },
      {
        "duration": 170,
        "start_time": "2022-04-13T09:52:55.133Z"
      },
      {
        "duration": 7,
        "start_time": "2022-04-13T09:52:55.305Z"
      },
      {
        "duration": 23,
        "start_time": "2022-04-13T09:52:55.314Z"
      },
      {
        "duration": 166,
        "start_time": "2022-04-13T09:52:55.338Z"
      },
      {
        "duration": 156,
        "start_time": "2022-04-13T09:52:55.506Z"
      },
      {
        "duration": 163,
        "start_time": "2022-04-13T09:52:55.665Z"
      },
      {
        "duration": 6,
        "start_time": "2022-04-13T09:52:55.833Z"
      },
      {
        "duration": 8,
        "start_time": "2022-04-13T09:52:55.841Z"
      },
      {
        "duration": 9,
        "start_time": "2022-04-13T09:52:55.851Z"
      },
      {
        "duration": 249,
        "start_time": "2022-04-13T09:52:55.861Z"
      },
      {
        "duration": 44,
        "start_time": "2022-04-13T09:52:56.112Z"
      },
      {
        "duration": 9,
        "start_time": "2022-04-13T09:52:56.158Z"
      },
      {
        "duration": 5,
        "start_time": "2022-04-13T09:52:56.169Z"
      },
      {
        "duration": 5,
        "start_time": "2022-04-13T09:52:56.175Z"
      },
      {
        "duration": 696,
        "start_time": "2022-04-13T09:52:56.182Z"
      },
      {
        "duration": 7,
        "start_time": "2022-04-13T09:52:56.881Z"
      },
      {
        "duration": 6,
        "start_time": "2022-04-13T09:52:56.890Z"
      },
      {
        "duration": 4,
        "start_time": "2022-04-13T09:52:56.898Z"
      },
      {
        "duration": 135,
        "start_time": "2022-04-13T09:52:56.904Z"
      },
      {
        "duration": 3,
        "start_time": "2022-04-13T09:52:57.041Z"
      },
      {
        "duration": 4929,
        "start_time": "2022-04-13T09:52:57.046Z"
      },
      {
        "duration": 6,
        "start_time": "2022-04-13T09:53:01.977Z"
      },
      {
        "duration": 201,
        "start_time": "2022-04-13T09:53:01.985Z"
      },
      {
        "duration": 156,
        "start_time": "2022-04-13T09:53:02.188Z"
      },
      {
        "duration": 12,
        "start_time": "2022-04-13T09:53:02.346Z"
      },
      {
        "duration": 14131,
        "start_time": "2022-04-13T09:53:02.360Z"
      },
      {
        "duration": 171,
        "start_time": "2022-04-13T09:53:16.492Z"
      },
      {
        "duration": 151,
        "start_time": "2022-04-13T09:53:16.665Z"
      },
      {
        "duration": 158479,
        "start_time": "2022-04-13T09:53:16.818Z"
      },
      {
        "duration": 5,
        "start_time": "2022-04-13T09:55:55.298Z"
      },
      {
        "duration": 10,
        "start_time": "2022-04-13T09:55:55.305Z"
      },
      {
        "duration": 23,
        "start_time": "2022-04-13T09:55:55.316Z"
      },
      {
        "duration": 4,
        "start_time": "2022-04-13T09:55:55.343Z"
      },
      {
        "duration": 11,
        "start_time": "2022-04-13T10:08:53.773Z"
      },
      {
        "duration": 5,
        "start_time": "2022-04-13T10:11:40.975Z"
      },
      {
        "duration": 5,
        "start_time": "2022-04-13T10:11:50.465Z"
      },
      {
        "duration": 5,
        "start_time": "2022-04-13T10:11:55.769Z"
      },
      {
        "duration": 13,
        "start_time": "2022-04-13T10:12:01.940Z"
      },
      {
        "duration": 2933,
        "start_time": "2022-04-13T10:12:03.850Z"
      },
      {
        "duration": 3070,
        "start_time": "2022-04-13T10:16:30.295Z"
      },
      {
        "duration": 2946,
        "start_time": "2022-04-13T10:16:48.574Z"
      },
      {
        "duration": 750,
        "start_time": "2022-04-13T10:37:53.546Z"
      },
      {
        "duration": 30,
        "start_time": "2022-04-13T10:37:54.298Z"
      },
      {
        "duration": 17,
        "start_time": "2022-04-13T10:37:54.330Z"
      },
      {
        "duration": 7,
        "start_time": "2022-04-13T10:37:54.349Z"
      },
      {
        "duration": 18,
        "start_time": "2022-04-13T10:37:54.358Z"
      },
      {
        "duration": 3,
        "start_time": "2022-04-13T10:37:54.378Z"
      },
      {
        "duration": 13,
        "start_time": "2022-04-13T10:37:54.383Z"
      },
      {
        "duration": 7,
        "start_time": "2022-04-13T10:37:54.398Z"
      },
      {
        "duration": 174,
        "start_time": "2022-04-13T10:37:54.407Z"
      },
      {
        "duration": 7,
        "start_time": "2022-04-13T10:37:54.583Z"
      },
      {
        "duration": 15,
        "start_time": "2022-04-13T10:37:54.592Z"
      },
      {
        "duration": 175,
        "start_time": "2022-04-13T10:37:54.609Z"
      },
      {
        "duration": 160,
        "start_time": "2022-04-13T10:37:54.786Z"
      },
      {
        "duration": 172,
        "start_time": "2022-04-13T10:37:54.949Z"
      },
      {
        "duration": 15,
        "start_time": "2022-04-13T10:37:55.123Z"
      },
      {
        "duration": 8,
        "start_time": "2022-04-13T10:37:55.140Z"
      },
      {
        "duration": 11,
        "start_time": "2022-04-13T10:37:55.150Z"
      },
      {
        "duration": 220,
        "start_time": "2022-04-13T10:37:55.163Z"
      },
      {
        "duration": 34,
        "start_time": "2022-04-13T10:37:55.385Z"
      },
      {
        "duration": 20,
        "start_time": "2022-04-13T10:37:55.421Z"
      },
      {
        "duration": 6,
        "start_time": "2022-04-13T10:37:55.443Z"
      },
      {
        "duration": 8,
        "start_time": "2022-04-13T10:37:55.451Z"
      },
      {
        "duration": 732,
        "start_time": "2022-04-13T10:37:55.462Z"
      },
      {
        "duration": 8,
        "start_time": "2022-04-13T10:37:56.196Z"
      },
      {
        "duration": 6,
        "start_time": "2022-04-13T10:37:56.205Z"
      },
      {
        "duration": 6,
        "start_time": "2022-04-13T10:37:56.213Z"
      },
      {
        "duration": 129,
        "start_time": "2022-04-13T10:37:56.221Z"
      },
      {
        "duration": 2,
        "start_time": "2022-04-13T10:37:56.352Z"
      },
      {
        "duration": 12,
        "start_time": "2022-04-13T10:37:56.356Z"
      },
      {
        "duration": 2815,
        "start_time": "2022-04-13T10:37:56.370Z"
      },
      {
        "duration": 6,
        "start_time": "2022-04-13T10:37:59.186Z"
      },
      {
        "duration": 165,
        "start_time": "2022-04-13T10:37:59.194Z"
      },
      {
        "duration": 149,
        "start_time": "2022-04-13T10:37:59.360Z"
      },
      {
        "duration": 11,
        "start_time": "2022-04-13T10:37:59.511Z"
      },
      {
        "duration": 13916,
        "start_time": "2022-04-13T10:37:59.533Z"
      },
      {
        "duration": 164,
        "start_time": "2022-04-13T10:38:13.451Z"
      },
      {
        "duration": 156,
        "start_time": "2022-04-13T10:38:13.617Z"
      },
      {
        "duration": 150988,
        "start_time": "2022-04-13T10:38:13.775Z"
      },
      {
        "duration": 6,
        "start_time": "2022-04-13T10:40:44.764Z"
      },
      {
        "duration": 25,
        "start_time": "2022-04-13T10:40:44.772Z"
      },
      {
        "duration": 22,
        "start_time": "2022-04-13T10:40:44.802Z"
      },
      {
        "duration": 36,
        "start_time": "2022-04-13T10:40:44.826Z"
      },
      {
        "duration": 160,
        "start_time": "2022-04-13T10:53:09.014Z"
      },
      {
        "duration": 10,
        "start_time": "2022-04-13T10:53:23.797Z"
      },
      {
        "duration": 13787,
        "start_time": "2022-04-13T10:54:14.657Z"
      },
      {
        "duration": 27199,
        "start_time": "2022-04-13T10:56:33.490Z"
      },
      {
        "duration": 26457,
        "start_time": "2022-04-13T10:57:39.650Z"
      },
      {
        "duration": 25981,
        "start_time": "2022-04-13T10:58:37.474Z"
      },
      {
        "duration": 13216,
        "start_time": "2022-04-13T10:59:29.250Z"
      },
      {
        "duration": 9,
        "start_time": "2022-04-13T11:01:04.905Z"
      },
      {
        "duration": 13878,
        "start_time": "2022-04-13T11:12:19.426Z"
      },
      {
        "duration": 5,
        "start_time": "2022-04-13T11:16:52.449Z"
      },
      {
        "duration": 9,
        "start_time": "2022-04-13T11:17:56.592Z"
      },
      {
        "duration": 22,
        "start_time": "2022-04-13T11:18:10.791Z"
      },
      {
        "duration": 3,
        "start_time": "2022-04-13T11:18:19.106Z"
      },
      {
        "duration": 11,
        "start_time": "2022-04-13T11:18:30.600Z"
      },
      {
        "duration": 9,
        "start_time": "2022-04-13T11:22:04.329Z"
      },
      {
        "duration": 12,
        "start_time": "2022-04-13T11:25:16.443Z"
      },
      {
        "duration": 12,
        "start_time": "2022-04-13T11:25:49.774Z"
      },
      {
        "duration": 7736,
        "start_time": "2022-04-13T11:26:23.052Z"
      },
      {
        "duration": 14029,
        "start_time": "2022-04-13T11:26:50.074Z"
      },
      {
        "duration": 10,
        "start_time": "2022-04-13T11:27:25.499Z"
      },
      {
        "duration": 6436,
        "start_time": "2022-04-13T11:27:26.739Z"
      },
      {
        "duration": 11,
        "start_time": "2022-04-13T11:27:50.379Z"
      },
      {
        "duration": 9967,
        "start_time": "2022-04-13T11:27:51.219Z"
      },
      {
        "duration": 14406,
        "start_time": "2022-04-13T11:29:35.321Z"
      },
      {
        "duration": 134,
        "start_time": "2022-04-13T11:32:34.546Z"
      },
      {
        "duration": 6,
        "start_time": "2022-04-13T11:32:57.665Z"
      },
      {
        "duration": 143,
        "start_time": "2022-04-13T11:33:13.249Z"
      },
      {
        "duration": 140,
        "start_time": "2022-04-13T11:33:18.305Z"
      },
      {
        "duration": 195,
        "start_time": "2022-04-13T11:33:42.280Z"
      },
      {
        "duration": 194,
        "start_time": "2022-04-13T11:33:53.048Z"
      },
      {
        "duration": 333,
        "start_time": "2022-04-13T11:33:55.656Z"
      },
      {
        "duration": 192,
        "start_time": "2022-04-13T11:34:03.520Z"
      },
      {
        "duration": 10,
        "start_time": "2022-04-13T11:35:31.299Z"
      },
      {
        "duration": 3004,
        "start_time": "2022-04-13T11:35:35.600Z"
      },
      {
        "duration": 6,
        "start_time": "2022-04-13T11:36:27.984Z"
      },
      {
        "duration": 163,
        "start_time": "2022-04-13T11:36:34.703Z"
      },
      {
        "duration": 144,
        "start_time": "2022-04-13T11:36:37.737Z"
      },
      {
        "duration": 153,
        "start_time": "2022-04-13T11:36:52.061Z"
      },
      {
        "duration": 141,
        "start_time": "2022-04-13T11:36:54.271Z"
      },
      {
        "duration": 327,
        "start_time": "2022-04-13T11:38:43.942Z"
      },
      {
        "duration": 12,
        "start_time": "2022-04-13T11:43:49.053Z"
      },
      {
        "duration": 26,
        "start_time": "2022-04-13T11:44:36.836Z"
      },
      {
        "duration": 4,
        "start_time": "2022-04-13T11:44:48.235Z"
      },
      {
        "duration": 543,
        "start_time": "2022-04-13T11:44:54.235Z"
      },
      {
        "duration": 13,
        "start_time": "2022-04-13T11:45:06.291Z"
      },
      {
        "duration": 490,
        "start_time": "2022-04-13T11:45:08.315Z"
      },
      {
        "duration": 787,
        "start_time": "2022-04-13T11:46:00.476Z"
      },
      {
        "duration": 6,
        "start_time": "2022-04-13T11:47:41.641Z"
      },
      {
        "duration": 8,
        "start_time": "2022-04-13T11:48:17.802Z"
      },
      {
        "duration": 14,
        "start_time": "2022-04-13T11:49:48.952Z"
      },
      {
        "duration": 6,
        "start_time": "2022-04-13T11:49:55.360Z"
      },
      {
        "duration": 4,
        "start_time": "2022-04-13T11:49:59.359Z"
      },
      {
        "duration": 16,
        "start_time": "2022-04-13T11:52:05.031Z"
      },
      {
        "duration": 652,
        "start_time": "2022-04-13T11:52:37.648Z"
      },
      {
        "duration": 667,
        "start_time": "2022-04-13T11:53:15.239Z"
      },
      {
        "duration": 788,
        "start_time": "2022-04-13T11:55:37.201Z"
      },
      {
        "duration": 11,
        "start_time": "2022-04-13T12:00:00.547Z"
      },
      {
        "duration": 793,
        "start_time": "2022-04-13T12:00:16.834Z"
      },
      {
        "duration": 153,
        "start_time": "2022-04-13T12:04:43.858Z"
      },
      {
        "duration": 13,
        "start_time": "2022-04-13T12:06:34.867Z"
      },
      {
        "duration": 14267,
        "start_time": "2022-04-13T12:06:51.423Z"
      },
      {
        "duration": 6,
        "start_time": "2022-04-13T12:11:55.933Z"
      },
      {
        "duration": 3286,
        "start_time": "2022-04-13T12:13:51.022Z"
      },
      {
        "duration": 11,
        "start_time": "2022-04-13T12:14:31.886Z"
      },
      {
        "duration": 14454,
        "start_time": "2022-04-13T12:15:15.962Z"
      },
      {
        "duration": 315,
        "start_time": "2022-04-13T12:16:20.331Z"
      },
      {
        "duration": 7,
        "start_time": "2022-04-13T12:17:25.564Z"
      },
      {
        "duration": 171,
        "start_time": "2022-04-13T12:18:44.011Z"
      },
      {
        "duration": 3083,
        "start_time": "2022-04-13T12:19:02.545Z"
      },
      {
        "duration": 4,
        "start_time": "2022-04-13T12:19:07.586Z"
      },
      {
        "duration": 178,
        "start_time": "2022-04-13T12:19:11.306Z"
      },
      {
        "duration": 238,
        "start_time": "2022-04-13T12:19:46.235Z"
      },
      {
        "duration": 219,
        "start_time": "2022-04-13T12:20:01.321Z"
      },
      {
        "duration": 307,
        "start_time": "2022-04-13T12:20:53.761Z"
      },
      {
        "duration": 12,
        "start_time": "2022-04-13T12:23:32.771Z"
      },
      {
        "duration": 18,
        "start_time": "2022-04-13T12:24:56.175Z"
      },
      {
        "duration": 2117,
        "start_time": "2022-04-13T12:25:43.566Z"
      },
      {
        "duration": 13758,
        "start_time": "2022-04-13T12:25:58.317Z"
      },
      {
        "duration": 13958,
        "start_time": "2022-04-13T12:26:20.735Z"
      },
      {
        "duration": 14,
        "start_time": "2022-04-13T12:26:45.030Z"
      },
      {
        "duration": 193,
        "start_time": "2022-04-13T12:26:52.262Z"
      },
      {
        "duration": 203,
        "start_time": "2022-04-13T12:27:15.166Z"
      },
      {
        "duration": 198,
        "start_time": "2022-04-13T12:27:18.590Z"
      },
      {
        "duration": 292,
        "start_time": "2022-04-13T12:27:29.709Z"
      },
      {
        "duration": 9,
        "start_time": "2022-04-13T12:27:37.187Z"
      },
      {
        "duration": 291,
        "start_time": "2022-04-13T12:28:49.782Z"
      },
      {
        "duration": 8,
        "start_time": "2022-04-13T12:28:56.534Z"
      },
      {
        "duration": 9658,
        "start_time": "2022-04-13T12:29:40.684Z"
      },
      {
        "duration": 13640,
        "start_time": "2022-04-13T12:34:07.441Z"
      },
      {
        "duration": 153087,
        "start_time": "2022-04-13T12:36:57.057Z"
      },
      {
        "duration": 11,
        "start_time": "2022-04-13T12:43:27.781Z"
      },
      {
        "duration": 12,
        "start_time": "2022-04-13T12:43:54.803Z"
      },
      {
        "duration": 676,
        "start_time": "2022-04-13T12:44:05.235Z"
      },
      {
        "duration": 767,
        "start_time": "2022-04-13T12:44:46.285Z"
      },
      {
        "duration": 5,
        "start_time": "2022-04-13T13:00:56.761Z"
      },
      {
        "duration": 147,
        "start_time": "2022-04-13T13:00:57.683Z"
      },
      {
        "duration": 8,
        "start_time": "2022-04-13T13:03:14.449Z"
      },
      {
        "duration": 8,
        "start_time": "2022-04-13T13:07:12.192Z"
      },
      {
        "duration": 37,
        "start_time": "2022-04-13T13:07:15.721Z"
      },
      {
        "duration": 14,
        "start_time": "2022-04-13T13:07:17.389Z"
      },
      {
        "duration": 4,
        "start_time": "2022-04-13T13:07:18.953Z"
      },
      {
        "duration": 14,
        "start_time": "2022-04-13T13:07:20.607Z"
      },
      {
        "duration": 7,
        "start_time": "2022-04-13T13:07:23.311Z"
      },
      {
        "duration": 5,
        "start_time": "2022-04-13T13:07:36.345Z"
      },
      {
        "duration": 6,
        "start_time": "2022-04-13T13:07:39.767Z"
      },
      {
        "duration": 156,
        "start_time": "2022-04-13T13:07:52.615Z"
      },
      {
        "duration": 7,
        "start_time": "2022-04-13T13:07:55.774Z"
      },
      {
        "duration": 7,
        "start_time": "2022-04-13T13:07:57.575Z"
      },
      {
        "duration": 159,
        "start_time": "2022-04-13T13:08:01.032Z"
      },
      {
        "duration": 153,
        "start_time": "2022-04-13T13:08:03.727Z"
      },
      {
        "duration": 11,
        "start_time": "2022-04-13T13:18:28.192Z"
      },
      {
        "duration": 4,
        "start_time": "2022-04-13T13:18:29.491Z"
      },
      {
        "duration": 133,
        "start_time": "2022-04-13T13:21:04.954Z"
      },
      {
        "duration": 5,
        "start_time": "2022-04-13T13:22:09.817Z"
      },
      {
        "duration": 5,
        "start_time": "2022-04-13T13:23:18.552Z"
      },
      {
        "duration": 3030,
        "start_time": "2022-04-13T14:05:14.137Z"
      },
      {
        "duration": 354,
        "start_time": "2022-04-13T20:45:40.940Z"
      },
      {
        "duration": 11,
        "start_time": "2022-04-13T20:49:22.725Z"
      },
      {
        "duration": 10,
        "start_time": "2022-04-13T20:49:26.396Z"
      },
      {
        "duration": 377,
        "start_time": "2022-04-13T20:49:28.212Z"
      },
      {
        "duration": 1547,
        "start_time": "2022-04-14T08:57:46.317Z"
      },
      {
        "duration": 54,
        "start_time": "2022-04-14T08:57:47.884Z"
      },
      {
        "duration": 17,
        "start_time": "2022-04-14T08:57:47.940Z"
      },
      {
        "duration": 3,
        "start_time": "2022-04-14T08:57:47.959Z"
      },
      {
        "duration": 14,
        "start_time": "2022-04-14T08:57:47.963Z"
      },
      {
        "duration": 3,
        "start_time": "2022-04-14T08:57:47.979Z"
      },
      {
        "duration": 7,
        "start_time": "2022-04-14T08:57:47.984Z"
      },
      {
        "duration": 4,
        "start_time": "2022-04-14T08:57:48.024Z"
      },
      {
        "duration": 144,
        "start_time": "2022-04-14T08:57:48.029Z"
      },
      {
        "duration": 7,
        "start_time": "2022-04-14T08:57:48.176Z"
      },
      {
        "duration": 17,
        "start_time": "2022-04-14T08:57:48.185Z"
      },
      {
        "duration": 139,
        "start_time": "2022-04-14T08:57:48.204Z"
      },
      {
        "duration": 282,
        "start_time": "2022-04-14T08:57:48.345Z"
      },
      {
        "duration": 130,
        "start_time": "2022-04-14T08:57:48.629Z"
      },
      {
        "duration": 6,
        "start_time": "2022-04-14T08:57:48.761Z"
      },
      {
        "duration": 13,
        "start_time": "2022-04-14T08:57:48.768Z"
      },
      {
        "duration": 7,
        "start_time": "2022-04-14T08:57:48.783Z"
      },
      {
        "duration": 251,
        "start_time": "2022-04-14T08:57:48.792Z"
      },
      {
        "duration": 40,
        "start_time": "2022-04-14T08:57:49.045Z"
      },
      {
        "duration": 11,
        "start_time": "2022-04-14T08:57:49.087Z"
      },
      {
        "duration": 25,
        "start_time": "2022-04-14T08:57:49.100Z"
      },
      {
        "duration": 7,
        "start_time": "2022-04-14T08:57:49.127Z"
      },
      {
        "duration": 19,
        "start_time": "2022-04-14T08:57:49.136Z"
      },
      {
        "duration": 5,
        "start_time": "2022-04-14T08:57:49.157Z"
      },
      {
        "duration": 102,
        "start_time": "2022-04-14T08:57:49.164Z"
      },
      {
        "duration": 12,
        "start_time": "2022-04-14T08:57:49.268Z"
      },
      {
        "duration": 16,
        "start_time": "2022-04-14T08:57:49.282Z"
      },
      {
        "duration": 3660,
        "start_time": "2022-04-14T08:57:49.303Z"
      },
      {
        "duration": 12,
        "start_time": "2022-04-14T08:57:52.965Z"
      },
      {
        "duration": 275,
        "start_time": "2022-04-14T08:57:52.979Z"
      },
      {
        "duration": 336,
        "start_time": "2022-04-14T08:57:53.256Z"
      },
      {
        "duration": 14,
        "start_time": "2022-04-14T08:57:53.595Z"
      },
      {
        "duration": 15216,
        "start_time": "2022-04-14T08:57:53.611Z"
      },
      {
        "duration": 14,
        "start_time": "2022-04-14T08:58:08.829Z"
      },
      {
        "duration": 233,
        "start_time": "2022-04-14T08:58:08.845Z"
      },
      {
        "duration": 347,
        "start_time": "2022-04-14T08:58:09.080Z"
      },
      {
        "duration": 124815,
        "start_time": "2022-04-14T08:58:09.429Z"
      },
      {
        "duration": 8,
        "start_time": "2022-04-14T09:00:14.246Z"
      },
      {
        "duration": 655,
        "start_time": "2022-04-14T09:00:14.256Z"
      },
      {
        "duration": 17,
        "start_time": "2022-04-14T09:00:14.912Z"
      },
      {
        "duration": 628,
        "start_time": "2022-04-14T09:00:14.933Z"
      },
      {
        "duration": 4,
        "start_time": "2022-04-14T09:00:15.563Z"
      },
      {
        "duration": 13,
        "start_time": "2022-04-14T09:00:15.569Z"
      },
      {
        "duration": 521,
        "start_time": "2022-04-14T09:00:15.584Z"
      },
      {
        "duration": 20,
        "start_time": "2022-04-14T09:00:16.107Z"
      },
      {
        "duration": 407,
        "start_time": "2022-04-14T09:00:16.128Z"
      },
      {
        "duration": 11834,
        "start_time": "2022-04-14T09:06:42.383Z"
      },
      {
        "duration": 219,
        "start_time": "2022-04-14T09:09:49.269Z"
      },
      {
        "duration": 347,
        "start_time": "2022-04-14T09:09:52.310Z"
      },
      {
        "duration": 739,
        "start_time": "2022-04-14T09:19:39.906Z"
      },
      {
        "duration": 393,
        "start_time": "2022-04-14T09:20:29.322Z"
      },
      {
        "duration": 300,
        "start_time": "2022-04-14T09:21:00.441Z"
      },
      {
        "duration": 233,
        "start_time": "2022-04-14T09:21:06.248Z"
      },
      {
        "duration": 427,
        "start_time": "2022-04-14T09:29:29.598Z"
      },
      {
        "duration": 418,
        "start_time": "2022-04-14T09:29:53.229Z"
      },
      {
        "duration": 221,
        "start_time": "2022-04-14T09:30:01.948Z"
      },
      {
        "duration": 9,
        "start_time": "2022-04-14T09:30:09.414Z"
      },
      {
        "duration": 360,
        "start_time": "2022-04-14T09:30:11.388Z"
      },
      {
        "duration": 3635,
        "start_time": "2022-04-14T09:43:39.951Z"
      },
      {
        "duration": 2361,
        "start_time": "2022-04-14T09:44:38.397Z"
      },
      {
        "duration": 5,
        "start_time": "2022-04-14T09:49:13.325Z"
      },
      {
        "duration": 168475,
        "start_time": "2022-04-14T09:50:57.803Z"
      },
      {
        "duration": 419,
        "start_time": "2022-04-14T09:53:46.280Z"
      },
      {
        "duration": 135906,
        "start_time": "2022-04-14T09:57:42.968Z"
      },
      {
        "duration": 271,
        "start_time": "2022-04-14T09:59:58.876Z"
      },
      {
        "duration": 355,
        "start_time": "2022-04-14T10:00:17.255Z"
      },
      {
        "duration": 372,
        "start_time": "2022-04-14T10:02:50.462Z"
      },
      {
        "duration": 6,
        "start_time": "2022-04-14T10:08:22.276Z"
      },
      {
        "duration": 17,
        "start_time": "2022-04-14T10:10:05.218Z"
      },
      {
        "duration": 10,
        "start_time": "2022-04-14T10:11:02.332Z"
      },
      {
        "duration": 2850,
        "start_time": "2022-04-14T10:12:53.961Z"
      },
      {
        "duration": 2097,
        "start_time": "2022-04-14T10:17:50.694Z"
      },
      {
        "duration": 128,
        "start_time": "2022-04-14T10:20:01.567Z"
      },
      {
        "duration": 6569,
        "start_time": "2022-04-14T10:20:16.024Z"
      },
      {
        "duration": 19,
        "start_time": "2022-04-14T10:28:49.724Z"
      },
      {
        "duration": 12,
        "start_time": "2022-04-14T10:29:43.777Z"
      },
      {
        "duration": 406,
        "start_time": "2022-04-14T10:29:45.884Z"
      },
      {
        "duration": 342,
        "start_time": "2022-04-14T10:31:24.835Z"
      },
      {
        "duration": 7738,
        "start_time": "2022-04-14T10:32:59.684Z"
      },
      {
        "duration": 16,
        "start_time": "2022-04-14T10:33:19.054Z"
      },
      {
        "duration": 415,
        "start_time": "2022-04-14T10:33:29.858Z"
      },
      {
        "duration": 2689,
        "start_time": "2022-04-14T10:33:40.748Z"
      },
      {
        "duration": 1876,
        "start_time": "2022-04-14T10:35:40.791Z"
      },
      {
        "duration": 42,
        "start_time": "2022-04-14T10:35:42.670Z"
      },
      {
        "duration": 42,
        "start_time": "2022-04-14T10:35:42.715Z"
      },
      {
        "duration": 20,
        "start_time": "2022-04-14T10:35:42.759Z"
      },
      {
        "duration": 21,
        "start_time": "2022-04-14T10:35:42.781Z"
      },
      {
        "duration": 4,
        "start_time": "2022-04-14T10:35:42.804Z"
      },
      {
        "duration": 10,
        "start_time": "2022-04-14T10:35:42.810Z"
      },
      {
        "duration": 5,
        "start_time": "2022-04-14T10:35:42.822Z"
      },
      {
        "duration": 231,
        "start_time": "2022-04-14T10:35:42.829Z"
      },
      {
        "duration": 7,
        "start_time": "2022-04-14T10:35:43.063Z"
      },
      {
        "duration": 10,
        "start_time": "2022-04-14T10:35:43.072Z"
      },
      {
        "duration": 222,
        "start_time": "2022-04-14T10:35:43.084Z"
      },
      {
        "duration": 173,
        "start_time": "2022-04-14T10:35:43.308Z"
      },
      {
        "duration": 152,
        "start_time": "2022-04-14T10:35:43.483Z"
      },
      {
        "duration": 7,
        "start_time": "2022-04-14T10:35:43.637Z"
      },
      {
        "duration": 33,
        "start_time": "2022-04-14T10:35:43.645Z"
      },
      {
        "duration": 9,
        "start_time": "2022-04-14T10:35:43.680Z"
      },
      {
        "duration": 196,
        "start_time": "2022-04-14T10:35:43.690Z"
      },
      {
        "duration": 41,
        "start_time": "2022-04-14T10:35:43.888Z"
      },
      {
        "duration": 15,
        "start_time": "2022-04-14T10:35:43.931Z"
      },
      {
        "duration": 27,
        "start_time": "2022-04-14T10:35:43.948Z"
      },
      {
        "duration": 7,
        "start_time": "2022-04-14T10:35:43.976Z"
      },
      {
        "duration": 10,
        "start_time": "2022-04-14T10:35:43.984Z"
      },
      {
        "duration": 4,
        "start_time": "2022-04-14T10:35:43.996Z"
      },
      {
        "duration": 112,
        "start_time": "2022-04-14T10:35:44.002Z"
      },
      {
        "duration": 15,
        "start_time": "2022-04-14T10:35:44.116Z"
      },
      {
        "duration": 44,
        "start_time": "2022-04-14T10:35:44.135Z"
      },
      {
        "duration": 3250,
        "start_time": "2022-04-14T10:35:44.184Z"
      },
      {
        "duration": 7,
        "start_time": "2022-04-14T10:35:47.438Z"
      },
      {
        "duration": 246,
        "start_time": "2022-04-14T10:35:47.447Z"
      },
      {
        "duration": 324,
        "start_time": "2022-04-14T10:35:47.695Z"
      },
      {
        "duration": 19,
        "start_time": "2022-04-14T10:35:48.021Z"
      },
      {
        "duration": 14762,
        "start_time": "2022-04-14T10:35:48.041Z"
      },
      {
        "duration": 5,
        "start_time": "2022-04-14T10:36:02.805Z"
      },
      {
        "duration": 201,
        "start_time": "2022-04-14T10:36:02.811Z"
      },
      {
        "duration": 424,
        "start_time": "2022-04-14T10:36:03.014Z"
      },
      {
        "duration": 153286,
        "start_time": "2022-04-14T10:36:03.440Z"
      },
      {
        "duration": 10,
        "start_time": "2022-04-14T10:38:36.727Z"
      },
      {
        "duration": 383,
        "start_time": "2022-04-14T10:38:36.740Z"
      },
      {
        "duration": 343,
        "start_time": "2022-04-14T10:38:37.124Z"
      },
      {
        "duration": 11,
        "start_time": "2022-04-14T10:38:37.469Z"
      },
      {
        "duration": 313,
        "start_time": "2022-04-14T10:38:37.482Z"
      },
      {
        "duration": 3424,
        "start_time": "2022-04-14T10:38:37.796Z"
      },
      {
        "duration": 138654,
        "start_time": "2022-04-14T10:38:41.224Z"
      },
      {
        "duration": 285,
        "start_time": "2022-04-14T10:40:59.880Z"
      },
      {
        "duration": 4,
        "start_time": "2022-04-14T10:41:00.168Z"
      },
      {
        "duration": 9,
        "start_time": "2022-04-14T10:41:00.173Z"
      },
      {
        "duration": 21,
        "start_time": "2022-04-14T10:41:00.184Z"
      },
      {
        "duration": 2186,
        "start_time": "2022-04-14T10:41:00.207Z"
      },
      {
        "duration": 6782,
        "start_time": "2022-04-14T10:41:02.394Z"
      },
      {
        "duration": 9,
        "start_time": "2022-04-14T10:41:09.177Z"
      },
      {
        "duration": 333,
        "start_time": "2022-04-14T10:41:09.188Z"
      },
      {
        "duration": 483,
        "start_time": "2022-04-14T10:59:15.083Z"
      },
      {
        "duration": 482,
        "start_time": "2022-04-14T10:59:35.467Z"
      },
      {
        "duration": 410,
        "start_time": "2022-04-14T11:00:06.115Z"
      },
      {
        "duration": 854,
        "start_time": "2022-04-14T11:00:50.835Z"
      },
      {
        "duration": 1115,
        "start_time": "2022-04-14T11:02:27.802Z"
      },
      {
        "duration": 1103,
        "start_time": "2022-04-14T11:02:45.066Z"
      },
      {
        "duration": 1082,
        "start_time": "2022-04-14T11:03:06.562Z"
      },
      {
        "duration": 789,
        "start_time": "2022-04-14T11:03:22.393Z"
      },
      {
        "duration": 303,
        "start_time": "2022-04-14T11:07:57.782Z"
      },
      {
        "duration": 1763,
        "start_time": "2022-04-14T11:30:10.422Z"
      },
      {
        "duration": 30,
        "start_time": "2022-04-14T11:30:12.188Z"
      },
      {
        "duration": 34,
        "start_time": "2022-04-14T11:30:12.220Z"
      },
      {
        "duration": 4,
        "start_time": "2022-04-14T11:30:12.257Z"
      },
      {
        "duration": 26,
        "start_time": "2022-04-14T11:30:12.262Z"
      },
      {
        "duration": 7,
        "start_time": "2022-04-14T11:30:12.290Z"
      },
      {
        "duration": 10,
        "start_time": "2022-04-14T11:30:12.299Z"
      },
      {
        "duration": 10,
        "start_time": "2022-04-14T11:30:12.311Z"
      },
      {
        "duration": 263,
        "start_time": "2022-04-14T11:30:12.322Z"
      },
      {
        "duration": 11,
        "start_time": "2022-04-14T11:30:12.588Z"
      },
      {
        "duration": 17,
        "start_time": "2022-04-14T11:30:12.601Z"
      },
      {
        "duration": 214,
        "start_time": "2022-04-14T11:30:12.620Z"
      },
      {
        "duration": 162,
        "start_time": "2022-04-14T11:30:12.837Z"
      },
      {
        "duration": 173,
        "start_time": "2022-04-14T11:30:13.001Z"
      },
      {
        "duration": 8,
        "start_time": "2022-04-14T11:30:13.176Z"
      },
      {
        "duration": 7,
        "start_time": "2022-04-14T11:30:13.186Z"
      },
      {
        "duration": 9,
        "start_time": "2022-04-14T11:30:13.195Z"
      },
      {
        "duration": 273,
        "start_time": "2022-04-14T11:30:13.206Z"
      },
      {
        "duration": 51,
        "start_time": "2022-04-14T11:30:13.481Z"
      },
      {
        "duration": 13,
        "start_time": "2022-04-14T11:30:13.534Z"
      },
      {
        "duration": 11,
        "start_time": "2022-04-14T11:30:13.549Z"
      },
      {
        "duration": 6,
        "start_time": "2022-04-14T11:30:13.562Z"
      },
      {
        "duration": 9,
        "start_time": "2022-04-14T11:30:13.569Z"
      },
      {
        "duration": 5,
        "start_time": "2022-04-14T11:30:13.580Z"
      },
      {
        "duration": 128,
        "start_time": "2022-04-14T11:30:13.587Z"
      },
      {
        "duration": 10,
        "start_time": "2022-04-14T11:30:13.717Z"
      },
      {
        "duration": 32,
        "start_time": "2022-04-14T11:30:13.729Z"
      },
      {
        "duration": 3200,
        "start_time": "2022-04-14T11:30:13.766Z"
      },
      {
        "duration": 4,
        "start_time": "2022-04-14T11:30:16.969Z"
      },
      {
        "duration": 277,
        "start_time": "2022-04-14T11:30:16.975Z"
      },
      {
        "duration": 378,
        "start_time": "2022-04-14T11:30:17.254Z"
      },
      {
        "duration": 16,
        "start_time": "2022-04-14T11:30:17.636Z"
      },
      {
        "duration": 15161,
        "start_time": "2022-04-14T11:30:17.653Z"
      },
      {
        "duration": 8,
        "start_time": "2022-04-14T11:30:32.816Z"
      },
      {
        "duration": 217,
        "start_time": "2022-04-14T11:30:32.845Z"
      },
      {
        "duration": 270,
        "start_time": "2022-04-14T11:30:33.064Z"
      },
      {
        "duration": 154366,
        "start_time": "2022-04-14T11:30:33.336Z"
      },
      {
        "duration": 8,
        "start_time": "2022-04-14T11:33:07.703Z"
      },
      {
        "duration": 390,
        "start_time": "2022-04-14T11:33:07.712Z"
      },
      {
        "duration": 316,
        "start_time": "2022-04-14T11:33:08.104Z"
      },
      {
        "duration": 13,
        "start_time": "2022-04-14T11:33:08.422Z"
      },
      {
        "duration": 372,
        "start_time": "2022-04-14T11:33:08.436Z"
      },
      {
        "duration": 3092,
        "start_time": "2022-04-14T11:33:08.810Z"
      },
      {
        "duration": 134183,
        "start_time": "2022-04-14T11:33:11.904Z"
      },
      {
        "duration": 292,
        "start_time": "2022-04-14T11:35:26.089Z"
      },
      {
        "duration": 4,
        "start_time": "2022-04-14T11:35:26.383Z"
      },
      {
        "duration": 9,
        "start_time": "2022-04-14T11:35:26.388Z"
      },
      {
        "duration": 15,
        "start_time": "2022-04-14T11:35:26.399Z"
      },
      {
        "duration": 2030,
        "start_time": "2022-04-14T11:35:26.424Z"
      },
      {
        "duration": 8890,
        "start_time": "2022-04-14T11:35:28.456Z"
      },
      {
        "duration": 9,
        "start_time": "2022-04-14T11:35:37.349Z"
      },
      {
        "duration": 278,
        "start_time": "2022-04-14T11:35:37.359Z"
      },
      {
        "duration": 844,
        "start_time": "2022-04-14T11:35:37.638Z"
      },
      {
        "duration": 254,
        "start_time": "2022-04-14T11:35:38.484Z"
      },
      {
        "duration": 880,
        "start_time": "2022-04-14T11:37:45.643Z"
      },
      {
        "duration": 1445,
        "start_time": "2022-04-14T11:38:28.967Z"
      },
      {
        "duration": 37,
        "start_time": "2022-04-14T11:38:30.414Z"
      },
      {
        "duration": 17,
        "start_time": "2022-04-14T11:38:30.456Z"
      },
      {
        "duration": 3,
        "start_time": "2022-04-14T11:38:30.475Z"
      },
      {
        "duration": 35,
        "start_time": "2022-04-14T11:38:30.479Z"
      },
      {
        "duration": 14,
        "start_time": "2022-04-14T11:38:30.515Z"
      },
      {
        "duration": 20,
        "start_time": "2022-04-14T11:38:30.531Z"
      },
      {
        "duration": 30,
        "start_time": "2022-04-14T11:38:30.553Z"
      },
      {
        "duration": 213,
        "start_time": "2022-04-14T11:38:30.587Z"
      },
      {
        "duration": 9,
        "start_time": "2022-04-14T11:38:30.802Z"
      },
      {
        "duration": 12,
        "start_time": "2022-04-14T11:38:30.825Z"
      },
      {
        "duration": 147,
        "start_time": "2022-04-14T11:38:30.839Z"
      },
      {
        "duration": 177,
        "start_time": "2022-04-14T11:38:30.988Z"
      },
      {
        "duration": 139,
        "start_time": "2022-04-14T11:38:31.167Z"
      },
      {
        "duration": 5,
        "start_time": "2022-04-14T11:38:31.309Z"
      },
      {
        "duration": 33,
        "start_time": "2022-04-14T11:38:31.316Z"
      },
      {
        "duration": 22,
        "start_time": "2022-04-14T11:38:31.351Z"
      },
      {
        "duration": 187,
        "start_time": "2022-04-14T11:38:31.374Z"
      },
      {
        "duration": 28,
        "start_time": "2022-04-14T11:38:31.563Z"
      },
      {
        "duration": 10,
        "start_time": "2022-04-14T11:38:31.593Z"
      },
      {
        "duration": 27,
        "start_time": "2022-04-14T11:38:31.605Z"
      },
      {
        "duration": 9,
        "start_time": "2022-04-14T11:38:31.634Z"
      },
      {
        "duration": 15,
        "start_time": "2022-04-14T11:38:31.644Z"
      },
      {
        "duration": 7,
        "start_time": "2022-04-14T11:38:31.662Z"
      },
      {
        "duration": 109,
        "start_time": "2022-04-14T11:38:31.671Z"
      },
      {
        "duration": 7,
        "start_time": "2022-04-14T11:38:31.782Z"
      },
      {
        "duration": 9,
        "start_time": "2022-04-14T11:38:31.793Z"
      },
      {
        "duration": 2549,
        "start_time": "2022-04-14T11:38:31.804Z"
      },
      {
        "duration": 4,
        "start_time": "2022-04-14T11:38:34.354Z"
      },
      {
        "duration": 287,
        "start_time": "2022-04-14T11:38:34.360Z"
      },
      {
        "duration": 398,
        "start_time": "2022-04-14T11:38:34.650Z"
      },
      {
        "duration": 16,
        "start_time": "2022-04-14T11:38:35.050Z"
      },
      {
        "duration": 13389,
        "start_time": "2022-04-14T11:38:35.069Z"
      },
      {
        "duration": 4,
        "start_time": "2022-04-14T11:38:48.460Z"
      },
      {
        "duration": 187,
        "start_time": "2022-04-14T11:38:48.465Z"
      },
      {
        "duration": 261,
        "start_time": "2022-04-14T11:38:48.653Z"
      },
      {
        "duration": 147395,
        "start_time": "2022-04-14T11:38:48.916Z"
      },
      {
        "duration": 16,
        "start_time": "2022-04-14T11:41:16.313Z"
      },
      {
        "duration": 432,
        "start_time": "2022-04-14T11:41:16.331Z"
      },
      {
        "duration": 347,
        "start_time": "2022-04-14T11:41:16.765Z"
      },
      {
        "duration": 18,
        "start_time": "2022-04-14T11:41:17.114Z"
      },
      {
        "duration": 421,
        "start_time": "2022-04-14T11:41:17.134Z"
      },
      {
        "duration": 3472,
        "start_time": "2022-04-14T11:41:17.556Z"
      },
      {
        "duration": 168636,
        "start_time": "2022-04-14T11:41:21.030Z"
      },
      {
        "duration": 297,
        "start_time": "2022-04-14T11:44:09.668Z"
      },
      {
        "duration": 4,
        "start_time": "2022-04-14T11:44:09.967Z"
      },
      {
        "duration": 9,
        "start_time": "2022-04-14T11:44:09.973Z"
      },
      {
        "duration": 11,
        "start_time": "2022-04-14T11:44:09.984Z"
      },
      {
        "duration": 2191,
        "start_time": "2022-04-14T11:44:09.996Z"
      },
      {
        "duration": 7008,
        "start_time": "2022-04-14T11:44:12.188Z"
      },
      {
        "duration": 9,
        "start_time": "2022-04-14T11:44:19.198Z"
      },
      {
        "duration": 315,
        "start_time": "2022-04-14T11:44:19.209Z"
      },
      {
        "duration": 865,
        "start_time": "2022-04-14T11:44:19.526Z"
      },
      {
        "duration": 275,
        "start_time": "2022-04-14T11:44:20.393Z"
      },
      {
        "duration": 13,
        "start_time": "2022-04-15T17:24:30.726Z"
      },
      {
        "duration": 2,
        "start_time": "2022-04-15T17:26:15.615Z"
      },
      {
        "duration": 3,
        "start_time": "2022-04-15T17:27:16.613Z"
      },
      {
        "duration": 41,
        "start_time": "2022-04-15T17:28:47.349Z"
      },
      {
        "duration": 6,
        "start_time": "2022-04-15T17:29:27.274Z"
      },
      {
        "duration": 1535,
        "start_time": "2022-04-15T17:29:32.805Z"
      },
      {
        "duration": 84,
        "start_time": "2022-04-15T17:29:34.342Z"
      },
      {
        "duration": 17,
        "start_time": "2022-04-15T17:29:34.427Z"
      },
      {
        "duration": 3,
        "start_time": "2022-04-15T17:29:34.446Z"
      },
      {
        "duration": 14,
        "start_time": "2022-04-15T17:29:34.450Z"
      },
      {
        "duration": 3,
        "start_time": "2022-04-15T17:29:34.466Z"
      },
      {
        "duration": 8,
        "start_time": "2022-04-15T17:29:34.470Z"
      },
      {
        "duration": 5,
        "start_time": "2022-04-15T17:29:34.479Z"
      },
      {
        "duration": 136,
        "start_time": "2022-04-15T17:29:34.507Z"
      },
      {
        "duration": 6,
        "start_time": "2022-04-15T17:29:34.646Z"
      },
      {
        "duration": 7,
        "start_time": "2022-04-15T17:29:34.653Z"
      },
      {
        "duration": 147,
        "start_time": "2022-04-15T17:29:34.662Z"
      },
      {
        "duration": 128,
        "start_time": "2022-04-15T17:29:34.811Z"
      },
      {
        "duration": 137,
        "start_time": "2022-04-15T17:29:34.940Z"
      },
      {
        "duration": 5,
        "start_time": "2022-04-15T17:29:35.079Z"
      },
      {
        "duration": 22,
        "start_time": "2022-04-15T17:29:35.086Z"
      },
      {
        "duration": 6,
        "start_time": "2022-04-15T17:29:35.110Z"
      },
      {
        "duration": 184,
        "start_time": "2022-04-15T17:29:35.117Z"
      },
      {
        "duration": 32,
        "start_time": "2022-04-15T17:29:35.303Z"
      },
      {
        "duration": 10,
        "start_time": "2022-04-15T17:29:35.336Z"
      },
      {
        "duration": 4,
        "start_time": "2022-04-15T17:29:35.348Z"
      },
      {
        "duration": 3,
        "start_time": "2022-04-15T17:29:35.353Z"
      },
      {
        "duration": 8,
        "start_time": "2022-04-15T17:29:35.358Z"
      },
      {
        "duration": 9,
        "start_time": "2022-04-15T17:29:35.367Z"
      },
      {
        "duration": 102,
        "start_time": "2022-04-15T17:29:35.377Z"
      },
      {
        "duration": 10,
        "start_time": "2022-04-15T17:29:35.481Z"
      },
      {
        "duration": 14,
        "start_time": "2022-04-15T17:29:35.493Z"
      },
      {
        "duration": 8,
        "start_time": "2022-04-15T17:29:35.511Z"
      },
      {
        "duration": 2429,
        "start_time": "2022-04-15T17:29:35.520Z"
      },
      {
        "duration": 3,
        "start_time": "2022-04-15T17:29:37.951Z"
      },
      {
        "duration": 197,
        "start_time": "2022-04-15T17:29:37.955Z"
      },
      {
        "duration": 264,
        "start_time": "2022-04-15T17:29:38.154Z"
      },
      {
        "duration": 10,
        "start_time": "2022-04-15T17:29:38.420Z"
      },
      {
        "duration": 11859,
        "start_time": "2022-04-15T17:29:38.431Z"
      },
      {
        "duration": 3,
        "start_time": "2022-04-15T17:29:50.292Z"
      },
      {
        "duration": 172,
        "start_time": "2022-04-15T17:29:50.296Z"
      },
      {
        "duration": 253,
        "start_time": "2022-04-15T17:29:50.470Z"
      },
      {
        "duration": 135628,
        "start_time": "2022-04-15T17:29:50.724Z"
      },
      {
        "duration": 7,
        "start_time": "2022-04-15T17:32:06.354Z"
      },
      {
        "duration": 450,
        "start_time": "2022-04-15T17:32:06.363Z"
      },
      {
        "duration": 346,
        "start_time": "2022-04-15T17:32:06.815Z"
      },
      {
        "duration": 4,
        "start_time": "2022-04-15T17:32:07.163Z"
      },
      {
        "duration": 20,
        "start_time": "2022-04-15T17:32:07.168Z"
      },
      {
        "duration": 2652,
        "start_time": "2022-04-15T17:32:07.190Z"
      },
      {
        "duration": 135408,
        "start_time": "2022-04-15T17:32:09.844Z"
      },
      {
        "duration": 115,
        "start_time": "2022-04-15T17:34:25.254Z"
      },
      {
        "duration": 0,
        "start_time": "2022-04-15T17:34:25.370Z"
      },
      {
        "duration": 0,
        "start_time": "2022-04-15T17:34:25.372Z"
      },
      {
        "duration": 0,
        "start_time": "2022-04-15T17:34:25.373Z"
      },
      {
        "duration": 0,
        "start_time": "2022-04-15T17:34:25.374Z"
      },
      {
        "duration": 0,
        "start_time": "2022-04-15T17:34:25.375Z"
      },
      {
        "duration": 0,
        "start_time": "2022-04-15T17:34:25.377Z"
      },
      {
        "duration": 0,
        "start_time": "2022-04-15T17:34:25.378Z"
      },
      {
        "duration": 0,
        "start_time": "2022-04-15T17:34:25.379Z"
      },
      {
        "duration": 0,
        "start_time": "2022-04-15T17:34:25.380Z"
      },
      {
        "duration": 312,
        "start_time": "2022-04-15T17:34:56.971Z"
      },
      {
        "duration": 4,
        "start_time": "2022-04-15T17:35:26.963Z"
      },
      {
        "duration": 6,
        "start_time": "2022-04-15T17:35:28.068Z"
      },
      {
        "duration": 16,
        "start_time": "2022-04-15T17:35:29.803Z"
      },
      {
        "duration": 10,
        "start_time": "2022-04-15T17:35:32.354Z"
      },
      {
        "duration": 5,
        "start_time": "2022-04-15T17:36:02.419Z"
      },
      {
        "duration": 6,
        "start_time": "2022-04-15T17:36:04.211Z"
      },
      {
        "duration": 15,
        "start_time": "2022-04-15T17:36:05.635Z"
      },
      {
        "duration": 15,
        "start_time": "2022-04-15T17:36:33.003Z"
      },
      {
        "duration": 15,
        "start_time": "2022-04-15T17:36:39.371Z"
      },
      {
        "duration": 4,
        "start_time": "2022-04-15T17:37:21.508Z"
      },
      {
        "duration": 16,
        "start_time": "2022-04-15T17:37:23.762Z"
      },
      {
        "duration": 1425,
        "start_time": "2022-04-15T17:39:02.701Z"
      },
      {
        "duration": 26,
        "start_time": "2022-04-15T17:39:04.128Z"
      },
      {
        "duration": 19,
        "start_time": "2022-04-15T17:39:04.156Z"
      },
      {
        "duration": 39,
        "start_time": "2022-04-15T17:39:04.178Z"
      },
      {
        "duration": 32,
        "start_time": "2022-04-15T17:39:04.219Z"
      },
      {
        "duration": 4,
        "start_time": "2022-04-15T17:39:04.253Z"
      },
      {
        "duration": 11,
        "start_time": "2022-04-15T17:39:04.259Z"
      },
      {
        "duration": 17,
        "start_time": "2022-04-15T17:39:04.272Z"
      },
      {
        "duration": 151,
        "start_time": "2022-04-15T17:39:04.291Z"
      },
      {
        "duration": 7,
        "start_time": "2022-04-15T17:39:04.445Z"
      },
      {
        "duration": 25,
        "start_time": "2022-04-15T17:39:04.453Z"
      },
      {
        "duration": 157,
        "start_time": "2022-04-15T17:39:04.480Z"
      },
      {
        "duration": 138,
        "start_time": "2022-04-15T17:39:04.639Z"
      },
      {
        "duration": 144,
        "start_time": "2022-04-15T17:39:04.779Z"
      },
      {
        "duration": 6,
        "start_time": "2022-04-15T17:39:04.925Z"
      },
      {
        "duration": 15,
        "start_time": "2022-04-15T17:39:04.932Z"
      },
      {
        "duration": 8,
        "start_time": "2022-04-15T17:39:04.949Z"
      },
      {
        "duration": 207,
        "start_time": "2022-04-15T17:39:04.958Z"
      },
      {
        "duration": 41,
        "start_time": "2022-04-15T17:39:05.167Z"
      },
      {
        "duration": 10,
        "start_time": "2022-04-15T17:39:05.210Z"
      },
      {
        "duration": 13,
        "start_time": "2022-04-15T17:39:05.222Z"
      },
      {
        "duration": 11,
        "start_time": "2022-04-15T17:39:05.236Z"
      },
      {
        "duration": 12,
        "start_time": "2022-04-15T17:39:05.249Z"
      },
      {
        "duration": 7,
        "start_time": "2022-04-15T17:39:05.262Z"
      },
      {
        "duration": 96,
        "start_time": "2022-04-15T17:39:05.270Z"
      },
      {
        "duration": 10,
        "start_time": "2022-04-15T17:39:05.368Z"
      },
      {
        "duration": 6,
        "start_time": "2022-04-15T17:39:05.380Z"
      },
      {
        "duration": 9,
        "start_time": "2022-04-15T17:39:05.407Z"
      },
      {
        "duration": 2658,
        "start_time": "2022-04-15T17:39:05.418Z"
      },
      {
        "duration": 4,
        "start_time": "2022-04-15T17:39:08.078Z"
      },
      {
        "duration": 199,
        "start_time": "2022-04-15T17:39:08.083Z"
      },
      {
        "duration": 275,
        "start_time": "2022-04-15T17:39:08.284Z"
      },
      {
        "duration": 10,
        "start_time": "2022-04-15T17:39:08.561Z"
      },
      {
        "duration": 12701,
        "start_time": "2022-04-15T17:39:08.573Z"
      },
      {
        "duration": 3,
        "start_time": "2022-04-15T17:39:21.276Z"
      },
      {
        "duration": 203,
        "start_time": "2022-04-15T17:39:21.281Z"
      },
      {
        "duration": 270,
        "start_time": "2022-04-15T17:39:21.486Z"
      },
      {
        "duration": 138158,
        "start_time": "2022-04-15T17:39:21.757Z"
      },
      {
        "duration": 8,
        "start_time": "2022-04-15T17:41:39.917Z"
      },
      {
        "duration": 342,
        "start_time": "2022-04-15T17:41:39.926Z"
      },
      {
        "duration": 266,
        "start_time": "2022-04-15T17:41:40.269Z"
      },
      {
        "duration": 4,
        "start_time": "2022-04-15T17:41:40.536Z"
      },
      {
        "duration": 8,
        "start_time": "2022-04-15T17:41:40.542Z"
      },
      {
        "duration": 2767,
        "start_time": "2022-04-15T17:41:40.552Z"
      },
      {
        "duration": 140509,
        "start_time": "2022-04-15T17:41:43.321Z"
      },
      {
        "duration": 337,
        "start_time": "2022-04-15T17:44:03.832Z"
      },
      {
        "duration": 5,
        "start_time": "2022-04-15T17:44:04.170Z"
      },
      {
        "duration": 15,
        "start_time": "2022-04-15T17:44:04.176Z"
      },
      {
        "duration": 21,
        "start_time": "2022-04-15T17:44:04.192Z"
      },
      {
        "duration": 2222,
        "start_time": "2022-04-15T17:44:04.214Z"
      },
      {
        "duration": 7353,
        "start_time": "2022-04-15T17:44:06.437Z"
      },
      {
        "duration": 15,
        "start_time": "2022-04-15T17:44:13.792Z"
      },
      {
        "duration": 337,
        "start_time": "2022-04-15T17:44:13.809Z"
      },
      {
        "duration": 934,
        "start_time": "2022-04-15T17:44:14.148Z"
      },
      {
        "duration": 286,
        "start_time": "2022-04-15T17:44:15.084Z"
      },
      {
        "duration": 363,
        "start_time": "2022-04-15T17:46:54.783Z"
      },
      {
        "duration": 82,
        "start_time": "2022-04-15T18:11:54.382Z"
      },
      {
        "duration": 102,
        "start_time": "2022-04-15T18:11:56.484Z"
      },
      {
        "duration": 1332,
        "start_time": "2022-04-15T18:12:57.650Z"
      },
      {
        "duration": 24,
        "start_time": "2022-04-15T18:12:58.984Z"
      },
      {
        "duration": 16,
        "start_time": "2022-04-15T18:12:59.009Z"
      },
      {
        "duration": 4,
        "start_time": "2022-04-15T18:12:59.027Z"
      },
      {
        "duration": 14,
        "start_time": "2022-04-15T18:12:59.032Z"
      },
      {
        "duration": 3,
        "start_time": "2022-04-15T18:12:59.048Z"
      },
      {
        "duration": 7,
        "start_time": "2022-04-15T18:12:59.053Z"
      },
      {
        "duration": 5,
        "start_time": "2022-04-15T18:12:59.061Z"
      },
      {
        "duration": 164,
        "start_time": "2022-04-15T18:12:59.067Z"
      },
      {
        "duration": 7,
        "start_time": "2022-04-15T18:12:59.233Z"
      },
      {
        "duration": 7,
        "start_time": "2022-04-15T18:12:59.241Z"
      },
      {
        "duration": 148,
        "start_time": "2022-04-15T18:12:59.250Z"
      },
      {
        "duration": 126,
        "start_time": "2022-04-15T18:12:59.400Z"
      },
      {
        "duration": 131,
        "start_time": "2022-04-15T18:12:59.528Z"
      },
      {
        "duration": 5,
        "start_time": "2022-04-15T18:12:59.661Z"
      },
      {
        "duration": 7,
        "start_time": "2022-04-15T18:12:59.668Z"
      },
      {
        "duration": 7,
        "start_time": "2022-04-15T18:12:59.676Z"
      },
      {
        "duration": 185,
        "start_time": "2022-04-15T18:12:59.685Z"
      },
      {
        "duration": 40,
        "start_time": "2022-04-15T18:12:59.872Z"
      },
      {
        "duration": 9,
        "start_time": "2022-04-15T18:12:59.913Z"
      },
      {
        "duration": 3,
        "start_time": "2022-04-15T18:12:59.924Z"
      },
      {
        "duration": 8,
        "start_time": "2022-04-15T18:12:59.928Z"
      },
      {
        "duration": 7,
        "start_time": "2022-04-15T18:12:59.937Z"
      },
      {
        "duration": 4,
        "start_time": "2022-04-15T18:12:59.946Z"
      },
      {
        "duration": 100,
        "start_time": "2022-04-15T18:12:59.951Z"
      },
      {
        "duration": 12,
        "start_time": "2022-04-15T18:13:00.053Z"
      },
      {
        "duration": 7,
        "start_time": "2022-04-15T18:13:00.067Z"
      },
      {
        "duration": 28,
        "start_time": "2022-04-15T18:13:00.079Z"
      },
      {
        "duration": 2518,
        "start_time": "2022-04-15T18:13:00.110Z"
      },
      {
        "duration": 3,
        "start_time": "2022-04-15T18:13:02.630Z"
      },
      {
        "duration": 212,
        "start_time": "2022-04-15T18:13:02.635Z"
      },
      {
        "duration": 279,
        "start_time": "2022-04-15T18:13:02.850Z"
      },
      {
        "duration": 12,
        "start_time": "2022-04-15T18:13:03.131Z"
      },
      {
        "duration": 12236,
        "start_time": "2022-04-15T18:13:03.145Z"
      },
      {
        "duration": 3,
        "start_time": "2022-04-15T18:13:15.383Z"
      },
      {
        "duration": 189,
        "start_time": "2022-04-15T18:13:15.388Z"
      },
      {
        "duration": 278,
        "start_time": "2022-04-15T18:13:15.579Z"
      },
      {
        "duration": 134764,
        "start_time": "2022-04-15T18:13:15.859Z"
      },
      {
        "duration": 8,
        "start_time": "2022-04-15T18:15:30.625Z"
      },
      {
        "duration": 366,
        "start_time": "2022-04-15T18:15:30.634Z"
      },
      {
        "duration": 276,
        "start_time": "2022-04-15T18:15:31.002Z"
      },
      {
        "duration": 4,
        "start_time": "2022-04-15T18:15:31.280Z"
      },
      {
        "duration": 366,
        "start_time": "2022-04-15T18:15:31.286Z"
      },
      {
        "duration": 2616,
        "start_time": "2022-04-15T18:15:31.654Z"
      },
      {
        "duration": 136148,
        "start_time": "2022-04-15T18:15:34.272Z"
      },
      {
        "duration": 329,
        "start_time": "2022-04-15T18:17:50.421Z"
      },
      {
        "duration": 4,
        "start_time": "2022-04-15T18:17:50.751Z"
      },
      {
        "duration": 10,
        "start_time": "2022-04-15T18:17:50.757Z"
      },
      {
        "duration": 11,
        "start_time": "2022-04-15T18:17:50.769Z"
      },
      {
        "duration": 2079,
        "start_time": "2022-04-15T18:17:50.782Z"
      },
      {
        "duration": 6730,
        "start_time": "2022-04-15T18:17:52.862Z"
      },
      {
        "duration": 16,
        "start_time": "2022-04-15T18:17:59.594Z"
      },
      {
        "duration": 323,
        "start_time": "2022-04-15T18:17:59.611Z"
      },
      {
        "duration": 862,
        "start_time": "2022-04-15T18:17:59.935Z"
      },
      {
        "duration": 263,
        "start_time": "2022-04-15T18:18:00.798Z"
      },
      {
        "duration": 15,
        "start_time": "2022-04-15T18:18:01.062Z"
      },
      {
        "duration": 109,
        "start_time": "2022-04-15T18:18:48.968Z"
      },
      {
        "duration": 4,
        "start_time": "2022-04-15T18:18:55.042Z"
      },
      {
        "duration": 1336,
        "start_time": "2022-04-15T18:33:53.638Z"
      },
      {
        "duration": 24,
        "start_time": "2022-04-15T18:33:54.976Z"
      },
      {
        "duration": 17,
        "start_time": "2022-04-15T18:33:55.001Z"
      },
      {
        "duration": 4,
        "start_time": "2022-04-15T18:33:55.019Z"
      },
      {
        "duration": 14,
        "start_time": "2022-04-15T18:33:55.025Z"
      },
      {
        "duration": 3,
        "start_time": "2022-04-15T18:33:55.040Z"
      },
      {
        "duration": 7,
        "start_time": "2022-04-15T18:33:55.045Z"
      },
      {
        "duration": 4,
        "start_time": "2022-04-15T18:33:55.054Z"
      },
      {
        "duration": 152,
        "start_time": "2022-04-15T18:33:55.059Z"
      },
      {
        "duration": 6,
        "start_time": "2022-04-15T18:33:55.213Z"
      },
      {
        "duration": 7,
        "start_time": "2022-04-15T18:33:55.221Z"
      },
      {
        "duration": 138,
        "start_time": "2022-04-15T18:33:55.229Z"
      },
      {
        "duration": 126,
        "start_time": "2022-04-15T18:33:55.369Z"
      },
      {
        "duration": 132,
        "start_time": "2022-04-15T18:33:55.497Z"
      },
      {
        "duration": 5,
        "start_time": "2022-04-15T18:33:55.631Z"
      },
      {
        "duration": 5,
        "start_time": "2022-04-15T18:33:55.638Z"
      },
      {
        "duration": 5,
        "start_time": "2022-04-15T18:33:55.645Z"
      },
      {
        "duration": 179,
        "start_time": "2022-04-15T18:33:55.652Z"
      },
      {
        "duration": 30,
        "start_time": "2022-04-15T18:33:55.833Z"
      },
      {
        "duration": 10,
        "start_time": "2022-04-15T18:33:55.865Z"
      },
      {
        "duration": 4,
        "start_time": "2022-04-15T18:33:55.877Z"
      },
      {
        "duration": 25,
        "start_time": "2022-04-15T18:33:55.883Z"
      },
      {
        "duration": 9,
        "start_time": "2022-04-15T18:33:55.909Z"
      },
      {
        "duration": 4,
        "start_time": "2022-04-15T18:33:55.919Z"
      },
      {
        "duration": 88,
        "start_time": "2022-04-15T18:33:55.925Z"
      },
      {
        "duration": 10,
        "start_time": "2022-04-15T18:33:56.015Z"
      },
      {
        "duration": 5,
        "start_time": "2022-04-15T18:33:56.027Z"
      },
      {
        "duration": 9,
        "start_time": "2022-04-15T18:33:56.036Z"
      },
      {
        "duration": 2501,
        "start_time": "2022-04-15T18:33:56.047Z"
      },
      {
        "duration": 3,
        "start_time": "2022-04-15T18:33:58.550Z"
      },
      {
        "duration": 190,
        "start_time": "2022-04-15T18:33:58.555Z"
      },
      {
        "duration": 262,
        "start_time": "2022-04-15T18:33:58.747Z"
      },
      {
        "duration": 10,
        "start_time": "2022-04-15T18:33:59.010Z"
      },
      {
        "duration": 12198,
        "start_time": "2022-04-15T18:33:59.022Z"
      },
      {
        "duration": 4,
        "start_time": "2022-04-15T18:34:11.222Z"
      },
      {
        "duration": 194,
        "start_time": "2022-04-15T18:34:11.227Z"
      },
      {
        "duration": 267,
        "start_time": "2022-04-15T18:34:11.423Z"
      },
      {
        "duration": 132648,
        "start_time": "2022-04-15T18:34:11.692Z"
      },
      {
        "duration": 8,
        "start_time": "2022-04-15T18:36:24.342Z"
      },
      {
        "duration": 397,
        "start_time": "2022-04-15T18:36:24.351Z"
      },
      {
        "duration": 260,
        "start_time": "2022-04-15T18:36:24.749Z"
      },
      {
        "duration": 4,
        "start_time": "2022-04-15T18:36:25.011Z"
      },
      {
        "duration": 336,
        "start_time": "2022-04-15T18:36:25.017Z"
      },
      {
        "duration": 2631,
        "start_time": "2022-04-15T18:36:25.355Z"
      },
      {
        "duration": 133393,
        "start_time": "2022-04-15T18:36:27.987Z"
      },
      {
        "duration": 357,
        "start_time": "2022-04-15T18:38:41.381Z"
      },
      {
        "duration": 4,
        "start_time": "2022-04-15T18:38:41.740Z"
      },
      {
        "duration": 7,
        "start_time": "2022-04-15T18:38:41.745Z"
      },
      {
        "duration": 10,
        "start_time": "2022-04-15T18:38:41.753Z"
      },
      {
        "duration": 2095,
        "start_time": "2022-04-15T18:38:41.764Z"
      },
      {
        "duration": 6901,
        "start_time": "2022-04-15T18:38:43.860Z"
      },
      {
        "duration": 9,
        "start_time": "2022-04-15T18:38:50.762Z"
      },
      {
        "duration": 351,
        "start_time": "2022-04-15T18:38:50.772Z"
      },
      {
        "duration": 883,
        "start_time": "2022-04-15T18:38:51.124Z"
      },
      {
        "duration": 260,
        "start_time": "2022-04-15T18:38:52.008Z"
      },
      {
        "duration": 15,
        "start_time": "2022-04-15T18:38:52.269Z"
      },
      {
        "duration": 4,
        "start_time": "2022-04-15T18:38:52.285Z"
      }
    ],
    "kernelspec": {
      "display_name": "Python 3 (ipykernel)",
      "language": "python",
      "name": "python3"
    },
    "language_info": {
      "codemirror_mode": {
        "name": "ipython",
        "version": 3
      },
      "file_extension": ".py",
      "mimetype": "text/x-python",
      "name": "python",
      "nbconvert_exporter": "python",
      "pygments_lexer": "ipython3",
      "version": "3.9.5"
    },
    "toc": {
      "base_numbering": 1,
      "nav_menu": {},
      "number_sections": true,
      "sideBar": true,
      "skip_h1_title": true,
      "title_cell": "Содержание",
      "title_sidebar": "Contents",
      "toc_cell": true,
      "toc_position": {
        "height": "calc(100% - 180px)",
        "left": "10px",
        "top": "150px",
        "width": "165px"
      },
      "toc_section_display": true,
      "toc_window_display": true
    },
    "colab": {
      "name": "07_RU_Supervised_learning.ipynb",
      "provenance": [],
      "include_colab_link": true
    }
  },
  "nbformat": 4,
  "nbformat_minor": 0
}